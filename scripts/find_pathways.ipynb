{
 "cells": [
  {
   "cell_type": "markdown",
   "metadata": {},
   "source": [
    "# Identify Paths from BOTTLE proposed route"
   ]
  },
  {
   "cell_type": "code",
   "execution_count": 19,
   "metadata": {
    "tags": []
   },
   "outputs": [],
   "source": [
    "import sys\n",
    "import os\n",
    "CWD = os.path.abspath(\"\")\n",
    "os.chdir(CWD)\n",
    "sys.path = ['/home/stef/Tb/pickaxe/'] + sys.path\n",
    "\n",
    "from minedatabase.pickaxe import Pickaxe\n",
    "from minedatabase.utils import get_compound_hash\n",
    "from minedatabase.rules import metacyc_intermediate\n",
    "from minedatabase.filters import (\n",
    "    SimilarityFilter,\n",
    "    SimilaritySamplingFilter,\n",
    ")\n",
    "\n",
    "from rdkit.Chem import CanonSmiles\n",
    "\n",
    "str_dir = \"../data/starters_targets_rules/\"\n",
    "\n",
    "input_cpds = str_dir + \"3M2O.csv\"\n",
    "target_cpds = str_dir + \"aGDM_Target.csv\"\n",
    "rule_list = str_dir + \"JN_no_any_no_co2_rules.tsv\"\n",
    "_, coreactant_list, rule_name = metacyc_intermediate(\n",
    "    # fraction_coverage=1\n",
    "    n_rules=5\n",
    ")"
   ]
  },
  {
   "cell_type": "code",
   "execution_count": 3,
   "metadata": {
    "tags": []
   },
   "outputs": [
    {
     "name": "stdout",
     "output_type": "stream",
     "text": [
      "----------------------------------------\n",
      "Intializing pickaxe object\n"
     ]
    },
    {
     "name": "stderr",
     "output_type": "stream",
     "text": [
      "RDKit WARNING: [12:17:12] WARNING: not removing hydrogen atom without neighbors\n",
      "[12:17:12] WARNING: not removing hydrogen atom without neighbors\n",
      "RDKit WARNING: [12:17:12] WARNING: not removing hydrogen atom without neighbors\n",
      "[12:17:12] WARNING: not removing hydrogen atom without neighbors\n"
     ]
    },
    {
     "name": "stdout",
     "output_type": "stream",
     "text": [
      "\n",
      "Done intializing pickaxe object\n",
      "----------------------------------------\n",
      "\n",
      "1 compounds loaded...\n",
      "(1 after removing stereochemistry)\n",
      "1 target compounds loaded\n",
      "\n"
     ]
    }
   ],
   "source": [
    "pk = Pickaxe(\n",
    "        coreactant_list=coreactant_list,\n",
    "        rule_list=rule_list,\n",
    "        errors=True,\n",
    "        quiet=True,\n",
    "        filter_after_final_gen=True,\n",
    "    )\n",
    "\n",
    "pk.load_compound_set(compound_file=input_cpds)\n",
    "\n",
    "pk.load_targets(target_cpds)\n",
    "tani_filter = True\n",
    "tani_threshold = [0, 0, 0.3, 0.3, 0.3]\n",
    "increasing_tani=False\n",
    "\n",
    "tani_sample = False\n",
    "sample_size = 10\n",
    "weight = 5\n",
    "\n",
    "# Apply filters\n",
    "if tani_filter:\n",
    "    taniFilter = SimilarityFilter(\n",
    "        crit_similarity=tani_threshold, increasing_similarity=increasing_tani\n",
    "    )\n",
    "    pk.filters.append(taniFilter)\n",
    "\n",
    "if tani_sample:\n",
    "    taniSampleFilter = SimilaritySamplingFilter(\n",
    "        sample_size=sample_size, weight=weight\n",
    "    )\n",
    "    pk.filters.append(taniSampleFilter)\n",
    "    pass"
   ]
  },
  {
   "cell_type": "code",
   "execution_count": 5,
   "metadata": {
    "tags": []
   },
   "outputs": [
    {
     "name": "stdout",
     "output_type": "stream",
     "text": [
      "----------------------------------------\n",
      "Filtering Generation 0\n",
      "\n",
      "Applying filter: Similarity Cutoff\n",
      "Filtering Generation 0 with similarity > 0.\n",
      "Similarity filter progress: 0 percent complete\n",
      "Similarity filter progress: 100 percent complete\n",
      "1 of 1 compounds selected after Similarity filtering of generation 0 at cutoff of 0. --took 0.0s.\n",
      "\n",
      "Done filtering Generation 0\n",
      "----------------------------------------\n",
      "\n",
      "----------------------------------------\n",
      "Expanding Generation 1\n",
      "\n",
      "Generation 1: 0 percent complete\n",
      "Generation 1 finished in 2.3979599475860596 s and contains:\n",
      "\t\t50 new compounds\n",
      "\t\t58 new reactions\n",
      "\n",
      "Done expanding Generation: 1.\n",
      "----------------------------------------\n",
      "\n",
      "----------------------------------------\n",
      "Filtering Generation 1\n",
      "\n",
      "Applying filter: Similarity Cutoff\n",
      "Filtering Generation 1 with similarity > 0.\n",
      "Similarity filter progress: 0 percent complete\n",
      "Similarity filter progress: 10 percent complete\n",
      "Similarity filter progress: 20 percent complete\n",
      "Similarity filter progress: 30 percent complete\n",
      "Similarity filter progress: 40 percent complete\n",
      "Similarity filter progress: 50 percent complete\n",
      "Similarity filter progress: 60 percent complete\n",
      "Similarity filter progress: 70 percent complete\n",
      "Similarity filter progress: 80 percent complete\n",
      "Similarity filter progress: 90 percent complete\n",
      "Similarity filter progress: 100 percent complete\n",
      "50 of 50 compounds selected after Similarity filtering of generation 1 at cutoff of 0. --took 0.09s.\n",
      "\n",
      "Done filtering Generation 1\n",
      "----------------------------------------\n",
      "\n",
      "----------------------------------------\n",
      "Pruning to 1 target compounds\n",
      "Pruned network to 0 compounds and 0 reactions based on 1 whitelisted compounds.\n",
      "\n",
      "Found 0 targets.\n",
      "Pruning took 5.745887756347656e-05s\n",
      "----------------------------------------\n",
      "\n"
     ]
    }
   ],
   "source": [
    "# Transform compounds (the main step)\n",
    "processes = 1\n",
    "generations = 1\n",
    "pk.transform_all(processes, generations)\n",
    "pk.prune_network_to_targets()"
   ]
  },
  {
   "cell_type": "code",
   "execution_count": 6,
   "metadata": {
    "tags": []
   },
   "outputs": [],
   "source": [
    "bad_es = []\n",
    "for i, vals in pk.compounds.items():\n",
    "    try:\n",
    "        pk.compounds[i][\"SMILES\"] = CanonSmiles(vals[\"SMILES\"])\n",
    "    except BaseException as e:\n",
    "        bad_es.append(vals[\"SMILES\"])\n",
    "        pk.compounds[i][\"SMILES\"] = vals[\"SMILES\"].replace(\"*\", \"\")\n",
    "        "
   ]
  },
  {
   "cell_type": "code",
   "execution_count": 8,
   "metadata": {},
   "outputs": [
    {
     "data": {
      "text/plain": [
       "'/home/stef/Tb/bottle/scripts'"
      ]
     },
     "execution_count": 8,
     "metadata": {},
     "output_type": "execute_result"
    }
   ],
   "source": [
    "os.getcwd()"
   ]
  },
  {
   "cell_type": "code",
   "execution_count": 9,
   "metadata": {
    "tags": []
   },
   "outputs": [],
   "source": [
    "pk.pickle_pickaxe(\"../data/expansions/4gen_varTanimotoCutoff.pk\") # Save results"
   ]
  },
  {
   "cell_type": "code",
   "execution_count": 10,
   "metadata": {
    "tags": []
   },
   "outputs": [
    {
     "name": "stdout",
     "output_type": "stream",
     "text": [
      "Loading ../data/expansions/4gen_varTanimotoCutoff.pk pickled data.\n",
      "Loaded 2558 operators\n",
      "Loaded 1 targets\n",
      "Took 1.7630207538604736\n"
     ]
    }
   ],
   "source": [
    "pk.load_pickled_pickaxe(\"../data/expansions/4gen_varTanimotoCutoff.pk\") # Load results"
   ]
  },
  {
   "cell_type": "markdown",
   "metadata": {},
   "source": [
    "# Generate Pathways"
   ]
  },
  {
   "cell_type": "code",
   "execution_count": 11,
   "metadata": {
    "tags": []
   },
   "outputs": [],
   "source": [
    "from pathway_utils import create_graph_from_pickaxe\n",
    "\n",
    "# Function to patch older results that weren't made with updated PickaxeGeneric code\n",
    "def rename_smiles_reaction(pk):\n",
    "    for rxn in pk.reactions.values():\n",
    "        rxn[\"SMILES_rxn\"] = rxn[\"SMILES_reaction\"]\n",
    "        \n",
    "# Create the initial graph\n",
    "DG, rxn, edge = create_graph_from_pickaxe(pk, \"Biology\")\n",
    "starting_nodes = []\n",
    "bad_nodes = []\n",
    "for n in DG.nodes():\n",
    "    try:\n",
    "        if DG.nodes()[n][\"Type\"] == \"Starting Compound\":\n",
    "            starting_nodes.append(n)\n",
    "    except:\n",
    "        bad_nodes.append(n)"
   ]
  },
  {
   "cell_type": "code",
   "execution_count": 12,
   "metadata": {
    "tags": []
   },
   "outputs": [],
   "source": [
    "from minedatabase.pickaxe import Pickaxe\n",
    "from minedatabase import utils\n",
    "\n",
    "import PIL\n",
    "\n",
    "from rdkit.Chem import AllChem\n",
    "from rdkit.Chem import Draw\n",
    "from pathway_utils import (\n",
    "    Pathway, count_cpds_and_rxns, get_reverse_paths_to_starting, path_to_generation, create_graph_from_pickaxe, add_nodes_from_pickaxe\n",
    ")\n",
    "\n",
    "def get_found_locations(smi):\n",
    "    isin_list = []\n",
    "    for key, val in df_stereo_matches.items():\n",
    "        if smi in val:\n",
    "            isin_list.append(key)\n",
    "            \n",
    "    return isin_list\n",
    "\n",
    "class Pathways:\n",
    "    def __init__(self, target_cid, pathways, DG, feas_dict):\n",
    "        self.target_id = target_cid\n",
    "        self.pathways = [Pathway(target_cid, pathway, DG, feas_dict) for pathway in pathways]\n",
    "\n",
    "    @property\n",
    "    def terminal_generation(self):\n",
    "        return [pathway.terminal_generation for pathway in self.pathways]\n",
    "    \n",
    "\n",
    "rules_to_exclude = ['rule0028_46']\n",
    "# rules_to_exclude = ['rule0028_51', 'rule0028_46', 'rule0028_50', 'rule0043_12']\n",
    "rules_to_exclude = ['rule0028_51', 'rule0028_46', 'rule0028_50']\n",
    "# rules_to_exclude = ['rule0028_50', 'rule0043_12']\n",
    "# rules_to_exclude = []\n",
    "\n",
    "def contains_rule(pathway, DG):\n",
    "    rules = set()\n",
    "    for keyi in pathway.reaction_stoichs.keys():\n",
    "        rules_i = DG.nodes()[keyi][\"Rule\"]\n",
    "        rules.update(rules_i)\n",
    "\n",
    "    for rule in rules_to_exclude:\n",
    "        if rule in rules:\n",
    "            return True\n",
    "        \n",
    "    return False"
   ]
  },
  {
   "cell_type": "code",
   "execution_count": 18,
   "metadata": {},
   "outputs": [
    {
     "data": {
      "text/plain": [
       "{}"
      ]
     },
     "execution_count": 18,
     "metadata": {},
     "output_type": "execute_result"
    }
   ],
   "source": [
    "paths_dict"
   ]
  },
  {
   "cell_type": "code",
   "execution_count": 17,
   "metadata": {
    "tags": []
   },
   "outputs": [
    {
     "ename": "KeyError",
     "evalue": "'Cc2274a1b151121868789bd03eb37b9c4065ef3d1'",
     "output_type": "error",
     "traceback": [
      "\u001b[0;31m---------------------------------------------------------------------------\u001b[0m",
      "\u001b[0;31mKeyError\u001b[0m                                  Traceback (most recent call last)",
      "\u001b[0;32m/tmp/ipykernel_88481/371030953.py\u001b[0m in \u001b[0;36m<module>\u001b[0;34m\u001b[0m\n\u001b[1;32m     19\u001b[0m \u001b[0;34m\u001b[0m\u001b[0m\n\u001b[1;32m     20\u001b[0m \u001b[0mtarget_cid\u001b[0m \u001b[0;34m=\u001b[0m \u001b[0mtarget_cids\u001b[0m\u001b[0;34m[\u001b[0m\u001b[0;36m0\u001b[0m\u001b[0;34m]\u001b[0m\u001b[0;34m\u001b[0m\u001b[0;34m\u001b[0m\u001b[0m\n\u001b[0;32m---> 21\u001b[0;31m \u001b[0mtarget_paths\u001b[0m \u001b[0;34m=\u001b[0m \u001b[0;34m[\u001b[0m\u001b[0mPathway\u001b[0m\u001b[0;34m(\u001b[0m\u001b[0mtarget_cid\u001b[0m\u001b[0;34m,\u001b[0m \u001b[0mpathway\u001b[0m\u001b[0;34m,\u001b[0m \u001b[0mDG\u001b[0m\u001b[0;34m,\u001b[0m \u001b[0mfeas_dict\u001b[0m\u001b[0;34m)\u001b[0m \u001b[0;32mfor\u001b[0m \u001b[0mpathway\u001b[0m \u001b[0;32min\u001b[0m \u001b[0mpaths_dict\u001b[0m\u001b[0;34m[\u001b[0m\u001b[0mtarget_cid\u001b[0m\u001b[0;34m]\u001b[0m\u001b[0;34m]\u001b[0m\u001b[0;34m\u001b[0m\u001b[0;34m\u001b[0m\u001b[0m\n\u001b[0m\u001b[1;32m     22\u001b[0m \u001b[0;34m\u001b[0m\u001b[0m\n\u001b[1;32m     23\u001b[0m \u001b[0mpathways\u001b[0m \u001b[0;34m=\u001b[0m \u001b[0mPathways\u001b[0m\u001b[0;34m(\u001b[0m\u001b[0mtarget_cid\u001b[0m\u001b[0;34m,\u001b[0m \u001b[0mpaths_dict\u001b[0m\u001b[0;34m[\u001b[0m\u001b[0mtarget_cids\u001b[0m\u001b[0;34m[\u001b[0m\u001b[0;36m0\u001b[0m\u001b[0;34m]\u001b[0m\u001b[0;34m]\u001b[0m\u001b[0;34m,\u001b[0m \u001b[0mDG\u001b[0m\u001b[0;34m,\u001b[0m \u001b[0mfeas_dict\u001b[0m\u001b[0;34m)\u001b[0m\u001b[0;34m\u001b[0m\u001b[0;34m\u001b[0m\u001b[0m\n",
      "\u001b[0;31mKeyError\u001b[0m: 'Cc2274a1b151121868789bd03eb37b9c4065ef3d1'"
     ]
    }
   ],
   "source": [
    "# Params\n",
    "max_depth = generations*2\n",
    "paths_dict = {}\n",
    "\n",
    "# Fake feas dict\n",
    "feas_dict = {rxn: True for rxn in [i for i in DG.nodes() if i.startswith(\"R\")]}\n",
    "\n",
    "# Specify Targets / Starting Cpds\n",
    "target_smi = pk.target_smiles[0]\n",
    "target_cids = [get_compound_hash(smi)[0] for smi in pk.target_smiles]\n",
    "starting_cpds = [get_compound_hash(val[\"SMILES\"])[0] for val in pk.compounds.values() if val[\"Type\"].startswith(\"Start\")]\n",
    "\n",
    "# Loop through targets and get pathways from targets to starting compounds\n",
    "for node in target_cids:\n",
    "    paths = get_reverse_paths_to_starting(DG, begin_node=node, end_nodes=starting_cpds, max_depth=max_depth)\n",
    "    # If we find paths then reverse those paths and assign to a dictionary\n",
    "    if paths:\n",
    "        paths_dict[node] = list(set([tuple(path[1::2]) for path in [[*reversed(ind_path)] for ind_path in paths]]))\n",
    "\n",
    "target_cid = target_cids[0]\n",
    "target_paths = [Pathway(target_cid, pathway, DG, feas_dict) for pathway in paths_dict[target_cid]]\n",
    "\n",
    "pathways = Pathways(target_cid, paths_dict[target_cids[0]], DG, feas_dict)\n",
    "pathways.pathways = [path for path in pathways.pathways if not (target_smi in path.sources)] # target is starting\n",
    "\n",
    "len(pathways.pathways)"
   ]
  },
  {
   "cell_type": "code",
   "execution_count": 14,
   "metadata": {
    "tags": []
   },
   "outputs": [
    {
     "ename": "KeyError",
     "evalue": "'Cc2274a1b151121868789bd03eb37b9c4065ef3d1'",
     "output_type": "error",
     "traceback": [
      "\u001b[0;31m---------------------------------------------------------------------------\u001b[0m",
      "\u001b[0;31mKeyError\u001b[0m                                  Traceback (most recent call last)",
      "\u001b[0;32m/tmp/ipykernel_88481/594844297.py\u001b[0m in \u001b[0;36m<module>\u001b[0;34m\u001b[0m\n\u001b[1;32m      1\u001b[0m \u001b[0mn\u001b[0m \u001b[0;34m=\u001b[0m \u001b[0;36m0\u001b[0m\u001b[0;34m\u001b[0m\u001b[0;34m\u001b[0m\u001b[0m\n\u001b[0;32m----> 2\u001b[0;31m \u001b[0mpaths\u001b[0m \u001b[0;34m=\u001b[0m \u001b[0mpaths_dict\u001b[0m\u001b[0;34m[\u001b[0m\u001b[0mtarget_cids\u001b[0m\u001b[0;34m[\u001b[0m\u001b[0;36m0\u001b[0m\u001b[0;34m]\u001b[0m\u001b[0;34m]\u001b[0m\u001b[0;34m[\u001b[0m\u001b[0mn\u001b[0m\u001b[0;34m]\u001b[0m\u001b[0;34m\u001b[0m\u001b[0;34m\u001b[0m\u001b[0m\n\u001b[0m\u001b[1;32m      3\u001b[0m \u001b[0;34m\u001b[0m\u001b[0m\n\u001b[1;32m      4\u001b[0m \u001b[0mi\u001b[0m \u001b[0;34m=\u001b[0m \u001b[0;36m0\u001b[0m\u001b[0;34m\u001b[0m\u001b[0;34m\u001b[0m\u001b[0m\n\u001b[1;32m      5\u001b[0m \u001b[0;32mwhile\u001b[0m \u001b[0mi\u001b[0m \u001b[0;34m<\u001b[0m \u001b[0mlen\u001b[0m\u001b[0;34m(\u001b[0m\u001b[0mpaths\u001b[0m\u001b[0;34m)\u001b[0m\u001b[0;34m:\u001b[0m\u001b[0;34m\u001b[0m\u001b[0;34m\u001b[0m\u001b[0m\n",
      "\u001b[0;31mKeyError\u001b[0m: 'Cc2274a1b151121868789bd03eb37b9c4065ef3d1'"
     ]
    }
   ],
   "source": [
    "n = 0\n",
    "paths = paths_dict[target_cids[0]][n]\n",
    "\n",
    "i = 0\n",
    "while i < len(paths):\n",
    "    if contains_rule(pathways.pathways[i], DG):\n",
    "        i += 1\n",
    "    else:\n",
    "        ix = i\n",
    "        rxn_stoichs = pathways.pathways[ix].reaction_stoichs\n",
    "        # print(\"Thermo\", ix)\n",
    "        # print(\"MDF \", pathways.pathways[ix].MDF)\n",
    "        # print(\"Sequence \", pathways.pathways[ix].reaction_types)\n",
    "        # print(\"Starting\", pathways.pathways[ix].sources)\n",
    "        # print(\"Sinks\", pathways.pathways[ix].sinks)\n",
    "\n",
    "        reactions = []\n",
    "        for rxn_stoich in rxn_stoichs.values():\n",
    "            products = \".\".join([\".\".join([smi]*stoich) for smi, stoich in rxn_stoich.items() if stoich >= 0])\n",
    "            reactants = \".\".join([\".\".join([smi]*abs(stoich)) for smi, stoich in rxn_stoich.items() if stoich <= 0])\n",
    "\n",
    "            reaction = \">>\".join([reactants, products])\n",
    "            reactions.append(reaction)\n",
    "\n",
    "        ri = -1\n",
    "        i +=1 \n",
    "\n",
    "        # for keyi in pathways.pathways[ix].reaction_stoichs.keys():\n",
    "        #     print(keyi, DG.nodes()[keyi])\n",
    "        \n",
    "        # print(reactions)\n",
    "        break\n",
    "\n",
    "rxn_images = [\n",
    "    Draw.ReactionToImage(\n",
    "        AllChem.ReactionFromSmarts(rxn, useSmiles=True),\n",
    "        subImgSize=(200, 200), useSVG=False, drawOptions=None, returnPNG=False\n",
    "    ) for rxn in reactions\n",
    "]\n",
    "\n",
    "def get_concat_v(im1, im2):\n",
    "    dst = PIL.Image.new('RGB', (im1.width, im1.height + im2.height))\n",
    "    dst.paste(im1, (0, 0))\n",
    "    dst.paste(im2, (0, im1.height))\n",
    "    return dst\n",
    "\n",
    "# image = rxn_images[0]\n",
    "# for rxn_image in rxn_images[1:]:\n",
    "#     image = get_concat_v(image, rxn_image)\n",
    "\n",
    "# image"
   ]
  },
  {
   "cell_type": "code",
   "execution_count": 15,
   "metadata": {
    "tags": []
   },
   "outputs": [
    {
     "ename": "NameError",
     "evalue": "name 'pathways' is not defined",
     "output_type": "error",
     "traceback": [
      "\u001b[0;31m---------------------------------------------------------------------------\u001b[0m",
      "\u001b[0;31mNameError\u001b[0m                                 Traceback (most recent call last)",
      "\u001b[0;32m/tmp/ipykernel_88481/1299923717.py\u001b[0m in \u001b[0;36m<module>\u001b[0;34m\u001b[0m\n\u001b[0;32m----> 1\u001b[0;31m \u001b[0;32mfor\u001b[0m \u001b[0mi\u001b[0m \u001b[0;32min\u001b[0m \u001b[0mrange\u001b[0m\u001b[0;34m(\u001b[0m\u001b[0mlen\u001b[0m\u001b[0;34m(\u001b[0m\u001b[0mpathways\u001b[0m\u001b[0;34m.\u001b[0m\u001b[0mpathways\u001b[0m\u001b[0;34m)\u001b[0m\u001b[0;34m)\u001b[0m\u001b[0;34m:\u001b[0m\u001b[0;34m\u001b[0m\u001b[0;34m\u001b[0m\u001b[0m\n\u001b[0m\u001b[1;32m      2\u001b[0m     \u001b[0;32mif\u001b[0m \u001b[0mcontains_rule\u001b[0m\u001b[0;34m(\u001b[0m\u001b[0mpathways\u001b[0m\u001b[0;34m.\u001b[0m\u001b[0mpathways\u001b[0m\u001b[0;34m[\u001b[0m\u001b[0mi\u001b[0m\u001b[0;34m]\u001b[0m\u001b[0;34m,\u001b[0m \u001b[0mDG\u001b[0m\u001b[0;34m)\u001b[0m\u001b[0;34m:\u001b[0m\u001b[0;34m\u001b[0m\u001b[0;34m\u001b[0m\u001b[0m\n\u001b[1;32m      3\u001b[0m         \u001b[0mprint\u001b[0m\u001b[0;34m(\u001b[0m\u001b[0;34m'bad rule'\u001b[0m\u001b[0;34m)\u001b[0m\u001b[0;34m\u001b[0m\u001b[0;34m\u001b[0m\u001b[0m\n",
      "\u001b[0;31mNameError\u001b[0m: name 'pathways' is not defined"
     ]
    }
   ],
   "source": [
    "for i in range(len(pathways.pathways)):\n",
    "    if contains_rule(pathways.pathways[i], DG):\n",
    "        print('bad rule')"
   ]
  },
  {
   "cell_type": "code",
   "execution_count": 224,
   "metadata": {},
   "outputs": [],
   "source": [
    "i=0"
   ]
  },
  {
   "cell_type": "code",
   "execution_count": 225,
   "metadata": {
    "tags": []
   },
   "outputs": [
    {
     "name": "stdout",
     "output_type": "stream",
     "text": [
      "0\n",
      "0\n",
      "1\n",
      "R80a7a110576dd9b716c5ac27e08710b427f778bf2f6763c2eeec68924b302f00 {'bipartite': 1, 'Rule': {'rule0043_12'}, 'Type': 'Biology', 'Stoich': {'CC(C)C(=O)O': -1, 'C[S+](CCC(N)C(=O)O)CC1OC(n2cnc3c(N)ncnc32)C(O)C1O': -1, 'CC(C)(C)C(=O)O': 1, 'Nc1ncnc2c1ncn2C1OC(CSCCC(N)C(=O)O)C(O)C1O': 1}, 'feasible': None, 'Reactants': [(1, 'C2d94449d2035580e3a2de661386c29c111c7bf71'), (1, 'X9b5ec04e3e13766613e65d29e9d5b275fd8a0317')], 'Products': [(1, 'Xca3125292d42b5595b65696d5cd74e007b886297'), (1, 'C743d3d3a4a0e2cf0e31d4d7623c0d79884571a95')]}\n",
      "Ra70122a22903bfb5cde4f132c01565531ee96e8a1ae6a48b48526025b265eba6 {'bipartite': 1, 'Rule': {'rule0028_47'}, 'Type': 'Biology', 'Stoich': {'CC(C)(C)C(=O)O': -1, 'CCC(C)C(=O)O': 1}, 'feasible': None, 'Reactants': [(1, 'C743d3d3a4a0e2cf0e31d4d7623c0d79884571a95')], 'Products': [(1, 'Cf30f602c179c10791dd924abb7522ea6a08a3e38')]}\n",
      "R3979793aba19327737f15d29e02daf6ccc555a0b9fbe6caabecb063d9b9cb6e3 {'bipartite': 1, 'Rule': {'rule0004_13'}, 'Type': 'Biology', 'Stoich': {'CCC(C)C(=O)O': -1, 'NC(=O)C1=CN(C2OC(COP(=O)(O)OP(=O)(O)OCC3OC(n4cnc5c(N)ncnc54)C(OP(=O)(O)O)C3O)C(O)C2O)C=CC1': -1, 'O=O': -1, 'CC(O)C(C)C(=O)O': 1, 'NC(=O)c1ccc[n+](C2OC(COP(=O)(O)OP(=O)(O)OCC3OC(n4cnc5c(N)ncnc54)C(OP(=O)(O)O)C3O)C(O)C2O)c1': 1, 'O': 1}, 'feasible': None, 'Reactants': [(1, 'Cf30f602c179c10791dd924abb7522ea6a08a3e38'), (1, 'X281e38d790b809dc908f7c9749d5274a6d8280c4'), (1, 'X8dc023d8052d83fb6feadf8541387e57c199cad0')], 'Products': [(1, 'C1809f94f2ea81ba9ec66aaffff985d46afc542bd'), (1, 'X151d45ce062c088336cff9e45bc138b6a63626fe'), (1, 'X73bc8ef21db580aefe4dbc0af17d4013961d9d17')]}\n",
      "R0078ec76989b3b8084ad3e513efbf94702e470a4a1628cefd8f074c5d936dcef {'bipartite': 1, 'Rule': {'rule0043_12'}, 'Type': 'Biology', 'Stoich': {'CC(O)C(C)C(=O)O': -1, 'C[S+](CCC(N)C(=O)O)CC1OC(n2cnc3c(N)ncnc32)C(O)C1O': -1, 'CC(O)C(C)(C)C(=O)O': 1, 'Nc1ncnc2c1ncn2C1OC(CSCCC(N)C(=O)O)C(O)C1O': 1}, 'feasible': None, 'Reactants': [(1, 'C1809f94f2ea81ba9ec66aaffff985d46afc542bd'), (1, 'X9b5ec04e3e13766613e65d29e9d5b275fd8a0317')], 'Products': [(1, 'Xca3125292d42b5595b65696d5cd74e007b886297'), (1, 'Cc2274a1b151121868789bd03eb37b9c4065ef3d1')]}\n"
     ]
    },
    {
     "data": {
      "image/png": "[encoded data removed]",
      "text/plain": [
       "<rdkit.Chem.rdChemReactions.ChemicalReaction at 0x7f8450e8fb70>"
      ]
     },
     "execution_count": 225,
     "metadata": {},
     "output_type": "execute_result"
    }
   ],
   "source": [
    "paths = paths_dict[target_cids[0]][i]\n",
    "\n",
    "print(i)\n",
    "rxn_stoichs = pathways.pathways[i].reaction_stoichs\n",
    "\n",
    "while contains_rule(pathways.pathways[i], DG):\n",
    "    print(i)\n",
    "    i += 1\n",
    "\n",
    "reactions = []\n",
    "for rxn_stoich in rxn_stoichs.values():\n",
    "    products = \".\".join([\".\".join([smi]*stoich) for smi, stoich in rxn_stoich.items() if stoich >= 0])\n",
    "    reactants = \".\".join([\".\".join([smi]*abs(stoich)) for smi, stoich in rxn_stoich.items() if stoich <= 0])\n",
    "\n",
    "    reaction = \">>\".join([reactants, products])\n",
    "    reactions.append(reaction)\n",
    "\n",
    "for keyi in pathways.pathways[i].reaction_stoichs.keys():\n",
    "    print(keyi, DG.nodes()[keyi])\n",
    "i += 1\n",
    "AllChem.ReactionFromSmarts(reactions[0], useSmiles=True)"
   ]
  },
  {
   "cell_type": "code",
   "execution_count": 181,
   "metadata": {},
   "outputs": [
    {
     "data": {
      "text/plain": [
       "dict_keys(['R74a3f70f512dde5e737dfa621ead298df33f4aa26aea939c9ecc4dfb128c9f68', 'R24252f82a12e82069b6535927b57cbaf5aaa42fee7cb3b71dac8f227158139ec', 'R3e245f44bd85be5c51db4198cc4f8886feacef2d4467c21e8590e252f3c882c4', 'Rfa06fdf1de128b497279c2e28639d50e249dd2ba1d6190519fd8cc4ad00c2e1d'])"
      ]
     },
     "execution_count": 181,
     "metadata": {},
     "output_type": "execute_result"
    }
   ],
   "source": [
    "pathways.pathways[i].reaction_stoichs.keys()"
   ]
  },
  {
   "cell_type": "code",
   "execution_count": null,
   "metadata": {
    "tags": []
   },
   "outputs": [
    {
     "data": {
      "text/plain": [
       "['CC(C)C(=O)O.NC(=O)C1=CN(C2OC(COP(=O)(O)OP(=O)(O)OCC3OC(n4cnc5c(N)ncnc54)C(OP(=O)(O)O)C3O)C(O)C2O)C=CC1.O=O>>CC(CO)C(=O)O.NC(=O)c1ccc[n+](C2OC(COP(=O)(O)OP(=O)(O)OCC3OC(n4cnc5c(N)ncnc54)C(OP(=O)(O)O)C3O)C(O)C2O)c1.O',\n",
       " 'CC(CO)C(=O)O.C[S+](CCC(N)C(=O)O)CC1OC(n2cnc3c(N)ncnc32)C(O)C1O>>CCC(CO)C(=O)O.Nc1ncnc2c1ncn2C1OC(CSCCC(N)C(=O)O)C(O)C1O',\n",
       " 'CCC(CO)C(=O)O.C[S+](CCC(N)C(=O)O)CC1OC(n2cnc3c(N)ncnc32)C(O)C1O>>CCC(C(=O)O)C(C)O.Nc1ncnc2c1ncn2C1OC(CSCCC(N)C(=O)O)C(O)C1O',\n",
       " 'CCC(C(=O)O)C(C)O>>CC(O)C(C)(C)C(=O)O']"
      ]
     },
     "execution_count": 126,
     "metadata": {},
     "output_type": "execute_result"
    }
   ],
   "source": [
    "# AllChem.ReactionFromSmarts(reactions[0], useSmiles=True)\n"
   ]
  },
  {
   "cell_type": "code",
   "execution_count": 220,
   "metadata": {
    "tags": []
   },
   "outputs": [
    {
     "data": {
      "image/png": "[encoded data removed]",
      "text/plain": [
       "<rdkit.Chem.rdChemReactions.ChemicalReaction at 0x7f8451db9210>"
      ]
     },
     "execution_count": 220,
     "metadata": {},
     "output_type": "execute_result"
    }
   ],
   "source": [
    "AllChem.ReactionFromSmarts(reactions[1], useSmiles=True)"
   ]
  },
  {
   "cell_type": "code",
   "execution_count": 221,
   "metadata": {
    "tags": []
   },
   "outputs": [
    {
     "data": {
      "image/png": "[encoded data removed]",
      "text/plain": [
       "<rdkit.Chem.rdChemReactions.ChemicalReaction at 0x7f8450eefe90>"
      ]
     },
     "execution_count": 221,
     "metadata": {},
     "output_type": "execute_result"
    }
   ],
   "source": [
    "AllChem.ReactionFromSmarts(reactions[2], useSmiles=True)"
   ]
  },
  {
   "cell_type": "code",
   "execution_count": 226,
   "metadata": {
    "tags": []
   },
   "outputs": [
    {
     "data": {
      "image/png": "[encoded data removed]",
      "text/plain": [
       "<rdkit.Chem.rdChemReactions.ChemicalReaction at 0x7f845161cdf0>"
      ]
     },
     "execution_count": 226,
     "metadata": {},
     "output_type": "execute_result"
    }
   ],
   "source": [
    "AllChem.ReactionFromSmarts(reactions[3], useSmiles=True)"
   ]
  },
  {
   "cell_type": "code",
   "execution_count": 227,
   "metadata": {},
   "outputs": [
    {
     "data": {
      "text/plain": [
       "{'R358edd8a2462616027177ee26c19038e9fcf58ca955e5e8472e4ca848b161382': {'CC(C)C(=O)O': -1,\n",
       "  'C[S+](CCC(N)C(=O)O)CC1OC(n2cnc3c(N)ncnc32)C(O)C1O': -1,\n",
       "  'CCC(C)C(=O)O': 1,\n",
       "  'Nc1ncnc2c1ncn2C1OC(CSCCC(N)C(=O)O)C(O)C1O': 1},\n",
       " 'Rec9263a95cfb3eefd6b3eec58e67b4003ffa2a1afd079813be59d88e479cbd91': {'CCC(C)C(=O)O': -1,\n",
       "  'NC(=O)C1=CN(C2OC(COP(=O)(O)OP(=O)(O)OCC3OC(n4cnc5c(N)ncnc54)C(OP(=O)(O)O)C3O)C(O)C2O)C=CC1': -1,\n",
       "  'O=O': -1,\n",
       "  'CC(CCO)C(=O)O': 1,\n",
       "  'NC(=O)c1ccc[n+](C2OC(COP(=O)(O)OP(=O)(O)OCC3OC(n4cnc5c(N)ncnc54)C(OP(=O)(O)O)C3O)C(O)C2O)c1': 1,\n",
       "  'O': 1},\n",
       " 'R4a2c2df616bf734244fb7c5e35b1db89933ce2bea43df9a61a7bb80160a20652': {'CC(CCO)C(=O)O': -1,\n",
       "  'C[S+](CCC(N)C(=O)O)CC1OC(n2cnc3c(N)ncnc32)C(O)C1O': -1,\n",
       "  'CC(O)CC(C)C(=O)O': 1,\n",
       "  'Nc1ncnc2c1ncn2C1OC(CSCCC(N)C(=O)O)C(O)C1O': 1},\n",
       " 'R44352c9652a32680f0d9896c161aa95cbc7795202933f1f4489d3ea16372b54e': {'CC(O)CC(C)C(=O)O': -1,\n",
       "  'CC(O)C(C)(C)C(=O)O': 1}}"
      ]
     },
     "execution_count": 227,
     "metadata": {},
     "output_type": "execute_result"
    }
   ],
   "source": [
    "pathways.pathways[i].reaction_stoichs"
   ]
  },
  {
   "cell_type": "code",
   "execution_count": null,
   "metadata": {},
   "outputs": [],
   "source": []
  }
 ],
 "metadata": {
  "kernelspec": {
   "display_name": "Python 3 (ipykernel)",
   "language": "python",
   "name": "python3"
  },
  "language_info": {
   "codemirror_mode": {
    "name": "ipython",
    "version": 3
   },
   "file_extension": ".py",
   "mimetype": "text/x-python",
   "name": "python",
   "nbconvert_exporter": "python",
   "pygments_lexer": "ipython3",
   "version": "3.7.12"
  }
 },
 "nbformat": 4,
 "nbformat_minor": 4
}
