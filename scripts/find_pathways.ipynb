{
 "cells": [
  {
   "cell_type": "markdown",
   "metadata": {},
   "source": [
    "# Identify Paths from BOTTLE proposed route"
   ]
  },
  {
   "cell_type": "code",
   "execution_count": 1,
   "metadata": {
    "tags": []
   },
   "outputs": [
    {
     "data": {
      "image/png": "[encoded data removed]",
      "text/plain": [
       "<Figure size 640x480 with 1 Axes>"
      ]
     },
     "metadata": {},
     "output_type": "display_data"
    }
   ],
   "source": [
    "import os\n",
    "CWD = os.path.abspath(\"\")\n",
    "os.chdir(CWD)\n",
    "\n",
    "from minedatabase.pickaxe import Pickaxe\n",
    "from minedatabase.utils import get_compound_hash\n",
    "from minedatabase.rules import metacyc_intermediate\n",
    "from minedatabase.filters import (\n",
    "    SimilarityFilter,\n",
    "    SimilaritySamplingFilter,\n",
    ")\n",
    "\n",
    "from rdkit.Chem import CanonSmiles\n",
    "\n",
    "str_dir = \"../src/starters_targets_rules/\"\n",
    "\n",
    "input_cpds = str_dir + \"succinate.csv\"\n",
    "target_cpds = str_dir + \"mvacid.csv\"\n",
    "_, coreactant_list, rule_name = metacyc_intermediate(\n",
    "    fraction_coverage=1\n",
    "    # n_rules=5\n",
    ")\n",
    "rule_list = str_dir + 'JN3604IMT_rules.tsv'"
   ]
  },
  {
   "cell_type": "code",
   "execution_count": 2,
   "metadata": {
    "tags": []
   },
   "outputs": [
    {
     "name": "stdout",
     "output_type": "stream",
     "text": [
      "----------------------------------------\n",
      "Intializing pickaxe object\n"
     ]
    },
    {
     "name": "stderr",
     "output_type": "stream",
     "text": [
      "RDKit WARNING: [09:10:04] WARNING: not removing hydrogen atom without neighbors\n",
      "RDKit WARNING: [09:10:04] WARNING: not removing hydrogen atom without neighbors\n",
      "[09:10:04] WARNING: not removing hydrogen atom without neighbors\n",
      "[09:10:04] WARNING: not removing hydrogen atom without neighbors\n"
     ]
    },
    {
     "name": "stdout",
     "output_type": "stream",
     "text": [
      "\n",
      "Done intializing pickaxe object\n",
      "----------------------------------------\n",
      "\n",
      "1 compounds loaded...\n",
      "(1 after removing stereochemistry)\n",
      "1 target compounds loaded\n",
      "\n"
     ]
    }
   ],
   "source": [
    "pk = Pickaxe(\n",
    "        coreactant_list=coreactant_list,\n",
    "        rule_list=rule_list,\n",
    "        errors=True,\n",
    "        quiet=True,\n",
    "        filter_after_final_gen=True,\n",
    "    )\n",
    "\n",
    "pk.load_compound_set(compound_file=input_cpds)\n",
    "\n",
    "pk.load_targets(target_cpds)\n",
    "tani_filter = True # True\n",
    "tani_threshold = [0, 0, 0.3, 0.3, 0.3]\n",
    "increasing_tani=False\n",
    "\n",
    "tani_sample = False\n",
    "sample_size = 10\n",
    "weight = 5\n",
    "\n",
    "# Apply filters\n",
    "if tani_filter:\n",
    "    taniFilter = SimilarityFilter(\n",
    "        crit_similarity=tani_threshold, increasing_similarity=increasing_tani\n",
    "    )\n",
    "    pk.filters.append(taniFilter)\n",
    "\n",
    "if tani_sample:\n",
    "    taniSampleFilter = SimilaritySamplingFilter(\n",
    "        sample_size=sample_size, weight=weight\n",
    "    )\n",
    "    pk.filters.append(taniSampleFilter)\n",
    "    pass"
   ]
  },
  {
   "cell_type": "code",
   "execution_count": 3,
   "metadata": {
    "tags": []
   },
   "outputs": [
    {
     "name": "stdout",
     "output_type": "stream",
     "text": [
      "----------------------------------------\n",
      "Filtering Generation 0\n",
      "\n",
      "Applying filter: Similarity Cutoff\n",
      "Filtering Generation 0 with similarity > 0.\n",
      "Similarity filter progress: 0 percent complete\n",
      "Similarity filter progress: 100 percent complete\n",
      "1 of 1 compounds selected after Similarity filtering of generation 0 at cutoff of 0. --took 0.92s.\n",
      "\n",
      "Done filtering Generation 0\n",
      "----------------------------------------\n",
      "\n",
      "----------------------------------------\n",
      "Expanding Generation 1\n",
      "\n",
      "Generation 1: 0 percent complete\n",
      "Generation 1 finished in 5.841197729110718 s and contains:\n",
      "\t\t59 new compounds\n",
      "\t\t70 new reactions\n",
      "\n",
      "Done expanding Generation: 1.\n",
      "----------------------------------------\n",
      "\n",
      "----------------------------------------\n",
      "Filtering Generation 1\n",
      "\n",
      "Applying filter: Similarity Cutoff\n",
      "Filtering Generation 1 with similarity > 0.\n",
      "Similarity filter progress: 0 percent complete\n",
      "Similarity filter progress: 10 percent complete\n",
      "Similarity filter progress: 20 percent complete\n",
      "Similarity filter progress: 31 percent complete\n",
      "Similarity filter progress: 41 percent complete\n",
      "Similarity filter progress: 51 percent complete\n",
      "Similarity filter progress: 61 percent complete\n",
      "Similarity filter progress: 71 percent complete\n",
      "Similarity filter progress: 81 percent complete\n",
      "Similarity filter progress: 92 percent complete\n",
      "Similarity filter progress: 100 percent complete\n",
      "59 of 59 compounds selected after Similarity filtering of generation 1 at cutoff of 0. --took 0.97s.\n",
      "\n",
      "Done filtering Generation 1\n",
      "----------------------------------------\n",
      "\n",
      "----------------------------------------\n",
      "Expanding Generation 2\n",
      "\n",
      "Generation 2: 0 percent complete\n",
      "Generation 2: 10 percent complete\n",
      "Generation 2: 20 percent complete\n",
      "Generation 2: 31 percent complete\n",
      "Generation 2: 41 percent complete\n",
      "Generation 2: 51 percent complete\n",
      "Generation 2: 61 percent complete\n",
      "Generation 2: 71 percent complete\n",
      "Generation 2: 81 percent complete\n",
      "Generation 2: 92 percent complete\n",
      "Generation 2 finished in 106.85861825942993 s and contains:\n",
      "\t\t35228 new compounds\n",
      "\t\t40065 new reactions\n",
      "\n",
      "Done expanding Generation: 2.\n",
      "----------------------------------------\n",
      "\n",
      "----------------------------------------\n",
      "Filtering Generation 2\n",
      "\n",
      "Applying filter: Similarity Cutoff\n",
      "Filtering Generation 2 with similarity > 0.3.\n",
      "Similarity filter progress: 0 percent complete\n",
      "Similarity filter progress: 10 percent complete\n",
      "Similarity filter progress: 20 percent complete\n",
      "Similarity filter progress: 30 percent complete\n",
      "Similarity filter progress: 40 percent complete\n",
      "Similarity filter progress: 50 percent complete\n",
      "Similarity filter progress: 60 percent complete\n",
      "Similarity filter progress: 70 percent complete\n",
      "Similarity filter progress: 80 percent complete\n",
      "Similarity filter progress: 90 percent complete\n",
      "Similarity filter progress: 100 percent complete\n",
      "30 of 35228 compounds selected after Similarity filtering of generation 2 at cutoff of 0.3. --took 5.81s.\n",
      "\n",
      "Done filtering Generation 2\n",
      "----------------------------------------\n",
      "\n",
      "----------------------------------------\n",
      "Expanding Generation 3\n",
      "\n",
      "Generation 3: 0 percent complete\n",
      "Generation 3: 10 percent complete\n",
      "Generation 3: 20 percent complete\n",
      "Generation 3: 30 percent complete\n",
      "Generation 3: 40 percent complete\n",
      "Generation 3: 50 percent complete\n",
      "Generation 3: 60 percent complete\n",
      "Generation 3: 70 percent complete\n",
      "Generation 3: 80 percent complete\n",
      "Generation 3: 90 percent complete\n",
      "Generation 3 finished in 35.56580066680908 s and contains:\n",
      "\t\t4087 new compounds\n",
      "\t\t5230 new reactions\n",
      "\n",
      "Done expanding Generation: 3.\n",
      "----------------------------------------\n",
      "\n",
      "----------------------------------------\n",
      "Filtering Generation 3\n",
      "\n",
      "Applying filter: Similarity Cutoff\n",
      "Filtering Generation 3 with similarity > 0.3.\n",
      "Similarity filter progress: 0 percent complete\n",
      "Similarity filter progress: 10 percent complete\n",
      "Similarity filter progress: 20 percent complete\n",
      "Similarity filter progress: 30 percent complete\n",
      "Similarity filter progress: 40 percent complete\n",
      "Similarity filter progress: 50 percent complete\n",
      "Similarity filter progress: 60 percent complete\n",
      "Similarity filter progress: 70 percent complete\n",
      "Similarity filter progress: 80 percent complete\n",
      "Similarity filter progress: 90 percent complete\n",
      "Similarity filter progress: 100 percent complete\n",
      "253 of 4087 compounds selected after Similarity filtering of generation 3 at cutoff of 0.3. --took 1.66s.\n",
      "\n",
      "Done filtering Generation 3\n",
      "----------------------------------------\n",
      "\n",
      "----------------------------------------\n",
      "Pruning to 1 target compounds\n",
      "Pruned network to 0 compounds and 0 reactions based on 1 whitelisted compounds.\n",
      "\n",
      "Found 0 targets.\n",
      "Pruning took 0.031126022338867188s\n",
      "----------------------------------------\n",
      "\n"
     ]
    }
   ],
   "source": [
    "# Transform compounds (the main step)\n",
    "processes = 50\n",
    "generations = 3\n",
    "pk.transform_all(processes, generations)\n",
    "pk.prune_network_to_targets()"
   ]
  },
  {
   "cell_type": "code",
   "execution_count": 6,
   "metadata": {
    "tags": []
   },
   "outputs": [],
   "source": [
    "# bad_es = []\n",
    "# for i, vals in pk.compounds.items():\n",
    "#     try:\n",
    "#         pk.compounds[i][\"SMILES\"] = CanonSmiles(vals[\"SMILES\"])\n",
    "#     except BaseException as e:\n",
    "#         bad_es.append(vals[\"SMILES\"])\n",
    "#         pk.compounds[i][\"SMILES\"] = vals[\"SMILES\"].replace(\"*\", \"\")\n",
    "        "
   ]
  },
  {
   "cell_type": "code",
   "execution_count": 4,
   "metadata": {
    "tags": []
   },
   "outputs": [],
   "source": [
    "pk.pickle_pickaxe(\"/projects/b1039/spn1560/bottle/succinate_to_mvacid_gen_3_var_tanimoto_cutoff_brought_own_imt_rules.pk\") # Save results"
   ]
  },
  {
   "cell_type": "code",
   "execution_count": 5,
   "metadata": {
    "tags": []
   },
   "outputs": [
    {
     "name": "stdout",
     "output_type": "stream",
     "text": [
      "Loading /projects/b1039/spn1560/bottle/succinate_to_mvacid_gen_3_var_tanimoto_cutoff.pk pickled data.\n",
      "Loaded 5128 compounds\n",
      "Loaded 9456 reactions\n",
      "Loaded 7154 operators\n",
      "Loaded 1 targets\n",
      "Took 6.06124210357666\n"
     ]
    }
   ],
   "source": [
    "pk.load_pickled_pickaxe(\"/projects/b1039/spn1560/bottle/succinate_to_mvacid_gen_3_var_tanimoto_cutoff_brought_own_imt_rules.pk\") # Load results"
   ]
  },
  {
   "cell_type": "markdown",
   "metadata": {},
   "source": [
    "# Generate Pathways"
   ]
  },
  {
   "cell_type": "code",
   "execution_count": 6,
   "metadata": {
    "tags": []
   },
   "outputs": [
    {
     "name": "stderr",
     "output_type": "stream",
     "text": [
      "RDKit ERROR: [08:23:25] Can't kekulize mol.  Unkekulized atoms: 19 23 26 27 28 29 30 31 33 34\n",
      "RDKit ERROR: \n",
      "[08:23:25] Can't kekulize mol.  Unkekulized atoms: 19 23 26 27 28 29 30 31 33 34\n",
      "\n",
      "RDKit ERROR: [08:23:26] Can't kekulize mol.  Unkekulized atoms: 19 23 26 27 28 29 30 31 33 34\n",
      "[08:23:26] Can't kekulize mol.  Unkekulized atoms: 19 23 26 27 28 29 30 31 33 34\n",
      "\n",
      "RDKit ERROR: \n",
      "RDKit ERROR: [08:23:27] Can't kekulize mol.  Unkekulized atoms: 19 23 26 27 28 29 30 31 33 34\n",
      "RDKit ERROR: \n",
      "[08:23:27] Can't kekulize mol.  Unkekulized atoms: 19 23 26 27 28 29 30 31 33 34\n",
      "\n",
      "RDKit ERROR: [08:23:27] Can't kekulize mol.  Unkekulized atoms: 19 23 26 27 28 29 30 31 33 34\n",
      "RDKit ERROR: \n",
      "[08:23:27] Can't kekulize mol.  Unkekulized atoms: 19 23 26 27 28 29 30 31 33 34\n",
      "\n",
      "[08:23:27] Can't kekulize mol.  Unkekulized atoms: 19 23 26 27 28 29 30 31 33 34\n",
      "\n",
      "RDKit ERROR: [08:23:27] Can't kekulize mol.  Unkekulized atoms: 19 23 26 27 28 29 30 31 33 34\n",
      "RDKit ERROR: \n",
      "RDKit ERROR: [08:23:27] Can't kekulize mol.  Unkekulized atoms: 19 23 26 27 28 29 30 31 33 34\n",
      "RDKit ERROR: \n",
      "[08:23:27] Can't kekulize mol.  Unkekulized atoms: 19 23 26 27 28 29 30 31 33 34\n",
      "\n",
      "RDKit ERROR: [08:23:28] Can't kekulize mol.  Unkekulized atoms: 19 23 26 27 28 29 30 31 33 34\n",
      "RDKit ERROR: \n",
      "[08:23:28] Can't kekulize mol.  Unkekulized atoms: 19 23 26 27 28 29 30 31 33 34\n",
      "\n",
      "RDKit ERROR: [08:23:28] Can't kekulize mol.  Unkekulized atoms: 19 23 26 27 28 29 30 31 33 34\n",
      "RDKit ERROR: \n",
      "[08:23:28] Can't kekulize mol.  Unkekulized atoms: 19 23 26 27 28 29 30 31 33 34\n",
      "\n",
      "RDKit ERROR: [08:23:28] Can't kekulize mol.  Unkekulized atoms: 19 23 26 27 28 29 30 31 33 34\n",
      "RDKit ERROR: \n",
      "[08:23:28] Can't kekulize mol.  Unkekulized atoms: 19 23 26 27 28 29 30 31 33 34\n",
      "\n",
      "RDKit ERROR: [08:23:28] Can't kekulize mol.  Unkekulized atoms: 19 23 26 27 28 29 30 31 33 34\n",
      "[08:23:28] Can't kekulize mol.  Unkekulized atoms: 19 23 26 27 28 29 30 31 33 34\n",
      "\n",
      "RDKit ERROR: \n",
      "RDKit ERROR: [08:23:28] Can't kekulize mol.  Unkekulized atoms: 19 23 26 27 28 29 30 31 33 34\n",
      "RDKit ERROR: \n",
      "[08:23:28] Can't kekulize mol.  Unkekulized atoms: 19 23 26 27 28 29 30 31 33 34\n",
      "\n",
      "RDKit ERROR: [08:23:28] Can't kekulize mol.  Unkekulized atoms: 19 23 26 27 28 29 30 31 33 34\n",
      "RDKit ERROR: \n",
      "[08:23:28] Can't kekulize mol.  Unkekulized atoms: 19 23 26 27 28 29 30 31 33 34\n",
      "\n",
      "RDKit ERROR: [08:23:28] Can't kekulize mol.  Unkekulized atoms: 19 23 26 27 28 29 30 31 33 34\n",
      "RDKit ERROR: \n",
      "[08:23:28] Can't kekulize mol.  Unkekulized atoms: 19 23 26 27 28 29 30 31 33 34\n",
      "\n",
      "RDKit ERROR: [08:23:28] Can't kekulize mol.  Unkekulized atoms: 19 23 26 27 28 29 30 31 33 34\n",
      "RDKit ERROR: \n",
      "[08:23:28] Can't kekulize mol.  Unkekulized atoms: 19 23 26 27 28 29 30 31 33 34\n",
      "\n",
      "RDKit ERROR: [08:23:28] Can't kekulize mol.  Unkekulized atoms: 19 23 26 27 28 29 30 31 33 34\n",
      "[08:23:28] Can't kekulize mol.  Unkekulized atoms: 19 23 26 27 28 29 30 31 33 34\n",
      "\n",
      "RDKit ERROR: \n",
      "RDKit ERROR: [08:23:29] Can't kekulize mol.  Unkekulized atoms: 19 23 26 27 28 29 30 31 33 34\n",
      "RDKit ERROR: \n",
      "[08:23:29] Can't kekulize mol.  Unkekulized atoms: 19 23 26 27 28 29 30 31 33 34\n",
      "\n",
      "RDKit ERROR: [08:23:29] Can't kekulize mol.  Unkekulized atoms: 19 23 26 27 28 29 30 31 33 34\n",
      "RDKit ERROR: \n",
      "[08:23:29] Can't kekulize mol.  Unkekulized atoms: 19 23 26 27 28 29 30 31 33 34\n",
      "\n",
      "RDKit ERROR: [08:23:29] Can't kekulize mol.  Unkekulized atoms: 19 23 26 27 28 29 30 31 33 34\n",
      "RDKit ERROR: \n",
      "[08:23:29] Can't kekulize mol.  Unkekulized atoms: 19 23 26 27 28 29 30 31 33 34\n",
      "\n",
      "RDKit ERROR: [08:23:29] Can't kekulize mol.  Unkekulized atoms: 19 23 26 27 28 29 30 31 33 34\n",
      "RDKit ERROR: \n",
      "[08:23:29] Can't kekulize mol.  Unkekulized atoms: 19 23 26 27 28 29 30 31 33 34\n",
      "\n",
      "RDKit ERROR: [08:23:29] Can't kekulize mol.  Unkekulized atoms: 19 23 26 27 28 29 30 31 33 34\n",
      "RDKit ERROR: \n",
      "[08:23:29] Can't kekulize mol.  Unkekulized atoms: 19 23 26 27 28 29 30 31 33 34\n",
      "\n",
      "RDKit ERROR: [08:23:29] Can't kekulize mol.  Unkekulized atoms: 19 23 26 27 28 29 30 31 33 34\n",
      "RDKit ERROR: \n",
      "[08:23:29] Can't kekulize mol.  Unkekulized atoms: 19 23 26 27 28 29 30 31 33 34\n",
      "\n",
      "RDKit ERROR: [08:23:29] Can't kekulize mol.  Unkekulized atoms: 19 23 26 27 28 29 30 31 33 34\n",
      "RDKit ERROR: \n",
      "[08:23:29] Can't kekulize mol.  Unkekulized atoms: 19 23 26 27 28 29 30 31 33 34\n",
      "\n",
      "RDKit ERROR: [08:23:29] Can't kekulize mol.  Unkekulized atoms: 19 23 26 27 28 29 30 31 33 34\n",
      "RDKit ERROR: \n",
      "[08:23:29] Can't kekulize mol.  Unkekulized atoms: 19 23 26 27 28 29 30 31 33 34\n",
      "\n",
      "RDKit ERROR: [08:23:29] Can't kekulize mol.  Unkekulized atoms: 19 23 26 27 28 29 30 31 33 34\n",
      "RDKit ERROR: \n",
      "[08:23:29] Can't kekulize mol.  Unkekulized atoms: 19 23 26 27 28 29 30 31 33 34\n",
      "\n",
      "RDKit ERROR: [08:23:30] Can't kekulize mol.  Unkekulized atoms: 19 23 26 27 28 29 30 31 33 34\n",
      "RDKit ERROR: \n",
      "[08:23:30] Can't kekulize mol.  Unkekulized atoms: 19 23 26 27 28 29 30 31 33 34\n",
      "\n",
      "RDKit ERROR: [08:23:30] Can't kekulize mol.  Unkekulized atoms: 19 23 26 27 28 29 30 31 33 34\n",
      "RDKit ERROR: \n",
      "[08:23:30] Can't kekulize mol.  Unkekulized atoms: 19 23 26 27 28 29 30 31 33 34\n",
      "\n"
     ]
    }
   ],
   "source": [
    "from pathway_utils import create_graph_from_pickaxe\n",
    "\n",
    "# Function to patch older results that weren't made with updated PickaxeGeneric code\n",
    "def rename_smiles_reaction(pk):\n",
    "    for rxn in pk.reactions.values():\n",
    "        rxn[\"SMILES_rxn\"] = rxn[\"SMILES_reaction\"]\n",
    "        \n",
    "# Create the initial graph\n",
    "DG, rxn, edge = create_graph_from_pickaxe(pk, \"Biology\")\n",
    "starting_nodes = []\n",
    "bad_nodes = []\n",
    "for n in DG.nodes():\n",
    "    try:\n",
    "        if DG.nodes()[n][\"Type\"] == \"Starting Compound\":\n",
    "            starting_nodes.append(n)\n",
    "    except:\n",
    "        bad_nodes.append(n)"
   ]
  },
  {
   "cell_type": "code",
   "execution_count": 7,
   "metadata": {
    "tags": []
   },
   "outputs": [],
   "source": [
    "from minedatabase.pickaxe import Pickaxe\n",
    "from minedatabase import utils\n",
    "\n",
    "import PIL\n",
    "\n",
    "from rdkit.Chem import AllChem\n",
    "from rdkit.Chem import Draw\n",
    "from pathway_utils import (\n",
    "    Pathway, count_cpds_and_rxns, get_reverse_paths_to_starting, path_to_generation, create_graph_from_pickaxe, add_nodes_from_pickaxe\n",
    ")\n",
    "\n",
    "def get_found_locations(smi):\n",
    "    isin_list = []\n",
    "    for key, val in df_stereo_matches.items():\n",
    "        if smi in val:\n",
    "            isin_list.append(key)\n",
    "            \n",
    "    return isin_list\n",
    "\n",
    "class Pathways:\n",
    "    def __init__(self, target_cid, pathways, DG, feas_dict):\n",
    "        self.target_id = target_cid\n",
    "        self.pathways = [Pathway(target_cid, pathway, DG, feas_dict) for pathway in pathways]\n",
    "\n",
    "    @property\n",
    "    def terminal_generation(self):\n",
    "        return [pathway.terminal_generation for pathway in self.pathways]\n",
    "    \n",
    "\n",
    "# rules_to_exclude = ['rule0028_46']\n",
    "# rules_to_exclude = ['rule0028_51', 'rule0028_46', 'rule0028_50', 'rule0043_12']\n",
    "# rules_to_exclude = ['rule0028_51', 'rule0028_46', 'rule0028_50']\n",
    "# rules_to_exclude = ['rule0028_50', 'rule0043_12']\n",
    "rules_to_exclude = []\n",
    "\n",
    "def contains_rule(pathway, DG):\n",
    "    rules = set()\n",
    "    for keyi in pathway.reaction_stoichs.keys():\n",
    "        rules_i = DG.nodes()[keyi][\"Rule\"]\n",
    "        rules.update(rules_i)\n",
    "\n",
    "    for rule in rules_to_exclude:\n",
    "        if rule in rules:\n",
    "            return True\n",
    "        \n",
    "    return False"
   ]
  },
  {
   "cell_type": "code",
   "execution_count": 8,
   "metadata": {
    "tags": []
   },
   "outputs": [
    {
     "data": {
      "text/plain": [
       "4"
      ]
     },
     "execution_count": 8,
     "metadata": {},
     "output_type": "execute_result"
    }
   ],
   "source": [
    "# Params\n",
    "max_depth = generations*2\n",
    "paths_dict = {}\n",
    "\n",
    "# Fake feas dict\n",
    "feas_dict = {rxn: True for rxn in [i for i in DG.nodes() if i.startswith(\"R\")]}\n",
    "\n",
    "# Specify Targets / Starting Cpds\n",
    "target_smi = pk.target_smiles[0]\n",
    "target_cids = [get_compound_hash(smi)[0] for smi in pk.target_smiles]\n",
    "starting_cpds = [get_compound_hash(val[\"SMILES\"])[0] for val in pk.compounds.values() if val[\"Type\"].startswith(\"Start\")]\n",
    "\n",
    "# Loop through targets and get pathways from targets to starting compounds\n",
    "for node in target_cids:\n",
    "    paths = get_reverse_paths_to_starting(DG, begin_node=node, end_nodes=starting_cpds, max_depth=max_depth)\n",
    "    # If we find paths then reverse those paths and assign to a dictionary\n",
    "    if paths:\n",
    "        paths_dict[node] = list(set([tuple(path[1::2]) for path in [[*reversed(ind_path)] for ind_path in paths]]))\n",
    "\n",
    "target_cid = target_cids[0]\n",
    "target_paths = [Pathway(target_cid, pathway, DG, feas_dict) for pathway in paths_dict[target_cid]]\n",
    "\n",
    "pathways = Pathways(target_cid, paths_dict[target_cids[0]], DG, feas_dict)\n",
    "pathways.pathways = [path for path in pathways.pathways if not (target_smi in path.sources)] # target is starting\n",
    "\n",
    "len(pathways.pathways)"
   ]
  },
  {
   "cell_type": "code",
   "execution_count": 26,
   "metadata": {
    "tags": []
   },
   "outputs": [
    {
     "data": {
      "text/plain": [
       "'C6ec1611229ff4fc7a19244967c7716266fc021a1'"
      ]
     },
     "execution_count": 26,
     "metadata": {},
     "output_type": "execute_result"
    }
   ],
   "source": [
    "target_cids[0]"
   ]
  },
  {
   "cell_type": "code",
   "execution_count": null,
   "metadata": {},
   "outputs": [],
   "source": []
  },
  {
   "cell_type": "code",
   "execution_count": 10,
   "metadata": {
    "tags": []
   },
   "outputs": [],
   "source": [
    "n = 0\n",
    "paths = paths_dict[target_cids[0]][n]\n",
    "\n",
    "i = 0\n",
    "while i < len(paths):\n",
    "    if contains_rule(pathways.pathways[i], DG):\n",
    "        i += 1\n",
    "    else:\n",
    "        ix = i\n",
    "        rxn_stoichs = pathways.pathways[ix].reaction_stoichs\n",
    "        # print(\"Thermo\", ix)\n",
    "        # print(\"MDF \", pathways.pathways[ix].MDF)\n",
    "        # print(\"Sequence \", pathways.pathways[ix].reaction_types)\n",
    "        # print(\"Starting\", pathways.pathways[ix].sources)\n",
    "        # print(\"Sinks\", pathways.pathways[ix].sinks)\n",
    "\n",
    "        reactions = []\n",
    "        for rxn_stoich in rxn_stoichs.values():\n",
    "            products = \".\".join([\".\".join([smi]*stoich) for smi, stoich in rxn_stoich.items() if stoich >= 0])\n",
    "            reactants = \".\".join([\".\".join([smi]*abs(stoich)) for smi, stoich in rxn_stoich.items() if stoich <= 0])\n",
    "\n",
    "            reaction = \">>\".join([reactants, products])\n",
    "            reactions.append(reaction)\n",
    "\n",
    "        ri = -1\n",
    "        i +=1 \n",
    "\n",
    "        # for keyi in pathways.pathways[ix].reaction_stoichs.keys():\n",
    "        #     print(keyi, DG.nodes()[keyi])\n",
    "        \n",
    "        # print(reactions)\n",
    "        break\n",
    "\n",
    "rxn_images = [\n",
    "    Draw.ReactionToImage(\n",
    "        AllChem.ReactionFromSmarts(rxn, useSmiles=True),\n",
    "        subImgSize=(200, 200), useSVG=False, drawOptions=None, returnPNG=False\n",
    "    ) for rxn in reactions\n",
    "]\n",
    "\n",
    "def get_concat_v(im1, im2):\n",
    "    dst = PIL.Image.new('RGB', (im1.width, im1.height + im2.height))\n",
    "    dst.paste(im1, (0, 0))\n",
    "    dst.paste(im2, (0, im1.height))\n",
    "    return dst\n",
    "\n",
    "# image = rxn_images[0]\n",
    "# for rxn_image in rxn_images[1:]:\n",
    "#     image = get_concat_v(image, rxn_image)\n",
    "\n",
    "# image"
   ]
  },
  {
   "cell_type": "code",
   "execution_count": 25,
   "metadata": {
    "tags": []
   },
   "outputs": [
    {
     "data": {
      "text/plain": [
       "{'C6ec1611229ff4fc7a19244967c7716266fc021a1': [('Rfcd65a3d291fc904cceee7632e43580bf7ad9e096ed67c679f2cfdd35961cfe5',\n",
       "   'Rde829d15ec457a788110b740ffc0e9d13632da9366859f2d63f00695f2533e58',\n",
       "   'Rd6053192dc9448bd407b0074d1bd896e1976c9d0086207c9b9adc4510f0038f3'),\n",
       "  ('R1bb08dd686b41a9af7428414152f33378c52da1982069d47ba147f81cced8ced',\n",
       "   'Rde829d15ec457a788110b740ffc0e9d13632da9366859f2d63f00695f2533e58',\n",
       "   'Rd6053192dc9448bd407b0074d1bd896e1976c9d0086207c9b9adc4510f0038f3'),\n",
       "  ('Rb3eba689f7a6121a5e37abaf1359956b4e01e0eb3d407a1767d75d30c32768b8',\n",
       "   'Rdf3314f6291bf8ce50ddbfd6e3d32e1fa1ba0bcbc56e436fef4b06451b86a245',\n",
       "   'Ra791ad09c059017429de7c401ee3a5026ca51eed2daee1ba20fd4d61c31221eb'),\n",
       "  ('Rb3eba689f7a6121a5e37abaf1359956b4e01e0eb3d407a1767d75d30c32768b8',\n",
       "   'Rdf3314f6291bf8ce50ddbfd6e3d32e1fa1ba0bcbc56e436fef4b06451b86a245',\n",
       "   'Rbe282e0424c4e8a42e839a5c7c24529cdcb452119e633f3d0c3763342fa1a732')]}"
      ]
     },
     "execution_count": 25,
     "metadata": {},
     "output_type": "execute_result"
    }
   ],
   "source": [
    "paths_dict"
   ]
  },
  {
   "cell_type": "code",
   "execution_count": 15,
   "metadata": {
    "tags": []
   },
   "outputs": [
    {
     "ename": "NameError",
     "evalue": "name 'pathways' is not defined",
     "output_type": "error",
     "traceback": [
      "\u001b[0;31m---------------------------------------------------------------------------\u001b[0m",
      "\u001b[0;31mNameError\u001b[0m                                 Traceback (most recent call last)",
      "\u001b[0;32m/tmp/ipykernel_88481/1299923717.py\u001b[0m in \u001b[0;36m<module>\u001b[0;34m\u001b[0m\n\u001b[0;32m----> 1\u001b[0;31m \u001b[0;32mfor\u001b[0m \u001b[0mi\u001b[0m \u001b[0;32min\u001b[0m \u001b[0mrange\u001b[0m\u001b[0;34m(\u001b[0m\u001b[0mlen\u001b[0m\u001b[0;34m(\u001b[0m\u001b[0mpathways\u001b[0m\u001b[0;34m.\u001b[0m\u001b[0mpathways\u001b[0m\u001b[0;34m)\u001b[0m\u001b[0;34m)\u001b[0m\u001b[0;34m:\u001b[0m\u001b[0;34m\u001b[0m\u001b[0;34m\u001b[0m\u001b[0m\n\u001b[0m\u001b[1;32m      2\u001b[0m     \u001b[0;32mif\u001b[0m \u001b[0mcontains_rule\u001b[0m\u001b[0;34m(\u001b[0m\u001b[0mpathways\u001b[0m\u001b[0;34m.\u001b[0m\u001b[0mpathways\u001b[0m\u001b[0;34m[\u001b[0m\u001b[0mi\u001b[0m\u001b[0;34m]\u001b[0m\u001b[0;34m,\u001b[0m \u001b[0mDG\u001b[0m\u001b[0;34m)\u001b[0m\u001b[0;34m:\u001b[0m\u001b[0;34m\u001b[0m\u001b[0;34m\u001b[0m\u001b[0m\n\u001b[1;32m      3\u001b[0m         \u001b[0mprint\u001b[0m\u001b[0;34m(\u001b[0m\u001b[0;34m'bad rule'\u001b[0m\u001b[0;34m)\u001b[0m\u001b[0;34m\u001b[0m\u001b[0;34m\u001b[0m\u001b[0m\n",
      "\u001b[0;31mNameError\u001b[0m: name 'pathways' is not defined"
     ]
    }
   ],
   "source": [
    "for i in range(len(pathways.pathways)):\n",
    "    if contains_rule(pathways.pathways[i], DG):\n",
    "        print('bad rule')"
   ]
  },
  {
   "cell_type": "code",
   "execution_count": 44,
   "metadata": {
    "tags": []
   },
   "outputs": [],
   "source": [
    "i=0"
   ]
  },
  {
   "cell_type": "code",
   "execution_count": 45,
   "metadata": {
    "tags": []
   },
   "outputs": [
    {
     "name": "stdout",
     "output_type": "stream",
     "text": [
      "0\n",
      "Rfcd65a3d291fc904cceee7632e43580bf7ad9e096ed67c679f2cfdd35961cfe5 {'bipartite': 1, 'Rule': {'rule0173_8'}, 'Type': 'Biology', 'Stoich': {'O=C(O)CCC(=O)O': -1, 'O': -1, 'O=C(O)CCCO': 1, 'O=O': 1}, 'feasible': None, 'Reactants': [(1, 'C4fe83a533b208e245e45b74e0967d7b8e9aad361'), (1, 'X73bc8ef21db580aefe4dbc0af17d4013961d9d17')], 'Products': [(1, 'C45db198fcb8e6833050bc1596f34af508f6f5746'), (1, 'X8dc023d8052d83fb6feadf8541387e57c199cad0')]} \n",
      "\n",
      "Rde829d15ec457a788110b740ffc0e9d13632da9366859f2d63f00695f2533e58 {'bipartite': 1, 'Rule': {'rule0187_5'}, 'Type': 'Biology', 'Stoich': {'O=C(O)CCCO': -1, 'NC(=O)c1ccc[n+](C2OC(COP(=O)(O)OP(=O)(O)OCC3OC(n4cnc5c(N)ncnc54)C(OP(=O)(O)O)C3O)C(O)C2O)c1': -1, 'O': -1, 'O=C=O': -1, 'O=C(O)C(=O)CCCO': 1, 'NC(=O)C1=CN(C2OC(COP(=O)(O)OP(=O)(O)OCC3OC(n4cnc5c(N)ncnc54)C(OP(=O)(O)O)C3O)C(O)C2O)C=CC1': 1, 'O=O': 1}, 'feasible': None, 'Reactants': [(1, 'C45db198fcb8e6833050bc1596f34af508f6f5746'), (1, 'X151d45ce062c088336cff9e45bc138b6a63626fe'), (1, 'Xad024c97bc6d1c83baf5d8902af02c3a3db5358e'), (1, 'X73bc8ef21db580aefe4dbc0af17d4013961d9d17')], 'Products': [(1, 'Ccfd59a5a3ad7c94a82bd1166ab840bbd3845b24a'), (1, 'X281e38d790b809dc908f7c9749d5274a6d8280c4'), (1, 'X8dc023d8052d83fb6feadf8541387e57c199cad0')]} \n",
      "\n",
      "Rd6053192dc9448bd407b0074d1bd896e1976c9d0086207c9b9adc4510f0038f3 {'bipartite': 1, 'Rule': {'rule0838'}, 'Type': 'Biology', 'Stoich': {'O=C(O)C(=O)CCCO': -1, 'O': -1, 'O=C=O': -1, 'C=C(CCCO)C(=O)O': 1, 'O=O': 2}, 'feasible': None, 'Reactants': [(1, 'Ccfd59a5a3ad7c94a82bd1166ab840bbd3845b24a'), (1, 'X73bc8ef21db580aefe4dbc0af17d4013961d9d17'), (1, 'Xad024c97bc6d1c83baf5d8902af02c3a3db5358e')], 'Products': [(1, 'C6ec1611229ff4fc7a19244967c7716266fc021a1'), (2, 'X8dc023d8052d83fb6feadf8541387e57c199cad0')]} \n",
      "\n"
     ]
    },
    {
     "data": {
      "image/png": "[encoded data removed]",
      "text/plain": [
       "<rdkit.Chem.rdChemReactions.ChemicalReaction at 0x2b36601b4a80>"
      ]
     },
     "execution_count": 45,
     "metadata": {},
     "output_type": "execute_result"
    }
   ],
   "source": [
    "\n",
    "paths = paths_dict[target_cids[0]][i]\n",
    "\n",
    "print(i)\n",
    "rxn_stoichs = pathways.pathways[i].reaction_stoichs\n",
    "\n",
    "while contains_rule(pathways.pathways[i], DG):\n",
    "    # print(i)\n",
    "    i += 1\n",
    "\n",
    "reactions = []\n",
    "for rxn_stoich in rxn_stoichs.values():\n",
    "    products = \".\".join([\".\".join([smi]*stoich) for smi, stoich in rxn_stoich.items() if stoich >= 0])\n",
    "    reactants = \".\".join([\".\".join([smi]*abs(stoich)) for smi, stoich in rxn_stoich.items() if stoich <= 0])\n",
    "\n",
    "    reaction = \">>\".join([reactants, products])\n",
    "    reactions.append(reaction)\n",
    "\n",
    "for keyi in pathways.pathways[i].reaction_stoichs.keys():\n",
    "    print(keyi, DG.nodes()[keyi], '\\n')\n",
    "i += 1\n",
    "AllChem.ReactionFromSmarts(reactions[-1], useSmiles=True)"
   ]
  },
  {
   "cell_type": "code",
   "execution_count": 33,
   "metadata": {
    "tags": []
   },
   "outputs": [
    {
     "data": {
      "text/plain": [
       "['O=C(O)CCC(=O)O.O>>O=C(O)CCCO.O=O',\n",
       " 'O=C(O)CCCO.NC(=O)c1ccc[n+](C2OC(COP(=O)(O)OP(=O)(O)OCC3OC(n4cnc5c(N)ncnc54)C(OP(=O)(O)O)C3O)C(O)C2O)c1.O.O=C=O>>O=C(O)C(=O)CCCO.NC(=O)C1=CN(C2OC(COP(=O)(O)OP(=O)(O)OCC3OC(n4cnc5c(N)ncnc54)C(OP(=O)(O)O)C3O)C(O)C2O)C=CC1.O=O',\n",
       " 'O=C(O)C(=O)CCCO.O.O=C=O>>C=C(CCCO)C(=O)O.O=O.O=O']"
      ]
     },
     "execution_count": 33,
     "metadata": {},
     "output_type": "execute_result"
    }
   ],
   "source": [
    "reactions"
   ]
  },
  {
   "cell_type": "code",
   "execution_count": 20,
   "metadata": {
    "tags": []
   },
   "outputs": [
    {
     "data": {
      "text/plain": [
       "dict_keys(['Rb3eba689f7a6121a5e37abaf1359956b4e01e0eb3d407a1767d75d30c32768b8', 'Rdf3314f6291bf8ce50ddbfd6e3d32e1fa1ba0bcbc56e436fef4b06451b86a245', 'Ra791ad09c059017429de7c401ee3a5026ca51eed2daee1ba20fd4d61c31221eb'])"
      ]
     },
     "execution_count": 20,
     "metadata": {},
     "output_type": "execute_result"
    }
   ],
   "source": [
    "pathways.pathways[i].reaction_stoichs.keys()"
   ]
  },
  {
   "cell_type": "code",
   "execution_count": null,
   "metadata": {
    "tags": []
   },
   "outputs": [
    {
     "data": {
      "text/plain": [
       "['CC(C)C(=O)O.NC(=O)C1=CN(C2OC(COP(=O)(O)OP(=O)(O)OCC3OC(n4cnc5c(N)ncnc54)C(OP(=O)(O)O)C3O)C(O)C2O)C=CC1.O=O>>CC(CO)C(=O)O.NC(=O)c1ccc[n+](C2OC(COP(=O)(O)OP(=O)(O)OCC3OC(n4cnc5c(N)ncnc54)C(OP(=O)(O)O)C3O)C(O)C2O)c1.O',\n",
       " 'CC(CO)C(=O)O.C[S+](CCC(N)C(=O)O)CC1OC(n2cnc3c(N)ncnc32)C(O)C1O>>CCC(CO)C(=O)O.Nc1ncnc2c1ncn2C1OC(CSCCC(N)C(=O)O)C(O)C1O',\n",
       " 'CCC(CO)C(=O)O.C[S+](CCC(N)C(=O)O)CC1OC(n2cnc3c(N)ncnc32)C(O)C1O>>CCC(C(=O)O)C(C)O.Nc1ncnc2c1ncn2C1OC(CSCCC(N)C(=O)O)C(O)C1O',\n",
       " 'CCC(C(=O)O)C(C)O>>CC(O)C(C)(C)C(=O)O']"
      ]
     },
     "execution_count": 126,
     "metadata": {},
     "output_type": "execute_result"
    }
   ],
   "source": [
    "# AllChem.ReactionFromSmarts(reactions[0], useSmiles=True)\n"
   ]
  },
  {
   "cell_type": "code",
   "execution_count": 220,
   "metadata": {
    "tags": []
   },
   "outputs": [
    {
     "data": {
      "image/png": "[encoded data removed]",
      "text/plain": [
       "<rdkit.Chem.rdChemReactions.ChemicalReaction at 0x7f8451db9210>"
      ]
     },
     "execution_count": 220,
     "metadata": {},
     "output_type": "execute_result"
    }
   ],
   "source": [
    "AllChem.ReactionFromSmarts(reactions[1], useSmiles=True)"
   ]
  },
  {
   "cell_type": "code",
   "execution_count": 221,
   "metadata": {
    "tags": []
   },
   "outputs": [
    {
     "data": {
      "image/png": "[encoded data removed]",
      "text/plain": [
       "<rdkit.Chem.rdChemReactions.ChemicalReaction at 0x7f8450eefe90>"
      ]
     },
     "execution_count": 221,
     "metadata": {},
     "output_type": "execute_result"
    }
   ],
   "source": [
    "AllChem.ReactionFromSmarts(reactions[2], useSmiles=True)"
   ]
  },
  {
   "cell_type": "code",
   "execution_count": 226,
   "metadata": {
    "tags": []
   },
   "outputs": [
    {
     "data": {
      "image/png": "[encoded data removed]",
      "text/plain": [
       "<rdkit.Chem.rdChemReactions.ChemicalReaction at 0x7f845161cdf0>"
      ]
     },
     "execution_count": 226,
     "metadata": {},
     "output_type": "execute_result"
    }
   ],
   "source": [
    "AllChem.ReactionFromSmarts(reactions[3], useSmiles=True)"
   ]
  },
  {
   "cell_type": "code",
   "execution_count": 227,
   "metadata": {},
   "outputs": [
    {
     "data": {
      "text/plain": [
       "{'R358edd8a2462616027177ee26c19038e9fcf58ca955e5e8472e4ca848b161382': {'CC(C)C(=O)O': -1,\n",
       "  'C[S+](CCC(N)C(=O)O)CC1OC(n2cnc3c(N)ncnc32)C(O)C1O': -1,\n",
       "  'CCC(C)C(=O)O': 1,\n",
       "  'Nc1ncnc2c1ncn2C1OC(CSCCC(N)C(=O)O)C(O)C1O': 1},\n",
       " 'Rec9263a95cfb3eefd6b3eec58e67b4003ffa2a1afd079813be59d88e479cbd91': {'CCC(C)C(=O)O': -1,\n",
       "  'NC(=O)C1=CN(C2OC(COP(=O)(O)OP(=O)(O)OCC3OC(n4cnc5c(N)ncnc54)C(OP(=O)(O)O)C3O)C(O)C2O)C=CC1': -1,\n",
       "  'O=O': -1,\n",
       "  'CC(CCO)C(=O)O': 1,\n",
       "  'NC(=O)c1ccc[n+](C2OC(COP(=O)(O)OP(=O)(O)OCC3OC(n4cnc5c(N)ncnc54)C(OP(=O)(O)O)C3O)C(O)C2O)c1': 1,\n",
       "  'O': 1},\n",
       " 'R4a2c2df616bf734244fb7c5e35b1db89933ce2bea43df9a61a7bb80160a20652': {'CC(CCO)C(=O)O': -1,\n",
       "  'C[S+](CCC(N)C(=O)O)CC1OC(n2cnc3c(N)ncnc32)C(O)C1O': -1,\n",
       "  'CC(O)CC(C)C(=O)O': 1,\n",
       "  'Nc1ncnc2c1ncn2C1OC(CSCCC(N)C(=O)O)C(O)C1O': 1},\n",
       " 'R44352c9652a32680f0d9896c161aa95cbc7795202933f1f4489d3ea16372b54e': {'CC(O)CC(C)C(=O)O': -1,\n",
       "  'CC(O)C(C)(C)C(=O)O': 1}}"
      ]
     },
     "execution_count": 227,
     "metadata": {},
     "output_type": "execute_result"
    }
   ],
   "source": [
    "pathways.pathways[i].reaction_stoichs"
   ]
  },
  {
   "cell_type": "code",
   "execution_count": null,
   "metadata": {},
   "outputs": [],
   "source": []
  }
 ],
 "metadata": {
  "kernelspec": {
   "display_name": "Python 3 (ipykernel)",
   "language": "python",
   "name": "python3"
  },
  "language_info": {
   "codemirror_mode": {
    "name": "ipython",
    "version": 3
   },
   "file_extension": ".py",
   "mimetype": "text/x-python",
   "name": "python",
   "nbconvert_exporter": "python",
   "pygments_lexer": "ipython3",
   "version": "3.7.13"
  }
 },
 "nbformat": 4,
 "nbformat_minor": 4
}
