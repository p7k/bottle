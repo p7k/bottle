{
 "cells": [
  {
   "cell_type": "code",
   "execution_count": 2,
   "metadata": {},
   "outputs": [
    {
     "name": "stdout",
     "output_type": "stream",
     "text": [
      "The autoreload extension is already loaded. To reload it, use:\n",
      "  %reload_ext autoreload\n"
     ]
    },
    {
     "name": "stderr",
     "output_type": "stream",
     "text": [
      "/home/stef/miniconda3/envs/mine/lib/python3.7/site-packages/tqdm/auto.py:21: TqdmWarning: IProgress not found. Please update jupyter and ipywidgets. See https://ipywidgets.readthedocs.io/en/stable/user_install.html\n",
      "  from .autonotebook import tqdm as notebook_tqdm\n",
      "Some weights of the model checkpoint at /home/stef/miniconda3/envs/mine/lib/python3.7/site-packages/rxnmapper/models/transformers/albert_heads_8_uspto_all_1310k were not used when initializing AlbertModel: ['predictions.bias', 'predictions.decoder.weight', 'predictions.dense.bias', 'predictions.dense.weight', 'predictions.LayerNorm.weight', 'predictions.decoder.bias', 'predictions.LayerNorm.bias']\n",
      "- This IS expected if you are initializing AlbertModel from the checkpoint of a model trained on another task or with another architecture (e.g. initializing a BertForSequenceClassification model from a BertForPreTraining model).\n",
      "- This IS NOT expected if you are initializing AlbertModel from the checkpoint of a model that you expect to be exactly identical (initializing a BertForSequenceClassification model from a BertForSequenceClassification model).\n"
     ]
    }
   ],
   "source": [
    "%load_ext autoreload\n",
    "%autoreload 2\n",
    "from rdkit import Chem\n",
    "from rdkit.Chem import Draw, rdChemReactions, AllChem, rdFMCS\n",
    "from rdkit.Chem.Draw import IPythonConsole\n",
    "from src.rxn_ctr_mcs import *"
   ]
  },
  {
   "cell_type": "code",
   "execution_count": 3,
   "metadata": {},
   "outputs": [
    {
     "data": {
      "text/plain": [
       "[1.0, 0.8888888888888888]"
      ]
     },
     "execution_count": 3,
     "metadata": {},
     "output_type": "execute_result"
    }
   ],
   "source": [
    "# Develop rxns -> PRC MCS Index\n",
    "\n",
    "pred_rxn_sma = 'O=C(O)CCC(CC(=O)O)C(=O)O.\\\n",
    "                NC(=O)c1ccc[n+](C2OC(COP(=O)(O)OP(=O)(O)OCC3OC(n4cnc5c(N)ncnc54)C(OP(=O)(O)O)C3O)C(O)C2O)c1\\\n",
    "                >>O=C(O)C=C(CCC(=O)O)C(=O)O.\\\n",
    "                NC(=O)C1=CN(C2OC(COP(=O)(O)OP(=O)(O)OCC3OC(n4cnc5c(N)ncnc54)C(OP(=O)(O)O)C3O)C(O)C2O)C=CC1'\n",
    "\n",
    "known_rxn_entry = [{'(2R)-2-methylbutanedioic acid:0': 'CC(CC(=O)O)C(=O)O',\n",
    "                    'NAD+:0': 'NC(=O)c1ccc[n+](C2OC(COP(=O)(O)OP(=O)(O)OCC3OC(n4cnc5c(N)ncnc54)C(O)C3O)C(O)C2O)c1'},\n",
    "                    {'NADH:0': 'NC(=O)C1=CN(C2OC(COP(=O)(O)OP(=O)(O)OCC3OC(n4cnc5c(N)ncnc54)C(O)C3O)C(O)C2O)C=CC1',\n",
    "                    'citraconic acid:0': 'CC(=CC(=O)O)C(=O)O'}]\n",
    "\n",
    "known_rxn_sma = entry2smarts(known_rxn_entry)\n",
    "\n",
    "rxn_sma1 = pred_rxn_sma\n",
    "rxn_sma2 = known_rxn_sma\n",
    "\n",
    "'''\n",
    "'''\n",
    "am_rxn_smarts = [atom_map(rxn_sma1), atom_map(rxn_sma2)] # Atom map\n",
    "\n",
    "# Construct reaction objects\n",
    "rxns = []\n",
    "for elt in am_rxn_smarts:\n",
    "    temp = AllChem.ReactionFromSmarts(elt, useSmiles=True)\n",
    "    temp.Initialize()\n",
    "    rxns.append(temp)\n",
    "\n",
    "rc_atoms = [elt.GetReactingAtoms() for elt in rxns] # Get reaction center atom idxs\n",
    "\n",
    "# Construct rxn ctr mol objs\n",
    "rcs = []\n",
    "for i, t_rxn in enumerate(rxns):\n",
    "    temp = []\n",
    "    for j, t_mol in enumerate(t_rxn.GetReactants()):\n",
    "        temp.append(get_sub_mol(t_mol, rc_atoms[i][j]))\n",
    "    rcs.append(temp)\n",
    "\n",
    "# Align substrates of the 2 reactions\n",
    "rc_idxs = [] # Each element: (idx for rxn 1, idx for rxn 2)\n",
    "remaining = [[i for i in range(len(elt))] for elt in rcs]\n",
    "while (len(remaining[0]) > 0) & (len(remaining[1]) > 0):\n",
    "    idx_pair = align_substrates(rcs, remaining)\n",
    "\n",
    "    if idx_pair is None:\n",
    "        break\n",
    "    else:\n",
    "        rc_idxs.append(idx_pair)\n",
    "        remaining[0].remove(idx_pair[0])\n",
    "        remaining[1].remove(idx_pair[1])\n",
    "\n",
    "# Re-label atom map nums in substrate pairs\n",
    "# so that reaction centers of aligned subs\n",
    "# take atommapnum from rxn1 arbitrarily\n",
    "# (Necessary for PRC MCS)\n",
    "rxns = align_atom_map_nums(rxns, rcs, rc_idxs, rc_atoms)\n",
    "\n",
    "prc_mcs = get_prc_mcs(rxns, rcs, rc_idxs, rc_atoms) # Compute MCS seeded by reaction center\n",
    "prc_mcs"
   ]
  }
 ],
 "metadata": {
  "kernelspec": {
   "display_name": "mine",
   "language": "python",
   "name": "python3"
  },
  "language_info": {
   "codemirror_mode": {
    "name": "ipython",
    "version": 3
   },
   "file_extension": ".py",
   "mimetype": "text/x-python",
   "name": "python",
   "nbconvert_exporter": "python",
   "pygments_lexer": "ipython3",
   "version": "3.7.12"
  }
 },
 "nbformat": 4,
 "nbformat_minor": 2
}
