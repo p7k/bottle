{
 "cells": [
  {
   "cell_type": "markdown",
   "metadata": {},
   "source": [
    "# intiial development"
   ]
  },
  {
   "cell_type": "code",
   "execution_count": 1,
   "metadata": {},
   "outputs": [
    {
     "name": "stderr",
     "output_type": "stream",
     "text": [
      "/home/stef/miniconda3/envs/mine/lib/python3.7/site-packages/tqdm/auto.py:21: TqdmWarning: IProgress not found. Please update jupyter and ipywidgets. See https://ipywidgets.readthedocs.io/en/stable/user_install.html\n",
      "  from .autonotebook import tqdm as notebook_tqdm\n",
      "Some weights of the model checkpoint at /home/stef/miniconda3/envs/mine/lib/python3.7/site-packages/rxnmapper/models/transformers/albert_heads_8_uspto_all_1310k were not used when initializing AlbertModel: ['predictions.dense.weight', 'predictions.LayerNorm.weight', 'predictions.dense.bias', 'predictions.decoder.bias', 'predictions.decoder.weight', 'predictions.bias', 'predictions.LayerNorm.bias']\n",
      "- This IS expected if you are initializing AlbertModel from the checkpoint of a model trained on another task or with another architecture (e.g. initializing a BertForSequenceClassification model from a BertForPreTraining model).\n",
      "- This IS NOT expected if you are initializing AlbertModel from the checkpoint of a model that you expect to be exactly identical (initializing a BertForSequenceClassification model from a BertForSequenceClassification model).\n"
     ]
    }
   ],
   "source": [
    "%load_ext autoreload\n",
    "%autoreload 2\n",
    "from rdkit import Chem\n",
    "from rdkit.Chem import Draw, rdChemReactions, AllChem, rdFMCS\n",
    "from rdkit.Chem.Draw import IPythonConsole\n",
    "from src.rxn_ctr_mcs import *\n",
    "from src.utils import rxn_entry_to_smarts"
   ]
  },
  {
   "cell_type": "code",
   "execution_count": 3,
   "metadata": {},
   "outputs": [
    {
     "data": {
      "text/plain": [
       "[1.0, 0.8888888888888888]"
      ]
     },
     "execution_count": 3,
     "metadata": {},
     "output_type": "execute_result"
    }
   ],
   "source": [
    "# Develop rxns -> PRC MCS Index\n",
    "\n",
    "pred_rxn_sma = 'O=C(O)CCC(CC(=O)O)C(=O)O.\\\n",
    "                NC(=O)c1ccc[n+](C2OC(COP(=O)(O)OP(=O)(O)OCC3OC(n4cnc5c(N)ncnc54)C(OP(=O)(O)O)C3O)C(O)C2O)c1\\\n",
    "                >>O=C(O)C=C(CCC(=O)O)C(=O)O.\\\n",
    "                NC(=O)C1=CN(C2OC(COP(=O)(O)OP(=O)(O)OCC3OC(n4cnc5c(N)ncnc54)C(OP(=O)(O)O)C3O)C(O)C2O)C=CC1'\n",
    "\n",
    "known_rxn_entry = [{'(2R)-2-methylbutanedioic acid:0': 'CC(CC(=O)O)C(=O)O',\n",
    "                    'NAD+:0': 'NC(=O)c1ccc[n+](C2OC(COP(=O)(O)OP(=O)(O)OCC3OC(n4cnc5c(N)ncnc54)C(O)C3O)C(O)C2O)c1'},\n",
    "                    {'NADH:0': 'NC(=O)C1=CN(C2OC(COP(=O)(O)OP(=O)(O)OCC3OC(n4cnc5c(N)ncnc54)C(O)C3O)C(O)C2O)C=CC1',\n",
    "                    'citraconic acid:0': 'CC(=CC(=O)O)C(=O)O'}]\n",
    "\n",
    "known_rxn_sma = rxn_entry_to_smarts(known_rxn_entry)\n",
    "\n",
    "rxn_sma1 = pred_rxn_sma\n",
    "rxn_sma2 = known_rxn_sma\n",
    "\n",
    "'''\n",
    "'''\n",
    "am_rxn_smarts = [atom_map(rxn_sma1), atom_map(rxn_sma2)] # Atom map\n",
    "\n",
    "# Construct reaction objects\n",
    "rxns = []\n",
    "for elt in am_rxn_smarts:\n",
    "    temp = AllChem.ReactionFromSmarts(elt, useSmiles=True)\n",
    "    temp.Initialize()\n",
    "    rxns.append(temp)\n",
    "\n",
    "rc_atoms = [elt.GetReactingAtoms() for elt in rxns] # Get reaction center atom idxs\n",
    "\n",
    "# Construct rxn ctr mol objs\n",
    "rcs = []\n",
    "for i, t_rxn in enumerate(rxns):\n",
    "    temp = []\n",
    "    for j, t_mol in enumerate(t_rxn.GetReactants()):\n",
    "        temp.append(get_sub_mol(t_mol, rc_atoms[i][j]))\n",
    "    rcs.append(temp)\n",
    "\n",
    "# Align substrates of the 2 reactions\n",
    "rc_idxs = [] # Each element: (idx for rxn 1, idx for rxn 2)\n",
    "remaining = [[i for i in range(len(elt))] for elt in rcs]\n",
    "while (len(remaining[0]) > 0) & (len(remaining[1]) > 0):\n",
    "    idx_pair = align_substrates(rcs, remaining)\n",
    "\n",
    "    if idx_pair is None:\n",
    "        break\n",
    "    else:\n",
    "        rc_idxs.append(idx_pair)\n",
    "        remaining[0].remove(idx_pair[0])\n",
    "        remaining[1].remove(idx_pair[1])\n",
    "\n",
    "# Re-label atom map nums in substrate pairs\n",
    "# so that reaction centers of aligned subs\n",
    "# take atommapnum from rxn1 arbitrarily\n",
    "# (Necessary for PRC MCS)\n",
    "rxns = align_atom_map_nums(rxns, rcs, rc_idxs, rc_atoms)\n",
    "\n",
    "prc_mcs = get_prc_mcs(rxns, rcs, rc_idxs, rc_atoms) # Compute MCS seeded by reaction center\n",
    "prc_mcs"
   ]
  },
  {
   "cell_type": "code",
   "execution_count": 7,
   "metadata": {},
   "outputs": [
    {
     "name": "stdout",
     "output_type": "stream",
     "text": [
      "0  +  3  =  3  ?\n",
      "0  +  2  =  2  ?\n",
      "0  +  2  =  2  ?\n",
      "0  +  1  =  1  ?\n",
      "0  +  3  =  3  ?\n"
     ]
    }
   ],
   "source": [
    "# Test if MCS is hydrogen sensitive\n",
    "\n",
    "smi1 = '[CH3][CH2][CH2][NH][CH3]'\n",
    "smi2 = '[CH3][CH2][CH2][NH3+]'\n",
    "smi1 = 'CCCNC'\n",
    "smi2 = 'CCCN'\n",
    "\n",
    "mol1 = Chem.MolFromSmiles(smi1)\n",
    "mol2 = Chem.MolFromSmiles(smi2)\n",
    "\n",
    "for atom in mol1.GetAtoms():\n",
    "    print(atom.GetNumExplicitHs(), ' + ', atom.GetNumImplicitHs(), ' = ', atom.GetTotalNumHs(), ' ?')\n",
    "    \n"
   ]
  },
  {
   "cell_type": "code",
   "execution_count": 10,
   "metadata": {},
   "outputs": [],
   "source": [
    "res = rdFMCS.FindMCS((mol1, mol2),\n",
    "                                atomCompare=rdFMCS.AtomCompare.CompareElements,\n",
    "                                bondCompare=rdFMCS.BondCompare.CompareOrderExact,\n",
    "                                matchValences=True\n",
    "                            )"
   ]
  },
  {
   "cell_type": "code",
   "execution_count": 11,
   "metadata": {},
   "outputs": [
    {
     "data": {
      "image/png": "[encoded data removed]",
      "text/plain": [
       "<rdkit.Chem.rdchem.Mol at 0x7ffa71efd080>"
      ]
     },
     "execution_count": 11,
     "metadata": {},
     "output_type": "execute_result"
    }
   ],
   "source": [
    "Chem.MolFromSmarts(res.smartsString)"
   ]
  },
  {
   "cell_type": "code",
   "execution_count": 12,
   "metadata": {},
   "outputs": [
    {
     "data": {
      "text/plain": [
       "'[#6]-[#6]-[#6]-[#7]'"
      ]
     },
     "execution_count": 12,
     "metadata": {},
     "output_type": "execute_result"
    }
   ],
   "source": [
    "res.smartsString"
   ]
  },
  {
   "cell_type": "code",
   "execution_count": 13,
   "metadata": {},
   "outputs": [
    {
     "data": {
      "image/png": "[encoded data removed]",
      "text/plain": [
       "<rdkit.Chem.rdchem.Mol at 0x7ffb56fbeee0>"
      ]
     },
     "execution_count": 13,
     "metadata": {},
     "output_type": "execute_result"
    }
   ],
   "source": [
    "mol1"
   ]
  },
  {
   "cell_type": "code",
   "execution_count": 14,
   "metadata": {},
   "outputs": [
    {
     "data": {
      "image/png": "[encoded data removed]",
      "text/plain": [
       "<rdkit.Chem.rdchem.Mol at 0x7ffb45447f30>"
      ]
     },
     "execution_count": 14,
     "metadata": {},
     "output_type": "execute_result"
    }
   ],
   "source": [
    "mol2"
   ]
  },
  {
   "cell_type": "code",
   "execution_count": 31,
   "metadata": {},
   "outputs": [
    {
     "data": {
      "image/png": "[encoded data removed]",
      "text/plain": [
       "<rdkit.Chem.rdChemReactions.ChemicalReaction at 0x7f6f18057ad0>"
      ]
     },
     "execution_count": 31,
     "metadata": {},
     "output_type": "execute_result"
    }
   ],
   "source": [
    "rule_24_40 = '[#6;$([#6&!R](-&!@[#6&!R]=&!@[#8&!R])(-&!@[#6&!R]-&!@[#6&!R]-&!@[#6&!R])-&!@[#7&!R]);!$([#6&!R](-&!@[#6&!R]=&!@[#8&!R])(-&!@[#7&!R])-&!@[#6&!R](-&!@[#8&!R])-&!@[#6&!R]):1]-[#6;$([#6&!R](-[#6&!R](-&!@[#6&!R]-&!@[#6&!R]-&!@[#6&!R])-&!@[#7&!R])=[#8&!R]);!$([#6&!R](-[#6&!R](-&!@[#7&!R])-&!@[#6&!R](-&!@[#8&!R])-&!@[#6&!R])=[#8&!R]):2]-[#8:3]>>[#6:1].[#6:2]=[#8:3]'\n",
    "AllChem.ReactionFromSmarts(rule_24_40)"
   ]
  },
  {
   "cell_type": "code",
   "execution_count": 33,
   "metadata": {},
   "outputs": [
    {
     "data": {
      "text/plain": [
       "'[#6;$([#6&!R](-&!@[#6&!R]=&!@[#8&!R])(-&!@[#6&!R]-&!@[#6&!R]-&!@[#6&!R])-&!@[#7&!R]);!$([#6&!R](-&!@[#6&!R]=&!@[#8&!R])(-&!@[#7&!R])-&!@[#6&!R](-&!@[#8&!R])-&!@[#6&!R]):1]-[#6;$([#6&!R](-[#6&!R](-&!@[#6&!R]-&!@[#6&!R]-&!@[#6&!R])-&!@[#7&!R])=[#8&!R]);!$([#6&!R](-[#6&!R](-&!@[#7&!R])-&!@[#6&!R](-&!@[#8&!R])-&!@[#6&!R])=[#8&!R]):2]-[#8:3]>>[#6:1]'"
      ]
     },
     "execution_count": 33,
     "metadata": {},
     "output_type": "execute_result"
    }
   ],
   "source": [
    "rule_24_40.split('.')[0]"
   ]
  },
  {
   "cell_type": "code",
   "execution_count": 62,
   "metadata": {},
   "outputs": [],
   "source": [
    "# Getting started rdkit example\n",
    "\n",
    "mols = [Chem.MolFromSmiles(\"CCC1CC2C1CN2\"), Chem.MolFromSmiles(\"C1CC2C1CC2\")]\n"
   ]
  },
  {
   "cell_type": "code",
   "execution_count": 66,
   "metadata": {},
   "outputs": [
    {
     "data": {
      "image/png": "[encoded data removed]",
      "text/plain": [
       "<rdkit.Chem.rdchem.Mol at 0x7f6f1274ed50>"
      ]
     },
     "execution_count": 66,
     "metadata": {},
     "output_type": "execute_result"
    }
   ],
   "source": [
    "mols[0]"
   ]
  },
  {
   "cell_type": "code",
   "execution_count": 67,
   "metadata": {},
   "outputs": [
    {
     "data": {
      "image/png": "[encoded data removed]",
      "text/plain": [
       "<rdkit.Chem.rdchem.Mol at 0x7f6f13f8de90>"
      ]
     },
     "execution_count": 67,
     "metadata": {},
     "output_type": "execute_result"
    }
   ],
   "source": [
    "mols[1]"
   ]
  },
  {
   "cell_type": "code",
   "execution_count": 68,
   "metadata": {},
   "outputs": [
    {
     "data": {
      "image/png": "[encoded data removed]",
      "text/plain": [
       "<rdkit.Chem.rdchem.Mol at 0x7f6f13fb3da0>"
      ]
     },
     "execution_count": 68,
     "metadata": {},
     "output_type": "execute_result"
    }
   ],
   "source": [
    "\n",
    "Chem.MolFromSmarts(rdFMCS.FindMCS(mols).smartsString)\n"
   ]
  },
  {
   "cell_type": "code",
   "execution_count": 69,
   "metadata": {},
   "outputs": [
    {
     "data": {
      "image/png": "[encoded data removed]",
      "text/plain": [
       "<rdkit.Chem.rdchem.Mol at 0x7f6f12748a30>"
      ]
     },
     "execution_count": 69,
     "metadata": {},
     "output_type": "execute_result"
    }
   ],
   "source": [
    "\n",
    "Chem.MolFromSmarts(rdFMCS.FindMCS(mols, ringMatchesRingOnly=True).smartsString)\n"
   ]
  },
  {
   "cell_type": "code",
   "execution_count": 71,
   "metadata": {},
   "outputs": [
    {
     "data": {
      "image/png": "[encoded data removed]",
      "text/plain": [
       "<rdkit.Chem.rdchem.Mol at 0x7f6f1809e760>"
      ]
     },
     "execution_count": 71,
     "metadata": {},
     "output_type": "execute_result"
    }
   ],
   "source": [
    "\n",
    "Chem.MolFromSmarts(rdFMCS.FindMCS(mols, completeRingsOnly=True).smartsString)"
   ]
  },
  {
   "cell_type": "code",
   "execution_count": 7,
   "metadata": {},
   "outputs": [
    {
     "ename": "AtomValenceException",
     "evalue": "Explicit valence for atom # 34 N, 4, is greater than permitted",
     "output_type": "error",
     "traceback": [
      "\u001b[0;31m---------------------------------------------------------------------------\u001b[0m",
      "\u001b[0;31mAtomValenceException\u001b[0m                      Traceback (most recent call last)",
      "\u001b[0;32m/tmp/ipykernel_394736/2214206578.py\u001b[0m in \u001b[0;36m<module>\u001b[0;34m\u001b[0m\n\u001b[1;32m      1\u001b[0m \u001b[0msma1\u001b[0m \u001b[0;34m=\u001b[0m \u001b[0;34m'[8#8:1]=[6#6:2](-[8#8H:3])-[6#6H2:4]-[2970#6H2:5]-[8910#6:15](=[8#8:14])-[8#8H:16]'\u001b[0m\u001b[0;34m\u001b[0m\u001b[0;34m\u001b[0m\u001b[0m\n\u001b[1;32m      2\u001b[0m \u001b[0msma2\u001b[0m \u001b[0;34m=\u001b[0m \u001b[0;34m'[6#6H3:1]-[2970#6H:5](-[6#6:3](=[8#8:4])-[16#16:5]-[6#6H2:6]-[6#6H2:7]-[7#7H:8]-[6#6:9](=[8#8:10])-[6#6H2:11]-[6#6H2:12]-[7#7H:13]-[6#6:14](=[8#8:15])-[6#6H:16](-[8#8H:17])-[6#6:18](-[6#6H3:19])(-[6#6H3:20])-[6#6H2:21]-[8#8:22]-[15#15:23](=[8#8:24])(-[8#8H:25])-[8#8:26]-[15#15:27](=[8#8:28])(-[8#8H:29])-[8#8:30]-[6#6H2:31]-[6#6H:32]1-[8#8:33]-[6#6H:34](-[7#7:35]2:[6#6H:36]:[7#7:37]:[6#6:38]3:[6#6:39](-[7#7H2:40]):[7#7:41]:[6#6H:42]:[7#7:43]:[6#6:44]:2:3)-[6#6H:45](-[8#8H:46])-[6#6H:47]-1-[8#8:48]-[15#15:49](=[8#8:50])(-[8#8H:51])-[8#8H:52])-[8910#6:15](=[8#8:53])-[8#8H:55]'\u001b[0m\u001b[0;34m\u001b[0m\u001b[0;34m\u001b[0m\u001b[0m\n\u001b[0;32m----> 3\u001b[0;31m \u001b[0msubs\u001b[0m \u001b[0;34m=\u001b[0m \u001b[0;34m[\u001b[0m\u001b[0mChem\u001b[0m\u001b[0;34m.\u001b[0m\u001b[0mSanitizeMol\u001b[0m\u001b[0;34m(\u001b[0m\u001b[0mChem\u001b[0m\u001b[0;34m.\u001b[0m\u001b[0mMolFromSmarts\u001b[0m\u001b[0;34m(\u001b[0m\u001b[0melt\u001b[0m\u001b[0;34m)\u001b[0m\u001b[0;34m)\u001b[0m \u001b[0;32mfor\u001b[0m \u001b[0melt\u001b[0m \u001b[0;32min\u001b[0m \u001b[0;34m[\u001b[0m\u001b[0msma1\u001b[0m\u001b[0;34m,\u001b[0m \u001b[0msma2\u001b[0m\u001b[0;34m]\u001b[0m\u001b[0;34m]\u001b[0m\u001b[0;34m\u001b[0m\u001b[0;34m\u001b[0m\u001b[0m\n\u001b[0m\u001b[1;32m      4\u001b[0m \u001b[0;34m\u001b[0m\u001b[0m\n\u001b[1;32m      5\u001b[0m res = rdFMCS.FindMCS(subs,\n",
      "\u001b[0;32m/tmp/ipykernel_394736/2214206578.py\u001b[0m in \u001b[0;36m<listcomp>\u001b[0;34m(.0)\u001b[0m\n\u001b[1;32m      1\u001b[0m \u001b[0msma1\u001b[0m \u001b[0;34m=\u001b[0m \u001b[0;34m'[8#8:1]=[6#6:2](-[8#8H:3])-[6#6H2:4]-[2970#6H2:5]-[8910#6:15](=[8#8:14])-[8#8H:16]'\u001b[0m\u001b[0;34m\u001b[0m\u001b[0;34m\u001b[0m\u001b[0m\n\u001b[1;32m      2\u001b[0m \u001b[0msma2\u001b[0m \u001b[0;34m=\u001b[0m \u001b[0;34m'[6#6H3:1]-[2970#6H:5](-[6#6:3](=[8#8:4])-[16#16:5]-[6#6H2:6]-[6#6H2:7]-[7#7H:8]-[6#6:9](=[8#8:10])-[6#6H2:11]-[6#6H2:12]-[7#7H:13]-[6#6:14](=[8#8:15])-[6#6H:16](-[8#8H:17])-[6#6:18](-[6#6H3:19])(-[6#6H3:20])-[6#6H2:21]-[8#8:22]-[15#15:23](=[8#8:24])(-[8#8H:25])-[8#8:26]-[15#15:27](=[8#8:28])(-[8#8H:29])-[8#8:30]-[6#6H2:31]-[6#6H:32]1-[8#8:33]-[6#6H:34](-[7#7:35]2:[6#6H:36]:[7#7:37]:[6#6:38]3:[6#6:39](-[7#7H2:40]):[7#7:41]:[6#6H:42]:[7#7:43]:[6#6:44]:2:3)-[6#6H:45](-[8#8H:46])-[6#6H:47]-1-[8#8:48]-[15#15:49](=[8#8:50])(-[8#8H:51])-[8#8H:52])-[8910#6:15](=[8#8:53])-[8#8H:55]'\u001b[0m\u001b[0;34m\u001b[0m\u001b[0;34m\u001b[0m\u001b[0m\n\u001b[0;32m----> 3\u001b[0;31m \u001b[0msubs\u001b[0m \u001b[0;34m=\u001b[0m \u001b[0;34m[\u001b[0m\u001b[0mChem\u001b[0m\u001b[0;34m.\u001b[0m\u001b[0mSanitizeMol\u001b[0m\u001b[0;34m(\u001b[0m\u001b[0mChem\u001b[0m\u001b[0;34m.\u001b[0m\u001b[0mMolFromSmarts\u001b[0m\u001b[0;34m(\u001b[0m\u001b[0melt\u001b[0m\u001b[0;34m)\u001b[0m\u001b[0;34m)\u001b[0m \u001b[0;32mfor\u001b[0m \u001b[0melt\u001b[0m \u001b[0;32min\u001b[0m \u001b[0;34m[\u001b[0m\u001b[0msma1\u001b[0m\u001b[0;34m,\u001b[0m \u001b[0msma2\u001b[0m\u001b[0;34m]\u001b[0m\u001b[0;34m]\u001b[0m\u001b[0;34m\u001b[0m\u001b[0;34m\u001b[0m\u001b[0m\n\u001b[0m\u001b[1;32m      4\u001b[0m \u001b[0;34m\u001b[0m\u001b[0m\n\u001b[1;32m      5\u001b[0m res = rdFMCS.FindMCS(subs,\n",
      "\u001b[0;31mAtomValenceException\u001b[0m: Explicit valence for atom # 34 N, 4, is greater than permitted"
     ]
    }
   ],
   "source": [
    "sma1 = '[8#8:1]=[6#6:2](-[8#8H:3])-[6#6H2:4]-[2970#6H2:5]-[8910#6:15](=[8#8:14])-[8#8H:16]'\n",
    "sma2 = '[6#6H3:1]-[2970#6H:5](-[6#6:3](=[8#8:4])-[16#16:5]-[6#6H2:6]-[6#6H2:7]-[7#7H:8]-[6#6:9](=[8#8:10])-[6#6H2:11]-[6#6H2:12]-[7#7H:13]-[6#6:14](=[8#8:15])-[6#6H:16](-[8#8H:17])-[6#6:18](-[6#6H3:19])(-[6#6H3:20])-[6#6H2:21]-[8#8:22]-[15#15:23](=[8#8:24])(-[8#8H:25])-[8#8:26]-[15#15:27](=[8#8:28])(-[8#8H:29])-[8#8:30]-[6#6H2:31]-[6#6H:32]1-[8#8:33]-[6#6H:34](-[7#7:35]2:[6#6H:36]:[7#7:37]:[6#6:38]3:[6#6:39](-[7#7H2:40]):[7#7:41]:[6#6H:42]:[7#7:43]:[6#6:44]:2:3)-[6#6H:45](-[8#8H:46])-[6#6H:47]-1-[8#8:48]-[15#15:49](=[8#8:50])(-[8#8H:51])-[8#8H:52])-[8910#6:15](=[8#8:53])-[8#8H:55]'\n",
    "subs = [Chem.SanitizeMol(Chem.MolFromSmarts(elt)) for elt in [sma1, sma2]]\n",
    "\n",
    "res = rdFMCS.FindMCS(subs,\n",
    "                    atomCompare=rdFMCS.AtomCompare.CompareIsotopes,\n",
    "                    bondCompare=rdFMCS.BondCompare.CompareOrderExact,\n",
    "                    matchChiralTag=False,\n",
    "                    ringMatchesRingOnly=True,\n",
    "                    completeRingsOnly=True,\n",
    "                    matchValences=True\n",
    "                            )"
   ]
  },
  {
   "cell_type": "code",
   "execution_count": 15,
   "metadata": {},
   "outputs": [
    {
     "data": {
      "text/plain": [
       "'[6#6H3:1]-[2970#6H:5](-[6#6:3](=[8#8:4])-[16#16:5]-[6#6H2:6]-[6#6H2:7]-[7#7H:8]-[6#6:9](=[8#8:10])-[6#6H2:11]-[6#6H2:12]-[7#7H:13]-[6#6:14](=[8#8:15])-[6#6H:16](-[8#8H:17])-[6#6:18](-[6#6H3:19])(-[6#6H3:20])-[6#6H2:21]-[8#8:22]-[15#15:23](=[8#8:24])(-[8#8H:25])-[8#8:26]-[15#15:27](=[8#8:28])(-[8#8H:29])-[8#8:30]-[6#6H2:31]-[6#6H:32]1-[8#8:33]-[6#6H:34](-[7#7:35]2:[6#6H:36]:[7#7:37]:[6#6:38]3:[6#6:39](-[7#7H2:40]):[7#7:41]:[6#6H:42]:[7#7:43]:[6#6:44]:2:3)-[6#6H:45](-[8#8H:46])-[6#6H:47]-1-[8#8:48]-[15#15:49](=[8#8:50])(-[8#8H:51])-[8#8H:52])-[8910#6:15](=[8#8:53])-[8#8H:55]'"
      ]
     },
     "execution_count": 15,
     "metadata": {},
     "output_type": "execute_result"
    }
   ],
   "source": [
    "# Chem.SanitizeMol(Chem.MolFromSmarts(sma2))\n",
    "# Chem.MolFromSmarts(sma2).GetAtomWithIdx(34).GetAtomicNum()\n",
    "sma2"
   ]
  },
  {
   "cell_type": "code",
   "execution_count": 23,
   "metadata": {},
   "outputs": [
    {
     "data": {
      "text/plain": [
       "rdkit.Chem.rdmolops.SanitizeFlags.SANITIZE_NONE"
      ]
     },
     "execution_count": 23,
     "metadata": {},
     "output_type": "execute_result"
    }
   ],
   "source": [
    "# From db\n",
    "badsmi='CC(C(=O)O)C(=O)SCCNC(=O)CCNC(=O)C(O)C(C)(C)COP(=O)(O)OP(=O)(O)OCC1OC(n2cnc3c(N)ncnc32)C(O)C1OP(=O)(O)O'\n",
    "Chem.SanitizeMol(Chem.MolFromSmiles(badsmi))\n"
   ]
  },
  {
   "cell_type": "code",
   "execution_count": 25,
   "metadata": {},
   "outputs": [
    {
     "data": {
      "text/plain": [
       "rdkit.Chem.rdmolops.SanitizeFlags.SANITIZE_NONE"
      ]
     },
     "execution_count": 25,
     "metadata": {},
     "output_type": "execute_result"
    }
   ],
   "source": [
    "badsmi='[CH3:1][CH:2]([C:3](=[O:4])[S:5][CH2:6][CH2:7][NH:8][C:9](=[O:10])[CH2:11][CH2:12][NH:13][C:14](=[O:15])[CH:16]([OH:17])[C:18]([CH3:19])([CH3:20])[CH2:21][O:22][P:23](=[O:24])([OH:25])[O:26][P:27](=[O:28])([OH:29])[O:30][CH2:31][CH:32]1[O:33][CH:34]([n:35]2[cH:36][n:37][c:38]3[c:39]([NH2:40])[n:41][cH:42][n:43][c:44]23)[CH:45]([OH:46])[CH:47]1[O:48][P:49](=[O:50])([OH:51])[OH:52])[C:54](=[O:53])[OH:55]'\n",
    "Chem.SanitizeMol(Chem.MolFromSmarts(badsmi))"
   ]
  },
  {
   "cell_type": "code",
   "execution_count": 21,
   "metadata": {},
   "outputs": [],
   "source": [
    "line_341 = Chem.MolFromSmarts('[#6H3:1]-[#6H:5](-[#6:3](=[#8:4])-[#16:5]-[#6H2:6]-[#6H2:7]-[#7H:8]-[#6:9](=[#8:10])-[#6H2:11]-[#6H2:12]-[#7H:13]-[#6:14](=[#8:15])-[#6H:16](-[#8H:17])-[#6:18](-[#6H3:19])(-[#6H3:20])-[#6H2:21]-[#8:22]-[#15:23](=[#8:24])(-[#8H:25])-[#8:26]-[#15:27](=[#8:28])(-[#8H:29])-[#8:30]-[#6H2:31]-[#6H:32]1-[#8:33]-[#6H:34](-[#7:35]2:[#6H:36]:[#7:37]:[#6:38]3:[#6:39](-[#7H2:40]):[#7:41]:[#6H:42]:[#7:43]:[#6:44]:2:3)-[#6H:45](-[#8H:46])-[#6H:47]-1-[#8:48]-[#15:49](=[#8:50])(-[#8H:51])-[#8H:52])-[#6:15](=[#8:53])-[#8H:55]')"
   ]
  },
  {
   "cell_type": "code",
   "execution_count": 22,
   "metadata": {},
   "outputs": [
    {
     "ename": "AtomValenceException",
     "evalue": "Explicit valence for atom # 34 N, 4, is greater than permitted",
     "output_type": "error",
     "traceback": [
      "\u001b[0;31m---------------------------------------------------------------------------\u001b[0m",
      "\u001b[0;31mAtomValenceException\u001b[0m                      Traceback (most recent call last)",
      "\u001b[0;32m/tmp/ipykernel_394736/2376134105.py\u001b[0m in \u001b[0;36m<module>\u001b[0;34m\u001b[0m\n\u001b[0;32m----> 1\u001b[0;31m \u001b[0mChem\u001b[0m\u001b[0;34m.\u001b[0m\u001b[0mSanitizeMol\u001b[0m\u001b[0;34m(\u001b[0m\u001b[0mline_341\u001b[0m\u001b[0;34m)\u001b[0m\u001b[0;34m\u001b[0m\u001b[0;34m\u001b[0m\u001b[0m\n\u001b[0m",
      "\u001b[0;31mAtomValenceException\u001b[0m: Explicit valence for atom # 34 N, 4, is greater than permitted"
     ]
    }
   ],
   "source": [
    "Chem.SanitizeMol(line_341)"
   ]
  },
  {
   "cell_type": "code",
   "execution_count": 17,
   "metadata": {},
   "outputs": [
    {
     "data": {
      "image/png": "[encoded data removed]",
      "text/plain": [
       "<rdkit.Chem.rdchem.Mol at 0x7fafd3982e90>"
      ]
     },
     "execution_count": 17,
     "metadata": {},
     "output_type": "execute_result"
    }
   ],
   "source": [
    "subs[1]"
   ]
  },
  {
   "cell_type": "markdown",
   "metadata": {},
   "source": [
    "# troubleshooting prc mcs analysis"
   ]
  },
  {
   "cell_type": "code",
   "execution_count": null,
   "metadata": {},
   "outputs": [
    {
     "name": "stdout",
     "output_type": "stream",
     "text": [
      "2023.03.2\n"
     ]
    }
   ],
   "source": [
    "from rdkit import Chem\n",
    "from rdkit.Chem import Draw, AllChem\n",
    "from rdkit.Chem.Draw import IPythonConsole\n",
    "\n",
    "import rdkit\n",
    "print(rdkit.__version__)"
   ]
  },
  {
   "cell_type": "code",
   "execution_count": null,
   "metadata": {},
   "outputs": [
    {
     "ename": "RuntimeError",
     "evalue": "Pre-condition Violation\n\tgetExplicitValence() called without call to calcExplicitValence()\n\tViolation occurred on line 306 in file Code/GraphMol/Atom.cpp\n\tFailed Expression: d_explicitValence > -1\n\tRDKIT: 2023.03.2\n\tBOOST: 1_78\n",
     "output_type": "error",
     "traceback": [
      "\u001b[0;31m---------------------------------------------------------------------------\u001b[0m",
      "\u001b[0;31mRuntimeError\u001b[0m                              Traceback (most recent call last)",
      "\u001b[0;32m/tmp/ipykernel_13100/3454031141.py\u001b[0m in \u001b[0;36m<module>\u001b[0;34m\u001b[0m\n\u001b[1;32m      4\u001b[0m \u001b[0mrs\u001b[0m \u001b[0;34m=\u001b[0m \u001b[0;34m[\u001b[0m\u001b[0mrxn\u001b[0m\u001b[0;34m.\u001b[0m\u001b[0mGetReactantTemplate\u001b[0m\u001b[0;34m(\u001b[0m\u001b[0mi\u001b[0m\u001b[0;34m)\u001b[0m \u001b[0;32mfor\u001b[0m \u001b[0mi\u001b[0m \u001b[0;32min\u001b[0m \u001b[0mrange\u001b[0m\u001b[0;34m(\u001b[0m\u001b[0mnr\u001b[0m\u001b[0;34m)\u001b[0m\u001b[0;34m]\u001b[0m\u001b[0;34m\u001b[0m\u001b[0;34m\u001b[0m\u001b[0m\n\u001b[1;32m      5\u001b[0m \u001b[0mps\u001b[0m \u001b[0;34m=\u001b[0m \u001b[0;34m[\u001b[0m\u001b[0mrxn\u001b[0m\u001b[0;34m.\u001b[0m\u001b[0mGetProductTemplate\u001b[0m\u001b[0;34m(\u001b[0m\u001b[0mi\u001b[0m\u001b[0;34m)\u001b[0m \u001b[0;32mfor\u001b[0m \u001b[0mi\u001b[0m \u001b[0;32min\u001b[0m \u001b[0mrange\u001b[0m\u001b[0;34m(\u001b[0m\u001b[0mnp\u001b[0m\u001b[0;34m)\u001b[0m\u001b[0;34m]\u001b[0m\u001b[0;34m\u001b[0m\u001b[0;34m\u001b[0m\u001b[0m\n\u001b[0;32m----> 6\u001b[0;31m \u001b[0mDraw\u001b[0m\u001b[0;34m.\u001b[0m\u001b[0mMolsToGridImage\u001b[0m\u001b[0;34m(\u001b[0m\u001b[0mrs\u001b[0m\u001b[0;34m,\u001b[0m \u001b[0mmolsPerRow\u001b[0m\u001b[0;34m=\u001b[0m\u001b[0;36m2\u001b[0m\u001b[0;34m)\u001b[0m\u001b[0;34m\u001b[0m\u001b[0;34m\u001b[0m\u001b[0m\n\u001b[0m",
      "\u001b[0;32m~/miniconda3/envs/mine/lib/python3.7/site-packages/rdkit/Chem/Draw/IPythonConsole.py\u001b[0m in \u001b[0;36mShowMols\u001b[0;34m(mols, maxMols, **kwargs)\u001b[0m\n\u001b[1;32m    269\u001b[0m     \u001b[0mkwargs\u001b[0m\u001b[0;34m[\u001b[0m\u001b[0;34m\"drawOptions\"\u001b[0m\u001b[0;34m]\u001b[0m \u001b[0;34m=\u001b[0m \u001b[0mdrawOptions\u001b[0m\u001b[0;34m\u001b[0m\u001b[0;34m\u001b[0m\u001b[0m\n\u001b[1;32m    270\u001b[0m \u001b[0;34m\u001b[0m\u001b[0m\n\u001b[0;32m--> 271\u001b[0;31m   \u001b[0mres\u001b[0m \u001b[0;34m=\u001b[0m \u001b[0mfn\u001b[0m\u001b[0;34m(\u001b[0m\u001b[0mmols\u001b[0m\u001b[0;34m,\u001b[0m \u001b[0;34m**\u001b[0m\u001b[0mkwargs\u001b[0m\u001b[0;34m)\u001b[0m\u001b[0;34m\u001b[0m\u001b[0;34m\u001b[0m\u001b[0m\n\u001b[0m\u001b[1;32m    272\u001b[0m   \u001b[0;32mif\u001b[0m \u001b[0mInteractiveRenderer\u001b[0m\u001b[0;34m.\u001b[0m\u001b[0misEnabled\u001b[0m\u001b[0;34m(\u001b[0m\u001b[0;34m)\u001b[0m\u001b[0;34m:\u001b[0m\u001b[0;34m\u001b[0m\u001b[0;34m\u001b[0m\u001b[0m\n\u001b[1;32m    273\u001b[0m     \u001b[0;32mreturn\u001b[0m \u001b[0mHTML\u001b[0m\u001b[0;34m(\u001b[0m\u001b[0mres\u001b[0m\u001b[0;34m)\u001b[0m\u001b[0;34m\u001b[0m\u001b[0;34m\u001b[0m\u001b[0m\n",
      "\u001b[0;32m~/miniconda3/envs/mine/lib/python3.7/site-packages/rdkit/Chem/Draw/__init__.py\u001b[0m in \u001b[0;36mMolsToGridImage\u001b[0;34m(mols, molsPerRow, subImgSize, legends, highlightAtomLists, highlightBondLists, useSVG, returnPNG, **kwargs)\u001b[0m\n\u001b[1;32m    620\u001b[0m     return _MolsToGridImage(mols, molsPerRow=molsPerRow, subImgSize=subImgSize, legends=legends,\n\u001b[1;32m    621\u001b[0m                             \u001b[0mhighlightAtomLists\u001b[0m\u001b[0;34m=\u001b[0m\u001b[0mhighlightAtomLists\u001b[0m\u001b[0;34m,\u001b[0m\u001b[0;34m\u001b[0m\u001b[0;34m\u001b[0m\u001b[0m\n\u001b[0;32m--> 622\u001b[0;31m                             highlightBondLists=highlightBondLists, returnPNG=returnPNG, **kwargs)\n\u001b[0m\u001b[1;32m    623\u001b[0m \u001b[0;34m\u001b[0m\u001b[0m\n\u001b[1;32m    624\u001b[0m \u001b[0;34m\u001b[0m\u001b[0m\n",
      "\u001b[0;32m~/miniconda3/envs/mine/lib/python3.7/site-packages/rdkit/Chem/Draw/__init__.py\u001b[0m in \u001b[0;36m_MolsToGridImage\u001b[0;34m(mols, molsPerRow, subImgSize, legends, highlightAtomLists, highlightBondLists, drawOptions, returnPNG, **kwargs)\u001b[0m\n\u001b[1;32m    562\u001b[0m           \u001b[0;32mdel\u001b[0m \u001b[0mkwargs\u001b[0m\u001b[0;34m[\u001b[0m\u001b[0mk\u001b[0m\u001b[0;34m]\u001b[0m\u001b[0;34m\u001b[0m\u001b[0;34m\u001b[0m\u001b[0m\n\u001b[1;32m    563\u001b[0m     d2d.DrawMolecules(list(mols), legends=legends or None, highlightAtoms=highlightAtomLists,\n\u001b[0;32m--> 564\u001b[0;31m                       highlightBonds=highlightBondLists, **kwargs)\n\u001b[0m\u001b[1;32m    565\u001b[0m     \u001b[0md2d\u001b[0m\u001b[0;34m.\u001b[0m\u001b[0mFinishDrawing\u001b[0m\u001b[0;34m(\u001b[0m\u001b[0;34m)\u001b[0m\u001b[0;34m\u001b[0m\u001b[0;34m\u001b[0m\u001b[0m\n\u001b[1;32m    566\u001b[0m     \u001b[0;32mif\u001b[0m \u001b[0;32mnot\u001b[0m \u001b[0mreturnPNG\u001b[0m\u001b[0;34m:\u001b[0m\u001b[0;34m\u001b[0m\u001b[0;34m\u001b[0m\u001b[0m\n",
      "\u001b[0;31mRuntimeError\u001b[0m: Pre-condition Violation\n\tgetExplicitValence() called without call to calcExplicitValence()\n\tViolation occurred on line 306 in file Code/GraphMol/Atom.cpp\n\tFailed Expression: d_explicitValence > -1\n\tRDKIT: 2023.03.2\n\tBOOST: 1_78\n"
     ]
    }
   ],
   "source": [
    "rxn_str = \"[Cl:1][CH2:2][CH2:3][CH2:4][C:5]([C:7]1[CH:12]=[CH:11][C:10]([CH:13]([CH3:15])[CH3:14])=[CH:9][CH:8]=1)=[O:6].[Br:16]N1C(=O)CCC1=O>C(Cl)(Cl)(Cl)Cl.CC(N=NC(C#N)(C)C)(C#N)C>[Br:16][C:13]([C:10]1[CH:9]=[CH:8][C:7]([C:5](=[O:6])[CH2:4][CH2:3][CH2:2][Cl:1])=[CH:12][CH:11]=1)([CH3:15])[CH3:14]\"\n",
    "rxn = AllChem.ReactionFromSmarts(rxn_str, useSmiles=True)\n",
    "nr, np = rxn.GetNumReactantTemplates(), rxn.GetNumProductTemplates()\n",
    "rs = [rxn.GetReactantTemplate(i) for i in range(nr)]\n",
    "ps = [rxn.GetProductTemplate(i) for i in range(np)]\n",
    "Draw.MolsToGridImage(rs, molsPerRow=2)"
   ]
  },
  {
   "cell_type": "code",
   "execution_count": null,
   "metadata": {},
   "outputs": [
    {
     "data": {
      "image/png": "[encoded data removed]",
      "text/plain": [
       "<rdkit.Chem.rdchem.Mol at 0x7f4355a6c690>"
      ]
     },
     "execution_count": 16,
     "metadata": {},
     "output_type": "execute_result"
    }
   ],
   "source": [
    "rs[0]"
   ]
  },
  {
   "cell_type": "code",
   "execution_count": null,
   "metadata": {},
   "outputs": [
    {
     "data": {
      "image/png": "[encoded data removed]",
      "text/plain": [
       "<rdkit.Chem.rdchem.Mol at 0x7f4355a6bf30>"
      ]
     },
     "execution_count": 15,
     "metadata": {},
     "output_type": "execute_result"
    }
   ],
   "source": [
    "ps[0]"
   ]
  },
  {
   "cell_type": "code",
   "execution_count": null,
   "metadata": {},
   "outputs": [
    {
     "data": {
      "text/plain": [
       "rdkit.Chem.rdmolops.SanitizeFlags.SANITIZE_NONE"
      ]
     },
     "execution_count": 20,
     "metadata": {},
     "output_type": "execute_result"
    }
   ],
   "source": [
    "foo = ps[0]Chem.SanitizeMol(ps[0])"
   ]
  },
  {
   "cell_type": "code",
   "execution_count": null,
   "metadata": {},
   "outputs": [
    {
     "data": {
      "text/plain": [
       "'[Cl:1][CH2:2][CH2:3][CH2:4][C:5](=[O:6])[c:7]1[cH:8][cH:9][c:10]([C:13]([CH3:14])([CH3:15])[Br:16])[cH:11][cH:12]1'"
      ]
     },
     "execution_count": 22,
     "metadata": {},
     "output_type": "execute_result"
    }
   ],
   "source": [
    "Chem.MolToSmiles(ps[0])"
   ]
  },
  {
   "cell_type": "code",
   "execution_count": null,
   "metadata": {},
   "outputs": [],
   "source": [
    "# Import all known reactions\n",
    "\n",
    "from src.utils import load_json\n",
    "from collections import defaultdict\n",
    "from src.post_processing import Enzyme, DatabaseEntry\n",
    "\n",
    "known_rxns = load_json(\"../data/mapping/known_rxns_swissprot_enzymes_plus_mcs_90_240310.json\") # data/mapping/known_rxns_jni_w_enzyme_validation.json \n",
    "rule2krhash = defaultdict(list)\n",
    "for k,v in known_rxns.items():\n",
    "\n",
    "    # Convert enzymes and db entries to namedtuples\n",
    "    enzymes = [Enzyme(*elt) for elt in v['enzymes']]\n",
    "    v['enzymes'] = enzymes\n",
    "\n",
    "    db_entries = [DatabaseEntry(*elt) for elt in v['db_entries']]\n",
    "    v['db_entries'] = db_entries"
   ]
  },
  {
   "cell_type": "code",
   "execution_count": null,
   "metadata": {},
   "outputs": [
    {
     "name": "stderr",
     "output_type": "stream",
     "text": [
      "[11:30:56] WARNING: not removing hydrogen atom with dummy atom neighbors\n",
      "[11:30:56] WARNING: not removing hydrogen atom with dummy atom neighbors\n",
      "[11:30:56] WARNING: not removing hydrogen atom with dummy atom neighbors\n",
      "[11:30:56] WARNING: not removing hydrogen atom with dummy atom neighbors\n",
      "[11:30:56] WARNING: not removing hydrogen atom with dummy atom neighbors\n",
      "[11:30:56] WARNING: not removing hydrogen atom with dummy atom neighbors\n",
      "[11:30:56] Can't kekulize mol.  Unkekulized atoms: 1 5 6 10 11 12\n",
      "[11:30:56] Can't kekulize mol.  Unkekulized atoms: 1 5 6 10 11 12\n",
      "[11:30:56] WARNING: not removing hydrogen atom with dummy atom neighbors\n",
      "[11:30:56] WARNING: not removing hydrogen atom with dummy atom neighbors\n",
      "[11:30:56] WARNING: not removing hydrogen atom with dummy atom neighbors\n",
      "[11:30:56] WARNING: not removing hydrogen atom with dummy atom neighbors\n",
      "[11:30:56] WARNING: not removing hydrogen atom with dummy atom neighbors\n",
      "[11:30:56] WARNING: not removing hydrogen atom with dummy atom neighbors\n",
      "[11:30:56] WARNING: not removing hydrogen atom with dummy atom neighbors\n",
      "[11:30:56] WARNING: not removing hydrogen atom with dummy atom neighbors\n",
      "[11:30:56] WARNING: not removing hydrogen atom with dummy atom neighbors\n",
      "[11:30:56] WARNING: not removing hydrogen atom with dummy atom neighbors\n",
      "[11:30:56] WARNING: not removing hydrogen atom with dummy atom neighbors\n",
      "[11:30:56] WARNING: not removing hydrogen atom with dummy atom neighbors\n",
      "[11:30:56] WARNING: not removing hydrogen atom with dummy atom neighbors\n",
      "[11:30:56] WARNING: not removing hydrogen atom with dummy atom neighbors\n",
      "[11:30:56] WARNING: not removing hydrogen atom with dummy atom neighbors\n",
      "[11:30:56] WARNING: not removing hydrogen atom with dummy atom neighbors\n",
      "[11:30:56] WARNING: not removing hydrogen atom with dummy atom neighbors\n",
      "[11:30:56] WARNING: not removing hydrogen atom with dummy atom neighbors\n",
      "[11:30:56] WARNING: not removing hydrogen atom with dummy atom neighbors\n",
      "[11:30:56] WARNING: not removing hydrogen atom with dummy atom neighbors\n",
      "[11:30:56] WARNING: not removing hydrogen atom with dummy atom neighbors\n",
      "[11:30:56] WARNING: not removing hydrogen atom with dummy atom neighbors\n",
      "[11:30:56] Can't kekulize mol.  Unkekulized atoms: 1 5 6 7 8 9\n",
      "[11:30:56] Can't kekulize mol.  Unkekulized atoms: 1 5 6 7 8 9\n",
      "[11:30:56] Can't kekulize mol.  Unkekulized atoms: 1 5 6 7 8 9\n",
      "[11:30:56] Can't kekulize mol.  Unkekulized atoms: 1 5 6 7 8 9\n",
      "[11:30:56] Can't kekulize mol.  Unkekulized atoms: 1 5 6 7 8 9\n",
      "[11:30:56] WARNING: not removing hydrogen atom with dummy atom neighbors\n",
      "[11:30:56] WARNING: not removing hydrogen atom with dummy atom neighbors\n",
      "[11:30:56] WARNING: not removing hydrogen atom with dummy atom neighbors\n",
      "[11:30:56] WARNING: not removing hydrogen atom with dummy atom neighbors\n",
      "[11:30:56] WARNING: not removing hydrogen atom with dummy atom neighbors\n",
      "[11:30:56] WARNING: not removing hydrogen atom with dummy atom neighbors\n",
      "[11:30:56] WARNING: not removing hydrogen atom with dummy atom neighbors\n",
      "[11:30:56] WARNING: not removing hydrogen atom with dummy atom neighbors\n",
      "[11:30:57] WARNING: not removing hydrogen atom with dummy atom neighbors\n",
      "[11:30:57] WARNING: not removing hydrogen atom with dummy atom neighbors\n",
      "[11:30:57] WARNING: not removing hydrogen atom with dummy atom neighbors\n",
      "[11:30:57] WARNING: not removing hydrogen atom with dummy atom neighbors\n",
      "[11:30:57] WARNING: not removing hydrogen atom with dummy atom neighbors\n",
      "[11:30:57] WARNING: not removing hydrogen atom with dummy atom neighbors\n",
      "[11:30:57] WARNING: not removing hydrogen atom with dummy atom neighbors\n",
      "[11:30:57] WARNING: not removing hydrogen atom with dummy atom neighbors\n",
      "[11:30:57] WARNING: not removing hydrogen atom with dummy atom neighbors\n",
      "[11:30:57] WARNING: not removing hydrogen atom with dummy atom neighbors\n",
      "[11:30:57] WARNING: not removing hydrogen atom with dummy atom neighbors\n",
      "[11:30:57] WARNING: not removing hydrogen atom with dummy atom neighbors\n",
      "[11:30:57] WARNING: not removing hydrogen atom with dummy atom neighbors\n",
      "[11:30:57] WARNING: not removing hydrogen atom with dummy atom neighbors\n",
      "[11:30:57] WARNING: not removing hydrogen atom with dummy atom neighbors\n",
      "[11:30:57] WARNING: not removing hydrogen atom with dummy atom neighbors\n",
      "[11:30:57] WARNING: not removing hydrogen atom with dummy atom neighbors\n",
      "[11:30:57] WARNING: not removing hydrogen atom with dummy atom neighbors\n",
      "[11:30:57] WARNING: not removing hydrogen atom with dummy atom neighbors\n",
      "[11:30:57] WARNING: not removing hydrogen atom with dummy atom neighbors\n",
      "[11:30:57] WARNING: not removing hydrogen atom with dummy atom neighbors\n",
      "[11:30:57] WARNING: not removing hydrogen atom with dummy atom neighbors\n",
      "[11:30:57] WARNING: not removing hydrogen atom with dummy atom neighbors\n",
      "[11:30:57] WARNING: not removing hydrogen atom with dummy atom neighbors\n",
      "[11:30:57] Can't kekulize mol.  Unkekulized atoms: 2 4 5 11\n",
      "[11:30:57] Can't kekulize mol.  Unkekulized atoms: 2 4 5 11\n",
      "[11:30:57] Can't kekulize mol.  Unkekulized atoms: 2 4 5 11\n",
      "[11:30:57] Can't kekulize mol.  Unkekulized atoms: 2 4 5 11\n",
      "[11:30:57] WARNING: not removing hydrogen atom with dummy atom neighbors\n",
      "[11:30:57] WARNING: not removing hydrogen atom with dummy atom neighbors\n",
      "[11:30:57] WARNING: not removing hydrogen atom with dummy atom neighbors\n",
      "[11:30:57] WARNING: not removing hydrogen atom with dummy atom neighbors\n",
      "[11:30:57] WARNING: not removing hydrogen atom with dummy atom neighbors\n",
      "[11:30:57] WARNING: not removing hydrogen atom with dummy atom neighbors\n",
      "[11:30:57] WARNING: not removing hydrogen atom with dummy atom neighbors\n",
      "[11:30:57] WARNING: not removing hydrogen atom with dummy atom neighbors\n",
      "[11:30:58] WARNING: not removing hydrogen atom with dummy atom neighbors\n",
      "[11:30:58] WARNING: not removing hydrogen atom with dummy atom neighbors\n",
      "[11:30:58] WARNING: not removing hydrogen atom with dummy atom neighbors\n",
      "[11:30:58] WARNING: not removing hydrogen atom with dummy atom neighbors\n",
      "[11:30:58] WARNING: not removing hydrogen atom with dummy atom neighbors\n",
      "[11:30:58] WARNING: not removing hydrogen atom with dummy atom neighbors\n",
      "[11:30:58] WARNING: not removing hydrogen atom with dummy atom neighbors\n",
      "[11:30:58] WARNING: not removing hydrogen atom with dummy atom neighbors\n",
      "[11:30:58] WARNING: not removing hydrogen atom with dummy atom neighbors\n",
      "[11:30:58] WARNING: not removing hydrogen atom with dummy atom neighbors\n",
      "[11:30:58] WARNING: not removing hydrogen atom with dummy atom neighbors\n",
      "[11:30:58] WARNING: not removing hydrogen atom with dummy atom neighbors\n",
      "[11:30:58] WARNING: not removing hydrogen atom with dummy atom neighbors\n",
      "[11:30:58] WARNING: not removing hydrogen atom with dummy atom neighbors\n",
      "[11:30:58] WARNING: not removing hydrogen atom with dummy atom neighbors\n",
      "[11:30:58] WARNING: not removing hydrogen atom with dummy atom neighbors\n",
      "[11:30:58] WARNING: not removing hydrogen atom with dummy atom neighbors\n",
      "[11:30:58] WARNING: not removing hydrogen atom with dummy atom neighbors\n",
      "[11:30:58] WARNING: not removing hydrogen atom with dummy atom neighbors\n",
      "[11:30:58] WARNING: not removing hydrogen atom with dummy atom neighbors\n",
      "[11:30:58] WARNING: not removing hydrogen atom with dummy atom neighbors\n",
      "[11:30:58] WARNING: not removing hydrogen atom with dummy atom neighbors\n",
      "[11:30:58] WARNING: not removing hydrogen atom with dummy atom neighbors\n",
      "[11:30:58] WARNING: not removing hydrogen atom with dummy atom neighbors\n",
      "[11:30:58] WARNING: not removing hydrogen atom with dummy atom neighbors\n",
      "[11:30:58] WARNING: not removing hydrogen atom with dummy atom neighbors\n",
      "[11:30:58] WARNING: not removing hydrogen atom with dummy atom neighbors\n",
      "[11:30:58] WARNING: not removing hydrogen atom with dummy atom neighbors\n",
      "[11:30:58] WARNING: not removing hydrogen atom with dummy atom neighbors\n",
      "[11:30:58] WARNING: not removing hydrogen atom with dummy atom neighbors\n",
      "[11:30:58] WARNING: not removing hydrogen atom with dummy atom neighbors\n",
      "[11:30:58] WARNING: not removing hydrogen atom with dummy atom neighbors\n",
      "[11:30:58] WARNING: not removing hydrogen atom with dummy atom neighbors\n",
      "[11:30:58] WARNING: not removing hydrogen atom with dummy atom neighbors\n",
      "[11:30:58] WARNING: not removing hydrogen atom with dummy atom neighbors\n",
      "[11:30:58] WARNING: not removing hydrogen atom with dummy atom neighbors\n",
      "[11:30:58] WARNING: not removing hydrogen atom with dummy atom neighbors\n",
      "[11:30:58] WARNING: not removing hydrogen atom with dummy atom neighbors\n",
      "[11:30:58] WARNING: not removing hydrogen atom with dummy atom neighbors\n",
      "[11:30:58] WARNING: not removing hydrogen atom with dummy atom neighbors\n",
      "[11:30:58] WARNING: not removing hydrogen atom with dummy atom neighbors\n",
      "[11:30:58] WARNING: not removing hydrogen atom with dummy atom neighbors\n",
      "[11:30:58] WARNING: not removing hydrogen atom with dummy atom neighbors\n",
      "[11:30:58] WARNING: not removing hydrogen atom with dummy atom neighbors\n",
      "[11:30:58] WARNING: not removing hydrogen atom with dummy atom neighbors\n",
      "[11:30:58] WARNING: not removing hydrogen atom with dummy atom neighbors\n",
      "[11:30:58] WARNING: not removing hydrogen atom with dummy atom neighbors\n",
      "[11:30:58] WARNING: not removing hydrogen atom with dummy atom neighbors\n",
      "[11:30:58] WARNING: not removing hydrogen atom with dummy atom neighbors\n",
      "[11:30:58] WARNING: not removing hydrogen atom with dummy atom neighbors\n",
      "[11:30:58] WARNING: not removing hydrogen atom with dummy atom neighbors\n",
      "[11:30:58] WARNING: not removing hydrogen atom with dummy atom neighbors\n",
      "[11:30:58] WARNING: not removing hydrogen atom with dummy atom neighbors\n",
      "[11:30:58] WARNING: not removing hydrogen atom with dummy atom neighbors\n",
      "[11:30:58] WARNING: not removing hydrogen atom with dummy atom neighbors\n",
      "[11:30:58] WARNING: not removing hydrogen atom with dummy atom neighbors\n",
      "[11:30:58] WARNING: not removing hydrogen atom with dummy atom neighbors\n",
      "[11:30:58] WARNING: not removing hydrogen atom with dummy atom neighbors\n",
      "[11:30:58] WARNING: not removing hydrogen atom with dummy atom neighbors\n",
      "[11:30:58] WARNING: not removing hydrogen atom with dummy atom neighbors\n",
      "[11:30:58] WARNING: not removing hydrogen atom with dummy atom neighbors\n",
      "[11:30:58] WARNING: not removing hydrogen atom with dummy atom neighbors\n",
      "[11:30:58] WARNING: not removing hydrogen atom with dummy atom neighbors\n",
      "[11:30:58] WARNING: not removing hydrogen atom with dummy atom neighbors\n",
      "[11:30:58] WARNING: not removing hydrogen atom with dummy atom neighbors\n",
      "[11:30:58] WARNING: not removing hydrogen atom with dummy atom neighbors\n",
      "[11:30:58] WARNING: not removing hydrogen atom with dummy atom neighbors\n",
      "[11:30:58] WARNING: not removing hydrogen atom with dummy atom neighbors\n",
      "[11:30:58] WARNING: not removing hydrogen atom with dummy atom neighbors\n",
      "[11:30:58] WARNING: not removing hydrogen atom with dummy atom neighbors\n",
      "[11:30:58] WARNING: not removing hydrogen atom with dummy atom neighbors\n",
      "[11:30:58] WARNING: not removing hydrogen atom with dummy atom neighbors\n",
      "[11:30:58] WARNING: not removing hydrogen atom with dummy atom neighbors\n",
      "[11:30:58] WARNING: not removing hydrogen atom with dummy atom neighbors\n",
      "[11:30:58] WARNING: not removing hydrogen atom with dummy atom neighbors\n",
      "[11:30:58] WARNING: not removing hydrogen atom with dummy atom neighbors\n",
      "[11:30:58] WARNING: not removing hydrogen atom with dummy atom neighbors\n",
      "[11:30:58] WARNING: not removing hydrogen atom with dummy atom neighbors\n",
      "[11:30:58] WARNING: not removing hydrogen atom with dummy atom neighbors\n",
      "[11:30:58] WARNING: not removing hydrogen atom with dummy atom neighbors\n",
      "[11:30:58] WARNING: not removing hydrogen atom with dummy atom neighbors\n",
      "[11:30:58] WARNING: not removing hydrogen atom with dummy atom neighbors\n",
      "[11:30:58] WARNING: not removing hydrogen atom with dummy atom neighbors\n",
      "[11:30:58] WARNING: not removing hydrogen atom with dummy atom neighbors\n",
      "[11:30:58] Can't kekulize mol.  Unkekulized atoms: 1 5 6 7 8 9\n",
      "[11:30:58] Can't kekulize mol.  Unkekulized atoms: 2 3 4 5 7 12\n",
      "[11:30:58] Can't kekulize mol.  Unkekulized atoms: 2 3 4 5 7 12\n",
      "[11:30:58] Can't kekulize mol.  Unkekulized atoms: 1 5 6 7 8 9\n",
      "[11:30:58] Can't kekulize mol.  Unkekulized atoms: 1 5 6 7 8 9\n",
      "[11:30:58] Can't kekulize mol.  Unkekulized atoms: 1 5 6 7 8 9\n",
      "[11:30:58] WARNING: not removing hydrogen atom with dummy atom neighbors\n",
      "[11:30:58] WARNING: not removing hydrogen atom with dummy atom neighbors\n",
      "[11:30:58] WARNING: not removing hydrogen atom with dummy atom neighbors\n",
      "[11:30:58] WARNING: not removing hydrogen atom with dummy atom neighbors\n",
      "[11:30:58] Can't kekulize mol.  Unkekulized atoms: 2 3 4 5 7 12\n",
      "[11:30:58] Can't kekulize mol.  Unkekulized atoms: 2 3 4 5 7 12\n",
      "[11:30:58] Can't kekulize mol.  Unkekulized atoms: 1 5 6 7 8 9\n",
      "[11:30:58] Can't kekulize mol.  Unkekulized atoms: 1 5 6 7 8 9\n",
      "[11:30:58] WARNING: not removing hydrogen atom with dummy atom neighbors\n",
      "[11:30:58] WARNING: not removing hydrogen atom with dummy atom neighbors\n",
      "[11:30:58] WARNING: not removing hydrogen atom with dummy atom neighbors\n",
      "[11:30:58] WARNING: not removing hydrogen atom with dummy atom neighbors\n",
      "[11:30:58] WARNING: not removing hydrogen atom with dummy atom neighbors\n",
      "[11:30:58] WARNING: not removing hydrogen atom with dummy atom neighbors\n",
      "[11:30:58] WARNING: not removing hydrogen atom with dummy atom neighbors\n",
      "[11:30:58] WARNING: not removing hydrogen atom with dummy atom neighbors\n",
      "[11:30:58] WARNING: not removing hydrogen atom with dummy atom neighbors\n",
      "[11:30:58] WARNING: not removing hydrogen atom with dummy atom neighbors\n",
      "[11:30:58] WARNING: not removing hydrogen atom with dummy atom neighbors\n",
      "[11:30:58] WARNING: not removing hydrogen atom with dummy atom neighbors\n",
      "[11:30:58] WARNING: not removing hydrogen atom with dummy atom neighbors\n",
      "[11:30:58] WARNING: not removing hydrogen atom with dummy atom neighbors\n",
      "[11:30:58] WARNING: not removing hydrogen atom with dummy atom neighbors\n",
      "[11:30:58] WARNING: not removing hydrogen atom with dummy atom neighbors\n",
      "[11:30:58] WARNING: not removing hydrogen atom with dummy atom neighbors\n",
      "[11:30:58] WARNING: not removing hydrogen atom with dummy atom neighbors\n",
      "[11:30:58] WARNING: not removing hydrogen atom with dummy atom neighbors\n",
      "[11:30:58] WARNING: not removing hydrogen atom with dummy atom neighbors\n",
      "[11:30:58] WARNING: not removing hydrogen atom with dummy atom neighbors\n",
      "[11:30:58] WARNING: not removing hydrogen atom with dummy atom neighbors\n",
      "[11:30:58] WARNING: not removing hydrogen atom with dummy atom neighbors\n",
      "[11:30:58] WARNING: not removing hydrogen atom with dummy atom neighbors\n",
      "[11:30:58] WARNING: not removing hydrogen atom with dummy atom neighbors\n",
      "[11:30:58] WARNING: not removing hydrogen atom with dummy atom neighbors\n",
      "[11:30:58] WARNING: not removing hydrogen atom with dummy atom neighbors\n",
      "[11:30:58] WARNING: not removing hydrogen atom with dummy atom neighbors\n",
      "[11:30:58] WARNING: not removing hydrogen atom with dummy atom neighbors\n",
      "[11:30:58] WARNING: not removing hydrogen atom with dummy atom neighbors\n",
      "[11:30:58] WARNING: not removing hydrogen atom with dummy atom neighbors\n",
      "[11:30:58] WARNING: not removing hydrogen atom with dummy atom neighbors\n",
      "[11:30:58] WARNING: not removing hydrogen atom with dummy atom neighbors\n",
      "[11:30:58] WARNING: not removing hydrogen atom with dummy atom neighbors\n",
      "[11:30:58] WARNING: not removing hydrogen atom with dummy atom neighbors\n",
      "[11:30:58] WARNING: not removing hydrogen atom with dummy atom neighbors\n",
      "[11:30:58] WARNING: not removing hydrogen atom with dummy atom neighbors\n",
      "[11:30:58] WARNING: not removing hydrogen atom with dummy atom neighbors\n",
      "[11:30:59] WARNING: not removing hydrogen atom with dummy atom neighbors\n",
      "[11:30:59] WARNING: not removing hydrogen atom with dummy atom neighbors\n",
      "[11:30:59] WARNING: not removing hydrogen atom with dummy atom neighbors\n",
      "[11:30:59] WARNING: not removing hydrogen atom with dummy atom neighbors\n",
      "[11:30:59] WARNING: not removing hydrogen atom with dummy atom neighbors\n",
      "[11:30:59] WARNING: not removing hydrogen atom with dummy atom neighbors\n",
      "[11:30:59] WARNING: not removing hydrogen atom with dummy atom neighbors\n",
      "[11:30:59] WARNING: not removing hydrogen atom with dummy atom neighbors\n",
      "[11:30:59] WARNING: not removing hydrogen atom with dummy atom neighbors\n",
      "[11:30:59] WARNING: not removing hydrogen atom with dummy atom neighbors\n",
      "[11:30:59] WARNING: not removing hydrogen atom with dummy atom neighbors\n",
      "[11:30:59] WARNING: not removing hydrogen atom with dummy atom neighbors\n",
      "[11:30:59] WARNING: not removing hydrogen atom with dummy atom neighbors\n",
      "[11:30:59] WARNING: not removing hydrogen atom with dummy atom neighbors\n",
      "[11:30:59] WARNING: not removing hydrogen atom with dummy atom neighbors\n",
      "[11:30:59] WARNING: not removing hydrogen atom with dummy atom neighbors\n",
      "[11:30:59] WARNING: not removing hydrogen atom with dummy atom neighbors\n",
      "[11:30:59] WARNING: not removing hydrogen atom with dummy atom neighbors\n",
      "[11:30:59] WARNING: not removing hydrogen atom with dummy atom neighbors\n",
      "[11:30:59] WARNING: not removing hydrogen atom with dummy atom neighbors\n",
      "[11:30:59] WARNING: not removing hydrogen atom with dummy atom neighbors\n",
      "[11:30:59] WARNING: not removing hydrogen atom with dummy atom neighbors\n",
      "[11:30:59] WARNING: not removing hydrogen atom with dummy atom neighbors\n",
      "[11:30:59] WARNING: not removing hydrogen atom with dummy atom neighbors\n",
      "[11:30:59] WARNING: not removing hydrogen atom with dummy atom neighbors\n",
      "[11:30:59] WARNING: not removing hydrogen atom with dummy atom neighbors\n",
      "[11:30:59] Can't kekulize mol.  Unkekulized atoms: 1 5 6 7 8 9\n",
      "[11:30:59] Can't kekulize mol.  Unkekulized atoms: 1 5 6 7 8 9\n",
      "[11:30:59] WARNING: not removing hydrogen atom with dummy atom neighbors\n",
      "[11:30:59] WARNING: not removing hydrogen atom with dummy atom neighbors\n",
      "[11:30:59] WARNING: not removing hydrogen atom with dummy atom neighbors\n",
      "[11:30:59] WARNING: not removing hydrogen atom with dummy atom neighbors\n",
      "[11:30:59] WARNING: not removing hydrogen atom with dummy atom neighbors\n",
      "[11:30:59] WARNING: not removing hydrogen atom with dummy atom neighbors\n",
      "[11:30:59] WARNING: not removing hydrogen atom with dummy atom neighbors\n",
      "[11:30:59] WARNING: not removing hydrogen atom with dummy atom neighbors\n",
      "[11:30:59] WARNING: not removing hydrogen atom with dummy atom neighbors\n",
      "[11:30:59] WARNING: not removing hydrogen atom with dummy atom neighbors\n",
      "[11:30:59] WARNING: not removing hydrogen atom with dummy atom neighbors\n",
      "[11:30:59] WARNING: not removing hydrogen atom with dummy atom neighbors\n",
      "[11:30:59] WARNING: not removing hydrogen atom with dummy atom neighbors\n",
      "[11:30:59] WARNING: not removing hydrogen atom with dummy atom neighbors\n",
      "[11:30:59] WARNING: not removing hydrogen atom with dummy atom neighbors\n",
      "[11:30:59] WARNING: not removing hydrogen atom with dummy atom neighbors\n",
      "[11:30:59] WARNING: not removing hydrogen atom with dummy atom neighbors\n",
      "[11:30:59] WARNING: not removing hydrogen atom with dummy atom neighbors\n",
      "[11:30:59] WARNING: not removing hydrogen atom with dummy atom neighbors\n",
      "[11:30:59] WARNING: not removing hydrogen atom with dummy atom neighbors\n",
      "[11:30:59] Can't kekulize mol.  Unkekulized atoms: 1 5 6 7 8 9\n",
      "[11:30:59] Can't kekulize mol.  Unkekulized atoms: 1 5 6 7 8 9\n",
      "[11:30:59] WARNING: not removing hydrogen atom with dummy atom neighbors\n",
      "[11:30:59] WARNING: not removing hydrogen atom with dummy atom neighbors\n",
      "[11:30:59] Explicit valence for atom # 42 N, 4, is greater than permitted\n",
      "[11:30:59] WARNING: not removing hydrogen atom with dummy atom neighbors\n",
      "[11:30:59] WARNING: not removing hydrogen atom with dummy atom neighbors\n",
      "[11:30:59] Explicit valence for atom # 42 N, 4, is greater than permitted\n",
      "[11:30:59] WARNING: not removing hydrogen atom with dummy atom neighbors\n",
      "[11:30:59] WARNING: not removing hydrogen atom with dummy atom neighbors\n",
      "[11:30:59] WARNING: not removing hydrogen atom with dummy atom neighbors\n",
      "[11:30:59] WARNING: not removing hydrogen atom with dummy atom neighbors\n",
      "[11:30:59] WARNING: not removing hydrogen atom with dummy atom neighbors\n",
      "[11:30:59] WARNING: not removing hydrogen atom with dummy atom neighbors\n",
      "[11:30:59] WARNING: not removing hydrogen atom with dummy atom neighbors\n",
      "[11:30:59] WARNING: not removing hydrogen atom with dummy atom neighbors\n",
      "[11:30:59] WARNING: not removing hydrogen atom with dummy atom neighbors\n",
      "[11:30:59] WARNING: not removing hydrogen atom with dummy atom neighbors\n",
      "[11:30:59] WARNING: not removing hydrogen atom with dummy atom neighbors\n",
      "[11:30:59] WARNING: not removing hydrogen atom with dummy atom neighbors\n",
      "[11:30:59] WARNING: not removing hydrogen atom with dummy atom neighbors\n",
      "[11:30:59] WARNING: not removing hydrogen atom with dummy atom neighbors\n",
      "[11:30:59] WARNING: not removing hydrogen atom with dummy atom neighbors\n",
      "[11:30:59] WARNING: not removing hydrogen atom with dummy atom neighbors\n",
      "[11:30:59] WARNING: not removing hydrogen atom with dummy atom neighbors\n",
      "[11:30:59] WARNING: not removing hydrogen atom with dummy atom neighbors\n",
      "[11:30:59] WARNING: not removing hydrogen atom with dummy atom neighbors\n",
      "[11:30:59] WARNING: not removing hydrogen atom with dummy atom neighbors\n",
      "[11:30:59] WARNING: not removing hydrogen atom with dummy atom neighbors\n",
      "[11:30:59] WARNING: not removing hydrogen atom with dummy atom neighbors\n",
      "[11:30:59] WARNING: not removing hydrogen atom with dummy atom neighbors\n",
      "[11:30:59] WARNING: not removing hydrogen atom with dummy atom neighbors\n",
      "[11:30:59] WARNING: not removing hydrogen atom with dummy atom neighbors\n",
      "[11:30:59] WARNING: not removing hydrogen atom with dummy atom neighbors\n",
      "[11:30:59] WARNING: not removing hydrogen atom with dummy atom neighbors\n",
      "[11:30:59] WARNING: not removing hydrogen atom with dummy atom neighbors\n",
      "[11:30:59] WARNING: not removing hydrogen atom with dummy atom neighbors\n",
      "[11:30:59] WARNING: not removing hydrogen atom with dummy atom neighbors\n",
      "[11:31:00] WARNING: not removing hydrogen atom with dummy atom neighbors\n",
      "[11:31:00] WARNING: not removing hydrogen atom with dummy atom neighbors\n",
      "[11:31:00] WARNING: not removing hydrogen atom with dummy atom neighbors\n",
      "[11:31:00] WARNING: not removing hydrogen atom with dummy atom neighbors\n",
      "[11:31:00] WARNING: not removing hydrogen atom with dummy atom neighbors\n",
      "[11:31:00] WARNING: not removing hydrogen atom with dummy atom neighbors\n",
      "[11:31:00] WARNING: not removing hydrogen atom with dummy atom neighbors\n",
      "[11:31:00] WARNING: not removing hydrogen atom with dummy atom neighbors\n",
      "[11:31:00] WARNING: not removing hydrogen atom with dummy atom neighbors\n",
      "[11:31:00] WARNING: not removing hydrogen atom with dummy atom neighbors\n",
      "[11:31:00] WARNING: not removing hydrogen atom with dummy atom neighbors\n",
      "[11:31:00] WARNING: not removing hydrogen atom with dummy atom neighbors\n",
      "[11:31:00] WARNING: not removing hydrogen atom with dummy atom neighbors\n",
      "[11:31:00] WARNING: not removing hydrogen atom with dummy atom neighbors\n",
      "[11:31:00] WARNING: not removing hydrogen atom with dummy atom neighbors\n",
      "[11:31:00] WARNING: not removing hydrogen atom with dummy atom neighbors\n",
      "[11:31:00] WARNING: not removing hydrogen atom with dummy atom neighbors\n",
      "[11:31:00] WARNING: not removing hydrogen atom with dummy atom neighbors\n",
      "[11:31:00] WARNING: not removing hydrogen atom with dummy atom neighbors\n",
      "[11:31:00] WARNING: not removing hydrogen atom with dummy atom neighbors\n",
      "[11:31:00] WARNING: not removing hydrogen atom with dummy atom neighbors\n",
      "[11:31:00] WARNING: not removing hydrogen atom with dummy atom neighbors\n",
      "[11:31:00] WARNING: not removing hydrogen atom with dummy atom neighbors\n",
      "[11:31:00] WARNING: not removing hydrogen atom with dummy atom neighbors\n",
      "[11:31:00] WARNING: not removing hydrogen atom with dummy atom neighbors\n",
      "[11:31:00] WARNING: not removing hydrogen atom with dummy atom neighbors\n",
      "[11:31:00] WARNING: not removing hydrogen atom with dummy atom neighbors\n",
      "[11:31:00] WARNING: not removing hydrogen atom with dummy atom neighbors\n",
      "[11:31:00] Can't kekulize mol.  Unkekulized atoms: 1 5 6 7 8 9\n",
      "[11:31:00] Can't kekulize mol.  Unkekulized atoms: 1 5 6 7 8 9\n",
      "[11:31:00] WARNING: not removing hydrogen atom with dummy atom neighbors\n",
      "[11:31:00] WARNING: not removing hydrogen atom with dummy atom neighbors\n",
      "[11:31:00] WARNING: not removing hydrogen atom with dummy atom neighbors\n",
      "[11:31:00] WARNING: not removing hydrogen atom with dummy atom neighbors\n",
      "[11:31:00] WARNING: not removing hydrogen atom with dummy atom neighbors\n",
      "[11:31:00] WARNING: not removing hydrogen atom with dummy atom neighbors\n",
      "[11:31:00] WARNING: not removing hydrogen atom with dummy atom neighbors\n",
      "[11:31:00] WARNING: not removing hydrogen atom with dummy atom neighbors\n",
      "[11:31:00] WARNING: not removing hydrogen atom with dummy atom neighbors\n",
      "[11:31:00] WARNING: not removing hydrogen atom with dummy atom neighbors\n",
      "[11:31:00] WARNING: not removing hydrogen atom with dummy atom neighbors\n",
      "[11:31:00] WARNING: not removing hydrogen atom with dummy atom neighbors\n",
      "[11:31:00] WARNING: not removing hydrogen atom with dummy atom neighbors\n",
      "[11:31:00] WARNING: not removing hydrogen atom with dummy atom neighbors\n",
      "[11:31:00] WARNING: not removing hydrogen atom with dummy atom neighbors\n",
      "[11:31:00] WARNING: not removing hydrogen atom with dummy atom neighbors\n",
      "[11:31:00] WARNING: not removing hydrogen atom with dummy atom neighbors\n",
      "[11:31:00] WARNING: not removing hydrogen atom with dummy atom neighbors\n",
      "[11:31:00] WARNING: not removing hydrogen atom with dummy atom neighbors\n",
      "[11:31:00] WARNING: not removing hydrogen atom with dummy atom neighbors\n",
      "[11:31:00] WARNING: not removing hydrogen atom with dummy atom neighbors\n",
      "[11:31:00] WARNING: not removing hydrogen atom with dummy atom neighbors\n",
      "[11:31:00] WARNING: not removing hydrogen atom with dummy atom neighbors\n",
      "[11:31:00] WARNING: not removing hydrogen atom with dummy atom neighbors\n",
      "[11:31:00] WARNING: not removing hydrogen atom with dummy atom neighbors\n",
      "[11:31:00] WARNING: not removing hydrogen atom with dummy atom neighbors\n",
      "[11:31:00] WARNING: not removing hydrogen atom with dummy atom neighbors\n",
      "[11:31:00] WARNING: not removing hydrogen atom with dummy atom neighbors\n",
      "[11:31:00] WARNING: not removing hydrogen atom with dummy atom neighbors\n",
      "[11:31:00] WARNING: not removing hydrogen atom with dummy atom neighbors\n",
      "[11:31:00] WARNING: not removing hydrogen atom with dummy atom neighbors\n",
      "[11:31:00] WARNING: not removing hydrogen atom with dummy atom neighbors\n",
      "[11:31:00] WARNING: not removing hydrogen atom with dummy atom neighbors\n",
      "[11:31:00] WARNING: not removing hydrogen atom with dummy atom neighbors\n",
      "[11:31:00] WARNING: not removing hydrogen atom with dummy atom neighbors\n",
      "[11:31:00] WARNING: not removing hydrogen atom with dummy atom neighbors\n",
      "[11:31:00] WARNING: not removing hydrogen atom with dummy atom neighbors\n",
      "[11:31:00] WARNING: not removing hydrogen atom with dummy atom neighbors\n",
      "[11:31:00] WARNING: not removing hydrogen atom with dummy atom neighbors\n",
      "[11:31:00] WARNING: not removing hydrogen atom with dummy atom neighbors\n",
      "[11:31:01] WARNING: not removing hydrogen atom with dummy atom neighbors\n",
      "[11:31:01] WARNING: not removing hydrogen atom with dummy atom neighbors\n",
      "[11:31:01] WARNING: not removing hydrogen atom with dummy atom neighbors\n",
      "[11:31:01] WARNING: not removing hydrogen atom with dummy atom neighbors\n",
      "[11:31:01] WARNING: not removing hydrogen atom with dummy atom neighbors\n",
      "[11:31:01] WARNING: not removing hydrogen atom with dummy atom neighbors\n",
      "[11:31:01] WARNING: not removing hydrogen atom with dummy atom neighbors\n",
      "[11:31:01] WARNING: not removing hydrogen atom with dummy atom neighbors\n",
      "[11:31:01] WARNING: not removing hydrogen atom with dummy atom neighbors\n",
      "[11:31:01] WARNING: not removing hydrogen atom with dummy atom neighbors\n",
      "[11:31:01] WARNING: not removing hydrogen atom with dummy atom neighbors\n",
      "[11:31:01] WARNING: not removing hydrogen atom with dummy atom neighbors\n",
      "[11:31:01] WARNING: not removing hydrogen atom with dummy atom neighbors\n",
      "[11:31:01] WARNING: not removing hydrogen atom with dummy atom neighbors\n",
      "[11:31:01] WARNING: not removing hydrogen atom with dummy atom neighbors\n",
      "[11:31:01] WARNING: not removing hydrogen atom with dummy atom neighbors\n",
      "[11:31:01] WARNING: not removing hydrogen atom with dummy atom neighbors\n",
      "[11:31:01] WARNING: not removing hydrogen atom with dummy atom neighbors\n",
      "[11:31:01] WARNING: not removing hydrogen atom with dummy atom neighbors\n",
      "[11:31:01] WARNING: not removing hydrogen atom with dummy atom neighbors\n",
      "[11:31:01] WARNING: not removing hydrogen atom with dummy atom neighbors\n",
      "[11:31:01] WARNING: not removing hydrogen atom with dummy atom neighbors\n",
      "[11:31:01] WARNING: not removing hydrogen atom with dummy atom neighbors\n",
      "[11:31:01] WARNING: not removing hydrogen atom with dummy atom neighbors\n",
      "[11:31:01] WARNING: not removing hydrogen atom with dummy atom neighbors\n",
      "[11:31:01] WARNING: not removing hydrogen atom with dummy atom neighbors\n",
      "[11:31:01] WARNING: not removing hydrogen atom with dummy atom neighbors\n",
      "[11:31:01] WARNING: not removing hydrogen atom with dummy atom neighbors\n",
      "[11:31:01] WARNING: not removing hydrogen atom with dummy atom neighbors\n",
      "[11:31:01] WARNING: not removing hydrogen atom with dummy atom neighbors\n",
      "[11:31:01] WARNING: not removing hydrogen atom with dummy atom neighbors\n",
      "[11:31:01] WARNING: not removing hydrogen atom with dummy atom neighbors\n",
      "[11:31:01] WARNING: not removing hydrogen atom with dummy atom neighbors\n",
      "[11:31:01] WARNING: not removing hydrogen atom with dummy atom neighbors\n",
      "[11:31:01] WARNING: not removing hydrogen atom with dummy atom neighbors\n",
      "[11:31:01] WARNING: not removing hydrogen atom with dummy atom neighbors\n",
      "[11:31:01] WARNING: not removing hydrogen atom with dummy atom neighbors\n",
      "[11:31:01] WARNING: not removing hydrogen atom with dummy atom neighbors\n",
      "[11:31:01] WARNING: not removing hydrogen atom with dummy atom neighbors\n",
      "[11:31:01] WARNING: not removing hydrogen atom with dummy atom neighbors\n",
      "[11:31:01] Can't kekulize mol.  Unkekulized atoms: 1 5 6 16 17 18\n",
      "[11:31:01] Can't kekulize mol.  Unkekulized atoms: 1 5 6 7 8 9\n",
      "[11:31:01] Can't kekulize mol.  Unkekulized atoms: 1 5 6 16 17 18\n",
      "[11:31:01] Can't kekulize mol.  Unkekulized atoms: 1 5 6 7 8 9\n",
      "[11:31:01] WARNING: not removing hydrogen atom with dummy atom neighbors\n",
      "[11:31:01] WARNING: not removing hydrogen atom with dummy atom neighbors\n",
      "[11:31:01] WARNING: not removing hydrogen atom with dummy atom neighbors\n",
      "[11:31:01] WARNING: not removing hydrogen atom with dummy atom neighbors\n",
      "[11:31:01] WARNING: not removing hydrogen atom with dummy atom neighbors\n",
      "[11:31:01] WARNING: not removing hydrogen atom with dummy atom neighbors\n",
      "[11:31:01] WARNING: not removing hydrogen atom with dummy atom neighbors\n",
      "[11:31:01] WARNING: not removing hydrogen atom with dummy atom neighbors\n",
      "[11:31:01] WARNING: not removing hydrogen atom with dummy atom neighbors\n",
      "[11:31:01] WARNING: not removing hydrogen atom with dummy atom neighbors\n",
      "[11:31:01] WARNING: not removing hydrogen atom with dummy atom neighbors\n",
      "[11:31:01] WARNING: not removing hydrogen atom with dummy atom neighbors\n",
      "[11:31:01] WARNING: not removing hydrogen atom with dummy atom neighbors\n",
      "[11:31:01] WARNING: not removing hydrogen atom with dummy atom neighbors\n",
      "[11:31:01] WARNING: not removing hydrogen atom with dummy atom neighbors\n",
      "[11:31:01] WARNING: not removing hydrogen atom with dummy atom neighbors\n",
      "[11:31:01] WARNING: not removing hydrogen atom with dummy atom neighbors\n",
      "[11:31:01] WARNING: not removing hydrogen atom with dummy atom neighbors\n",
      "[11:31:01] WARNING: not removing hydrogen atom with dummy atom neighbors\n",
      "[11:31:01] WARNING: not removing hydrogen atom with dummy atom neighbors\n",
      "[11:31:01] WARNING: not removing hydrogen atom with dummy atom neighbors\n",
      "[11:31:01] WARNING: not removing hydrogen atom with dummy atom neighbors\n",
      "[11:31:02] WARNING: not removing hydrogen atom with dummy atom neighbors\n",
      "[11:31:02] WARNING: not removing hydrogen atom with dummy atom neighbors\n",
      "[11:31:02] WARNING: not removing hydrogen atom with dummy atom neighbors\n",
      "[11:31:02] WARNING: not removing hydrogen atom with dummy atom neighbors\n",
      "[11:31:02] WARNING: not removing hydrogen atom with dummy atom neighbors\n",
      "[11:31:02] WARNING: not removing hydrogen atom with dummy atom neighbors\n",
      "[11:31:02] WARNING: not removing hydrogen atom with dummy atom neighbors\n",
      "[11:31:02] WARNING: not removing hydrogen atom with dummy atom neighbors\n",
      "[11:31:02] WARNING: not removing hydrogen atom with dummy atom neighbors\n",
      "[11:31:02] WARNING: not removing hydrogen atom with dummy atom neighbors\n",
      "[11:31:02] WARNING: not removing hydrogen atom with dummy atom neighbors\n",
      "[11:31:02] WARNING: not removing hydrogen atom with dummy atom neighbors\n",
      "[11:31:02] WARNING: not removing hydrogen atom with dummy atom neighbors\n",
      "[11:31:02] WARNING: not removing hydrogen atom with dummy atom neighbors\n",
      "[11:31:02] WARNING: not removing hydrogen atom with dummy atom neighbors\n",
      "[11:31:02] WARNING: not removing hydrogen atom with dummy atom neighbors\n",
      "[11:31:02] WARNING: not removing hydrogen atom with dummy atom neighbors\n",
      "[11:31:02] WARNING: not removing hydrogen atom with dummy atom neighbors\n",
      "[11:31:02] WARNING: not removing hydrogen atom with dummy atom neighbors\n",
      "[11:31:02] WARNING: not removing hydrogen atom with dummy atom neighbors\n",
      "[11:31:02] Can't kekulize mol.  Unkekulized atoms: 2 4 5 11\n",
      "[11:31:02] Can't kekulize mol.  Unkekulized atoms: 2 4 5 11\n",
      "[11:31:02] WARNING: not removing hydrogen atom with dummy atom neighbors\n",
      "[11:31:02] WARNING: not removing hydrogen atom with dummy atom neighbors\n",
      "[11:31:02] WARNING: not removing hydrogen atom with dummy atom neighbors\n",
      "[11:31:02] WARNING: not removing hydrogen atom with dummy atom neighbors\n",
      "[11:31:02] WARNING: not removing hydrogen atom with dummy atom neighbors\n",
      "[11:31:02] WARNING: not removing hydrogen atom with dummy atom neighbors\n",
      "[11:31:02] WARNING: not removing hydrogen atom with dummy atom neighbors\n",
      "[11:31:02] WARNING: not removing hydrogen atom with dummy atom neighbors\n",
      "[11:31:02] WARNING: not removing hydrogen atom with dummy atom neighbors\n",
      "[11:31:02] WARNING: not removing hydrogen atom with dummy atom neighbors\n",
      "[11:31:02] WARNING: not removing hydrogen atom with dummy atom neighbors\n",
      "[11:31:02] WARNING: not removing hydrogen atom with dummy atom neighbors\n",
      "[11:31:02] WARNING: not removing hydrogen atom with dummy atom neighbors\n",
      "[11:31:02] WARNING: not removing hydrogen atom with dummy atom neighbors\n",
      "[11:31:02] WARNING: not removing hydrogen atom with dummy atom neighbors\n",
      "[11:31:02] WARNING: not removing hydrogen atom with dummy atom neighbors\n",
      "[11:31:02] Can't kekulize mol.  Unkekulized atoms: 1 5 6 7 8 9\n",
      "[11:31:02] Can't kekulize mol.  Unkekulized atoms: 28 32 33 34 35 36\n",
      "[11:31:02] Can't kekulize mol.  Unkekulized atoms: 1 5 6 7 8 9\n",
      "[11:31:02] Can't kekulize mol.  Unkekulized atoms: 28 32 33 34 35 36\n",
      "[11:31:02] Can't kekulize mol.  Unkekulized atoms: 1 5 6 7 8 9\n",
      "[11:31:02] Can't kekulize mol.  Unkekulized atoms: 1 5 6 7 8 9\n",
      "[11:31:02] WARNING: not removing hydrogen atom with dummy atom neighbors\n",
      "[11:31:02] WARNING: not removing hydrogen atom with dummy atom neighbors\n",
      "[11:31:02] WARNING: not removing hydrogen atom with dummy atom neighbors\n",
      "[11:31:02] WARNING: not removing hydrogen atom with dummy atom neighbors\n",
      "[11:31:02] WARNING: not removing hydrogen atom with dummy atom neighbors\n",
      "[11:31:02] WARNING: not removing hydrogen atom with dummy atom neighbors\n",
      "[11:31:02] WARNING: not removing hydrogen atom with dummy atom neighbors\n",
      "[11:31:02] WARNING: not removing hydrogen atom with dummy atom neighbors\n",
      "[11:31:02] WARNING: not removing hydrogen atom with dummy atom neighbors\n",
      "[11:31:02] WARNING: not removing hydrogen atom with dummy atom neighbors\n",
      "[11:31:02] WARNING: not removing hydrogen atom with dummy atom neighbors\n",
      "[11:31:02] WARNING: not removing hydrogen atom with dummy atom neighbors\n",
      "[11:31:02] WARNING: not removing hydrogen atom with dummy atom neighbors\n",
      "[11:31:02] WARNING: not removing hydrogen atom with dummy atom neighbors\n",
      "[11:31:02] WARNING: not removing hydrogen atom with dummy atom neighbors\n",
      "[11:31:02] WARNING: not removing hydrogen atom with dummy atom neighbors\n",
      "[11:31:02] Can't kekulize mol.  Unkekulized atoms: 1 5 6 7 8 9\n",
      "[11:31:02] Can't kekulize mol.  Unkekulized atoms: 1 5 6 7 8 9\n",
      "[11:31:02] WARNING: not removing hydrogen atom with dummy atom neighbors\n",
      "[11:31:02] WARNING: not removing hydrogen atom with dummy atom neighbors\n",
      "[11:31:02] WARNING: not removing hydrogen atom with dummy atom neighbors\n",
      "[11:31:02] WARNING: not removing hydrogen atom with dummy atom neighbors\n",
      "[11:31:02] WARNING: not removing hydrogen atom with dummy atom neighbors\n",
      "[11:31:02] WARNING: not removing hydrogen atom with dummy atom neighbors\n",
      "[11:31:02] WARNING: not removing hydrogen atom with dummy atom neighbors\n",
      "[11:31:02] WARNING: not removing hydrogen atom with dummy atom neighbors\n",
      "[11:31:02] WARNING: not removing hydrogen atom with dummy atom neighbors\n",
      "[11:31:02] WARNING: not removing hydrogen atom with dummy atom neighbors\n",
      "[11:31:02] WARNING: not removing hydrogen atom with dummy atom neighbors\n",
      "[11:31:02] WARNING: not removing hydrogen atom with dummy atom neighbors\n",
      "[11:31:02] WARNING: not removing hydrogen atom with dummy atom neighbors\n",
      "[11:31:02] WARNING: not removing hydrogen atom with dummy atom neighbors\n",
      "[11:31:02] WARNING: not removing hydrogen atom with dummy atom neighbors\n",
      "[11:31:02] WARNING: not removing hydrogen atom with dummy atom neighbors\n",
      "[11:31:02] WARNING: not removing hydrogen atom with dummy atom neighbors\n",
      "[11:31:02] WARNING: not removing hydrogen atom with dummy atom neighbors\n",
      "[11:31:02] WARNING: not removing hydrogen atom with dummy atom neighbors\n",
      "[11:31:02] WARNING: not removing hydrogen atom with dummy atom neighbors\n",
      "[11:31:02] WARNING: not removing hydrogen atom with dummy atom neighbors\n",
      "[11:31:02] WARNING: not removing hydrogen atom with dummy atom neighbors\n",
      "[11:31:02] WARNING: not removing hydrogen atom with dummy atom neighbors\n",
      "[11:31:02] WARNING: not removing hydrogen atom with dummy atom neighbors\n",
      "[11:31:02] WARNING: not removing hydrogen atom with dummy atom neighbors\n",
      "[11:31:02] WARNING: not removing hydrogen atom with dummy atom neighbors\n",
      "[11:31:02] WARNING: not removing hydrogen atom with dummy atom neighbors\n",
      "[11:31:02] WARNING: not removing hydrogen atom with dummy atom neighbors\n",
      "[11:31:02] WARNING: not removing hydrogen atom with dummy atom neighbors\n",
      "[11:31:02] WARNING: not removing hydrogen atom with dummy atom neighbors\n",
      "[11:31:02] WARNING: not removing hydrogen atom with dummy atom neighbors\n",
      "[11:31:02] WARNING: not removing hydrogen atom with dummy atom neighbors\n",
      "[11:31:02] WARNING: not removing hydrogen atom with dummy atom neighbors\n",
      "[11:31:02] WARNING: not removing hydrogen atom with dummy atom neighbors\n",
      "[11:31:02] WARNING: not removing hydrogen atom with dummy atom neighbors\n",
      "[11:31:02] WARNING: not removing hydrogen atom with dummy atom neighbors\n",
      "[11:31:02] WARNING: not removing hydrogen atom with dummy atom neighbors\n",
      "[11:31:02] WARNING: not removing hydrogen atom with dummy atom neighbors\n",
      "[11:31:02] WARNING: not removing hydrogen atom with dummy atom neighbors\n",
      "[11:31:02] WARNING: not removing hydrogen atom with dummy atom neighbors\n",
      "[11:31:03] WARNING: not removing hydrogen atom with dummy atom neighbors\n",
      "[11:31:03] WARNING: not removing hydrogen atom with dummy atom neighbors\n",
      "[11:31:03] WARNING: not removing hydrogen atom with dummy atom neighbors\n",
      "[11:31:03] WARNING: not removing hydrogen atom with dummy atom neighbors\n",
      "[11:31:03] WARNING: not removing hydrogen atom with dummy atom neighbors\n",
      "[11:31:03] WARNING: not removing hydrogen atom with dummy atom neighbors\n",
      "[11:31:03] WARNING: not removing hydrogen atom with dummy atom neighbors\n",
      "[11:31:03] WARNING: not removing hydrogen atom with dummy atom neighbors\n",
      "[11:31:03] WARNING: not removing hydrogen atom with dummy atom neighbors\n",
      "[11:31:03] WARNING: not removing hydrogen atom with dummy atom neighbors\n",
      "[11:31:03] WARNING: not removing hydrogen atom with dummy atom neighbors\n",
      "[11:31:03] WARNING: not removing hydrogen atom with dummy atom neighbors\n",
      "[11:31:03] WARNING: not removing hydrogen atom with dummy atom neighbors\n",
      "[11:31:03] WARNING: not removing hydrogen atom with dummy atom neighbors\n",
      "[11:31:03] WARNING: not removing hydrogen atom with dummy atom neighbors\n",
      "[11:31:03] WARNING: not removing hydrogen atom with dummy atom neighbors\n",
      "[11:31:03] WARNING: not removing hydrogen atom with dummy atom neighbors\n",
      "[11:31:03] WARNING: not removing hydrogen atom with dummy atom neighbors\n",
      "[11:31:03] WARNING: not removing hydrogen atom with dummy atom neighbors\n",
      "[11:31:03] WARNING: not removing hydrogen atom with dummy atom neighbors\n",
      "[11:31:03] WARNING: not removing hydrogen atom with dummy atom neighbors\n",
      "[11:31:03] WARNING: not removing hydrogen atom with dummy atom neighbors\n",
      "[11:31:03] WARNING: not removing hydrogen atom with dummy atom neighbors\n",
      "[11:31:03] WARNING: not removing hydrogen atom with dummy atom neighbors\n",
      "[11:31:03] WARNING: not removing hydrogen atom with dummy atom neighbors\n",
      "[11:31:03] WARNING: not removing hydrogen atom with dummy atom neighbors\n",
      "[11:31:03] WARNING: not removing hydrogen atom with dummy atom neighbors\n",
      "[11:31:03] WARNING: not removing hydrogen atom with dummy atom neighbors\n",
      "[11:31:03] WARNING: not removing hydrogen atom with dummy atom neighbors\n",
      "[11:31:03] WARNING: not removing hydrogen atom with dummy atom neighbors\n",
      "[11:31:03] WARNING: not removing hydrogen atom with dummy atom neighbors\n",
      "[11:31:03] WARNING: not removing hydrogen atom with dummy atom neighbors\n",
      "[11:31:03] WARNING: not removing hydrogen atom with dummy atom neighbors\n",
      "[11:31:03] WARNING: not removing hydrogen atom with dummy atom neighbors\n",
      "[11:31:03] WARNING: not removing hydrogen atom with dummy atom neighbors\n",
      "[11:31:03] WARNING: not removing hydrogen atom with dummy atom neighbors\n",
      "[11:31:03] WARNING: not removing hydrogen atom with dummy atom neighbors\n",
      "[11:31:03] WARNING: not removing hydrogen atom with dummy atom neighbors\n",
      "[11:31:03] WARNING: not removing hydrogen atom with dummy atom neighbors\n",
      "[11:31:03] WARNING: not removing hydrogen atom with dummy atom neighbors\n",
      "[11:31:03] WARNING: not removing hydrogen atom with dummy atom neighbors\n",
      "[11:31:03] WARNING: not removing hydrogen atom with dummy atom neighbors\n",
      "[11:31:03] WARNING: not removing hydrogen atom with dummy atom neighbors\n",
      "[11:31:03] WARNING: not removing hydrogen atom with dummy atom neighbors\n",
      "[11:31:03] WARNING: not removing hydrogen atom with dummy atom neighbors\n",
      "[11:31:03] WARNING: not removing hydrogen atom with dummy atom neighbors\n",
      "[11:31:03] WARNING: not removing hydrogen atom with dummy atom neighbors\n",
      "[11:31:03] WARNING: not removing hydrogen atom with dummy atom neighbors\n",
      "[11:31:03] WARNING: not removing hydrogen atom with dummy atom neighbors\n",
      "[11:31:03] WARNING: not removing hydrogen atom with dummy atom neighbors\n",
      "[11:31:03] WARNING: not removing hydrogen atom with dummy atom neighbors\n",
      "[11:31:03] WARNING: not removing hydrogen atom with dummy atom neighbors\n",
      "[11:31:03] WARNING: not removing hydrogen atom with dummy atom neighbors\n",
      "[11:31:03] WARNING: not removing hydrogen atom with dummy atom neighbors\n",
      "[11:31:03] WARNING: not removing hydrogen atom with dummy atom neighbors\n",
      "[11:31:03] WARNING: not removing hydrogen atom with dummy atom neighbors\n",
      "[11:31:03] WARNING: not removing hydrogen atom with dummy atom neighbors\n",
      "[11:31:03] WARNING: not removing hydrogen atom with dummy atom neighbors\n",
      "[11:31:03] WARNING: not removing hydrogen atom with dummy atom neighbors\n",
      "[11:31:03] WARNING: not removing hydrogen atom with dummy atom neighbors\n",
      "[11:31:03] WARNING: not removing hydrogen atom with dummy atom neighbors\n",
      "[11:31:03] WARNING: not removing hydrogen atom with dummy atom neighbors\n",
      "[11:31:03] WARNING: not removing hydrogen atom with dummy atom neighbors\n",
      "[11:31:03] WARNING: not removing hydrogen atom with dummy atom neighbors\n",
      "[11:31:03] WARNING: not removing hydrogen atom with dummy atom neighbors\n",
      "[11:31:03] WARNING: not removing hydrogen atom with dummy atom neighbors\n",
      "[11:31:03] WARNING: not removing hydrogen atom with dummy atom neighbors\n",
      "[11:31:03] WARNING: not removing hydrogen atom with dummy atom neighbors\n",
      "[11:31:03] WARNING: not removing hydrogen atom with dummy atom neighbors\n",
      "[11:31:03] WARNING: not removing hydrogen atom with dummy atom neighbors\n",
      "[11:31:03] WARNING: not removing hydrogen atom with dummy atom neighbors\n",
      "[11:31:03] WARNING: not removing hydrogen atom with dummy atom neighbors\n",
      "[11:31:03] WARNING: not removing hydrogen atom with dummy atom neighbors\n",
      "[11:31:03] WARNING: not removing hydrogen atom with dummy atom neighbors\n",
      "[11:31:03] WARNING: not removing hydrogen atom with dummy atom neighbors\n",
      "[11:31:03] WARNING: not removing hydrogen atom with dummy atom neighbors\n",
      "[11:31:03] WARNING: not removing hydrogen atom with dummy atom neighbors\n",
      "[11:31:03] WARNING: not removing hydrogen atom with dummy atom neighbors\n",
      "[11:31:03] WARNING: not removing hydrogen atom with dummy atom neighbors\n",
      "[11:31:03] WARNING: not removing hydrogen atom with dummy atom neighbors\n",
      "[11:31:03] WARNING: not removing hydrogen atom with dummy atom neighbors\n",
      "[11:31:03] WARNING: not removing hydrogen atom with dummy atom neighbors\n",
      "[11:31:03] WARNING: not removing hydrogen atom with dummy atom neighbors\n",
      "[11:31:03] WARNING: not removing hydrogen atom with dummy atom neighbors\n",
      "[11:31:03] WARNING: not removing hydrogen atom with dummy atom neighbors\n",
      "[11:31:03] WARNING: not removing hydrogen atom with dummy atom neighbors\n",
      "[11:31:03] WARNING: not removing hydrogen atom with dummy atom neighbors\n",
      "[11:31:03] WARNING: not removing hydrogen atom with dummy atom neighbors\n",
      "[11:31:03] Can't kekulize mol.  Unkekulized atoms: 2 4 5 11\n",
      "[11:31:03] Can't kekulize mol.  Unkekulized atoms: 2 4 5 11\n",
      "[11:31:03] Can't kekulize mol.  Unkekulized atoms: 2 4 5 11\n",
      "[11:31:03] Can't kekulize mol.  Unkekulized atoms: 2 4 5 11\n",
      "[11:31:03] WARNING: not removing hydrogen atom with dummy atom neighbors\n",
      "[11:31:03] WARNING: not removing hydrogen atom with dummy atom neighbors\n",
      "[11:31:03] WARNING: not removing hydrogen atom with dummy atom neighbors\n",
      "[11:31:03] WARNING: not removing hydrogen atom with dummy atom neighbors\n",
      "[11:31:03] WARNING: not removing hydrogen atom with dummy atom neighbors\n",
      "[11:31:03] WARNING: not removing hydrogen atom with dummy atom neighbors\n",
      "[11:31:03] WARNING: not removing hydrogen atom with dummy atom neighbors\n",
      "[11:31:03] WARNING: not removing hydrogen atom with dummy atom neighbors\n",
      "[11:31:03] WARNING: not removing hydrogen atom with dummy atom neighbors\n",
      "[11:31:03] WARNING: not removing hydrogen atom with dummy atom neighbors\n",
      "[11:31:03] WARNING: not removing hydrogen atom with dummy atom neighbors\n",
      "[11:31:03] WARNING: not removing hydrogen atom with dummy atom neighbors\n",
      "[11:31:03] WARNING: not removing hydrogen atom with dummy atom neighbors\n",
      "[11:31:03] WARNING: not removing hydrogen atom with dummy atom neighbors\n",
      "[11:31:03] WARNING: not removing hydrogen atom with dummy atom neighbors\n",
      "[11:31:03] WARNING: not removing hydrogen atom with dummy atom neighbors\n",
      "[11:31:03] WARNING: not removing hydrogen atom with dummy atom neighbors\n",
      "[11:31:03] WARNING: not removing hydrogen atom with dummy atom neighbors\n",
      "[11:31:03] WARNING: not removing hydrogen atom with dummy atom neighbors\n",
      "[11:31:03] WARNING: not removing hydrogen atom with dummy atom neighbors\n",
      "[11:31:03] Can't kekulize mol.  Unkekulized atoms: 1 5 6 10 11 12\n",
      "[11:31:03] Can't kekulize mol.  Unkekulized atoms: 1 5 6 10 11 12\n",
      "[11:31:03] WARNING: not removing hydrogen atom with dummy atom neighbors\n",
      "[11:31:03] WARNING: not removing hydrogen atom with dummy atom neighbors\n",
      "[11:31:03] WARNING: not removing hydrogen atom with dummy atom neighbors\n",
      "[11:31:03] WARNING: not removing hydrogen atom with dummy atom neighbors\n",
      "[11:31:03] WARNING: not removing hydrogen atom with dummy atom neighbors\n",
      "[11:31:03] WARNING: not removing hydrogen atom with dummy atom neighbors\n",
      "[11:31:03] WARNING: not removing hydrogen atom with dummy atom neighbors\n",
      "[11:31:03] WARNING: not removing hydrogen atom with dummy atom neighbors\n",
      "[11:31:03] WARNING: not removing hydrogen atom with dummy atom neighbors\n",
      "[11:31:03] WARNING: not removing hydrogen atom with dummy atom neighbors\n",
      "[11:31:03] WARNING: not removing hydrogen atom with dummy atom neighbors\n",
      "[11:31:03] WARNING: not removing hydrogen atom with dummy atom neighbors\n",
      "[11:31:03] WARNING: not removing hydrogen atom with dummy atom neighbors\n",
      "[11:31:03] WARNING: not removing hydrogen atom with dummy atom neighbors\n",
      "[11:31:03] WARNING: not removing hydrogen atom with dummy atom neighbors\n",
      "[11:31:03] WARNING: not removing hydrogen atom with dummy atom neighbors\n",
      "[11:31:03] WARNING: not removing hydrogen atom with dummy atom neighbors\n",
      "[11:31:03] WARNING: not removing hydrogen atom with dummy atom neighbors\n",
      "[11:31:03] WARNING: not removing hydrogen atom with dummy atom neighbors\n",
      "[11:31:03] WARNING: not removing hydrogen atom with dummy atom neighbors\n",
      "[11:31:03] WARNING: not removing hydrogen atom with dummy atom neighbors\n",
      "[11:31:03] WARNING: not removing hydrogen atom with dummy atom neighbors\n",
      "[11:31:03] WARNING: not removing hydrogen atom with dummy atom neighbors\n",
      "[11:31:03] WARNING: not removing hydrogen atom with dummy atom neighbors\n",
      "[11:31:03] WARNING: not removing hydrogen atom with dummy atom neighbors\n",
      "[11:31:03] WARNING: not removing hydrogen atom with dummy atom neighbors\n",
      "[11:31:03] WARNING: not removing hydrogen atom with dummy atom neighbors\n",
      "[11:31:03] WARNING: not removing hydrogen atom with dummy atom neighbors\n",
      "[11:31:03] WARNING: not removing hydrogen atom with dummy atom neighbors\n",
      "[11:31:03] WARNING: not removing hydrogen atom with dummy atom neighbors\n",
      "[11:31:03] WARNING: not removing hydrogen atom with dummy atom neighbors\n",
      "[11:31:03] WARNING: not removing hydrogen atom with dummy atom neighbors\n",
      "[11:31:03] WARNING: not removing hydrogen atom with dummy atom neighbors\n",
      "[11:31:03] WARNING: not removing hydrogen atom with dummy atom neighbors\n",
      "[11:31:03] WARNING: not removing hydrogen atom with dummy atom neighbors\n",
      "[11:31:03] WARNING: not removing hydrogen atom with dummy atom neighbors\n",
      "[11:31:03] WARNING: not removing hydrogen atom with dummy atom neighbors\n",
      "[11:31:03] WARNING: not removing hydrogen atom with dummy atom neighbors\n",
      "[11:31:03] WARNING: not removing hydrogen atom with dummy atom neighbors\n",
      "[11:31:03] WARNING: not removing hydrogen atom with dummy atom neighbors\n",
      "[11:31:03] WARNING: not removing hydrogen atom with dummy atom neighbors\n",
      "[11:31:03] WARNING: not removing hydrogen atom with dummy atom neighbors\n",
      "[11:31:03] WARNING: not removing hydrogen atom with dummy atom neighbors\n",
      "[11:31:03] WARNING: not removing hydrogen atom with dummy atom neighbors\n",
      "[11:31:03] WARNING: not removing hydrogen atom with dummy atom neighbors\n",
      "[11:31:03] WARNING: not removing hydrogen atom with dummy atom neighbors\n",
      "[11:31:03] WARNING: not removing hydrogen atom with dummy atom neighbors\n",
      "[11:31:03] WARNING: not removing hydrogen atom with dummy atom neighbors\n",
      "[11:31:03] WARNING: not removing hydrogen atom with dummy atom neighbors\n",
      "[11:31:03] WARNING: not removing hydrogen atom with dummy atom neighbors\n",
      "[11:31:03] WARNING: not removing hydrogen atom with dummy atom neighbors\n",
      "[11:31:03] WARNING: not removing hydrogen atom with dummy atom neighbors\n",
      "[11:31:03] WARNING: not removing hydrogen atom with dummy atom neighbors\n",
      "[11:31:03] WARNING: not removing hydrogen atom with dummy atom neighbors\n",
      "[11:31:03] WARNING: not removing hydrogen atom with dummy atom neighbors\n",
      "[11:31:03] WARNING: not removing hydrogen atom with dummy atom neighbors\n",
      "[11:31:03] WARNING: not removing hydrogen atom with dummy atom neighbors\n",
      "[11:31:03] WARNING: not removing hydrogen atom with dummy atom neighbors\n",
      "[11:31:03] WARNING: not removing hydrogen atom with dummy atom neighbors\n",
      "[11:31:03] WARNING: not removing hydrogen atom with dummy atom neighbors\n",
      "[11:31:03] WARNING: not removing hydrogen atom with dummy atom neighbors\n",
      "[11:31:03] WARNING: not removing hydrogen atom with dummy atom neighbors\n",
      "[11:31:03] WARNING: not removing hydrogen atom with dummy atom neighbors\n",
      "[11:31:03] WARNING: not removing hydrogen atom with dummy atom neighbors\n",
      "[11:31:03] WARNING: not removing hydrogen atom with dummy atom neighbors\n",
      "[11:31:03] WARNING: not removing hydrogen atom with dummy atom neighbors\n",
      "[11:31:03] WARNING: not removing hydrogen atom with dummy atom neighbors\n",
      "[11:31:03] WARNING: not removing hydrogen atom with dummy atom neighbors\n",
      "[11:31:03] WARNING: not removing hydrogen atom with dummy atom neighbors\n",
      "[11:31:03] WARNING: not removing hydrogen atom with dummy atom neighbors\n",
      "[11:31:03] WARNING: not removing hydrogen atom with dummy atom neighbors\n",
      "[11:31:03] WARNING: not removing hydrogen atom with dummy atom neighbors\n",
      "[11:31:03] WARNING: not removing hydrogen atom with dummy atom neighbors\n",
      "[11:31:03] WARNING: not removing hydrogen atom with dummy atom neighbors\n",
      "[11:31:03] WARNING: not removing hydrogen atom with dummy atom neighbors\n",
      "[11:31:03] WARNING: not removing hydrogen atom with dummy atom neighbors\n",
      "[11:31:03] WARNING: not removing hydrogen atom with dummy atom neighbors\n",
      "[11:31:03] WARNING: not removing hydrogen atom with dummy atom neighbors\n",
      "[11:31:03] WARNING: not removing hydrogen atom with dummy atom neighbors\n",
      "[11:31:03] WARNING: not removing hydrogen atom with dummy atom neighbors\n",
      "[11:31:03] WARNING: not removing hydrogen atom with dummy atom neighbors\n",
      "[11:31:03] WARNING: not removing hydrogen atom with dummy atom neighbors\n",
      "[11:31:03] WARNING: not removing hydrogen atom with dummy atom neighbors\n",
      "[11:31:03] WARNING: not removing hydrogen atom with dummy atom neighbors\n",
      "[11:31:03] WARNING: not removing hydrogen atom with dummy atom neighbors\n",
      "[11:31:03] WARNING: not removing hydrogen atom with dummy atom neighbors\n",
      "[11:31:03] WARNING: not removing hydrogen atom with dummy atom neighbors\n",
      "[11:31:03] WARNING: not removing hydrogen atom with dummy atom neighbors\n",
      "[11:31:03] WARNING: not removing hydrogen atom with dummy atom neighbors\n",
      "[11:31:03] WARNING: not removing hydrogen atom with dummy atom neighbors\n",
      "[11:31:03] WARNING: not removing hydrogen atom with dummy atom neighbors\n",
      "[11:31:03] WARNING: not removing hydrogen atom with dummy atom neighbors\n",
      "[11:31:03] WARNING: not removing hydrogen atom with dummy atom neighbors\n",
      "[11:31:03] WARNING: not removing hydrogen atom with dummy atom neighbors\n",
      "[11:31:03] WARNING: not removing hydrogen atom with dummy atom neighbors\n",
      "[11:31:03] WARNING: not removing hydrogen atom with dummy atom neighbors\n",
      "[11:31:03] WARNING: not removing hydrogen atom with dummy atom neighbors\n",
      "[11:31:03] WARNING: not removing hydrogen atom with dummy atom neighbors\n",
      "[11:31:03] WARNING: not removing hydrogen atom with dummy atom neighbors\n",
      "[11:31:03] WARNING: not removing hydrogen atom with dummy atom neighbors\n",
      "[11:31:03] WARNING: not removing hydrogen atom with dummy atom neighbors\n",
      "[11:31:03] WARNING: not removing hydrogen atom with dummy atom neighbors\n",
      "[11:31:03] WARNING: not removing hydrogen atom with dummy atom neighbors\n",
      "[11:31:03] WARNING: not removing hydrogen atom with dummy atom neighbors\n",
      "[11:31:03] WARNING: not removing hydrogen atom with dummy atom neighbors\n",
      "[11:31:03] WARNING: not removing hydrogen atom with dummy atom neighbors\n",
      "[11:31:03] WARNING: not removing hydrogen atom with dummy atom neighbors\n",
      "[11:31:03] WARNING: not removing hydrogen atom with dummy atom neighbors\n",
      "[11:31:03] WARNING: not removing hydrogen atom with dummy atom neighbors\n",
      "[11:31:03] WARNING: not removing hydrogen atom with dummy atom neighbors\n",
      "[11:31:03] WARNING: not removing hydrogen atom with dummy atom neighbors\n",
      "[11:31:03] WARNING: not removing hydrogen atom with dummy atom neighbors\n",
      "[11:31:03] WARNING: not removing hydrogen atom with dummy atom neighbors\n",
      "[11:31:03] WARNING: not removing hydrogen atom with dummy atom neighbors\n",
      "[11:31:03] WARNING: not removing hydrogen atom with dummy atom neighbors\n",
      "[11:31:03] WARNING: not removing hydrogen atom with dummy atom neighbors\n",
      "[11:31:03] WARNING: not removing hydrogen atom with dummy atom neighbors\n",
      "[11:31:03] WARNING: not removing hydrogen atom with dummy atom neighbors\n",
      "[11:31:03] WARNING: not removing hydrogen atom with dummy atom neighbors\n",
      "[11:31:03] WARNING: not removing hydrogen atom with dummy atom neighbors\n",
      "[11:31:03] WARNING: not removing hydrogen atom with dummy atom neighbors\n",
      "[11:31:03] WARNING: not removing hydrogen atom with dummy atom neighbors\n",
      "[11:31:03] WARNING: not removing hydrogen atom with dummy atom neighbors\n",
      "[11:31:03] WARNING: not removing hydrogen atom with dummy atom neighbors\n",
      "[11:31:03] WARNING: not removing hydrogen atom with dummy atom neighbors\n",
      "[11:31:03] WARNING: not removing hydrogen atom with dummy atom neighbors\n",
      "[11:31:03] WARNING: not removing hydrogen atom with dummy atom neighbors\n",
      "[11:31:03] WARNING: not removing hydrogen atom with dummy atom neighbors\n",
      "[11:31:03] WARNING: not removing hydrogen atom with dummy atom neighbors\n",
      "[11:31:03] WARNING: not removing hydrogen atom with dummy atom neighbors\n",
      "[11:31:03] WARNING: not removing hydrogen atom with dummy atom neighbors\n",
      "[11:31:03] WARNING: not removing hydrogen atom with dummy atom neighbors\n",
      "[11:31:03] WARNING: not removing hydrogen atom with dummy atom neighbors\n",
      "[11:31:03] WARNING: not removing hydrogen atom with dummy atom neighbors\n",
      "[11:31:03] WARNING: not removing hydrogen atom with dummy atom neighbors\n",
      "[11:31:03] WARNING: not removing hydrogen atom with dummy atom neighbors\n",
      "[11:31:03] WARNING: not removing hydrogen atom with dummy atom neighbors\n",
      "[11:31:03] WARNING: not removing hydrogen atom with dummy atom neighbors\n",
      "[11:31:03] WARNING: not removing hydrogen atom with dummy atom neighbors\n",
      "[11:31:03] WARNING: not removing hydrogen atom with dummy atom neighbors\n",
      "[11:31:03] WARNING: not removing hydrogen atom with dummy atom neighbors\n",
      "[11:31:03] WARNING: not removing hydrogen atom with dummy atom neighbors\n",
      "[11:31:03] WARNING: not removing hydrogen atom with dummy atom neighbors\n",
      "[11:31:03] WARNING: not removing hydrogen atom with dummy atom neighbors\n",
      "[11:31:03] WARNING: not removing hydrogen atom with dummy atom neighbors\n",
      "[11:31:03] WARNING: not removing hydrogen atom with dummy atom neighbors\n",
      "[11:31:03] WARNING: not removing hydrogen atom with dummy atom neighbors\n",
      "[11:31:03] WARNING: not removing hydrogen atom with dummy atom neighbors\n",
      "[11:31:03] WARNING: not removing hydrogen atom with dummy atom neighbors\n",
      "[11:31:03] WARNING: not removing hydrogen atom with dummy atom neighbors\n",
      "[11:31:03] WARNING: not removing hydrogen atom with dummy atom neighbors\n",
      "[11:31:03] WARNING: not removing hydrogen atom with dummy atom neighbors\n",
      "[11:31:03] WARNING: not removing hydrogen atom with dummy atom neighbors\n",
      "[11:31:03] WARNING: not removing hydrogen atom with dummy atom neighbors\n",
      "[11:31:04] Can't kekulize mol.  Unkekulized atoms: 1 5 6 16 17 18\n",
      "[11:31:04] Can't kekulize mol.  Unkekulized atoms: 1 5 6 16 17 18\n",
      "[11:31:04] WARNING: not removing hydrogen atom with dummy atom neighbors\n",
      "[11:31:04] WARNING: not removing hydrogen atom with dummy atom neighbors\n",
      "[11:31:04] WARNING: not removing hydrogen atom with dummy atom neighbors\n",
      "[11:31:04] WARNING: not removing hydrogen atom with dummy atom neighbors\n",
      "[11:31:04] WARNING: not removing hydrogen atom with dummy atom neighbors\n",
      "[11:31:04] WARNING: not removing hydrogen atom with dummy atom neighbors\n",
      "[11:31:04] WARNING: not removing hydrogen atom with dummy atom neighbors\n",
      "[11:31:04] WARNING: not removing hydrogen atom with dummy atom neighbors\n",
      "[11:31:04] WARNING: not removing hydrogen atom with dummy atom neighbors\n",
      "[11:31:04] WARNING: not removing hydrogen atom with dummy atom neighbors\n",
      "[11:31:04] WARNING: not removing hydrogen atom with dummy atom neighbors\n",
      "[11:31:04] WARNING: not removing hydrogen atom with dummy atom neighbors\n",
      "[11:31:04] WARNING: not removing hydrogen atom with dummy atom neighbors\n",
      "[11:31:04] WARNING: not removing hydrogen atom with dummy atom neighbors\n",
      "[11:31:04] WARNING: not removing hydrogen atom with dummy atom neighbors\n",
      "[11:31:04] WARNING: not removing hydrogen atom with dummy atom neighbors\n",
      "[11:31:04] WARNING: not removing hydrogen atom with dummy atom neighbors\n",
      "[11:31:04] WARNING: not removing hydrogen atom with dummy atom neighbors\n",
      "[11:31:04] WARNING: not removing hydrogen atom with dummy atom neighbors\n",
      "[11:31:04] WARNING: not removing hydrogen atom with dummy atom neighbors\n",
      "[11:31:04] WARNING: not removing hydrogen atom with dummy atom neighbors\n",
      "[11:31:04] WARNING: not removing hydrogen atom with dummy atom neighbors\n",
      "[11:31:04] WARNING: not removing hydrogen atom with dummy atom neighbors\n",
      "[11:31:04] WARNING: not removing hydrogen atom with dummy atom neighbors\n",
      "[11:31:04] WARNING: not removing hydrogen atom with dummy atom neighbors\n",
      "[11:31:04] WARNING: not removing hydrogen atom with dummy atom neighbors\n",
      "[11:31:04] WARNING: not removing hydrogen atom with dummy atom neighbors\n",
      "[11:31:04] WARNING: not removing hydrogen atom with dummy atom neighbors\n",
      "[11:31:04] WARNING: not removing hydrogen atom with dummy atom neighbors\n",
      "[11:31:04] WARNING: not removing hydrogen atom with dummy atom neighbors\n",
      "[11:31:04] WARNING: not removing hydrogen atom with dummy atom neighbors\n",
      "[11:31:04] WARNING: not removing hydrogen atom with dummy atom neighbors\n",
      "[11:31:04] WARNING: not removing hydrogen atom with dummy atom neighbors\n",
      "[11:31:04] WARNING: not removing hydrogen atom with dummy atom neighbors\n",
      "[11:31:04] WARNING: not removing hydrogen atom with dummy atom neighbors\n",
      "[11:31:04] WARNING: not removing hydrogen atom with dummy atom neighbors\n",
      "[11:31:04] WARNING: not removing hydrogen atom with dummy atom neighbors\n",
      "[11:31:04] WARNING: not removing hydrogen atom with dummy atom neighbors\n",
      "[11:31:04] WARNING: not removing hydrogen atom with dummy atom neighbors\n",
      "[11:31:04] WARNING: not removing hydrogen atom with dummy atom neighbors\n",
      "[11:31:04] WARNING: not removing hydrogen atom with dummy atom neighbors\n",
      "[11:31:04] WARNING: not removing hydrogen atom with dummy atom neighbors\n",
      "[11:31:04] WARNING: not removing hydrogen atom with dummy atom neighbors\n",
      "[11:31:04] WARNING: not removing hydrogen atom with dummy atom neighbors\n",
      "[11:31:04] WARNING: not removing hydrogen atom with dummy atom neighbors\n",
      "[11:31:04] WARNING: not removing hydrogen atom with dummy atom neighbors\n",
      "[11:31:04] WARNING: not removing hydrogen atom with dummy atom neighbors\n",
      "[11:31:04] WARNING: not removing hydrogen atom with dummy atom neighbors\n",
      "[11:31:04] WARNING: not removing hydrogen atom with dummy atom neighbors\n",
      "[11:31:04] WARNING: not removing hydrogen atom with dummy atom neighbors\n",
      "[11:31:04] WARNING: not removing hydrogen atom with dummy atom neighbors\n",
      "[11:31:04] WARNING: not removing hydrogen atom with dummy atom neighbors\n",
      "[11:31:04] WARNING: not removing hydrogen atom with dummy atom neighbors\n",
      "[11:31:04] WARNING: not removing hydrogen atom with dummy atom neighbors\n",
      "[11:31:04] WARNING: not removing hydrogen atom with dummy atom neighbors\n",
      "[11:31:04] WARNING: not removing hydrogen atom with dummy atom neighbors\n",
      "[11:31:04] WARNING: not removing hydrogen atom with dummy atom neighbors\n",
      "[11:31:04] WARNING: not removing hydrogen atom with dummy atom neighbors\n",
      "[11:31:04] WARNING: not removing hydrogen atom with dummy atom neighbors\n",
      "[11:31:04] WARNING: not removing hydrogen atom with dummy atom neighbors\n",
      "[11:31:04] WARNING: not removing hydrogen atom with dummy atom neighbors\n",
      "[11:31:04] WARNING: not removing hydrogen atom with dummy atom neighbors\n",
      "[11:31:04] WARNING: not removing hydrogen atom with dummy atom neighbors\n",
      "[11:31:04] WARNING: not removing hydrogen atom with dummy atom neighbors\n",
      "[11:31:04] WARNING: not removing hydrogen atom with dummy atom neighbors\n",
      "[11:31:04] WARNING: not removing hydrogen atom with dummy atom neighbors\n",
      "[11:31:04] WARNING: not removing hydrogen atom with dummy atom neighbors\n",
      "[11:31:04] WARNING: not removing hydrogen atom with dummy atom neighbors\n",
      "[11:31:04] WARNING: not removing hydrogen atom with dummy atom neighbors\n",
      "[11:31:04] WARNING: not removing hydrogen atom with dummy atom neighbors\n",
      "[11:31:04] WARNING: not removing hydrogen atom with dummy atom neighbors\n",
      "[11:31:04] WARNING: not removing hydrogen atom with dummy atom neighbors\n",
      "[11:31:04] WARNING: not removing hydrogen atom with dummy atom neighbors\n",
      "[11:31:04] WARNING: not removing hydrogen atom with dummy atom neighbors\n",
      "[11:31:04] WARNING: not removing hydrogen atom with dummy atom neighbors\n",
      "[11:31:04] WARNING: not removing hydrogen atom with dummy atom neighbors\n",
      "[11:31:04] WARNING: not removing hydrogen atom with dummy atom neighbors\n",
      "[11:31:04] WARNING: not removing hydrogen atom with dummy atom neighbors\n",
      "[11:31:04] WARNING: not removing hydrogen atom with dummy atom neighbors\n",
      "[11:31:04] WARNING: not removing hydrogen atom with dummy atom neighbors\n",
      "[11:31:04] WARNING: not removing hydrogen atom with dummy atom neighbors\n",
      "[11:31:04] WARNING: not removing hydrogen atom with dummy atom neighbors\n",
      "[11:31:04] WARNING: not removing hydrogen atom with dummy atom neighbors\n",
      "[11:31:04] WARNING: not removing hydrogen atom with dummy atom neighbors\n",
      "[11:31:04] WARNING: not removing hydrogen atom with dummy atom neighbors\n",
      "[11:31:04] WARNING: not removing hydrogen atom with dummy atom neighbors\n",
      "[11:31:04] WARNING: not removing hydrogen atom with dummy atom neighbors\n",
      "[11:31:04] WARNING: not removing hydrogen atom with dummy atom neighbors\n",
      "[11:31:04] WARNING: not removing hydrogen atom with dummy atom neighbors\n",
      "[11:31:04] WARNING: not removing hydrogen atom with dummy atom neighbors\n",
      "[11:31:04] WARNING: not removing hydrogen atom with dummy atom neighbors\n",
      "[11:31:04] WARNING: not removing hydrogen atom with dummy atom neighbors\n",
      "[11:31:04] WARNING: not removing hydrogen atom with dummy atom neighbors\n",
      "[11:31:04] WARNING: not removing hydrogen atom with dummy atom neighbors\n",
      "[11:31:04] WARNING: not removing hydrogen atom with dummy atom neighbors\n",
      "[11:31:04] WARNING: not removing hydrogen atom with dummy atom neighbors\n",
      "[11:31:04] WARNING: not removing hydrogen atom with dummy atom neighbors\n",
      "[11:31:04] WARNING: not removing hydrogen atom with dummy atom neighbors\n",
      "[11:31:04] WARNING: not removing hydrogen atom with dummy atom neighbors\n",
      "[11:31:04] WARNING: not removing hydrogen atom with dummy atom neighbors\n",
      "[11:31:04] WARNING: not removing hydrogen atom with dummy atom neighbors\n",
      "[11:31:04] WARNING: not removing hydrogen atom with dummy atom neighbors\n",
      "[11:31:04] WARNING: not removing hydrogen atom with dummy atom neighbors\n",
      "[11:31:04] WARNING: not removing hydrogen atom with dummy atom neighbors\n",
      "[11:31:04] WARNING: not removing hydrogen atom with dummy atom neighbors\n",
      "[11:31:04] WARNING: not removing hydrogen atom with dummy atom neighbors\n",
      "[11:31:04] WARNING: not removing hydrogen atom with dummy atom neighbors\n",
      "[11:31:04] WARNING: not removing hydrogen atom with dummy atom neighbors\n",
      "[11:31:04] WARNING: not removing hydrogen atom with dummy atom neighbors\n",
      "[11:31:04] WARNING: not removing hydrogen atom with dummy atom neighbors\n",
      "[11:31:04] WARNING: not removing hydrogen atom with dummy atom neighbors\n",
      "[11:31:04] WARNING: not removing hydrogen atom with dummy atom neighbors\n",
      "[11:31:04] WARNING: not removing hydrogen atom with dummy atom neighbors\n",
      "[11:31:04] WARNING: not removing hydrogen atom with dummy atom neighbors\n",
      "[11:31:04] WARNING: not removing hydrogen atom with dummy atom neighbors\n",
      "[11:31:04] WARNING: not removing hydrogen atom with dummy atom neighbors\n",
      "[11:31:04] WARNING: not removing hydrogen atom with dummy atom neighbors\n",
      "[11:31:04] WARNING: not removing hydrogen atom with dummy atom neighbors\n",
      "[11:31:04] WARNING: not removing hydrogen atom with dummy atom neighbors\n",
      "[11:31:04] WARNING: not removing hydrogen atom with dummy atom neighbors\n",
      "[11:31:04] WARNING: not removing hydrogen atom with dummy atom neighbors\n",
      "[11:31:04] WARNING: not removing hydrogen atom with dummy atom neighbors\n",
      "[11:31:04] WARNING: not removing hydrogen atom with dummy atom neighbors\n",
      "[11:31:04] WARNING: not removing hydrogen atom with dummy atom neighbors\n",
      "[11:31:04] WARNING: not removing hydrogen atom with dummy atom neighbors\n",
      "[11:31:04] WARNING: not removing hydrogen atom with dummy atom neighbors\n",
      "[11:31:04] WARNING: not removing hydrogen atom with dummy atom neighbors\n",
      "[11:31:04] WARNING: not removing hydrogen atom with dummy atom neighbors\n",
      "[11:31:04] WARNING: not removing hydrogen atom with dummy atom neighbors\n",
      "[11:31:04] WARNING: not removing hydrogen atom with dummy atom neighbors\n",
      "[11:31:04] WARNING: not removing hydrogen atom with dummy atom neighbors\n",
      "[11:31:04] WARNING: not removing hydrogen atom with dummy atom neighbors\n",
      "[11:31:04] WARNING: not removing hydrogen atom with dummy atom neighbors\n",
      "[11:31:04] WARNING: not removing hydrogen atom with dummy atom neighbors\n",
      "[11:31:04] WARNING: not removing hydrogen atom with dummy atom neighbors\n",
      "[11:31:04] WARNING: not removing hydrogen atom with dummy atom neighbors\n",
      "[11:31:04] WARNING: not removing hydrogen atom with dummy atom neighbors\n",
      "[11:31:04] WARNING: not removing hydrogen atom with dummy atom neighbors\n",
      "[11:31:04] WARNING: not removing hydrogen atom with dummy atom neighbors\n",
      "[11:31:04] WARNING: not removing hydrogen atom with dummy atom neighbors\n",
      "[11:31:04] WARNING: not removing hydrogen atom with dummy atom neighbors\n",
      "[11:31:04] WARNING: not removing hydrogen atom with dummy atom neighbors\n",
      "[11:31:04] WARNING: not removing hydrogen atom with dummy atom neighbors\n",
      "[11:31:04] WARNING: not removing hydrogen atom with dummy atom neighbors\n",
      "[11:31:04] WARNING: not removing hydrogen atom with dummy atom neighbors\n",
      "[11:31:04] WARNING: not removing hydrogen atom with dummy atom neighbors\n",
      "[11:31:04] WARNING: not removing hydrogen atom with dummy atom neighbors\n",
      "[11:31:04] WARNING: not removing hydrogen atom with dummy atom neighbors\n",
      "[11:31:04] WARNING: not removing hydrogen atom with dummy atom neighbors\n",
      "[11:31:04] WARNING: not removing hydrogen atom with dummy atom neighbors\n",
      "[11:31:04] WARNING: not removing hydrogen atom with dummy atom neighbors\n",
      "[11:31:04] WARNING: not removing hydrogen atom with dummy atom neighbors\n",
      "[11:31:04] WARNING: not removing hydrogen atom with dummy atom neighbors\n",
      "[11:31:04] WARNING: not removing hydrogen atom with dummy atom neighbors\n",
      "[11:31:04] WARNING: not removing hydrogen atom with dummy atom neighbors\n",
      "[11:31:04] WARNING: not removing hydrogen atom with dummy atom neighbors\n",
      "[11:31:04] WARNING: not removing hydrogen atom with dummy atom neighbors\n",
      "[11:31:04] WARNING: not removing hydrogen atom with dummy atom neighbors\n",
      "[11:31:04] WARNING: not removing hydrogen atom with dummy atom neighbors\n",
      "[11:31:04] WARNING: not removing hydrogen atom with dummy atom neighbors\n",
      "[11:31:04] WARNING: not removing hydrogen atom with dummy atom neighbors\n",
      "[11:31:04] WARNING: not removing hydrogen atom with dummy atom neighbors\n",
      "[11:31:04] WARNING: not removing hydrogen atom with dummy atom neighbors\n",
      "[11:31:04] WARNING: not removing hydrogen atom with dummy atom neighbors\n",
      "[11:31:04] WARNING: not removing hydrogen atom with dummy atom neighbors\n",
      "[11:31:04] WARNING: not removing hydrogen atom with dummy atom neighbors\n",
      "[11:31:04] WARNING: not removing hydrogen atom with dummy atom neighbors\n",
      "[11:31:04] WARNING: not removing hydrogen atom with dummy atom neighbors\n",
      "[11:31:04] WARNING: not removing hydrogen atom with dummy atom neighbors\n",
      "[11:31:04] WARNING: not removing hydrogen atom with dummy atom neighbors\n",
      "[11:31:04] WARNING: not removing hydrogen atom with dummy atom neighbors\n",
      "[11:31:04] WARNING: not removing hydrogen atom with dummy atom neighbors\n",
      "[11:31:04] WARNING: not removing hydrogen atom with dummy atom neighbors\n",
      "[11:31:04] WARNING: not removing hydrogen atom with dummy atom neighbors\n",
      "[11:31:04] WARNING: not removing hydrogen atom with dummy atom neighbors\n",
      "[11:31:04] WARNING: not removing hydrogen atom with dummy atom neighbors\n",
      "[11:31:04] WARNING: not removing hydrogen atom with dummy atom neighbors\n",
      "[11:31:04] WARNING: not removing hydrogen atom with dummy atom neighbors\n",
      "[11:31:04] WARNING: not removing hydrogen atom with dummy atom neighbors\n",
      "[11:31:04] WARNING: not removing hydrogen atom with dummy atom neighbors\n",
      "[11:31:04] WARNING: not removing hydrogen atom with dummy atom neighbors\n",
      "[11:31:04] WARNING: not removing hydrogen atom with dummy atom neighbors\n",
      "[11:31:04] WARNING: not removing hydrogen atom with dummy atom neighbors\n",
      "[11:31:04] WARNING: not removing hydrogen atom with dummy atom neighbors\n",
      "[11:31:04] WARNING: not removing hydrogen atom with dummy atom neighbors\n",
      "[11:31:04] WARNING: not removing hydrogen atom with dummy atom neighbors\n",
      "[11:31:04] WARNING: not removing hydrogen atom with dummy atom neighbors\n",
      "[11:31:04] WARNING: not removing hydrogen atom with dummy atom neighbors\n",
      "[11:31:04] WARNING: not removing hydrogen atom with dummy atom neighbors\n",
      "[11:31:04] WARNING: not removing hydrogen atom with dummy atom neighbors\n",
      "[11:31:04] WARNING: not removing hydrogen atom with dummy atom neighbors\n",
      "[11:31:04] WARNING: not removing hydrogen atom with dummy atom neighbors\n",
      "[11:31:04] WARNING: not removing hydrogen atom with dummy atom neighbors\n",
      "[11:31:04] WARNING: not removing hydrogen atom with dummy atom neighbors\n",
      "[11:31:04] WARNING: not removing hydrogen atom with dummy atom neighbors\n",
      "[11:31:04] WARNING: not removing hydrogen atom with dummy atom neighbors\n",
      "[11:31:04] WARNING: not removing hydrogen atom with dummy atom neighbors\n",
      "[11:31:04] WARNING: not removing hydrogen atom with dummy atom neighbors\n",
      "[11:31:04] WARNING: not removing hydrogen atom with dummy atom neighbors\n",
      "[11:31:04] WARNING: not removing hydrogen atom with dummy atom neighbors\n",
      "[11:31:04] WARNING: not removing hydrogen atom with dummy atom neighbors\n",
      "[11:31:04] WARNING: not removing hydrogen atom with dummy atom neighbors\n",
      "[11:31:04] WARNING: not removing hydrogen atom with dummy atom neighbors\n",
      "[11:31:04] WARNING: not removing hydrogen atom with dummy atom neighbors\n",
      "[11:31:05] WARNING: not removing hydrogen atom with dummy atom neighbors\n",
      "[11:31:05] WARNING: not removing hydrogen atom with dummy atom neighbors\n",
      "[11:31:05] WARNING: not removing hydrogen atom with dummy atom neighbors\n",
      "[11:31:05] WARNING: not removing hydrogen atom with dummy atom neighbors\n",
      "[11:31:05] WARNING: not removing hydrogen atom with dummy atom neighbors\n",
      "[11:31:05] WARNING: not removing hydrogen atom with dummy atom neighbors\n",
      "[11:31:05] WARNING: not removing hydrogen atom with dummy atom neighbors\n",
      "[11:31:05] WARNING: not removing hydrogen atom with dummy atom neighbors\n",
      "[11:31:05] WARNING: not removing hydrogen atom with dummy atom neighbors\n",
      "[11:31:05] WARNING: not removing hydrogen atom with dummy atom neighbors\n",
      "[11:31:05] WARNING: not removing hydrogen atom with dummy atom neighbors\n",
      "[11:31:05] WARNING: not removing hydrogen atom with dummy atom neighbors\n",
      "[11:31:05] WARNING: not removing hydrogen atom with dummy atom neighbors\n",
      "[11:31:05] WARNING: not removing hydrogen atom with dummy atom neighbors\n",
      "[11:31:05] WARNING: not removing hydrogen atom with dummy atom neighbors\n",
      "[11:31:05] WARNING: not removing hydrogen atom with dummy atom neighbors\n",
      "[11:31:05] WARNING: not removing hydrogen atom with dummy atom neighbors\n",
      "[11:31:05] WARNING: not removing hydrogen atom with dummy atom neighbors\n",
      "[11:31:05] WARNING: not removing hydrogen atom with dummy atom neighbors\n",
      "[11:31:05] WARNING: not removing hydrogen atom with dummy atom neighbors\n",
      "[11:31:05] WARNING: not removing hydrogen atom with dummy atom neighbors\n",
      "[11:31:05] WARNING: not removing hydrogen atom with dummy atom neighbors\n",
      "[11:31:05] WARNING: not removing hydrogen atom with dummy atom neighbors\n",
      "[11:31:05] WARNING: not removing hydrogen atom with dummy atom neighbors\n",
      "[11:31:05] WARNING: not removing hydrogen atom with dummy atom neighbors\n",
      "[11:31:05] WARNING: not removing hydrogen atom with dummy atom neighbors\n",
      "[11:31:05] WARNING: not removing hydrogen atom with dummy atom neighbors\n",
      "[11:31:05] WARNING: not removing hydrogen atom with dummy atom neighbors\n",
      "[11:31:05] WARNING: not removing hydrogen atom with dummy atom neighbors\n",
      "[11:31:05] WARNING: not removing hydrogen atom with dummy atom neighbors\n",
      "[11:31:05] WARNING: not removing hydrogen atom with dummy atom neighbors\n",
      "[11:31:05] WARNING: not removing hydrogen atom with dummy atom neighbors\n",
      "[11:31:05] Can't kekulize mol.  Unkekulized atoms: 1 5 9 10\n",
      "[11:31:05] Can't kekulize mol.  Unkekulized atoms: 1 5 9 10\n",
      "[11:31:05] WARNING: not removing hydrogen atom with dummy atom neighbors\n",
      "[11:31:05] WARNING: not removing hydrogen atom with dummy atom neighbors\n",
      "[11:31:05] WARNING: not removing hydrogen atom with dummy atom neighbors\n",
      "[11:31:05] WARNING: not removing hydrogen atom with dummy atom neighbors\n",
      "[11:31:05] WARNING: not removing hydrogen atom with dummy atom neighbors\n",
      "[11:31:05] WARNING: not removing hydrogen atom with dummy atom neighbors\n",
      "[11:31:05] WARNING: not removing hydrogen atom with dummy atom neighbors\n",
      "[11:31:05] WARNING: not removing hydrogen atom with dummy atom neighbors\n",
      "[11:31:05] WARNING: not removing hydrogen atom with dummy atom neighbors\n",
      "[11:31:05] WARNING: not removing hydrogen atom with dummy atom neighbors\n",
      "[11:31:05] WARNING: not removing hydrogen atom with dummy atom neighbors\n",
      "[11:31:05] WARNING: not removing hydrogen atom with dummy atom neighbors\n",
      "[11:31:05] WARNING: not removing hydrogen atom with dummy atom neighbors\n",
      "[11:31:05] WARNING: not removing hydrogen atom with dummy atom neighbors\n",
      "[11:31:05] WARNING: not removing hydrogen atom with dummy atom neighbors\n",
      "[11:31:05] WARNING: not removing hydrogen atom with dummy atom neighbors\n",
      "[11:31:05] Can't kekulize mol.  Unkekulized atoms: 2 4 5 11\n",
      "[11:31:05] Can't kekulize mol.  Unkekulized atoms: 2 4 5 11\n",
      "[11:31:05] Can't kekulize mol.  Unkekulized atoms: 2 4 5 11\n",
      "[11:31:05] Can't kekulize mol.  Unkekulized atoms: 2 4 5 11\n",
      "[11:31:05] WARNING: not removing hydrogen atom with dummy atom neighbors\n",
      "[11:31:05] WARNING: not removing hydrogen atom with dummy atom neighbors\n",
      "[11:31:05] WARNING: not removing hydrogen atom with dummy atom neighbors\n",
      "[11:31:05] WARNING: not removing hydrogen atom with dummy atom neighbors\n",
      "[11:31:05] WARNING: not removing hydrogen atom with dummy atom neighbors\n",
      "[11:31:05] WARNING: not removing hydrogen atom with dummy atom neighbors\n",
      "[11:31:05] WARNING: not removing hydrogen atom with dummy atom neighbors\n",
      "[11:31:05] WARNING: not removing hydrogen atom with dummy atom neighbors\n",
      "[11:31:05] WARNING: not removing hydrogen atom with dummy atom neighbors\n",
      "[11:31:05] WARNING: not removing hydrogen atom with dummy atom neighbors\n",
      "[11:31:05] WARNING: not removing hydrogen atom with dummy atom neighbors\n",
      "[11:31:05] WARNING: not removing hydrogen atom with dummy atom neighbors\n"
     ]
    }
   ],
   "source": [
    "# Attempt to run SanitizeMol on all the substrates\n",
    "# as G. Landrum recommended prior to getting reacting atoms\n",
    "bad_rxns_subs = defaultdict(list)\n",
    "for k,v in known_rxns.items():\n",
    "    smarts = v['smarts']\n",
    "    subs = smarts.split('>>')[0].split('.') + smarts.split('>>')[1].split('.')\n",
    "    subs = list(set(subs))\n",
    "\n",
    "    for sub in subs:\n",
    "        try:\n",
    "            Chem.SanitizeMol(Chem.MolFromSmiles(sub))\n",
    "        except:\n",
    "            bad_rxns_subs[k].append(sub)\n",
    "    "
   ]
  },
  {
   "cell_type": "code",
   "execution_count": null,
   "metadata": {},
   "outputs": [
    {
     "data": {
      "text/plain": [
       "9"
      ]
     },
     "execution_count": 31,
     "metadata": {},
     "output_type": "execute_result"
    }
   ],
   "source": [
    "bad_subs = set()\n",
    "for v in bad_rxns_subs.values():\n",
    "    for elt in v:\n",
    "        bad_subs.add(elt)\n",
    "len(bad_subs)"
   ]
  },
  {
   "cell_type": "code",
   "execution_count": null,
   "metadata": {},
   "outputs": [
    {
     "data": {
      "text/plain": [
       "{'C=CC1=C(C)C2=CC3=C(C(O)CCC=C(C)CCC=C(C)CCC=C(C)C)C(C)=C4C=C5C(C=O)=C(CCC(=O)O)C6=N5[Fe]5(N7C(=CC1=N25)C(C)=C(CCC(=O)O)C7=C6)N43',\n",
       " 'Cn1c[nH]c2nc(=O)[nH]c(=O)c21',\n",
       " 'NCc1cnc2[nH]c(N)[nH]c(=O)c12',\n",
       " 'Nc1[nH]c(=O)c2[nH]c(=O)nc2[nH]1',\n",
       " 'Nc1[nH]c(=O)c2c(C(=O)O)cnc2[nH]1',\n",
       " 'Nc1[nH]c(=O)c2c(CNC3C=CC(O)C3O)cnc2[nH]1',\n",
       " 'Nc1[nH]c(=O)c2ncnc2[nH]1',\n",
       " 'Nc1[nH]c(=S)c2ncnc2[nH]1',\n",
       " 'Nc1ncnc2c1ncn2C1OC(COP(=O)(O)OP(=O)(O)OCC2OC(Nc3[nH]c(=O)c4ncnc4[nH]3)C(O)C2O)C(O)C1O'}"
      ]
     },
     "execution_count": 32,
     "metadata": {},
     "output_type": "execute_result"
    }
   ],
   "source": [
    "bad_subs"
   ]
  },
  {
   "cell_type": "code",
   "execution_count": null,
   "metadata": {},
   "outputs": [
    {
     "name": "stderr",
     "output_type": "stream",
     "text": [
      "[11:39:04] Can't kekulize mol.  Unkekulized atoms: 1 5 6 7 8 9\n",
      "[11:39:04] Can't kekulize mol.  Unkekulized atoms: 1 5 9 10\n",
      "[11:39:04] Can't kekulize mol.  Unkekulized atoms: 2 3 4 5 7 12\n",
      "[11:39:04] Can't kekulize mol.  Unkekulized atoms: 2 4 5 11\n",
      "[11:39:04] Can't kekulize mol.  Unkekulized atoms: 1 5 6 10 11 12\n",
      "[11:39:04] Can't kekulize mol.  Unkekulized atoms: 28 32 33 34 35 36\n",
      "[11:39:04] Explicit valence for atom # 42 N, 4, is greater than permitted\n",
      "[11:39:04] Can't kekulize mol.  Unkekulized atoms: 1 5 6 16 17 18\n",
      "[11:39:04] Can't kekulize mol.  Unkekulized atoms: 1 5 6 7 8 9\n"
     ]
    }
   ],
   "source": [
    "from ipywidgets import interact,fixed\n",
    "from rdkit.Chem.Draw import rdMolDraw2D\n",
    "from IPython.display import SVG\n",
    "\n",
    "cms = [Chem.MolFromSmiles(smi) for smi in bad_subs]\n",
    "\n",
    "@interact(idx=range(0,len(cms)),ms=fixed(cms))\n",
    "def show_mol(idx,ms):\n",
    "    d2d = rdMolDraw2D.MolDraw2DSVG(450,400)\n",
    "    d2d.drawOptions().prepareMolsBeforeDrawing=False\n",
    "    d2d.DrawMolecule(ms[idx])\n",
    "    d2d.FinishDrawing()\n",
    "    return SVG(d2d.GetDrawingText())"
   ]
  },
  {
   "cell_type": "code",
   "execution_count": null,
   "metadata": {},
   "outputs": [
    {
     "data": {
      "image/png": "[encoded data removed]",
      "text/plain": [
       "<rdkit.Chem.rdchem.Mol at 0x7f434d0077b0>"
      ]
     },
     "execution_count": 36,
     "metadata": {},
     "output_type": "execute_result"
    }
   ],
   "source": [
    "Chem.MolFromSmiles('Nc1[nH]c(=O)c2ncnc2[nH]1', sanitize=False)"
   ]
  }
 ],
 "metadata": {
  "kernelspec": {
   "display_name": "mine",
   "language": "python",
   "name": "python3"
  },
  "language_info": {
   "codemirror_mode": {
    "name": "ipython",
    "version": 3
   },
   "file_extension": ".py",
   "mimetype": "text/x-python",
   "name": "python",
   "nbconvert_exporter": "python",
   "pygments_lexer": "ipython3",
   "version": "3.7.12"
  }
 },
 "nbformat": 4,
 "nbformat_minor": 2
}
