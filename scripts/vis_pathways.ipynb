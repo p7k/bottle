{
 "cells": [
  {
   "cell_type": "code",
   "execution_count": 1,
   "metadata": {},
   "outputs": [],
   "source": [
    "%load_ext autoreload\n",
    "%autoreload 2\n",
    "from src.chem_draw import draw_rxn_svg, draw_pwy_svg\n",
    "from src.utils import sort_x_by_y, ensure_dirs\n",
    "from svgutils import compose as sc\n",
    "import pickle\n",
    "import numpy as np\n",
    "import matplotlib.pyplot as plt\n",
    "import os\n",
    "import subprocess"
   ]
  },
  {
   "cell_type": "code",
   "execution_count": 2,
   "metadata": {},
   "outputs": [],
   "source": [
    "# Params\n",
    "expansion_dir = '../data/processed_expansions/'\n",
    "fn = \"ccm_v0_to_mvacid_gen_4_tan_sample_1_n_samples_1000.pk\" # Expansion file name\n",
    "rxns_path = expansion_dir + 'predicted_reactions_' + fn\n",
    "paths_path = expansion_dir + 'paths_' + fn"
   ]
  },
  {
   "cell_type": "code",
   "execution_count": 3,
   "metadata": {},
   "outputs": [],
   "source": [
    "# Load reactions and paths\n",
    "with open(rxns_path, 'rb') as f:\n",
    "    pred_rxns = pickle.load(f)\n",
    "\n",
    "with open(paths_path, 'rb') as f:\n",
    "    paths = pickle.load(f)"
   ]
  },
  {
   "cell_type": "code",
   "execution_count": 4,
   "metadata": {},
   "outputs": [
    {
     "name": "stdout",
     "output_type": "stream",
     "text": [
      "('fumarate', 'mvacid') : 0.7432675044883303 557\n",
      "('succinate', 'mvacid') : 0.7058823529411765 17\n",
      "('pyruvate', 'mvacid') : 1.0 3\n",
      "('acetate', 'mvacid') : 1.0 2\n"
     ]
    }
   ],
   "source": [
    "# Count how many pathways have full info\n",
    "\n",
    "for k,v in paths.items():\n",
    "    n_paths_w_full_info = 0\n",
    "    for p in v:\n",
    "        path_full_info = []\n",
    "        for rh in p.rhashes:\n",
    "            full_info = False\n",
    "            for elt in pred_rxns[rh].known_rxns:\n",
    "                if elt[0] is not None:\n",
    "                    full_info = True\n",
    "                    break\n",
    "\n",
    "            path_full_info.append(full_info)\n",
    "        \n",
    "        if all(path_full_info):\n",
    "            n_paths_w_full_info += 1\n",
    "\n",
    "    print(k, \":\", n_paths_w_full_info / len(v), len(v))\n"
   ]
  },
  {
   "cell_type": "code",
   "execution_count": 5,
   "metadata": {},
   "outputs": [],
   "source": [
    "# Sort known reactions by average (could alter the sort by value)\n",
    "for k in pred_rxns.keys():\n",
    "    pred_rxns[k].sort_known_rxns()"
   ]
  },
  {
   "cell_type": "code",
   "execution_count": 6,
   "metadata": {},
   "outputs": [],
   "source": [
    "# Set prc mcs attribute for each path by averaging over \n",
    "# known reactions\n",
    "for st_pair in paths:\n",
    "    for p in paths[st_pair]:\n",
    "        p.compute_mean_prc_mcs(pred_rxns)"
   ]
  },
  {
   "cell_type": "code",
   "execution_count": 7,
   "metadata": {},
   "outputs": [],
   "source": [
    "# # Sort paths by min reaction prc mcs\n",
    "# min_prc_mcs = []\n",
    "# for p in paths:\n",
    "#     min_prc_mcs.append(p.min_mcs())\n",
    "\n",
    "# min_sorted_idxs = np.arange(len(paths))\n",
    "\n",
    "# min_sorted_idxs, min_prc_mcs = sort_x_by_y(min_sorted_idxs, min_prc_mcs, reverse=True)\n",
    "\n",
    "# plt.hist(min_prc_mcs)\n",
    "# plt.show()"
   ]
  },
  {
   "cell_type": "code",
   "execution_count": 8,
   "metadata": {},
   "outputs": [],
   "source": [
    "# # Sort paths by min reaction prc mcs\n",
    "# mean_prc_mcs = []\n",
    "# for p in paths:\n",
    "#     mean_prc_mcs.append(p.mean_mcs())\n",
    "\n",
    "# mean_sorted_idxs = np.arange(len(paths))\n",
    "\n",
    "# mean_sorted_idxs, mean_prc_mcs = sort_x_by_y(mean_sorted_idxs, mean_prc_mcs, reverse=True)\n",
    "\n",
    "# plt.hist(mean_prc_mcs)\n",
    "# plt.show()"
   ]
  },
  {
   "cell_type": "code",
   "execution_count": 10,
   "metadata": {},
   "outputs": [
    {
     "data": {
      "image/png": "[encoded data removed]",
      "text/plain": [
       "<Figure size 640x480 with 1 Axes>"
      ]
     },
     "metadata": {},
     "output_type": "display_data"
    }
   ],
   "source": [
    "# First sort by min prc_mcs and threshold and then sort by mean prc_mcs\n",
    "\n",
    "min_thresh = 0.05\n",
    "st_pair = ('fumarate', 'mvacid')\n",
    "\n",
    "# Get min prc_mcs\n",
    "min_prc_mcs = []\n",
    "for p in paths[st_pair]:\n",
    "    min_prc_mcs.append(p.min_mcs())\n",
    "\n",
    "# Sort indices by min prc_mcs\n",
    "min_sorted_idxs = np.arange(len(paths[st_pair]))\n",
    "min_sorted_idxs, min_prc_mcs = sort_x_by_y(min_sorted_idxs, min_prc_mcs, reverse=True)\n",
    "\n",
    "# Remove zero mins\n",
    "min_sorted_idxs, min_prc_mcs = np.array(min_sorted_idxs), np.array(min_prc_mcs)\n",
    "min_sorted_idxs = min_sorted_idxs[min_sorted_idxs > min_thresh]\n",
    "\n",
    "# Get mean prc_mcs of non-zero min paths\n",
    "mean_prc_mcs = []\n",
    "for idx in min_sorted_idxs:\n",
    "    mean_prc_mcs.append(paths[st_pair][idx].mean_mcs())\n",
    "\n",
    "min_mean_sorted_idxs, mean_prc_mcs = sort_x_by_y(min_sorted_idxs, mean_prc_mcs, reverse=True)\n",
    "\n",
    "plt.hist(mean_prc_mcs)\n",
    "plt.show()"
   ]
  },
  {
   "cell_type": "code",
   "execution_count": 11,
   "metadata": {},
   "outputs": [
    {
     "data": {
      "image/png": "[encoded data removed]",
      "text/plain": [
       "<Figure size 640x480 with 1 Axes>"
      ]
     },
     "metadata": {},
     "output_type": "display_data"
    }
   ],
   "source": [
    "plt.plot(mean_prc_mcs)\n",
    "plt.show()"
   ]
  },
  {
   "cell_type": "code",
   "execution_count": 15,
   "metadata": {},
   "outputs": [
    {
     "ename": "FileNotFoundError",
     "evalue": "[Errno 2] No such file or directory: './../artifacts/mol_svgs/double_border.svg'",
     "output_type": "error",
     "traceback": [
      "\u001b[0;31m---------------------------------------------------------------------------\u001b[0m",
      "\u001b[0;31mFileNotFoundError\u001b[0m                         Traceback (most recent call last)",
      "\u001b[0;32m/tmp/ipykernel_37199/1817334671.py\u001b[0m in \u001b[0;36m<module>\u001b[0;34m\u001b[0m\n\u001b[1;32m     14\u001b[0m \u001b[0;34m\u001b[0m\u001b[0m\n\u001b[1;32m     15\u001b[0m     \u001b[0moutpath\u001b[0m \u001b[0;34m=\u001b[0m \u001b[0mpwy_svg_outdir\u001b[0m \u001b[0;34m+\u001b[0m \u001b[0;34mf\"{i:03}_{pwy_idx}.svg\"\u001b[0m\u001b[0;34m\u001b[0m\u001b[0;34m\u001b[0m\u001b[0m\n\u001b[0;32m---> 16\u001b[0;31m     \u001b[0mdraw_pwy_svg\u001b[0m\u001b[0;34m(\u001b[0m\u001b[0msma_hash_pairs\u001b[0m\u001b[0;34m,\u001b[0m \u001b[0moutpath\u001b[0m\u001b[0;34m)\u001b[0m\u001b[0;34m\u001b[0m\u001b[0;34m\u001b[0m\u001b[0m\n\u001b[0m",
      "\u001b[0;32m~/Tb/bottle/src/chem_draw.py\u001b[0m in \u001b[0;36mdraw_pwy_svg\u001b[0;34m(sma_hash_pairs, pwy_fn)\u001b[0m\n\u001b[1;32m     28\u001b[0m             \u001b[0melements\u001b[0m\u001b[0;34m.\u001b[0m\u001b[0mappend\u001b[0m\u001b[0;34m(\u001b[0m\u001b[0msc\u001b[0m\u001b[0;34m.\u001b[0m\u001b[0mSVG\u001b[0m\u001b[0;34m(\u001b[0m\u001b[0mhalf\u001b[0m\u001b[0;34m)\u001b[0m\u001b[0;34m.\u001b[0m\u001b[0mmove\u001b[0m\u001b[0;34m(\u001b[0m\u001b[0mpred_delta\u001b[0m \u001b[0;34m+\u001b[0m \u001b[0mj\u001b[0m \u001b[0;34m*\u001b[0m \u001b[0;34m(\u001b[0m\u001b[0mmax_pred_width\u001b[0m \u001b[0;34m+\u001b[0m \u001b[0;36m40\u001b[0m \u001b[0;34m-\u001b[0m \u001b[0mpred_delta\u001b[0m\u001b[0;34m)\u001b[0m\u001b[0;34m,\u001b[0m \u001b[0;36m200\u001b[0m \u001b[0;34m*\u001b[0m \u001b[0mi\u001b[0m\u001b[0;34m)\u001b[0m\u001b[0;34m)\u001b[0m\u001b[0;34m\u001b[0m\u001b[0;34m\u001b[0m\u001b[0m\n\u001b[1;32m     29\u001b[0m \u001b[0;34m\u001b[0m\u001b[0m\n\u001b[0;32m---> 30\u001b[0;31m         \u001b[0melements\u001b[0m\u001b[0;34m.\u001b[0m\u001b[0mappend\u001b[0m\u001b[0;34m(\u001b[0m\u001b[0msc\u001b[0m\u001b[0;34m.\u001b[0m\u001b[0mSVG\u001b[0m\u001b[0;34m(\u001b[0m\u001b[0;34m'../artifacts/mol_svgs/double_border.svg'\u001b[0m\u001b[0;34m)\u001b[0m\u001b[0;34m.\u001b[0m\u001b[0mmove\u001b[0m\u001b[0;34m(\u001b[0m\u001b[0mmax_pred_width\u001b[0m\u001b[0;34m,\u001b[0m \u001b[0;36m200\u001b[0m \u001b[0;34m*\u001b[0m \u001b[0mi\u001b[0m\u001b[0;34m)\u001b[0m\u001b[0;34m)\u001b[0m\u001b[0;34m\u001b[0m\u001b[0;34m\u001b[0m\u001b[0m\n\u001b[0m\u001b[1;32m     31\u001b[0m \u001b[0;34m\u001b[0m\u001b[0m\n\u001b[1;32m     32\u001b[0m \u001b[0;34m\u001b[0m\u001b[0m\n",
      "\u001b[0;32m~/.local/lib/python3.7/site-packages/svgutils/compose.py\u001b[0m in \u001b[0;36m__init__\u001b[0;34m(self, fname, fix_mpl)\u001b[0m\n\u001b[1;32m    113\u001b[0m         \u001b[0;32mif\u001b[0m \u001b[0mfname\u001b[0m\u001b[0;34m:\u001b[0m\u001b[0;34m\u001b[0m\u001b[0;34m\u001b[0m\u001b[0m\n\u001b[1;32m    114\u001b[0m             \u001b[0mfname\u001b[0m \u001b[0;34m=\u001b[0m \u001b[0mos\u001b[0m\u001b[0;34m.\u001b[0m\u001b[0mpath\u001b[0m\u001b[0;34m.\u001b[0m\u001b[0mjoin\u001b[0m\u001b[0;34m(\u001b[0m\u001b[0mCONFIG\u001b[0m\u001b[0;34m[\u001b[0m\u001b[0;34m\"svg.file_path\"\u001b[0m\u001b[0;34m]\u001b[0m\u001b[0;34m,\u001b[0m \u001b[0mfname\u001b[0m\u001b[0;34m)\u001b[0m\u001b[0;34m\u001b[0m\u001b[0;34m\u001b[0m\u001b[0m\n\u001b[0;32m--> 115\u001b[0;31m             \u001b[0msvg\u001b[0m \u001b[0;34m=\u001b[0m \u001b[0m_transform\u001b[0m\u001b[0;34m.\u001b[0m\u001b[0mfromfile\u001b[0m\u001b[0;34m(\u001b[0m\u001b[0mfname\u001b[0m\u001b[0;34m)\u001b[0m\u001b[0;34m\u001b[0m\u001b[0;34m\u001b[0m\u001b[0m\n\u001b[0m\u001b[1;32m    116\u001b[0m             \u001b[0;32mif\u001b[0m \u001b[0mfix_mpl\u001b[0m\u001b[0;34m:\u001b[0m\u001b[0;34m\u001b[0m\u001b[0;34m\u001b[0m\u001b[0m\n\u001b[1;32m    117\u001b[0m                 \u001b[0mw\u001b[0m\u001b[0;34m,\u001b[0m \u001b[0mh\u001b[0m \u001b[0;34m=\u001b[0m \u001b[0msvg\u001b[0m\u001b[0;34m.\u001b[0m\u001b[0mget_size\u001b[0m\u001b[0;34m(\u001b[0m\u001b[0;34m)\u001b[0m\u001b[0;34m\u001b[0m\u001b[0;34m\u001b[0m\u001b[0m\n",
      "\u001b[0;32m~/.local/lib/python3.7/site-packages/svgutils/transform.py\u001b[0m in \u001b[0;36mfromfile\u001b[0;34m(fname)\u001b[0m\n\u001b[1;32m    351\u001b[0m     \"\"\"\n\u001b[1;32m    352\u001b[0m     \u001b[0mfig\u001b[0m \u001b[0;34m=\u001b[0m \u001b[0mSVGFigure\u001b[0m\u001b[0;34m(\u001b[0m\u001b[0;34m)\u001b[0m\u001b[0;34m\u001b[0m\u001b[0;34m\u001b[0m\u001b[0m\n\u001b[0;32m--> 353\u001b[0;31m     \u001b[0;32mwith\u001b[0m \u001b[0mopen\u001b[0m\u001b[0;34m(\u001b[0m\u001b[0mfname\u001b[0m\u001b[0;34m)\u001b[0m \u001b[0;32mas\u001b[0m \u001b[0mfid\u001b[0m\u001b[0;34m:\u001b[0m\u001b[0;34m\u001b[0m\u001b[0;34m\u001b[0m\u001b[0m\n\u001b[0m\u001b[1;32m    354\u001b[0m         \u001b[0msvg_file\u001b[0m \u001b[0;34m=\u001b[0m \u001b[0metree\u001b[0m\u001b[0;34m.\u001b[0m\u001b[0mparse\u001b[0m\u001b[0;34m(\u001b[0m\u001b[0mfid\u001b[0m\u001b[0;34m,\u001b[0m \u001b[0mparser\u001b[0m\u001b[0;34m=\u001b[0m\u001b[0metree\u001b[0m\u001b[0;34m.\u001b[0m\u001b[0mXMLParser\u001b[0m\u001b[0;34m(\u001b[0m\u001b[0mhuge_tree\u001b[0m\u001b[0;34m=\u001b[0m\u001b[0;32mTrue\u001b[0m\u001b[0;34m)\u001b[0m\u001b[0;34m)\u001b[0m\u001b[0;34m\u001b[0m\u001b[0;34m\u001b[0m\u001b[0m\n\u001b[1;32m    355\u001b[0m \u001b[0;34m\u001b[0m\u001b[0m\n",
      "\u001b[0;31mFileNotFoundError\u001b[0m: [Errno 2] No such file or directory: './../artifacts/mol_svgs/double_border.svg'"
     ]
    }
   ],
   "source": [
    "# Generate pwy svgs\n",
    "\n",
    "n_pwys = 20\n",
    "pwy_svg_outdir = f\"../artifacts/pwy_svgs/{fn[:-3]}/{'_'.join(st_pair)}/\"\n",
    "ensure_dirs(pwy_svg_outdir)\n",
    "\n",
    "for i in range(n_pwys):\n",
    "    pwy_idx = min_mean_sorted_idxs[i]\n",
    "    sma_hash_pairs = []\n",
    "    this_rhashes = paths[st_pair][pwy_idx].rhashes\n",
    "    for this_rhash in this_rhashes:\n",
    "        this_rxn = pred_rxns[this_rhash]\n",
    "        sma_hash_pairs.append([(this_rxn.smarts, this_rhash), (this_rxn.known_rxns[0][1], hash(this_rxn.known_rxns[0][1]))])\n",
    "\n",
    "    outpath = pwy_svg_outdir + f\"{i:03}_{pwy_idx}.svg\"\n",
    "    draw_pwy_svg(sma_hash_pairs, outpath)"
   ]
  },
  {
   "cell_type": "code",
   "execution_count": 13,
   "metadata": {},
   "outputs": [],
   "source": [
    "# Convert svgs to pdfs\n",
    "\n",
    "tmp_pdf_outdir = f\"../artifacts/tmp_pdfs/{fn[:-3]}/{'_'.join(st_pair)}/\"\n",
    "ensure_dirs(tmp_pdf_outdir)\n",
    "for elt in os.listdir(pwy_svg_outdir):\n",
    "    cmd = [\"inkscape\", f\"--export-pdf={tmp_pdf_outdir}{elt[:-3]}pdf\", f\"{pwy_svg_outdir}{elt}\"]\n",
    "    subprocess.run(cmd)"
   ]
  },
  {
   "cell_type": "code",
   "execution_count": 14,
   "metadata": {},
   "outputs": [
    {
     "name": "stderr",
     "output_type": "stream",
     "text": [
      "pdfunite version 0.86.1\n",
      "Copyright 2005-2020 The Poppler Developers - http://poppler.freedesktop.org\n",
      "Copyright 1996-2011 Glyph & Cog, LLC\n",
      "Usage: pdfunite [options] <PDF-sourcefile-1>..<PDF-sourcefile-n> <PDF-destfile>\n",
      "  -v             : print copyright and version info\n",
      "  -h             : print usage information\n",
      "  -help          : print usage information\n",
      "  --help         : print usage information\n",
      "  -?             : print usage information\n"
     ]
    },
    {
     "data": {
      "text/plain": [
       "CompletedProcess(args=['pdfunite', '../artifacts/pwy_pdfs/ccm_v0_to_mvacid_gen_4_tan_sample_1_n_samples_1000/fumarate_mvacid.pdf'], returncode=99)"
      ]
     },
     "execution_count": 14,
     "metadata": {},
     "output_type": "execute_result"
    }
   ],
   "source": [
    "# Concatenate pdfs\n",
    "pwy_pdf_outdir = f\"../artifacts/pwy_pdfs/{fn[:-3]}/\"\n",
    "ensure_dirs(pwy_pdf_outdir)\n",
    "cat_pdf_fn = pwy_pdf_outdir + '_'.join(st_pair) + '.pdf'\n",
    "individual_pwys = sorted(list(os.listdir(tmp_pdf_outdir)))\n",
    "individual_pwys = [tmp_pdf_outdir + elt for elt in individual_pwys]\n",
    "if cat_pdf_fn in individual_pwys:\n",
    "    individual_pwys.remove(cat_pdf_fn)\n",
    "cmd = [\"pdfunite\", *individual_pwys, cat_pdf_fn]\n",
    "subprocess.run(cmd)"
   ]
  },
  {
   "cell_type": "code",
   "execution_count": null,
   "metadata": {},
   "outputs": [],
   "source": []
  }
 ],
 "metadata": {
  "kernelspec": {
   "display_name": "mine",
   "language": "python",
   "name": "python3"
  },
  "language_info": {
   "codemirror_mode": {
    "name": "ipython",
    "version": 3
   },
   "file_extension": ".py",
   "mimetype": "text/x-python",
   "name": "python",
   "nbconvert_exporter": "python",
   "pygments_lexer": "ipython3",
   "version": "3.7.12"
  }
 },
 "nbformat": 4,
 "nbformat_minor": 2
}
