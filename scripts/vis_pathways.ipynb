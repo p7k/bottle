{
 "cells": [
  {
   "cell_type": "code",
   "execution_count": 23,
   "metadata": {},
   "outputs": [
    {
     "name": "stdout",
     "output_type": "stream",
     "text": [
      "The autoreload extension is already loaded. To reload it, use:\n",
      "  %reload_ext autoreload\n"
     ]
    }
   ],
   "source": [
    "%load_ext autoreload\n",
    "%autoreload 2\n",
    "from src.chem_draw import draw_pwy_svg\n",
    "from src.utils import ensure_dirs\n",
    "from svgutils import compose as sc\n",
    "import pickle\n",
    "import numpy as np\n",
    "import subprocess\n",
    "import pandas as pd"
   ]
  },
  {
   "cell_type": "code",
   "execution_count": 24,
   "metadata": {},
   "outputs": [],
   "source": [
    "# Params\n",
    "starters = '2mg'\n",
    "targets = 'mvacid'\n",
    "generations = 2\n",
    "\n",
    "expansion_dir = '../data/processed_expansions/'\n",
    "fn = f\"{starters}_to_{targets}_gen_{generations}_tan_sample_1_n_samples_1000.pkl\" # Expansion file name\n",
    "\n",
    "# Load processed expansions\n",
    "with open(expansion_dir + fn, 'rb') as f:\n",
    "    pe = pickle.load(f)\n"
   ]
  },
  {
   "cell_type": "code",
   "execution_count": 25,
   "metadata": {},
   "outputs": [
    {
     "name": "stdout",
     "output_type": "stream",
     "text": [
      "{('2mg', 'mvacid')}\n"
     ]
    }
   ],
   "source": [
    "print(pe.starter_target_pairs)"
   ]
  },
  {
   "cell_type": "code",
   "execution_count": 26,
   "metadata": {},
   "outputs": [],
   "source": [
    "starter = '2mg'\n",
    "target = 'mvacid'\n",
    "sort_by = ['prc_mcs']\n",
    "filter_by = {'mdf':0, 'enzyme_validation':1.0}\n",
    "\n",
    "paths = pe.get_paths_w_st(starter=starter,\n",
    "                  target=target,\n",
    "                  sort_by=sort_by,\n",
    "                  filter_by=filter_by\n",
    "                  )"
   ]
  },
  {
   "cell_type": "code",
   "execution_count": 22,
   "metadata": {},
   "outputs": [
    {
     "data": {
      "text/plain": [
       "[<src.post_processing.Path at 0x7f6c0398e550>,\n",
       " <src.post_processing.Path at 0x7f6c0398e690>,\n",
       " <src.post_processing.Path at 0x7f6c0398e190>,\n",
       " <src.post_processing.Path at 0x7f6c0398e890>,\n",
       " <src.post_processing.Path at 0x7f6c0398e7d0>]"
      ]
     },
     "execution_count": 22,
     "metadata": {},
     "output_type": "execute_result"
    }
   ],
   "source": [
    "paths"
   ]
  },
  {
   "cell_type": "code",
   "execution_count": 31,
   "metadata": {},
   "outputs": [
    {
     "name": "stdout",
     "output_type": "stream",
     "text": [
      "Generating svgs & csv\n",
      "Generating pdfs\n"
     ]
    },
    {
     "name": "stderr",
     "output_type": "stream",
     "text": [
      "Warning: Option --export-pdf= is deprecated\n",
      "Failed to get connection\n",
      "** (org.inkscape.Inkscape:220291): CRITICAL **: 18:12:14.027: dbus_g_proxy_new_for_name: assertion 'connection != NULL' failed\n",
      "\n",
      "** (org.inkscape.Inkscape:220291): CRITICAL **: 18:12:14.027: dbus_g_proxy_call: assertion 'DBUS_IS_G_PROXY (proxy)' failed\n",
      "\n",
      "** (org.inkscape.Inkscape:220291): CRITICAL **: 18:12:14.027: dbus_g_connection_register_g_object: assertion 'connection != NULL' failed\n",
      "Warning: Option --export-pdf= is deprecated\n",
      "Failed to get connection\n",
      "** (org.inkscape.Inkscape:220309): CRITICAL **: 18:12:14.327: dbus_g_proxy_new_for_name: assertion 'connection != NULL' failed\n",
      "\n",
      "** (org.inkscape.Inkscape:220309): CRITICAL **: 18:12:14.327: dbus_g_proxy_call: assertion 'DBUS_IS_G_PROXY (proxy)' failed\n",
      "\n",
      "** (org.inkscape.Inkscape:220309): CRITICAL **: 18:12:14.327: dbus_g_connection_register_g_object: assertion 'connection != NULL' failed\n"
     ]
    },
    {
     "name": "stdout",
     "output_type": "stream",
     "text": [
      "Concatenating pdfs\n",
      "Saving xlsx\n"
     ]
    }
   ],
   "source": [
    "st_pair = (starter, target)\n",
    "sheets = []\n",
    "sheetnames = []\n",
    "\n",
    "# Generate pwy svgs & csv\n",
    "print(\"Generating svgs & csv\")\n",
    "headers = ['starter', 'target', 'mdf', 'pwy_ave_mcs'] + [f\"mcs_rxn_{g+1}\" for g in range(generations)]\n",
    "pwy_svg_outdir = f\"../artifacts/pwy_svgs/{fn[:-3]}/{'_'.join(st_pair)}/\"\n",
    "ensure_dirs(pwy_svg_outdir)\n",
    "\n",
    "rows_for_sheet = []\n",
    "for path in paths:\n",
    "    row = [] # One path\n",
    "    prc_mcs = pe.get_prc_mcs(path) # Top-analogue prc_mcs for each predicted reaction in path \n",
    "    row += [path.starter, path.target, path.mdf, sum(prc_mcs) / len(prc_mcs)]\n",
    "\n",
    "    for g in range(generations):\n",
    "        if g < len(prc_mcs):\n",
    "            row.append(prc_mcs[g])\n",
    "        else:\n",
    "            row.append(None)\n",
    "\n",
    "    sma_hash_pairs = []\n",
    "    for prid in path.reaction_ids:\n",
    "        pr = pe.predicted_reactions[prid]\n",
    "        analogue = pr.top_analogue()['analogue']\n",
    "        sma_hash_pairs.append([(pr.smarts, prid), (analogue.smarts, analogue.id)])\n",
    "    \n",
    "    outpath = pwy_svg_outdir + f\"{path.id:04}.svg\"\n",
    "    draw_pwy_svg(sma_hash_pairs, outpath)\n",
    "\n",
    "    rows_for_sheet.append(row)\n",
    "\n",
    "# Make df for this st pair\n",
    "sheets.append(pd.DataFrame(rows_for_sheet, columns=headers))\n",
    "sheetnames.append(\"_\".join(st_pair))\n",
    "\n",
    "# Convert svgs to pdfs\n",
    "print(\"Generating pdfs\")\n",
    "tmp_pdf_outdir = f\"../artifacts/tmp_pdfs/{fn[:-3]}/{'_'.join(st_pair)}/\"\n",
    "ensure_dirs(tmp_pdf_outdir)\n",
    "for path in paths:\n",
    "    cmd = [\"inkscape\", f\"--export-pdf={tmp_pdf_outdir}{path.id:04}.pdf\", f\"{pwy_svg_outdir}{path.id:04}.svg\"]\n",
    "    subprocess.run(cmd)\n",
    "\n",
    "# Concatenate pdfs\n",
    "print(\"Concatenating pdfs\")\n",
    "pwy_pdf_outdir = f\"../artifacts/pwy_pdfs/{fn[:-3]}/\"\n",
    "ensure_dirs(pwy_pdf_outdir)\n",
    "cat_pdf_fn = pwy_pdf_outdir + '_'.join(st_pair) + '.pdf'\n",
    "individual_pwys = [f\"{tmp_pdf_outdir}{path.id:04}.pdf\" for path in paths]\n",
    "\n",
    "cmd = [\"pdfunite\", *individual_pwys, cat_pdf_fn]\n",
    "subprocess.run(cmd)\n",
    "\n",
    "# Concatenate sheets into xls\n",
    "print(\"Saving xlsx\")\n",
    "writer = pd.ExcelWriter(f\"../artifacts/pwy_xls/{fn[:-3]}\" + '.xlsx') # Arbitrary output name\n",
    "for i, df in enumerate(sheets):\n",
    "    df.to_excel(writer,sheet_name=sheetnames[i])\n",
    "writer.save()\n",
    "\n",
    "# Remove stuff\n",
    "dirs = ['../artifacts/' + elt for elt in ['tmp_pdfs', 'rxn_svgs', 'pwy_svgs', 'mol_svgs']]\n",
    "for elt in dirs:\n",
    "    subprocess.run([f\"rm -r {elt}/*\"], shell=True)"
   ]
  }
 ],
 "metadata": {
  "kernelspec": {
   "display_name": "mine",
   "language": "python",
   "name": "python3"
  },
  "language_info": {
   "codemirror_mode": {
    "name": "ipython",
    "version": 3
   },
   "file_extension": ".py",
   "mimetype": "text/x-python",
   "name": "python",
   "nbconvert_exporter": "python",
   "pygments_lexer": "ipython3",
   "version": "3.7.12"
  }
 },
 "nbformat": 4,
 "nbformat_minor": 2
}
