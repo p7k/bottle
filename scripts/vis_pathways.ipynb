{
 "cells": [
  {
   "cell_type": "code",
   "execution_count": 1,
   "metadata": {},
   "outputs": [],
   "source": [
    "%load_ext autoreload\n",
    "%autoreload 2\n",
    "from src.chem_draw import draw_pwy_svg\n",
    "from src.utils import ensure_dirs\n",
    "import pickle\n",
    "import subprocess\n",
    "import pandas as pd"
   ]
  },
  {
   "cell_type": "code",
   "execution_count": 2,
   "metadata": {},
   "outputs": [],
   "source": [
    "def thresholded_uniprot_strings(path_enzymes, enzyme_validation_threshold):\n",
    "    uniprot_strings = []\n",
    "    for rxn_enzymes in path_enzymes:\n",
    "        if rxn_enzymes:\n",
    "            up_str = \", \".join([e.uniprot_id for e in rxn_enzymes if e.validation_score >= enzyme_validation_threshold])\n",
    "            uniprot_strings.append(up_str)\n",
    "        else:\n",
    "            uniprot_strings.append(None)\n",
    "\n",
    "    return uniprot_strings"
   ]
  },
  {
   "cell_type": "code",
   "execution_count": 3,
   "metadata": {},
   "outputs": [],
   "source": [
    "# Params\n",
    "starters = 'ccm_v0'\n",
    "targets = 'hopa'\n",
    "generations = 3\n",
    "\n",
    "expansion_dir = '../data/processed_expansions/'\n",
    "fn = f\"{starters}_to_{targets}_gen_{generations}_tan_sample_1_n_samples_1000.pkl\" # Expansion file name\n",
    "\n",
    "# Load processed expansions\n",
    "with open(expansion_dir + fn, 'rb') as f:\n",
    "    pe = pickle.load(f)\n"
   ]
  },
  {
   "cell_type": "code",
   "execution_count": 4,
   "metadata": {},
   "outputs": [
    {
     "name": "stdout",
     "output_type": "stream",
     "text": [
      "{('oxaloacetate', 'hopa'), ('citrate', 'hopa'), ('succinate', 'hopa'), ('malate', 'hopa'), ('pyruvate', 'hopa')}\n"
     ]
    }
   ],
   "source": [
    "print(pe.starter_target_pairs)"
   ]
  },
  {
   "cell_type": "code",
   "execution_count": 5,
   "metadata": {},
   "outputs": [
    {
     "name": "stdout",
     "output_type": "stream",
     "text": [
      "20 for ('oxaloacetate', 'hopa')\n",
      "2 for ('succinate', 'hopa')\n",
      "4 for ('malate', 'hopa')\n",
      "11 for ('pyruvate', 'hopa')\n"
     ]
    }
   ],
   "source": [
    "to_vis = {}\n",
    "for st_pair in pe.starter_target_pairs:\n",
    "    starter, target = st_pair\n",
    "    enzyme_validation_threshold = 0.95\n",
    "    sort_by = ['enzyme_validation', 'prc_mcs']\n",
    "    filter_by = {'mdf':0, 'enzyme_validation':enzyme_validation_threshold}\n",
    "\n",
    "    paths = pe.get_paths_w_st(starter=starter,\n",
    "                    target=target,\n",
    "                    sort_by=sort_by,\n",
    "                    filter_by=filter_by,\n",
    "                    reduce_predicted_reactions='min'\n",
    "                    )\n",
    "    \n",
    "    if len(paths) > 0:\n",
    "        print(f\"{len(paths)} for {st_pair}\")\n",
    "        to_vis[st_pair] = paths"
   ]
  },
  {
   "cell_type": "code",
   "execution_count": 6,
   "metadata": {},
   "outputs": [
    {
     "name": "stdout",
     "output_type": "stream",
     "text": [
      "('oxaloacetate', 'hopa')\n",
      "Generating svgs & csv\n",
      "Generating pdfs\n"
     ]
    },
    {
     "name": "stderr",
     "output_type": "stream",
     "text": [
      "Warning: Option --export-pdf= is deprecated\n",
      "Failed to get connection\n",
      "** (org.inkscape.Inkscape:268797): CRITICAL **: 16:59:20.353: dbus_g_proxy_new_for_name: assertion 'connection != NULL' failed\n",
      "\n",
      "** (org.inkscape.Inkscape:268797): CRITICAL **: 16:59:20.353: dbus_g_proxy_call: assertion 'DBUS_IS_G_PROXY (proxy)' failed\n",
      "\n",
      "** (org.inkscape.Inkscape:268797): CRITICAL **: 16:59:20.354: dbus_g_connection_register_g_object: assertion 'connection != NULL' failed\n",
      "Warning: Option --export-pdf= is deprecated\n",
      "Failed to get connection\n",
      "** (org.inkscape.Inkscape:268827): CRITICAL **: 16:59:20.771: dbus_g_proxy_new_for_name: assertion 'connection != NULL' failed\n",
      "\n",
      "** (org.inkscape.Inkscape:268827): CRITICAL **: 16:59:20.771: dbus_g_proxy_call: assertion 'DBUS_IS_G_PROXY (proxy)' failed\n",
      "\n",
      "** (org.inkscape.Inkscape:268827): CRITICAL **: 16:59:20.771: dbus_g_connection_register_g_object: assertion 'connection != NULL' failed\n",
      "Warning: Option --export-pdf= is deprecated\n",
      "Failed to get connection\n",
      "** (org.inkscape.Inkscape:268850): CRITICAL **: 16:59:21.021: dbus_g_proxy_new_for_name: assertion 'connection != NULL' failed\n",
      "\n",
      "** (org.inkscape.Inkscape:268850): CRITICAL **: 16:59:21.021: dbus_g_proxy_call: assertion 'DBUS_IS_G_PROXY (proxy)' failed\n",
      "\n",
      "** (org.inkscape.Inkscape:268850): CRITICAL **: 16:59:21.021: dbus_g_connection_register_g_object: assertion 'connection != NULL' failed\n",
      "Warning: Option --export-pdf= is deprecated\n",
      "Failed to get connection\n",
      "** (org.inkscape.Inkscape:268873): CRITICAL **: 16:59:21.296: dbus_g_proxy_new_for_name: assertion 'connection != NULL' failed\n",
      "\n",
      "** (org.inkscape.Inkscape:268873): CRITICAL **: 16:59:21.296: dbus_g_proxy_call: assertion 'DBUS_IS_G_PROXY (proxy)' failed\n",
      "\n",
      "** (org.inkscape.Inkscape:268873): CRITICAL **: 16:59:21.296: dbus_g_connection_register_g_object: assertion 'connection != NULL' failed\n",
      "Warning: Option --export-pdf= is deprecated\n",
      "Failed to get connection\n",
      "** (org.inkscape.Inkscape:268899): CRITICAL **: 16:59:21.653: dbus_g_proxy_new_for_name: assertion 'connection != NULL' failed\n",
      "\n",
      "** (org.inkscape.Inkscape:268899): CRITICAL **: 16:59:21.653: dbus_g_proxy_call: assertion 'DBUS_IS_G_PROXY (proxy)' failed\n",
      "\n",
      "** (org.inkscape.Inkscape:268899): CRITICAL **: 16:59:21.654: dbus_g_connection_register_g_object: assertion 'connection != NULL' failed\n",
      "Warning: Option --export-pdf= is deprecated\n",
      "Failed to get connection\n",
      "** (org.inkscape.Inkscape:268923): CRITICAL **: 16:59:21.927: dbus_g_proxy_new_for_name: assertion 'connection != NULL' failed\n",
      "\n",
      "** (org.inkscape.Inkscape:268923): CRITICAL **: 16:59:21.927: dbus_g_proxy_call: assertion 'DBUS_IS_G_PROXY (proxy)' failed\n",
      "\n",
      "** (org.inkscape.Inkscape:268923): CRITICAL **: 16:59:21.927: dbus_g_connection_register_g_object: assertion 'connection != NULL' failed\n",
      "Warning: Option --export-pdf= is deprecated\n",
      "Failed to get connection\n",
      "** (org.inkscape.Inkscape:268946): CRITICAL **: 16:59:22.231: dbus_g_proxy_new_for_name: assertion 'connection != NULL' failed\n",
      "\n",
      "** (org.inkscape.Inkscape:268946): CRITICAL **: 16:59:22.231: dbus_g_proxy_call: assertion 'DBUS_IS_G_PROXY (proxy)' failed\n",
      "\n",
      "** (org.inkscape.Inkscape:268946): CRITICAL **: 16:59:22.231: dbus_g_connection_register_g_object: assertion 'connection != NULL' failed\n",
      "Warning: Option --export-pdf= is deprecated\n",
      "Failed to get connection\n",
      "** (org.inkscape.Inkscape:268969): CRITICAL **: 16:59:22.513: dbus_g_proxy_new_for_name: assertion 'connection != NULL' failed\n",
      "\n",
      "** (org.inkscape.Inkscape:268969): CRITICAL **: 16:59:22.513: dbus_g_proxy_call: assertion 'DBUS_IS_G_PROXY (proxy)' failed\n",
      "\n",
      "** (org.inkscape.Inkscape:268969): CRITICAL **: 16:59:22.514: dbus_g_connection_register_g_object: assertion 'connection != NULL' failed\n",
      "Warning: Option --export-pdf= is deprecated\n",
      "Failed to get connection\n",
      "** (org.inkscape.Inkscape:268998): CRITICAL **: 16:59:22.820: dbus_g_proxy_new_for_name: assertion 'connection != NULL' failed\n",
      "\n",
      "** (org.inkscape.Inkscape:268998): CRITICAL **: 16:59:22.820: dbus_g_proxy_call: assertion 'DBUS_IS_G_PROXY (proxy)' failed\n",
      "\n",
      "** (org.inkscape.Inkscape:268998): CRITICAL **: 16:59:22.820: dbus_g_connection_register_g_object: assertion 'connection != NULL' failed\n",
      "Warning: Option --export-pdf= is deprecated\n",
      "Failed to get connection\n",
      "** (org.inkscape.Inkscape:269021): CRITICAL **: 16:59:23.119: dbus_g_proxy_new_for_name: assertion 'connection != NULL' failed\n",
      "\n",
      "** (org.inkscape.Inkscape:269021): CRITICAL **: 16:59:23.119: dbus_g_proxy_call: assertion 'DBUS_IS_G_PROXY (proxy)' failed\n",
      "\n",
      "** (org.inkscape.Inkscape:269021): CRITICAL **: 16:59:23.119: dbus_g_connection_register_g_object: assertion 'connection != NULL' failed\n",
      "Warning: Option --export-pdf= is deprecated\n",
      "Failed to get connection\n",
      "** (org.inkscape.Inkscape:269044): CRITICAL **: 16:59:23.424: dbus_g_proxy_new_for_name: assertion 'connection != NULL' failed\n",
      "\n",
      "** (org.inkscape.Inkscape:269044): CRITICAL **: 16:59:23.424: dbus_g_proxy_call: assertion 'DBUS_IS_G_PROXY (proxy)' failed\n",
      "\n",
      "** (org.inkscape.Inkscape:269044): CRITICAL **: 16:59:23.424: dbus_g_connection_register_g_object: assertion 'connection != NULL' failed\n",
      "Warning: Option --export-pdf= is deprecated\n",
      "Failed to get connection\n",
      "** (org.inkscape.Inkscape:269067): CRITICAL **: 16:59:23.693: dbus_g_proxy_new_for_name: assertion 'connection != NULL' failed\n",
      "\n",
      "** (org.inkscape.Inkscape:269067): CRITICAL **: 16:59:23.693: dbus_g_proxy_call: assertion 'DBUS_IS_G_PROXY (proxy)' failed\n",
      "\n",
      "** (org.inkscape.Inkscape:269067): CRITICAL **: 16:59:23.693: dbus_g_connection_register_g_object: assertion 'connection != NULL' failed\n",
      "Warning: Option --export-pdf= is deprecated\n",
      "Failed to get connection\n",
      "** (org.inkscape.Inkscape:269091): CRITICAL **: 16:59:23.989: dbus_g_proxy_new_for_name: assertion 'connection != NULL' failed\n",
      "\n",
      "** (org.inkscape.Inkscape:269091): CRITICAL **: 16:59:23.989: dbus_g_proxy_call: assertion 'DBUS_IS_G_PROXY (proxy)' failed\n",
      "\n",
      "** (org.inkscape.Inkscape:269091): CRITICAL **: 16:59:23.989: dbus_g_connection_register_g_object: assertion 'connection != NULL' failed\n",
      "Warning: Option --export-pdf= is deprecated\n",
      "Failed to get connection\n",
      "** (org.inkscape.Inkscape:269114): CRITICAL **: 16:59:24.255: dbus_g_proxy_new_for_name: assertion 'connection != NULL' failed\n",
      "\n",
      "** (org.inkscape.Inkscape:269114): CRITICAL **: 16:59:24.255: dbus_g_proxy_call: assertion 'DBUS_IS_G_PROXY (proxy)' failed\n",
      "\n",
      "** (org.inkscape.Inkscape:269114): CRITICAL **: 16:59:24.255: dbus_g_connection_register_g_object: assertion 'connection != NULL' failed\n",
      "Warning: Option --export-pdf= is deprecated\n",
      "Failed to get connection\n",
      "** (org.inkscape.Inkscape:269137): CRITICAL **: 16:59:24.532: dbus_g_proxy_new_for_name: assertion 'connection != NULL' failed\n",
      "\n",
      "** (org.inkscape.Inkscape:269137): CRITICAL **: 16:59:24.533: dbus_g_proxy_call: assertion 'DBUS_IS_G_PROXY (proxy)' failed\n",
      "\n",
      "** (org.inkscape.Inkscape:269137): CRITICAL **: 16:59:24.533: dbus_g_connection_register_g_object: assertion 'connection != NULL' failed\n",
      "Warning: Option --export-pdf= is deprecated\n",
      "Failed to get connection\n",
      "** (org.inkscape.Inkscape:269160): CRITICAL **: 16:59:24.819: dbus_g_proxy_new_for_name: assertion 'connection != NULL' failed\n",
      "\n",
      "** (org.inkscape.Inkscape:269160): CRITICAL **: 16:59:24.819: dbus_g_proxy_call: assertion 'DBUS_IS_G_PROXY (proxy)' failed\n",
      "\n",
      "** (org.inkscape.Inkscape:269160): CRITICAL **: 16:59:24.819: dbus_g_connection_register_g_object: assertion 'connection != NULL' failed\n",
      "Warning: Option --export-pdf= is deprecated\n",
      "Failed to get connection\n",
      "** (org.inkscape.Inkscape:269189): CRITICAL **: 16:59:25.136: dbus_g_proxy_new_for_name: assertion 'connection != NULL' failed\n",
      "\n",
      "** (org.inkscape.Inkscape:269189): CRITICAL **: 16:59:25.136: dbus_g_proxy_call: assertion 'DBUS_IS_G_PROXY (proxy)' failed\n",
      "\n",
      "** (org.inkscape.Inkscape:269189): CRITICAL **: 16:59:25.136: dbus_g_connection_register_g_object: assertion 'connection != NULL' failed\n",
      "Warning: Option --export-pdf= is deprecated\n",
      "Failed to get connection\n",
      "** (org.inkscape.Inkscape:269212): CRITICAL **: 16:59:25.412: dbus_g_proxy_new_for_name: assertion 'connection != NULL' failed\n",
      "\n",
      "** (org.inkscape.Inkscape:269212): CRITICAL **: 16:59:25.412: dbus_g_proxy_call: assertion 'DBUS_IS_G_PROXY (proxy)' failed\n",
      "\n",
      "** (org.inkscape.Inkscape:269212): CRITICAL **: 16:59:25.412: dbus_g_connection_register_g_object: assertion 'connection != NULL' failed\n",
      "Warning: Option --export-pdf= is deprecated\n",
      "Failed to get connection\n",
      "** (org.inkscape.Inkscape:269235): CRITICAL **: 16:59:25.693: dbus_g_proxy_new_for_name: assertion 'connection != NULL' failed\n",
      "\n",
      "** (org.inkscape.Inkscape:269235): CRITICAL **: 16:59:25.693: dbus_g_proxy_call: assertion 'DBUS_IS_G_PROXY (proxy)' failed\n",
      "\n",
      "** (org.inkscape.Inkscape:269235): CRITICAL **: 16:59:25.693: dbus_g_connection_register_g_object: assertion 'connection != NULL' failed\n",
      "Warning: Option --export-pdf= is deprecated\n",
      "Failed to get connection\n",
      "** (org.inkscape.Inkscape:269259): CRITICAL **: 16:59:25.981: dbus_g_proxy_new_for_name: assertion 'connection != NULL' failed\n",
      "\n",
      "** (org.inkscape.Inkscape:269259): CRITICAL **: 16:59:25.981: dbus_g_proxy_call: assertion 'DBUS_IS_G_PROXY (proxy)' failed\n",
      "\n",
      "** (org.inkscape.Inkscape:269259): CRITICAL **: 16:59:25.982: dbus_g_connection_register_g_object: assertion 'connection != NULL' failed\n"
     ]
    },
    {
     "name": "stdout",
     "output_type": "stream",
     "text": [
      "Concatenating pdfs\n",
      "('succinate', 'hopa')\n",
      "Generating svgs & csv\n",
      "Generating pdfs\n"
     ]
    },
    {
     "name": "stderr",
     "output_type": "stream",
     "text": [
      "Warning: Option --export-pdf= is deprecated\n",
      "Failed to get connection\n",
      "** (org.inkscape.Inkscape:269283): CRITICAL **: 16:59:26.463: dbus_g_proxy_new_for_name: assertion 'connection != NULL' failed\n",
      "\n",
      "** (org.inkscape.Inkscape:269283): CRITICAL **: 16:59:26.463: dbus_g_proxy_call: assertion 'DBUS_IS_G_PROXY (proxy)' failed\n",
      "\n",
      "** (org.inkscape.Inkscape:269283): CRITICAL **: 16:59:26.463: dbus_g_connection_register_g_object: assertion 'connection != NULL' failed\n",
      "Warning: Option --export-pdf= is deprecated\n",
      "Failed to get connection\n",
      "** (org.inkscape.Inkscape:269307): CRITICAL **: 16:59:26.771: dbus_g_proxy_new_for_name: assertion 'connection != NULL' failed\n",
      "\n",
      "** (org.inkscape.Inkscape:269307): CRITICAL **: 16:59:26.771: dbus_g_proxy_call: assertion 'DBUS_IS_G_PROXY (proxy)' failed\n",
      "\n",
      "** (org.inkscape.Inkscape:269307): CRITICAL **: 16:59:26.771: dbus_g_connection_register_g_object: assertion 'connection != NULL' failed\n"
     ]
    },
    {
     "name": "stdout",
     "output_type": "stream",
     "text": [
      "Concatenating pdfs\n",
      "('malate', 'hopa')\n",
      "Generating svgs & csv\n",
      "Generating pdfs\n"
     ]
    },
    {
     "name": "stderr",
     "output_type": "stream",
     "text": [
      "Warning: Option --export-pdf= is deprecated\n",
      "Failed to get connection\n",
      "** (org.inkscape.Inkscape:269338): CRITICAL **: 16:59:27.272: dbus_g_proxy_new_for_name: assertion 'connection != NULL' failed\n",
      "\n",
      "** (org.inkscape.Inkscape:269338): CRITICAL **: 16:59:27.272: dbus_g_proxy_call: assertion 'DBUS_IS_G_PROXY (proxy)' failed\n",
      "\n",
      "** (org.inkscape.Inkscape:269338): CRITICAL **: 16:59:27.272: dbus_g_connection_register_g_object: assertion 'connection != NULL' failed\n",
      "Warning: Option --export-pdf= is deprecated\n",
      "Failed to get connection\n",
      "** (org.inkscape.Inkscape:269361): CRITICAL **: 16:59:27.543: dbus_g_proxy_new_for_name: assertion 'connection != NULL' failed\n",
      "\n",
      "** (org.inkscape.Inkscape:269361): CRITICAL **: 16:59:27.543: dbus_g_proxy_call: assertion 'DBUS_IS_G_PROXY (proxy)' failed\n",
      "\n",
      "** (org.inkscape.Inkscape:269361): CRITICAL **: 16:59:27.543: dbus_g_connection_register_g_object: assertion 'connection != NULL' failed\n",
      "Warning: Option --export-pdf= is deprecated\n",
      "Failed to get connection\n",
      "** (org.inkscape.Inkscape:269384): CRITICAL **: 16:59:27.829: dbus_g_proxy_new_for_name: assertion 'connection != NULL' failed\n",
      "\n",
      "** (org.inkscape.Inkscape:269384): CRITICAL **: 16:59:27.829: dbus_g_proxy_call: assertion 'DBUS_IS_G_PROXY (proxy)' failed\n",
      "\n",
      "** (org.inkscape.Inkscape:269384): CRITICAL **: 16:59:27.829: dbus_g_connection_register_g_object: assertion 'connection != NULL' failed\n",
      "Warning: Option --export-pdf= is deprecated\n",
      "Failed to get connection\n",
      "** (org.inkscape.Inkscape:269407): CRITICAL **: 16:59:28.112: dbus_g_proxy_new_for_name: assertion 'connection != NULL' failed\n",
      "\n",
      "** (org.inkscape.Inkscape:269407): CRITICAL **: 16:59:28.112: dbus_g_proxy_call: assertion 'DBUS_IS_G_PROXY (proxy)' failed\n",
      "\n",
      "** (org.inkscape.Inkscape:269407): CRITICAL **: 16:59:28.112: dbus_g_connection_register_g_object: assertion 'connection != NULL' failed\n"
     ]
    },
    {
     "name": "stdout",
     "output_type": "stream",
     "text": [
      "Concatenating pdfs\n",
      "('pyruvate', 'hopa')\n",
      "Generating svgs & csv\n",
      "Generating pdfs\n"
     ]
    },
    {
     "name": "stderr",
     "output_type": "stream",
     "text": [
      "Warning: Option --export-pdf= is deprecated\n",
      "Failed to get connection\n",
      "** (org.inkscape.Inkscape:269433): CRITICAL **: 16:59:28.847: dbus_g_proxy_new_for_name: assertion 'connection != NULL' failed\n",
      "\n",
      "** (org.inkscape.Inkscape:269433): CRITICAL **: 16:59:28.847: dbus_g_proxy_call: assertion 'DBUS_IS_G_PROXY (proxy)' failed\n",
      "\n",
      "** (org.inkscape.Inkscape:269433): CRITICAL **: 16:59:28.847: dbus_g_connection_register_g_object: assertion 'connection != NULL' failed\n",
      "Warning: Option --export-pdf= is deprecated\n",
      "Failed to get connection\n",
      "** (org.inkscape.Inkscape:269462): CRITICAL **: 16:59:29.040: dbus_g_proxy_new_for_name: assertion 'connection != NULL' failed\n",
      "\n",
      "** (org.inkscape.Inkscape:269462): CRITICAL **: 16:59:29.040: dbus_g_proxy_call: assertion 'DBUS_IS_G_PROXY (proxy)' failed\n",
      "\n",
      "** (org.inkscape.Inkscape:269462): CRITICAL **: 16:59:29.040: dbus_g_connection_register_g_object: assertion 'connection != NULL' failed\n",
      "Warning: Option --export-pdf= is deprecated\n",
      "Failed to get connection\n",
      "** (org.inkscape.Inkscape:269485): CRITICAL **: 16:59:29.358: dbus_g_proxy_new_for_name: assertion 'connection != NULL' failed\n",
      "\n",
      "** (org.inkscape.Inkscape:269485): CRITICAL **: 16:59:29.358: dbus_g_proxy_call: assertion 'DBUS_IS_G_PROXY (proxy)' failed\n",
      "\n",
      "** (org.inkscape.Inkscape:269485): CRITICAL **: 16:59:29.358: dbus_g_connection_register_g_object: assertion 'connection != NULL' failed\n",
      "Warning: Option --export-pdf= is deprecated\n",
      "Failed to get connection\n",
      "** (org.inkscape.Inkscape:269508): CRITICAL **: 16:59:29.643: dbus_g_proxy_new_for_name: assertion 'connection != NULL' failed\n",
      "\n",
      "** (org.inkscape.Inkscape:269508): CRITICAL **: 16:59:29.643: dbus_g_proxy_call: assertion 'DBUS_IS_G_PROXY (proxy)' failed\n",
      "\n",
      "** (org.inkscape.Inkscape:269508): CRITICAL **: 16:59:29.643: dbus_g_connection_register_g_object: assertion 'connection != NULL' failed\n",
      "Warning: Option --export-pdf= is deprecated\n",
      "Failed to get connection\n",
      "** (org.inkscape.Inkscape:269531): CRITICAL **: 16:59:29.882: dbus_g_proxy_new_for_name: assertion 'connection != NULL' failed\n",
      "\n",
      "** (org.inkscape.Inkscape:269531): CRITICAL **: 16:59:29.882: dbus_g_proxy_call: assertion 'DBUS_IS_G_PROXY (proxy)' failed\n",
      "\n",
      "** (org.inkscape.Inkscape:269531): CRITICAL **: 16:59:29.882: dbus_g_connection_register_g_object: assertion 'connection != NULL' failed\n",
      "Warning: Option --export-pdf= is deprecated\n",
      "Failed to get connection\n",
      "** (org.inkscape.Inkscape:269554): CRITICAL **: 16:59:30.154: dbus_g_proxy_new_for_name: assertion 'connection != NULL' failed\n",
      "\n",
      "** (org.inkscape.Inkscape:269554): CRITICAL **: 16:59:30.154: dbus_g_proxy_call: assertion 'DBUS_IS_G_PROXY (proxy)' failed\n",
      "\n",
      "** (org.inkscape.Inkscape:269554): CRITICAL **: 16:59:30.154: dbus_g_connection_register_g_object: assertion 'connection != NULL' failed\n",
      "Warning: Option --export-pdf= is deprecated\n",
      "Failed to get connection\n",
      "** (org.inkscape.Inkscape:269577): CRITICAL **: 16:59:30.376: dbus_g_proxy_new_for_name: assertion 'connection != NULL' failed\n",
      "\n",
      "** (org.inkscape.Inkscape:269577): CRITICAL **: 16:59:30.376: dbus_g_proxy_call: assertion 'DBUS_IS_G_PROXY (proxy)' failed\n",
      "\n",
      "** (org.inkscape.Inkscape:269577): CRITICAL **: 16:59:30.376: dbus_g_connection_register_g_object: assertion 'connection != NULL' failed\n",
      "Warning: Option --export-pdf= is deprecated\n",
      "Failed to get connection\n",
      "** (org.inkscape.Inkscape:269600): CRITICAL **: 16:59:30.664: dbus_g_proxy_new_for_name: assertion 'connection != NULL' failed\n",
      "\n",
      "** (org.inkscape.Inkscape:269600): CRITICAL **: 16:59:30.664: dbus_g_proxy_call: assertion 'DBUS_IS_G_PROXY (proxy)' failed\n",
      "\n",
      "** (org.inkscape.Inkscape:269600): CRITICAL **: 16:59:30.664: dbus_g_connection_register_g_object: assertion 'connection != NULL' failed\n",
      "Warning: Option --export-pdf= is deprecated\n",
      "Failed to get connection\n",
      "** (org.inkscape.Inkscape:269623): CRITICAL **: 16:59:30.936: dbus_g_proxy_new_for_name: assertion 'connection != NULL' failed\n",
      "\n",
      "** (org.inkscape.Inkscape:269623): CRITICAL **: 16:59:30.936: dbus_g_proxy_call: assertion 'DBUS_IS_G_PROXY (proxy)' failed\n",
      "\n",
      "** (org.inkscape.Inkscape:269623): CRITICAL **: 16:59:30.936: dbus_g_connection_register_g_object: assertion 'connection != NULL' failed\n",
      "Warning: Option --export-pdf= is deprecated\n",
      "Failed to get connection\n",
      "** (org.inkscape.Inkscape:269652): CRITICAL **: 16:59:31.171: dbus_g_proxy_new_for_name: assertion 'connection != NULL' failed\n",
      "\n",
      "** (org.inkscape.Inkscape:269652): CRITICAL **: 16:59:31.171: dbus_g_proxy_call: assertion 'DBUS_IS_G_PROXY (proxy)' failed\n",
      "\n",
      "** (org.inkscape.Inkscape:269652): CRITICAL **: 16:59:31.171: dbus_g_connection_register_g_object: assertion 'connection != NULL' failed\n",
      "Warning: Option --export-pdf= is deprecated\n",
      "Failed to get connection\n",
      "** (org.inkscape.Inkscape:269675): CRITICAL **: 16:59:31.440: dbus_g_proxy_new_for_name: assertion 'connection != NULL' failed\n",
      "\n",
      "** (org.inkscape.Inkscape:269675): CRITICAL **: 16:59:31.440: dbus_g_proxy_call: assertion 'DBUS_IS_G_PROXY (proxy)' failed\n",
      "\n",
      "** (org.inkscape.Inkscape:269675): CRITICAL **: 16:59:31.440: dbus_g_connection_register_g_object: assertion 'connection != NULL' failed\n"
     ]
    },
    {
     "name": "stdout",
     "output_type": "stream",
     "text": [
      "Concatenating pdfs\n",
      "Saving xlsx\n"
     ]
    }
   ],
   "source": [
    "sheets = []\n",
    "sheetnames = []\n",
    "\n",
    "for st_pair, paths in to_vis.items():\n",
    "    print(st_pair)\n",
    "    # Set up sheets headers & pwy svg outdir\n",
    "    print(\"Generating svgs & csv\")\n",
    "    headers = ['id', 'starter', 'target', 'mdf', 'pwy_ave_mcs'] + [f\"mcs_rxn_{g+1}\" for g in range(generations)] + [f\"uniprot_rxn_{g+1}\" for g in range(generations)]\n",
    "    pwy_svg_outdir = f\"../artifacts/pwy_svgs/{fn[:-4]}/{'_'.join(st_pair)}/\"\n",
    "    ensure_dirs(pwy_svg_outdir)\n",
    "\n",
    "    rows_for_sheet = []\n",
    "    for path in paths:\n",
    "        row = [] # One path\n",
    "        up_strings = thresholded_uniprot_strings(pe.get_path_enzymes(path), enzyme_validation_threshold)\n",
    "        prc_mcs = pe.get_path_prc_mcs(path) # Top-analogue prc_mcs for each predicted reaction in path \n",
    "        row += [path.id, path.starter, path.target, path.mdf, sum(prc_mcs) / len(prc_mcs)] # Append average prc_mcs\n",
    "\n",
    "        # Append reaction prc_mcs\n",
    "        for g in range(generations):\n",
    "            if g < len(path.reaction_ids):\n",
    "                row.append(prc_mcs[g])\n",
    "            else:\n",
    "                row.append(None)\n",
    "\n",
    "        # Append uniprot strings\n",
    "        for g in range(generations):\n",
    "            if g < len(path.reaction_ids):\n",
    "                row.append(up_strings[g])\n",
    "            else:\n",
    "                row.append(None)\n",
    "\n",
    "        # Draw pathway svg \n",
    "        sma_hash_pairs = []\n",
    "        for prid in path.reaction_ids:\n",
    "            pr = pe.predicted_reactions[prid]\n",
    "            analogue = pr.top_analogue()['analogue']\n",
    "            sma_hash_pairs.append([(pr.smarts, prid), (analogue.smarts, analogue.id)])\n",
    "        \n",
    "        outpath = pwy_svg_outdir + f\"{path.id:04}.svg\"\n",
    "        draw_pwy_svg(sma_hash_pairs, path.id, outpath)\n",
    "\n",
    "        rows_for_sheet.append(row)\n",
    "\n",
    "    # Make df for this st pair\n",
    "    sheets.append(pd.DataFrame(rows_for_sheet, columns=headers).set_index('id'))\n",
    "    sheetnames.append(\"_\".join(st_pair))\n",
    "\n",
    "    # Convert svgs to pdfs\n",
    "    print(\"Generating pdfs\")\n",
    "    tmp_pdf_outdir = f\"../artifacts/tmp_pdfs/{fn[:-4]}/{'_'.join(st_pair)}/\"\n",
    "    ensure_dirs(tmp_pdf_outdir)\n",
    "    for path in paths:\n",
    "        cmd = [\"inkscape\", f\"--export-pdf={tmp_pdf_outdir}{path.id:04}.pdf\", f\"{pwy_svg_outdir}{path.id:04}.svg\"]\n",
    "        subprocess.run(cmd)\n",
    "\n",
    "    # Concatenate pdfs\n",
    "    print(\"Concatenating pdfs\")\n",
    "    pwy_pdf_outdir = f\"../artifacts/pwy_pdfs/{fn[:-4]}/\"\n",
    "    ensure_dirs(pwy_pdf_outdir)\n",
    "    cat_pdf_fn = pwy_pdf_outdir + '_'.join(st_pair) + '.pdf'\n",
    "    individual_pwys = [f\"{tmp_pdf_outdir}{path.id:04}.pdf\" for path in paths]\n",
    "\n",
    "    cmd = [\"pdfunite\", *individual_pwys, cat_pdf_fn]\n",
    "    subprocess.run(cmd)\n",
    "\n",
    "# Concatenate sheets into xls\n",
    "print(\"Saving xlsx\")\n",
    "writer = pd.ExcelWriter(f\"../artifacts/pwy_xls/{fn[:-4]}\" + '.xlsx') # Arbitrary output name\n",
    "for i, df in enumerate(sheets):\n",
    "    df.to_excel(writer, sheet_name=sheetnames[i])\n",
    "writer.save()\n",
    "\n",
    "# Remove stuff\n",
    "dirs = ['../artifacts/' + elt for elt in ['tmp_pdfs', 'rxn_svgs', 'pwy_svgs', 'mol_svgs']]\n",
    "for elt in dirs:\n",
    "    subprocess.run([f\"rm -r {elt}/*\"], shell=True)"
   ]
  },
  {
   "cell_type": "code",
   "execution_count": 44,
   "metadata": {},
   "outputs": [],
   "source": [
    "path = pe.get_paths_w_id(565)[0]\n",
    "rid = path.reaction_ids[0]\n",
    "pr = pe.predicted_reactions[rid]\n",
    "kr = pr.analogues[1]\n",
    "smarts = kr.smarts"
   ]
  },
  {
   "cell_type": "code",
   "execution_count": 47,
   "metadata": {},
   "outputs": [
    {
     "data": {
      "text/plain": [
       "('pyruvate',\n",
       " 'mvacid',\n",
       " 'CC(=O)C(=O)O.N[C@@H](CCC(=O)O)C(=O)O>>CC(N)C(=O)O.O=C(O)CCC(=O)C(=O)O',\n",
       " 'R64c06f272a3c7cebb8af1ad13c7d361cc5a57de1cd4bbd607eecbdc1dfcb150a')"
      ]
     },
     "execution_count": 47,
     "metadata": {},
     "output_type": "execute_result"
    }
   ],
   "source": [
    "path.starter, path.target, pr.smarts, pr.id"
   ]
  },
  {
   "cell_type": "code",
   "execution_count": 46,
   "metadata": {},
   "outputs": [
    {
     "data": {
      "image/png": "[encoded data removed]",
      "text/plain": [
       "<rdkit.Chem.rdChemReactions.ChemicalReaction at 0x7fe4a5233b70>"
      ]
     },
     "execution_count": 46,
     "metadata": {},
     "output_type": "execute_result"
    }
   ],
   "source": [
    "from rdkit import Chem\n",
    "from rdkit.Chem import AllChem\n",
    "from src.utils import load_json\n",
    "\n",
    "AllChem.ReactionFromSmarts(smarts, useSmiles=True)"
   ]
  },
  {
   "cell_type": "code",
   "execution_count": 33,
   "metadata": {},
   "outputs": [
    {
     "data": {
      "text/plain": [
       "([DatabaseEntry(db='brenda', id='5.4.99.4_1'),\n",
       "  DatabaseEntry(db='brenda', id='5.4.99.4_2'),\n",
       "  DatabaseEntry(db='kegg', id='R03908'),\n",
       "  DatabaseEntry(db='metacyc', id='2-METHYLENEGLUTARATE-MUTASE-RXN_reverse')],\n",
       " 'R2b570d17f1e302364ae56b8063cde96f6bc2dd20aba40bb92eb72d853598408f')"
      ]
     },
     "execution_count": 33,
     "metadata": {},
     "output_type": "execute_result"
    }
   ],
   "source": [
    "kr.database_entries, kr.id"
   ]
  },
  {
   "cell_type": "code",
   "execution_count": 34,
   "metadata": {},
   "outputs": [
    {
     "data": {
      "text/plain": [
       "{'smarts': 'C=C(CCC(=O)O)C(=O)O>>C=C(C(=O)O)C(C)C(=O)O',\n",
       " 'imt_rules': ['rule0028_46', 'rule0028_46', 'rule0028_46'],\n",
       " 'enzymes': [['Q59268',\n",
       "   'MQEKTKRIIKEDIEAVRAYSDCFDVEMPDLDENGEVIGLPAPYPREVAGTVRSGYRIYDLAKKAKERGWPIQNPILGRNTAEETYGESQEMYAYADKFDETLFHFVHAEATRHIDPLKGRELINQSRGKGGITPIGEREFIAMGGGSKHPVRINATGDTPHLSIINALIAGFDGTDIGPVIHVHFGGRGIHDYKTKVVNGYKAIQICAENNIFVQLDSHKHLNNIGGTDGMALAMCLLSEGLAVHAGLPWELSAIQMNVAGINIYADLAVMRAFRKACHSKSIIAVPETFQNPPGNLVAEAAHFSRMAVTAKLGGADFYRPKAAESVGIPTGDSMGQAIWGTEDVFGHVVNPDIQSPVIDAREAEIIDEALAVLEATLHLEGLTLEAMTDDFWKQWSDEALIDLIVAAGKAGVLDSQRAAGWDLKRHVVVNRDKDGITRYVKGYTPLGVDASRCAQSDEDVEVHVEKAPTRPEKIVLATVGADAHVNGINVIREAFQDAGYDVVYLRGMNLPESVAEVAAEVGADAVGVSNLLGLGMELFPRVSKRLEELGLRDKMVVCAGGRIAEKEEEHRQFEEKIQKEGSAFMGMDGFFGPGSSPEDCVKIIGDMINAKKA',\n",
       "   1.0,\n",
       "   '1: Evidence at protein level',\n",
       "   'UniProtKB reviewed (Swiss-Prot)',\n",
       "   'Eubacterium barkeri']],\n",
       " 'db_entries': [['brenda', '5.4.99.4_1'],\n",
       "  ['brenda', '5.4.99.4_2'],\n",
       "  ['kegg', 'R03908'],\n",
       "  ['metacyc', '2-METHYLENEGLUTARATE-MUTASE-RXN_reverse']]}"
      ]
     },
     "execution_count": 34,
     "metadata": {},
     "output_type": "execute_result"
    }
   ],
   "source": [
    "known_rxns = load_json(\"../data/mapping/known_rxns_jni_w_enzyme_validation.json\")\n",
    "known_rxns[kr.id]"
   ]
  },
  {
   "cell_type": "code",
   "execution_count": 35,
   "metadata": {},
   "outputs": [
    {
     "data": {
      "image/png": "[encoded data removed]",
      "text/plain": [
       "<rdkit.Chem.rdChemReactions.ChemicalReaction at 0x7fe488be5630>"
      ]
     },
     "execution_count": 35,
     "metadata": {},
     "output_type": "execute_result"
    }
   ],
   "source": [
    "\n",
    "AllChem.ReactionFromSmarts('C=C(CCC(=O)O)C(=O)O>>C=C(C(=O)O)C(C)C(=O)O', useSmiles=True)"
   ]
  },
  {
   "cell_type": "code",
   "execution_count": 48,
   "metadata": {},
   "outputs": [
    {
     "name": "stdout",
     "output_type": "stream",
     "text": [
      "----------------------------------------\n",
      "Intializing pickaxe object\n",
      "\n",
      "Done intializing pickaxe object\n",
      "----------------------------------------\n",
      "\n",
      "Loading ../data/raw_expansions/ccm_v0_to_mvacid_gen_4_tan_sample_1_n_samples_1000.pk pickled data.\n",
      "Loaded 58577 compounds\n",
      "Loaded 77962 reactions\n",
      "Loaded 3604 operators\n",
      "Loaded 1 targets\n",
      "Took 4.570807933807373\n"
     ]
    },
    {
     "data": {
      "text/plain": [
       "{'_id': 'R64c06f272a3c7cebb8af1ad13c7d361cc5a57de1cd4bbd607eecbdc1dfcb150a',\n",
       " 'Reactants': [(1, 'X87786109ddfaf26b1b2b7f94e186203ed53d02e0'),\n",
       "  (1, 'Cf7e036e330ad26caa66bb458faad18fa684af921')],\n",
       " 'Products': [(1, 'C24f799b65f77e5bef0585b5d5138bb22868a8c16'),\n",
       "  (1, 'Xe264bf1bbd482e436995855afdf2170ce7229f1d')],\n",
       " 'Operators': {'rule0031_5'},\n",
       " 'SMILES_rxn': '(1) CC(=O)C(=O)O + (1) N[C@@H](CCC(=O)O)C(=O)O => (1) CC(N)C(=O)O + (1) O=C(O)CCC(=O)C(=O)O'}"
      ]
     },
     "execution_count": 48,
     "metadata": {},
     "output_type": "execute_result"
    }
   ],
   "source": [
    "from minedatabase.pickaxe import Pickaxe\n",
    "pk = Pickaxe()\n",
    "pk.load_pickled_pickaxe(\"../data/raw_expansions/ccm_v0_to_mvacid_gen_4_tan_sample_1_n_samples_1000.pk\")\n",
    "pk.reactions[pr.id]"
   ]
  }
 ],
 "metadata": {
  "kernelspec": {
   "display_name": "mine",
   "language": "python",
   "name": "python3"
  },
  "language_info": {
   "codemirror_mode": {
    "name": "ipython",
    "version": 3
   },
   "file_extension": ".py",
   "mimetype": "text/x-python",
   "name": "python",
   "nbconvert_exporter": "python",
   "pygments_lexer": "ipython3",
   "version": "3.7.12"
  }
 },
 "nbformat": 4,
 "nbformat_minor": 2
}
