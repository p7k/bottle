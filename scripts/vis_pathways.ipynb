{
 "cells": [
  {
   "cell_type": "code",
   "execution_count": 69,
   "metadata": {},
   "outputs": [
    {
     "name": "stdout",
     "output_type": "stream",
     "text": [
      "The autoreload extension is already loaded. To reload it, use:\n",
      "  %reload_ext autoreload\n"
     ]
    }
   ],
   "source": [
    "%load_ext autoreload\n",
    "%autoreload 2\n",
    "from src.chem_draw import draw_pwy_svg\n",
    "from src.utils import ensure_dirs\n",
    "import pickle\n",
    "import subprocess\n",
    "import pandas as pd"
   ]
  },
  {
   "cell_type": "code",
   "execution_count": 70,
   "metadata": {},
   "outputs": [],
   "source": [
    "def thresholded_uniprot_strings(path_enzymes, enzyme_validation_threshold):\n",
    "    uniprot_strings = []\n",
    "    for rxn_enzymes in path_enzymes:\n",
    "        if rxn_enzymes:\n",
    "            up_str = \", \".join([e.uniprot_id for e in rxn_enzymes if e.validation_score >= enzyme_validation_threshold])\n",
    "            uniprot_strings.append(up_str)\n",
    "        else:\n",
    "            uniprot_strings.append(None)\n",
    "\n",
    "    return uniprot_strings"
   ]
  },
  {
   "cell_type": "code",
   "execution_count": 71,
   "metadata": {},
   "outputs": [],
   "source": [
    "# Params\n",
    "starters = '2mg'\n",
    "targets = 'mvacid'\n",
    "generations = 2\n",
    "\n",
    "expansion_dir = '../data/processed_expansions/'\n",
    "fn = f\"{starters}_to_{targets}_gen_{generations}_tan_sample_1_n_samples_1000.pkl\" # Expansion file name\n",
    "\n",
    "# Load processed expansions\n",
    "with open(expansion_dir + fn, 'rb') as f:\n",
    "    pe = pickle.load(f)\n"
   ]
  },
  {
   "cell_type": "code",
   "execution_count": 72,
   "metadata": {},
   "outputs": [
    {
     "name": "stdout",
     "output_type": "stream",
     "text": [
      "{('2mg', 'mvacid')}\n"
     ]
    }
   ],
   "source": [
    "print(pe.starter_target_pairs)"
   ]
  },
  {
   "cell_type": "code",
   "execution_count": 100,
   "metadata": {},
   "outputs": [
    {
     "name": "stdout",
     "output_type": "stream",
     "text": [
      "3\n"
     ]
    }
   ],
   "source": [
    "starter = '2mg'\n",
    "target = 'mvacid'\n",
    "enzyme_validation_threshold = 0.9\n",
    "sort_by = ['enzyme_validation', 'prc_mcs']\n",
    "filter_by = {'mdf':0, 'enzyme_validation':enzyme_validation_threshold}\n",
    "\n",
    "paths = pe.get_paths_w_st(starter=starter,\n",
    "                  target=target,\n",
    "                  sort_by=sort_by,\n",
    "                  filter_by=filter_by,\n",
    "                  reduce_predicted_reactions='min'\n",
    "                  )\n",
    "\n",
    "print(len(paths))"
   ]
  },
  {
   "cell_type": "code",
   "execution_count": 101,
   "metadata": {},
   "outputs": [
    {
     "name": "stdout",
     "output_type": "stream",
     "text": [
      "Generating svgs & csv\n",
      "Generating pdfs\n"
     ]
    },
    {
     "name": "stderr",
     "output_type": "stream",
     "text": [
      "Warning: Option --export-pdf= is deprecated\n",
      "Failed to get connection\n",
      "** (org.inkscape.Inkscape:294784): CRITICAL **: 11:21:19.161: dbus_g_proxy_new_for_name: assertion 'connection != NULL' failed\n",
      "\n",
      "** (org.inkscape.Inkscape:294784): CRITICAL **: 11:21:19.161: dbus_g_proxy_call: assertion 'DBUS_IS_G_PROXY (proxy)' failed\n",
      "\n",
      "** (org.inkscape.Inkscape:294784): CRITICAL **: 11:21:19.161: dbus_g_connection_register_g_object: assertion 'connection != NULL' failed\n",
      "Warning: Option --export-pdf= is deprecated\n",
      "Failed to get connection\n",
      "** (org.inkscape.Inkscape:294807): CRITICAL **: 11:21:19.564: dbus_g_proxy_new_for_name: assertion 'connection != NULL' failed\n",
      "\n",
      "** (org.inkscape.Inkscape:294807): CRITICAL **: 11:21:19.564: dbus_g_proxy_call: assertion 'DBUS_IS_G_PROXY (proxy)' failed\n",
      "\n",
      "** (org.inkscape.Inkscape:294807): CRITICAL **: 11:21:19.564: dbus_g_connection_register_g_object: assertion 'connection != NULL' failed\n",
      "Warning: Option --export-pdf= is deprecated\n",
      "Failed to get connection\n",
      "** (org.inkscape.Inkscape:294831): CRITICAL **: 11:21:19.936: dbus_g_proxy_new_for_name: assertion 'connection != NULL' failed\n",
      "\n",
      "** (org.inkscape.Inkscape:294831): CRITICAL **: 11:21:19.936: dbus_g_proxy_call: assertion 'DBUS_IS_G_PROXY (proxy)' failed\n",
      "\n",
      "** (org.inkscape.Inkscape:294831): CRITICAL **: 11:21:19.936: dbus_g_connection_register_g_object: assertion 'connection != NULL' failed\n"
     ]
    },
    {
     "name": "stdout",
     "output_type": "stream",
     "text": [
      "Concatenating pdfs\n",
      "Saving xlsx\n"
     ]
    }
   ],
   "source": [
    "st_pair = (starter, target)\n",
    "sheets = []\n",
    "sheetnames = []\n",
    "\n",
    "# Generate pwy svgs & csv\n",
    "print(\"Generating svgs & csv\")\n",
    "headers = ['id', 'starter', 'target', 'mdf', 'pwy_ave_mcs'] + [f\"mcs_rxn_{g+1}\" for g in range(generations)] + [f\"uniprot_rxn_{g+1}\" for g in range(generations)]\n",
    "pwy_svg_outdir = f\"../artifacts/pwy_svgs/{fn[:-3]}/{'_'.join(st_pair)}/\"\n",
    "ensure_dirs(pwy_svg_outdir)\n",
    "\n",
    "rows_for_sheet = []\n",
    "for path in paths:\n",
    "    row = [] # One path\n",
    "    up_strings = thresholded_uniprot_strings(pe.get_path_enzymes(path), enzyme_validation_threshold)\n",
    "    prc_mcs = pe.get_path_prc_mcs(path) # Top-analogue prc_mcs for each predicted reaction in path \n",
    "    row += [path.id, path.starter, path.target, path.mdf, sum(prc_mcs) / len(prc_mcs)] # Append average prc_mcs\n",
    "\n",
    "    # Append reaction prc_mcs\n",
    "    for g in range(generations):\n",
    "        if g < len(path.reaction_ids):\n",
    "            row.append(prc_mcs[g])\n",
    "        else:\n",
    "            row.append(None)\n",
    "\n",
    "    # Append uniprot strings\n",
    "    for g in range(generations):\n",
    "        if g < len(path.reaction_ids):\n",
    "            row.append(up_strings[g])\n",
    "        else:\n",
    "            row.append(None)\n",
    "\n",
    "    # Draw pathway svg \n",
    "    sma_hash_pairs = []\n",
    "    for prid in path.reaction_ids:\n",
    "        pr = pe.predicted_reactions[prid]\n",
    "        analogue = pr.top_analogue()['analogue']\n",
    "        sma_hash_pairs.append([(pr.smarts, prid), (analogue.smarts, analogue.id)])\n",
    "    \n",
    "    outpath = pwy_svg_outdir + f\"{path.id:04}.svg\"\n",
    "    draw_pwy_svg(sma_hash_pairs, path.id, outpath)\n",
    "\n",
    "    rows_for_sheet.append(row)\n",
    "\n",
    "# Make df for this st pair\n",
    "# sheet = pd.DataFrame\n",
    "sheets.append(pd.DataFrame(rows_for_sheet, columns=headers).set_index('id'))\n",
    "sheetnames.append(\"_\".join(st_pair))\n",
    "\n",
    "# Convert svgs to pdfs\n",
    "print(\"Generating pdfs\")\n",
    "tmp_pdf_outdir = f\"../artifacts/tmp_pdfs/{fn[:-3]}/{'_'.join(st_pair)}/\"\n",
    "ensure_dirs(tmp_pdf_outdir)\n",
    "for path in paths:\n",
    "    cmd = [\"inkscape\", f\"--export-pdf={tmp_pdf_outdir}{path.id:04}.pdf\", f\"{pwy_svg_outdir}{path.id:04}.svg\"]\n",
    "    subprocess.run(cmd)\n",
    "\n",
    "# Concatenate pdfs\n",
    "print(\"Concatenating pdfs\")\n",
    "pwy_pdf_outdir = f\"../artifacts/pwy_pdfs/{fn[:-3]}/\"\n",
    "ensure_dirs(pwy_pdf_outdir)\n",
    "cat_pdf_fn = pwy_pdf_outdir + '_'.join(st_pair) + '.pdf'\n",
    "individual_pwys = [f\"{tmp_pdf_outdir}{path.id:04}.pdf\" for path in paths]\n",
    "\n",
    "cmd = [\"pdfunite\", *individual_pwys, cat_pdf_fn]\n",
    "subprocess.run(cmd)\n",
    "\n",
    "# Concatenate sheets into xls\n",
    "print(\"Saving xlsx\")\n",
    "writer = pd.ExcelWriter(f\"../artifacts/pwy_xls/{fn[:-3]}\" + '.xlsx') # Arbitrary output name\n",
    "for i, df in enumerate(sheets):\n",
    "    df.to_excel(writer, sheet_name=sheetnames[i])\n",
    "writer.save()\n",
    "\n",
    "# Remove stuff\n",
    "dirs = ['../artifacts/' + elt for elt in ['tmp_pdfs', 'rxn_svgs', 'pwy_svgs', 'mol_svgs']]\n",
    "for elt in dirs:\n",
    "    subprocess.run([f\"rm -r {elt}/*\"], shell=True)"
   ]
  },
  {
   "cell_type": "code",
   "execution_count": 102,
   "metadata": {},
   "outputs": [
    {
     "data": {
      "text/html": [
       "<div>\n",
       "<style scoped>\n",
       "    .dataframe tbody tr th:only-of-type {\n",
       "        vertical-align: middle;\n",
       "    }\n",
       "\n",
       "    .dataframe tbody tr th {\n",
       "        vertical-align: top;\n",
       "    }\n",
       "\n",
       "    .dataframe thead th {\n",
       "        text-align: right;\n",
       "    }\n",
       "</style>\n",
       "<table border=\"1\" class=\"dataframe\">\n",
       "  <thead>\n",
       "    <tr style=\"text-align: right;\">\n",
       "      <th></th>\n",
       "      <th>starter</th>\n",
       "      <th>target</th>\n",
       "      <th>mdf</th>\n",
       "      <th>pwy_ave_mcs</th>\n",
       "      <th>mcs_rxn_1</th>\n",
       "      <th>mcs_rxn_2</th>\n",
       "      <th>uniprot_rxn_1</th>\n",
       "      <th>uniprot_rxn_2</th>\n",
       "    </tr>\n",
       "    <tr>\n",
       "      <th>id</th>\n",
       "      <th></th>\n",
       "      <th></th>\n",
       "      <th></th>\n",
       "      <th></th>\n",
       "      <th></th>\n",
       "      <th></th>\n",
       "      <th></th>\n",
       "      <th></th>\n",
       "    </tr>\n",
       "  </thead>\n",
       "  <tbody>\n",
       "    <tr>\n",
       "      <th>7</th>\n",
       "      <td>2mg</td>\n",
       "      <td>mvacid</td>\n",
       "      <td>55.004919</td>\n",
       "      <td>0.000000</td>\n",
       "      <td>0.000000</td>\n",
       "      <td>0.0</td>\n",
       "      <td>Q7WKM5, A3Q5P5, A1SMQ5, Q2S3H9, A1BE51, Q5LCW4...</td>\n",
       "      <td>Q8WVX9</td>\n",
       "    </tr>\n",
       "    <tr>\n",
       "      <th>15</th>\n",
       "      <td>2mg</td>\n",
       "      <td>mvacid</td>\n",
       "      <td>9.351731</td>\n",
       "      <td>0.000000</td>\n",
       "      <td>0.000000</td>\n",
       "      <td>0.0</td>\n",
       "      <td>Q9JID6, P33121, P97524, O14975, P18163, P41216...</td>\n",
       "      <td>Q8WVX9</td>\n",
       "    </tr>\n",
       "    <tr>\n",
       "      <th>2</th>\n",
       "      <td>2mg</td>\n",
       "      <td>mvacid</td>\n",
       "      <td>45.789952</td>\n",
       "      <td>0.355392</td>\n",
       "      <td>0.710784</td>\n",
       "      <td>0.0</td>\n",
       "      <td>B3EY95</td>\n",
       "      <td>Q8WVX9</td>\n",
       "    </tr>\n",
       "  </tbody>\n",
       "</table>\n",
       "</div>"
      ],
      "text/plain": [
       "   starter  target        mdf  pwy_ave_mcs  mcs_rxn_1  mcs_rxn_2  \\\n",
       "id                                                                 \n",
       "7      2mg  mvacid  55.004919     0.000000   0.000000        0.0   \n",
       "15     2mg  mvacid   9.351731     0.000000   0.000000        0.0   \n",
       "2      2mg  mvacid  45.789952     0.355392   0.710784        0.0   \n",
       "\n",
       "                                        uniprot_rxn_1 uniprot_rxn_2  \n",
       "id                                                                   \n",
       "7   Q7WKM5, A3Q5P5, A1SMQ5, Q2S3H9, A1BE51, Q5LCW4...        Q8WVX9  \n",
       "15  Q9JID6, P33121, P97524, O14975, P18163, P41216...        Q8WVX9  \n",
       "2                                              B3EY95        Q8WVX9  "
      ]
     },
     "execution_count": 102,
     "metadata": {},
     "output_type": "execute_result"
    }
   ],
   "source": [
    "df.head()"
   ]
  }
 ],
 "metadata": {
  "kernelspec": {
   "display_name": "mine",
   "language": "python",
   "name": "python3"
  },
  "language_info": {
   "codemirror_mode": {
    "name": "ipython",
    "version": 3
   },
   "file_extension": ".py",
   "mimetype": "text/x-python",
   "name": "python",
   "nbconvert_exporter": "python",
   "pygments_lexer": "ipython3",
   "version": "3.7.12"
  }
 },
 "nbformat": 4,
 "nbformat_minor": 2
}
