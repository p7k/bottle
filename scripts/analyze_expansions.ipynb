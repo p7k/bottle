{
 "cells": [
  {
   "cell_type": "code",
   "execution_count": 20,
   "metadata": {},
   "outputs": [],
   "source": [
    "import numpy as np\n",
    "import pandas as pd\n",
    "import csv\n",
    "import sys\n",
    "from rdkit import Chem\n",
    "from rdkit.Chem import AllChem\n",
    "from rdkit.Chem.Draw import IPythonConsole\n",
    "from rdkit.Chem.Draw.MolDrawing import MolDrawing, DrawingOptions\n",
    "sys.path.append(\"/home/stef/Tb/reaction_mapping\")\n",
    "from utils import sanitize\n",
    "from collections import defaultdict"
   ]
  },
  {
   "cell_type": "code",
   "execution_count": 2,
   "metadata": {},
   "outputs": [],
   "source": [
    "# Was the target found?\n",
    "expansion_dir = \"/home/stef/Tb/bottle/expansions/dvl_to_mvl/2gen_imt_rules_unfiltered/\"\n",
    "starter = 'O=C1CCCCO1'\n",
    "target = 'C=C1CCCOC1=O'\n",
    "\n",
    "\n",
    "cpds = pd.read_csv(expansion_dir + 'compounds.tsv', delimiter='\\t')\n",
    "rxns = pd.read_csv(expansion_dir + 'reactions.tsv', delimiter='\\t')\n",
    "# rxns.loc[:,\"SMILES equation\"] = rxns.loc[:,\"SMILES equation\"].apply(lambda x : x.split(' '))\n",
    "# target_in = rxns.loc[:, \"SMILES equation\"].apply(lambda x : target in x)\n",
    "# rxns_w_target = rxns[target_in]\n",
    "# rxns_w_target"
   ]
  },
  {
   "cell_type": "code",
   "execution_count": 3,
   "metadata": {},
   "outputs": [],
   "source": [
    "\n",
    "def rxns_w_product(pid, rxn_df):\n",
    "    rxn_df = rxn_df.copy()\n",
    "    pid += '[c0]'\n",
    "    rxn_df.loc[:,\"ID equation\"] = rxn_df.loc[:,\"ID equation\"].apply(lambda x : x.split('=>')[-1].split(' '))\n",
    "    product_in = rxn_df.loc[:, \"ID equation\"].apply(lambda x : pid in x)\n",
    "    sel_rxns = rxn_df[product_in]\n",
    "    sel_rxns = list(sel_rxns[\"ID\"])\n",
    "    return sel_rxns\n",
    "\n",
    "def reactant_of_rxn(rid, starter_id, rxn_df):\n",
    "    rxn_df = rxn_df.copy()\n",
    "    rxn_df.loc[:,\"ID equation\"] = rxn_df.loc[:,\"ID equation\"].apply(lambda x : x.split('=>')[0].split(' '))\n",
    "    reactants = list(rxn_df[rxn_df[\"ID\"] == rid][\"ID equation\"])[0]\n",
    "    for elt in reactants:\n",
    "        if (\"pkc\" in elt) or ((starter_id in elt)):\n",
    "            return elt[:-4]"
   ]
  },
  {
   "cell_type": "code",
   "execution_count": 4,
   "metadata": {},
   "outputs": [],
   "source": [
    "target_id = cpds[cpds[\"SMILES\"] == target][\"ID\"].to_numpy()[0]\n",
    "starter_id = cpds[cpds[\"SMILES\"] == starter][\"ID\"].to_numpy()[0]\n",
    "gen2_rxns_ids = rxns_w_product(target_id, rxns)\n",
    "rxns.loc[rxns[\"ID\"].isin(gen2_rxns_ids)]\n",
    "gen2_reactants = [reactant_of_rxn(elt, starter_id, rxns) for elt in gen2_rxns_ids]\n",
    "gen1_rxns_ids = [rxns_w_product(elt, rxns) for elt in gen2_reactants]\n",
    "gen1_reactants = []\n",
    "for elt in gen1_rxns_ids:\n",
    "    gen1_reactants.append([reactant_of_rxn(elt2, starter_id, rxns) for elt2 in elt])\n",
    "\n",
    "pathways = []\n",
    "for i, elt in enumerate(gen1_reactants):\n",
    "    temp = []\n",
    "    for subelt in elt:\n",
    "        if subelt == starter_id:\n",
    "            temp.append(gen1_rxns_ids[i][elt.index(subelt)])\n",
    "    \n",
    "    if len(temp) > 0:\n",
    "        for subelt in temp:\n",
    "            pathways.append((subelt, gen2_rxns_ids[i]))\n",
    "\n",
    "pathways = list(set(pathways))\n"
   ]
  },
  {
   "cell_type": "code",
   "execution_count": 5,
   "metadata": {},
   "outputs": [
    {
     "data": {
      "text/plain": [
       "[('pkr0027397', 'pkr0039063'),\n",
       " ('pkr0010825', 'pkr0036414'),\n",
       " ('pkr0013462', 'pkr0001060'),\n",
       " ('pkr0027397', 'pkr0004817'),\n",
       " ('pkr0032215', 'pkr0019314')]"
      ]
     },
     "execution_count": 5,
     "metadata": {},
     "output_type": "execute_result"
    }
   ],
   "source": [
    "pathways"
   ]
  },
  {
   "cell_type": "code",
   "execution_count": 6,
   "metadata": {},
   "outputs": [
    {
     "data": {
      "text/html": [
       "<div>\n",
       "<style scoped>\n",
       "    .dataframe tbody tr th:only-of-type {\n",
       "        vertical-align: middle;\n",
       "    }\n",
       "\n",
       "    .dataframe tbody tr th {\n",
       "        vertical-align: top;\n",
       "    }\n",
       "\n",
       "    .dataframe thead th {\n",
       "        text-align: right;\n",
       "    }\n",
       "</style>\n",
       "<table border=\"1\" class=\"dataframe\">\n",
       "  <thead>\n",
       "    <tr style=\"text-align: right;\">\n",
       "      <th></th>\n",
       "      <th>Name</th>\n",
       "      <th>ID equation</th>\n",
       "      <th>SMILES equation</th>\n",
       "      <th>Rxn hash</th>\n",
       "      <th>Reaction rules</th>\n",
       "    </tr>\n",
       "    <tr>\n",
       "      <th>ID</th>\n",
       "      <th></th>\n",
       "      <th></th>\n",
       "      <th></th>\n",
       "      <th></th>\n",
       "      <th></th>\n",
       "    </tr>\n",
       "  </thead>\n",
       "  <tbody>\n",
       "    <tr>\n",
       "      <th>pkr0000001</th>\n",
       "      <td>NaN</td>\n",
       "      <td>(1) FAD_CoF[c0] + (1) pkc0000101[c0] + (1) WAT...</td>\n",
       "      <td>(1) O=C1OC2CCC1O2 + (1) O + (1) Cc1cc2nc3c(=O)...</td>\n",
       "      <td>R0002a09151ea80f2aff90f127d76ff9ecafa5e7dee6d1...</td>\n",
       "      <td>rule0425</td>\n",
       "    </tr>\n",
       "    <tr>\n",
       "      <th>pkr0000002</th>\n",
       "      <td>NaN</td>\n",
       "      <td>(2) pkc0000017[c0] + (1) O2[c0] =&gt; (1) pkc0013...</td>\n",
       "      <td>(2) NC1CCC(Cl)CO1 + (1) O=O =&gt; (1) NC1CC(O)C(C...</td>\n",
       "      <td>R0003468ec19aee3a88c0ebdb5d7c8a06af8ba5b71bf2e...</td>\n",
       "      <td>rule0285_25</td>\n",
       "    </tr>\n",
       "    <tr>\n",
       "      <th>pkr0000003</th>\n",
       "      <td>NaN</td>\n",
       "      <td>(1) pkc0000026[c0] + (1) WATER[c0] =&gt; (1) pkc0...</td>\n",
       "      <td>(1) CC(C)(COP(=O)(O)OP(=O)(O)OCC1OC(n2cnc3c(N)...</td>\n",
       "      <td>R0004e240efc8c4ed8ec496725a749dba6a7e6ba4353d0...</td>\n",
       "      <td>rule0822</td>\n",
       "    </tr>\n",
       "    <tr>\n",
       "      <th>pkr0000004</th>\n",
       "      <td>NaN</td>\n",
       "      <td>(1) pkc0000026[c0] =&gt; (1) pkc0002095[c0]</td>\n",
       "      <td>(1) CC(C)(COP(=O)(O)OP(=O)(O)OCC1OC(n2cnc3c(N)...</td>\n",
       "      <td>R0005c052918b81bdaf7c73b7e61110b06cfe32ea9d1e0...</td>\n",
       "      <td>rule0028_120</td>\n",
       "    </tr>\n",
       "    <tr>\n",
       "      <th>pkr0000005</th>\n",
       "      <td>NaN</td>\n",
       "      <td>(1) HI[c0] + (1) pkc0000049[c0] + (1) NAD_CoF[...</td>\n",
       "      <td>(1) O=C1CC2OC2CO1 + (1) NC(=O)c1ccc[n+](C2OC(C...</td>\n",
       "      <td>R0005fe5d1f9a02112c5e02e3f791531d4f51e9d95d673...</td>\n",
       "      <td>rule0841</td>\n",
       "    </tr>\n",
       "  </tbody>\n",
       "</table>\n",
       "</div>"
      ],
      "text/plain": [
       "            Name                                        ID equation  \\\n",
       "ID                                                                    \n",
       "pkr0000001   NaN  (1) FAD_CoF[c0] + (1) pkc0000101[c0] + (1) WAT...   \n",
       "pkr0000002   NaN  (2) pkc0000017[c0] + (1) O2[c0] => (1) pkc0013...   \n",
       "pkr0000003   NaN  (1) pkc0000026[c0] + (1) WATER[c0] => (1) pkc0...   \n",
       "pkr0000004   NaN           (1) pkc0000026[c0] => (1) pkc0002095[c0]   \n",
       "pkr0000005   NaN  (1) HI[c0] + (1) pkc0000049[c0] + (1) NAD_CoF[...   \n",
       "\n",
       "                                              SMILES equation  \\\n",
       "ID                                                              \n",
       "pkr0000001  (1) O=C1OC2CCC1O2 + (1) O + (1) Cc1cc2nc3c(=O)...   \n",
       "pkr0000002  (2) NC1CCC(Cl)CO1 + (1) O=O => (1) NC1CC(O)C(C...   \n",
       "pkr0000003  (1) CC(C)(COP(=O)(O)OP(=O)(O)OCC1OC(n2cnc3c(N)...   \n",
       "pkr0000004  (1) CC(C)(COP(=O)(O)OP(=O)(O)OCC1OC(n2cnc3c(N)...   \n",
       "pkr0000005  (1) O=C1CC2OC2CO1 + (1) NC(=O)c1ccc[n+](C2OC(C...   \n",
       "\n",
       "                                                     Rxn hash Reaction rules  \n",
       "ID                                                                            \n",
       "pkr0000001  R0002a09151ea80f2aff90f127d76ff9ecafa5e7dee6d1...       rule0425  \n",
       "pkr0000002  R0003468ec19aee3a88c0ebdb5d7c8a06af8ba5b71bf2e...    rule0285_25  \n",
       "pkr0000003  R0004e240efc8c4ed8ec496725a749dba6a7e6ba4353d0...       rule0822  \n",
       "pkr0000004  R0005c052918b81bdaf7c73b7e61110b06cfe32ea9d1e0...   rule0028_120  \n",
       "pkr0000005  R0005fe5d1f9a02112c5e02e3f791531d4f51e9d95d673...       rule0841  "
      ]
     },
     "execution_count": 6,
     "metadata": {},
     "output_type": "execute_result"
    }
   ],
   "source": [
    "rxns = rxns.set_index(\"ID\")\n",
    "rxns.head()"
   ]
  },
  {
   "cell_type": "code",
   "execution_count": 8,
   "metadata": {},
   "outputs": [],
   "source": [
    "# Show rules & associated ec numbers\n",
    "rule_pathways = []\n",
    "ec_pathways = []\n",
    "imt_ec_fn = '/home/stef/Tb/reaction_mapping/analysis_data_wrangling/imt_rules_top_ec_numbers.csv'\n",
    "min_ec_fn = '/home/stef/Tb/reaction_mapping/analysis_data_wrangling/min_rules_top_ec_numbers.csv'\n",
    "imt2ec = pd.read_csv(imt_ec_fn, delimiter=',')\n",
    "min2ec = pd.read_csv(min_ec_fn, delimiter=',')\n",
    "imt2ec = imt2ec.set_index(\"rule\")\n",
    "min2ec = min2ec.set_index(\"rule\")\n",
    "for elt in pathways:\n",
    "    this_rule_path = (rxns.loc[elt[0], [\"Reaction rules\"]][0], rxns.loc[elt[1], [\"Reaction rules\"]][0])\n",
    "    rule_pathways.append(this_rule_path)\n",
    "    this_ec_path = []\n",
    "    for rule in this_rule_path:\n",
    "        if rule in imt2ec.index.to_list():\n",
    "            this_ec_path.append(imt2ec.loc[rule, \"top_3rd_digit\"])\n",
    "        elif rule in min2ec.index.to_list():\n",
    "            this_ec_path.append(min2ec.loc[rule, \"top_3rd_digit\"])\n",
    "        else:\n",
    "            this_ec_path.append(None)\n",
    "    ec_pathways.append(this_ec_path)\n",
    "\n"
   ]
  },
  {
   "cell_type": "code",
   "execution_count": 9,
   "metadata": {},
   "outputs": [
    {
     "data": {
      "text/plain": [
       "[['2.1.1', None],\n",
       " [None, '2.1.1'],\n",
       " ['2.5.1', None],\n",
       " ['2.1.1', None],\n",
       " [None, None]]"
      ]
     },
     "execution_count": 9,
     "metadata": {},
     "output_type": "execute_result"
    }
   ],
   "source": [
    "ec_pathways"
   ]
  },
  {
   "cell_type": "markdown",
   "metadata": {},
   "source": [
    "Get empirical reactions mapped by rules."
   ]
  },
  {
   "cell_type": "code",
   "execution_count": 36,
   "metadata": {},
   "outputs": [],
   "source": [
    "mapping_dir = '/home/stef/Tb/reaction_mapping/mapping/results/'\n",
    "imt_fns = ['mapping_mc_v21_imt_rules_enforce_cof.csv', 'mapping_brenda_imt_rules_enforce_cof.csv', 'mapping_kegg_imt_rules_enforce_cof.csv']\n",
    "min_mc_fn = 'mapping_mc_v21_min_rules_enforce_cof.csv'\n",
    "db_keys = [elt.split('_')[1] for elt in imt_fns]\n",
    "rule2db2rxn = defaultdict(lambda : defaultdict(list))\n",
    "for i,fn in enumerate(imt_fns):\n",
    "    with open(mapping_dir + fn, 'r') as f:\n",
    "        reader = csv.reader(f, delimiter=',')\n",
    "        for row in reader:\n",
    "            temp.append(row)\n",
    "            if len(row) > 1:\n",
    "                for rule in row[1:]:\n",
    "                    rule2db2rxn[rule][db_keys[i]].append(row[0])\n",
    "\n",
    "with open(mapping_dir + min_mc_fn, 'r') as f:\n",
    "        reader = csv.reader(f, delimiter=',')\n",
    "        for row in reader:\n",
    "            temp.append(row)\n",
    "            if len(row) > 1:\n",
    "                for rule in row[1:]:\n",
    "                    rule2db2rxn[rule][db_keys[0]].append(row[0])\n",
    "        \n"
   ]
  },
  {
   "cell_type": "code",
   "execution_count": 45,
   "metadata": {},
   "outputs": [
    {
     "name": "stdout",
     "output_type": "stream",
     "text": [
      "0 rule0043_12 defaultdict(<class 'list'>, {'mc': ['RXN-11456_reverse', 'RXN-14468_reverse', 'RXN-16336_reverse', 'RXN-12975_reverse', 'RXN-17530_reverse', 'RXN-11456_reverse', 'RXN-14468_reverse', 'RXN-16336_reverse', 'RXN-12975_reverse', 'RXN-17530_reverse'], 'brenda': ['2.1.1.255_1', '2.1.1.281 ()_1'], 'kegg': ['R01972', 'R01973', 'R09939', 'R09940']})\n",
      "0 rule0288_6* defaultdict(<class 'list'>, {'mc': ['RXN-9305_reverse', 'RXN-9304_reverse', 'MEPROPCOA-FAD-RXN_reverse', 'RXN-9293', 'RXN-9303_reverse', 'RXN-14264_reverse', 'RXN-12572_reverse', 'RXN-12258_reverse']})\n",
      "1 rule0018_8* defaultdict(<class 'list'>, {'mc': ['CHOLESTENONE-5-BETA-REDUCTASE-RXN_reverse', 'RXN-9840', '2-ENOATE-REDUCTASE-RXN_reverse', 'RXN-5041_reverse', 'RXN-4502_reverse', 'RXN-13476_reverse', 'RXN-17400_reverse', '1.3.1.54-RXN_reverse', 'RXN-4282_reverse', 'RXN-3562_reverse', 'RXN-711_reverse', 'ZEATIN-REDUCTASE-RXN_reverse', 'RXN-17230_reverse', 'RXN-18138_reverse', 'RXN-12295', 'RXN-10095_reverse', 'CORTISONE-BETA-REDUCTASE-RXN_reverse', 'RXN-9907_reverse', 'RXN-8459', 'RXN-10094_reverse', 'CORTISONE-ALPHA-REDUCTASE-RXN_reverse', 'RXN-18464_reverse', 'RXN-9854_reverse', 'RXN66-321_reverse', 'RXN-18463_reverse', 'RXN-9837', 'TRANS-2-ENOYL-COA-REDUCTASE-NAD+-RXN_reverse', 'BETA-NITROACRYLATE-REDUCTASE-RXN_reverse', 'RXN-12456_reverse', 'RXN-13308_reverse', 'RXN-12292', 'RXN-8796', 'RXN-7711_reverse', 'RXN66-27_reverse', 'RXN-12558_reverse', 'DIHYDROURACIL-DEHYDROGENASE-NAD+-RXN_reverse', '1.3.1.73-RXN_reverse', 'RXN-12453_reverse', '1.3.1.20-RXN_reverse', 'RXN-9563_reverse', 'RXN-707_reverse', 'RXN1F-16', 'RXN-13891_reverse', 'RXN-16265_reverse', 'RXN-11878_reverse', 'CUCURBITACIN-DELTA-23-REDUCTASE-RXN_reverse', 'RXN-12281', 'RXN-5164_reverse', 'RXN-5161_reverse', 'RXN-17535_reverse', 'RXN-11209_reverse', 'RXN-7658', 'RXN-14536_reverse', 'RXN-9146_reverse', 'DHBDEHYD-RXN_reverse', '1.3.1.18-RXN_reverse', 'RXN-11467_reverse', 'RXN-9880_reverse', 'OROTATE-REDUCTASE-NADH-RXN_reverse', 'BADEL6OXRED-RXN_reverse', 'RXN-12940_reverse', 'RXN-4224', 'RXN-9495_reverse', 'MESO-TARTRATE-DEHYDROGENASE-RXN_reverse', 'RXN-9971_reverse', 'RXN-17235_reverse', 'RXN-16114_reverse', 'RXN-9859_reverse', 'FUMARATE-REDUCTASE-NADH-RXN_reverse', 'RXN66-482', 'RXN-16097_reverse', 'RXN-16546', '15-OXOPROSTAGLANDIN-13-REDUCTASE-RXN_reverse', 'RXN-9726', 'TOLUENE-DIOL-DEHYDROGENASE-RXN', 'RXN-17524_reverse', 'RXN-7665', 'RXN-11640', 'RXN-10709', '1.3.1.56-RXN_reverse', 'RXN-4210_reverse', 'RXN5F9-56_reverse', 'RXN0-5101', 'RXN-17340_reverse', 'RXN-13882', 'RXN-12476_reverse', 'RXN-4242_reverse', 'RXN-17304_reverse', 'RXN-12455_reverse', '1.3.1.29-RXN', 'RXN-665_reverse', 'RXN-9565', 'RXN-13893', 'RXN-17231_reverse', 'RXN-12296', 'COUMARATE-REDUCTASE-RXN', 'MALEYLACETATE-REDUCTASE-RXN_reverse', 'RXN-13307_reverse', 'RXN-17245_reverse', 'RXN-8568_reverse', 'RXN0-6565_reverse', 'CHOLESTENONE-5-ALPHA-REDUCTASE-RXN_reverse', 'PHENPRODIOLDEHYDROG-RXN_reverse', 'RXN-12971', 'TRANSENOYLCOARED-RXN_reverse', 'RXN-13306_reverse', 'RXN-16156_reverse', 'RXN66-323_reverse', 'RXN-9794', 'RXN-8795', 'RXN66-10', 'RXN-14675', 'RXN-8794', 'RXN-11696_reverse', 'RXN-7660', 'RXN-17416_reverse', 'RXN-9087_reverse', 'RXN-12457_reverse', '1.3.1.49-RXN_reverse', '3-METHYLENEOXINDOLE-REDUCTASE-RXN_reverse', 'RXN-7659', 'RXN-9567', 'RXN-12997_reverse', 'DIENOYLCOAREDUCT-RXN_reverse', 'RXN-18345_reverse', '1.3.1.71-RXN_reverse', 'RXN-12452_reverse', '1.3.1.2-RXN_reverse', 'RXN0-1281_reverse', 'RXN-3766_reverse', 'RXN-13309_reverse', 'RXN-4229_reverse', '1.3.1.19-RXN_reverse', 'RXN-4144_reverse', 'RXN-7227', 'RXN-12293', 'RXN-10093_reverse', 'RXN-17242_reverse', 'RXN-9836_reverse', 'RXN-11726_reverse', 'RXN-16539', 'RXN-9882_reverse', 'RXN66-28', 'RXN-15641', '2-AMINOMUCONATE-REDUCTASE-RXN_reverse', 'RXN-5163_reverse', 'RXN-12559_reverse', '12-OXOPHYTODIENOATE-REDUCTASE-RXN_reverse', 'RXN66-343', 'CHLOROBENDDH-RXN_reverse', 'RXN-16513_reverse', 'RXN-14486', 'RXN-12475_reverse', 'OROTATE-REDUCTASE-NADPH-RXN_reverse', 'RXN66-14', 'RXN-14535_reverse', 'RXN-8250', 'RXN-12454_reverse', 'BAI3OXO-OXRED-RXN_reverse', '2-HEXADECENAL-REDUCTASE-RXN_reverse', 'RXN-9564', 'RXN-708', '1.3.1.66-RXN_reverse', '1.3.1.64-RXN_reverse', 'RXN-7224_reverse', 'RXN-9546_reverse', 'RXN-10423_reverse', 'PROGESTERONE-5-ALPHA-REDUCTASE-RXN_reverse', 'UDPNACETYLMURAMATEDEHYDROG-RXN_reverse', 'RXN-18126_reverse', 'RXN-9879_reverse', 'RXN0-6677', 'RXN-12742_reverse', 'RXN0-6676', 'BILIVERDIN-REDUCTASE-RXN_reverse', 'RXN-12071', 'BADEL4OXRED-RXN_reverse', '1.3.99.5-RXN_reverse', 'RXN-17403_reverse', 'DIMETHUROPORDEHYDROG-RXN_reverse', '1.3.1.62-RXN_reverse', 'RXN-14495', 'RXN-17364_reverse', 'RXN-17402_reverse', '1.3.1.60-RXN', 'RXN-17342', 'RXN-13884_reverse', 'RXN-16298_reverse', 'RXN-8053_reverse', 'RXN-643', 'RXN-16131_reverse', 'RXN-14194_reverse', 'RXN-17111_reverse']})\n",
      "1 rule0546 defaultdict(<class 'list'>, {'mc': ['2.1.1.16-RXN_reverse', 'RXN3O-178_reverse', 'RXN-4021_reverse']})\n",
      "2 rule0110_5 defaultdict(<class 'list'>, {'mc': ['RXN-5111', 'RXN-8382_reverse', 'RXN-7781', 'RXN-14631_reverse', 'RXN-7780', 'RXN-7779', 'RXN-7226', '2.5.1.70-RXN', 'RXN-4510', 'RXN-7142', 'RXN-16105', 'RXN-18497_reverse', 'RXN-15417', 'RXN-7225', 'RXN-7143', 'RXN-4509', 'RXN-5111', 'RXN-8382_reverse', 'RXN-7781', 'RXN-14631_reverse', 'RXN-7780', 'RXN-7779', 'RXN-7226', '2.5.1.70-RXN', 'RXN-4510', 'RXN-7142', 'RXN-16105', 'RXN-18497_reverse', 'RXN-15417', 'RXN-7225', 'RXN-7143', 'RXN-4509'], 'brenda': ['2.5.1.109 ()_3', '2.5.1.111_00', '2.5.1.111_03', '2.5.1.111_12', '2.5.1.111_15', '2.5.1.111_17', '2.5.1.34_27', '2.5.1.70_0', '2.5.1.70_1', '2.5.1.70_5', '2.5.1.80_00', '2.5.1.80_05', '2.5.1.80_70', '2.5.1.80_72', '2.5.1.80_73'], 'kegg': ['R06757', 'R07271', 'R07272', 'R08951']})\n",
      "2 rule0292_3* defaultdict(<class 'list'>, {'mc': ['RXN-15774_reverse', 'RXN-15771_reverse', 'RXN-15768_reverse', 'RXN-15773_reverse', 'RXN-15772_reverse', 'RXN-15770', 'RXN-15769', 'RXN-15767_reverse']})\n",
      "3 rule0043_12 defaultdict(<class 'list'>, {'mc': ['RXN-11456_reverse', 'RXN-14468_reverse', 'RXN-16336_reverse', 'RXN-12975_reverse', 'RXN-17530_reverse', 'RXN-11456_reverse', 'RXN-14468_reverse', 'RXN-16336_reverse', 'RXN-12975_reverse', 'RXN-17530_reverse'], 'brenda': ['2.1.1.255_1', '2.1.1.281 ()_1'], 'kegg': ['R01972', 'R01973', 'R09939', 'R09940']})\n",
      "3 rule0018_8* defaultdict(<class 'list'>, {'mc': ['CHOLESTENONE-5-BETA-REDUCTASE-RXN_reverse', 'RXN-9840', '2-ENOATE-REDUCTASE-RXN_reverse', 'RXN-5041_reverse', 'RXN-4502_reverse', 'RXN-13476_reverse', 'RXN-17400_reverse', '1.3.1.54-RXN_reverse', 'RXN-4282_reverse', 'RXN-3562_reverse', 'RXN-711_reverse', 'ZEATIN-REDUCTASE-RXN_reverse', 'RXN-17230_reverse', 'RXN-18138_reverse', 'RXN-12295', 'RXN-10095_reverse', 'CORTISONE-BETA-REDUCTASE-RXN_reverse', 'RXN-9907_reverse', 'RXN-8459', 'RXN-10094_reverse', 'CORTISONE-ALPHA-REDUCTASE-RXN_reverse', 'RXN-18464_reverse', 'RXN-9854_reverse', 'RXN66-321_reverse', 'RXN-18463_reverse', 'RXN-9837', 'TRANS-2-ENOYL-COA-REDUCTASE-NAD+-RXN_reverse', 'BETA-NITROACRYLATE-REDUCTASE-RXN_reverse', 'RXN-12456_reverse', 'RXN-13308_reverse', 'RXN-12292', 'RXN-8796', 'RXN-7711_reverse', 'RXN66-27_reverse', 'RXN-12558_reverse', 'DIHYDROURACIL-DEHYDROGENASE-NAD+-RXN_reverse', '1.3.1.73-RXN_reverse', 'RXN-12453_reverse', '1.3.1.20-RXN_reverse', 'RXN-9563_reverse', 'RXN-707_reverse', 'RXN1F-16', 'RXN-13891_reverse', 'RXN-16265_reverse', 'RXN-11878_reverse', 'CUCURBITACIN-DELTA-23-REDUCTASE-RXN_reverse', 'RXN-12281', 'RXN-5164_reverse', 'RXN-5161_reverse', 'RXN-17535_reverse', 'RXN-11209_reverse', 'RXN-7658', 'RXN-14536_reverse', 'RXN-9146_reverse', 'DHBDEHYD-RXN_reverse', '1.3.1.18-RXN_reverse', 'RXN-11467_reverse', 'RXN-9880_reverse', 'OROTATE-REDUCTASE-NADH-RXN_reverse', 'BADEL6OXRED-RXN_reverse', 'RXN-12940_reverse', 'RXN-4224', 'RXN-9495_reverse', 'MESO-TARTRATE-DEHYDROGENASE-RXN_reverse', 'RXN-9971_reverse', 'RXN-17235_reverse', 'RXN-16114_reverse', 'RXN-9859_reverse', 'FUMARATE-REDUCTASE-NADH-RXN_reverse', 'RXN66-482', 'RXN-16097_reverse', 'RXN-16546', '15-OXOPROSTAGLANDIN-13-REDUCTASE-RXN_reverse', 'RXN-9726', 'TOLUENE-DIOL-DEHYDROGENASE-RXN', 'RXN-17524_reverse', 'RXN-7665', 'RXN-11640', 'RXN-10709', '1.3.1.56-RXN_reverse', 'RXN-4210_reverse', 'RXN5F9-56_reverse', 'RXN0-5101', 'RXN-17340_reverse', 'RXN-13882', 'RXN-12476_reverse', 'RXN-4242_reverse', 'RXN-17304_reverse', 'RXN-12455_reverse', '1.3.1.29-RXN', 'RXN-665_reverse', 'RXN-9565', 'RXN-13893', 'RXN-17231_reverse', 'RXN-12296', 'COUMARATE-REDUCTASE-RXN', 'MALEYLACETATE-REDUCTASE-RXN_reverse', 'RXN-13307_reverse', 'RXN-17245_reverse', 'RXN-8568_reverse', 'RXN0-6565_reverse', 'CHOLESTENONE-5-ALPHA-REDUCTASE-RXN_reverse', 'PHENPRODIOLDEHYDROG-RXN_reverse', 'RXN-12971', 'TRANSENOYLCOARED-RXN_reverse', 'RXN-13306_reverse', 'RXN-16156_reverse', 'RXN66-323_reverse', 'RXN-9794', 'RXN-8795', 'RXN66-10', 'RXN-14675', 'RXN-8794', 'RXN-11696_reverse', 'RXN-7660', 'RXN-17416_reverse', 'RXN-9087_reverse', 'RXN-12457_reverse', '1.3.1.49-RXN_reverse', '3-METHYLENEOXINDOLE-REDUCTASE-RXN_reverse', 'RXN-7659', 'RXN-9567', 'RXN-12997_reverse', 'DIENOYLCOAREDUCT-RXN_reverse', 'RXN-18345_reverse', '1.3.1.71-RXN_reverse', 'RXN-12452_reverse', '1.3.1.2-RXN_reverse', 'RXN0-1281_reverse', 'RXN-3766_reverse', 'RXN-13309_reverse', 'RXN-4229_reverse', '1.3.1.19-RXN_reverse', 'RXN-4144_reverse', 'RXN-7227', 'RXN-12293', 'RXN-10093_reverse', 'RXN-17242_reverse', 'RXN-9836_reverse', 'RXN-11726_reverse', 'RXN-16539', 'RXN-9882_reverse', 'RXN66-28', 'RXN-15641', '2-AMINOMUCONATE-REDUCTASE-RXN_reverse', 'RXN-5163_reverse', 'RXN-12559_reverse', '12-OXOPHYTODIENOATE-REDUCTASE-RXN_reverse', 'RXN66-343', 'CHLOROBENDDH-RXN_reverse', 'RXN-16513_reverse', 'RXN-14486', 'RXN-12475_reverse', 'OROTATE-REDUCTASE-NADPH-RXN_reverse', 'RXN66-14', 'RXN-14535_reverse', 'RXN-8250', 'RXN-12454_reverse', 'BAI3OXO-OXRED-RXN_reverse', '2-HEXADECENAL-REDUCTASE-RXN_reverse', 'RXN-9564', 'RXN-708', '1.3.1.66-RXN_reverse', '1.3.1.64-RXN_reverse', 'RXN-7224_reverse', 'RXN-9546_reverse', 'RXN-10423_reverse', 'PROGESTERONE-5-ALPHA-REDUCTASE-RXN_reverse', 'UDPNACETYLMURAMATEDEHYDROG-RXN_reverse', 'RXN-18126_reverse', 'RXN-9879_reverse', 'RXN0-6677', 'RXN-12742_reverse', 'RXN0-6676', 'BILIVERDIN-REDUCTASE-RXN_reverse', 'RXN-12071', 'BADEL4OXRED-RXN_reverse', '1.3.99.5-RXN_reverse', 'RXN-17403_reverse', 'DIMETHUROPORDEHYDROG-RXN_reverse', '1.3.1.62-RXN_reverse', 'RXN-14495', 'RXN-17364_reverse', 'RXN-17402_reverse', '1.3.1.60-RXN', 'RXN-17342', 'RXN-13884_reverse', 'RXN-16298_reverse', 'RXN-8053_reverse', 'RXN-643', 'RXN-16131_reverse', 'RXN-14194_reverse', 'RXN-17111_reverse']})\n",
      "4 rule0174_8* defaultdict(<class 'list'>, {'mc': ['RXN-11624_reverse', 'RXN-8215_reverse', 'RXN-9155_reverse', 'RXN-8190_reverse', 'RXN-8184_reverse', 'RXN-18509_reverse', 'NUCLEOSIDE-OXIDASE-RXN_reverse', 'RXN-8217_reverse', 'RXN-15368_reverse', 'RXN-8189_reverse', 'RXN-12600_reverse', 'RXN-16270_reverse', 'RXN-8185_reverse', 'RXN-12597_reverse', 'RXN-13386_reverse']})\n",
      "4 rule0838 defaultdict(<class 'list'>, {'mc': ['RXN-11276', 'RXN-11275']})\n",
      "* Minimal rule mapping\n"
     ]
    }
   ],
   "source": [
    "for i,row in enumerate(rule_pathways):\n",
    "    for elt in row:\n",
    "        if len(rule2db2rxn[elt]) > 0:\n",
    "            print(i, elt, rule2db2rxn[elt])\n",
    "        elif len(rule2db2rxn[elt.split('_')[0]]) > 0:\n",
    "            print(i, f\"{elt}*\", rule2db2rxn[elt.split('_')[0]])\n",
    "        else:\n",
    "            print(\"Unmapped\")\n",
    "\n",
    "print(\"* Minimal rule mapping\")"
   ]
  },
  {
   "cell_type": "code",
   "execution_count": 44,
   "metadata": {},
   "outputs": [
    {
     "data": {
      "text/plain": [
       "[('pkr0027397', 'pkr0039063'),\n",
       " ('pkr0010825', 'pkr0036414'),\n",
       " ('pkr0013462', 'pkr0001060'),\n",
       " ('pkr0027397', 'pkr0004817'),\n",
       " ('pkr0032215', 'pkr0019314')]"
      ]
     },
     "execution_count": 44,
     "metadata": {},
     "output_type": "execute_result"
    }
   ],
   "source": [
    "pathways"
   ]
  },
  {
   "cell_type": "code",
   "execution_count": 47,
   "metadata": {},
   "outputs": [
    {
     "data": {
      "text/plain": [
       "['(1) dvl[c0] + (1) METHYL_DONOR_CoF[c0] => (1) METHYL_ACCEPTOR_CoF[c0] + (1) pkc0000068[c0]',\n",
       " '(1) pkc0000068[c0] + (1) FAD_CoF[c0] => (1) FADH2_CoF[c0] + (1) pkc0015471[c0]']"
      ]
     },
     "execution_count": 47,
     "metadata": {},
     "output_type": "execute_result"
    }
   ],
   "source": [
    "# Show chemical formula of reactions\n",
    "idx = 0\n",
    "formula_path = []\n",
    "id_eq_path = []\n",
    "for elt in pathways[idx]:\n",
    "    reactants, products = rxns.loc[elt, \"SMILES equation\"].split('=>')\n",
    "    reactants = reactants.split(' ')\n",
    "    reactants = [i for i in reactants if (i != '+') and (i != '')]\n",
    "    products = products.split(' ')\n",
    "    products = [i for i in products if (i != '+') and (i != '')]\n",
    "    reactants_mol = [Chem.MolFromSmiles(reactants[i]) for i in range(1, len(reactants), 2)]\n",
    "    products_mol = [Chem.MolFromSmiles(products[i]) for i in range(1, len(products), 2)]\n",
    "    [mol.SetProp('_Name', reactants[int(i * 2)]) for i, mol in enumerate(reactants_mol)]\n",
    "    [mol.SetProp('_Name', products[int(i * 2)]) for i, mol in enumerate(products_mol)]\n",
    "    formula_path.append([reactants_mol, products_mol])\n",
    "    id_eq_path.append(rxns.loc[elt, \"ID equation\"])\n",
    "\n",
    "id_eq_path"
   ]
  },
  {
   "cell_type": "code",
   "execution_count": 48,
   "metadata": {},
   "outputs": [
    {
     "data": {
      "image/png": "[encoded data removed]",
      "text/plain": [
       "<IPython.core.display.Image object>"
      ]
     },
     "execution_count": 48,
     "metadata": {},
     "output_type": "execute_result"
    }
   ],
   "source": [
    "Chem.Draw.MolsToGridImage(formula_path[0][0],legends=[mol.GetProp('_Name') for mol in formula_path[0][0]])"
   ]
  },
  {
   "cell_type": "code",
   "execution_count": 49,
   "metadata": {},
   "outputs": [
    {
     "data": {
      "image/png": "[encoded data removed]",
      "text/plain": [
       "<IPython.core.display.Image object>"
      ]
     },
     "execution_count": 49,
     "metadata": {},
     "output_type": "execute_result"
    }
   ],
   "source": [
    "Chem.Draw.MolsToGridImage(formula_path[0][1],legends=[mol.GetProp('_Name') for mol in formula_path[0][1]])"
   ]
  },
  {
   "cell_type": "code",
   "execution_count": 50,
   "metadata": {},
   "outputs": [
    {
     "data": {
      "image/png": "[encoded data removed]",
      "text/plain": [
       "<IPython.core.display.Image object>"
      ]
     },
     "execution_count": 50,
     "metadata": {},
     "output_type": "execute_result"
    }
   ],
   "source": [
    "Chem.Draw.MolsToGridImage(formula_path[1][0],legends=[mol.GetProp('_Name') for mol in formula_path[1][0]])"
   ]
  },
  {
   "cell_type": "code",
   "execution_count": 51,
   "metadata": {},
   "outputs": [
    {
     "data": {
      "image/png": "[encoded data removed]",
      "text/plain": [
       "<IPython.core.display.Image object>"
      ]
     },
     "execution_count": 51,
     "metadata": {},
     "output_type": "execute_result"
    }
   ],
   "source": [
    "Chem.Draw.MolsToGridImage(formula_path[1][1],legends=[mol.GetProp('_Name') for mol in formula_path[1][1]])"
   ]
  },
  {
   "cell_type": "markdown",
   "metadata": {},
   "source": [
    "# Scrap"
   ]
  },
  {
   "cell_type": "code",
   "execution_count": 183,
   "metadata": {},
   "outputs": [],
   "source": [
    "\n",
    "\n",
    "# reactants_of_rxn(rxns, 'pkr0001060' )"
   ]
  },
  {
   "cell_type": "code",
   "execution_count": 184,
   "metadata": {},
   "outputs": [
    {
     "ename": "KeyError",
     "evalue": "'ID'",
     "output_type": "error",
     "traceback": [
      "\u001b[0;31m---------------------------------------------------------------------------\u001b[0m",
      "\u001b[0;31mKeyError\u001b[0m                                  Traceback (most recent call last)",
      "\u001b[0;32m~/miniconda3/envs/mine/lib/python3.7/site-packages/pandas/core/indexes/base.py\u001b[0m in \u001b[0;36mget_loc\u001b[0;34m(self, key, method, tolerance)\u001b[0m\n\u001b[1;32m   3360\u001b[0m             \u001b[0;32mtry\u001b[0m\u001b[0;34m:\u001b[0m\u001b[0;34m\u001b[0m\u001b[0;34m\u001b[0m\u001b[0m\n\u001b[0;32m-> 3361\u001b[0;31m                 \u001b[0;32mreturn\u001b[0m \u001b[0mself\u001b[0m\u001b[0;34m.\u001b[0m\u001b[0m_engine\u001b[0m\u001b[0;34m.\u001b[0m\u001b[0mget_loc\u001b[0m\u001b[0;34m(\u001b[0m\u001b[0mcasted_key\u001b[0m\u001b[0;34m)\u001b[0m\u001b[0;34m\u001b[0m\u001b[0;34m\u001b[0m\u001b[0m\n\u001b[0m\u001b[1;32m   3362\u001b[0m             \u001b[0;32mexcept\u001b[0m \u001b[0mKeyError\u001b[0m \u001b[0;32mas\u001b[0m \u001b[0merr\u001b[0m\u001b[0;34m:\u001b[0m\u001b[0;34m\u001b[0m\u001b[0;34m\u001b[0m\u001b[0m\n",
      "\u001b[0;32m~/miniconda3/envs/mine/lib/python3.7/site-packages/pandas/_libs/index.pyx\u001b[0m in \u001b[0;36mpandas._libs.index.IndexEngine.get_loc\u001b[0;34m()\u001b[0m\n",
      "\u001b[0;32m~/miniconda3/envs/mine/lib/python3.7/site-packages/pandas/_libs/index.pyx\u001b[0m in \u001b[0;36mpandas._libs.index.IndexEngine.get_loc\u001b[0;34m()\u001b[0m\n",
      "\u001b[0;32mpandas/_libs/hashtable_class_helper.pxi\u001b[0m in \u001b[0;36mpandas._libs.hashtable.PyObjectHashTable.get_item\u001b[0;34m()\u001b[0m\n",
      "\u001b[0;32mpandas/_libs/hashtable_class_helper.pxi\u001b[0m in \u001b[0;36mpandas._libs.hashtable.PyObjectHashTable.get_item\u001b[0;34m()\u001b[0m\n",
      "\u001b[0;31mKeyError\u001b[0m: 'ID'",
      "\nThe above exception was the direct cause of the following exception:\n",
      "\u001b[0;31mKeyError\u001b[0m                                  Traceback (most recent call last)",
      "\u001b[0;32m/tmp/ipykernel_53300/2102642242.py\u001b[0m in \u001b[0;36m<module>\u001b[0;34m\u001b[0m\n\u001b[1;32m      2\u001b[0m \u001b[0mtarget_id\u001b[0m \u001b[0;34m=\u001b[0m \u001b[0mcpds\u001b[0m\u001b[0;34m[\u001b[0m\u001b[0mcpds\u001b[0m\u001b[0;34m[\u001b[0m\u001b[0;34m\"SMILES\"\u001b[0m\u001b[0;34m]\u001b[0m \u001b[0;34m==\u001b[0m \u001b[0mtarget\u001b[0m\u001b[0;34m]\u001b[0m\u001b[0;34m[\u001b[0m\u001b[0;34m\"ID\"\u001b[0m\u001b[0;34m]\u001b[0m\u001b[0;34m.\u001b[0m\u001b[0mto_numpy\u001b[0m\u001b[0;34m(\u001b[0m\u001b[0;34m)\u001b[0m\u001b[0;34m[\u001b[0m\u001b[0;36m0\u001b[0m\u001b[0;34m]\u001b[0m\u001b[0;34m\u001b[0m\u001b[0;34m\u001b[0m\u001b[0m\n\u001b[1;32m      3\u001b[0m \u001b[0mstarter_id\u001b[0m \u001b[0;34m=\u001b[0m \u001b[0mcpds\u001b[0m\u001b[0;34m[\u001b[0m\u001b[0mcpds\u001b[0m\u001b[0;34m[\u001b[0m\u001b[0;34m\"SMILES\"\u001b[0m\u001b[0;34m]\u001b[0m \u001b[0;34m==\u001b[0m \u001b[0mstarter\u001b[0m\u001b[0;34m]\u001b[0m\u001b[0;34m[\u001b[0m\u001b[0;34m\"ID\"\u001b[0m\u001b[0;34m]\u001b[0m\u001b[0;34m.\u001b[0m\u001b[0mto_numpy\u001b[0m\u001b[0;34m(\u001b[0m\u001b[0;34m)\u001b[0m\u001b[0;34m[\u001b[0m\u001b[0;36m0\u001b[0m\u001b[0;34m]\u001b[0m\u001b[0;34m\u001b[0m\u001b[0;34m\u001b[0m\u001b[0m\n\u001b[0;32m----> 4\u001b[0;31m \u001b[0mlast_reactions\u001b[0m \u001b[0;34m=\u001b[0m \u001b[0mrxns_w_product\u001b[0m\u001b[0;34m(\u001b[0m\u001b[0mtarget_id\u001b[0m\u001b[0;34m,\u001b[0m \u001b[0mrxns\u001b[0m\u001b[0;34m)\u001b[0m\u001b[0;34m\u001b[0m\u001b[0;34m\u001b[0m\u001b[0m\n\u001b[0m",
      "\u001b[0;32m/tmp/ipykernel_53300/3542880441.py\u001b[0m in \u001b[0;36mrxns_w_product\u001b[0;34m(pid, rxn_df)\u001b[0m\n\u001b[1;32m      5\u001b[0m     \u001b[0mproduct_in\u001b[0m \u001b[0;34m=\u001b[0m \u001b[0mrxn_df\u001b[0m\u001b[0;34m.\u001b[0m\u001b[0mloc\u001b[0m\u001b[0;34m[\u001b[0m\u001b[0;34m:\u001b[0m\u001b[0;34m,\u001b[0m \u001b[0;34m\"ID equation\"\u001b[0m\u001b[0;34m]\u001b[0m\u001b[0;34m.\u001b[0m\u001b[0mapply\u001b[0m\u001b[0;34m(\u001b[0m\u001b[0;32mlambda\u001b[0m \u001b[0mx\u001b[0m \u001b[0;34m:\u001b[0m \u001b[0mpid\u001b[0m \u001b[0;32min\u001b[0m \u001b[0mx\u001b[0m\u001b[0;34m)\u001b[0m\u001b[0;34m\u001b[0m\u001b[0;34m\u001b[0m\u001b[0m\n\u001b[1;32m      6\u001b[0m     \u001b[0msel_rxns\u001b[0m \u001b[0;34m=\u001b[0m \u001b[0mrxn_df\u001b[0m\u001b[0;34m[\u001b[0m\u001b[0mproduct_in\u001b[0m\u001b[0;34m]\u001b[0m\u001b[0;34m\u001b[0m\u001b[0;34m\u001b[0m\u001b[0m\n\u001b[0;32m----> 7\u001b[0;31m     \u001b[0msel_rxns\u001b[0m \u001b[0;34m=\u001b[0m \u001b[0mlist\u001b[0m\u001b[0;34m(\u001b[0m\u001b[0msel_rxns\u001b[0m\u001b[0;34m[\u001b[0m\u001b[0;34m\"ID\"\u001b[0m\u001b[0;34m]\u001b[0m\u001b[0;34m)\u001b[0m\u001b[0;34m\u001b[0m\u001b[0;34m\u001b[0m\u001b[0m\n\u001b[0m\u001b[1;32m      8\u001b[0m     \u001b[0;32mreturn\u001b[0m \u001b[0msel_rxns\u001b[0m\u001b[0;34m\u001b[0m\u001b[0;34m\u001b[0m\u001b[0m\n\u001b[1;32m      9\u001b[0m \u001b[0;34m\u001b[0m\u001b[0m\n",
      "\u001b[0;32m~/miniconda3/envs/mine/lib/python3.7/site-packages/pandas/core/frame.py\u001b[0m in \u001b[0;36m__getitem__\u001b[0;34m(self, key)\u001b[0m\n\u001b[1;32m   3456\u001b[0m             \u001b[0;32mif\u001b[0m \u001b[0mself\u001b[0m\u001b[0;34m.\u001b[0m\u001b[0mcolumns\u001b[0m\u001b[0;34m.\u001b[0m\u001b[0mnlevels\u001b[0m \u001b[0;34m>\u001b[0m \u001b[0;36m1\u001b[0m\u001b[0;34m:\u001b[0m\u001b[0;34m\u001b[0m\u001b[0;34m\u001b[0m\u001b[0m\n\u001b[1;32m   3457\u001b[0m                 \u001b[0;32mreturn\u001b[0m \u001b[0mself\u001b[0m\u001b[0;34m.\u001b[0m\u001b[0m_getitem_multilevel\u001b[0m\u001b[0;34m(\u001b[0m\u001b[0mkey\u001b[0m\u001b[0;34m)\u001b[0m\u001b[0;34m\u001b[0m\u001b[0;34m\u001b[0m\u001b[0m\n\u001b[0;32m-> 3458\u001b[0;31m             \u001b[0mindexer\u001b[0m \u001b[0;34m=\u001b[0m \u001b[0mself\u001b[0m\u001b[0;34m.\u001b[0m\u001b[0mcolumns\u001b[0m\u001b[0;34m.\u001b[0m\u001b[0mget_loc\u001b[0m\u001b[0;34m(\u001b[0m\u001b[0mkey\u001b[0m\u001b[0;34m)\u001b[0m\u001b[0;34m\u001b[0m\u001b[0;34m\u001b[0m\u001b[0m\n\u001b[0m\u001b[1;32m   3459\u001b[0m             \u001b[0;32mif\u001b[0m \u001b[0mis_integer\u001b[0m\u001b[0;34m(\u001b[0m\u001b[0mindexer\u001b[0m\u001b[0;34m)\u001b[0m\u001b[0;34m:\u001b[0m\u001b[0;34m\u001b[0m\u001b[0;34m\u001b[0m\u001b[0m\n\u001b[1;32m   3460\u001b[0m                 \u001b[0mindexer\u001b[0m \u001b[0;34m=\u001b[0m \u001b[0;34m[\u001b[0m\u001b[0mindexer\u001b[0m\u001b[0;34m]\u001b[0m\u001b[0;34m\u001b[0m\u001b[0;34m\u001b[0m\u001b[0m\n",
      "\u001b[0;32m~/miniconda3/envs/mine/lib/python3.7/site-packages/pandas/core/indexes/base.py\u001b[0m in \u001b[0;36mget_loc\u001b[0;34m(self, key, method, tolerance)\u001b[0m\n\u001b[1;32m   3361\u001b[0m                 \u001b[0;32mreturn\u001b[0m \u001b[0mself\u001b[0m\u001b[0;34m.\u001b[0m\u001b[0m_engine\u001b[0m\u001b[0;34m.\u001b[0m\u001b[0mget_loc\u001b[0m\u001b[0;34m(\u001b[0m\u001b[0mcasted_key\u001b[0m\u001b[0;34m)\u001b[0m\u001b[0;34m\u001b[0m\u001b[0;34m\u001b[0m\u001b[0m\n\u001b[1;32m   3362\u001b[0m             \u001b[0;32mexcept\u001b[0m \u001b[0mKeyError\u001b[0m \u001b[0;32mas\u001b[0m \u001b[0merr\u001b[0m\u001b[0;34m:\u001b[0m\u001b[0;34m\u001b[0m\u001b[0;34m\u001b[0m\u001b[0m\n\u001b[0;32m-> 3363\u001b[0;31m                 \u001b[0;32mraise\u001b[0m \u001b[0mKeyError\u001b[0m\u001b[0;34m(\u001b[0m\u001b[0mkey\u001b[0m\u001b[0;34m)\u001b[0m \u001b[0;32mfrom\u001b[0m \u001b[0merr\u001b[0m\u001b[0;34m\u001b[0m\u001b[0;34m\u001b[0m\u001b[0m\n\u001b[0m\u001b[1;32m   3364\u001b[0m \u001b[0;34m\u001b[0m\u001b[0m\n\u001b[1;32m   3365\u001b[0m         \u001b[0;32mif\u001b[0m \u001b[0mis_scalar\u001b[0m\u001b[0;34m(\u001b[0m\u001b[0mkey\u001b[0m\u001b[0;34m)\u001b[0m \u001b[0;32mand\u001b[0m \u001b[0misna\u001b[0m\u001b[0;34m(\u001b[0m\u001b[0mkey\u001b[0m\u001b[0;34m)\u001b[0m \u001b[0;32mand\u001b[0m \u001b[0;32mnot\u001b[0m \u001b[0mself\u001b[0m\u001b[0;34m.\u001b[0m\u001b[0mhasnans\u001b[0m\u001b[0;34m:\u001b[0m\u001b[0;34m\u001b[0m\u001b[0;34m\u001b[0m\u001b[0m\n",
      "\u001b[0;31mKeyError\u001b[0m: 'ID'"
     ]
    }
   ],
   "source": [
    "# Work backwards to starter\n",
    "target_id = cpds[cpds[\"SMILES\"] == target][\"ID\"].to_numpy()[0]\n",
    "starter_id = cpds[cpds[\"SMILES\"] == starter][\"ID\"].to_numpy()[0]\n",
    "last_reactions = rxns_w_product(target_id, rxns)"
   ]
  },
  {
   "cell_type": "code",
   "execution_count": null,
   "metadata": {},
   "outputs": [
    {
     "data": {
      "text/plain": [
       "24"
      ]
     },
     "execution_count": 174,
     "metadata": {},
     "output_type": "execute_result"
    }
   ],
   "source": [
    "def factorial(n):\n",
    "    if n == 1:\n",
    "        return n\n",
    "    else:\n",
    "        return  n * factorial(n-1)\n",
    "    \n",
    "factorial(4)"
   ]
  },
  {
   "cell_type": "code",
   "execution_count": null,
   "metadata": {},
   "outputs": [
    {
     "data": {
      "text/plain": [
       "[2, 1]"
      ]
     },
     "execution_count": 175,
     "metadata": {},
     "output_type": "execute_result"
    }
   ],
   "source": [
    "def seq(n, foo):\n",
    "    if n == 1:\n",
    "        return [n]\n",
    "    else:\n",
    "        return [n] + seq(n-1, foo)\n",
    "    \n",
    "foo = []\n",
    "seq(2, foo)"
   ]
  },
  {
   "cell_type": "code",
   "execution_count": null,
   "metadata": {},
   "outputs": [],
   "source": [
    "def seqseq(n, foo):\n",
    "    if n == 1:\n",
    "        return []\n",
    "    else:\n",
    "        this_bar = []\n",
    "        for i in range(n):\n",
    "            new_foo = foo.copy()\n",
    "            \n",
    "            new_foo.append(i)\n",
    "            temp = seqseq(n-1, new_foo)\n",
    "            new_foo += temp\n",
    "            # print(n, new_foo, temp)\n",
    "            if len(temp) == 0:\n",
    "                this_bar.append(new_foo)\n",
    "            else:\n",
    "                for elt in temp:\n",
    "                    this_bar.append(elt)\n",
    "        return this_bar\n",
    "foo = []\n",
    "bar = []\n",
    "out = seqseq(4, foo)"
   ]
  },
  {
   "cell_type": "code",
   "execution_count": null,
   "metadata": {},
   "outputs": [
    {
     "ename": "KeyError",
     "evalue": "'ID'",
     "output_type": "error",
     "traceback": [
      "\u001b[0;31m---------------------------------------------------------------------------\u001b[0m",
      "\u001b[0;31mKeyError\u001b[0m                                  Traceback (most recent call last)",
      "\u001b[0;32m~/miniconda3/envs/mine/lib/python3.7/site-packages/pandas/core/indexes/base.py\u001b[0m in \u001b[0;36mget_loc\u001b[0;34m(self, key, method, tolerance)\u001b[0m\n\u001b[1;32m   3360\u001b[0m             \u001b[0;32mtry\u001b[0m\u001b[0;34m:\u001b[0m\u001b[0;34m\u001b[0m\u001b[0;34m\u001b[0m\u001b[0m\n\u001b[0;32m-> 3361\u001b[0;31m                 \u001b[0;32mreturn\u001b[0m \u001b[0mself\u001b[0m\u001b[0;34m.\u001b[0m\u001b[0m_engine\u001b[0m\u001b[0;34m.\u001b[0m\u001b[0mget_loc\u001b[0m\u001b[0;34m(\u001b[0m\u001b[0mcasted_key\u001b[0m\u001b[0;34m)\u001b[0m\u001b[0;34m\u001b[0m\u001b[0;34m\u001b[0m\u001b[0m\n\u001b[0m\u001b[1;32m   3362\u001b[0m             \u001b[0;32mexcept\u001b[0m \u001b[0mKeyError\u001b[0m \u001b[0;32mas\u001b[0m \u001b[0merr\u001b[0m\u001b[0;34m:\u001b[0m\u001b[0;34m\u001b[0m\u001b[0;34m\u001b[0m\u001b[0m\n",
      "\u001b[0;32m~/miniconda3/envs/mine/lib/python3.7/site-packages/pandas/_libs/index.pyx\u001b[0m in \u001b[0;36mpandas._libs.index.IndexEngine.get_loc\u001b[0;34m()\u001b[0m\n",
      "\u001b[0;32m~/miniconda3/envs/mine/lib/python3.7/site-packages/pandas/_libs/index.pyx\u001b[0m in \u001b[0;36mpandas._libs.index.IndexEngine.get_loc\u001b[0;34m()\u001b[0m\n",
      "\u001b[0;32mpandas/_libs/hashtable_class_helper.pxi\u001b[0m in \u001b[0;36mpandas._libs.hashtable.PyObjectHashTable.get_item\u001b[0;34m()\u001b[0m\n",
      "\u001b[0;32mpandas/_libs/hashtable_class_helper.pxi\u001b[0m in \u001b[0;36mpandas._libs.hashtable.PyObjectHashTable.get_item\u001b[0;34m()\u001b[0m\n",
      "\u001b[0;31mKeyError\u001b[0m: 'ID'",
      "\nThe above exception was the direct cause of the following exception:\n",
      "\u001b[0;31mKeyError\u001b[0m                                  Traceback (most recent call last)",
      "\u001b[0;32m/tmp/ipykernel_53300/1021850561.py\u001b[0m in \u001b[0;36m<module>\u001b[0;34m\u001b[0m\n\u001b[1;32m     22\u001b[0m \u001b[0mstarter_id\u001b[0m \u001b[0;34m=\u001b[0m \u001b[0mcpds\u001b[0m\u001b[0;34m[\u001b[0m\u001b[0mcpds\u001b[0m\u001b[0;34m[\u001b[0m\u001b[0;34m\"SMILES\"\u001b[0m\u001b[0;34m]\u001b[0m \u001b[0;34m==\u001b[0m \u001b[0mstarter\u001b[0m\u001b[0;34m]\u001b[0m\u001b[0;34m[\u001b[0m\u001b[0;34m\"ID\"\u001b[0m\u001b[0;34m]\u001b[0m\u001b[0;34m.\u001b[0m\u001b[0mto_numpy\u001b[0m\u001b[0;34m(\u001b[0m\u001b[0;34m)\u001b[0m\u001b[0;34m[\u001b[0m\u001b[0;36m0\u001b[0m\u001b[0;34m]\u001b[0m\u001b[0;34m\u001b[0m\u001b[0;34m\u001b[0m\u001b[0m\n\u001b[1;32m     23\u001b[0m \u001b[0mpath\u001b[0m \u001b[0;34m=\u001b[0m \u001b[0;34m[\u001b[0m\u001b[0;34m]\u001b[0m\u001b[0;34m\u001b[0m\u001b[0;34m\u001b[0m\u001b[0m\n\u001b[0;32m---> 24\u001b[0;31m \u001b[0mcollect_paths\u001b[0m\u001b[0;34m(\u001b[0m\u001b[0mtarget_id\u001b[0m\u001b[0;34m,\u001b[0m \u001b[0mstarter_id\u001b[0m\u001b[0;34m,\u001b[0m \u001b[0mpath\u001b[0m\u001b[0;34m,\u001b[0m \u001b[0mrxns\u001b[0m\u001b[0;34m)\u001b[0m\u001b[0;34m\u001b[0m\u001b[0;34m\u001b[0m\u001b[0m\n\u001b[0m",
      "\u001b[0;32m/tmp/ipykernel_53300/1021850561.py\u001b[0m in \u001b[0;36mcollect_paths\u001b[0;34m(sub, starter, path, df)\u001b[0m\n\u001b[1;32m      4\u001b[0m     \u001b[0;32melse\u001b[0m\u001b[0;34m:\u001b[0m\u001b[0;34m\u001b[0m\u001b[0;34m\u001b[0m\u001b[0m\n\u001b[1;32m      5\u001b[0m         \u001b[0mthis_level\u001b[0m \u001b[0;34m=\u001b[0m \u001b[0;34m[\u001b[0m\u001b[0;34m]\u001b[0m\u001b[0;34m\u001b[0m\u001b[0;34m\u001b[0m\u001b[0m\n\u001b[0;32m----> 6\u001b[0;31m         \u001b[0mrxns\u001b[0m \u001b[0;34m=\u001b[0m \u001b[0mrxns_w_product\u001b[0m\u001b[0;34m(\u001b[0m\u001b[0msub\u001b[0m\u001b[0;34m,\u001b[0m \u001b[0mdf\u001b[0m\u001b[0;34m)\u001b[0m\u001b[0;34m\u001b[0m\u001b[0;34m\u001b[0m\u001b[0m\n\u001b[0m\u001b[1;32m      7\u001b[0m         \u001b[0;32mfor\u001b[0m \u001b[0melt\u001b[0m \u001b[0;32min\u001b[0m \u001b[0mrxns\u001b[0m\u001b[0;34m:\u001b[0m\u001b[0;34m\u001b[0m\u001b[0;34m\u001b[0m\u001b[0m\n\u001b[1;32m      8\u001b[0m             \u001b[0mnew_path\u001b[0m \u001b[0;34m=\u001b[0m \u001b[0mpath\u001b[0m\u001b[0;34m.\u001b[0m\u001b[0mcopy\u001b[0m\u001b[0;34m(\u001b[0m\u001b[0;34m)\u001b[0m\u001b[0;34m\u001b[0m\u001b[0;34m\u001b[0m\u001b[0m\n",
      "\u001b[0;32m/tmp/ipykernel_53300/3542880441.py\u001b[0m in \u001b[0;36mrxns_w_product\u001b[0;34m(pid, rxn_df)\u001b[0m\n\u001b[1;32m      5\u001b[0m     \u001b[0mproduct_in\u001b[0m \u001b[0;34m=\u001b[0m \u001b[0mrxn_df\u001b[0m\u001b[0;34m.\u001b[0m\u001b[0mloc\u001b[0m\u001b[0;34m[\u001b[0m\u001b[0;34m:\u001b[0m\u001b[0;34m,\u001b[0m \u001b[0;34m\"ID equation\"\u001b[0m\u001b[0;34m]\u001b[0m\u001b[0;34m.\u001b[0m\u001b[0mapply\u001b[0m\u001b[0;34m(\u001b[0m\u001b[0;32mlambda\u001b[0m \u001b[0mx\u001b[0m \u001b[0;34m:\u001b[0m \u001b[0mpid\u001b[0m \u001b[0;32min\u001b[0m \u001b[0mx\u001b[0m\u001b[0;34m)\u001b[0m\u001b[0;34m\u001b[0m\u001b[0;34m\u001b[0m\u001b[0m\n\u001b[1;32m      6\u001b[0m     \u001b[0msel_rxns\u001b[0m \u001b[0;34m=\u001b[0m \u001b[0mrxn_df\u001b[0m\u001b[0;34m[\u001b[0m\u001b[0mproduct_in\u001b[0m\u001b[0;34m]\u001b[0m\u001b[0;34m\u001b[0m\u001b[0;34m\u001b[0m\u001b[0m\n\u001b[0;32m----> 7\u001b[0;31m     \u001b[0msel_rxns\u001b[0m \u001b[0;34m=\u001b[0m \u001b[0mlist\u001b[0m\u001b[0;34m(\u001b[0m\u001b[0msel_rxns\u001b[0m\u001b[0;34m[\u001b[0m\u001b[0;34m\"ID\"\u001b[0m\u001b[0;34m]\u001b[0m\u001b[0;34m)\u001b[0m\u001b[0;34m\u001b[0m\u001b[0;34m\u001b[0m\u001b[0m\n\u001b[0m\u001b[1;32m      8\u001b[0m     \u001b[0;32mreturn\u001b[0m \u001b[0msel_rxns\u001b[0m\u001b[0;34m\u001b[0m\u001b[0;34m\u001b[0m\u001b[0m\n\u001b[1;32m      9\u001b[0m \u001b[0;34m\u001b[0m\u001b[0m\n",
      "\u001b[0;32m~/miniconda3/envs/mine/lib/python3.7/site-packages/pandas/core/frame.py\u001b[0m in \u001b[0;36m__getitem__\u001b[0;34m(self, key)\u001b[0m\n\u001b[1;32m   3456\u001b[0m             \u001b[0;32mif\u001b[0m \u001b[0mself\u001b[0m\u001b[0;34m.\u001b[0m\u001b[0mcolumns\u001b[0m\u001b[0;34m.\u001b[0m\u001b[0mnlevels\u001b[0m \u001b[0;34m>\u001b[0m \u001b[0;36m1\u001b[0m\u001b[0;34m:\u001b[0m\u001b[0;34m\u001b[0m\u001b[0;34m\u001b[0m\u001b[0m\n\u001b[1;32m   3457\u001b[0m                 \u001b[0;32mreturn\u001b[0m \u001b[0mself\u001b[0m\u001b[0;34m.\u001b[0m\u001b[0m_getitem_multilevel\u001b[0m\u001b[0;34m(\u001b[0m\u001b[0mkey\u001b[0m\u001b[0;34m)\u001b[0m\u001b[0;34m\u001b[0m\u001b[0;34m\u001b[0m\u001b[0m\n\u001b[0;32m-> 3458\u001b[0;31m             \u001b[0mindexer\u001b[0m \u001b[0;34m=\u001b[0m \u001b[0mself\u001b[0m\u001b[0;34m.\u001b[0m\u001b[0mcolumns\u001b[0m\u001b[0;34m.\u001b[0m\u001b[0mget_loc\u001b[0m\u001b[0;34m(\u001b[0m\u001b[0mkey\u001b[0m\u001b[0;34m)\u001b[0m\u001b[0;34m\u001b[0m\u001b[0;34m\u001b[0m\u001b[0m\n\u001b[0m\u001b[1;32m   3459\u001b[0m             \u001b[0;32mif\u001b[0m \u001b[0mis_integer\u001b[0m\u001b[0;34m(\u001b[0m\u001b[0mindexer\u001b[0m\u001b[0;34m)\u001b[0m\u001b[0;34m:\u001b[0m\u001b[0;34m\u001b[0m\u001b[0;34m\u001b[0m\u001b[0m\n\u001b[1;32m   3460\u001b[0m                 \u001b[0mindexer\u001b[0m \u001b[0;34m=\u001b[0m \u001b[0;34m[\u001b[0m\u001b[0mindexer\u001b[0m\u001b[0;34m]\u001b[0m\u001b[0;34m\u001b[0m\u001b[0;34m\u001b[0m\u001b[0m\n",
      "\u001b[0;32m~/miniconda3/envs/mine/lib/python3.7/site-packages/pandas/core/indexes/base.py\u001b[0m in \u001b[0;36mget_loc\u001b[0;34m(self, key, method, tolerance)\u001b[0m\n\u001b[1;32m   3361\u001b[0m                 \u001b[0;32mreturn\u001b[0m \u001b[0mself\u001b[0m\u001b[0;34m.\u001b[0m\u001b[0m_engine\u001b[0m\u001b[0;34m.\u001b[0m\u001b[0mget_loc\u001b[0m\u001b[0;34m(\u001b[0m\u001b[0mcasted_key\u001b[0m\u001b[0;34m)\u001b[0m\u001b[0;34m\u001b[0m\u001b[0;34m\u001b[0m\u001b[0m\n\u001b[1;32m   3362\u001b[0m             \u001b[0;32mexcept\u001b[0m \u001b[0mKeyError\u001b[0m \u001b[0;32mas\u001b[0m \u001b[0merr\u001b[0m\u001b[0;34m:\u001b[0m\u001b[0;34m\u001b[0m\u001b[0;34m\u001b[0m\u001b[0m\n\u001b[0;32m-> 3363\u001b[0;31m                 \u001b[0;32mraise\u001b[0m \u001b[0mKeyError\u001b[0m\u001b[0;34m(\u001b[0m\u001b[0mkey\u001b[0m\u001b[0;34m)\u001b[0m \u001b[0;32mfrom\u001b[0m \u001b[0merr\u001b[0m\u001b[0;34m\u001b[0m\u001b[0;34m\u001b[0m\u001b[0m\n\u001b[0m\u001b[1;32m   3364\u001b[0m \u001b[0;34m\u001b[0m\u001b[0m\n\u001b[1;32m   3365\u001b[0m         \u001b[0;32mif\u001b[0m \u001b[0mis_scalar\u001b[0m\u001b[0;34m(\u001b[0m\u001b[0mkey\u001b[0m\u001b[0;34m)\u001b[0m \u001b[0;32mand\u001b[0m \u001b[0misna\u001b[0m\u001b[0;34m(\u001b[0m\u001b[0mkey\u001b[0m\u001b[0;34m)\u001b[0m \u001b[0;32mand\u001b[0m \u001b[0;32mnot\u001b[0m \u001b[0mself\u001b[0m\u001b[0;34m.\u001b[0m\u001b[0mhasnans\u001b[0m\u001b[0;34m:\u001b[0m\u001b[0;34m\u001b[0m\u001b[0;34m\u001b[0m\u001b[0m\n",
      "\u001b[0;31mKeyError\u001b[0m: 'ID'"
     ]
    }
   ],
   "source": [
    "def collect_paths(sub, starter, path, df):\n",
    "    if sub == starter:\n",
    "        return []\n",
    "    else:\n",
    "        this_level = []\n",
    "        rxns = rxns_w_product(sub, df)\n",
    "        for elt in rxns:\n",
    "            new_path = path.copy()\n",
    "            new_path.append(sub)\n",
    "            new_sub = reactant_of_rxn(elt, df)\n",
    "            temp = collect_paths(new_sub, starter, new_path, df)\n",
    "            new_path.append(temp)\n",
    "            if len(temp) == 0:\n",
    "                this_level.append(new_path)\n",
    "            else:\n",
    "                for elt2 in temp:\n",
    "                    this_level.append(elt2)\n",
    "        \n",
    "        return this_level\n",
    "        \n",
    "target_id = cpds[cpds[\"SMILES\"] == target][\"ID\"].to_numpy()[0]\n",
    "starter_id = cpds[cpds[\"SMILES\"] == starter][\"ID\"].to_numpy()[0]\n",
    "path = []\n",
    "collect_paths(target_id, starter_id, path, rxns)"
   ]
  }
 ],
 "metadata": {
  "kernelspec": {
   "display_name": "mine",
   "language": "python",
   "name": "python3"
  },
  "language_info": {
   "codemirror_mode": {
    "name": "ipython",
    "version": 3
   },
   "file_extension": ".py",
   "mimetype": "text/x-python",
   "name": "python",
   "nbconvert_exporter": "python",
   "pygments_lexer": "ipython3",
   "version": "3.7.12"
  },
  "orig_nbformat": 4
 },
 "nbformat": 4,
 "nbformat_minor": 2
}
