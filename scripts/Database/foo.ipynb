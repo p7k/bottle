{
 "cells": [
  {
   "cell_type": "code",
   "execution_count": 2,
   "metadata": {},
   "outputs": [],
   "source": [
    "from equilibrator_assets.local_compound_cache import LocalCompoundCache\n",
    "from equilibrator_cache.compound_cache import CompoundCache"
   ]
  },
  {
   "cell_type": "code",
   "execution_count": 3,
   "metadata": {},
   "outputs": [],
   "source": [
    "import sqlalchemy\n",
    "EQ_URI = open(\"eq_uris.txt\").read().strip(\"\\n\")\n",
    "\n",
    "lc = LocalCompoundCache()\n",
    "lc.ccache = CompoundCache(sqlalchemy.create_engine(EQ_URI))"
   ]
  },
  {
   "cell_type": "code",
   "execution_count": 13,
   "metadata": {},
   "outputs": [],
   "source": [
    "from equilibrator_cache.models import Compound, CompoundIdentifier"
   ]
  },
  {
   "cell_type": "code",
   "execution_count": 16,
   "metadata": {},
   "outputs": [],
   "source": [
    "cpd_ids = [\"694397\", \"694396\", \"694395\", \"694394\"]\n",
    "from sqlalchemy.orm import joinedload, subqueryload\n",
    "cpds = (lc.ccache.session.query(Compound)\n",
    ".options(\n",
    "    joinedload(Compound.magnesium_dissociation_constants),\n",
    "    joinedload(Compound.microspecies),\n",
    "    subqueryload(Compound.identifiers).subqueryload(CompoundIdentifier.registry),\n",
    ")\n",
    ".join(Compound.identifiers)\n",
    ".join(CompoundIdentifier.registry)\n",
    ".filter(\n",
    "    CompoundIdentifier.accession.in_(cpd_ids)\n",
    ")\n",
    ").all()\n"
   ]
  },
  {
   "cell_type": "code",
   "execution_count": 12,
   "metadata": {},
   "outputs": [
    {
     "name": "stderr",
     "output_type": "stream",
     "text": [
      "==============================\n",
      "*** Open Babel Warning  in InChI code\n",
      "  #1 :Omitted undefined stereo\n"
     ]
    }
   ],
   "source": [
    "a = lc.get_compounds('O=C(O)C=C(CCC(O)C(=O)O)C(=O)O')\n",
    "lc.ccache.session.delete(a)"
   ]
  },
  {
   "cell_type": "code",
   "execution_count": null,
   "metadata": {},
   "outputs": [],
   "source": [
    "[\"694397\", \"694396\", \"694395\", \"694394\"]"
   ]
  }
 ],
 "metadata": {
  "kernelspec": {
   "display_name": "mine",
   "language": "python",
   "name": "python3"
  },
  "language_info": {
   "codemirror_mode": {
    "name": "ipython",
    "version": 3
   },
   "file_extension": ".py",
   "mimetype": "text/x-python",
   "name": "python",
   "nbconvert_exporter": "python",
   "pygments_lexer": "ipython3",
   "version": "3.7.12"
  }
 },
 "nbformat": 4,
 "nbformat_minor": 2
}
