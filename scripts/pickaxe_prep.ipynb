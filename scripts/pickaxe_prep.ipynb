{
 "cells": [
  {
   "cell_type": "code",
   "execution_count": 2,
   "metadata": {
    "tags": []
   },
   "outputs": [],
   "source": [
    "from src.utils import sanitize\n",
    "import pandas as pd"
   ]
  },
  {
   "cell_type": "code",
   "execution_count": 11,
   "metadata": {},
   "outputs": [],
   "source": [
    "def make_starter_target_csvs(name2smi, fn, header=['id', 'smiles'], save_dir='../data/starters_targets/'):\n",
    "    names = list(name2smi.keys())\n",
    "    smis = sanitize(list(name2smi.values()))\n",
    "    data = list(zip(names, smis))\n",
    "    df = pd.DataFrame(data=data, columns=header)\n",
    "    df.to_csv(save_dir + fn, sep=',', index=False)"
   ]
  },
  {
   "cell_type": "code",
   "execution_count": 13,
   "metadata": {},
   "outputs": [],
   "source": [
    "# Methylene molecules\n",
    "\n",
    "name2smi = {'2-methyleneglutarate': 'C=C(C([O-])=O)CCC(=O)[O-]',\n",
    "            '4-methylene-l-glutarate': 'C=C(C[C@H]([NH3+])C([O-])=O)C(=O)[O-]'}\n",
    "fn = 'methylene_molecules.csv'\n",
    "\n",
    "make_starter_target_csvs(name2smi, fn)"
   ]
  },
  {
   "cell_type": "code",
   "execution_count": 14,
   "metadata": {},
   "outputs": [],
   "source": [
    "# CCM\n",
    "\n",
    "name2smi = {'succinate': 'C(CC(=O)[O-])C(=O)[O-]',\n",
    "            'fumarate': 'C(=CC(=O)[O-])C(=O)[O-]',\n",
    "            'malate': 'O=C([O-])C[C@H](O)C(=O)[O-]',\n",
    "            'oxaloacetate': 'O=C([O-])CC(=O)C(=O)[O-]',\n",
    "            'ketoglutarate': 'O=C([O-])CCC(=O)C(=O)[O-]',\n",
    "            'citrate': 'O=C([O-])CC(O)(CC(=O)[O-])C(=O)[O-]',\n",
    "            'pyruvate': 'CC(=O)C(=O)[O-]',\n",
    "            'acetate': 'CC(=O)[O-]'}\n",
    "\n",
    "fn = 'ccm_v0.csv'\n",
    "\n",
    "make_starter_target_csvs(name2smi, fn)"
   ]
  },
  {
   "cell_type": "code",
   "execution_count": null,
   "metadata": {},
   "outputs": [],
   "source": [
    "# Older smis\n",
    "\n",
    "\n",
    "dvl_smi = 'C1(CCCCO1)=O' # 'dvl'\n",
    "mvl_smi = 'C1(C(CCCO1)=C)=O' # 'mvl'\n",
    "succ_smi = 'C(CC(=O)[O-])C(=O)[O-]' # 'succinate'\n",
    "target_smi = 'C(CCC(C(O[H])=O)=C)O[H]' # 'mvacid'"
   ]
  },
  {
   "cell_type": "code",
   "execution_count": null,
   "metadata": {},
   "outputs": [],
   "source": []
  }
 ],
 "metadata": {
  "kernelspec": {
   "display_name": "Python 3 (ipykernel)",
   "language": "python",
   "name": "python3"
  },
  "language_info": {
   "codemirror_mode": {
    "name": "ipython",
    "version": 3
   },
   "file_extension": ".py",
   "mimetype": "text/x-python",
   "name": "python",
   "nbconvert_exporter": "python",
   "pygments_lexer": "ipython3",
   "version": "3.7.12"
  }
 },
 "nbformat": 4,
 "nbformat_minor": 4
}
