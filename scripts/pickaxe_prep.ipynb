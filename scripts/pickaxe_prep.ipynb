{
 "cells": [
  {
   "cell_type": "code",
   "execution_count": 4,
   "metadata": {},
   "outputs": [],
   "source": [
    "import sys\n",
    "from rdkit import Chem\n",
    "from rdkit.Chem import AllChem\n",
    "sys.path.append(\"/home/stef/Tb/reaction_mapping\")\n",
    "from utils import sanitize\n",
    "import csv\n",
    "import pandas as pd"
   ]
  },
  {
   "cell_type": "code",
   "execution_count": 5,
   "metadata": {},
   "outputs": [
    {
     "name": "stdout",
     "output_type": "stream",
     "text": [
      "O=C1CCCCO1\n",
      "C=C1CCCOC1=O\n"
     ]
    },
    {
     "data": {
      "image/png": "[encoded data removed]",
      "text/plain": [
       "<rdkit.Chem.rdchem.Mol at 0x7f2fa76aebc0>"
      ]
     },
     "execution_count": 5,
     "metadata": {},
     "output_type": "execute_result"
    }
   ],
   "source": [
    "# Write out smiles of start and target\n",
    "\n",
    "dvl_smi = 'C1(CCCCO1)=O'\n",
    "mvl_smi = 'C1(C(CCCO1)=C)=O'\n",
    "\n",
    "dvl_smi, mvl_smi = sanitize([dvl_smi, mvl_smi])\n",
    "print(dvl_smi)\n",
    "print(mvl_smi)\n",
    "\n",
    "Chem.MolFromSmiles(dvl_smi)"
   ]
  },
  {
   "cell_type": "code",
   "execution_count": 6,
   "metadata": {},
   "outputs": [
    {
     "data": {
      "image/png": "[encoded data removed]",
      "text/plain": [
       "<rdkit.Chem.rdchem.Mol at 0x7f2fa751b1c0>"
      ]
     },
     "execution_count": 6,
     "metadata": {},
     "output_type": "execute_result"
    }
   ],
   "source": [
    "Chem.MolFromSmiles(mvl_smi)"
   ]
  },
  {
   "cell_type": "code",
   "execution_count": 9,
   "metadata": {},
   "outputs": [],
   "source": [
    "# Save starting compound\n",
    "header = ['id', 'smiles']\n",
    "starter = ['dvl', dvl_smi]\n",
    "save_to = 'dvl_smi.csv'\n",
    "\n",
    "with open(save_to, 'w') as f:\n",
    "    writer = csv.writer(f)\n",
    "    writer.writerow(header)\n",
    "    writer.writerow(starter)\n",
    "\n",
    "# Save target compound\n",
    "header = ['id', 'smiles']\n",
    "starter = ['mvl', mvl_smi]\n",
    "save_to = 'mvl_smi.csv'\n",
    "\n",
    "with open(save_to, 'w') as f:\n",
    "    writer = csv.writer(f)\n",
    "    writer.writerow(header)\n",
    "    writer.writerow(starter)\n",
    "\n"
   ]
  },
  {
   "cell_type": "code",
   "execution_count": 10,
   "metadata": {},
   "outputs": [
    {
     "data": {
      "image/png": "[encoded data removed]",
      "text/plain": [
       "<rdkit.Chem.rdchem.Mol at 0x7f2fa7538e40>"
      ]
     },
     "execution_count": 10,
     "metadata": {},
     "output_type": "execute_result"
    }
   ],
   "source": [
    "# General procedure\n",
    "\n",
    "\n",
    "starters = ['C1(C=C(CCO1)C)=O']\n",
    "targets = ['C1(CC(CCO1)C)=O']\n",
    "\n",
    "starters = sanitize(starters)\n",
    "targets = sanitize(targets)\n",
    "\n",
    "Chem.MolFromSmiles(starters[0])"
   ]
  },
  {
   "cell_type": "code",
   "execution_count": 11,
   "metadata": {},
   "outputs": [],
   "source": [
    "# Save starting compounds\n",
    "header = ['id', 'smiles']\n",
    "save_to = 'starters.csv'\n",
    "\n",
    "with open(save_to, 'w') as f:\n",
    "    writer = csv.writer(f)\n",
    "    writer.writerow(header)\n",
    "    for i, starter in enumerate(starters):\n",
    "        writer.writerow([\"starter_{}\".format(i+1), starter])\n",
    "\n",
    "# Save target compound\n",
    "header = ['id', 'smiles']\n",
    "save_to = 'targets.csv'\n",
    "\n",
    "with open(save_to, 'w') as f:\n",
    "    writer = csv.writer(f)\n",
    "    writer.writerow(header)\n",
    "    for i, target in enumerate(targets):\n",
    "        writer.writerow([\"target_{}\".format(i+1), target])\n"
   ]
  },
  {
   "cell_type": "markdown",
   "metadata": {},
   "source": [
    "Central carbon metabolism intermediates to lactone precursors."
   ]
  },
  {
   "cell_type": "code",
   "execution_count": 8,
   "metadata": {},
   "outputs": [],
   "source": [
    "# Succinate to MVL precursor\n",
    "m2s = Chem.MolToSmiles\n",
    "s2m = Chem.MolFromSmiles\n",
    "canon = lambda x : m2s(s2m(x))\n",
    "header = ['id', 'smiles']\n",
    "save_dir = '../src/starters_targets_rules/'\n",
    "starter_fn = 'succinate.csv'\n",
    "target_fn = 'mvacid.csv'\n",
    "\n",
    "target_smi = 'C(CCC(C(=O)O[H])(C)C)O[H]'\n",
    "target_smi = canon(target_smi)\n",
    "\n",
    "succ_smi = 'C(CC(=O)[O-])C(=O)[O-]'\n",
    "succ_smi = canon(succ_smi)\n",
    "\n",
    "starter_df = pd.DataFrame(data=[['succinate', succ_smi]], columns=header)\n",
    "starter_df.to_csv(save_dir + starter_fn, sep=',', index=False)\n",
    "\n",
    "target_df = pd.DataFrame(data=[['mvacid', target_smi]], columns=header)\n",
    "target_df.to_csv(save_dir + target_fn, sep=',', index=False)\n"
   ]
  },
  {
   "cell_type": "code",
   "execution_count": null,
   "metadata": {},
   "outputs": [],
   "source": []
  }
 ],
 "metadata": {
  "kernelspec": {
   "display_name": "mine",
   "language": "python",
   "name": "python3"
  },
  "language_info": {
   "codemirror_mode": {
    "name": "ipython",
    "version": 3
   },
   "file_extension": ".py",
   "mimetype": "text/x-python",
   "name": "python",
   "nbconvert_exporter": "python",
   "pygments_lexer": "ipython3",
   "version": "3.7.12"
  },
  "orig_nbformat": 4
 },
 "nbformat": 4,
 "nbformat_minor": 2
}
