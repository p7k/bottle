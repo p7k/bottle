{
 "cells": [
  {
   "cell_type": "code",
   "execution_count": 13,
   "metadata": {},
   "outputs": [],
   "source": [
    "import numpy as np\n",
    "from rdkit import Chem\n",
    "from rdkit.Chem import rdChemReactions\n",
    "from rdkit.Chem import Draw\n",
    "from rdkit.Chem import AllChem"
   ]
  },
  {
   "cell_type": "code",
   "execution_count": 2,
   "metadata": {},
   "outputs": [],
   "source": [
    "rxn1 = rdChemReactions.ReactionFromRxnBlock('''$RXN\n",
    "\n",
    "      Mrv2102  111820212128\n",
    "\n",
    "  2  1\n",
    "$MOL\n",
    "\n",
    "  Mrv2102 11182121282D          \n",
    "\n",
    " 13 13  0  0  0  0            999 V2000\n",
    "   -7.5723    2.6505    0.0000 C   0  0  0  0  0  0  0  0  0  1  0  0\n",
    "   -6.8579    2.2380    0.0000 O   0  0  0  0  0  0  0  0  0  2  0  0\n",
    "   -6.8580    1.4130    0.0000 C   0  0  0  0  0  0  0  0  0  3  0  0\n",
    "   -6.1435    1.0004    0.0000 O   0  0  0  0  0  0  0  0  0  4  0  0\n",
    "   -7.5725    1.0005    0.0000 C   0  0  0  0  0  0  0  0  0  5  0  0\n",
    "   -7.5725    0.1755    0.0000 N   0  0  0  0  0  0  0  0  0  6  0  0\n",
    "   -8.2869   -0.2369    0.0000 C   0  0  0  0  0  0  0  0  0  7  0  0\n",
    "   -8.2870   -1.0620    0.0000 C   0  0  0  0  0  0  0  0  0  8  0  0\n",
    "   -9.0015   -1.4745    0.0000 C   0  0  0  0  0  0  0  0  0  9  0  0\n",
    "   -9.0015   -2.2995    0.0000 C   0  0  0  0  0  0  0  0  0 10  0  0\n",
    "   -8.2870   -2.7120    0.0000 C   0  0  0  0  0  0  0  0  0 11  0  0\n",
    "   -7.5726   -2.2995    0.0000 C   0  0  0  0  0  0  0  0  0 12  0  0\n",
    "   -7.5726   -1.4745    0.0000 C   0  0  0  0  0  0  0  0  0 13  0  0\n",
    "  1  2  1  0  0  0  0\n",
    "  2  3  1  0  0  0  0\n",
    "  3  4  2  0  0  0  0\n",
    "  3  5  1  0  0  0  0\n",
    "  5  6  1  0  0  0  0\n",
    "  6  7  2  0  0  0  0\n",
    "  7  8  1  0  0  0  0\n",
    "  8  9  1  0  0  0  0\n",
    "  8 13  2  0  0  0  0\n",
    "  9 10  2  0  0  0  0\n",
    " 10 11  1  0  0  0  0\n",
    " 11 12  2  0  0  0  0\n",
    " 12 13  1  0  0  0  0\n",
    "M  END\n",
    "$MOL\n",
    "\n",
    "  Mrv2102 11182121282D          \n",
    "\n",
    " 12 11  0  0  0  0            999 V2000\n",
    "   -3.7934    0.7703    0.0000 C   0  0  0  0  0  0  0  0  0 14  0  0\n",
    "   -3.0790    1.1828    0.0000 C   0  0  0  0  0  0  0  0  0 15  0  0\n",
    "   -2.3645    0.7703    0.0000 C   0  0  0  0  0  0  0  0  0 16  0  0\n",
    "   -3.7934   -0.0547    0.0000 C   0  0  0  0  0  0  0  0  0 17  0  0\n",
    "   -4.5078   -0.4672    0.0000 O   0  0  0  0  0  0  0  0  0 18  0  0\n",
    "   -3.0789   -0.4671    0.0000 O   0  0  0  0  0  0  0  0  0 19  0  0\n",
    "   -1.6500    1.1828    0.0000 O   0  0  0  0  0  0  0  0  0 20  0  0\n",
    "   -2.3645   -0.0547    0.0000 O   0  0  0  0  0  0  0  0  0 21  0  0\n",
    "   -3.0788   -1.2922    0.0000 C   0  0  0  0  0  0  0  0  0 22  0  0\n",
    "   -1.6500   -0.4672    0.0000 C   0  0  0  0  0  0  0  0  0 23  0  0\n",
    "   -2.3644   -1.7046    0.0000 C   0  0  0  0  0  0  0  0  0 24  0  0\n",
    "   -1.6500   -1.2922    0.0000 C   0  0  0  0  0  0  0  0  0 25  0  0\n",
    "  1  2  2  0  0  0  0\n",
    "  1  4  1  0  0  0  0\n",
    "  2  3  1  0  0  0  0\n",
    "  3  7  2  0  0  0  0\n",
    "  3  8  1  0  0  0  0\n",
    "  4  5  2  0  0  0  0\n",
    "  4  6  1  0  0  0  0\n",
    "  6  9  1  0  0  0  0\n",
    "  8 10  1  0  0  0  0\n",
    "  9 11  1  0  0  0  0\n",
    " 10 12  1  0  0  0  0\n",
    "M  END\n",
    "$MOL\n",
    "\n",
    "  Mrv2102 11182121282D          \n",
    "\n",
    " 25 26  0  0  0  0            999 V2000\n",
    "    5.1328    0.9532    0.0000 C   0  0  0  0  0  0  0  0  0  5  0  0\n",
    "    5.8002    0.4683    0.0000 N   0  0  0  0  0  0  0  0  0  6  0  0\n",
    "    5.5453   -0.3163    0.0000 C   0  0  0  0  0  0  0  0  0  7  0  0\n",
    "    4.7203   -0.3163    0.0000 C   0  0  0  0  0  0  0  0  0 14  0  0\n",
    "    4.4654    0.4683    0.0000 C   0  0  0  0  0  0  0  0  0 15  0  0\n",
    "    5.1328    1.7782    0.0000 C   0  0  0  0  0  0  0  0  0  3  0  0\n",
    "    3.6807    0.7232    0.0000 C   0  0  0  0  0  0  0  0  0 16  0  0\n",
    "    4.2354   -0.9838    0.0000 C   0  0  0  0  0  0  0  0  0 17  0  0\n",
    "    6.0302   -0.9838    0.0000 C   0  0  0  0  0  0  0  0  0  8  0  0\n",
    "    6.8507   -0.8975    0.0000 C   0  0  0  0  0  0  0  0  0  9  0  0\n",
    "    7.3356   -1.5650    0.0000 C   0  0  0  0  0  0  0  0  0 10  0  0\n",
    "    7.0001   -2.3187    0.0000 C   0  0  0  0  0  0  0  0  0 11  0  0\n",
    "    6.1796   -2.4049    0.0000 C   0  0  0  0  0  0  0  0  0 12  0  0\n",
    "    5.6947   -1.7375    0.0000 C   0  0  0  0  0  0  0  0  0 13  0  0\n",
    "    3.4149   -0.8975    0.0000 O   0  0  0  0  0  0  0  0  0 18  0  0\n",
    "    4.5709   -1.7375    0.0000 O   0  0  0  0  0  0  0  0  0 19  0  0\n",
    "    4.0860   -2.4049    0.0000 C   0  0  0  0  0  0  0  0  0 22  0  0\n",
    "    3.2655   -2.3187    0.0000 C   0  0  0  0  0  0  0  0  0 24  0  0\n",
    "    3.5092    1.5302    0.0000 O   0  0  0  0  0  0  0  0  0 20  0  0\n",
    "    3.0676    0.1712    0.0000 O   0  0  0  0  0  0  0  0  0 21  0  0\n",
    "    2.2830    0.4261    0.0000 C   0  0  0  0  0  0  0  0  0 23  0  0\n",
    "    1.6699   -0.1259    0.0000 C   0  0  0  0  0  0  0  0  0 25  0  0\n",
    "    5.8473    2.1907    0.0000 O   0  0  0  0  0  0  0  0  0  4  0  0\n",
    "    4.4183    2.1907    0.0000 O   0  0  0  0  0  0  0  0  0  2  0  0\n",
    "    4.4183    3.0157    0.0000 C   0  0  0  0  0  0  0  0  0  1  0  0\n",
    "  1  2  1  0  0  0  0\n",
    "  2  3  1  0  0  0  0\n",
    "  3  4  1  0  0  0  0\n",
    "  4  5  1  0  0  0  0\n",
    "  1  5  1  0  0  0  0\n",
    "  1  6  1  0  0  0  0\n",
    "  5  7  1  0  0  0  0\n",
    "  4  8  1  0  0  0  0\n",
    "  3  9  1  0  0  0  0\n",
    " 10 11  2  0  0  0  0\n",
    " 11 12  1  0  0  0  0\n",
    " 12 13  2  0  0  0  0\n",
    " 13 14  1  0  0  0  0\n",
    "  9 10  1  0  0  0  0\n",
    "  9 14  2  0  0  0  0\n",
    "  8 15  2  0  0  0  0\n",
    "  8 16  1  0  0  0  0\n",
    " 16 17  1  0  0  0  0\n",
    " 17 18  1  0  0  0  0\n",
    "  7 19  2  0  0  0  0\n",
    "  7 20  1  0  0  0  0\n",
    " 20 21  1  0  0  0  0\n",
    " 21 22  1  0  0  0  0\n",
    "  6 23  2  0  0  0  0\n",
    "  6 24  1  0  0  0  0\n",
    " 24 25  1  0  0  0  0\n",
    "M  END\n",
    "''')"
   ]
  },
  {
   "cell_type": "code",
   "execution_count": 62,
   "metadata": {},
   "outputs": [
    {
     "data": {
      "text/plain": [
       "'[#6:1]-[#8:2]-[#6:3](=[#8:4])-[#6:5]/[#7:6]=[#6:7]/[#6:8]1-[#6:9]=[#6:10]-[#6:11]=[#6:12]-[#6:13]=1.[#6:14](=[#6:15]\\\\[#6:16](=[#8:20])-[#8:21]-[#6:23]-[#6:25])\\\\[#6:17](=[#8:18])-[#8:19]-[#6:22]-[#6:24]>>[#6:5]1(-[#7:6]-[#6:7](-[#6:14](-[#6:15]-1-[#6:16](=[#8:20])-[#8:21]-[#6:23]-[#6:25])-[#6:17](=[#8:18])-[#8:19]-[#6:22]-[#6:24])-[#6:8]1-[#6:9]=[#6:10]-[#6:11]=[#6:12]-[#6:13]=1)-[#6:3](=[#8:4])-[#8:2]-[#6:1]'"
      ]
     },
     "execution_count": 62,
     "metadata": {},
     "output_type": "execute_result"
    }
   ],
   "source": [
    "# Draw reaction to file\n",
    "d2d = Draw.MolDraw2DCairo(800,300)\n",
    "d2d.DrawReaction(rxn1)\n",
    "png = d2d.GetDrawingText()\n",
    "open('./test_rxn.png','wb+').write(png)\n",
    "\n",
    "# Get SMARTS string of reaction\n",
    "AllChem.ReactionToSmarts(rxn1)"
   ]
  },
  {
   "cell_type": "code",
   "execution_count": 63,
   "metadata": {},
   "outputs": [
    {
     "data": {
      "text/plain": [
       "((4, 5, 6), (0, 1))"
      ]
     },
     "execution_count": 63,
     "metadata": {},
     "output_type": "execute_result"
    }
   ],
   "source": [
    "# Get reaction center\n",
    "rxn1.Initialize()\n",
    "rxn1.GetReactingAtoms()"
   ]
  },
  {
   "cell_type": "code",
   "execution_count": 60,
   "metadata": {},
   "outputs": [
    {
     "name": "stdout",
     "output_type": "stream",
     "text": [
      "((9,), (0, 1, 2, 3, 4, 5, 6, 7))\n"
     ]
    }
   ],
   "source": [
    "sma='[Cl:1][CH2:2][CH2:3][CH2:4][C:5]([C:7]1[CH:12]=[CH:11][C:10]([CH:13]([CH3:15])[CH3:14])=[CH:9][CH:8]=1)=[O:6].[Br:16]N1C(=O)CCC1=O'\\\n",
    "'>C(Cl)(Cl)(Cl)Cl.CC(N=NC(C#N)(C)C)(C#N)C>'\\\n",
    "'[Br:16][C:13]([C:10]1=[CH:9][CH:8]=[C:7]([C:5](=[O:6])[CH2:4][CH2:3][CH2:2][Cl:1])[CH:12]=[CH:11]1)([CH3:15])[CH3:14]'\n",
    "rxn = AllChem.ReactionFromSmarts(sma)\n",
    "rxn.Initialize()\n",
    "rats = rxn.GetReactingAtoms()\n",
    "print(rats)"
   ]
  },
  {
   "cell_type": "code",
   "execution_count": 61,
   "metadata": {},
   "outputs": [
    {
     "data": {
      "text/plain": [
       "20621"
      ]
     },
     "execution_count": 61,
     "metadata": {},
     "output_type": "execute_result"
    }
   ],
   "source": [
    "d2d = Draw.MolDraw2DCairo(800,300)\n",
    "d2d.DrawReaction(rxn)\n",
    "png = d2d.GetDrawingText()\n",
    "open('./tricky_rxn.png','wb+').write(png)"
   ]
  },
  {
   "cell_type": "code",
   "execution_count": 23,
   "metadata": {},
   "outputs": [
    {
     "name": "stdout",
     "output_type": "stream",
     "text": [
      "((5, 6, 7, 8, 9, 12, 13), (0, 1, 2, 3, 4, 5, 6, 7))\n"
     ]
    }
   ],
   "source": [
    "# Original tricky\n",
    "sma=\"[Cl:1][CH2:2][CH2:3][CH2:4][C:5]([C:7]1[CH:12]=[CH:11][C:10]([CH:13]([CH3:15])[CH3:14])=[CH:9][CH:8]=1)=[O:6].[Br:16]N1C(=O)CCC1=O>C(Cl)(Cl)(Cl)Cl.CC(N=NC(C#N)(C)C)(C#N)C>[Br:16][C:13]([C:10]1[CH:9]=[CH:8][C:7]([C:5](=[O:6])[CH2:4][CH2:3][CH2:2][Cl:1])=[CH:12][CH:11]=1)([CH3:15])[CH3:14]\"\n",
    "rxn = AllChem.ReactionFromSmarts(sma)\n",
    "rxn.Initialize()\n",
    "rats = rxn.GetReactingAtoms()\n",
    "print(rats)"
   ]
  },
  {
   "cell_type": "code",
   "execution_count": 24,
   "metadata": {},
   "outputs": [
    {
     "data": {
      "text/plain": [
       "20565"
      ]
     },
     "execution_count": 24,
     "metadata": {},
     "output_type": "execute_result"
    }
   ],
   "source": [
    "d2d = Draw.MolDraw2DCairo(800,300)\n",
    "d2d.DrawReaction(rxn)\n",
    "png = d2d.GetDrawingText()\n",
    "open('./original_tricky_rxn.png','wb+').write(png)"
   ]
  },
  {
   "cell_type": "code",
   "execution_count": 29,
   "metadata": {},
   "outputs": [
    {
     "name": "stdout",
     "output_type": "stream",
     "text": [
      "((5, 6, 7, 8, 9, 12, 13), (0, 1, 2, 3, 4, 5, 6, 7))\n"
     ]
    }
   ],
   "source": [
    "# Original tricky\n",
    "sma=\"[Cl:1][CH2:2][CH2:3][CH2:4][C:5]([C:7]1[CH:12]=[CH:11][C:10]([CH:13]([CH3:15])[CH3:14])=[CH:9][CH:8]=1)=[O:6].[Br:16]N1C(=O)CCC1=O>C(Cl)(Cl)(Cl)Cl.CC(N=NC(C#N)(C)C)(C#N)C>[Br:16][C:13]([C:10]1[CH:9]=[CH:8][C:7]([C:5](=[O:6])[CH2:4][CH2:3][CH2:2][Cl:1])=[CH:12][CH:11]=1)([CH3:15])[CH3:14]\"\n",
    "rxn = AllChem.ReactionFromSmarts(sma)\n",
    "rxn.Initialize()\n",
    "rats = rxn.GetReactingAtoms()\n",
    "print(rats)"
   ]
  },
  {
   "cell_type": "code",
   "execution_count": 64,
   "metadata": {},
   "outputs": [
    {
     "name": "stdout",
     "output_type": "stream",
     "text": [
      "((6, 7, 8, 9, 10, 12, 13, 14), (0, 1, 2, 3, 4, 5, 6, 7))\n"
     ]
    }
   ],
   "source": [
    "# Try sanitize mols\n",
    "rs, ps = [elt.split('.') for elt in sma.split('>')[::2]]\n",
    "rs = [Chem.CanonSmiles(Chem.MolToSmiles(Chem.MolFromSmarts(elt))) for elt in rs]\n",
    "ps = [Chem.CanonSmiles(Chem.MolToSmiles(Chem.MolFromSmarts(elt))) for elt in ps]\n",
    "sma = '.'.join(rs) + '>>' + '.'.join(ps)\n",
    "rxn = AllChem.ReactionFromSmarts(sma)\n",
    "rxn.Initialize()\n",
    "rats = rxn.GetReactingAtoms()\n",
    "print(rats)"
   ]
  },
  {
   "cell_type": "code",
   "execution_count": 66,
   "metadata": {},
   "outputs": [
    {
     "data": {
      "text/plain": [
       "19560"
      ]
     },
     "execution_count": 66,
     "metadata": {},
     "output_type": "execute_result"
    }
   ],
   "source": [
    "d2d = Draw.MolDraw2DCairo(800,300)\n",
    "d2d.DrawReaction(rxn)\n",
    "png = d2d.GetDrawingText()\n",
    "open('./new_rxn.png','wb+').write(png)"
   ]
  },
  {
   "cell_type": "code",
   "execution_count": 69,
   "metadata": {},
   "outputs": [
    {
     "name": "stdout",
     "output_type": "stream",
     "text": [
      "((3,),)\n"
     ]
    },
    {
     "data": {
      "text/plain": [
       "19567"
      ]
     },
     "execution_count": 69,
     "metadata": {},
     "output_type": "execute_result"
    }
   ],
   "source": [
    "sma = '[cH:1]1[cH:2][c:3]([F:4])[n:5][cH:6][cH:7]1>>[cH:1]1[cH:2][c:3]([Cl:4])[n:5][cH:6][cH:7]1'\n",
    "sma = '[cH:1]:1:[cH:2]:[c:3]([F:4]):[n:5]:[cH:6]:[cH:7]:1>>[cH:1]:1:[cH:2]:[c:3]([Cl:4]):[n:5]:[cH:6]:[cH:7]:1'\n",
    "rxn = AllChem.ReactionFromSmarts(sma)\n",
    "rxn.Initialize()\n",
    "rats = rxn.GetReactingAtoms()\n",
    "print(rats)\n",
    "d2d = Draw.MolDraw2DCairo(800,300)\n",
    "d2d.DrawReaction(rxn)\n",
    "png = d2d.GetDrawingText()\n",
    "open('./new_new_rxn.png','wb+').write(png)"
   ]
  },
  {
   "cell_type": "code",
   "execution_count": null,
   "metadata": {},
   "outputs": [],
   "source": []
  }
 ],
 "metadata": {
  "kernelspec": {
   "display_name": "mine",
   "language": "python",
   "name": "python3"
  },
  "language_info": {
   "codemirror_mode": {
    "name": "ipython",
    "version": 3
   },
   "file_extension": ".py",
   "mimetype": "text/x-python",
   "name": "python",
   "nbconvert_exporter": "python",
   "pygments_lexer": "ipython3",
   "version": "3.7.12"
  },
  "orig_nbformat": 4
 },
 "nbformat": 4,
 "nbformat_minor": 2
}
