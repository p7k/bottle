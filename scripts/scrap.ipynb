{
 "cells": [
  {
   "cell_type": "code",
   "execution_count": 1,
   "metadata": {},
   "outputs": [],
   "source": [
    "import numpy as np\n",
    "from rdkit import Chem\n",
    "from rdkit.Chem import rdChemReactions\n",
    "from rdkit.Chem import Draw\n",
    "from rdkit.Chem import AllChem\n",
    "from rdkit.Chem.Draw import IPythonConsole"
   ]
  },
  {
   "cell_type": "code",
   "execution_count": 4,
   "metadata": {},
   "outputs": [
    {
     "name": "stderr",
     "output_type": "stream",
     "text": [
      "/home/stef/miniconda3/envs/mine/lib/python3.7/site-packages/ipykernel_launcher.py:3: UserWarning: Matplotlib is currently using module://matplotlib_inline.backend_inline, which is a non-GUI backend, so cannot show the figure.\n",
      "  This is separate from the ipykernel package so we can avoid doing imports until\n"
     ]
    },
    {
     "data": {
      "text/plain": [
       "rdkit.Chem.rdchem.Mol"
      ]
     },
     "execution_count": 4,
     "metadata": {},
     "output_type": "execute_result"
    },
    {
     "data": {
      "image/png": "[encoded data removed]",
      "text/plain": [
       "<Figure size 300x300 with 1 Axes>"
      ]
     },
     "metadata": {},
     "output_type": "display_data"
    }
   ],
   "source": [
    "mol = Chem.MolFromSmiles('C=C1CCCOC1=O')\n",
    "img = Draw.MolToMPL(mol)\n",
    "img.show()\n",
    "type(mol)\n"
   ]
  },
  {
   "cell_type": "code",
   "execution_count": 3,
   "metadata": {},
   "outputs": [
    {
     "name": "stderr",
     "output_type": "stream",
     "text": [
      "Gtk-Message: 16:21:41.796: Failed to load module \"xapp-gtk3-module\"\n"
     ]
    }
   ],
   "source": [
    "rxn_str = 'C=C1CCCOC1=O' + '>>' + 'O'\n",
    "rxn = AllChem.ReactionFromSmarts(rxn_str, useSmiles=True)\n",
    "img = Draw.ReactionToImage(rxn)\n",
    "img.show()"
   ]
  },
  {
   "cell_type": "code",
   "execution_count": 62,
   "metadata": {},
   "outputs": [
    {
     "data": {
      "text/plain": [
       "'[#6:1]-[#8:2]-[#6:3](=[#8:4])-[#6:5]/[#7:6]=[#6:7]/[#6:8]1-[#6:9]=[#6:10]-[#6:11]=[#6:12]-[#6:13]=1.[#6:14](=[#6:15]\\\\[#6:16](=[#8:20])-[#8:21]-[#6:23]-[#6:25])\\\\[#6:17](=[#8:18])-[#8:19]-[#6:22]-[#6:24]>>[#6:5]1(-[#7:6]-[#6:7](-[#6:14](-[#6:15]-1-[#6:16](=[#8:20])-[#8:21]-[#6:23]-[#6:25])-[#6:17](=[#8:18])-[#8:19]-[#6:22]-[#6:24])-[#6:8]1-[#6:9]=[#6:10]-[#6:11]=[#6:12]-[#6:13]=1)-[#6:3](=[#8:4])-[#8:2]-[#6:1]'"
      ]
     },
     "execution_count": 62,
     "metadata": {},
     "output_type": "execute_result"
    }
   ],
   "source": [
    "# Draw reaction to file\n",
    "d2d = Draw.MolDraw2DCairo(800,300)\n",
    "d2d.DrawReaction(rxn1)\n",
    "png = d2d.GetDrawingText()\n",
    "open('./test_rxn.png','wb+').write(png)\n",
    "\n",
    "# Get SMARTS string of reaction\n",
    "AllChem.ReactionToSmarts(rxn1)"
   ]
  },
  {
   "cell_type": "code",
   "execution_count": 63,
   "metadata": {},
   "outputs": [
    {
     "data": {
      "text/plain": [
       "((4, 5, 6), (0, 1))"
      ]
     },
     "execution_count": 63,
     "metadata": {},
     "output_type": "execute_result"
    }
   ],
   "source": [
    "# Get reaction center\n",
    "rxn1.Initialize()\n",
    "rxn1.GetReactingAtoms()"
   ]
  },
  {
   "cell_type": "code",
   "execution_count": 60,
   "metadata": {},
   "outputs": [
    {
     "name": "stdout",
     "output_type": "stream",
     "text": [
      "((9,), (0, 1, 2, 3, 4, 5, 6, 7))\n"
     ]
    }
   ],
   "source": [
    "sma='[Cl:1][CH2:2][CH2:3][CH2:4][C:5]([C:7]1[CH:12]=[CH:11][C:10]([CH:13]([CH3:15])[CH3:14])=[CH:9][CH:8]=1)=[O:6].[Br:16]N1C(=O)CCC1=O'\\\n",
    "'>C(Cl)(Cl)(Cl)Cl.CC(N=NC(C#N)(C)C)(C#N)C>'\\\n",
    "'[Br:16][C:13]([C:10]1=[CH:9][CH:8]=[C:7]([C:5](=[O:6])[CH2:4][CH2:3][CH2:2][Cl:1])[CH:12]=[CH:11]1)([CH3:15])[CH3:14]'\n",
    "rxn = AllChem.ReactionFromSmarts(sma)\n",
    "rxn.Initialize()\n",
    "rats = rxn.GetReactingAtoms()\n",
    "print(rats)"
   ]
  },
  {
   "cell_type": "code",
   "execution_count": 61,
   "metadata": {},
   "outputs": [
    {
     "data": {
      "text/plain": [
       "20621"
      ]
     },
     "execution_count": 61,
     "metadata": {},
     "output_type": "execute_result"
    }
   ],
   "source": [
    "d2d = Draw.MolDraw2DCairo(800,300)\n",
    "d2d.DrawReaction(rxn)\n",
    "png = d2d.GetDrawingText()\n",
    "open('./tricky_rxn.png','wb+').write(png)"
   ]
  },
  {
   "cell_type": "code",
   "execution_count": 23,
   "metadata": {},
   "outputs": [
    {
     "name": "stdout",
     "output_type": "stream",
     "text": [
      "((5, 6, 7, 8, 9, 12, 13), (0, 1, 2, 3, 4, 5, 6, 7))\n"
     ]
    }
   ],
   "source": [
    "# Original tricky\n",
    "sma=\"[Cl:1][CH2:2][CH2:3][CH2:4][C:5]([C:7]1[CH:12]=[CH:11][C:10]([CH:13]([CH3:15])[CH3:14])=[CH:9][CH:8]=1)=[O:6].[Br:16]N1C(=O)CCC1=O>C(Cl)(Cl)(Cl)Cl.CC(N=NC(C#N)(C)C)(C#N)C>[Br:16][C:13]([C:10]1[CH:9]=[CH:8][C:7]([C:5](=[O:6])[CH2:4][CH2:3][CH2:2][Cl:1])=[CH:12][CH:11]=1)([CH3:15])[CH3:14]\"\n",
    "rxn = AllChem.ReactionFromSmarts(sma)\n",
    "rxn.Initialize()\n",
    "rats = rxn.GetReactingAtoms()\n",
    "print(rats)"
   ]
  },
  {
   "cell_type": "code",
   "execution_count": 24,
   "metadata": {},
   "outputs": [
    {
     "data": {
      "text/plain": [
       "20565"
      ]
     },
     "execution_count": 24,
     "metadata": {},
     "output_type": "execute_result"
    }
   ],
   "source": [
    "d2d = Draw.MolDraw2DCairo(800,300)\n",
    "d2d.DrawReaction(rxn)\n",
    "png = d2d.GetDrawingText()\n",
    "open('./original_tricky_rxn.png','wb+').write(png)"
   ]
  },
  {
   "cell_type": "code",
   "execution_count": 29,
   "metadata": {},
   "outputs": [
    {
     "name": "stdout",
     "output_type": "stream",
     "text": [
      "((5, 6, 7, 8, 9, 12, 13), (0, 1, 2, 3, 4, 5, 6, 7))\n"
     ]
    }
   ],
   "source": [
    "# Original tricky\n",
    "sma=\"[Cl:1][CH2:2][CH2:3][CH2:4][C:5]([C:7]1[CH:12]=[CH:11][C:10]([CH:13]([CH3:15])[CH3:14])=[CH:9][CH:8]=1)=[O:6].[Br:16]N1C(=O)CCC1=O>C(Cl)(Cl)(Cl)Cl.CC(N=NC(C#N)(C)C)(C#N)C>[Br:16][C:13]([C:10]1[CH:9]=[CH:8][C:7]([C:5](=[O:6])[CH2:4][CH2:3][CH2:2][Cl:1])=[CH:12][CH:11]=1)([CH3:15])[CH3:14]\"\n",
    "rxn = AllChem.ReactionFromSmarts(sma)\n",
    "rxn.Initialize()\n",
    "rats = rxn.GetReactingAtoms()\n",
    "print(rats)"
   ]
  },
  {
   "cell_type": "code",
   "execution_count": 64,
   "metadata": {},
   "outputs": [
    {
     "name": "stdout",
     "output_type": "stream",
     "text": [
      "((6, 7, 8, 9, 10, 12, 13, 14), (0, 1, 2, 3, 4, 5, 6, 7))\n"
     ]
    }
   ],
   "source": [
    "# Try sanitize mols\n",
    "rs, ps = [elt.split('.') for elt in sma.split('>')[::2]]\n",
    "rs = [Chem.CanonSmiles(Chem.MolToSmiles(Chem.MolFromSmarts(elt))) for elt in rs]\n",
    "ps = [Chem.CanonSmiles(Chem.MolToSmiles(Chem.MolFromSmarts(elt))) for elt in ps]\n",
    "sma = '.'.join(rs) + '>>' + '.'.join(ps)\n",
    "rxn = AllChem.ReactionFromSmarts(sma)\n",
    "rxn.Initialize()\n",
    "rats = rxn.GetReactingAtoms()\n",
    "print(rats)"
   ]
  },
  {
   "cell_type": "code",
   "execution_count": 66,
   "metadata": {},
   "outputs": [
    {
     "data": {
      "text/plain": [
       "19560"
      ]
     },
     "execution_count": 66,
     "metadata": {},
     "output_type": "execute_result"
    }
   ],
   "source": [
    "d2d = Draw.MolDraw2DCairo(800,300)\n",
    "d2d.DrawReaction(rxn)\n",
    "png = d2d.GetDrawingText()\n",
    "open('./new_rxn.png','wb+').write(png)"
   ]
  },
  {
   "cell_type": "code",
   "execution_count": 69,
   "metadata": {},
   "outputs": [
    {
     "name": "stdout",
     "output_type": "stream",
     "text": [
      "((3,),)\n"
     ]
    },
    {
     "data": {
      "text/plain": [
       "19567"
      ]
     },
     "execution_count": 69,
     "metadata": {},
     "output_type": "execute_result"
    }
   ],
   "source": [
    "sma = '[cH:1]1[cH:2][c:3]([F:4])[n:5][cH:6][cH:7]1>>[cH:1]1[cH:2][c:3]([Cl:4])[n:5][cH:6][cH:7]1'\n",
    "sma = '[cH:1]:1:[cH:2]:[c:3]([F:4]):[n:5]:[cH:6]:[cH:7]:1>>[cH:1]:1:[cH:2]:[c:3]([Cl:4]):[n:5]:[cH:6]:[cH:7]:1'\n",
    "rxn = AllChem.ReactionFromSmarts(sma)\n",
    "rxn.Initialize()\n",
    "rats = rxn.GetReactingAtoms()\n",
    "print(rats)\n",
    "d2d = Draw.MolDraw2DCairo(800,300)\n",
    "d2d.DrawReaction(rxn)\n",
    "png = d2d.GetDrawingText()\n",
    "open('./new_new_rxn.png','wb+').write(png)"
   ]
  },
  {
   "cell_type": "code",
   "execution_count": null,
   "metadata": {},
   "outputs": [],
   "source": []
  }
 ],
 "metadata": {
  "kernelspec": {
   "display_name": "mine",
   "language": "python",
   "name": "python3"
  },
  "language_info": {
   "codemirror_mode": {
    "name": "ipython",
    "version": 3
   },
   "file_extension": ".py",
   "mimetype": "text/x-python",
   "name": "python",
   "nbconvert_exporter": "python",
   "pygments_lexer": "ipython3",
   "version": "3.7.12"
  },
  "orig_nbformat": 4
 },
 "nbformat": 4,
 "nbformat_minor": 2
}
