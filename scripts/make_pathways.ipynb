{
 "cells": [
  {
   "cell_type": "code",
   "execution_count": 59,
   "metadata": {},
   "outputs": [
    {
     "name": "stdout",
     "output_type": "stream",
     "text": [
      "The autoreload extension is already loaded. To reload it, use:\n",
      "  %reload_ext autoreload\n"
     ]
    }
   ],
   "source": [
    "%load_ext autoreload\n",
    "%autoreload 2\n",
    "\n",
    "from src.rxn_ctr_mcs import *\n",
    "from src.utils import load_json, rxn_entry_to_smarts, rm_atom_map_num\n",
    "from src.pathway_utils import get_reverse_paths_to_starting, create_graph_from_pickaxe\n",
    "from src.post_processing import *\n",
    "\n",
    "from minedatabase.pickaxe import Pickaxe\n",
    "from minedatabase.utils import get_compound_hash\n",
    "\n",
    "from rdkit.Chem import AllChem\n",
    "import pickle\n"
   ]
  },
  {
   "cell_type": "code",
   "execution_count": 60,
   "metadata": {},
   "outputs": [
    {
     "name": "stdout",
     "output_type": "stream",
     "text": [
      "----------------------------------------\n",
      "Intializing pickaxe object\n",
      "\n",
      "Done intializing pickaxe object\n",
      "----------------------------------------\n",
      "\n",
      "Loading ../data/pruned_expansions/ccm_v0_to_hopa_gen_3_tan_sample_1_n_samples_1000.pk pickled data.\n",
      "Loaded 65 compounds\n",
      "Loaded 83 reactions\n",
      "Loaded 3604 operators\n",
      "Loaded 1 targets\n",
      "Took 2.9580531120300293\n"
     ]
    }
   ],
   "source": [
    "# Load processed expansion\n",
    "starters = 'ccm_v0'\n",
    "targets = 'hopa'\n",
    "generations = 3\n",
    "\n",
    "expansion_dir = '../data/processed_expansions/'\n",
    "thermo_dir = '../data/thermo/'\n",
    "fn = f\"{starters}_to_{targets}_gen_{generations}_tan_sample_1_n_samples_1000.pk\" # Expansion file name\n",
    "rxns_path = expansion_dir + 'predicted_reactions_' + fn\n",
    "paths_path = expansion_dir + 'paths_' + fn\n",
    "pruned_dir = '../data/pruned_expansions/'\n",
    "\n",
    "# Load reactions and paths\n",
    "with open(rxns_path, 'rb') as f:\n",
    "    pred_rxns = pickle.load(f)\n",
    "\n",
    "with open(paths_path, 'rb') as f:\n",
    "    paths = pickle.load(f)\n",
    "\n",
    "# Load raw expansion object\n",
    "pk = Pickaxe()\n",
    "path = pruned_dir + fn\n",
    "pk.load_pickled_pickaxe(path)"
   ]
  },
  {
   "cell_type": "code",
   "execution_count": 61,
   "metadata": {},
   "outputs": [
    {
     "name": "stdout",
     "output_type": "stream",
     "text": [
      "83\n",
      "('malate', 'hopa') 29\n",
      "('succinate', 'hopa') 7\n",
      "('citrate', 'hopa') 10\n",
      "('oxaloacetate', 'hopa') 24\n",
      "('pyruvate', 'hopa') 26\n"
     ]
    }
   ],
   "source": [
    "print(len(pred_rxns))\n",
    "for k,v in paths.items():\n",
    "    print(k, len(v))"
   ]
  },
  {
   "cell_type": "code",
   "execution_count": 62,
   "metadata": {},
   "outputs": [
    {
     "name": "stdout",
     "output_type": "stream",
     "text": [
      "0 : 0.08139534883720931 of 86\n",
      "1 : 0.6086956521739131 of 23\n",
      "2 : 0.0 of 26\n",
      "3 : 0.0 of 40\n",
      "4 : 0.0 of 40\n",
      "5 : 0.13636363636363635 of 88\n",
      "6 : 0.0 of 86\n",
      "7 : 0.6086956521739131 of 23\n",
      "8 : 0.0 of 26\n",
      "9 : 0.08139534883720931 of 86\n",
      "10 : 1.0 of 7\n",
      "11 : 0.0 of 86\n",
      "12 : 1.0 of 7\n",
      "13 : 0.15 of 40\n",
      "14 : 0.0 of 26\n",
      "15 : 0.723404255319149 of 47\n",
      "16 : 0.975609756097561 of 41\n",
      "17 : 0.6046511627906976 of 86\n",
      "18 : 0.975609756097561 of 41\n",
      "19 : 0.0 of 86\n",
      "20 : 0.0 of 26\n",
      "21 : 0.9459459459459459 of 37\n",
      "22 : 0.15 of 40\n",
      "23 : 0.6533333333333333 of 75\n",
      "24 : 0.6086956521739131 of 23\n",
      "25 : 0.961038961038961 of 77\n",
      "26 : 0.95 of 20\n",
      "27 : 0.08139534883720931 of 86\n",
      "28 : 0.6086956521739131 of 23\n",
      "29 : 0.975609756097561 of 41\n",
      "30 : 0.6533333333333333 of 75\n",
      "31 : 0.975609756097561 of 41\n",
      "32 : 1.0 of 7\n",
      "33 : 0.7368421052631579 of 19\n",
      "34 : 0.6086956521739131 of 23\n",
      "35 : 1.0 of 15\n",
      "36 : 0.6086956521739131 of 23\n",
      "37 : 0.05263157894736842 of 19\n",
      "38 : 0.13636363636363635 of 88\n",
      "39 : 0.15 of 40\n",
      "40 : 0.0 of 40\n",
      "41 : 0.723404255319149 of 47\n",
      "42 : 0.15 of 40\n",
      "43 : 0.6086956521739131 of 23\n",
      "44 : 0.15 of 40\n",
      "45 : 0.0 of 40\n",
      "46 : 0.6086956521739131 of 23\n",
      "47 : 0.13636363636363635 of 88\n",
      "48 : 0.9090909090909091 of 11\n",
      "49 : 0.45454545454545453 of 11\n",
      "50 : 0.723404255319149 of 47\n",
      "51 : 0.13636363636363635 of 88\n",
      "52 : 0.15 of 40\n",
      "53 : 0.15 of 40\n",
      "54 : 0.9090909090909091 of 11\n",
      "55 : 0.0 of 26\n",
      "56 : 0.0 of 40\n",
      "57 : 0.15 of 40\n",
      "58 : 0.13636363636363635 of 88\n",
      "59 : 0.9090909090909091 of 11\n",
      "60 : 0.6086956521739131 of 23\n",
      "61 : 0.13636363636363635 of 88\n",
      "62 : 0.13636363636363635 of 88\n",
      "63 : 1.0 of 82\n",
      "64 : 0.23076923076923078 of 26\n",
      "65 : 0.9090909090909091 of 11\n",
      "66 : 0.0 of 88\n"
     ]
    },
    {
     "name": "stderr",
     "output_type": "stream",
     "text": [
      "RDKit ERROR: [22:58:29] non-ring atom 3 marked aromatic\n",
      "[22:58:29] non-ring atom 3 marked aromatic\n"
     ]
    },
    {
     "name": "stdout",
     "output_type": "stream",
     "text": [
      "67 : 0.953757225433526 of 173\n",
      "68 : 0.0 of 40\n",
      "69 : 0.9090909090909091 of 11\n",
      "70 : 1.0 of 1\n",
      "71 : 0.15 of 40\n",
      "72 : 1.0 of 10\n",
      "73 : 0.15 of 40\n",
      "74 : 0.4 of 20\n",
      "75 : 0.9487179487179487 of 39\n",
      "76 : 0.15 of 40\n",
      "77 : 0.23076923076923078 of 26\n",
      "78 : 1.0 of 21\n",
      "79 : 1.0 of 28\n"
     ]
    },
    {
     "name": "stderr",
     "output_type": "stream",
     "text": [
      "RDKit ERROR: [22:59:16] Can't kekulize mol.  Unkekulized atoms: 19 23 26 27 28 29 30 31 33 34\n",
      "[22:59:16] Can't kekulize mol.  Unkekulized atoms: 19 23 26 27 28 29 30 31 33 34\n",
      "\n",
      "RDKit ERROR: \n"
     ]
    },
    {
     "name": "stdout",
     "output_type": "stream",
     "text": [
      "81 : 0.723404255319149 of 47\n",
      "82 : 1.0 of 21\n"
     ]
    }
   ],
   "source": [
    "pr_am_errors = [] # Track predicted rxn am errors\n",
    "kr_am_errors = [] # Track known rxn am errors\n",
    "alignment_issues = [] # Track substrate alignment issues\n",
    "kekulize_issues = []\n",
    "norm = 'max atoms' # Normalize MCS atom count by larger molecule\n",
    "\n",
    "# Populate pred_rxns, known rxn prc-mcs slot\n",
    "for x in range(len(pred_rxns.keys())):\n",
    "    h = list(pred_rxns.keys())[x]\n",
    "    rxn_sma1 = pred_rxns[h].smarts\n",
    "\n",
    "    # Skip pred reactions that trigger RXNMapper atom mapping errors\n",
    "    try:\n",
    "        am_rxn_sma1 = atom_map(rxn_sma1)\n",
    "    except:\n",
    "        pr_am_errors.append(h)\n",
    "        continue\n",
    "\n",
    "    a = 0 # Number known rxns analyzed\n",
    "    for z, kr in enumerate(pred_rxns[h].known_rxns):\n",
    "        rxn_sma2 = kr[1]\n",
    "\n",
    "        # Catch stoichiometry mismatches stemming from pickaxe, early post-processing\n",
    "        if tuple([len(elt.split('.')) for elt in rxn_sma2.split('>>')]) != tuple([len(elt.split('.')) for elt in rxn_sma1.split('>>')]):\n",
    "            print(x, z, 'stoich_error')\n",
    "            continue\n",
    "\n",
    "        # Skip pred reactions that trigger RXNMapper atom mapping errors\n",
    "        try:\n",
    "            am_rxn_sma2 = atom_map(rxn_sma2)\n",
    "        except:\n",
    "            kr_am_errors.append((h, z, kr[-1]))\n",
    "            continue\n",
    "\n",
    "        # Construct reaction objects\n",
    "        rxns = []\n",
    "        for elt in [am_rxn_sma1, am_rxn_sma2]:\n",
    "            temp = AllChem.ReactionFromSmarts(elt, useSmiles=True)\n",
    "            temp.Initialize()\n",
    "            rxns.append(temp)\n",
    "\n",
    "        rc_atoms = [elt.GetReactingAtoms() for elt in rxns] # Get reaction center atom idxs\n",
    "\n",
    "        # Construct rxn ctr mol objs\n",
    "        try: # REMOVE after addressing KekulizationException in get_sub_mol\n",
    "            rcs = []\n",
    "            for i, t_rxn in enumerate(rxns):\n",
    "                temp = []\n",
    "                for j, t_mol in enumerate(t_rxn.GetReactants()):\n",
    "                    temp.append(get_sub_mol(t_mol, rc_atoms[i][j]))\n",
    "                rcs.append(temp)\n",
    "        except:\n",
    "            kekulize_issues.append((h, z, kr[-1]))\n",
    "            continue\n",
    "\n",
    "        # Align substrates of the 2 reactions\n",
    "        rc_idxs = [] # Each element: (idx for rxn 1, idx for rxn 2)\n",
    "        remaining = [[i for i in range(len(elt))] for elt in rcs]\n",
    "        while (len(remaining[0]) > 0) & (len(remaining[1]) > 0):\n",
    "            idx_pair = align_substrates(rcs, remaining)\n",
    "\n",
    "            if idx_pair is None:\n",
    "                break\n",
    "            else:\n",
    "                rc_idxs.append(idx_pair)\n",
    "                remaining[0].remove(idx_pair[0])\n",
    "                remaining[1].remove(idx_pair[1])\n",
    "\n",
    "        # Skip if you haven't aligned every reactant pred to known\n",
    "        if len(rc_idxs) < len(rxn_sma1.split('>>')[0].split('.')):\n",
    "            alignment_issues.append((h, z, kr[-1]))\n",
    "            continue\n",
    "\n",
    "        # For reaction 2 (known reaction) Re-order rcs, rc_atoms,\n",
    "        # internal order of reactants in the reaction object in rxns\n",
    "        # and the smarts stored in the known_reactions attribute of the\n",
    "        # associated predicted reaction\n",
    "\n",
    "        # Sort reaction 2 rc_idxs by reaction 1 rc_idxs\n",
    "        rxn_1_rc_idxs, rxn_2_rc_idxs = list(zip(*rc_idxs))\n",
    "        if rxn_1_rc_idxs != rxn_2_rc_idxs:\n",
    "            rxn_2_rc_idxs, rxn_1_rc_idxs = sort_x_by_y(rxn_2_rc_idxs, rxn_1_rc_idxs)\n",
    "\n",
    "            # Re-order atom-mapped smarts string, and then update known_rxns entry\n",
    "            # with de-atom-mapped version of this string because atom mapper changes\n",
    "            # reactant order and its this order that rcs, rcatoms, rc_idxs all come from\n",
    "            am_ro_sma2 = am_rxn_sma2.split('>>')[0].split('.') # Get list of reactant strings\n",
    "            am_ro_sma2 = '.'.join([am_ro_sma2[elt] for elt in rxn_2_rc_idxs]) # Re-join in new order\n",
    "            am_rxn_sma2 = am_ro_sma2 + '>>' + am_rxn_sma2.split('>>')[1] # Join with products side\n",
    "\n",
    "            # Re-construct reaction object from re-ordered, am smarts\n",
    "            foo = rxns[1]\n",
    "            temp = AllChem.ReactionFromSmarts(am_rxn_sma2, useSmiles=True)\n",
    "            temp.Initialize()\n",
    "            rxns[1] = temp\n",
    "            bar = rxns[1]\n",
    "\n",
    "            rc_atoms[1] = rxns[1].GetReactingAtoms() # Update rc_atoms\n",
    "            rcs[1] = [get_sub_mol(elt, rc_atoms[1][i]) for i, elt in enumerate(rxns[1].GetReactants())] # Update rc mol obj\n",
    "        \n",
    "        pred_rxns[h].known_rxns[z][1] = rm_atom_map_num(am_rxn_sma2) # Update known_reaction entry w/ de-am smarts\n",
    "        rxns = align_atom_map_nums(rxns, rcs, rc_atoms)\n",
    "\n",
    "        # Compute MCS seeded by reaction center\n",
    "        prc_mcs = get_prc_mcs(rxns, rcs, rc_atoms, norm=norm) \n",
    "        pred_rxns[h].known_rxns[z][0] = prc_mcs # Update pred_rxns\n",
    "        \n",
    "        a += 1 # Count known rxn analyzed\n",
    "        pred_rxns[h].smarts = rm_atom_map_num(am_rxn_sma1) # Update pred_rxn smarts w/ de-am smarts\n",
    "\n",
    "    print(x, ':', a / (z+1), 'of', z+1)"
   ]
  },
  {
   "cell_type": "code",
   "execution_count": 63,
   "metadata": {},
   "outputs": [],
   "source": [
    "# Thermo\n",
    "\n",
    "# starters = 'succinate'\n",
    "# targets = 'mvacid'\n",
    "# generations = 4\n",
    "# args = ['-s', f\"{starters}\", '-t', f\"{targets}\", '-g', str(generations)]\n",
    "# command = f\"source activate /home/stef/miniconda3/envs/thermo && python /home/stef/pickaxe_thermodynamics/path_mdf.py {' '.join(args)}\"\n",
    "# subprocess.run(command, shell=True)\n",
    "\n",
    "thermo = load_json(thermo_dir + fn)\n",
    "for k,v in thermo.items():\n",
    "    st = tuple(k.split('>'))\n",
    "    for i, elt in enumerate(thermo[k]):\n",
    "        paths[st][i].mdf = elt['mdf']\n",
    "        paths[st][i].dG_opt = elt['dG_opt']\n",
    "        paths[st][i].dG_err = elt['dG_err']\n",
    "        paths[st][i].conc_opt = elt['conc_opt']\n"
   ]
  },
  {
   "cell_type": "code",
   "execution_count": 64,
   "metadata": {},
   "outputs": [],
   "source": [
    "# Save reactions dict and paths list (ultimately will replace with expansion object)\n",
    "\n",
    "rxns_fn = 'predicted_reactions_' + fn\n",
    "paths_fn = 'paths_' + fn\n",
    "save_dir = '../data/processed_expansions/'\n",
    "rxns_path = save_dir + rxns_fn\n",
    "paths_path = save_dir + paths_fn\n",
    "\n",
    "with open(rxns_path, 'wb') as f:\n",
    "    pickle.dump(pred_rxns, f)\n",
    "\n",
    "with open(paths_path, 'wb') as f:\n",
    "    pickle.dump(paths, f)"
   ]
  },
  {
   "cell_type": "code",
   "execution_count": 65,
   "metadata": {},
   "outputs": [
    {
     "data": {
      "text/plain": [
       "(1854, 1, 329)"
      ]
     },
     "execution_count": 65,
     "metadata": {},
     "output_type": "execute_result"
    }
   ],
   "source": [
    "len(alignment_issues), len(pr_am_errors), len(kr_am_errors)"
   ]
  }
 ],
 "metadata": {
  "kernelspec": {
   "display_name": "Python 3 (ipykernel)",
   "language": "python",
   "name": "python3"
  },
  "language_info": {
   "codemirror_mode": {
    "name": "ipython",
    "version": 3
   },
   "file_extension": ".py",
   "mimetype": "text/x-python",
   "name": "python",
   "nbconvert_exporter": "python",
   "pygments_lexer": "ipython3",
   "version": "3.7.12"
  }
 },
 "nbformat": 4,
 "nbformat_minor": 4
}
