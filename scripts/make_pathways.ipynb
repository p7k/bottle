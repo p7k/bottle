{
 "cells": [
  {
   "cell_type": "markdown",
   "metadata": {},
   "source": [
    "# New code"
   ]
  },
  {
   "cell_type": "markdown",
   "metadata": {},
   "source": [
    "## Imports and definitions"
   ]
  },
  {
   "cell_type": "code",
   "execution_count": 82,
   "metadata": {},
   "outputs": [],
   "source": [
    "import os\n",
    "CWD = os.path.abspath(\"\")\n",
    "os.chdir(CWD)\n",
    "from collections import defaultdict\n",
    "import pandas as pd\n",
    "import csv\n",
    "from utils import load_json, save_json, sanitize\n",
    "\n",
    "from minedatabase.pickaxe import Pickaxe\n",
    "from minedatabase.utils import get_compound_hash\n",
    "\n",
    "from rdkit.Chem import CanonSmiles, Draw\n",
    "from rdkit import Chem\n",
    "from rdkit.Chem import AllChem\n",
    "import matplotlib.pyplot as plt\n",
    "from pathway_utils import get_stoich_pk, get_reverse_paths_to_starting\n",
    "import numpy as np\n",
    "import PIL\n",
    "from pathway_utils import create_graph_from_pickaxe"
   ]
  },
  {
   "cell_type": "code",
   "execution_count": 83,
   "metadata": {},
   "outputs": [],
   "source": [
    "# Define classes for pathway and reaction entries\n",
    "\n",
    "class pathway:\n",
    "    def __init__(self, rhashes, starter_hash=None, target_hash=None, prc_mcs=None, dG=None):\n",
    "        self.starter = starter_hash\n",
    "        self.target = target_hash\n",
    "        self.rhashes = rhashes # Tuple of reaction hash ids\n",
    "        self.prc_mcs = prc_mcs # Peri-rxn-ctr MCS score ave over reactions\n",
    "        self.dG = dG # Placeholder for thermo\n",
    "\n",
    "class reaction:\n",
    "    def __init__(self, rid, smarts, rules=[], known_rxns=[]):\n",
    "        self.rid = rid\n",
    "        self.smarts = smarts\n",
    "        self.rules = rules\n",
    "        self.known_rxns = known_rxns\n",
    "\n",
    "def rxn_hash_2_rxn_sma(rhash, pk):\n",
    "    '''\n",
    "    Make reaction smarts string for\n",
    "    reaction indexed by rhash in a pk\n",
    "    object\n",
    "    '''\n",
    "    rxn_stoich = get_stoich_pk(rhash, pk)\n",
    "    products = \".\".join([\".\".join([smi]*stoich) for smi, stoich in rxn_stoich.items() if stoich >= 0])\n",
    "    reactants = \".\".join([\".\".join([smi]*abs(stoich)) for smi, stoich in rxn_stoich.items() if stoich <= 0])\n",
    "    rxn_sma = \">>\".join([reactants, products])\n",
    "    return rxn_sma\n",
    "\n",
    "def make_rxn_sma(rxn_entry):\n",
    "    '''\n",
    "    Convert our standard rxn json\n",
    "    entry into a reaction smarts\n",
    "    '''\n",
    "    reactants = sanitize(list(rxn_entry[0].values()))\n",
    "    products = sanitize(list(rxn_entry[1].values()))\n",
    "    sma = \".\".join(reactants) + \">>\" + \".\".join(products)\n",
    "    return sma\n",
    "\n",
    "# Pathway drawing functions\n",
    "\n",
    "def draw_rxn(rxn_sma):\n",
    "    return Draw.ReactionToImage(\n",
    "        AllChem.ReactionFromSmarts(rxn_sma, useSmiles=True),\n",
    "        subImgSize=(200, 200), useSVG=False, drawOptions=None, returnPNG=False\n",
    "    )\n",
    "\n",
    "def get_concat_h(im1, im2):\n",
    "    dst = PIL.Image.new('RGB', (im1.width + im2.width, max(im1.height, im2.height)))\n",
    "    dst.paste(im1, (0, 0))\n",
    "    dst.paste(im2, (im1.width, 0))\n",
    "    return dst\n",
    "\n",
    "def get_concat_v(im1, im2):\n",
    "    dst = PIL.Image.new('RGB', (max(im1.width, im2.width), im1.height + im2.height))\n",
    "    dst.paste(im1, (0, 0))\n",
    "    dst.paste(im2, (0, im1.height))\n",
    "    return dst\n",
    "\n",
    "def draw_pathway(pred_known_pairs):\n",
    "    for i, elt in enumerate(pred_known_pairs):\n",
    "        if i == 0:\n",
    "            img = get_concat_h(*elt)\n",
    "        else:\n",
    "            img = get_concat_v(img, get_concat_h(*elt))\n",
    "\n",
    "    return img"
   ]
  },
  {
   "cell_type": "markdown",
   "metadata": {},
   "source": [
    "## Main"
   ]
  },
  {
   "cell_type": "code",
   "execution_count": 100,
   "metadata": {},
   "outputs": [
    {
     "name": "stdout",
     "output_type": "stream",
     "text": [
      "----------------------------------------\n",
      "Intializing pickaxe object\n",
      "\n",
      "Done intializing pickaxe object\n",
      "----------------------------------------\n",
      "\n",
      "Loading ../../data_from_quest/bottle/methylene_molecules_to_mvacid_gen_4_tan_sample_1_n_samples_1000.pk pickled data.\n",
      "Loaded 146255 compounds\n",
      "Loaded 155116 reactions\n",
      "Loaded 3604 operators\n",
      "Loaded 1 targets\n",
      "Took 8.9239182472229\n"
     ]
    }
   ],
   "source": [
    "# Set params\n",
    "\n",
    "expansion_dir = '../../data_from_quest/bottle/'\n",
    "fn = \"methylene_molecules_to_mvacid_gen_4_tan_sample_1_n_samples_1000.pk\" # Expansion file name\n",
    "generations = 4\n",
    "\n",
    "# Load results\n",
    "pk = Pickaxe()\n",
    "path = expansion_dir + fn\n",
    "pk.load_pickled_pickaxe(path)"
   ]
  },
  {
   "cell_type": "code",
   "execution_count": 101,
   "metadata": {},
   "outputs": [
    {
     "name": "stderr",
     "output_type": "stream",
     "text": [
      "RDKit ERROR: [11:52:10] Can't kekulize mol.  Unkekulized atoms: 19 23 26 27 28 29 30 31 33 34\n",
      "RDKit ERROR: \n",
      "[11:52:10] Can't kekulize mol.  Unkekulized atoms: 19 23 26 27 28 29 30 31 33 34\n",
      "\n",
      "RDKit ERROR: [11:52:10] Can't kekulize mol.  Unkekulized atoms: 19 23 26 27 28 29 30 31 33 34\n",
      "RDKit ERROR: \n",
      "[11:52:10] Can't kekulize mol.  Unkekulized atoms: 19 23 26 27 28 29 30 31 33 34\n",
      "\n",
      "RDKit ERROR: [11:52:11] Can't kekulize mol.  Unkekulized atoms: 19 23 26 27 28 29 30 31 33 34\n",
      "RDKit ERROR: \n",
      "[11:52:11] Can't kekulize mol.  Unkekulized atoms: 19 23 26 27 28 29 30 31 33 34\n",
      "\n",
      "RDKit ERROR: [11:52:15] Can't kekulize mol.  Unkekulized atoms: 19 23 26 27 28 29 30 31 33 34\n",
      "RDKit ERROR: \n",
      "[11:52:15] Can't kekulize mol.  Unkekulized atoms: 19 23 26 27 28 29 30 31 33 34\n",
      "\n",
      "RDKit ERROR: [11:52:22] Can't kekulize mol.  Unkekulized atoms: 19 23 26 27 28 29 30 31 33 34\n",
      "RDKit ERROR: \n",
      "[11:52:22] Can't kekulize mol.  Unkekulized atoms: 19 23 26 27 28 29 30 31 33 34\n",
      "\n",
      "RDKit ERROR: [11:52:24] Can't kekulize mol.  Unkekulized atoms: 19 23 26 27 28 29 30 31 33 34\n",
      "[11:52:24] Can't kekulize mol.  Unkekulized atoms: 19 23 26 27 28 29 30 31 33 34\n",
      "\n",
      "RDKit ERROR: \n",
      "RDKit ERROR: [11:52:33] Can't kekulize mol.  Unkekulized atoms: 19 23 26 27 28 29 30 31 33 34\n",
      "[11:52:33] Can't kekulize mol.  Unkekulized atoms: 19 23 26 27 28 29 30 31 33 34\n",
      "\n",
      "RDKit ERROR: \n",
      "RDKit ERROR: [11:52:34] Can't kekulize mol.  Unkekulized atoms: 19 23 26 27 28 29 30 31 33 34\n",
      "[11:52:34] Can't kekulize mol.  Unkekulized atoms: 19 23 26 27 28 29 30 31 33 34\n",
      "\n",
      "RDKit ERROR: \n",
      "RDKit ERROR: [11:52:34] Can't kekulize mol.  Unkekulized atoms: 19 23 26 27 28 29 30 31 33 34\n",
      "RDKit ERROR: \n",
      "[11:52:34] Can't kekulize mol.  Unkekulized atoms: 19 23 26 27 28 29 30 31 33 34\n",
      "\n",
      "RDKit ERROR: [11:52:34] Can't kekulize mol.  Unkekulized atoms: 19 23 26 27 28 29 30 31 33 34\n",
      "RDKit ERROR: \n",
      "[11:52:34] Can't kekulize mol.  Unkekulized atoms: 19 23 26 27 28 29 30 31 33 34\n",
      "\n",
      "RDKit ERROR: [11:52:34] Can't kekulize mol.  Unkekulized atoms: 19 23 26 27 28 29 30 31 33 34\n",
      "RDKit ERROR: \n",
      "[11:52:34] Can't kekulize mol.  Unkekulized atoms: 19 23 26 27 28 29 30 31 33 34\n",
      "\n",
      "RDKit ERROR: [11:52:34] Can't kekulize mol.  Unkekulized atoms: 19 23 26 27 28 29 30 31 33 34\n",
      "RDKit ERROR: \n",
      "[11:52:34] Can't kekulize mol.  Unkekulized atoms: 19 23 26 27 28 29 30 31 33 34\n",
      "\n",
      "RDKit ERROR: [11:52:34] Can't kekulize mol.  Unkekulized atoms: 19 23 26 27 28 29 30 31 33 34\n",
      "RDKit ERROR: \n",
      "[11:52:34] Can't kekulize mol.  Unkekulized atoms: 19 23 26 27 28 29 30 31 33 34\n",
      "\n",
      "RDKit ERROR: [11:52:34] Can't kekulize mol.  Unkekulized atoms: 19 23 26 27 28 29 30 31 33 34\n",
      "RDKit ERROR: \n",
      "[11:52:34] Can't kekulize mol.  Unkekulized atoms: 19 23 26 27 28 29 30 31 33 34\n",
      "\n",
      "RDKit ERROR: [11:52:34] Can't kekulize mol.  Unkekulized atoms: 19 23 26 27 28 29 30 31 33 34\n",
      "RDKit ERROR: \n",
      "[11:52:34] Can't kekulize mol.  Unkekulized atoms: 19 23 26 27 28 29 30 31 33 34\n",
      "\n",
      "RDKit ERROR: [11:52:35] Can't kekulize mol.  Unkekulized atoms: 19 23 26 27 28 29 30 31 33 34\n",
      "RDKit ERROR: \n",
      "[11:52:35] Can't kekulize mol.  Unkekulized atoms: 19 23 26 27 28 29 30 31 33 34\n",
      "\n",
      "RDKit ERROR: [11:52:35] Can't kekulize mol.  Unkekulized atoms: 19 23 26 27 28 29 30 31 33 34\n",
      "RDKit ERROR: \n",
      "[11:52:35] Can't kekulize mol.  Unkekulized atoms: 19 23 26 27 28 29 30 31 33 34\n",
      "\n",
      "RDKit ERROR: [11:52:35] Can't kekulize mol.  Unkekulized atoms: 19 23 26 27 28 29 30 31 33 34\n",
      "RDKit ERROR: \n",
      "[11:52:35] Can't kekulize mol.  Unkekulized atoms: 19 23 26 27 28 29 30 31 33 34\n",
      "\n",
      "RDKit ERROR: [11:52:38] Can't kekulize mol.  Unkekulized atoms: 19 23 26 27 28 29 30 31 33 34\n",
      "RDKit ERROR: \n",
      "[11:52:38] Can't kekulize mol.  Unkekulized atoms: 19 23 26 27 28 29 30 31 33 34\n",
      "\n",
      "RDKit ERROR: [11:52:38] Can't kekulize mol.  Unkekulized atoms: 19 23 26 27 28 29 30 31 33 34\n",
      "RDKit ERROR: \n",
      "[11:52:38] Can't kekulize mol.  Unkekulized atoms: 19 23 26 27 28 29 30 31 33 34\n",
      "\n",
      "RDKit ERROR: [11:52:38] Can't kekulize mol.  Unkekulized atoms: 19 23 26 27 28 29 30 31 33 34\n",
      "RDKit ERROR: \n",
      "[11:52:38] Can't kekulize mol.  Unkekulized atoms: 19 23 26 27 28 29 30 31 33 34\n",
      "\n",
      "RDKit ERROR: [11:52:38] Can't kekulize mol.  Unkekulized atoms: 19 23 26 27 28 29 30 31 33 34\n",
      "RDKit ERROR: \n",
      "[11:52:38] Can't kekulize mol.  Unkekulized atoms: 19 23 26 27 28 29 30 31 33 34\n",
      "\n",
      "RDKit ERROR: [11:52:39] Can't kekulize mol.  Unkekulized atoms: 19 23 26 27 28 29 30 31 33 34\n",
      "RDKit ERROR: \n",
      "[11:52:39] Can't kekulize mol.  Unkekulized atoms: 19 23 26 27 28 29 30 31 33 34\n",
      "\n",
      "RDKit ERROR: [11:52:49] Can't kekulize mol.  Unkekulized atoms: 19 23 26 27 28 29 30 31 33 34\n",
      "RDKit ERROR: \n",
      "[11:52:49] Can't kekulize mol.  Unkekulized atoms: 19 23 26 27 28 29 30 31 33 34\n",
      "\n",
      "RDKit ERROR: [11:52:50] Can't kekulize mol.  Unkekulized atoms: 19 23 26 27 28 29 30 31 33 34\n",
      "RDKit ERROR: \n",
      "[11:52:50] Can't kekulize mol.  Unkekulized atoms: 19 23 26 27 28 29 30 31 33 34\n",
      "\n",
      "RDKit ERROR: [11:53:01] Can't kekulize mol.  Unkekulized atoms: 19 23 26 27 28 29 30 31 33 34\n",
      "RDKit ERROR: \n",
      "[11:53:01] Can't kekulize mol.  Unkekulized atoms: 19 23 26 27 28 29 30 31 33 34\n",
      "\n",
      "RDKit ERROR: [11:53:01] Can't kekulize mol.  Unkekulized atoms: 19 23 26 27 28 29 30 31 33 34\n",
      "RDKit ERROR: \n",
      "[11:53:01] Can't kekulize mol.  Unkekulized atoms: 19 23 26 27 28 29 30 31 33 34\n",
      "\n",
      "RDKit ERROR: [11:53:02] Can't kekulize mol.  Unkekulized atoms: 19 23 26 27 28 29 30 31 33 34\n",
      "RDKit ERROR: \n",
      "[11:53:02] Can't kekulize mol.  Unkekulized atoms: 19 23 26 27 28 29 30 31 33 34\n",
      "\n",
      "RDKit ERROR: [11:53:12] Can't kekulize mol.  Unkekulized atoms: 19 23 26 27 28 29 30 31 33 34\n",
      "RDKit ERROR: \n",
      "[11:53:12] Can't kekulize mol.  Unkekulized atoms: 19 23 26 27 28 29 30 31 33 34\n",
      "\n",
      "RDKit ERROR: [11:53:20] Can't kekulize mol.  Unkekulized atoms: 19 23 26 27 28 29 30 31 33 34\n",
      "RDKit ERROR: \n",
      "[11:53:20] Can't kekulize mol.  Unkekulized atoms: 19 23 26 27 28 29 30 31 33 34\n",
      "\n",
      "RDKit ERROR: [11:53:20] Can't kekulize mol.  Unkekulized atoms: 19 23 26 27 28 29 30 31 33 34\n",
      "RDKit ERROR: \n",
      "[11:53:20] Can't kekulize mol.  Unkekulized atoms: 19 23 26 27 28 29 30 31 33 34\n",
      "\n",
      "RDKit ERROR: [11:53:52] Can't kekulize mol.  Unkekulized atoms: 19 23 26 27 28 29 30 31 33 34\n",
      "RDKit ERROR: \n",
      "[11:53:52] Can't kekulize mol.  Unkekulized atoms: 19 23 26 27 28 29 30 31 33 34\n",
      "\n"
     ]
    }
   ],
   "source": [
    "# Create the initial graph\n",
    "\n",
    "DG, rxn, edge = create_graph_from_pickaxe(pk, \"Biology\")\n",
    "starting_nodes = []\n",
    "bad_nodes = []\n",
    "for n in DG.nodes():\n",
    "    try:\n",
    "        if DG.nodes()[n][\"Type\"] == \"Starting Compound\":\n",
    "            starting_nodes.append(n)\n",
    "    except:\n",
    "        bad_nodes.append(n)"
   ]
  },
  {
   "cell_type": "code",
   "execution_count": 102,
   "metadata": {},
   "outputs": [],
   "source": [
    "# Get pathways\n",
    "max_depth = generations * 2\n",
    "paths = []\n",
    "\n",
    "# Specify Targets / Starting Cpds\n",
    "target_smi = pk.target_smiles[0]\n",
    "target_cids = [get_compound_hash(smi)[0] for smi in pk.target_smiles]\n",
    "starting_cpds = [get_compound_hash(val[\"SMILES\"])[0] for val in pk.compounds.values() if val[\"Type\"].startswith(\"Start\")]\n",
    "\n",
    "# Loop through targets and get pathways from targets to starting compounds\n",
    "for this_target in target_cids:\n",
    "    this_paths = get_reverse_paths_to_starting(DG, begin_node=this_target, end_nodes=starting_cpds, max_depth=max_depth)\n",
    "    # If we find paths then reverse those paths and assign to a dictionary\n",
    "    if this_paths:\n",
    "        this_paths = list(set([tuple(path[1::2]) for path in [[*reversed(ind_path)] for ind_path in this_paths]]))\n",
    "        for elt in this_paths:\n",
    "            for r in pk.reactions[elt[0]][\"Reactants\"]:\n",
    "                if r[-1] in starting_cpds:\n",
    "                    paths.append(pathway(rhashes=elt, starter_hash=r[-1], target_hash=this_target)) "
   ]
  },
  {
   "cell_type": "code",
   "execution_count": 103,
   "metadata": {},
   "outputs": [
    {
     "name": "stderr",
     "output_type": "stream",
     "text": [
      "RDKit ERROR: [11:55:41] Can't kekulize mol.  Unkekulized atoms: 19 23 26 27 28 29 30 31 33 34\n",
      "[11:55:41] Can't kekulize mol.  Unkekulized atoms: 19 23 26 27 28 29 30 31 33 34\n",
      "\n",
      "RDKit ERROR: \n",
      "RDKit ERROR: [11:55:41] Can't kekulize mol.  Unkekulized atoms: 19 23 26 27 28 29 30 31 33 34\n",
      "[11:55:41] Can't kekulize mol.  Unkekulized atoms: 19 23 26 27 28 29 30 31 33 34\n",
      "\n",
      "RDKit ERROR: \n",
      "RDKit ERROR: [11:55:42] Can't kekulize mol.  Unkekulized atoms: 19 23 26 27 28 29 30 31 33 34\n",
      "[11:55:42] Can't kekulize mol.  Unkekulized atoms: 19 23 26 27 28 29 30 31 33 34\n",
      "\n",
      "RDKit ERROR: \n",
      "RDKit ERROR: [11:55:42] Can't kekulize mol.  Unkekulized atoms: 19 23 26 27 28 29 30 31 33 34\n",
      "RDKit ERROR: \n",
      "[11:55:42] Can't kekulize mol.  Unkekulized atoms: 19 23 26 27 28 29 30 31 33 34\n",
      "\n",
      "RDKit ERROR: [11:55:43] Can't kekulize mol.  Unkekulized atoms: 19 23 26 27 28 29 30 31 33 34\n",
      "RDKit ERROR: \n",
      "[11:55:43] Can't kekulize mol.  Unkekulized atoms: 19 23 26 27 28 29 30 31 33 34\n",
      "\n"
     ]
    }
   ],
   "source": [
    "# Make predicted reaction dict\n",
    "\n",
    "pred_rxns = {}\n",
    "degen_rhashes = defaultdict(lambda : 1)\n",
    "for elt in paths:\n",
    "    for this_rhash in elt.rhashes:\n",
    "        if this_rhash not in pred_rxns:\n",
    "            rxn_sma = rxn_hash_2_rxn_sma(this_rhash, pk)\n",
    "            pred_rxns[this_rhash] = reaction(this_rhash, rxn_sma)\n",
    "        else:\n",
    "            degen_rhashes[this_rhash] += 1\n"
   ]
  },
  {
   "cell_type": "code",
   "execution_count": 104,
   "metadata": {},
   "outputs": [
    {
     "name": "stdout",
     "output_type": "stream",
     "text": [
      "('2-methyleneglutarate', 'mvacid') 21443\n",
      "('4-methylene-l-glutarate', 'mvacid') 991\n"
     ]
    }
   ],
   "source": [
    "# Put paths in dict indexed by starter-target pairs\n",
    "# target_id_2_name = {'Cec77ea281f69ca989bbef0a4c7794128a196c716': '2-methyleneglutarate',\n",
    "#                     'C3a5b833f1a5abe2063ff8b22706fabb74097bead': '4-methyleneglutamate'}\n",
    "target_id_2_name = {'C6ec1611229ff4fc7a19244967c7716266fc021a1': 'mvacid'}\n",
    "\n",
    "st_paths = defaultdict(list)\n",
    "for elt in paths:\n",
    "    t_name = target_id_2_name[elt.target]\n",
    "    s_name = pk.compounds[elt.starter][\"ID\"]\n",
    "    st_paths[(s_name, t_name)].append(elt)\n",
    "\n",
    "for k,v in st_paths.items():\n",
    "    print(k, len(v))"
   ]
  },
  {
   "cell_type": "code",
   "execution_count": 105,
   "metadata": {},
   "outputs": [],
   "source": [
    "# Load in IMT rule mapping\n",
    "\n",
    "# Load rules\n",
    "rules_path = '../src/rules/JN3604IMT_rules.tsv'\n",
    "rule_df = pd.read_csv(rules_path, delimiter='\\t')\n",
    "rule_df.set_index('Name', inplace=True)\n",
    "\n",
    "# Load mapping\n",
    "rxn2rule = {}\n",
    "db_names = ['_mc_v21', '_brenda', '_kegg']\n",
    "suffix = '_imt_rules_enforce_cof.csv'\n",
    "for name in db_names:\n",
    "    mapping_path = '../data/mapping/mapping' + name + suffix\n",
    "    with open(mapping_path, 'r') as f:\n",
    "        reader = csv.reader(f)\n",
    "        for row in reader:\n",
    "            if len(row) == 1:\n",
    "                rxn2rule[row[0]] = []\n",
    "            else:\n",
    "                rxn2rule[row[0]] = row[1:]\n",
    "\n",
    "# Make rule2rxn\n",
    "rule2rxn = {}\n",
    "for k,v in rxn2rule.items():\n",
    "    for elt in v:\n",
    "        if elt not in rule2rxn:\n",
    "            rule2rxn[elt] = [k]\n",
    "        else:\n",
    "            rule2rxn[elt].append(k)\n",
    "\n",
    "# Load all known reaction json entries into dict\n",
    "known_rxns = {}\n",
    "pref = '../data/mapping/'\n",
    "suffs = ['mc_v21_as_is.json', 'brenda_as_is.json', 'kegg_as_is.json']\n",
    "for elt in suffs:\n",
    "    known_rxns.update(load_json(pref + elt))"
   ]
  },
  {
   "cell_type": "code",
   "execution_count": 106,
   "metadata": {},
   "outputs": [],
   "source": [
    "# Populate reaction objects in rxn dict w/ known reactions\n",
    "\n",
    "for k, v in pred_rxns.items():\n",
    "    this_rules = list(pk.reactions[k][\"Operators\"])\n",
    "    this_known_rxns = []\n",
    "    for elt in this_rules:\n",
    "        if elt in rule2rxn:\n",
    "            this_rxn_ids = rule2rxn[elt]\n",
    "            for this_id in this_rxn_ids:\n",
    "                this_sma = make_rxn_sma(known_rxns[this_id])\n",
    "                this_known_rxns.append((-1, this_sma, this_id))\n",
    "    \n",
    "    v.known_rxns = list(set(this_known_rxns))\n"
   ]
  },
  {
   "cell_type": "code",
   "execution_count": 115,
   "metadata": {},
   "outputs": [],
   "source": [
    "pred_known_pairs = []\n",
    "example_path = st_paths[('2-methyleneglutarate', 'mvacid')][3].rhashes\n",
    "rng = np.random.default_rng(seed=1208)\n",
    "for elt in example_path:\n",
    "    this_pred = pred_rxns[elt]\n",
    "    this_idx = rng.integers(0, len(this_pred.known_rxns) - 1)\n",
    "    pred_img = draw_rxn(this_pred.smarts)\n",
    "    known_img = draw_rxn(this_pred.known_rxns[this_idx][1])\n",
    "    pred_known_pairs.append([pred_img, known_img])\n",
    "\n",
    "path_img = draw_pathway(pred_known_pairs)\n",
    "path_img.save('../artifacts/test_concat.png')\n",
    "    "
   ]
  },
  {
   "cell_type": "code",
   "execution_count": 116,
   "metadata": {},
   "outputs": [
    {
     "name": "stdout",
     "output_type": "stream",
     "text": [
      "C=C(CCC(O)O)C(=O)O.NC(=O)C1=CN(C2OC(COP(=O)(O)OP(=O)(O)OCC3OC(n4cnc5c(N)ncnc54)C(OP(=O)(O)O)C3O)C(O)C2O)C=CC1>>C=C(CCCO)C(=O)O.NC(=O)c1ccc[n+](C2OC(COP(=O)(O)OP(=O)(O)OCC3OC(n4cnc5c(N)ncnc54)C(OP(=O)(O)O)C3O)C(O)C2O)c1.O\n",
      "CC(=CCNc1ncnc2c1ncn2C1OC(COP(=O)(O)OP(=O)(O)OP(=O)(O)O)C(O)C1O)CO.NC(=O)C1=CN(C2OC(COP(=O)(O)OP(=O)(O)OCC3OC(n4cnc5c(N)ncnc54)C(OP(=O)(O)O)C3O)C(O)C2O)C=CC1>>CC(C)=CCNc1ncnc2c1ncn2C1OC(COP(=O)(O)OP(=O)(O)OP(=O)(O)O)C(O)C1O.NC(=O)c1ccc[n+](C2OC(COP(=O)(O)OP(=O)(O)OCC3OC(n4cnc5c(N)ncnc54)C(OP(=O)(O)O)C3O)C(O)C2O)c1.O\n"
     ]
    }
   ],
   "source": [
    "print(this_pred.smarts)\n",
    "print(this_pred.known_rxns[this_idx][1])"
   ]
  },
  {
   "cell_type": "code",
   "execution_count": 120,
   "metadata": {},
   "outputs": [],
   "source": [
    "foo = get_concat_v(*pred_known_pairs[-1])\n",
    "foo.save('../artifacts/example_pred_known_pair.png')"
   ]
  },
  {
   "cell_type": "code",
   "execution_count": 121,
   "metadata": {},
   "outputs": [
    {
     "data": {
      "text/plain": [
       "(-1,\n",
       " 'CC(=CCNc1ncnc2c1ncn2C1OC(COP(=O)(O)OP(=O)(O)OP(=O)(O)O)C(O)C1O)CO.NC(=O)C1=CN(C2OC(COP(=O)(O)OP(=O)(O)OCC3OC(n4cnc5c(N)ncnc54)C(OP(=O)(O)O)C3O)C(O)C2O)C=CC1>>CC(C)=CCNc1ncnc2c1ncn2C1OC(COP(=O)(O)OP(=O)(O)OP(=O)(O)O)C(O)C1O.NC(=O)c1ccc[n+](C2OC(COP(=O)(O)OP(=O)(O)OCC3OC(n4cnc5c(N)ncnc54)C(OP(=O)(O)O)C3O)C(O)C2O)c1.O',\n",
       " 'RXN-4304_reverse')"
      ]
     },
     "execution_count": 121,
     "metadata": {},
     "output_type": "execute_result"
    }
   ],
   "source": [
    "this_pred.known_rxns[this_idx]"
   ]
  },
  {
   "cell_type": "code",
   "execution_count": 92,
   "metadata": {},
   "outputs": [
    {
     "name": "stdout",
     "output_type": "stream",
     "text": [
      "800 800\n",
      "800 800\n",
      "800 800\n",
      "1600 1600\n",
      "200 200\n",
      "200 200\n",
      "200 200\n",
      "200 200\n"
     ]
    }
   ],
   "source": [
    "for elt in pred_known_pairs:\n",
    "    print(elt[0].width, elt[1].width)\n",
    "\n",
    "for elt in pred_known_pairs:    \n",
    "    print(elt[0].height, elt[1].height)"
   ]
  }
 ],
 "metadata": {
  "kernelspec": {
   "display_name": "Python 3 (ipykernel)",
   "language": "python",
   "name": "python3"
  },
  "language_info": {
   "codemirror_mode": {
    "name": "ipython",
    "version": 3
   },
   "file_extension": ".py",
   "mimetype": "text/x-python",
   "name": "python",
   "nbconvert_exporter": "python",
   "pygments_lexer": "ipython3",
   "version": "3.7.12"
  }
 },
 "nbformat": 4,
 "nbformat_minor": 4
}
