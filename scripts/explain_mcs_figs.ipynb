{
 "cells": [
  {
   "cell_type": "markdown",
   "metadata": {},
   "source": [
    "### Example to explain PRC MCS"
   ]
  },
  {
   "cell_type": "code",
   "execution_count": null,
   "metadata": {},
   "outputs": [],
   "source": [
    "pr = pred_rxns[paths[st_pair][min_mean_sorted_idxs[0]].rhashes[2]]\n",
    "pr_sma = pr.smarts\n",
    "kr_sma = pr.known_rxns[0][1]"
   ]
  },
  {
   "cell_type": "code",
   "execution_count": null,
   "metadata": {},
   "outputs": [],
   "source": [
    "from src.rxn_ctr_mcs import atom_map\n",
    "from rdkit import Chem\n",
    "from rdkit.Chem import AllChem, Draw\n",
    "from IPython.display import SVG\n",
    "\n",
    "am_pr_sma = atom_map(pr_sma)\n",
    "am_kr_sma = atom_map(kr_sma)\n",
    "\n",
    "pr_rxn = AllChem.ReactionFromSmarts(am_pr_sma, useSmiles=True)\n",
    "kr_rxn = AllChem.ReactionFromSmarts(am_kr_sma, useSmiles=True)\n",
    "pr_rxn.Initialize()\n",
    "kr_rxn.Initialize()\n",
    "\n",
    "pr_ra = pr_rxn.GetReactingAtoms()\n",
    "kr_ra = kr_rxn.GetReactingAtoms()"
   ]
  },
  {
   "cell_type": "code",
   "execution_count": null,
   "metadata": {},
   "outputs": [],
   "source": [
    "fn, _ = draw_rxn_svg(pr_sma, rhash='example_pred_rxn_ctr', hilite_atoms=[[0, 1, 2]])\n",
    "\n",
    "with open(fn, 'r') as f:\n",
    "    img = f.read()\n",
    "\n",
    "SVG(img)"
   ]
  },
  {
   "cell_type": "code",
   "execution_count": null,
   "metadata": {},
   "outputs": [],
   "source": [
    "fn, _ = draw_rxn_svg(pr_sma, rhash='example_pred_mcs', hilite_atoms=[[0, 1, 2, 3, 4, 5]])\n",
    "\n",
    "with open(fn, 'r') as f:\n",
    "    img = f.read()\n",
    "\n",
    "SVG(img)"
   ]
  },
  {
   "cell_type": "code",
   "execution_count": null,
   "metadata": {},
   "outputs": [],
   "source": [
    "fn, _ = draw_rxn_svg(kr_sma, rhash='example_known_rxn_ctr', hilite_atoms=[[0, 1, 2]])\n",
    "\n",
    "with open(fn, 'r') as f:\n",
    "    img = f.read()\n",
    "\n",
    "SVG(img)"
   ]
  },
  {
   "cell_type": "code",
   "execution_count": null,
   "metadata": {},
   "outputs": [],
   "source": [
    "fn, _ = draw_rxn_svg(kr_sma, rhash='example_known_mcs', hilite_atoms=[[0, 1, 2, 8, 9, 10]])\n",
    "\n",
    "with open(fn, 'r') as f:\n",
    "    img = f.read()\n",
    "\n",
    "SVG(img)"
   ]
  },
  {
   "cell_type": "code",
   "execution_count": null,
   "metadata": {},
   "outputs": [],
   "source": [
    "mol = kr_rxn.GetReactantTemplate(0)\n",
    "Chem.SanitizeMol(mol)\n",
    "hilite_atoms = list(kr_ra[0])\n",
    "colors = {elt : (0, 0.8, 0) for elt in hilite_atoms}\n",
    "nb = mol.GetNumAtoms()\n",
    "width = int(np.log10(nb) * 200) + 25\n",
    "d2d = Draw.MolDraw2DSVG(width, 200)\n",
    "\n",
    "\n",
    "d2d.DrawMolecule(mol, highlightAtoms=hilite_atoms, highlightAtomColors=colors)\n",
    "d2d.FinishDrawing()\n",
    "SVG(d2d.GetDrawingText())"
   ]
  },
  {
   "cell_type": "code",
   "execution_count": null,
   "metadata": {},
   "outputs": [],
   "source": []
  }
 ],
 "metadata": {
  "language_info": {
   "name": "python"
  }
 },
 "nbformat": 4,
 "nbformat_minor": 2
}
