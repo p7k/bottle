{
 "cells": [
  {
   "cell_type": "code",
   "execution_count": 1,
   "metadata": {},
   "outputs": [],
   "source": [
    "import sys\n",
    "sys.path.append('/home/stef/Tb/reaction_mapping')\n",
    "from utils import load_json, save_json, is_balanced, neutralize_atoms, count_atoms\n",
    "from rdkit import Chem\n",
    "from rdkit.Chem import AllChem\n",
    "s2m = Chem.MolFromSmiles\n",
    "m2s = Chem.MolToSmiles\n",
    "import numpy as np\n",
    "import csv\n",
    "import matplotlib.pyplot as plt\n",
    "import pandas as pd\n",
    "\n",
    "# Read in imt rules\n",
    "def load_rules(path):\n",
    "    rules = []\n",
    "    with open(path, 'r') as f:\n",
    "        reader = csv.reader(f, delimiter='\\t')\n",
    "        for row in reader:\n",
    "            rules.append(row)\n",
    "\n",
    "    rules = rules[1:] # Remove header\n",
    "    return rules"
   ]
  },
  {
   "cell_type": "code",
   "execution_count": 2,
   "metadata": {},
   "outputs": [
    {
     "name": "stdout",
     "output_type": "stream",
     "text": [
      "rxn_0 True\n",
      "rxn_1 True\n",
      "rxn_2 True\n",
      "rxn_3 True\n",
      "rxn_4 True\n",
      "rxn_5 True\n"
     ]
    }
   ],
   "source": [
    "# Check atom balance \n",
    "\n",
    "pwy = load_json('../artifacts/mevalonate_pathway.json')\n",
    "\n",
    "for k, v in pwy.items():\n",
    "    print(k, is_balanced(v))"
   ]
  },
  {
   "cell_type": "code",
   "execution_count": 3,
   "metadata": {},
   "outputs": [],
   "source": [
    "# Neutralize atoms and save neutralized pathway\n",
    "\n",
    "neutral_pwy = {}\n",
    "for id, rxn in pwy.items():\n",
    "    neutral_pwy[id] = [{}, {}]\n",
    "    for i, side in enumerate(rxn):\n",
    "        for k, cpd in side.items():\n",
    "            neutral_cpd = Chem.MolToSmiles(neutralize_atoms(Chem.MolFromSmiles(cpd)))\n",
    "            neutral_pwy[id][i][k] = neutral_cpd\n",
    "\n",
    "save_json(neutral_pwy, '../artifacts/mevalonate_pathway_neutralized.json')"
   ]
  },
  {
   "cell_type": "markdown",
   "metadata": {},
   "source": [
    "How many enzymes are in each rule / how distributed?"
   ]
  },
  {
   "cell_type": "code",
   "execution_count": 4,
   "metadata": {},
   "outputs": [
    {
     "name": "stdout",
     "output_type": "stream",
     "text": [
      "Ave # enzymes. Min: 26.491013071895424, Imt: 62.48640399556049\n"
     ]
    }
   ],
   "source": [
    "# Read in rules\n",
    "imt_path = '/home/stef/Tb/reaction_mapping/mapping/JN3604IMT_rules.tsv'\n",
    "min_path = '/home/stef/Tb/reaction_mapping/mapping/minimal1224_all_uniprot.tsv'\n",
    "\n",
    "imt_rules = load_rules(imt_path)\n",
    "min_rules = load_rules(min_path)\n",
    "\n",
    "# Create {name:list_of_enzymes}\n",
    "rule_dicts = []\n",
    "for elt in [min_rules, imt_rules]:\n",
    "    elt_transpose = list(zip(*elt))\n",
    "    this_dict = {}\n",
    "    for i in range(len(elt)):\n",
    "        this_dict[elt_transpose[0][i]] = elt_transpose[-1][i].split(';')\n",
    "    rule_dicts.append(this_dict)\n",
    "\n",
    "min2enz, imt2enz = rule_dicts\n",
    "min_enz_cts = list(map(len, min2enz.values()))\n",
    "imt_enz_cts = list(map(len, imt2enz.values()))\n",
    "min_ave_enz = sum(min_enz_cts) / len(min_rules)\n",
    "imt_ave_enz = sum(imt_enz_cts) / len(imt_rules)\n",
    "\n",
    "print(\"Ave # enzymes. Min: {}, Imt: {}\".format(min_ave_enz, imt_ave_enz))"
   ]
  },
  {
   "cell_type": "code",
   "execution_count": 33,
   "metadata": {},
   "outputs": [
    {
     "data": {
      "image/png": "[encoded data removed]",
      "text/plain": [
       "<Figure size 640x480 with 1 Axes>"
      ]
     },
     "metadata": {},
     "output_type": "display_data"
    }
   ],
   "source": [
    "srt_min_names, srt_min_cts = list(zip(*[(elt[1], elt[0]) for elt in sorted(list(zip(min_enz_cts, min2enz.keys())), reverse=True)]))\n",
    "srt_imt_names, srt_imt_cts = list(zip(*[(elt[1], elt[0]) for elt in sorted(list(zip(imt_enz_cts, imt2enz.keys())), reverse=True)]))\n",
    "\n",
    "width = 0.3\n",
    "fig, ax = plt.subplots()\n",
    "ax.plot(srt_min_cts, '.', label='Minimal rules')\n",
    "ax.plot(srt_imt_cts, '.', label='Intermediate rules')\n",
    "# ax.bar(srt_min_names, srt_min_cts, width=width, tick_label=srt_min_names)\n",
    "# ax.set_xticklabels(names, rotation=-90)\n",
    "ax.set_xlabel('rule rank')\n",
    "ax.set_ylabel('# enzymes')\n",
    "ax.legend()\n",
    "plt.show()"
   ]
  },
  {
   "cell_type": "markdown",
   "metadata": {},
   "source": [
    "Reconstitute mevalonate pathway from mapped rules"
   ]
  },
  {
   "cell_type": "code",
   "execution_count": 57,
   "metadata": {},
   "outputs": [
    {
     "name": "stdout",
     "output_type": "stream",
     "text": [
      "[[], ['Q9FD71'], [], [], [], []]\n",
      "[[], ['Q9FD71'], [], [], [], []]\n"
     ]
    }
   ],
   "source": [
    "# Uniprot ids of enzymes known to catalyze\n",
    "# the mevalonate pathway reactions\n",
    "\n",
    "min_mapping = [None, 'rule0137', 'rule0180', 'rule0039', 'rule0019', 'rule0027']\n",
    "imt_mapping = [None, 'rule0137_1', 'rule0180_1', 'rule0039_08', 'rule0019_09', None]\n",
    "mevalonate_gene_names = ['AtoB', 'MvaS', 'MvaE', 'SidI', 'SidH', 'Oye2']\n",
    "mevalonate_uni_ids = [['P76461'],\n",
    "                    ['Q9FD71', 'A0A380DPW6'],\n",
    "                    ['Q9FD70'],\n",
    "                    ['Q4WR83'],\n",
    "                    ['Q4WF54'],\n",
    "                    ['Q03558', 'P41816']]\n",
    "\n",
    "# Search minimal rule associated enzymes\n",
    "# for those observed empirically\n",
    "min_found = []\n",
    "for i, elt in enumerate(min_mapping):\n",
    "    if elt in min2enz:\n",
    "        min_found.append(list(set(mevalonate_uni_ids[i]) & set(min2enz[elt])))\n",
    "    else:\n",
    "        min_found.append([])\n",
    "\n",
    "print(min_found)\n",
    "\n",
    "# Search minimal rule associated enzymes\n",
    "# for those observed empirically\n",
    "imt_found = []\n",
    "for i, elt in enumerate(imt_mapping):\n",
    "    if elt in imt2enz:\n",
    "        imt_found.append(list(set(mevalonate_uni_ids[i]) & set(imt2enz[elt])))\n",
    "    else:\n",
    "        imt_found.append([])\n",
    "\n",
    "print(imt_found)"
   ]
  },
  {
   "cell_type": "code",
   "execution_count": 3,
   "metadata": {},
   "outputs": [
    {
     "ename": "NameError",
     "evalue": "name 'mevalonate_gene_names' is not defined",
     "output_type": "error",
     "traceback": [
      "\u001b[0;31m---------------------------------------------------------------------------\u001b[0m",
      "\u001b[0;31mNameError\u001b[0m                                 Traceback (most recent call last)",
      "\u001b[0;32m/tmp/ipykernel_121252/161900426.py\u001b[0m in \u001b[0;36m<module>\u001b[0;34m\u001b[0m\n\u001b[1;32m      2\u001b[0m \u001b[0;34m\u001b[0m\u001b[0m\n\u001b[1;32m      3\u001b[0m \u001b[0mmevalonate_uni_ids\u001b[0m \u001b[0;34m=\u001b[0m \u001b[0;34m[\u001b[0m\u001b[0;34m]\u001b[0m\u001b[0;34m\u001b[0m\u001b[0;34m\u001b[0m\u001b[0m\n\u001b[0;32m----> 4\u001b[0;31m \u001b[0;32mfor\u001b[0m \u001b[0melt\u001b[0m \u001b[0;32min\u001b[0m \u001b[0mmevalonate_gene_names\u001b[0m\u001b[0;34m:\u001b[0m\u001b[0;34m\u001b[0m\u001b[0;34m\u001b[0m\u001b[0m\n\u001b[0m\u001b[1;32m      5\u001b[0m     \u001b[0mfn\u001b[0m \u001b[0;34m=\u001b[0m \u001b[0;34m\"mevalonate_uniprot/uniprotkb_{}_2023_08_17.tsv\"\u001b[0m\u001b[0;34m.\u001b[0m\u001b[0mformat\u001b[0m\u001b[0;34m(\u001b[0m\u001b[0melt\u001b[0m\u001b[0;34m)\u001b[0m\u001b[0;34m\u001b[0m\u001b[0;34m\u001b[0m\u001b[0m\n\u001b[1;32m      6\u001b[0m     \u001b[0mthis_tsv\u001b[0m \u001b[0;34m=\u001b[0m \u001b[0mload_rules\u001b[0m\u001b[0;34m(\u001b[0m\u001b[0mfn\u001b[0m\u001b[0;34m)\u001b[0m\u001b[0;34m\u001b[0m\u001b[0;34m\u001b[0m\u001b[0m\n",
      "\u001b[0;31mNameError\u001b[0m: name 'mevalonate_gene_names' is not defined"
     ]
    }
   ],
   "source": [
    "# Load in full uniprot entries for each enzyme\n",
    "\n",
    "mevalonate_uni_ids = []\n",
    "for elt in mevalonate_gene_names:\n",
    "    fn = \"mevalonate_uniprot/uniprotkb_{}_2023_08_17.tsv\".format(elt)\n",
    "    this_tsv = load_rules(fn)\n",
    "    this_ids = list(list(zip(*this_tsv))[0])\n",
    "    mevalonate_uni_ids.append(this_ids)\n",
    "\n",
    "# Look again for all the uniprot ids\n",
    "# Search minimal rule associated enzymes\n",
    "# for those observed empirically\n",
    "min_found = []\n",
    "for i, elt in enumerate(min_mapping):\n",
    "    if elt in min2enz:\n",
    "        min_found.append(list(set(mevalonate_uni_ids[i]) & set(min2enz[elt])))\n",
    "    else:\n",
    "        min_found.append([])\n",
    "\n",
    "print(min_found)\n",
    "\n",
    "# Search minimal rule associated enzymes\n",
    "# for those observed empirically\n",
    "imt_found = []\n",
    "for i, elt in enumerate(imt_mapping):\n",
    "    if elt in imt2enz:\n",
    "        imt_found.append(list(set(mevalonate_uni_ids[i]) & set(imt2enz[elt])))\n",
    "    else:\n",
    "        imt_found.append([])\n",
    "\n",
    "print(imt_found)"
   ]
  },
  {
   "cell_type": "code",
   "execution_count": 66,
   "metadata": {},
   "outputs": [
    {
     "name": "stdout",
     "output_type": "stream",
     "text": [
      "257626\n",
      "107004\n"
     ]
    }
   ],
   "source": [
    "all_enz = []\n",
    "for elt in [min_rules, imt_rules]:\n",
    "    elt_all = list(zip(*elt))[-1]\n",
    "    for elt2 in elt_all:\n",
    "        all_enz += elt2.split(';')\n",
    "\n",
    "print(len(all_enz))\n",
    "all_enz = list(set(all_enz))\n",
    "print(len(all_enz))"
   ]
  },
  {
   "cell_type": "code",
   "execution_count": 67,
   "metadata": {},
   "outputs": [
    {
     "name": "stdout",
     "output_type": "stream",
     "text": [
      "P76461\n",
      "Q9FD71\n",
      "Q9FD70\n"
     ]
    }
   ],
   "source": [
    "for elt in mevalonate_uni_ids:\n",
    "    for elt2 in elt:\n",
    "        if elt2 in all_enz:\n",
    "            print(elt2)"
   ]
  },
  {
   "cell_type": "code",
   "execution_count": 69,
   "metadata": {},
   "outputs": [
    {
     "name": "stdout",
     "output_type": "stream",
     "text": [
      "Q9FD71 rule0136\n",
      "Q9FD71 rule0137\n",
      "P76461 rule0086_1\n",
      "Q9FD70 rule0086_1\n",
      "P76461 rule0087_1\n",
      "Q9FD70 rule0087_1\n",
      "Q9FD71 rule0137_1\n",
      "P76461 rule0349_1\n",
      "Q9FD70 rule0349_1\n"
     ]
    }
   ],
   "source": [
    "for k, v in min2enz.items():\n",
    "    for elt in ['P76461', 'Q9FD71', 'Q9FD70']:\n",
    "        if elt in v:\n",
    "            print(elt, k)\n",
    "\n",
    "for k, v in imt2enz.items():\n",
    "    for elt in ['P76461', 'Q9FD71', 'Q9FD70']:\n",
    "        if elt in v:\n",
    "            print(elt, k)"
   ]
  },
  {
   "cell_type": "code",
   "execution_count": 60,
   "metadata": {},
   "outputs": [
    {
     "name": "stdout",
     "output_type": "stream",
     "text": [
      "ACETYL-COA-ACETYLTRANSFER-RXN\n",
      "ACETYL-COA-ACETYLTRANSFER-RXN_reverse\n",
      "RXN-14795\n",
      "RXN-14795_reverse\n",
      "RXN-14575\n",
      "RXN-14575_reverse\n",
      "RXN-14784\n",
      "RXN-14784_reverse\n",
      "RXN-14770\n",
      "RXN-14770_reverse\n"
     ]
    }
   ],
   "source": [
    "# Load metacyc v21\n",
    "mc_rxns = load_json('../reaction_mapping/mapping/mc_v21_as_is.json')\n",
    "\n",
    "ac_id = 'ACETYL-COA:1'\n",
    "\n",
    "# Search through metacyc reactions for\n",
    "# reactions with two acetyl-coas\n",
    "for k, v in mc_rxns.items():\n",
    "    if ac_id in v[0]:\n",
    "        print(k)\n",
    "    elif ac_id in v[1]:\n",
    "        print(k)"
   ]
  },
  {
   "cell_type": "markdown",
   "metadata": {},
   "source": [
    "# Appendix"
   ]
  },
  {
   "cell_type": "code",
   "execution_count": 66,
   "metadata": {},
   "outputs": [],
   "source": [
    "def get_rule_subs(rule_smarts):\n",
    "    '''\n",
    "    Counts number of reactants in a SMARTS-\n",
    "    encoded operator\n",
    "    '''\n",
    "    sides = rule_smarts.split('>>')\n",
    "    rule_subs = [[], []]\n",
    "    for j, side in enumerate(sides):\n",
    "        dot_split = side.split('.') # Reactants separated by '.'\n",
    "\n",
    "        # But must catch where pieces of a single compound\n",
    "        # are split by '.', in which case they'll be surrounded by ()\n",
    "        left_split_parens = []\n",
    "        right_split_parens = []\n",
    "        for i, elt in enumerate(dot_split):\n",
    "            if (elt[0] == '(') & (elt[-1] != ')'):\n",
    "                left_split_parens.append(i)\n",
    "            elif (elt[0] != '(') & (elt[-1] == ')'):\n",
    "                right_split_parens.append(i)\n",
    "            else:\n",
    "                rule_subs[j].append(elt)\n",
    "\n",
    "                \n",
    "        # left_split_parens, right_split_parens = np.array(left_split_parens), np.array(right_split_parens)\n",
    "        for i in range(len(left_split_parens)):\n",
    "            combined_sub = '.'.join(dot_split[left_split_parens[i]:right_split_parens[i]+1])\n",
    "            rule_subs[j].append(combined_sub)\n",
    "    \n",
    "    return rule_subs\n",
    "\n",
    "\n",
    "\n",
    "imt1 = '[#6;$([#6&R]1(-&!@[#8&!R]-&!@[#15&!R](=&!@[#8&!R])(-&!@[#8&!R])-&!@[#8&!R]-&!@[#15&!R](=&!@[#8&!R])(-&!@[#8&!R])-&!@[#8&!R]-&!@[#6&!R]-&!@[#6&R]2-&@[#8&R]-&@[#6&R](-&@[#6&R](-&@[#6&R]-&@2-&!@[#8&!R])-&!@[#8&!R])-&!@[#7&R]2:&@[#6&R]:&@[#6&R]:&@[#6&R](:&@[#7&R]:&@[#6&R]:&@2=&!@[#8&!R])=&!@[#8&!R])-&@[#8&R]-&@[#6&R](-&@[#6&R](-&@[#6&R](-&@[#6&R]-&@1-&!@[#7&!R]-&!@[#6&!R](-&!@[#6&!R])=&!@[#8&!R])-&!@[#8&!R])-&!@[#8&!R])-&!@[#6&!R]-&!@[#8&!R]):1]-[#8;$([#8&!R](-[#6&R]1-&@[#8&R]-&@[#6&R](-&@[#6&R](-&@[#6&R](-&@[#6&R]-&@1-&!@[#7&!R]-&!@[#6&!R](-&!@[#6&!R])=&!@[#8&!R])-&!@[#8&!R])-&!@[#8&!R])-&!@[#6&!R]-&!@[#8&!R])-[#15&!R](=&!@[#8&!R])(-&!@[#8&!R])-&!@[#8&!R]-&!@[#15&!R](=&!@[#8&!R])(-&!@[#8&!R])-&!@[#8&!R]-&!@[#6&!R]-&!@[#6&R]1-&@[#8&R]-&@[#6&R](-&@[#6&R](-&@[#6&R]-&@1-&!@[#8&!R])-&!@[#8&!R])-&!@[#7&R]1:&@[#6&R]:&@[#6&R]:&@[#6&R](:&@[#7&R]:&@[#6&R]:&@1=&!@[#8&!R])=&!@[#8&!R]):2].[#8;$([#8&!R]-[#6&!R]-&!@[#6&R]1-&@[#8&R]-&@[#6&R](-&!@[#8&!R])-&@[#6&R](-&@[#6&R](-&@[#6&R]-&@1-&!@[#8&!R])-&!@[#8&!R])-&!@[#8&!R]):3]>>[#6:1]-[#8:3].[#8:2]'\n",
    "min1 = '[#6:1]-[#8:2].[#8:3].(foo.bar)>>[#6:1]-[#8:3].[#8:2]'\n",
    "\n",
    "def GetRingSystems(mol, includeSpiro=False):\n",
    "    ri = mol.GetRingInfo()\n",
    "    systems = []\n",
    "    for ring in ri.AtomRings():\n",
    "        ringAts = set(ring)\n",
    "        nSystems = []\n",
    "        for system in systems:\n",
    "            nInCommon = len(ringAts.intersection(system))\n",
    "            if nInCommon and (includeSpiro or nInCommon>1):\n",
    "                ringAts = ringAts.union(system)\n",
    "            else:\n",
    "                nSystems.append(system)\n",
    "        nSystems.append(ringAts)\n",
    "        systems = nSystems\n",
    "    return systems\n",
    "mol = Chem.MolFromSmiles('CCCCC')\n",
    "print(GetRingSystems(mol))"
   ]
  },
  {
   "cell_type": "code",
   "execution_count": 10,
   "metadata": {},
   "outputs": [
    {
     "name": "stdout",
     "output_type": "stream",
     "text": [
      "4 4 4 4\n"
     ]
    }
   ],
   "source": [
    "min_reactant_counts = [len(elt.split(';')) for elt in list(zip(*min_rules))[1]]\n",
    "min_product_counts = [len(elt.split(';')) for elt in list(zip(*min_rules))[3]]\n",
    "imt_reactant_counts = [len(elt.split(';')) for elt in list(zip(*imt_rules))[1]]\n",
    "imt_product_counts = [len(elt.split(';')) for elt in list(zip(*imt_rules))[3]]\n",
    "print(max(min_reactant_counts), max(min_product_counts), max(imt_reactant_counts), max(imt_product_counts))"
   ]
  }
 ],
 "metadata": {
  "kernelspec": {
   "display_name": "mine",
   "language": "python",
   "name": "python3"
  },
  "language_info": {
   "codemirror_mode": {
    "name": "ipython",
    "version": 3
   },
   "file_extension": ".py",
   "mimetype": "text/x-python",
   "name": "python",
   "nbconvert_exporter": "python",
   "pygments_lexer": "ipython3",
   "version": "3.7.12"
  },
  "orig_nbformat": 4
 },
 "nbformat": 4,
 "nbformat_minor": 2
}
