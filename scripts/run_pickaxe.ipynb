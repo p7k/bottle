{
 "cells": [
  {
   "cell_type": "markdown",
   "metadata": {},
   "source": [
    "# Identify Paths from BOTTLE proposed route"
   ]
  },
  {
   "cell_type": "code",
   "execution_count": 1,
   "metadata": {
    "tags": []
   },
   "outputs": [
    {
     "data": {
      "image/png": "[encoded data removed]",
      "text/plain": [
       "<Figure size 640x480 with 1 Axes>"
      ]
     },
     "metadata": {},
     "output_type": "display_data"
    }
   ],
   "source": [
    "import os\n",
    "CWD = os.path.abspath(\"\")\n",
    "os.chdir(CWD)\n",
    "\n",
    "from minedatabase.pickaxe import Pickaxe\n",
    "from minedatabase.utils import get_compound_hash\n",
    "from minedatabase.rules import metacyc_intermediate\n",
    "from minedatabase.filters import (\n",
    "    SimilarityFilter,\n",
    "    SimilaritySamplingFilter,\n",
    ")\n",
    "\n",
    "from rdkit.Chem import CanonSmiles\n",
    "\n",
    "str_dir = \"../src/starters_targets_rules/\"\n",
    "\n",
    "input_cpds = str_dir + \"succinate.csv\"\n",
    "target_cpds = str_dir + \"mvacid.csv\"\n",
    "_, coreactant_list, rule_name = metacyc_intermediate(\n",
    "    fraction_coverage=1\n",
    "    # n_rules=5\n",
    ")\n",
    "rule_list = str_dir + 'JN3604IMT_rules.tsv'"
   ]
  },
  {
   "cell_type": "code",
   "execution_count": 2,
   "metadata": {
    "tags": []
   },
   "outputs": [
    {
     "name": "stdout",
     "output_type": "stream",
     "text": [
      "----------------------------------------\n",
      "Intializing pickaxe object\n"
     ]
    },
    {
     "name": "stderr",
     "output_type": "stream",
     "text": [
      "RDKit WARNING: [07:22:20] WARNING: not removing hydrogen atom without neighbors\n",
      "RDKit WARNING: [07:22:20] WARNING: not removing hydrogen atom without neighbors\n",
      "[07:22:20] WARNING: not removing hydrogen atom without neighbors\n",
      "[07:22:20] WARNING: not removing hydrogen atom without neighbors\n"
     ]
    },
    {
     "name": "stdout",
     "output_type": "stream",
     "text": [
      "\n",
      "Done intializing pickaxe object\n",
      "----------------------------------------\n",
      "\n",
      "1 compounds loaded...\n",
      "(1 after removing stereochemistry)\n",
      "1 target compounds loaded\n",
      "\n"
     ]
    }
   ],
   "source": [
    "pk = Pickaxe(\n",
    "        coreactant_list=coreactant_list,\n",
    "        rule_list=rule_list,\n",
    "        errors=True,\n",
    "        quiet=True,\n",
    "        filter_after_final_gen=True,\n",
    "    )\n",
    "\n",
    "pk.load_compound_set(compound_file=input_cpds)\n",
    "\n",
    "pk.load_targets(target_cpds)\n",
    "tani_filter = False # True\n",
    "tani_threshold = [0, 0, 0.3, 0.3, 0.3]\n",
    "increasing_tani = False\n",
    "\n",
    "tani_sample = True # False\n",
    "sample_size = 1000 # 10\n",
    "weight = None # 5\n",
    "\n",
    "# Apply filters\n",
    "if tani_filter:\n",
    "    taniFilter = SimilarityFilter(\n",
    "        crit_similarity=tani_threshold, increasing_similarity=increasing_tani\n",
    "    )\n",
    "    pk.filters.append(taniFilter)\n",
    "\n",
    "if tani_sample:\n",
    "    taniSampleFilter = SimilaritySamplingFilter(\n",
    "        sample_size=sample_size, weight=weight\n",
    "    )\n",
    "    pk.filters.append(taniSampleFilter)\n",
    "    pass"
   ]
  },
  {
   "cell_type": "code",
   "execution_count": 3,
   "metadata": {
    "tags": []
   },
   "outputs": [
    {
     "name": "stdout",
     "output_type": "stream",
     "text": [
      "----------------------------------------\n",
      "Filtering Generation 0\n",
      "\n",
      "Sampling 1000 Compounds Based on a Weighted Similarity Distribution\n",
      "Filtering Generation 0 via Similarity Sampling.\n",
      "-- Number to sample is less than number of compounds. Returning all compounds.\n",
      "num sampled =  1\n",
      "1 of 1 compounds selected after Similarity Sampling of generation 0--took 0.0008094310760498047s.\n",
      "\n",
      "Done filtering Generation 0\n",
      "----------------------------------------\n",
      "\n",
      "----------------------------------------\n",
      "Expanding Generation 1\n",
      "\n",
      "Generation 1: 0 percent complete\n",
      "Generation 1 finished in 5.73078465461731 s and contains:\n",
      "\t\t59 new compounds\n",
      "\t\t70 new reactions\n",
      "\n",
      "Done expanding Generation: 1.\n",
      "----------------------------------------\n",
      "\n",
      "----------------------------------------\n",
      "Filtering Generation 1\n",
      "\n",
      "Sampling 1000 Compounds Based on a Weighted Similarity Distribution\n",
      "Filtering Generation 1 via Similarity Sampling.\n",
      "-- Number to sample is less than number of compounds. Returning all compounds.\n",
      "num sampled =  59\n",
      "59 of 59 compounds selected after Similarity Sampling of generation 1--took 0.0006115436553955078s.\n",
      "\n",
      "Done filtering Generation 1\n",
      "----------------------------------------\n",
      "\n",
      "----------------------------------------\n",
      "Expanding Generation 2\n",
      "\n",
      "Generation 2: 0 percent complete\n",
      "Generation 2: 10 percent complete\n",
      "Generation 2: 20 percent complete\n",
      "Generation 2: 31 percent complete\n",
      "Generation 2: 41 percent complete\n",
      "Generation 2: 51 percent complete\n",
      "Generation 2: 61 percent complete\n",
      "Generation 2: 71 percent complete\n",
      "Generation 2: 81 percent complete\n",
      "Generation 2: 92 percent complete\n",
      "Generation 2 finished in 106.38309955596924 s and contains:\n",
      "\t\t35228 new compounds\n",
      "\t\t40065 new reactions\n",
      "\n",
      "Done expanding Generation: 2.\n",
      "----------------------------------------\n",
      "\n",
      "----------------------------------------\n",
      "Filtering Generation 2\n",
      "\n",
      "Sampling 1000 Compounds Based on a Weighted Similarity Distribution\n",
      "Filtering Generation 2 via Similarity Sampling.\n",
      "-- Calculating Fingerprints and Similarity Values.\n",
      "-- Completed Similarity Calculation in 9.935852766036987\n",
      "-- Sampling compounds to expand.\n",
      "-- Finished sampling in 0.15079307556152344 s. Recalculated CDF 3 times.\n",
      "num sampled =  1000\n",
      "1000 of 35228 compounds selected after Similarity Sampling of generation 2--took 10.876110076904297s.\n",
      "\n",
      "Done filtering Generation 2\n",
      "----------------------------------------\n",
      "\n",
      "----------------------------------------\n",
      "Expanding Generation 3\n",
      "\n",
      "Generation 3: 0 percent complete\n",
      "Generation 3: 10 percent complete\n",
      "Generation 3: 20 percent complete\n",
      "Generation 3: 30 percent complete\n",
      "Generation 3: 40 percent complete\n",
      "Generation 3: 50 percent complete\n",
      "Generation 3: 60 percent complete\n",
      "Generation 3: 70 percent complete\n",
      "Generation 3: 80 percent complete\n",
      "Generation 3: 90 percent complete\n",
      "Generation 3 finished in 500.5559103488922 s and contains:\n",
      "\t\t236158 new compounds\n",
      "\t\t306200 new reactions\n",
      "\n",
      "Done expanding Generation: 3.\n",
      "----------------------------------------\n",
      "\n",
      "----------------------------------------\n",
      "Filtering Generation 3\n",
      "\n",
      "Sampling 1000 Compounds Based on a Weighted Similarity Distribution\n",
      "Filtering Generation 3 via Similarity Sampling.\n",
      "-- Calculating Fingerprints and Similarity Values.\n",
      "-- Completed Similarity Calculation in 64.74647641181946\n",
      "-- Sampling compounds to expand.\n",
      "-- Finished sampling in 0.11655855178833008 s. Recalculated CDF 0 times.\n",
      "num sampled =  1000\n",
      "1000 of 236158 compounds selected after Similarity Sampling of generation 3--took 69.28932356834412s.\n",
      "\n",
      "Done filtering Generation 3\n",
      "----------------------------------------\n",
      "\n",
      "----------------------------------------\n",
      "Expanding Generation 4\n",
      "\n",
      "Generation 4: 0 percent complete\n",
      "Generation 4: 10 percent complete\n",
      "Generation 4: 20 percent complete\n",
      "Generation 4: 30 percent complete\n",
      "Generation 4: 40 percent complete\n",
      "Generation 4: 50 percent complete\n",
      "Generation 4: 60 percent complete\n",
      "Generation 4: 70 percent complete\n",
      "Generation 4: 80 percent complete\n",
      "Generation 4: 90 percent complete\n",
      "Generation 4 finished in 553.2977397441864 s and contains:\n",
      "\t\t640022 new compounds\n",
      "\t\t720856 new reactions\n",
      "\n",
      "Done expanding Generation: 4.\n",
      "----------------------------------------\n",
      "\n",
      "----------------------------------------\n",
      "Filtering Generation 4\n",
      "\n",
      "Sampling 1000 Compounds Based on a Weighted Similarity Distribution\n",
      "Filtering Generation 4 via Similarity Sampling.\n",
      "-- Calculating Fingerprints and Similarity Values.\n",
      "-- Completed Similarity Calculation in 283.6768023967743\n",
      "-- Sampling compounds to expand.\n",
      "-- Finished sampling in 0.23360204696655273 s. Recalculated CDF 0 times.\n",
      "num sampled =  1000\n",
      "1000 of 640022 compounds selected after Similarity Sampling of generation 4--took 309.8070342540741s.\n",
      "\n",
      "Done filtering Generation 4\n",
      "----------------------------------------\n",
      "\n",
      "----------------------------------------\n",
      "Pruning to 1 target compounds\n",
      "Pruned network to 89758 compounds and 106853 reactions based on 1 whitelisted compounds.\n",
      "\n",
      "Found 1 targets.\n",
      "Pruning took 1.7014522552490234s\n",
      "----------------------------------------\n",
      "\n"
     ]
    }
   ],
   "source": [
    "# Transform compounds (the main step)\n",
    "processes = 50\n",
    "generations = 4\n",
    "pk.transform_all(processes, generations)\n",
    "pk.prune_network_to_targets()"
   ]
  },
  {
   "cell_type": "code",
   "execution_count": 6,
   "metadata": {
    "tags": []
   },
   "outputs": [],
   "source": [
    "# bad_es = []\n",
    "# for i, vals in pk.compounds.items():\n",
    "#     try:\n",
    "#         pk.compounds[i][\"SMILES\"] = CanonSmiles(vals[\"SMILES\"])\n",
    "#     except BaseException as e:\n",
    "#         bad_es.append(vals[\"SMILES\"])\n",
    "#         pk.compounds[i][\"SMILES\"] = vals[\"SMILES\"].replace(\"*\", \"\")\n",
    "        "
   ]
  },
  {
   "cell_type": "code",
   "execution_count": 4,
   "metadata": {
    "tags": []
   },
   "outputs": [],
   "source": [
    "pk.pickle_pickaxe(\"/projects/b1039/spn1560/bottle/succinate_to_mvacid_gen_4_tan_sample_n_samples_1000.pk\") # Save results"
   ]
  },
  {
   "cell_type": "code",
   "execution_count": 5,
   "metadata": {
    "tags": []
   },
   "outputs": [
    {
     "name": "stdout",
     "output_type": "stream",
     "text": [
      "Loading /projects/b1039/spn1560/bottle/succinate_to_mvacid_gen_4_tan_sample_n_samples_1000.pk pickled data.\n",
      "Loaded 89758 compounds\n",
      "Loaded 106853 reactions\n",
      "Loaded 3604 operators\n",
      "Loaded 1 targets\n",
      "Took 5.479995250701904\n"
     ]
    }
   ],
   "source": [
    "pk.load_pickled_pickaxe(\"/projects/b1039/spn1560/bottle/succinate_to_mvacid_gen_4_tan_sample_n_samples_1000.pk\") # Load results"
   ]
  }
 ],
 "metadata": {
  "kernelspec": {
   "display_name": "Python 3 (ipykernel)",
   "language": "python",
   "name": "python3"
  },
  "language_info": {
   "codemirror_mode": {
    "name": "ipython",
    "version": 3
   },
   "file_extension": ".py",
   "mimetype": "text/x-python",
   "name": "python",
   "nbconvert_exporter": "python",
   "pygments_lexer": "ipython3",
   "version": "3.7.13"
  }
 },
 "nbformat": 4,
 "nbformat_minor": 4
}
