{
 "cells": [
  {
   "cell_type": "code",
   "execution_count": 1,
   "metadata": {},
   "outputs": [
    {
     "name": "stdout",
     "output_type": "stream",
     "text": [
      "cxcalc is not installed, operating in read-only mode. A local cache may be loaded, but no compounds can be created. Install cxcalc and obtain a ChemAxon license to enable compound creation.\n",
      "compounds.sqlite already exists.\n",
      "Delete existing file and replace?\n",
      "Local cache generation cancelled.\n"
     ]
    }
   ],
   "source": [
    "from equilibrator_assets.local_compound_cache import LocalCompoundCache\n",
    "lc = LocalCompoundCache()\n",
    "lc.generate_local_cache_from_default_zenodo(\"compounds.sqlite\")"
   ]
  },
  {
   "cell_type": "code",
   "execution_count": 2,
   "metadata": {},
   "outputs": [
    {
     "name": "stdout",
     "output_type": "stream",
     "text": [
      "cxcalc is not installed, operating in read-only mode. A local cache may be loaded, but no compounds can be created. Install cxcalc and obtain a ChemAxon license to enable compound creation.\n",
      "Loading compounds from compounds.sqlite\n",
      "Read-Only mode: Only existing compounds in the database can be accessed.\n"
     ]
    }
   ],
   "source": [
    "from minedatabase.thermodynamics import Thermodynamics\n",
    "thermo = Thermodynamics()\n",
    "thermo.load_thermo_from_sqlite(\"compounds.sqlite\")"
   ]
  },
  {
   "cell_type": "code",
   "execution_count": 7,
   "metadata": {},
   "outputs": [
    {
     "name": "stdout",
     "output_type": "stream",
     "text": [
      "----------------------------------------\n",
      "Intializing pickaxe object\n",
      "\n",
      "Done intializing pickaxe object\n",
      "----------------------------------------\n",
      "\n",
      "Loading ../data/raw_expansions/succinate_to_mvacid_gen_4_tan_sample_1_n_samples_1000.pk pickled data.\n",
      "Loaded 89758 compounds\n",
      "Loaded 106853 reactions\n",
      "Loaded 3604 operators\n",
      "Loaded 1 targets\n",
      "Took 6.45680570602417\n"
     ]
    }
   ],
   "source": [
    "import pickle\n",
    "from minedatabase.pickaxe import Pickaxe\n",
    "\n",
    "expansion_dir = '../data/raw_expansions/'\n",
    "starters = 'succinate'\n",
    "targets = 'mvacid'\n",
    "generations = 4\n",
    "fn = f\"{starters}_to_{targets}_gen_{generations}_tan_sample_1_n_samples_1000.pk\" # Expansion file name\n",
    "\n",
    "# Load raw expansion object\n",
    "pk = Pickaxe()\n",
    "path = expansion_dir + fn\n",
    "pk.load_pickled_pickaxe(path)\n"
   ]
  },
  {
   "cell_type": "code",
   "execution_count": 11,
   "metadata": {},
   "outputs": [
    {
     "name": "stdout",
     "output_type": "stream",
     "text": [
      "Read-Only mode: Only existing compounds in the database can be accessed.\n"
     ]
    },
    {
     "name": "stderr",
     "output_type": "stream",
     "text": [
      "==============================\n",
      "*** Open Babel Warning  in InChI code\n",
      "  #1 :Omitted undefined stereo\n"
     ]
    }
   ],
   "source": [
    "# for k in pk.compounds.keys():\n",
    "#     print(k)\n",
    "cid = 'C5cac46f11a105747ef65c85f4b005e65d703bc40'\n",
    "pk.compounds[cid]\n",
    "thermo.standard_dg_formation_from_cid(c_id=cid, pickaxe=pk)"
   ]
  },
  {
   "cell_type": "code",
   "execution_count": 6,
   "metadata": {},
   "outputs": [
    {
     "name": "stdout",
     "output_type": "stream",
     "text": [
      "succinate_to_mvacid_gen_4_tan_sample_1_n_samples_1000.pk\n"
     ]
    }
   ],
   "source": [
    "print(fn)"
   ]
  }
 ],
 "metadata": {
  "kernelspec": {
   "display_name": "mine",
   "language": "python",
   "name": "python3"
  },
  "language_info": {
   "codemirror_mode": {
    "name": "ipython",
    "version": 3
   },
   "file_extension": ".py",
   "mimetype": "text/x-python",
   "name": "python",
   "nbconvert_exporter": "python",
   "pygments_lexer": "ipython3",
   "version": "3.7.12"
  }
 },
 "nbformat": 4,
 "nbformat_minor": 2
}
