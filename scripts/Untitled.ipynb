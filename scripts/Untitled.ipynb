{
 "cells": [
  {
   "cell_type": "code",
   "execution_count": 1,
   "id": "bf4ed031-7be8-46d4-95d8-ba54141aba0e",
   "metadata": {},
   "outputs": [],
   "source": [
    "from minedatabase.pickaxe import Pickaxe"
   ]
  },
  {
   "cell_type": "code",
   "execution_count": 2,
   "id": "bc64d49c-b5e9-4480-8e5a-0ee1870e928d",
   "metadata": {},
   "outputs": [
    {
     "name": "stdout",
     "output_type": "stream",
     "text": [
      "----------------------------------------\n",
      "Intializing pickaxe object\n",
      "\n",
      "Done intializing pickaxe object\n",
      "----------------------------------------\n",
      "\n",
      "Loading ./Results/4gen_varTanimotoCutoff.pk pickled data.\n",
      "Loaded 262 compounds\n",
      "Loaded 1584 reactions\n",
      "Loaded 2558 operators\n",
      "Loaded 1 targets\n",
      "Took 1.4110264778137207\n"
     ]
    }
   ],
   "source": [
    "pk = Pickaxe()\n",
    "pk.load_pickled_pickaxe(\"./Results/4gen_varTanimotoCutoff.pk\")"
   ]
  },
  {
   "cell_type": "markdown",
   "id": "b1c7bc89-5378-48a1-9d70-20c025bdd14f",
   "metadata": {},
   "source": [
    "from pathway_utils import create_graph_from_pickaxe\n",
    "\n",
    "# Function to patch older results that weren't made with updated PickaxeGeneric code\n",
    "def rename_smiles_reaction(pk):\n",
    "    for rxn in pk.reactions.values():\n",
    "        rxn[\"SMILES_rxn\"] = rxn[\"SMILES_reaction\"]\n",
    "        \n",
    "# Create the initial graph\n",
    "DG, rxn, edge = create_graph_from_pickaxe(pk, \"Biology\")\n",
    "starting_nodes = []\n",
    "bad_nodes = []\n",
    "for n in DG.nodes():\n",
    "    try:\n",
    "        if DG.nodes()[n][\"Type\"] == \"Starting Compound\":\n",
    "            starting_nodes.append(n)\n",
    "    except:\n",
    "        bad_nodes.append(n)"
   ]
  },
  {
   "cell_type": "code",
   "execution_count": 8,
   "id": "f165f6af-a1ea-4729-b8a4-6f03661b05b8",
   "metadata": {},
   "outputs": [
    {
     "data": {
      "text/plain": [
       "52"
      ]
     },
     "execution_count": 8,
     "metadata": {},
     "output_type": "execute_result"
    }
   ],
   "source": [
    "from multiprocessing import cpu_count\n",
    "cpu_count()"
   ]
  }
 ],
 "metadata": {
  "kernelspec": {
   "display_name": "Python 3",
   "language": "python",
   "name": "python3"
  },
  "language_info": {
   "codemirror_mode": {
    "name": "ipython",
    "version": 3
   },
   "file_extension": ".py",
   "mimetype": "text/x-python",
   "name": "python",
   "nbconvert_exporter": "python",
   "pygments_lexer": "ipython3",
   "version": "3.7.7"
  }
 },
 "nbformat": 4,
 "nbformat_minor": 5
}
