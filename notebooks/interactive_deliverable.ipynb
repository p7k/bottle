{
 "cells": [
  {
   "cell_type": "code",
   "execution_count": 43,
   "metadata": {},
   "outputs": [],
   "source": [
    "from IPython.display import display, clear_output\n",
    "import ipywidgets as widgets\n",
    "from ipywidgets import interact\n",
    "from ipysheet import from_dataframe\n",
    "from src.post_processing import PathWrangler\n",
    "import pandas as pd"
   ]
  },
  {
   "cell_type": "code",
   "execution_count": 2,
   "metadata": {},
   "outputs": [],
   "source": [
    "path_filepath = '../artifacts/processed_expansions/found_paths.json'\n",
    "predicted_reactions_filepath = \"../artifacts/processed_expansions/predicted_reactions.json\"\n",
    "known_reactions_filepath = \"../artifacts/processed_expansions/known_reactions.json\"\n",
    "\n",
    "pw = PathWrangler(\n",
    "    path_filepath=path_filepath,\n",
    "    pr_filepath=predicted_reactions_filepath,\n",
    "    kr_filepath=known_reactions_filepath\n",
    ")"
   ]
  },
  {
   "cell_type": "code",
   "execution_count": 27,
   "metadata": {},
   "outputs": [],
   "source": [
    "# Options\n",
    "starter_options, target_options = zip(*pw.starter_targets)\n",
    "target_options = tuple(set(target_options))\n",
    "evidence_options = [(elt.value, elt.name) for elt in pw.enzyme_existence]\n",
    "sort_options = [\n",
    "    (\"Mean RCMCS\", 'mean_rcmcs'),\n",
    "    (\"Min RCMCS\", 'min_rcmcs'),\n",
    "    (\"Max-min driving force\", 'mdf')\n",
    "]\n",
    "\n",
    "# (Default) selection\n",
    "starter_selection = starter_options[:3]\n",
    "target_selection = target_options[:3]\n",
    "loe_selection = [pw.enzyme_existence.PROTEIN.name]\n",
    "sort_by_selection = 'mean_rcmcs'\n",
    "\n",
    "# Define filter / sort widgets\n",
    "starter_selector = widgets.SelectMultiple(\n",
    "    options=starter_options,\n",
    "    value=starter_selection,\n",
    "    rows=len(starter_options),\n",
    "    description='Starters:',\n",
    "    disabled=False\n",
    ")\n",
    "\n",
    "target_selector = widgets.SelectMultiple(\n",
    "    options=target_options,\n",
    "    value=target_selection,\n",
    "    rows=len(target_options),\n",
    "    description='Targets:',\n",
    "    disabled=False\n",
    ")\n",
    "\n",
    "evidence_selector = widgets.SelectMultiple(\n",
    "    options=evidence_options,\n",
    "    value=loe_selection,\n",
    "    rows=len(evidence_options),\n",
    "    description='Enzyme level of evidence:',\n",
    "    disabled=False\n",
    ")\n",
    "\n",
    "sort_by_radio_buttons = widgets.RadioButtons(\n",
    "    options=sort_options,\n",
    "    value=sort_by_selection,\n",
    "    description='Sort paths by:',\n",
    "    disabled=False\n",
    ")\n",
    "\n",
    "get_paths_buttton = widgets.Button(\n",
    "    description='Get paths',\n",
    "    disabled=False,\n",
    "    button_style='success', # 'success', 'info', 'warning', 'danger' or ''\n",
    "    tooltip='Click me',\n",
    "    icon='solid flask' # (FontAwesome names without the `fa-` prefix)\n",
    ")\n",
    "\n",
    "# Define listeners\n",
    "\n",
    "path_button_out = widgets.Output()\n",
    "def generate_paths(change):\n",
    "    global paths, starter_selection, target_selection, loe_selection, sort_by_selection\n",
    "    filter_by_enzymes = {'existence': loe_selection} # Only paths w/ enzymes w/ protein-level evidence\n",
    "    paths = pw.get_paths(\n",
    "        starters=starter_selection,\n",
    "        targets=target_selection,\n",
    "        sort_by=sort_by_selection,\n",
    "        filter_by_enzymes=filter_by_enzymes\n",
    "    )\n",
    "\n",
    "    with path_button_out:\n",
    "        print(f\"{len(paths)} paths meet your criteria\")\n",
    "\n",
    "# Initialize paths\n",
    "paths = None\n",
    "generate_paths(_)\n",
    "\n",
    "path_viewer_context = widgets.Output()\n",
    "def starter_listener(change):\n",
    "    global starter_selection\n",
    "    starter_selection = starter_selector.value\n",
    "\n",
    "\n",
    "def target_listener(change):\n",
    "    global target_selection\n",
    "    target_selection = target_selector.value\n",
    "\n",
    "def evidence_listener(change):\n",
    "    global loe_selection\n",
    "    loe_selection = [evidence_options[k] for k in evidence_selector.value]\n",
    "\n",
    "def sort_by_listener(change):\n",
    "    global sort_by_selection\n",
    "    sort_by_selection = sort_by_radio_buttons.value\n",
    "\n",
    "# Attach listeners to UI widgets\n",
    "starter_selector.observe(starter_listener)\n",
    "target_selector.observe(target_listener)\n",
    "evidence_selector.observe(evidence_listener)\n",
    "sort_by_radio_buttons.observe(sort_by_listener)\n",
    "get_paths_buttton.on_click(generate_paths)\n"
   ]
  },
  {
   "cell_type": "code",
   "execution_count": 28,
   "metadata": {},
   "outputs": [
    {
     "data": {
      "application/vnd.jupyter.widget-view+json": {
       "model_id": "39043615f66b4e8694fe015715201252",
       "version_major": 2,
       "version_minor": 0
      },
      "text/plain": [
       "VBox(children=(HBox(children=(SelectMultiple(description='Starters:', index=(0, 1, 2), options=('oxaloacetate'…"
      ]
     },
     "metadata": {},
     "output_type": "display_data"
    },
    {
     "data": {
      "application/vnd.jupyter.widget-view+json": {
       "model_id": "17ebc09af380419aa5e8e8ab546680c1",
       "version_major": 2,
       "version_minor": 0
      },
      "text/plain": [
       "Output(outputs=({'name': 'stdout', 'text': '34 paths meet your criteria\\n', 'output_type': 'stream'},))"
      ]
     },
     "metadata": {},
     "output_type": "display_data"
    }
   ],
   "source": [
    "selectors = widgets.HBox(\n",
    "    [\n",
    "        starter_selector,\n",
    "        target_selector,\n",
    "        evidence_selector,\n",
    "        sort_by_radio_buttons\n",
    "    ]\n",
    ")\n",
    "\n",
    "interface = widgets.VBox([selectors, get_paths_buttton])\n",
    "display(interface)\n",
    "display(path_button_out)"
   ]
  },
  {
   "cell_type": "code",
   "execution_count": 88,
   "metadata": {},
   "outputs": [
    {
     "data": {
      "application/vnd.jupyter.widget-view+json": {
       "model_id": "a798874646f24f6aaf683f1d8a83bd97",
       "version_major": 2,
       "version_minor": 0
      },
      "text/plain": [
       "IntSlider(value=0)"
      ]
     },
     "metadata": {},
     "output_type": "display_data"
    },
    {
     "data": {
      "application/vnd.jupyter.widget-view+json": {
       "model_id": "0ff6cc3a5242449e8538c7381cb9d7de",
       "version_major": 2,
       "version_minor": 0
      },
      "text/plain": [
       "interactive(children=(IntSlider(value=1, description='i', max=3, min=-1), Output()), _dom_classes=('widget-int…"
      ]
     },
     "metadata": {},
     "output_type": "display_data"
    },
    {
     "data": {
      "application/vnd.jupyter.widget-view+json": {
       "model_id": "a64b11e635b3441097408cf3acc5ba52",
       "version_major": 2,
       "version_minor": 0
      },
      "text/plain": [
       "interactive(children=(IntSlider(value=1, description='i', max=3, min=-1), Output()), _dom_classes=('widget-int…"
      ]
     },
     "metadata": {},
     "output_type": "display_data"
    },
    {
     "data": {
      "application/vnd.jupyter.widget-view+json": {
       "model_id": "fdf919b5127b47ca86ebeef93d40777e",
       "version_major": 2,
       "version_minor": 0
      },
      "text/plain": [
       "interactive(children=(IntSlider(value=1, description='i', max=3, min=-1), Output()), _dom_classes=('widget-int…"
      ]
     },
     "metadata": {},
     "output_type": "display_data"
    }
   ],
   "source": [
    "\n",
    "\n",
    "\n",
    "display(int_range)"
   ]
  },
  {
   "cell_type": "code",
   "execution_count": 89,
   "metadata": {},
   "outputs": [],
   "source": [
    "def on_value_change(change):\n",
    "    # clear_output()\n",
    "    interact(f, i=1)\n",
    "\n",
    "def f(i):\n",
    "    return i**2  \n",
    "\n",
    "\n",
    "\n",
    "\n",
    "int_range.observe(on_value_change, names='value')\n",
    "\n"
   ]
  },
  {
   "cell_type": "code",
   "execution_count": 64,
   "metadata": {},
   "outputs": [
    {
     "data": {
      "application/vnd.jupyter.widget-view+json": {
       "model_id": "6d7abf2fdbb84441bd0792cc38a8936f",
       "version_major": 2,
       "version_minor": 0
      },
      "text/plain": [
       "Output()"
      ]
     },
     "metadata": {},
     "output_type": "display_data"
    }
   ],
   "source": [
    "output2 = widgets.Output()\n",
    "with output2:\n",
    "    # clear_output()\n",
    "    display(widgets.interactive(f, i=1))\n",
    "display(output2)"
   ]
  },
  {
   "cell_type": "code",
   "execution_count": 95,
   "metadata": {},
   "outputs": [],
   "source": [
    "def f(i):\n",
    "    display(i**2)  \n",
    "wi = widgets.interactive(f, i=1)"
   ]
  },
  {
   "cell_type": "code",
   "execution_count": 101,
   "metadata": {},
   "outputs": [
    {
     "data": {
      "application/vnd.jupyter.widget-view+json": {
       "model_id": "3fd75b6c25ca458cbcc036f265c411ed",
       "version_major": 2,
       "version_minor": 0
      },
      "text/plain": [
       "IntSlider(value=0)"
      ]
     },
     "metadata": {},
     "output_type": "display_data"
    },
    {
     "data": {
      "application/vnd.jupyter.widget-view+json": {
       "model_id": "da9ea12a0467463f84379783f8ca5add",
       "version_major": 2,
       "version_minor": 0
      },
      "text/plain": [
       "interactive(children=(IntSlider(value=3, description='i', max=3, min=-1), Output(outputs=({'output_type': 'dis…"
      ]
     },
     "metadata": {},
     "output_type": "display_data"
    },
    {
     "data": {
      "application/vnd.jupyter.widget-view+json": {
       "model_id": "da9ea12a0467463f84379783f8ca5add",
       "version_major": 2,
       "version_minor": 0
      },
      "text/plain": [
       "interactive(children=(IntSlider(value=3, description='i', max=3, min=-1), Output(outputs=({'output_type': 'dis…"
      ]
     },
     "metadata": {},
     "output_type": "display_data"
    },
    {
     "data": {
      "application/vnd.jupyter.widget-view+json": {
       "model_id": "da9ea12a0467463f84379783f8ca5add",
       "version_major": 2,
       "version_minor": 0
      },
      "text/plain": [
       "interactive(children=(IntSlider(value=3, description='i', max=3, min=-1), Output(outputs=({'output_type': 'dis…"
      ]
     },
     "metadata": {},
     "output_type": "display_data"
    },
    {
     "data": {
      "application/vnd.jupyter.widget-view+json": {
       "model_id": "da9ea12a0467463f84379783f8ca5add",
       "version_major": 2,
       "version_minor": 0
      },
      "text/plain": [
       "interactive(children=(IntSlider(value=3, description='i', max=3, min=-1), Output(outputs=({'output_type': 'dis…"
      ]
     },
     "metadata": {},
     "output_type": "display_data"
    },
    {
     "data": {
      "application/vnd.jupyter.widget-view+json": {
       "model_id": "da9ea12a0467463f84379783f8ca5add",
       "version_major": 2,
       "version_minor": 0
      },
      "text/plain": [
       "interactive(children=(IntSlider(value=3, description='i', max=3, min=-1), Output(outputs=({'output_type': 'dis…"
      ]
     },
     "metadata": {},
     "output_type": "display_data"
    },
    {
     "data": {
      "application/vnd.jupyter.widget-view+json": {
       "model_id": "da9ea12a0467463f84379783f8ca5add",
       "version_major": 2,
       "version_minor": 0
      },
      "text/plain": [
       "interactive(children=(IntSlider(value=3, description='i', max=3, min=-1), Output(outputs=({'output_type': 'dis…"
      ]
     },
     "metadata": {},
     "output_type": "display_data"
    },
    {
     "data": {
      "application/vnd.jupyter.widget-view+json": {
       "model_id": "da9ea12a0467463f84379783f8ca5add",
       "version_major": 2,
       "version_minor": 0
      },
      "text/plain": [
       "interactive(children=(IntSlider(value=3, description='i', max=3, min=-1), Output(outputs=({'output_type': 'dis…"
      ]
     },
     "metadata": {},
     "output_type": "display_data"
    },
    {
     "data": {
      "application/vnd.jupyter.widget-view+json": {
       "model_id": "da9ea12a0467463f84379783f8ca5add",
       "version_major": 2,
       "version_minor": 0
      },
      "text/plain": [
       "interactive(children=(IntSlider(value=3, description='i', max=3, min=-1), Output(outputs=({'output_type': 'dis…"
      ]
     },
     "metadata": {},
     "output_type": "display_data"
    },
    {
     "data": {
      "application/vnd.jupyter.widget-view+json": {
       "model_id": "da9ea12a0467463f84379783f8ca5add",
       "version_major": 2,
       "version_minor": 0
      },
      "text/plain": [
       "interactive(children=(IntSlider(value=3, description='i', max=3, min=-1), Output(outputs=({'output_type': 'dis…"
      ]
     },
     "metadata": {},
     "output_type": "display_data"
    },
    {
     "data": {
      "application/vnd.jupyter.widget-view+json": {
       "model_id": "da9ea12a0467463f84379783f8ca5add",
       "version_major": 2,
       "version_minor": 0
      },
      "text/plain": [
       "interactive(children=(IntSlider(value=3, description='i', max=3, min=-1), Output(outputs=({'output_type': 'dis…"
      ]
     },
     "metadata": {},
     "output_type": "display_data"
    },
    {
     "data": {
      "application/vnd.jupyter.widget-view+json": {
       "model_id": "da9ea12a0467463f84379783f8ca5add",
       "version_major": 2,
       "version_minor": 0
      },
      "text/plain": [
       "interactive(children=(IntSlider(value=3, description='i', max=3, min=-1), Output(outputs=({'output_type': 'dis…"
      ]
     },
     "metadata": {},
     "output_type": "display_data"
    },
    {
     "data": {
      "application/vnd.jupyter.widget-view+json": {
       "model_id": "da9ea12a0467463f84379783f8ca5add",
       "version_major": 2,
       "version_minor": 0
      },
      "text/plain": [
       "interactive(children=(IntSlider(value=3, description='i', max=3, min=-1), Output(outputs=({'output_type': 'dis…"
      ]
     },
     "metadata": {},
     "output_type": "display_data"
    }
   ],
   "source": [
    "int_range = widgets.IntSlider()\n",
    "\n",
    "\n",
    "\n"
   ]
  },
  {
   "cell_type": "code",
   "execution_count": 103,
   "metadata": {},
   "outputs": [
    {
     "data": {
      "application/vnd.jupyter.widget-view+json": {
       "model_id": "3fd75b6c25ca458cbcc036f265c411ed",
       "version_major": 2,
       "version_minor": 0
      },
      "text/plain": [
       "IntSlider(value=33)"
      ]
     },
     "metadata": {},
     "output_type": "display_data"
    }
   ],
   "source": [
    "display(int_range)\n",
    "def on_value_change(change):\n",
    "    # clear_output()\n",
    "    display(wi)\n",
    "\n",
    "int_range.observe(on_value_change, names='value')"
   ]
  },
  {
   "cell_type": "code",
   "execution_count": 65,
   "metadata": {},
   "outputs": [
    {
     "data": {
      "application/vnd.jupyter.widget-view+json": {
       "model_id": "9f155cbd9e8d4a6d99d69352ea6d3331",
       "version_major": 2,
       "version_minor": 0
      },
      "text/plain": [
       "Output(layout=Layout(border_bottom='1px solid black', border_left='1px solid black', border_right='1px solid b…"
      ]
     },
     "metadata": {},
     "output_type": "display_data"
    }
   ],
   "source": [
    "out = widgets.Output(layout={'border': '1px solid black'})\n",
    "\n",
    "\n",
    "with out:\n",
    "    display(widgets.IntSlider())\n",
    "display(out)"
   ]
  },
  {
   "cell_type": "code",
   "execution_count": 104,
   "metadata": {},
   "outputs": [
    {
     "data": {
      "application/vnd.jupyter.widget-view+json": {
       "model_id": "f3eef1ac54984a4bba70a836e833e361",
       "version_major": 2,
       "version_minor": 0
      },
      "text/plain": [
       "Output(layout=Layout(border_bottom='1px solid black', border_left='1px solid black', border_right='1px solid b…"
      ]
     },
     "metadata": {},
     "output_type": "display_data"
    }
   ],
   "source": [
    "out = widgets.Output(layout={'border': '1px solid black'})\n",
    "\n",
    "\n",
    "with out:\n",
    "    display(widgets.Box([widgets.interactive(f, i=1)]))\n",
    "display(out)"
   ]
  },
  {
   "cell_type": "code",
   "execution_count": 67,
   "metadata": {},
   "outputs": [
    {
     "data": {
      "text/plain": [
       "ipywidgets.widgets.interaction.interactive"
      ]
     },
     "execution_count": 67,
     "metadata": {},
     "output_type": "execute_result"
    }
   ],
   "source": [
    "type(widgets.interactive(f, i=1))"
   ]
  },
  {
   "cell_type": "code",
   "execution_count": 31,
   "metadata": {},
   "outputs": [
    {
     "data": {
      "application/vnd.jupyter.widget-view+json": {
       "model_id": "519b2c93b94b4b56b44c1f14976f379a",
       "version_major": 2,
       "version_minor": 0
      },
      "text/plain": [
       "HBox(children=(VBox(children=(IntSlider(value=0, description='a'), IntSlider(value=0, description='b'), IntSli…"
      ]
     },
     "execution_count": 31,
     "metadata": {},
     "output_type": "execute_result"
    }
   ],
   "source": [
    "a = widgets.IntSlider(description='a')\n",
    "b = widgets.IntSlider(description='b')\n",
    "c = widgets.IntSlider(description='c')\n",
    "def f(a, b, c):\n",
    "    print('{}*{}*{}={}'.format(a, b, c, a*b*c))\n",
    "\n",
    "out = widgets.interactive_output(f, {'a': a, 'b': b, 'c': c})\n",
    "\n",
    "widgets.HBox([widgets.VBox([a, b, c]), out])"
   ]
  },
  {
   "cell_type": "markdown",
   "metadata": {},
   "source": [
    "Predicted pathway viewer"
   ]
  },
  {
   "cell_type": "code",
   "execution_count": 6,
   "metadata": {},
   "outputs": [
    {
     "data": {
      "application/vnd.jupyter.widget-view+json": {
       "model_id": "92f28fcbc2a14b19b489a4201d29e213",
       "version_major": 2,
       "version_minor": 0
      },
      "text/plain": [
       "interactive(children=(Dropdown(description='Path #', options=((1, 0), (2, 1), (3, 2), (4, 3), (5, 4), (6, 5), …"
      ]
     },
     "metadata": {},
     "output_type": "display_data"
    }
   ],
   "source": [
    "path_selector = widgets.Dropdown(\n",
    "    options=[(i+1, i) for i in range(len(paths))],\n",
    "    value=0,\n",
    "    description='Path #',\n",
    "    disabled=False,\n",
    "    continuous_update=False,\n",
    "    orientation='horizontal',\n",
    "    readout=True\n",
    ")\n",
    "\n",
    "def display_enzymes(enzymes):\n",
    "    df = pd.DataFrame(data=[e.to_dict() for e in enzymes])\n",
    "    df = df.loc[:, ['uniprot_id', 'ec', 'organism', 'name', 'existence', 'reviewed', 'sequence']]\n",
    "\n",
    "    return from_dataframe(df)\n",
    "\n",
    "def display_predicted_reaction(rxn_step, img):\n",
    "    html = f\"\"\"\n",
    "    <b><u>Step #{rxn_step+1}</u></b>\n",
    "    <div>\n",
    "        <img src=\"{img}\" style=\"width:950px\">\n",
    "    </div>\n",
    "    \"\"\"\n",
    "    return widgets.HTML(html)\n",
    "\n",
    "def display_analogue(img, rcmcs):\n",
    "    html = f\"\"\"\n",
    "    <b><u>{rcmcs * 100:.2f}% similar to predicted reaction</u></b>\n",
    "    <div>\n",
    "        <img src=\"{img}\" style=\"width:900px\">\n",
    "    </div>\n",
    "    \"\"\"\n",
    "    return widgets.HTML(value=html)\n",
    "\n",
    "def display_analogues_enzymes(krs, rcmcses):\n",
    "    kr_elts = []\n",
    "    enzyme_elts = []\n",
    "    for kr, rcmcs in zip(krs, rcmcses):\n",
    "        kr_elts.append(display_analogue(kr.image, rcmcs))\n",
    "        enzyme_elts.append(display_enzymes(kr.enzymes))\n",
    "\n",
    "    kr_selector = widgets.Dropdown(\n",
    "        options=[(i+1, i) for i in range(len(kr_elts))],\n",
    "        value=0,\n",
    "        description=\"Known analogue: \"\n",
    "    )\n",
    "    kr_stack = widgets.Stack(kr_elts, selected_index=0)\n",
    "    kr_sel_disp = widgets.VBox([kr_selector, kr_stack])\n",
    "    enzyme_stack = widgets.Stack(enzyme_elts, selected_index=0)\n",
    "    link_kr = widgets.jslink((kr_selector, 'index'), (kr_stack, 'selected_index'))\n",
    "    link_enz = widgets.jslink((kr_selector, 'index'), (enzyme_stack, 'selected_index'))\n",
    "\n",
    "    tab_titles = ['Known Analogue', 'Enzymes']\n",
    "    tab_children = [kr_sel_disp, enzyme_stack]\n",
    "    tab = widgets.Tab(\n",
    "        children=tab_children,\n",
    "        titles=tab_titles,\n",
    "        layout=widgets.Layout(width=\"950px\")\n",
    "    )\n",
    "\n",
    "    return tab\n",
    "\n",
    "@interact\n",
    "def display_path(path_idx=path_selector, k=3):\n",
    "    path = paths[path_idx]\n",
    "    header = f\"\"\"\n",
    "    <h3>{len(path.reactions)}-step path from {path.starter.upper()} to {path.target.upper()}<br>\n",
    "    Max-min driving force = {path.mdf:.2f} kJ/mol<br>\n",
    "    </h3>\n",
    "    \"\"\"\n",
    "    rows = [widgets.HTML(value=header)]\n",
    "    for i, reaction in enumerate(path.reactions):\n",
    "        pr_image = reaction.image\n",
    "        analogues = reaction.top_analogues(k=k)\n",
    "        rcmcses = reaction.top_rcmcs(k=k)\n",
    "        pr_elt = display_predicted_reaction(i, pr_image)\n",
    "        kr_elt = display_analogues_enzymes(analogues, rcmcses)\n",
    "        rows.append(widgets.HBox([pr_elt, kr_elt], layout=widgets.Layout(border= '1px solid black')))\n",
    "\n",
    "    return widgets.VBox(rows)"
   ]
  },
  {
   "cell_type": "code",
   "execution_count": 6,
   "metadata": {},
   "outputs": [
    {
     "data": {
      "application/vnd.jupyter.widget-view+json": {
       "model_id": "43d2c7c1ece84aeabb40ec6b26921bdd",
       "version_major": 2,
       "version_minor": 0
      },
      "text/plain": [
       "interactive(children=(Dropdown(description='Path #', options=((1, 0), (2, 1), (3, 2), (4, 3), (5, 4), (6, 5), …"
      ]
     },
     "metadata": {},
     "output_type": "display_data"
    },
    {
     "data": {
      "text/plain": [
       "<function __main__.display_path(path_idx=Dropdown(description='Path #', options=((1, 0), (2, 1), (3, 2), (4, 3), (5, 4), (6, 5), (7, 6), (8, 7), (9, 8), (10, 9), (11, 10), (12, 11), (13, 12), (14, 13), (15, 14), (16, 15), (17, 16), (18, 17), (19, 18), (20, 19), (21, 20), (22, 21), (23, 22), (24, 23), (25, 24), (26, 25), (27, 26), (28, 27), (29, 28)), value=0), k=3)>"
      ]
     },
     "execution_count": 6,
     "metadata": {},
     "output_type": "execute_result"
    }
   ],
   "source": [
    "interact(display_path, path_idx=path_selector, k=3)"
   ]
  },
  {
   "cell_type": "code",
   "execution_count": 106,
   "metadata": {},
   "outputs": [
    {
     "data": {
      "application/vnd.jupyter.widget-view+json": {
       "model_id": "1125c75068bc4c9aafeb040059d19a7a",
       "version_major": 2,
       "version_minor": 0
      },
      "text/plain": [
       "interactive(children=(IntSlider(value=0, description='Value:'), Output()), _dom_classes=('widget-interact',))"
      ]
     },
     "metadata": {},
     "output_type": "display_data"
    },
    {
     "data": {
      "application/vnd.jupyter.widget-view+json": {
       "model_id": "97dde20205b04ee591fc13731fffa284",
       "version_major": 2,
       "version_minor": 0
      },
      "text/plain": [
       "IntSlider(value=0, description='Value:')"
      ]
     },
     "metadata": {},
     "output_type": "display_data"
    },
    {
     "data": {
      "application/vnd.jupyter.widget-view+json": {
       "model_id": "a5bc888cdb66458ea6319a9f424056cb",
       "version_major": 2,
       "version_minor": 0
      },
      "text/plain": [
       "Text(value='', description='Text:')"
      ]
     },
     "metadata": {},
     "output_type": "display_data"
    },
    {
     "data": {
      "application/vnd.jupyter.widget-view+json": {
       "model_id": "b5c3a1b18d07470580cc3f57d8dcbda2",
       "version_major": 2,
       "version_minor": 0
      },
      "text/plain": [
       "Output()"
      ]
     },
     "metadata": {},
     "output_type": "display_data"
    }
   ],
   "source": [
    "import ipywidgets as widgets\n",
    "from IPython.display import display\n",
    "from ipywidgets import interact\n",
    "\n",
    "# Define the interactive function\n",
    "def interactive_function(x):\n",
    "    return f\"The current value of x is {x}\"\n",
    "\n",
    "# Create widgets\n",
    "slider = widgets.IntSlider(min=0, max=100, step=1, description='Value:')\n",
    "text_box = widgets.Text(description='Text:')\n",
    "display_widget = widgets.Output()\n",
    "\n",
    "# Define the initial interact function\n",
    "@interact(x=slider)\n",
    "def display_slider_value(x):\n",
    "    return f\"Slider value is {x}\"\n",
    "\n",
    "# Define a function to update the display when text box value changes\n",
    "def update_display(change):\n",
    "    display_widget.clear_output()\n",
    "    with display_widget:\n",
    "        interact(display_slider_value, x=slider)\n",
    "\n",
    "# Attach the observer to the text box\n",
    "text_box.observe(update_display, names='value')\n",
    "\n",
    "# Display all widgets\n",
    "display(slider, text_box, display_widget)\n"
   ]
  }
 ],
 "metadata": {
  "kernelspec": {
   "display_name": "casp",
   "language": "python",
   "name": "python3"
  },
  "language_info": {
   "codemirror_mode": {
    "name": "ipython",
    "version": 3
   },
   "file_extension": ".py",
   "mimetype": "text/x-python",
   "name": "python",
   "nbconvert_exporter": "python",
   "pygments_lexer": "ipython3",
   "version": "3.9.18"
  }
 },
 "nbformat": 4,
 "nbformat_minor": 2
}
