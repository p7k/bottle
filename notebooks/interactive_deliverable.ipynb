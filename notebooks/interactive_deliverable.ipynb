{
 "cells": [
  {
   "cell_type": "code",
   "execution_count": 4,
   "metadata": {},
   "outputs": [],
   "source": [
    "import ipywidgets as widgets\n",
    "from ipywidgets import interact\n",
    "from src.post_processing import PathWrangler\n",
    "from IPython.display import display, SVG\n",
    "import numpy as np\n",
    "import matplotlib.pyplot as plt"
   ]
  },
  {
   "cell_type": "code",
   "execution_count": 80,
   "metadata": {},
   "outputs": [],
   "source": [
    "path_filepath = '../artifacts/processed_expansions/found_paths.json'\n",
    "predicted_reactions_filepath = \"../artifacts/processed_expansions/predicted_reactions.json\"\n",
    "known_reactions_filepath = \"../artifacts/processed_expansions/known_reactions.json\"\n",
    "\n",
    "pw = PathWrangler(\n",
    "    path_filepath=path_filepath,\n",
    "    pr_filepath=predicted_reactions_filepath,\n",
    "    kr_filepath=known_reactions_filepath\n",
    ")"
   ]
  },
  {
   "cell_type": "code",
   "execution_count": 104,
   "metadata": {},
   "outputs": [
    {
     "data": {
      "application/vnd.jupyter.widget-view+json": {
       "model_id": "b8337bf5c4ad42eca84ad1e475faa3f5",
       "version_major": 2,
       "version_minor": 0
      },
      "text/plain": [
       "SelectMultiple(description='Enzyme level of evidence:', index=(0,), options=('Evidence at protein level', 'Evi…"
      ]
     },
     "execution_count": 104,
     "metadata": {},
     "output_type": "execute_result"
    }
   ],
   "source": [
    "evidence_options = {elt.value: elt.name for elt in pw.enzyme_existence}\n",
    "default_loe = pw.enzyme_existence.PROTEIN.value\n",
    "loe_selection = [evidence_options[default_loe]]\n",
    "\n",
    "enzyme_evidence = widgets.SelectMultiple(\n",
    "    options=evidence_options.keys(),\n",
    "    value=[default_loe],\n",
    "    rows=len(evidence_options),\n",
    "    description='Enzyme level of evidence:',\n",
    "    disabled=False\n",
    ")\n",
    "\n",
    "def evidence_listener(change):\n",
    "    global loe_selection\n",
    "    loe_selection = [evidence_options[k] for k in enzyme_evidence.value]\n",
    "\n",
    "enzyme_evidence.observe(evidence_listener)\n",
    "\n",
    "enzyme_evidence"
   ]
  },
  {
   "cell_type": "code",
   "execution_count": 105,
   "metadata": {},
   "outputs": [
    {
     "data": {
      "application/vnd.jupyter.widget-view+json": {
       "model_id": "c1f7d59490c040efb8187d2f964fb9fb",
       "version_major": 2,
       "version_minor": 0
      },
      "text/plain": [
       "RadioButtons(description='Sort paths by:', options=('mean_rcmcs', 'min_rcmcs', 'mdf'), value='mean_rcmcs')"
      ]
     },
     "execution_count": 105,
     "metadata": {},
     "output_type": "execute_result"
    }
   ],
   "source": [
    "sort_by_selection = 'mean_rcmcs'\n",
    "sort_options = ['mean_rcmcs', 'min_rcmcs', 'mdf']\n",
    "sort_default = 'mean_rcmcs'\n",
    "\n",
    "sort_by_radio_buttons = widgets.RadioButtons(\n",
    "    options=sort_options,\n",
    "    value=sort_default,\n",
    "    description='Sort paths by:',\n",
    "    disabled=False\n",
    ")\n",
    "\n",
    "def sort_by_listener(change):\n",
    "    global sort_by_selection\n",
    "    sort_by_selection = sort_by_radio_buttons.value\n",
    "\n",
    "sort_by_radio_buttons\n"
   ]
  },
  {
   "cell_type": "code",
   "execution_count": 91,
   "metadata": {},
   "outputs": [
    {
     "data": {
      "application/vnd.jupyter.widget-view+json": {
       "model_id": "a210691a185248cb9a01d1885e3c57a6",
       "version_major": 2,
       "version_minor": 0
      },
      "text/plain": [
       "Button(button_style='success', description='Get paths', icon='solid flask', style=ButtonStyle(), tooltip='Clic…"
      ]
     },
     "execution_count": 91,
     "metadata": {},
     "output_type": "execute_result"
    },
    {
     "name": "stdout",
     "output_type": "stream",
     "text": [
      "11 paths meet your criteria\n",
      "11 paths meet your criteria\n",
      "11 paths meet your criteria\n",
      "15 paths meet your criteria\n",
      "7 paths meet your criteria\n",
      "7 paths meet your criteria\n",
      "15 paths meet your criteria\n"
     ]
    }
   ],
   "source": [
    "paths = []\n",
    "def click_handler(b):\n",
    "    global paths\n",
    "    filter_by_enzymes = {'existence': loe_selection} # Only paths w/ enzymes w/ protein-level evidence\n",
    "    paths = pw.get_paths(\n",
    "        sort_by=sort_by_selection,\n",
    "        filter_by_enzymes=filter_by_enzymes\n",
    "    )\n",
    "    print(f\"{len(paths)} paths meet your criteria\")\n",
    "\n",
    "button = widgets.Button(\n",
    "    description='Get paths',\n",
    "    disabled=False,\n",
    "    button_style='success', # 'success', 'info', 'warning', 'danger' or ''\n",
    "    tooltip='Click me',\n",
    "    icon='solid flask' # (FontAwesome names without the `fa-` prefix)\n",
    ")\n",
    "\n",
    "button.on_click(click_handler)\n",
    "\n",
    "button"
   ]
  },
  {
   "cell_type": "code",
   "execution_count": 108,
   "metadata": {},
   "outputs": [
    {
     "data": {
      "application/vnd.jupyter.widget-view+json": {
       "model_id": "283608b3e7764dc8a81c20c3011c8dd9",
       "version_major": 2,
       "version_minor": 0
      },
      "text/plain": [
       "interactive(children=(IntSlider(value=0, description='Path # ', max=14), Output()), _dom_classes=('widget-inte…"
      ]
     },
     "metadata": {},
     "output_type": "display_data"
    }
   ],
   "source": [
    "path_slider = widgets.IntSlider(\n",
    "    min=0,\n",
    "    max=len(paths) - 1,\n",
    "    value=0,\n",
    "    description=\"Path # \"\n",
    ")\n",
    "\n",
    "@interact\n",
    "def display_path(i=path_slider):\n",
    "    rxn_imgs = (reaction.image for reaction in paths[i].reactions)\n",
    "    for elt in rxn_imgs: display(SVG(elt))"
   ]
  }
 ],
 "metadata": {
  "kernelspec": {
   "display_name": "casp",
   "language": "python",
   "name": "python3"
  },
  "language_info": {
   "codemirror_mode": {
    "name": "ipython",
    "version": 3
   },
   "file_extension": ".py",
   "mimetype": "text/x-python",
   "name": "python",
   "nbconvert_exporter": "python",
   "pygments_lexer": "ipython3",
   "version": "3.9.18"
  }
 },
 "nbformat": 4,
 "nbformat_minor": 2
}
