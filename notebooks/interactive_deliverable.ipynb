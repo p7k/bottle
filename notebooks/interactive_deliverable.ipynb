{
 "cells": [
  {
   "cell_type": "code",
   "metadata": {
    "ExecuteTime": {
     "end_time": "2024-09-14T22:23:32.406400Z",
     "start_time": "2024-09-14T22:23:31.357821Z"
    }
   },
   "source": [
    "from IPython.display import display, clear_output\n",
    "import ipywidgets as widgets\n",
    "from ipysheet import from_dataframe\n",
    "from src.post_processing import PathWrangler\n",
    "import pandas as pd\n",
    "import svgutils\n",
    "import re"
   ],
   "outputs": [],
   "execution_count": 1
  },
  {
   "cell_type": "code",
   "metadata": {
    "ExecuteTime": {
     "end_time": "2024-09-14T22:23:34.387989Z",
     "start_time": "2024-09-14T22:23:34.337159Z"
    }
   },
   "source": [
    "path_filepath = '../artifacts/processed_expansions/found_paths.json'\n",
    "predicted_reactions_filepath = \"../artifacts/processed_expansions/predicted_reactions.json\"\n",
    "known_reactions_filepath = \"../artifacts/processed_expansions/known_reactions.json\"\n",
    "\n",
    "pw = PathWrangler(\n",
    "    path_filepath=path_filepath,\n",
    "    pr_filepath=predicted_reactions_filepath,\n",
    "    kr_filepath=known_reactions_filepath\n",
    ")"
   ],
   "outputs": [],
   "execution_count": 3
  },
  {
   "cell_type": "code",
   "metadata": {
    "ExecuteTime": {
     "end_time": "2024-09-14T22:23:44.735830Z",
     "start_time": "2024-09-14T22:23:44.726837Z"
    }
   },
   "source": [
    "# Options\n",
    "starter_options, target_options = zip(*pw.starter_targets)\n",
    "target_options = tuple(set(target_options))\n",
    "evidence_options = [(elt.value, elt.name) for elt in pw.enzyme_existence]\n",
    "sort_options = [\n",
    "    (\"Mean RCMCS\", 'mean_rcmcs'),\n",
    "    (\"Min RCMCS\", 'min_rcmcs'),\n",
    "    (\"Max-min driving force\", 'mdf')\n",
    "]\n",
    "\n",
    "# Define filter / sort widgets\n",
    "starter_selector = widgets.SelectMultiple(\n",
    "    options=starter_options,\n",
    "    value=starter_options[:3],\n",
    "    rows=len(starter_options),\n",
    "    description='Starters:',\n",
    "    disabled=False,\n",
    "    continuous_update=False,\n",
    ")\n",
    "\n",
    "target_selector = widgets.SelectMultiple(\n",
    "    options=target_options,\n",
    "    value=target_options[:3],\n",
    "    rows=len(target_options),\n",
    "    description='Targets:',\n",
    "    disabled=False\n",
    ")\n",
    "\n",
    "evidence_selector = widgets.SelectMultiple(\n",
    "    options=evidence_options,\n",
    "    value=[pw.enzyme_existence.PROTEIN.name],\n",
    "    rows=len(evidence_options),\n",
    "    description='Enzyme level of evidence:',\n",
    "    disabled=False\n",
    ")\n",
    "\n",
    "sort_by_radio_buttons = widgets.RadioButtons(\n",
    "    options=sort_options,\n",
    "    value='mean_rcmcs',\n",
    "    description='Sort paths by:',\n",
    "    disabled=False\n",
    ")\n",
    "\n",
    "selectors = widgets.HBox(\n",
    "    [\n",
    "        starter_selector,\n",
    "        target_selector,\n",
    "        evidence_selector,\n",
    "        sort_by_radio_buttons\n",
    "    ]\n",
    ")\n",
    "\n",
    "# Output contexts\n",
    "gen_paths_out = widgets.Output()\n",
    "path_viewer_out = widgets.Output()\n",
    "\n",
    "# Path Viewer\n",
    "path_selector = widgets.Dropdown(\n",
    "    description='Path #',\n",
    "    disabled=False,\n",
    "    continuous_update=False,\n",
    "    orientation='horizontal',\n",
    "    readout=True\n",
    ")\n",
    "\n",
    "\n",
    "# Define callbacks\n",
    "def generate_paths(_event: dict = None):\n",
    "    paths = pw.get_paths(\n",
    "        starters=starter_selector.value,\n",
    "        targets=target_selector.value,\n",
    "        sort_by=sort_by_radio_buttons.value,\n",
    "        # only paths w/ enzymes w/ protein-level evidence\n",
    "        filter_by_enzymes={'existence': evidence_selector.value},\n",
    "    )\n",
    "\n",
    "    with gen_paths_out:\n",
    "        clear_output()\n",
    "        print(f\"{len(paths)} paths meet your criteria\")\n",
    "\n",
    "    with path_viewer_out:\n",
    "        clear_output()\n",
    "        print(f\"Loading paths...\")\n",
    "\n",
    "    update_path_selector(paths)\n",
    "    test_stack, _test_link = update_path_viewer(paths)\n",
    "    redisplay_paths(test_stack)\n",
    "\n",
    "\n",
    "def update_path_selector(paths):\n",
    "    path_selector.options = [(i + 1, i) for i in range(len(paths))]\n",
    "    path_selector.value = 0 if paths else None\n",
    "\n",
    "\n",
    "def update_path_viewer(paths):\n",
    "    layers = [display_path(i, paths) for i in range(len(paths))]\n",
    "    test_stack = widgets.Stack(layers, selected_index=None)\n",
    "    test_link = widgets.jslink((path_selector, 'index'), (test_stack, 'selected_index'))\n",
    "    return test_stack, test_link\n",
    "\n",
    "\n",
    "def display_enzymes(enzymes):\n",
    "    df = pd.DataFrame(data=[e.to_dict() for e in enzymes])\n",
    "    df = df.loc[:, ['uniprot_id', 'ec', 'organism', 'name', 'existence', 'reviewed', 'sequence']]\n",
    "    return from_dataframe(df)\n",
    "\n",
    "\n",
    "def scl_svg_one_dim(filepath: str, width=None, height=None):\n",
    "    original = svgutils.compose.SVG(filepath)\n",
    "    if width and not height:\n",
    "        scl = width / original.width\n",
    "    elif not width and height:\n",
    "        scl = height / original.height\n",
    "    else:\n",
    "        raise ValueError(\"Pick exactly one desired dimension, width or height\")\n",
    "\n",
    "    original.scale(scl)\n",
    "    new = svgutils.compose.Figure(original.width * scl, original.height * scl, original)\n",
    "    svg = new.tostr().decode(\"utf-8\")\n",
    "    patt = '<svg'\n",
    "    i = re.search(patt, svg).start()\n",
    "    return svg[i:]\n",
    "\n",
    "\n",
    "def display_predicted_reaction(rxn_step, img):\n",
    "    svg = scl_svg_one_dim(img, width=650)\n",
    "    html = f\"\"\"\n",
    "    <b><u>Step #{rxn_step + 1}</u></b>\n",
    "    <div>\n",
    "        {svg}\n",
    "    </div>\n",
    "    \"\"\"\n",
    "    return widgets.HTML(html)\n",
    "\n",
    "\n",
    "def display_analogue(img, rcmcs):\n",
    "    svg = scl_svg_one_dim(img, width=600)\n",
    "    html = f\"\"\"\n",
    "    <b><u>{rcmcs * 100:.2f}% similar to predicted reaction</u></b>\n",
    "    <div>\n",
    "        {svg}\n",
    "    </div>\n",
    "    \"\"\"\n",
    "    return widgets.HTML(value=html)\n",
    "\n",
    "\n",
    "def display_analogues_enzymes(krs, rcmcses):\n",
    "    kr_elts = []\n",
    "    enzyme_elts = []\n",
    "    for kr, rcmcs in zip(krs, rcmcses):\n",
    "        kr_elts.append(display_analogue(kr.image, rcmcs))\n",
    "        enzyme_elts.append(display_enzymes(kr.enzymes))\n",
    "\n",
    "    kr_selector = widgets.Dropdown(\n",
    "        options=[(i + 1, i) for i in range(len(kr_elts))],\n",
    "        value=0,\n",
    "        description=\"Known analogue: \"\n",
    "    )\n",
    "    kr_stack = widgets.Stack(kr_elts, selected_index=0)\n",
    "    kr_sel_disp = widgets.VBox([kr_selector, kr_stack])\n",
    "    enzyme_stack = widgets.Stack(enzyme_elts, selected_index=0)\n",
    "    _link_kr = widgets.jslink((kr_selector, 'index'), (kr_stack, 'selected_index'))\n",
    "    _link_enz = widgets.jslink((kr_selector, 'index'), (enzyme_stack, 'selected_index'))\n",
    "\n",
    "    tab_titles = ['Known Analogue', 'Enzymes']\n",
    "    tab_children = [kr_sel_disp, enzyme_stack]\n",
    "    tab = widgets.Tab(\n",
    "        children=tab_children,\n",
    "        titles=tab_titles,\n",
    "        layout=widgets.Layout(width=\"950px\")\n",
    "    )\n",
    "    return tab\n",
    "\n",
    "\n",
    "def display_path(path_idx, paths):\n",
    "    k = 1000\n",
    "    path = paths[path_idx]\n",
    "    header = f\"\"\"\n",
    "    <h3>{len(path.reactions)}-step path from {path.starter.upper()} to {path.target.upper()}<br>\n",
    "    Max-min driving force = {path.mdf:.2f} kJ/mol<br>\n",
    "    </h3>\n",
    "    \"\"\"\n",
    "    rows = [widgets.HTML(value=header)]\n",
    "    for i, reaction in enumerate(path.reactions):\n",
    "        pr_image = reaction.image\n",
    "        analogues = reaction.top_analogues(k=k)\n",
    "        rcmcses = reaction.top_rcmcs(k=k)\n",
    "        pr_elt = display_predicted_reaction(i, pr_image)\n",
    "        kr_elt = display_analogues_enzymes(analogues, rcmcses)\n",
    "        rows.append(widgets.HBox([pr_elt, kr_elt], layout=widgets.Layout(border='1px solid black')))\n",
    "    return widgets.VBox(rows)\n",
    "\n",
    "\n",
    "def redisplay_paths(test_stack):\n",
    "    with path_viewer_out:\n",
    "        clear_output()\n",
    "        display(path_selector, test_stack)\n",
    "\n",
    "\n",
    "# Attach listeners to UI widgets\n",
    "for selector in selectors.children:\n",
    "    selector.observe(generate_paths, names=['value'])\n",
    "\n",
    "# Display the UI\n",
    "display(selectors, gen_paths_out, path_viewer_out)"
   ],
   "outputs": [
    {
     "data": {
      "application/vnd.jupyter.widget-view+json": {
       "model_id": "1e0a55c557d74ad0b4359a50a210d9a4",
       "version_major": 2,
       "version_minor": 0
      },
      "text/plain": [
       "HBox(children=(SelectMultiple(description='Starters:', index=(0, 1, 2), options=('malate', 'oxaloacetate', 'py…"
      ]
     },
     "metadata": {},
     "output_type": "display_data"
    },
    {
     "data": {
      "application/vnd.jupyter.widget-view+json": {
       "model_id": "460c7e27db8c4be4b159eba96e20ada1",
       "version_major": 2,
       "version_minor": 0
      },
      "text/plain": [
       "Output()"
      ]
     },
     "metadata": {},
     "output_type": "display_data"
    },
    {
     "data": {
      "application/vnd.jupyter.widget-view+json": {
       "model_id": "e13b5d6f963049e6afffeaff0d9d2559",
       "version_major": 2,
       "version_minor": 0
      },
      "text/plain": [
       "Output()"
      ]
     },
     "metadata": {},
     "output_type": "display_data"
    }
   ],
   "execution_count": 4
  },
  {
   "metadata": {
    "ExecuteTime": {
     "end_time": "2024-09-14T22:23:56.379231Z",
     "start_time": "2024-09-14T22:23:46.968912Z"
    }
   },
   "cell_type": "code",
   "source": [
    "# Initialize paths\n",
    "generate_paths()"
   ],
   "outputs": [],
   "execution_count": 5
  },
  {
   "metadata": {},
   "cell_type": "code",
   "outputs": [],
   "execution_count": null,
   "source": ""
  }
 ],
 "metadata": {
  "kernelspec": {
   "display_name": "Python 3.12 (XPython)",
   "language": "python",
   "name": "xpython"
  },
  "language_info": {
   "codemirror_mode": {
    "name": "ipython",
    "version": 3
   },
   "file_extension": ".py",
   "mimetype": "text/x-python",
   "name": "python",
   "nbconvert_exporter": "python",
   "pygments_lexer": "ipython3",
   "version": "3.12.5"
  }
 },
 "nbformat": 4,
 "nbformat_minor": 4
}
