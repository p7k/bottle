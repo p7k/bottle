{
 "cells": [
  {
   "cell_type": "code",
   "execution_count": 1,
   "metadata": {
    "ExecuteTime": {
     "end_time": "2024-09-16T01:08:03.348447Z",
     "start_time": "2024-09-16T01:08:02.703528Z"
    }
   },
   "outputs": [],
   "source": [
    "import ipywidgets as widgets\n",
    "import traitlets\n",
    "import pandas as pd\n",
    "from IPython.display import display, clear_output\n",
    "from ipysheet import from_dataframe\n",
    "\n",
    "from src.post_processing import PathWrangler, Path"
   ]
  },
  {
   "cell_type": "code",
   "execution_count": 2,
   "metadata": {
    "ExecuteTime": {
     "end_time": "2024-09-16T01:08:03.388696Z",
     "start_time": "2024-09-16T01:08:03.351204Z"
    },
    "jupyter": {
     "source_hidden": true
    }
   },
   "outputs": [],
   "source": [
    "pw = PathWrangler(\n",
    "    path_filepath='../artifacts/processed_expansions/found_paths.json',\n",
    "    pr_filepath='../artifacts/processed_expansions/predicted_reactions.json',\n",
    "    kr_filepath='../artifacts/processed_expansions/known_reactions.json',\n",
    ")"
   ]
  },
  {
   "cell_type": "code",
   "execution_count": 3,
   "metadata": {},
   "outputs": [],
   "source": [
    "# UI widgets and layout\n",
    "\n",
    "# input\n",
    "\n",
    "starter_options, target_options = map(sorted, zip(*pw.starter_targets))\n",
    "target_options = sorted(set(target_options))\n",
    "evidence_options = [(elt.value, elt.name) for elt in pw.enzyme_existence]\n",
    "sort_options = [\n",
    "    (\"Mean RCMCS\", 'mean_rcmcs'),\n",
    "    (\"Min RCMCS\", 'min_rcmcs'),\n",
    "    (\"Max-min driving force\", 'mdf')\n",
    "]\n",
    "\n",
    "starter_selector = widgets.SelectMultiple(\n",
    "    description='Starters:',\n",
    "    options=starter_options,\n",
    "    value=starter_options[:1],\n",
    "    rows=len(starter_options),\n",
    "    disabled=False,\n",
    "    continuous_update=False,\n",
    ")\n",
    "\n",
    "target_selector = widgets.SelectMultiple(\n",
    "    description='Targets:',\n",
    "    options=target_options,\n",
    "    value=target_options,\n",
    "    rows=len(target_options),\n",
    "    disabled=False,\n",
    "    continuous_update=False,\n",
    ")\n",
    "\n",
    "evidence_selector = widgets.SelectMultiple(\n",
    "    description='Enzyme level of evidence:',\n",
    "    options=evidence_options,\n",
    "    value=[pw.enzyme_existence.PROTEIN.name],\n",
    "    rows=len(evidence_options),\n",
    "    disabled=False,\n",
    "    continuous_update=False,\n",
    ")\n",
    "\n",
    "sort_by_radio_buttons = widgets.RadioButtons(\n",
    "    options=sort_options,\n",
    "    value='mean_rcmcs',\n",
    "    description='Sort paths by:',\n",
    "    disabled=False,\n",
    "    continuous_update=False,\n",
    ")\n",
    "\n",
    "input_selectors = widgets.HBox(\n",
    "    [\n",
    "        starter_selector,\n",
    "        target_selector,\n",
    "        evidence_selector,\n",
    "        sort_by_radio_buttons\n",
    "    ]\n",
    ")\n",
    "\n",
    "# output \n",
    "\n",
    "paths_label = widgets.Label(\n",
    "    value='Awaiting to explore some paths',\n",
    ")\n",
    "paths_selector = widgets.SelectMultiple(\n",
    "    description='Path #:',\n",
    "    orientation='horizontal',\n",
    "    continuous_update=False,\n",
    "    disabled=False,\n",
    ")\n",
    "paths_viewer = widgets.Output()\n",
    "output_paths = widgets.VBox([\n",
    "    paths_label,\n",
    "    paths_selector,\n",
    "    paths_viewer\n",
    "])\n",
    "\n",
    "# UI overall\n",
    "\n",
    "ui = widgets.VBox([\n",
    "    input_selectors,\n",
    "    output_paths,\n",
    "])"
   ]
  },
  {
   "cell_type": "code",
   "execution_count": null,
   "metadata": {
    "jupyter": {
     "source_hidden": true
    }
   },
   "outputs": [],
   "source": [
    "# custom widget builders\n",
    "\n",
    "def display_enzymes(enzymes):\n",
    "    df = pd.DataFrame(data=[e.to_dict() for e in enzymes])\n",
    "    df = df.loc[:, ['uniprot_id', 'ec', 'organism', 'name', 'existence', 'reviewed', 'sequence']]\n",
    "    return from_dataframe(df)\n",
    "\n",
    "def display_predicted_reaction(rxn_step, img):\n",
    "    html = widgets.HTML(f'<b><u>Step #{rxn_step + 1}</u></b>')\n",
    "    svg = widgets.Image.from_file(img)\n",
    "    svg.width = 650\n",
    "    return widgets.VBox([html, svg])\n",
    "    \n",
    "    \n",
    "def display_analogue(img, rcmcs):\n",
    "    html = widgets.HTML(f'<b><u>{rcmcs * 100:.2f}% similar to predicted reaction</u></b>')\n",
    "    svg = widgets.Image.from_file(img)\n",
    "    svg.width = 600\n",
    "    return widgets.VBox([html, svg])\n",
    "\n",
    " \n",
    "def widget_analogues_enzymes(krs, rcmcses):\n",
    "    kr_elts = []\n",
    "    enzyme_elts = []\n",
    "    for kr, rcmcs in zip(krs, rcmcses):\n",
    "        kr_elts.append(display_analogue(kr.image, rcmcs))\n",
    "        enzyme_elts.append(display_enzymes(kr.enzymes))\n",
    "\n",
    "    kr_selector = widgets.Dropdown(\n",
    "        options=[(i + 1, i) for i in range(len(kr_elts))],\n",
    "        value=0,\n",
    "        description=\"Known analogue: \"\n",
    "    )\n",
    "    kr_stack = widgets.Stack(kr_elts, selected_index=0)\n",
    "    kr_sel_disp = widgets.VBox([kr_selector, kr_stack])\n",
    "    enzyme_stack = widgets.Stack(enzyme_elts, selected_index=0)\n",
    "    _link_kr = widgets.jslink((kr_selector, 'index'), (kr_stack, 'selected_index'))\n",
    "    _link_enz = widgets.jslink((kr_selector, 'index'), (enzyme_stack, 'selected_index'))\n",
    "\n",
    "    tab_titles = ['Known Analogue', 'Enzymes']\n",
    "    tab_children = [kr_sel_disp, enzyme_stack]\n",
    "\n",
    "    return widgets.Tab(\n",
    "        children=tab_children,\n",
    "        titles=tab_titles,\n",
    "        layout=widgets.Layout(width=\"950px\")\n",
    "    )\n",
    "    \n",
    "\n",
    "def widget_path_view(path: Path, k: int = 1000):\n",
    "    header = widgets.HTML(f\"\"\"\n",
    "    <h3>{len(path.reactions)}-step path from {path.starter.upper()} to {path.target.upper()}<br>\n",
    "    Max-min driving force = {path.mdf:.2f} kJ/mol<br>\n",
    "    </h3>\n",
    "    \"\"\")\n",
    "    rows = [header]\n",
    "    for i, rxn in enumerate(path.reactions):\n",
    "        pr_elt = display_predicted_reaction(i, rxn.image)\n",
    "        kr_elt = widget_analogues_enzymes(\n",
    "            krs=rxn.top_analogues(k=k),\n",
    "            rcmcses=rxn.top_rcmcs(k=k),\n",
    "        )\n",
    "        row = widgets.HBox([pr_elt, kr_elt], layout=widgets.Layout(border='1px solid black'))\n",
    "        rows.append(row)\n",
    "    return widgets.VBox(rows)"
   ]
  },
  {
   "cell_type": "code",
   "execution_count": 6,
   "metadata": {
    "ExecuteTime": {
     "end_time": "2024-09-16T01:08:03.985877Z",
     "start_time": "2024-09-16T01:08:03.975257Z"
    }
   },
   "outputs": [],
   "source": [
    "# event handlers and wiring\n",
    "\n",
    "# on input change :: fetch paths & update path selector\n",
    "\n",
    "def update_paths_selector(_change: traitlets.Bunch):\n",
    "    path_objs = pw.get_paths(\n",
    "        starters=starter_selector.value,\n",
    "        targets=target_selector.value,\n",
    "        filter_by_enzymes={'existence': evidence_selector.value},\n",
    "        sort_by=sort_by_radio_buttons.value,\n",
    "    )\n",
    "    paths_selector.disabled = not path_objs\n",
    "    options = [(idx+1, path) for idx, path in enumerate(path_objs)]\n",
    "    paths_selector.options = options\n",
    "    if options:\n",
    "        # avoid setting `value` when the options are empty\n",
    "        # otherwise, traitlet validations go berserk\n",
    "        paths_selector.value = [options[0][1]]\n",
    "\n",
    "for selector in input_selectors.children:\n",
    "    selector.observe(update_paths_selector, names=['value'])\n",
    "\n",
    "# on paths selection change :: update paths label & render the paths viewer\n",
    "\n",
    "def update_paths_label(change: traitlets.Bunch):\n",
    "    paths_label.value = f'Fetched {len(change.owner.options)} paths'\n",
    "\n",
    "def render_paths(change: traitlets.Bunch):\n",
    "    with paths_viewer:\n",
    "        clear_output()\n",
    "        display(widgets.VBox([\n",
    "            widget_path_view(path) for path in change.new\n",
    "        ]))\n",
    "\n",
    "paths_selector.observe(update_paths_label, names=['value'])\n",
    "paths_selector.observe(render_paths, names=['value'])"
   ]
  },
  {
   "cell_type": "code",
   "execution_count": 7,
   "metadata": {
    "ExecuteTime": {
     "end_time": "2024-09-16T01:13:38.392797Z",
     "start_time": "2024-09-16T01:13:38.383794Z"
    }
   },
   "outputs": [
    {
     "data": {
      "application/vnd.jupyter.widget-view+json": {
       "model_id": "43bc3ae168fb45d781257dbfe81f0027",
       "version_major": 2,
       "version_minor": 0
      },
      "text/plain": [
       "VBox(children=(HBox(children=(SelectMultiple(description='Starters:', index=(2,), options=('alpha_ketoglutarat…"
      ]
     },
     "execution_count": 7,
     "metadata": {},
     "output_type": "execute_result"
    }
   ],
   "source": "ui"
  },
  {
   "metadata": {},
   "cell_type": "code",
   "outputs": [],
   "execution_count": null,
   "source": [
    "# kick off a selection\n",
    "update_paths_selector(traitlets.Bunch())"
   ]
  }
 ],
 "metadata": {
  "kernelspec": {
   "display_name": "Python 3 (ipykernel)",
   "language": "python",
   "name": "python3"
  },
  "language_info": {
   "codemirror_mode": {
    "name": "ipython",
    "version": 3
   },
   "file_extension": ".py",
   "mimetype": "text/x-python",
   "name": "python",
   "nbconvert_exporter": "python",
   "pygments_lexer": "ipython3",
   "version": "3.12.5"
  }
 },
 "nbformat": 4,
 "nbformat_minor": 4
}
