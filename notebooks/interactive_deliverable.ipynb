{
 "cells": [
  {
   "cell_type": "code",
   "execution_count": 12,
   "metadata": {},
   "outputs": [],
   "source": [
    "import ipywidgets as widgets\n",
    "from ipywidgets import interact\n",
    "from src.post_processing import PathWrangler\n",
    "from IPython.display import display\n",
    "import pandas as pd\n",
    "from ipysheet import from_dataframe"
   ]
  },
  {
   "cell_type": "code",
   "execution_count": 13,
   "metadata": {},
   "outputs": [],
   "source": [
    "path_filepath = '../artifacts/processed_expansions/found_paths.json'\n",
    "predicted_reactions_filepath = \"../artifacts/processed_expansions/predicted_reactions.json\"\n",
    "known_reactions_filepath = \"../artifacts/processed_expansions/known_reactions.json\"\n",
    "\n",
    "pw = PathWrangler(\n",
    "    path_filepath=path_filepath,\n",
    "    pr_filepath=predicted_reactions_filepath,\n",
    "    kr_filepath=known_reactions_filepath\n",
    ")"
   ]
  },
  {
   "cell_type": "code",
   "execution_count": 31,
   "metadata": {},
   "outputs": [],
   "source": [
    "starter_options, target_options = zip(*pw.starter_targets)\n",
    "target_options = tuple(set(target_options))\n",
    "starter_selection = list(starter_options)\n",
    "target_selection = list(target_options)\n",
    "\n",
    "starter_selector = widgets.SelectMultiple(\n",
    "    options=starter_options,\n",
    "    value=starter_options,\n",
    "    rows=len(starter_options),\n",
    "    description='Starters:',\n",
    "    disabled=False\n",
    ")\n",
    "\n",
    "def starter_listener(change):\n",
    "    global starter_selection\n",
    "    starter_selection = starter_selector.value\n",
    "\n",
    "starter_selector.observe(starter_listener)\n",
    "\n",
    "target_selector = widgets.SelectMultiple(\n",
    "    options=target_options,\n",
    "    value=target_options,\n",
    "    rows=len(target_options),\n",
    "    description='Targets:',\n",
    "    disabled=False\n",
    ")\n",
    "\n",
    "def target_listener(change):\n",
    "    global target_selection\n",
    "    target_selection = target_selector.value\n",
    "\n",
    "target_selector.observe(target_listener)\n",
    "\n",
    "evidence_options = {elt.value: elt.name for elt in pw.enzyme_existence}\n",
    "default_loe = pw.enzyme_existence.PROTEIN.value\n",
    "loe_selection = [evidence_options[default_loe]]\n",
    "\n",
    "evidence_selector = widgets.SelectMultiple(\n",
    "    options=evidence_options.keys(),\n",
    "    value=[default_loe],\n",
    "    rows=len(evidence_options),\n",
    "    description='Enzyme level of evidence:',\n",
    "    disabled=False\n",
    ")\n",
    "\n",
    "def evidence_listener(change):\n",
    "    global loe_selection\n",
    "    loe_selection = [evidence_options[k] for k in evidence_selector.value]\n",
    "\n",
    "evidence_selector.observe(evidence_listener)\n",
    "\n",
    "sort_by_selection = 'mean_rcmcs'\n",
    "sort_options = [\n",
    "    (\"Mean RCMCS\", 'mean_rcmcs'),\n",
    "    (\"Min RCMCS\", 'min_rcmcs'),\n",
    "    (\"Max-min driving force\", 'mdf')\n",
    "]\n",
    "\n",
    "sort_by_radio_buttons = widgets.RadioButtons(\n",
    "    options=sort_options,\n",
    "    value=sort_by_selection,\n",
    "    description='Sort paths by:',\n",
    "    disabled=False\n",
    ")\n",
    "\n",
    "def sort_by_listener(change):\n",
    "    global sort_by_selection\n",
    "    sort_by_selection = sort_by_radio_buttons.value\n",
    "\n",
    "sort_by_radio_buttons.observe(sort_by_listener)\n",
    "\n",
    "paths = []\n",
    "button_out = widgets.Output()\n",
    "def click_handler(b):\n",
    "    global paths\n",
    "    filter_by_enzymes = {'existence': loe_selection} # Only paths w/ enzymes w/ protein-level evidence\n",
    "    paths = pw.get_paths(\n",
    "        starters=starter_selection,\n",
    "        targets=target_selection,\n",
    "        sort_by=sort_by_selection,\n",
    "        filter_by_enzymes=filter_by_enzymes\n",
    "    )\n",
    "    with button_out:\n",
    "        print(f\"{len(paths)} paths meet your criteria\")\n",
    "\n",
    "get_paths_buttton = widgets.Button(\n",
    "    description='Get paths',\n",
    "    disabled=False,\n",
    "    button_style='success', # 'success', 'info', 'warning', 'danger' or ''\n",
    "    tooltip='Click me',\n",
    "    icon='solid flask' # (FontAwesome names without the `fa-` prefix)\n",
    ")\n",
    "\n",
    "get_paths_buttton.on_click(click_handler)"
   ]
  },
  {
   "cell_type": "code",
   "execution_count": 32,
   "metadata": {},
   "outputs": [
    {
     "data": {
      "application/vnd.jupyter.widget-view+json": {
       "model_id": "9a0e514cd7ad4b16b57be8e48f7749a1",
       "version_major": 2,
       "version_minor": 0
      },
      "text/plain": [
       "VBox(children=(HBox(children=(SelectMultiple(description='Starters:', index=(0, 1, 2, 3, 4, 5, 6), options=('f…"
      ]
     },
     "metadata": {},
     "output_type": "display_data"
    },
    {
     "data": {
      "application/vnd.jupyter.widget-view+json": {
       "model_id": "5d1ee24a07424d67a95a2fafecba6dd6",
       "version_major": 2,
       "version_minor": 0
      },
      "text/plain": [
       "Output()"
      ]
     },
     "metadata": {},
     "output_type": "display_data"
    }
   ],
   "source": [
    "selectors = widgets.HBox(\n",
    "    [\n",
    "        starter_selector,\n",
    "        target_selector,\n",
    "        evidence_selector,\n",
    "        sort_by_radio_buttons\n",
    "    ]\n",
    ")\n",
    "\n",
    "interface = widgets.VBox([selectors, get_paths_buttton])\n",
    "display(interface)\n",
    "display(button_out)"
   ]
  },
  {
   "cell_type": "markdown",
   "metadata": {},
   "source": [
    "Predicted pathway viewer"
   ]
  },
  {
   "cell_type": "code",
   "execution_count": 64,
   "metadata": {},
   "outputs": [
    {
     "data": {
      "application/vnd.jupyter.widget-view+json": {
       "model_id": "56796a2a19b349318c62f38b5bf228bc",
       "version_major": 2,
       "version_minor": 0
      },
      "text/plain": [
       "interactive(children=(Dropdown(description='Path #', options=((1, 0), (2, 1), (3, 2), (4, 3), (5, 4), (6, 5), …"
      ]
     },
     "metadata": {},
     "output_type": "display_data"
    }
   ],
   "source": [
    "path_selector = widgets.Dropdown(\n",
    "    options=[(i+1, i) for i in range(len(paths))],\n",
    "    value=0,\n",
    "    description='Path #',\n",
    "    disabled=False,\n",
    "    continuous_update=False,\n",
    "    orientation='horizontal',\n",
    "    readout=True\n",
    ")\n",
    "\n",
    "def display_enzymes(enzymes):\n",
    "    df = pd.DataFrame(data=[e.to_dict() for e in enzymes])\n",
    "    df = df.loc[:, ['uniprot_id', 'ec', 'organism', 'name', 'existence', 'reviewed', 'sequence']]\n",
    "\n",
    "    return from_dataframe(df)\n",
    "\n",
    "def display_predicted_reaction(rxn_step, img):\n",
    "    html = f\"\"\"\n",
    "    <b><u>Step #{rxn_step+1}</u></b>\n",
    "    <div>\n",
    "        <img src=\"{img}\" style=\"width:950px\">\n",
    "    </div>\n",
    "    \"\"\"\n",
    "    return widgets.HTML(html)\n",
    "\n",
    "def display_analogue(img, rcmcs):\n",
    "    html = f\"\"\"\n",
    "    <b><u>{rcmcs * 100:.2f}% similar to predicted reaction</u></b>\n",
    "    <div>\n",
    "        <img src=\"{img}\" style=\"width:900px\">\n",
    "    </div>\n",
    "    \"\"\"\n",
    "    return widgets.HTML(value=html)\n",
    "\n",
    "def display_analogues_enzymes(krs, rcmcses):\n",
    "    kr_elts = []\n",
    "    enzyme_elts = []\n",
    "    for kr, rcmcs in zip(krs, rcmcses):\n",
    "        kr_elts.append(display_analogue(kr.image, rcmcs))\n",
    "        enzyme_elts.append(display_enzymes(kr.enzymes))\n",
    "\n",
    "    kr_selector = widgets.Dropdown(\n",
    "        options=[(i+1, i) for i in range(len(kr_elts))],\n",
    "        value=0,\n",
    "        description=\"Known analogue: \"\n",
    "    )\n",
    "    kr_stack = widgets.Stack(kr_elts, selected_index=0)\n",
    "    kr_sel_disp = widgets.VBox([kr_selector, kr_stack])\n",
    "    enzyme_stack = widgets.Stack(enzyme_elts, selected_index=0)\n",
    "    link_kr = widgets.jslink((kr_selector, 'index'), (kr_stack, 'selected_index'))\n",
    "    link_enz = widgets.jslink((kr_selector, 'index'), (enzyme_stack, 'selected_index'))\n",
    "\n",
    "    tab_titles = ['Known Analogue', 'Enzymes']\n",
    "    tab_children = [kr_sel_disp, enzyme_stack]\n",
    "    tab = widgets.Tab(\n",
    "        children=tab_children,\n",
    "        titles=tab_titles,\n",
    "        layout=widgets.Layout(width=\"950px\")\n",
    "    )\n",
    "\n",
    "    return tab\n",
    "\n",
    "@interact\n",
    "def display_path(path_idx=path_selector, k=3):\n",
    "    path = paths[path_idx]\n",
    "    data = (\n",
    "        (\n",
    "            reaction.image,\n",
    "            reaction.top_rcmcs(k),\n",
    "            reaction.top_analogues(k=k)\n",
    "        )\n",
    "        for reaction in path.reactions\n",
    "    )\n",
    "    header = f\"\"\"\n",
    "    <h3>{len(path.reactions)}-step path from {path.starter.upper()} to {path.target.upper()}<br>\n",
    "    Max-min driving force = {path.mdf:.2f} kJ/mol<br>\n",
    "    </h3>\n",
    "    \"\"\"\n",
    "    rows = [widgets.HTML(value=header)]\n",
    "    for i, (pr_image, rcmcses, analogues) in enumerate(data):\n",
    "        pr_elt = display_predicted_reaction(i, pr_image)\n",
    "        kr_elt = display_analogues_enzymes(analogues, rcmcses)\n",
    "        rows.append(widgets.HBox([pr_elt, kr_elt], layout=widgets.Layout(border= '1px solid black')))\n",
    "\n",
    "    return widgets.VBox(rows)"
   ]
  }
 ],
 "metadata": {
  "kernelspec": {
   "display_name": "casp",
   "language": "python",
   "name": "python3"
  },
  "language_info": {
   "codemirror_mode": {
    "name": "ipython",
    "version": 3
   },
   "file_extension": ".py",
   "mimetype": "text/x-python",
   "name": "python",
   "nbconvert_exporter": "python",
   "pygments_lexer": "ipython3",
   "version": "3.9.18"
  }
 },
 "nbformat": 4,
 "nbformat_minor": 2
}
