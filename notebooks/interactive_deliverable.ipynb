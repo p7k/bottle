{
 "cells": [
  {
   "cell_type": "code",
   "execution_count": 1,
   "metadata": {},
   "outputs": [],
   "source": [
    "import ipywidgets as widgets\n",
    "from ipywidgets import interact, Layout\n",
    "from src.post_processing import PathWrangler\n",
    "from IPython.display import display, SVG\n",
    "import numpy as np\n",
    "import matplotlib.pyplot as plt\n",
    "import pandas as pd"
   ]
  },
  {
   "cell_type": "code",
   "execution_count": 2,
   "metadata": {},
   "outputs": [],
   "source": [
    "path_filepath = '../artifacts/processed_expansions/found_paths.json'\n",
    "predicted_reactions_filepath = \"../artifacts/processed_expansions/predicted_reactions.json\"\n",
    "known_reactions_filepath = \"../artifacts/processed_expansions/known_reactions.json\"\n",
    "\n",
    "pw = PathWrangler(\n",
    "    path_filepath=path_filepath,\n",
    "    pr_filepath=predicted_reactions_filepath,\n",
    "    kr_filepath=known_reactions_filepath\n",
    ")"
   ]
  },
  {
   "cell_type": "code",
   "execution_count": 3,
   "metadata": {},
   "outputs": [],
   "source": [
    "starter_options, target_options = zip(*pw.starter_targets)\n",
    "target_options = tuple(set(target_options))\n",
    "starter_selection = list(starter_options)\n",
    "target_selection = list(target_options)\n",
    "\n",
    "starter_selector = widgets.SelectMultiple(\n",
    "    options=starter_options,\n",
    "    value=starter_options,\n",
    "    rows=len(starter_options),\n",
    "    description='Starters:',\n",
    "    disabled=False\n",
    ")\n",
    "\n",
    "def starter_listener(change):\n",
    "    global starter_selection\n",
    "    starter_selection = starter_selector.value\n",
    "\n",
    "starter_selector.observe(starter_listener)\n",
    "\n",
    "target_selector = widgets.SelectMultiple(\n",
    "    options=target_options,\n",
    "    value=target_options,\n",
    "    rows=len(target_options),\n",
    "    description='Starters:',\n",
    "    disabled=False\n",
    ")\n",
    "\n",
    "def target_listener(change):\n",
    "    global target_selection\n",
    "    target_selection = target_selector.value\n",
    "\n",
    "target_selector.observe(target_listener)\n",
    "\n"
   ]
  },
  {
   "cell_type": "code",
   "execution_count": 4,
   "metadata": {},
   "outputs": [
    {
     "data": {
      "application/vnd.jupyter.widget-view+json": {
       "model_id": "6a377d7ac4424783a7cf553458a7a7b2",
       "version_major": 2,
       "version_minor": 0
      },
      "text/plain": [
       "SelectMultiple(description='Starters:', index=(0, 1, 2, 3, 4, 5, 6), options=('malate', 'pyruvate', 'oxaloacet…"
      ]
     },
     "execution_count": 4,
     "metadata": {},
     "output_type": "execute_result"
    }
   ],
   "source": [
    "starter_selector"
   ]
  },
  {
   "cell_type": "code",
   "execution_count": 5,
   "metadata": {},
   "outputs": [
    {
     "data": {
      "application/vnd.jupyter.widget-view+json": {
       "model_id": "2310014a9f124c42b8a87f3570b45e47",
       "version_major": 2,
       "version_minor": 0
      },
      "text/plain": [
       "SelectMultiple(description='Starters:', index=(0, 1), options=('hopa', 'mvacid'), rows=2, value=('hopa', 'mvac…"
      ]
     },
     "execution_count": 5,
     "metadata": {},
     "output_type": "execute_result"
    }
   ],
   "source": [
    "target_selector"
   ]
  },
  {
   "cell_type": "code",
   "execution_count": 6,
   "metadata": {},
   "outputs": [
    {
     "data": {
      "application/vnd.jupyter.widget-view+json": {
       "model_id": "369d62a1a32b432bbab1d65372a032f4",
       "version_major": 2,
       "version_minor": 0
      },
      "text/plain": [
       "SelectMultiple(description='Enzyme level of evidence:', index=(0,), options=('Evidence at protein level', 'Evi…"
      ]
     },
     "execution_count": 6,
     "metadata": {},
     "output_type": "execute_result"
    }
   ],
   "source": [
    "evidence_options = {elt.value: elt.name for elt in pw.enzyme_existence}\n",
    "default_loe = pw.enzyme_existence.PROTEIN.value\n",
    "loe_selection = [evidence_options[default_loe]]\n",
    "\n",
    "enzyme_evidence = widgets.SelectMultiple(\n",
    "    options=evidence_options.keys(),\n",
    "    value=[default_loe],\n",
    "    rows=len(evidence_options),\n",
    "    description='Enzyme level of evidence:',\n",
    "    disabled=False\n",
    ")\n",
    "\n",
    "def evidence_listener(change):\n",
    "    global loe_selection\n",
    "    loe_selection = [evidence_options[k] for k in enzyme_evidence.value]\n",
    "\n",
    "enzyme_evidence.observe(evidence_listener)\n",
    "\n",
    "enzyme_evidence"
   ]
  },
  {
   "cell_type": "code",
   "execution_count": 7,
   "metadata": {},
   "outputs": [
    {
     "data": {
      "application/vnd.jupyter.widget-view+json": {
       "model_id": "3a5da8b55e60438fa6dd4725642057ee",
       "version_major": 2,
       "version_minor": 0
      },
      "text/plain": [
       "RadioButtons(description='Sort paths by:', options=('mean_rcmcs', 'min_rcmcs', 'mdf'), value='mean_rcmcs')"
      ]
     },
     "execution_count": 7,
     "metadata": {},
     "output_type": "execute_result"
    }
   ],
   "source": [
    "sort_by_selection = 'mean_rcmcs'\n",
    "sort_options = ['mean_rcmcs', 'min_rcmcs', 'mdf']\n",
    "sort_default = 'mean_rcmcs'\n",
    "\n",
    "sort_by_radio_buttons = widgets.RadioButtons(\n",
    "    options=sort_options,\n",
    "    value=sort_default,\n",
    "    description='Sort paths by:',\n",
    "    disabled=False\n",
    ")\n",
    "\n",
    "def sort_by_listener(change):\n",
    "    global sort_by_selection\n",
    "    sort_by_selection = sort_by_radio_buttons.value\n",
    "\n",
    "sort_by_radio_buttons.observe(sort_by_listener)\n",
    "\n",
    "sort_by_radio_buttons\n"
   ]
  },
  {
   "cell_type": "code",
   "execution_count": 8,
   "metadata": {},
   "outputs": [
    {
     "data": {
      "application/vnd.jupyter.widget-view+json": {
       "model_id": "d1571f2454304fb697b5323a8d7a5029",
       "version_major": 2,
       "version_minor": 0
      },
      "text/plain": [
       "Button(button_style='success', description='Get paths', icon='solid flask', style=ButtonStyle(), tooltip='Clic…"
      ]
     },
     "execution_count": 8,
     "metadata": {},
     "output_type": "execute_result"
    },
    {
     "name": "stdout",
     "output_type": "stream",
     "text": [
      "10 paths meet your criteria\n",
      "16 paths meet your criteria\n"
     ]
    }
   ],
   "source": [
    "paths = []\n",
    "def click_handler(b):\n",
    "    global paths\n",
    "    filter_by_enzymes = {'existence': loe_selection} # Only paths w/ enzymes w/ protein-level evidence\n",
    "    paths = pw.get_paths(\n",
    "        starters=starter_selection,\n",
    "        targets=target_selection,\n",
    "        sort_by=sort_by_selection,\n",
    "        filter_by_enzymes=filter_by_enzymes\n",
    "    )\n",
    "    print(f\"{len(paths)} paths meet your criteria\")\n",
    "\n",
    "button = widgets.Button(\n",
    "    description='Get paths',\n",
    "    disabled=False,\n",
    "    button_style='success', # 'success', 'info', 'warning', 'danger' or ''\n",
    "    tooltip='Click me',\n",
    "    icon='solid flask' # (FontAwesome names without the `fa-` prefix)\n",
    ")\n",
    "\n",
    "button.on_click(click_handler)\n",
    "\n",
    "button"
   ]
  },
  {
   "cell_type": "markdown",
   "metadata": {},
   "source": [
    "Predicted pathway viewer"
   ]
  },
  {
   "cell_type": "code",
   "execution_count": 15,
   "metadata": {},
   "outputs": [
    {
     "data": {
      "application/vnd.jupyter.widget-view+json": {
       "model_id": "31c2ee53639e48ad908b674624166b47",
       "version_major": 2,
       "version_minor": 0
      },
      "text/plain": [
       "interactive(children=(IntSlider(value=0, description='Path # ', max=15), Output()), _dom_classes=('widget-inte…"
      ]
     },
     "metadata": {},
     "output_type": "display_data"
    }
   ],
   "source": [
    "current_path = 0\n",
    "path_slider = widgets.IntSlider(\n",
    "    min=0,\n",
    "    max=max(0, len(paths) - 1),\n",
    "    value=current_path,\n",
    "    description=\"Path # \"\n",
    ")\n",
    "\n",
    "def path_idx_listener(change):\n",
    "    global current_path\n",
    "    current_path =  path_slider.value\n",
    "\n",
    "path_slider.observe(path_idx_listener)\n",
    "\n",
    "@interact\n",
    "def display_path(path_idx=path_slider):\n",
    "    path = paths[path_idx]\n",
    "    data = ((reaction.image, reaction.top_rcmcs(1)[0]) for reaction in path.reactions)\n",
    "    print(f\"{len(path.reactions)}-step path from: {path.starter} to {path.target}\")\n",
    "    print(f\"Min-max driving force = {path.mdf:.2f} kJ/mol\\n\")\n",
    "    for i, (img, score) in enumerate(data):\n",
    "        print(f\"----------------------------------------------------\")\n",
    "        print(f\"Reaction step #{i+1}\")\n",
    "        print(f\"Closest analogue is {score * 100:.2f}% similar\")\n",
    "        display(SVG(img))"
   ]
  },
  {
   "cell_type": "markdown",
   "metadata": {},
   "source": [
    "Known analogues viewer"
   ]
  },
  {
   "cell_type": "code",
   "execution_count": 16,
   "metadata": {},
   "outputs": [
    {
     "data": {
      "application/vnd.jupyter.widget-view+json": {
       "model_id": "22f41ed96b494f90883986151b0ccd8c",
       "version_major": 2,
       "version_minor": 0
      },
      "text/plain": [
       "interactive(children=(IntSlider(value=0, description='Path # ', max=15), IntSlider(value=3, description='top-k…"
      ]
     },
     "metadata": {},
     "output_type": "display_data"
    }
   ],
   "source": [
    "top_k_slider = widgets.IntSlider(\n",
    "    min=1,\n",
    "    max=20,\n",
    "    value=3,\n",
    "    description=\"top-k analogues \"\n",
    ")\n",
    "\n",
    "@interact\n",
    "def display_analogues(path_idx=path_slider, k=top_k_slider):\n",
    "    path = paths[path_idx]\n",
    "    for i, pr in enumerate(path.reactions):\n",
    "        svgs = [widgets.HTML(value=SVG(elt.image).data) for elt in pr.top_analogues(k=k)]\n",
    "        vbox = widgets.VBox(svgs)\n",
    "        scroll_container = widgets.Box(children=[vbox], layout=widgets.Layout(\n",
    "                overflow='scroll',\n",
    "                height='250px',  # Adjust height as needed\n",
    "                width='2000px'    # Adjust width as needed\n",
    "            ))\n",
    "        print(f\"----------------------------------------------------\")\n",
    "        print(f\"Reaction step #{i+1}\")\n",
    "        display(scroll_container)"
   ]
  },
  {
   "cell_type": "markdown",
   "metadata": {},
   "source": [
    "Enzyme viewer"
   ]
  },
  {
   "cell_type": "code",
   "execution_count": 17,
   "metadata": {},
   "outputs": [
    {
     "data": {
      "application/vnd.jupyter.widget-view+json": {
       "model_id": "01457da3762b430b9f931fa343d6dcd6",
       "version_major": 2,
       "version_minor": 0
      },
      "text/plain": [
       "interactive(children=(IntSlider(value=0, description='Path # ', max=15), IntSlider(value=0, description='React…"
      ]
     },
     "metadata": {},
     "output_type": "display_data"
    }
   ],
   "source": [
    "'''\n",
    "path id, reaction step, kth analogue, level of evidence --> enzyme df\n",
    "\n",
    "'''\n",
    "current_pr_step = 0\n",
    "pred_rxn_slider = widgets.IntSlider(\n",
    "    min=0,\n",
    "    max=5, # TODO\n",
    "    value=current_pr_step,\n",
    "    description=\"Reaction step: \"\n",
    ")\n",
    "\n",
    "known_rxn_slider = widgets.IntSlider(\n",
    "    min=0,\n",
    "    max=20, #TODO\n",
    "    value=0,\n",
    "    description=\"Analogue #: \"\n",
    ")\n",
    "\n",
    "\n",
    "@interact\n",
    "def display_enzymes(path_idx=path_slider, reaction_step=pred_rxn_slider, kth_analogue=known_rxn_slider):\n",
    "    path = paths[path_idx]\n",
    "    pr = path.reactions[reaction_step]\n",
    "    analogues = pr.top_analogues(k=1000)\n",
    "    es = analogues[kth_analogue].enzymes\n",
    "    enzyme_df = pd.DataFrame(data=[e.to_dict() for e in es])\n",
    "    return enzyme_df\n",
    "    "
   ]
  }
 ],
 "metadata": {
  "kernelspec": {
   "display_name": "casp",
   "language": "python",
   "name": "python3"
  },
  "language_info": {
   "codemirror_mode": {
    "name": "ipython",
    "version": 3
   },
   "file_extension": ".py",
   "mimetype": "text/x-python",
   "name": "python",
   "nbconvert_exporter": "python",
   "pygments_lexer": "ipython3",
   "version": "3.9.18"
  }
 },
 "nbformat": 4,
 "nbformat_minor": 2
}
