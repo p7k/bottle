{
 "cells": [
  {
   "cell_type": "code",
   "execution_count": 48,
   "metadata": {},
   "outputs": [
    {
     "name": "stdout",
     "output_type": "stream",
     "text": [
      "The autoreload extension is already loaded. To reload it, use:\n",
      "  %reload_ext autoreload\n"
     ]
    }
   ],
   "source": [
    "%load_ext autoreload\n",
    "%autoreload 2\n",
    "from src.chem_draw import draw_pwy_svg\n",
    "from src.utils import ensure_dirs\n",
    "import pickle\n",
    "import subprocess\n",
    "import pandas as pd"
   ]
  },
  {
   "cell_type": "code",
   "execution_count": 49,
   "metadata": {},
   "outputs": [],
   "source": [
    "def thresholded_uniprot_strings(path_enzymes, enzyme_validation_threshold):\n",
    "    uniprot_strings = []\n",
    "    for rxn_enzymes in path_enzymes:\n",
    "        if rxn_enzymes:\n",
    "            up_str = \", \".join([e.uniprot_id for e in rxn_enzymes if e.validation_score >= enzyme_validation_threshold])\n",
    "            uniprot_strings.append(up_str)\n",
    "        else:\n",
    "            uniprot_strings.append(None)\n",
    "\n",
    "    return uniprot_strings"
   ]
  },
  {
   "cell_type": "code",
   "execution_count": 50,
   "metadata": {},
   "outputs": [],
   "source": [
    "# Params\n",
    "starters = 'alpha_ketoglutarate'\n",
    "targets = 'hopa'\n",
    "generations = 2\n",
    "ts = 0\n",
    "\n",
    "expansion_dir = '../data/processed_expansions/'\n",
    "fn = f\"{starters}_to_{targets}_gen_{generations}_tan_sample_{ts}_n_samples_1000.pkl\" # Expansion file name\n",
    "\n",
    "# Load processed expansions\n",
    "with open(expansion_dir + fn, 'rb') as f:\n",
    "    pe = pickle.load(f)\n"
   ]
  },
  {
   "cell_type": "code",
   "execution_count": 51,
   "metadata": {},
   "outputs": [
    {
     "name": "stdout",
     "output_type": "stream",
     "text": [
      "{('alpha_ketoglutarate', 'hopa')}\n",
      "15\n"
     ]
    }
   ],
   "source": [
    "print(pe.starter_target_pairs)\n",
    "print(len(pe._st2paths[('alpha_ketoglutarate', 'hopa')]))"
   ]
  },
  {
   "cell_type": "code",
   "execution_count": 52,
   "metadata": {},
   "outputs": [
    {
     "name": "stdout",
     "output_type": "stream",
     "text": [
      "5 for ('alpha_ketoglutarate', 'hopa')\n"
     ]
    }
   ],
   "source": [
    "to_vis = {}\n",
    "for st_pair in pe.starter_target_pairs:\n",
    "    starter, target = st_pair\n",
    "    enzyme_validation_threshold = 1.0\n",
    "    sort_by = ['prc_mcs']\n",
    "    filter_by = {'mdf':0, 'enzyme_validation':enzyme_validation_threshold}\n",
    "\n",
    "    paths = pe.get_paths_w_st(starter=starter,\n",
    "                    target=target,\n",
    "                    sort_by=sort_by,\n",
    "                    filter_by=filter_by,\n",
    "                    reduce_predicted_reactions='min'\n",
    "                    )\n",
    "    \n",
    "    # paths = pe.get_paths_w_st(starter, target)\n",
    "    \n",
    "    if len(paths) > 0:\n",
    "        print(f\"{len(paths)} for {st_pair}\")\n",
    "        to_vis[st_pair] = paths"
   ]
  },
  {
   "cell_type": "code",
   "execution_count": 53,
   "metadata": {},
   "outputs": [
    {
     "name": "stdout",
     "output_type": "stream",
     "text": [
      "('alpha_ketoglutarate', 'hopa')\n",
      "Generating svgs & csv\n",
      "Generating pdfs\n"
     ]
    },
    {
     "name": "stderr",
     "output_type": "stream",
     "text": [
      "Warning: Option --export-pdf= is deprecated\n",
      "Failed to get connection\n",
      "** (org.inkscape.Inkscape:424694): CRITICAL **: 14:23:20.047: dbus_g_proxy_new_for_name: assertion 'connection != NULL' failed\n",
      "\n",
      "** (org.inkscape.Inkscape:424694): CRITICAL **: 14:23:20.047: dbus_g_proxy_call: assertion 'DBUS_IS_G_PROXY (proxy)' failed\n",
      "\n",
      "** (org.inkscape.Inkscape:424694): CRITICAL **: 14:23:20.047: dbus_g_connection_register_g_object: assertion 'connection != NULL' failed\n",
      "Warning: Option --export-pdf= is deprecated\n",
      "Failed to get connection\n",
      "** (org.inkscape.Inkscape:424716): CRITICAL **: 14:23:20.328: dbus_g_proxy_new_for_name: assertion 'connection != NULL' failed\n",
      "\n",
      "** (org.inkscape.Inkscape:424716): CRITICAL **: 14:23:20.328: dbus_g_proxy_call: assertion 'DBUS_IS_G_PROXY (proxy)' failed\n",
      "\n",
      "** (org.inkscape.Inkscape:424716): CRITICAL **: 14:23:20.328: dbus_g_connection_register_g_object: assertion 'connection != NULL' failed\n",
      "Warning: Option --export-pdf= is deprecated\n",
      "Failed to get connection\n",
      "** (org.inkscape.Inkscape:424744): CRITICAL **: 14:23:20.564: dbus_g_proxy_new_for_name: assertion 'connection != NULL' failed\n",
      "\n",
      "** (org.inkscape.Inkscape:424744): CRITICAL **: 14:23:20.564: dbus_g_proxy_call: assertion 'DBUS_IS_G_PROXY (proxy)' failed\n",
      "\n",
      "** (org.inkscape.Inkscape:424744): CRITICAL **: 14:23:20.564: dbus_g_connection_register_g_object: assertion 'connection != NULL' failed\n",
      "Warning: Option --export-pdf= is deprecated\n",
      "Failed to get connection\n",
      "** (org.inkscape.Inkscape:424766): CRITICAL **: 14:23:20.891: dbus_g_proxy_new_for_name: assertion 'connection != NULL' failed\n",
      "\n",
      "** (org.inkscape.Inkscape:424766): CRITICAL **: 14:23:20.891: dbus_g_proxy_call: assertion 'DBUS_IS_G_PROXY (proxy)' failed\n",
      "\n",
      "** (org.inkscape.Inkscape:424766): CRITICAL **: 14:23:20.891: dbus_g_connection_register_g_object: assertion 'connection != NULL' failed\n",
      "Warning: Option --export-pdf= is deprecated\n",
      "Failed to get connection\n",
      "** (org.inkscape.Inkscape:424811): CRITICAL **: 14:23:21.269: dbus_g_proxy_new_for_name: assertion 'connection != NULL' failed\n",
      "\n",
      "** (org.inkscape.Inkscape:424811): CRITICAL **: 14:23:21.269: dbus_g_proxy_call: assertion 'DBUS_IS_G_PROXY (proxy)' failed\n",
      "\n",
      "** (org.inkscape.Inkscape:424811): CRITICAL **: 14:23:21.269: dbus_g_connection_register_g_object: assertion 'connection != NULL' failed\n"
     ]
    },
    {
     "name": "stdout",
     "output_type": "stream",
     "text": [
      "Concatenating pdfs\n",
      "Saving xlsx\n"
     ]
    }
   ],
   "source": [
    "sheets = []\n",
    "sheetnames = []\n",
    "\n",
    "for st_pair, paths in to_vis.items():\n",
    "    print(st_pair)\n",
    "    # Set up sheets headers & pwy svg outdir\n",
    "    print(\"Generating svgs & csv\")\n",
    "    headers = ['id', 'starter', 'target', 'mdf', 'pwy_ave_mcs'] + [f\"mcs_rxn_{g+1}\" for g in range(generations)] + [f\"uniprot_rxn_{g+1}\" for g in range(generations)]\n",
    "    pwy_svg_outdir = f\"../artifacts/pwy_svgs/{fn[:-4]}/{'_'.join(st_pair)}/\"\n",
    "    ensure_dirs(pwy_svg_outdir)\n",
    "\n",
    "    rows_for_sheet = []\n",
    "    for path in paths:\n",
    "        row = [] # One path\n",
    "        up_strings = thresholded_uniprot_strings(pe.get_path_enzymes(path), enzyme_validation_threshold)\n",
    "        prc_mcs = pe.get_path_prc_mcs(path) # Top-analogue prc_mcs for each predicted reaction in path \n",
    "        row += [path.id, path.starter, path.target, path.mdf, sum(prc_mcs) / len(prc_mcs)] # Append average prc_mcs\n",
    "\n",
    "        # Append reaction prc_mcs\n",
    "        for g in range(generations):\n",
    "            if g < len(path.reaction_ids):\n",
    "                row.append(prc_mcs[g])\n",
    "            else:\n",
    "                row.append(None)\n",
    "\n",
    "        # Append uniprot strings\n",
    "        for g in range(generations):\n",
    "            if g < len(path.reaction_ids):\n",
    "                row.append(up_strings[g])\n",
    "            else:\n",
    "                row.append(None)\n",
    "\n",
    "        # Draw pathway svg \n",
    "        sma_hash_pairs = []\n",
    "        for prid in path.reaction_ids:\n",
    "            pr = pe.predicted_reactions[prid]\n",
    "            analogue = pr.top_analogue()['analogue']\n",
    "            sma_hash_pairs.append([(pr.smarts, prid), (analogue.smarts, analogue.id)])\n",
    "        \n",
    "        outpath = pwy_svg_outdir + f\"{path.id:04}.svg\"\n",
    "        draw_pwy_svg(sma_hash_pairs, path.id, outpath)\n",
    "\n",
    "        rows_for_sheet.append(row)\n",
    "\n",
    "    # Make df for this st pair\n",
    "    sheets.append(pd.DataFrame(rows_for_sheet, columns=headers).set_index('id'))\n",
    "    sheetnames.append(\"_\".join(st_pair))\n",
    "\n",
    "    # Convert svgs to pdfs\n",
    "    print(\"Generating pdfs\")\n",
    "    tmp_pdf_outdir = f\"../artifacts/tmp_pdfs/{fn[:-4]}/{'_'.join(st_pair)}/\"\n",
    "    ensure_dirs(tmp_pdf_outdir)\n",
    "    for path in paths:\n",
    "        cmd = [\"inkscape\", f\"--export-pdf={tmp_pdf_outdir}{path.id:04}.pdf\", f\"{pwy_svg_outdir}{path.id:04}.svg\"]\n",
    "        subprocess.run(cmd)\n",
    "\n",
    "    # Concatenate pdfs\n",
    "    print(\"Concatenating pdfs\")\n",
    "    pwy_pdf_outdir = f\"../artifacts/pwy_pdfs/{fn[:-4]}/\"\n",
    "    ensure_dirs(pwy_pdf_outdir)\n",
    "    cat_pdf_fn = pwy_pdf_outdir + '_'.join(st_pair) + '.pdf'\n",
    "    individual_pwys = [f\"{tmp_pdf_outdir}{path.id:04}.pdf\" for path in paths]\n",
    "\n",
    "    cmd = [\"pdfunite\", *individual_pwys, cat_pdf_fn]\n",
    "    subprocess.run(cmd)\n",
    "\n",
    "# Concatenate sheets into xls\n",
    "print(\"Saving xlsx\")\n",
    "writer = pd.ExcelWriter(f\"../artifacts/pwy_xls/{fn[:-4]}\" + '.xlsx') # Arbitrary output name\n",
    "for i, df in enumerate(sheets):\n",
    "    df.to_excel(writer, sheet_name=sheetnames[i])\n",
    "writer.save()\n",
    "\n",
    "# Remove stuff\n",
    "dirs = ['../artifacts/' + elt for elt in ['tmp_pdfs', 'rxn_svgs', 'pwy_svgs', 'mol_svgs']]\n",
    "for elt in dirs:\n",
    "    subprocess.run([f\"rm -r {elt}/*\"], shell=True)"
   ]
  },
  {
   "cell_type": "code",
   "execution_count": 54,
   "metadata": {},
   "outputs": [
    {
     "name": "stdout",
     "output_type": "stream",
     "text": [
      "Q8WVX9 Homo sapiens (Human)\n",
      "Q5R834 Pongo abelii (Sumatran orangutan) (Pongo pygmaeus abelii)\n",
      "Q7ZXF5 Xenopus laevis (African clawed frog)\n",
      "Q5ZM72 Gallus gallus (Chicken)\n",
      "Q922J9 Mus musculus (Mouse)\n",
      "Q66H50 Rattus norvegicus (Rat)\n",
      "Q8WVX9 Homo sapiens (Human)\n",
      "Q5R834 Pongo abelii (Sumatran orangutan) (Pongo pygmaeus abelii)\n",
      "Q7ZXF5 Xenopus laevis (African clawed frog)\n",
      "Q5ZM72 Gallus gallus (Chicken)\n",
      "Q922J9 Mus musculus (Mouse)\n",
      "Q66H50 Rattus norvegicus (Rat)\n",
      "A1ZAI3 Drosophila melanogaster (Fruit fly)\n",
      "Q8WVX9 Homo sapiens (Human)\n",
      "B9TSP7 Arabidopsis thaliana (Mouse-ear cress)\n",
      "Q0P5J1 Bos taurus (Bovine)\n",
      "Q08891 Arabidopsis thaliana (Mouse-ear cress)\n",
      "Q5R834 Pongo abelii (Sumatran orangutan) (Pongo pygmaeus abelii)\n",
      "Q96K12 Homo sapiens (Human)\n",
      "Q7ZXF5 Xenopus laevis (African clawed frog)\n",
      "Q7TNT2 Mus musculus (Mouse)\n",
      "Q5ZM72 Gallus gallus (Chicken)\n",
      "Q922J9 Mus musculus (Mouse)\n",
      "Q66H50 Rattus norvegicus (Rat)\n",
      "A1ZAI3 Drosophila melanogaster (Fruit fly)\n",
      "Q8WVX9 Homo sapiens (Human)\n",
      "Q0P5J1 Bos taurus (Bovine)\n",
      "Q5R834 Pongo abelii (Sumatran orangutan) (Pongo pygmaeus abelii)\n",
      "Q96K12 Homo sapiens (Human)\n",
      "Q7ZXF5 Xenopus laevis (African clawed frog)\n",
      "Q7TNT2 Mus musculus (Mouse)\n",
      "Q5ZM72 Gallus gallus (Chicken)\n",
      "Q922J9 Mus musculus (Mouse)\n",
      "Q66H50 Rattus norvegicus (Rat)\n"
     ]
    }
   ],
   "source": [
    "for kr in pr.analogues:\n",
    "    for e in kr.enzymes:\n",
    "        print(e.uniprot_id, e.organism)"
   ]
  }
 ],
 "metadata": {
  "kernelspec": {
   "display_name": "mine",
   "language": "python",
   "name": "python3"
  },
  "language_info": {
   "codemirror_mode": {
    "name": "ipython",
    "version": 3
   },
   "file_extension": ".py",
   "mimetype": "text/x-python",
   "name": "python",
   "nbconvert_exporter": "python",
   "pygments_lexer": "ipython3",
   "version": "3.7.12"
  }
 },
 "nbformat": 4,
 "nbformat_minor": 2
}
