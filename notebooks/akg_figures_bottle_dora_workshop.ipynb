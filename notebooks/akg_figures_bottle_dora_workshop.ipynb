{
 "cells": [
  {
   "cell_type": "code",
   "execution_count": 1,
   "metadata": {},
   "outputs": [
    {
     "name": "stdout",
     "output_type": "stream",
     "text": [
      "/home/stef/bottle/notebooks\n"
     ]
    }
   ],
   "source": [
    "%cd /home/stef/bottle/notebooks\n",
    "from src.utils import load_json, save_json\n",
    "from tqdm import tqdm\n",
    "from rdkit import Chem\n",
    "from rdkit.Chem import AllChem, Draw\n",
    "from rdkit.Chem.Draw import IPythonConsole\n",
    "IPythonConsole.drawOptions.addAtomIndices=False\n",
    "from rdkit.Chem.Draw import rdMolDraw2D\n",
    "from IPython.display import SVG\n",
    "from rdkit.Chem.Draw import rdMolDraw2D\n",
    "import io\n",
    "from PIL import Image\n",
    "from collections import defaultdict"
   ]
  },
  {
   "cell_type": "code",
   "execution_count": 3,
   "metadata": {},
   "outputs": [],
   "source": [
    "krs = load_json(\"../data/mapping/known_rxns_swissprot_enzymes_240310_v2.json\")"
   ]
  },
  {
   "cell_type": "code",
   "execution_count": 35,
   "metadata": {},
   "outputs": [
    {
     "name": "stderr",
     "output_type": "stream",
     "text": [
      "100%|██████████| 20382/20382 [00:00<00:00, 431462.75it/s]\n"
     ]
    }
   ],
   "source": [
    "known_compounds = set()\n",
    "for k,v in tqdm( krs.items()):\n",
    "    cpds = \".\".join(v['smarts'].split('>>'))\n",
    "    cpds = set(cpds.split('.'))\n",
    "    for c in cpds:\n",
    "        known_compounds.add(c)"
   ]
  },
  {
   "cell_type": "code",
   "execution_count": 36,
   "metadata": {},
   "outputs": [],
   "source": [
    "known_compounds.remove('')"
   ]
  },
  {
   "cell_type": "code",
   "execution_count": 37,
   "metadata": {},
   "outputs": [
    {
     "data": {
      "text/plain": [
       "{'CCCCCCCCCCCCCCCCCCCCCC(=O)NCCS(=O)(=O)O',\n",
       " 'CC(C)CCCC(C)C1CCC2C3C(O)CC4CC(=O)CCC4(C)C3CC(O)C12C',\n",
       " 'CC1=CCC2C3C1C2(C)CCCC3(C)C',\n",
       " 'O=C(OC1OC(CO)C(O)C(O)C1O)c1cc(O)c(O)c(O)c1',\n",
       " '*C1OC(COP(*)(=O)O)C(O)C1O',\n",
       " 'O=CC(O)C(O)CO',\n",
       " 'O=C(O)CCCCCCCCCCCCCCCCCCCCCCCCCO',\n",
       " 'O=C(O)c1ccccc1O',\n",
       " '*CCC(=O)SCCNC(=O)CCNC(=O)C(O)C(C)(C)COP(=O)(O)OP(=O)(O)OCC1OC(n2cnc3c(N)ncnc32)C(O)C1OP(=O)(O)O',\n",
       " 'CC(C)=CCC(C=CC(C)=CC=CC(C)=CC=CC(C)=CC=CC=C(C)C=CC=C(C)C=CC=C(C)C=CC(CC=C(C)C)C(C)(C)O)C(C)(C)O',\n",
       " '[C-]#[O+]',\n",
       " 'NC(=O)C=CC(=O)O',\n",
       " 'C=CC(O)CC(=NOS(=O)(=O)O)SC1OC(CO)C(O)C(O)C1O',\n",
       " 'COc1ccc2c(c1OC)C[N+]1(C)CCc3cc4c(c(O)c3C1C2)OCO4',\n",
       " '*NC(COP(=O)(O)OCC(C)(C)C(O)C(=O)NCCC(=O)NCCSC(=O)C(C)N)C(*)=O',\n",
       " 'C=C1CCC(O)CC1=CC=C1CCCC2(C)C1CCC2C(C)(O)CC(O)CC(C)(C)O',\n",
       " 'CC(C)=CCC(C=CC(C)=CC=CC(C)=CC=CC(C)=CC=CC=C(C)C=CC=C(C)C=CC=C(C)CCC(CC=C(C)C)C(C)(C)O)C(C)(C)O',\n",
       " 'CCCCCCCCCCCCCC(O)C(N)CO',\n",
       " 'NC(=O)CCC(N)C(=O)O',\n",
       " 'CCCCCCCCC=CCCCCCCCCOCC(O)COP(=O)(O)O',\n",
       " 'O=CC=Cc1ccccc1',\n",
       " 'CCNc1nc(O)nc(NC(C)C)n1',\n",
       " 'O=C(O)c1cc(C(=O)O)c[n+](C2OC(COP(=O)(O)O)C(O)C2O)c1',\n",
       " 'CCCCCCCCCCCCCCCCOCC(N)COP(=O)(O)O',\n",
       " 'O=C(O)c1cc(C(=O)O)c2c(n1)C(=O)C(=O)c1cc(C(=O)O)[nH]c1-2',\n",
       " '*NC(Cc1ccc(OP(=O)(O)OCC2OC(n3cnc4c(=O)[nH]c(N)nc43)C(O)C2O)cc1)C(*)=O',\n",
       " 'c1cncc(C2CCCN2)c1',\n",
       " 'CCC=C(CCC)C(=O)SCCNC(=O)CCNC(=O)C(O)C(C)(C)COP(=O)(O)OP(=O)(O)OCC1OC(n2cnc3c(N)ncnc32)C(O)C1OP(=O)(O)O',\n",
       " 'CCCCCCCCC(C)Cc1cc(O)cc(=O)o1',\n",
       " 'O=C(O)C(=O)CC1(C(=O)O)C=CC(O)C=C1',\n",
       " '*C1OC(C(=O)O)C(O)C(O)C1O',\n",
       " 'CC(C)=CCc1cccc2c1Nc1c(cccc1C(=O)O)N2',\n",
       " '*C(=O)NCCOP(=O)(O)OCC(COC(*)=O)OC(*)=O',\n",
       " 'CC(=O)NC1C(OC2C(CO)OC(O)C(N)C2O)OC(CO)C(O)C1O',\n",
       " '*C(=O)OCC(COC1OC(CO)C(O)C(O)C1OC1OC(CO)C(O)C(O)C1O)OC(*)=O',\n",
       " 'CCCCCCCCC=CCCCCCCCC(=O)CC(=O)SCCNC(=O)CCNC(=O)C(O)C(C)(C)COP(=O)(O)OP(=O)(O)OCC1OC(n2cnc3c(N)ncnc32)C(O)C1OP(=O)(O)O',\n",
       " 'Cc1cn(C2CC(O)C(COP(=O)(O)OP(=O)(O)OC3CC(O)C(=O)C(C)O3)O2)c(=O)[nH]c1=O',\n",
       " 'CC1=CC(OC=C2C(=O)OC3C4=C(CCCC4(C)C)CC23)OC1=O',\n",
       " '[*:0]c1cc(-c2[o+]c3cc(O)cc(OC4OC(CO)C(O)C(O)C4O)c3cc2OC2OC(CO)C(O)C(O)C2O)cc([*:0])c1O',\n",
       " '*OC1OC(CO)C(OC2OC(CO)C(O)C(OC3OC(CO)C(O)C(O)C3O)C2O)C(O)C1NC(C)=O',\n",
       " 'CCC=CCC=CCC=CCCCCCCCC(=O)OCC(COP(=O)(O)OCCN)OC(=O)CCCCCCCC=CCC=CCC=CCC',\n",
       " '*C(=O)C1C(O)C(O)CN1*',\n",
       " 'CCCCCC=CCC(O)C=CC=CC=CC(CCCC(=O)O)OO',\n",
       " '*C(=O)OCC(COP(=O)(O)OCCN)OC(=O)CCCCCCCCCCC=CCCCCC',\n",
       " 'NCCCCCNC(=O)CCC(N)C(=O)O',\n",
       " 'CC(C)CCCC(C)C1CCC2C3=CCC4C(C)C(O)CCC4(C)C3CCC21C',\n",
       " 'CC(=O)NCCSCCC(N)C(=O)O',\n",
       " 'CCCCCCCCCCCCCCCCCCCC(O)CC(=O)SCCNC(=O)CCNC(=O)C(O)C(C)(C)COP(=O)(O)OP(=O)(O)OCC1OC(n2cnc3c(N)ncnc32)C(O)C1OP(=O)(O)O',\n",
       " 'CCCCCCCCC=CCCCCCCCCCCCCCC(=O)NC(COP(=O)(O)OCC[N+](C)(C)C)C(O)C=CCCCCCCCCCCCCC',\n",
       " 'CCCCCC=CCC=CCC=CCC=CCCCC=CC(=O)SCCNC(=O)CCNC(=O)C(O)C(C)(C)COP(=O)(O)OP(=O)(O)OCC1OC(n2cnc3c(N)ncnc32)C(O)C1OP(=O)(O)O',\n",
       " 'O=c1c(O)c[nH]c2ccccc12',\n",
       " '*NC(Cc1cn(C2OC(COP(=O)(O)OP(=O)(O)OCC3OC(n4cnc5c(N)ncnc54)C(O)C3O)C(O)C2O)cn1)C(*)=O',\n",
       " 'CC1(C)CCCC2(C)C1CCC13CC(CCC12)C(C)(O)C3',\n",
       " 'NC(=O)C1=CN(C2OC(COP(=O)(O)OP(=O)(O)OCC3OC(n4cnc5c(N)ncnc54)C(OP(=O)(O)O)C3O)C(O)C2O)C=CC1',\n",
       " 'CCCCCCCCCCCCCCCC(=O)OCC(CO)OC(=O)CCCCCCCCCCCCCCC',\n",
       " '*OC(=O)CCCCCCCCCCCCCCC',\n",
       " 'CC(=O)C1(O)CCC2C3CCC4=CC(=O)CCC4(C)C3CCC21C',\n",
       " 'C=C(C(=O)OCC1OC(O)C(O)C(O)C1O)C(O)CO',\n",
       " 'CC(O)C1CCC2C3CCC4CC(=O)CCC4(C)C3CCC12C',\n",
       " 'CCCC(=O)SCCNC(=O)CCNC(=O)C(O)C(C)(C)COP(=O)(O)O',\n",
       " 'CNCCOP(=O)(O)OP(=O)(O)OCC1OC(n2ccc(N)nc2=O)C(O)C1O',\n",
       " '*c1oc2c(*)c(OC3OC(CO)C(O)C(O)C3O)c(*)c(*)c2c(=O)c1-c1c(*)c(*)c(*)c(*)c1*',\n",
       " 'CCCCCC=CCC=CCC=CC(O)C1OC1CCCC(=O)O',\n",
       " '*OC1C(COP(=O)(O)OC2C(COP(=O)(O)OP(=O)(O)OCC(O)C(O)C(O)Cn3c4nc(=O)[nH]c(=O)c-4nc4cc(C)c(C)cc43)OC(n3cnc4c(N)ncnc43)C2O)OC(*)C1O',\n",
       " 'COc1cc(O)c2c(O)c3c(=O)oc(CC(C)=O)cc3cc2c1',\n",
       " 'CCCCCCCCCCCCCC=CC(O)C(COC1OC(CO)C(O)C(O)C1O)NC(=O)CCCCCCC',\n",
       " 'CC(C)=CCCC(C)=CCCC(C)=CCOP(=O)(O)OP(=O)(O)O',\n",
       " 'C=CC1=C(C)c2cc3[nH]c(cc4nc(cc5[nH]c(cc1n2)c(C)c5CCC(=O)O)C(CCC(=O)O)=C4C)c(C)c3C=C',\n",
       " 'CC(C)C1CCC2(C)CC3C(C)CC(O)C3C(C)(O)CC=C12',\n",
       " 'NCCOP(=O)(O)OP(=O)(O)OCC1OC(n2ccc(N)nc2=O)C(O)C1O',\n",
       " 'O=P(O)(O)OC1OC(CO)C(O)C1O',\n",
       " 'O=C(O)CCC(=O)NC(CCCC(=O)C(=O)O)C(=O)O',\n",
       " 'CC(C)=CCCC(C)=CCCC(C)=CCCC(C)=CCCC(C)=CCCC(C)=CCCC(C)=CCCC(C)=CCc1cccc(O)c1O',\n",
       " 'Cc1cc(CC(N)C(=O)O)cc(O)c1O',\n",
       " 'CC1CC(C)C(=O)C(C(O)CC2CC(=O)NC(=O)C2)C1',\n",
       " '*C(=O)OC(COC(=O)CCCCCCCCCCCCCCC)COP(=O)(O)OCC[N+](C)(C)C',\n",
       " '*NC(CCC(=O)NC)C(*)=O',\n",
       " 'NC(Cc1ccc(Oc2cc(I)c(OS(=O)(=O)O)c(I)c2)c(I)c1)C(=O)O',\n",
       " 'CC(C)(COP(=O)(O)OP(=O)(O)OCC1OC(n2cnc3c(N)ncnc32)C(O)C1OP(=O)(O)O)C(O)C(=O)NCCC(=O)NCCSC(=O)C(CC(=O)O)C(O)c1ccccc1',\n",
       " 'CC(O)C1CCC2C3CCC4=CC(=O)CCC4(C)C3CCC12C',\n",
       " 'O=CNC1COC(OP(=O)(O)OP(=O)(O)OCC2OC(n3ccc(=O)[nH]c3=O)C(O)C2O)C(O)C1O',\n",
       " 'C=C1C(=CC=C2CCCC3(C)C2CCC3C(C)CC(O)C(=O)C(C)(C)O)CC(O)CC1O',\n",
       " 'CC=CC=CCC(C)CCC=C(C)C=CC(O)=C1C(=O)NC(Cc2ccc(O)cc2)C1=O',\n",
       " 'O=P(O)(O)OC1C(O)C(O)C(OP(=O)(O)O)C(OP(=O)(O)O)C1O',\n",
       " '*C(=O)NC(CSCC(COC(*)=O)OC(*)=O)C(*)=O',\n",
       " 'CCCCCC=CC(C=CCCCCCCCC(=O)O)OO',\n",
       " 'COc1c(O)ccc2c1C[N+]1(C)CCc3cc4c(cc3C1C2)OCO4',\n",
       " 'CCCCCCCCC(O)C(=O)SCCNC(=O)CCNC(=O)C(O)C(C)(C)COP(=O)(O)OP(=O)(O)OCC1OC(n2cnc3c(N)ncnc32)C(O)C1OP(=O)(O)O',\n",
       " 'COc1c(C)c2c(c(O)c1CC=C(C)CCC(=O)OC1OC(C(=O)O)C(O)C(O)C1O)C(=O)OC2',\n",
       " 'Nc1ccccc1C(=O)CC=O',\n",
       " 'CC(=O)C=CC=C(C)CCC=C(C)C',\n",
       " 'O=C(OCc1ccccc1)c1ccccc1',\n",
       " 'CC(C=CC=C(C)C=CC1=C(C)CCCC1(C)C)=CC=CC=C(C)C=CC=C(C)C=CC1C(C)=CC(O)CC1(C)C',\n",
       " 'CCC(C)(O)C#N',\n",
       " 'CC(=O)CCC(CO)c1c(O)cc2c(c1O)C(=O)c1c(O)cc(O)cc1C2=O',\n",
       " 'OCC1OC(OC2(CO)OC(CO)C(O)C2O)C(O)C(O)C1O',\n",
       " '*OCC(COC(=O)CCCCCCCCC=CCCCCCC)O*',\n",
       " 'NC(C[n+]1ccc(O)c(O)c1)C(=O)O',\n",
       " 'CC1=CCC2(C)CCC(=C(C)C)C2CCC(C)=CCC1',\n",
       " 'CC(C)=CCCC(C)=CCCC(C)=CCCC(C)=CCCC(C)=CCCC(C)C1=CCC(C)=CC1',\n",
       " 'CCCCCCCCC=CCCCCCCCCCCCCCC(=O)NCCS(=O)(=O)O',\n",
       " 'OCC1=CC(NC2CC(CO)C(OC3OC(CO)C(O)C(O)C3O)C(O)C2O)C(O)C(O)C1O',\n",
       " '*NC(COC(=O)CCCC)C(*)=O',\n",
       " '*NO',\n",
       " '*C(O)C(N)COP(=O)(O)O',\n",
       " 'CC(C)CCCC(C)C1CCC2C3CC4OC45CC(O)CCC5(C)C3CCC12C',\n",
       " 'Cc1ncc(CO)c(C=O)c1O',\n",
       " '*CCC(=O)O',\n",
       " 'CC(C)CCCCCCCCCCCCOCC(COP(=O)(O)OCCN)OC(=O)CCCCCCCCCCCC(C)C',\n",
       " 'C=C(C)C1CC=C2CCCC(C)C2(C)C1',\n",
       " 'CC1CCCC2(C)CCC(C(C)(C)O)CC12O',\n",
       " 'CC(=O)NC1C(OC2C(N)CC(N)C(O)C2O)OC(CO)C(O)C1O',\n",
       " 'O=C(O)CC(=CC=C(O)C(=O)O)C(=O)O',\n",
       " 'N=C(N)NCCCC(NC(=O)CCN)C(=O)O',\n",
       " 'Cc1cccc2c(C(=O)O)cccc12',\n",
       " 'CCCCCCO',\n",
       " 'CCCCCCCCC=CCCCCCCCC(=O)OC(CO)COC(=O)CCCCCCCCCCCCCCC',\n",
       " 'CCCCOC(=O)CC',\n",
       " 'O=CC=C(C=C(O)C(=O)O)C(=O)O',\n",
       " 'CCCCC(N)C(=O)O',\n",
       " 'CC(=O)CC(=O)SCCNC(=O)CCNC(=O)C(O)C(C)(C)COP(=O)(O)OP(=O)(O)OCC1OC(n2cnc3c(N)ncnc32)C(O)C1OP(=O)(O)O',\n",
       " 'CC1=CC(=O)C(O)=CC1=O',\n",
       " 'O=C(O)C(=O)O',\n",
       " 'CCC=CCC(=O)SCCNC(=O)CCNC(=O)C(O)C(C)(C)COP(=O)(O)OP(=O)(O)OCC1OC(n2cnc3c(N)ncnc32)C(O)C1OP(=O)(O)O',\n",
       " 'CCCCCCCCCCCCCC=CC(O)C(N)CO',\n",
       " 'CN=C(NC)NCCCC(N)C(=O)O',\n",
       " 'Nc1ncnc2c1ncn2C1OC(COP(=O)(O)OS(=O)(=O)O)C(O)C1O',\n",
       " '*NC(C(*)=O)C(C)OC1OC(COC2OC(COS(=O)(=O)O)C(OC3OC(CO)C(O)C(O)C3O)C(O)C2NC(C)=O)C(O)C(OC2OC(CO)C(O)C(O)C2O)C1NC(C)=O',\n",
       " 'NC(CC(=O)O)c1ccccc1',\n",
       " 'O=C(O)CCCCCCCCCCCCCCCCCCCCCCCO',\n",
       " '*C(=O)NC(COC1OC(CO)C(OC2OC(CO)C(OC3OC(CO)C(O)C(OC4OC(CO)C(O)C(OC5(C(=O)O)CC(O)C(NC(C)=O)C(C(O)C(O)CO)O5)C4O)C3NC(C)=O)C(O)C2O)C(O)C1O)C(O)C=CCCCCCCCCCCCCC',\n",
       " 'O=C(O)CC(=O)OCC1OC(Oc2cc(O)cc3[o+]c(-c4ccc(O)c(O)c4)c(OC4OC(COC(=O)C=Cc5ccc(O)cc5)C(O)C(O)C4OC4OCC(O)C(O)C4O)cc23)C(O)C(O)C1O',\n",
       " 'CC(=O)C(N)C(=O)O',\n",
       " 'CC(N)(CO)C(=O)O',\n",
       " '*C(=O)CCCCCCCC=CCCCCCCCC',\n",
       " '*OC1C(COP(*)(=O)O)OC(n2cnc3c(N)ncnc32)C1OC',\n",
       " 'CCCCCCCCCCCCC=CC1OP(=O)(O)OCC1NC(=O)CCCCCCCCCCC',\n",
       " 'CC*C(=O)O',\n",
       " '*C(=O)OCC(=O)COP(=O)(O)O',\n",
       " 'COc1ccc(-c2cc(=O)c3c(O)c(O)c(O)cc3o2)cc1',\n",
       " 'CCCCCCCCC=CCCCCCCCC(=O)OC(COC(=O)CCCCCCCCCCCCCCCCCCC)COP(=O)(O)O',\n",
       " 'NCCCC[N+](CCCN)(CCCN)CCCN',\n",
       " '*NC(CO)C(*)=O',\n",
       " 'CCCCCCCCCCCC(=O)NC(O)C(=O)O',\n",
       " 'CCCCCC=CCC=CCC=CCC=CCCCC(=O)OC(COC(=O)CCCCCCCC=CCCCCCCCC)COP(=O)(O)OCC(N)C(=O)O',\n",
       " 'COC(=O)CCCC=CCC(C=CC=CCC=CCCCCCO)OO',\n",
       " 'CC12CCC3C(CC=C4CC(OC5OC(C(=O)O)C(O)C(OS(=O)(=O)O)C5O)CCC43C)C1CCC2=O',\n",
       " 'COc1c(-c2cc(O)c(O)c(O)c2)oc2cc(O)cc(O)c2c1=O',\n",
       " 'OCC1OC(Oc2cc3c(O)cc(O)cc3[o+]c2-c2cc(O)c(O)c(O)c2)C(O)C(O)C1O',\n",
       " 'COc1cc(O)c2c(O)c3c(=O)oc(C)cc3cc2c1',\n",
       " 'CC12CCC(CC1)C(C)(C)O2',\n",
       " 'CCCCCCCCC=CCCCCCCC(OO)C(=O)O',\n",
       " 'O=C(O)CNCP(=O)(O)O',\n",
       " 'OCC1OC(O)(CO)C(O)C1O',\n",
       " 'NCCc1c[nH]c2ccccc12',\n",
       " 'CC(C)(COP(=O)(O)OP(=O)(O)OCC1OC(n2cnc3c(N)ncnc32)C(O)C1OP(=O)(O)O)C(O)C(=O)NCCC(=O)NCCSC(=O)CCCCCCCCCCCCC(=O)O',\n",
       " 'CCCCCCCCCCCCCCCCCC(=O)NCCc1c[nH]c2ccc(O)cc12',\n",
       " '*C(=O)NC(CO)C(O)CCCCCCCCCCCCCCC',\n",
       " 'O=C1COC(CO)C=C1O',\n",
       " '*C(=O)NC(COP(=O)(O)OC1C(O)C(O)C(O)C(O)C1O)C(O)C(O)CCCCCCCCCCCCCC',\n",
       " 'CCCCCCCCCCCCCCCC(=O)OCC(=O)COP(=O)(O)O',\n",
       " 'CCCCCCCC(O)C=CCCCCCCCC(=O)OCC(O)COP(=O)(O)OCC[N+](C)(C)C',\n",
       " 'C[N+](C)(C)CC(=O)O',\n",
       " 'CCCCCCCCCCCCCC(=O)OCC1COP(=O)(O)O1',\n",
       " 'Cc1c(C)c2c(c(C)c1O)CCC(C)(CCCC(C)CCCC(C)CCCC(C)C)O2',\n",
       " 'N#CCCc1ccccc1',\n",
       " '*NC(COP(=O)(O)OCC(C)(C)C(O)C(=O)NCCC(=O)NCCSC(=O)c1ccc(O)c(O)c1)C(*)=O',\n",
       " 'CC(C)CCCO',\n",
       " 'CC(=CCCC(C)=CC=O)CO',\n",
       " 'C=C1C23CCC(C)C4CC5(C)CCC(C(C)C)C5CC14C2CCC3C',\n",
       " 'CCCCCC=CCC(C=CC=CCC=CCCCC(=O)OC(CO)CO)OO',\n",
       " 'CC(=O)NC1C(O)OC(CO)C(O)C1O',\n",
       " '*C(=O)C1CCCN1C(*)=O',\n",
       " 'CCCCOC(=O)CCC',\n",
       " 'CC12CCC(O)CC1CCC1C2CCC2(C)C(OC3OC(C(=O)O)C(O)C(O)C3O)CCC12',\n",
       " 'CC(CCC(=O)O)C1CCC2C3CCC4CC(O)CCC4(C)C3CC(O)C12C',\n",
       " 'O=P(O)(OC1C(O)C(O)C(O)C(O)C1O)OC1C(O)C(O)C(O)C(O)C1O',\n",
       " 'CC(C)=CCc1cc(C(=O)Nc2c(O)c3ccc(O)c(C)c3oc2=O)ccc1O',\n",
       " 'CC1Cc2ccc(C(=O)NC(Cc3ccccc3)C(=O)O)c(O)c2C(=O)O1',\n",
       " 'O=C1OC(CO)C(OC2OC(CO)C(O)C(O)C2O)C(O)C1O',\n",
       " 'O=CC(O)CC(=O)O',\n",
       " 'Nc1ncnc2c1ncn2C1OC(CO)C(OP(=O)(O)O)C1O',\n",
       " '*P(=O)(O)OCC1OC(n2cnc3c(N)ncnc32)C(O)C1OC(=O)C(N)CCCNC(=N)N',\n",
       " 'O=C(O)C=CC(=O)CC(=O)O',\n",
       " 'N',\n",
       " 'CCCCC=CC=O',\n",
       " 'O=S(=O)(O)Oc1ccc2ccccc2c1',\n",
       " 'O=P(O)(OC1C(O)C(O)C(O)C(O)C1O)OC1C(O)C(O)C(O)C(O)C1OC1OC(CO)C(O)C(O)C1O',\n",
       " 'CC1OC(OC2C(O)CC(OC3C(O)CC(OC4CCC5(C)C(CCC6C5CCC5(C)C(C7COC(=O)C7)CCC65O)C4)OC3C)OC2C)CC(O)C1O',\n",
       " 'C[N+](C)(C)CCOP(=O)(O)OP(=O)(O)OCC1OC(n2ccc(N)nc2=O)C(O)C1O',\n",
       " 'CC(=CC(=O)O)CCC=C(C)CCC1OC1(C)C',\n",
       " '*C(=O)NC(CO)C(O)C(O)CCCC=CCCCCCCCCC',\n",
       " 'CCC=CCC1OC1CC(O)C=CCCCCCCC(=O)O',\n",
       " 'NC(CO)COC=CC(N)C(=O)O',\n",
       " 'CC1OC(Oc2c(-c3ccc(O)c(O)c3)oc3cc(O)cc(O)c3c2=O)C(O)C(O)C1O',\n",
       " 'CCCCCC=CCC1OC1CCCCCCCC(=O)O',\n",
       " 'CCC(C)C(NC(=O)C(Cc1ccc(O)cc1)NC(=O)C(NC(=O)C(CCCNC(=N)N)NC(=O)C(N)CC(=O)O)C(C)C)C(=O)NC(Cc1c[nH]cn1)C(=O)N1CCCC1C(=O)NC(Cc1ccccc1)C(=O)O',\n",
       " 'CC1=C2OC3(CC2(C)C(C)=C(C(=O)O)C1=O)C(C)CCC1C(C)(C)OC(=O)CCC13C',\n",
       " 'O=C(CO)C(O)CS(=O)(=O)O',\n",
       " 'C[n+]1cn(C2OC(CO)C(O)C2O)c2[nH]c(N)nc(=O)c21',\n",
       " 'Nc1ccn(C2OC(COP(=O)(O)OP(=O)(O)OC3C(O)C(O)C(O)C(O)C3O)C(O)C2O)c(=O)n1',\n",
       " '*NC(COP(=O)(O)OCC(C)(C)C(O)C(=O)NCCC(=O)NCCSC(=O)CC(O)CCCCCCCCCCC)C(*)=O',\n",
       " 'CC1OC(OP(=O)(O)OP(=O)(O)OCC2OC(n3ccc(N)nc3=O)C(O)C2O)C(O)C(O)C1=O',\n",
       " 'O=CC(O)C(O)C(O)COP(=O)(O)O',\n",
       " 'O=C(O)CP(=O)(O)O',\n",
       " 'O=C(CO)C(O)COP(=O)(O)O',\n",
       " 'CC(C)C(C)C(O)C(O)C(C)C1CCC2C3CCC4=CC(=O)CCC4(C)C3CCC12C',\n",
       " 'CCC=CCC=CCC=CCC=CCCCCCCC(=O)SCCNC(=O)CCNC(=O)C(O)C(C)(C)COP(=O)(O)OP(=O)(O)OCC1OC(n2cnc3c(N)ncnc32)C(O)C1OP(=O)(O)O',\n",
       " 'CCCCCC=CCC=CCC=CCC=CCCCC(=O)OC(COC(=O)CCCCCCCCCCCCCCCCC)COP(=O)(O)OCC(N)C(=O)O',\n",
       " '*C(=O)C(*)NC(=O)CCC(N)C(=O)O',\n",
       " 'C=C1C(=CC=C2CCCC3(C)C2CCC3C(C)CC(O)CC(C)(C)O)CC(O)CC1O',\n",
       " 'CC(=O)c1ccccc1',\n",
       " 'C=C(C)C1CC=C(C=O)CC1',\n",
       " 'c1cc2c(c3c1CC1c4cc5c(cc4CCN1C3)OCO5)OCO2',\n",
       " 'NCCc1c[nH]cn1',\n",
       " 'CC(C)=CCc1cccc2[nH]cc(CC(N)C(=O)O)c12',\n",
       " 'C=CC(C)(C)c1[nH]c2ccccc2c1Cc1c[n+]2c(c(O)n1)CCC2',\n",
       " 'CCCCCCCCC=CCCCCCCCCCC(=O)O',\n",
       " '*P(=O)(O)OCC1OC(n2cnc3c(N)ncnc32)C(O)C1OC(=O)C(N)CC(C)C',\n",
       " 'O=P(O)(O)OC1OCC(O)C(O)C1O',\n",
       " '*C(=O)C(C)N',\n",
       " '*NC(COP(=O)(O)OCC(C)(C)C(O)C(=O)NCCC(=O)NCCSC(=O)CC(O)CCCCCC=CCCCCCC)C(*)=O',\n",
       " 'C[N+](C)(C)CC(O)P(=O)(O)O',\n",
       " 'O=P(O)(O)CO',\n",
       " 'O=C(O)CC(CC(=O)O)C(=O)O',\n",
       " 'Cc1ncc(C=O)c(C(=O)O)c1O',\n",
       " 'CC(C)(COP(=O)(O)OP(=O)(O)OCC1OC(n2cnc3c(N)ncnc32)C(O)C1OP(=O)(O)O)C(O)C(=O)NCCC(=O)NCCSC(=O)CCC1C(=O)CCC2(C)C(=O)CCC12',\n",
       " 'CCCCCCCCCCCC=CCCCCC(=O)O',\n",
       " 'O=C1OC(C(O)COP(=O)(O)O)C(O)=C1O',\n",
       " 'CC1CCC2C3(C)OC4(C)CC(O)C12CC4C3NCCCCCN(C)C',\n",
       " 'CC12CCC(=O)C=C1CCC1C2CCC2(C)C1CCC2(O)C(=O)CO',\n",
       " 'CCC1(O)CC(OC2CC(N(C)C)C(O)C(C)O2)c2c(cc3c(c2O)C(=O)c2c(O)cccc2C3=O)C1O',\n",
       " 'O=C(O)C(O)(CO)C(=O)CO',\n",
       " 'NC(=CC=C(Cl)C=O)C(=O)O',\n",
       " '[Fe+3]',\n",
       " 'Nc1nc(Cl)nc(Nc2cccc(S(=O)(=O)O)c2)n1',\n",
       " 'S1[Fe]2S[Fe+]3S[Fe]1[SH]23',\n",
       " 'C=CC(C)=O',\n",
       " 'N=CC(=O)O',\n",
       " 'O=C1C=C2CCNC2=CC1=O',\n",
       " 'O=[N+]([O-])[O-]',\n",
       " '*C(O)C(CO)NC(=O)CCCCCCCCCCCCCCCCC',\n",
       " 'CC(C)=CCCC(C)=CCCC(C)=CCc1c(O)cc(C)c(C(=O)O)c1O',\n",
       " 'CCC=CCC=CCC=CCC=CC=CC(CCCC(=O)O)OO',\n",
       " 'CC(O)C1OC(O)C(O)C1O',\n",
       " 'CC(=O)NC(C=O)C(O)C(O)C(O)CO',\n",
       " 'Cc1cc(O)c2ccccc2c1O',\n",
       " 'Oc1ccc2c(c1)OCC1c3cc4c(cc3OC21)OCO4',\n",
       " '*C(=O)NC(COC1OC(CO)C(O)C(O)C1O)C(O)C=CCCCCCCCCCC(C)C',\n",
       " 'COc1ccc2c(c1)OC(OC1OC(CO)C(O)C(O)C1O)C(=O)N2O',\n",
       " '[Na+]',\n",
       " '*C(=O)CCCCCCCC=CCC#CCCCCC',\n",
       " 'CCCCCCCCC=CCCCCCCCC(=O)NC(COC1OC(CO)C(O)C(O)C1O)C(O)C=CCCCCCCCCCCCCC',\n",
       " 'CC(C)CCCC(C)CCCC(C)CCCC(C)CCOCC(O)COP(=O)(O)O',\n",
       " 'CC(C)=CCCC(C)C1CCC2(CO)C3=C(CCC12C)C1(C)CCC(O)C(C)(C)C1CC3',\n",
       " 'Nc1ccn(C2OC(COP(=O)(O)OC3(C(=O)O)CC(O)C(O)C(C(O)CO)O3)C(O)C2O)c(=O)n1',\n",
       " 'CCCCCOC(=O)CC',\n",
       " 'O=C(O)C=CC(=O)CC(=O)CC(=O)O',\n",
       " 'CC(=O)NC1C(O)OC(CO)C(OC2OC(CO)C(O)C(O)C2OC2OC(C)C(O)C(O)C2O)C1O',\n",
       " 'O=S(=O)(O)ON=C(S)Cc1ccccc1',\n",
       " 'Cc1cc(O)c2c(c1)Cc1cc(O)cc(O)c1C2=O',\n",
       " 'CC(=O)C(O)Nc1nc(=O)c2ncn(C3OC(COP(=O)(O)O)C(O)C3O)c2[nH]1',\n",
       " 'CC(C)(COP(=O)(O)OP(=O)(O)OCC1OC(n2cnc3c(N)ncnc32)C(O)C1OP(=O)(O)O)C(O)C(=O)NCCC(=O)NCCSC(=O)CCc1ccccc1',\n",
       " '*NC(=C)C(*)=O',\n",
       " 'CC(O)C=O',\n",
       " 'NC(=O)C1CNCCN1',\n",
       " 'CC1(C)c2[nH]c3ccccc3c2CC23CN4CCCC4(CC21)C(=O)N3',\n",
       " 'CCCCCCCCCCCCCCCC(O)CC(=O)O',\n",
       " 'CC(C)=CCCC(C)=CCCC(C)=CCCC(C)=CCCC(C)=CCCC(C)=CCCC(C)=CCCC(C)=CCCC(C)=CCCC(C)=CCOP(=O)(O)O',\n",
       " '*NC(COC1OCC(O)C(O)C1O)C(*)=O',\n",
       " '*OCC(O)COC(*)=O',\n",
       " 'CC(=O)NC1C(C)OC(OP(=O)(O)OP(=O)(O)OCC2OC(n3cnc4c(=O)[nH]c(N)nc43)C(O)C2O)C(O)C1O',\n",
       " '*NC(COP(=O)(O)OCC(C)(C)C(O)C(=O)NCCC(=O)NCCSC(=O)C(C)C(=O)C(C)=CCCCC(O)CC(O)CCCCCCCCCCCCCCCCc1ccc(O)cc1)C(*)=O',\n",
       " 'CC(=CCC12OC1(C)C(=O)c1ccccc1C2=O)CCCC(C)CCCC(C)CCCC(C)C',\n",
       " 'CCCCCCCCCCCCOCC(O)COP(=O)(O)OCC[N+](C)(C)C',\n",
       " 'CCCCCCCCCCCCCCCC(=O)OC(CO)CO',\n",
       " 'NC(=O)NC(=O)C(=O)O',\n",
       " 'CCCCCCCCCCCCCC=O',\n",
       " 'NC(=O)NC1=NC(=O)NC1(O)C(=O)O',\n",
       " 'CCCCCCCCC=CCCCCCCCC(=O)NCCO',\n",
       " '*c1c(*)c(*)c(C2Oc3c(*)c(*)c(*)c(*)c3C(=O)C2O)c(*)c1*',\n",
       " '*NC(COC1OCC(OC2OC(CO)C(O)C(OC3OC(CO)C(O)C(O)C3O)C2O)C(O)C1OP(=O)(O)O)C(*)=O',\n",
       " 'CC1OC(Oc2c(-c3cc(O)c(O)c(O)c3)oc3cc(O)cc(O)c3c2=O)C(O)C(O)C1O',\n",
       " 'CCC1C2=Cc3c(C)c4c5n3[Mg-2]36n7c(c(C)c(C(C)O)c7=CC(=[N+]23)C1C)=CC1=[N+]6C(=C5[C-](C(=O)OC)C4=O)C(CCC(=O)O)C1C',\n",
       " 'C=CC1(C)CO1',\n",
       " '*NC(C(*)=O)C(C)OC1OC(CO)C(O)C(O)C1OC1OC(CO)C(O)C(O)C1NC(C)=O',\n",
       " 'O=C1CC(c2ccccc2)Oc2ccccc21',\n",
       " 'NC(CCCCNC(=O)CCC(N)C(=O)O)C(=O)O',\n",
       " 'CCCCCCCCC=CCCCCCCCC(=O)OCC(COP(=O)(O)O)OC(=O)CCCCCCCCCCCCCCCCC',\n",
       " 'CCCCCCCCCCCCCC(=O)OCC(COC(=O)CCCCC)OC(=O)CCCCC',\n",
       " 'CNC(CC(C)C)C(=O)NC1C(=O)NC(CC(N)=O)C(=O)NC2C(=O)NC3C(=O)NC(C(=O)NC(C(=O)O)c4cc(O)cc(O)c4-c4cc3ccc4O)C(O)c3ccc(c(Cl)c3)Oc3cc2cc(c3O)Oc2ccc(cc2Cl)C1O',\n",
       " 'O=[As](O)(O)O',\n",
       " 'O=C(CO)C(O)C(O)C(=O)CO',\n",
       " '*NCC(=O)OC1CCC2(C)C(=CCC3C2CCC2(C)C(C(C)CCCC(C)C)CCC32)C1',\n",
       " 'CCC(C)C1C2(C)C(=O)C(=CO)C(O)(C3CC(C)(O)CC(C)C32)C1(C)O',\n",
       " 'CCCCCCCCC=CCCCCCCCCCC(=O)NC(CO)C(O)C(O)CCCCCCCCCCCCCC',\n",
       " 'CCCCCCCCCCCCCCCC(=O)OCC(O)COC(=O)CCCCCCCCCCCCCCC',\n",
       " '*NC(CCC(O)CN=S(C)CCC(N*)C(*)=O)C(*)=O',\n",
       " 'CCCCCC(C=CC=CC=CC=CC(O)C(O)CCCC(=O)O)OO',\n",
       " 'CC(=CC=C(O)C(=O)O)C(=O)CCC1C(=O)CCC2(C)C(=O)CCC12',\n",
       " 'CCCCCC1OC1C=CC(O)CC=CCC=CCCCC(=O)O',\n",
       " 'COc1cc2c(cc1OC)C1Cc3cc(OC)c(OC)cc3C(C2)N1',\n",
       " 'CC1(C)C2CC3C(C2)C31C',\n",
       " 'CCCCCCCCCCCCCCC=CC(=O)SCCNC(=O)CCNC(=O)C(O)C(C)(C)COP(=O)(O)OP(=O)(O)OCC1OC(n2cnc3c(N)ncnc32)C(O)C1OP(=O)(O)O',\n",
       " 'O=P(O)(O)OCC1OC(OP(=O)(O)OP(=O)(O)O)C(O)C1O',\n",
       " 'CC(C)(COP(=O)(O)OP(=O)(O)OCC1OC(n2cnc3c(N)ncnc32)C(O)C1OP(=O)(O)O)C(O)C(=O)NCCC(=O)NCCSC(=O)CCCCCCCC=CCCCCCCCCO',\n",
       " 'CC1OC(OC2C(OC3C(CO)OC(O)C(O)C3OC3OC(C)C(O)C(O)C3O)OC(CO)C(O)C2O)C(O)C(O)C1O',\n",
       " 'COc1cc(-c2cc(=O)c3c(O)cc(O)cc3o2)cc(OC)c1OC',\n",
       " 'CCCCCCCCCCCCCC=CC(O)C(COC1OC(CO)C(O)C(O)C1O)NC(=O)CCCCCCCCCCC',\n",
       " 'CCCCCC=CCC=CCC=CCC=CCCCC(=O)OC(COC(=O)CCCCCCCCCCCCCCCCC)COP(=O)(O)OC1C(O)C(O)C(OP(=O)(O)O)C(OP(=O)(O)O)C1O',\n",
       " 'CCCCCCCCCC(=O)OCC(O)COP(=O)(O)O',\n",
       " 'NC(=S)c1ncn(C2OC(COP(=O)(O)O)C(O)C2O)c1N',\n",
       " '*C(=O)C(N)CC(N)=O',\n",
       " 'CC(C)C1CCC2(C)CC3C(C)CCC45C(C)CCC4C5(CO)C3(O)CC12',\n",
       " 'CC(C)CC(=O)c1c(O)cc(O)cc1O',\n",
       " 'O=CC(O)C(O)C(O)C(O)CO',\n",
       " 'NC(Cc1c[nH]c2cc(Cl)ccc12)C(=O)O',\n",
       " 'O=c1cc(O)cc(C=CC=CCCCCCCC=CC=CC=CCO)o1',\n",
       " '*NC(COP(=O)(O)OCC(C)(C)C(O)C(=O)NCCC(=O)NCCSC(=O)CCCCCCCCCCCCCCCCCCC)C(*)=O',\n",
       " 'CCCCCC=CCC=CCCCCCCCC(=O)OC(COC(=O)CCCCCCCCCCCCCCC)COP(=O)(O)O',\n",
       " '*N(*)*',\n",
       " 'CSCCCC(O)(CC(=O)O)C(=O)O',\n",
       " '*OC1C(COP(*)(=O)O)OC(n2cc(C(=N)NCCCCC(N)C(=O)O)c3c(=O)[nH]c(N)nc32)C1O',\n",
       " 'Nc1cc(C(=O)O)ccc1O',\n",
       " 'COc1cc2c(cc1O)C(Cc1ccc(Oc3cc(CC4c5cc(O)c(OC)cc5CCN4C)ccc3O)cc1)N(C)CC2',\n",
       " 'N=C(N)NCCC(O)C(C(=O)O)N1CCC1=O',\n",
       " 'CCC1(O)CC(=O)c2c(cc3c(c2O)C(=O)c2c(O)cccc2C3=O)C1C(=O)OC',\n",
       " 'Cc1ccc(C)cc1',\n",
       " 'N#CC(SCC(N)C(=O)NCC(=O)O)c1c[nH]c2ccccc12',\n",
       " '*C(O)CC(=O)O',\n",
       " '*C(=O)O',\n",
       " 'CC(=O)NC1C(OC(CC(=O)O)C(=O)O)OC(CO)C(O)C1O',\n",
       " '*OC1OC(CO)C(O)C(OC2(C(=O)O)CC(O)C(NC(C)=O)C(C(O)C(CO)OC3(C(=O)O)CC(O)C(NC(C)=O)C(C(O)C(O)CO)O3)O2)C1O',\n",
       " '*OC1C(COP(*)(=O)O)OC(n2cnc3c(=O)n4c(CCC(N)C(=O)O)c(C)nc4n(C)c32)C1O',\n",
       " 'O=C(O)C=C(Cl)C=C(Cl)C(=O)O',\n",
       " 'CCc1ccc(O)c(O)c1',\n",
       " 'CC(CCC(=O)NCCS(=O)(=O)O)C1CCC2C3C(O)CC4CC(O)CCC4(C)C3CCC12C',\n",
       " 'CCC(=CCCC(C)=CC(=O)OC)CCC1OC1(C)CC',\n",
       " 'O=C(O)C(CO)OC1OC(COC2OC(CO)C(O)C(O)C2O)C(O)C(O)C1O',\n",
       " 'CCCCCC(=O)OCC',\n",
       " 'CC1=C2CC3(C)CCC(C(C)C)C3CC2C23CCC(C)C2CCC13C',\n",
       " '*C1CCC2C3C(=O)CC4CCCCC4(C)C3CCC12C',\n",
       " 'CCCCCCCCC=CCCCCCCCC(=O)OCC(O)COP(=O)(O)OCCNC(=O)CCCCCCCCCCCCCCCCC',\n",
       " 'C[n+]1cn(C2OC(COP(=O)(O)O)C(O)C2O)c2[nH]c(N)nc(=O)c21',\n",
       " '*c1cc(*)c(-c2oc3c(*)c(*)c(*)c(*)c3c(=O)c2*)c(*)c1*',\n",
       " 'O=C(O)C=C(CC(=O)O)C(=O)O',\n",
       " '*NC(COP(=O)(O)OCC(C)(C)C(O)C(=O)NCCC(=O)NCCSC(=O)CC(C)O)C(*)=O',\n",
       " 'O=S(=O)(O)SSS(=O)(=O)O',\n",
       " 'CC12CCC3c4cc(O)c(O)cc4CCC3C1CCC2=O',\n",
       " '*OC1C(COP(*)(=O)O)OC(n2cc(CN)c(=O)[nH]c2=S)C1O',\n",
       " 'CC(CCC(=O)O)C1CCC2C3C(O)C(OC4OC(C(=O)O)C(O)C(O)C4O)C4CC(O)CCC4(C)C3CCC12C',\n",
       " 'CC(C)CCCC(C)C(=O)O',\n",
       " 'CCCCCCCCC=CCCCCCCCC(N)=O',\n",
       " 'NC(CCCCNCC(=O)C(O)C(O)CO)C(=O)O',\n",
       " 'CC(C)CC(O)C(O)C(C)C1CCC2C3CC(=O)C4CC(O)C(O)CC4(C)C3CCC12C',\n",
       " 'CC(C)(COP(=O)(O)OP(=O)(O)OCC1OC(n2cnc3c(N)ncnc32)C(O)C1OP(=O)(O)O)C(O)C(=O)NCCC(=O)NCCSC(=O)C=CCCCCC(=O)O',\n",
       " 'O=C(O)CCCCC(S)CCS',\n",
       " 'O=C1CCc2ccccc21',\n",
       " 'CC(C)=CCCC(C)=CCCC(C)=CC1C(CO)C1(C)CCC=C(C)CCC=C(C)C',\n",
       " 'O=C1NC(Cc2ccc(O)cc2)C(=O)NC1Cc1ccc(O)cc1',\n",
       " 'CC(C)=CCCC1(C)CCC2(C)C3CCC4C(C)(C)C5CCC4(O5)C3(C)CCC2(C)C1',\n",
       " 'COC(C=COC1(C)Oc2c(C)c(O)c3c(c2C1=O)C(=O)C(C=NN1CCN(C)CC1)=C(O)C3=O)C(C)C(OC(C)=O)C(C)C(O)C(C)C(O)C(C)C=CC=C(C)C(N)=O',\n",
       " 'CC12CCC3C(CC=C4CC(O)CCC43C)C1CC(O)C2=O',\n",
       " 'CC(C)=CCCC(C)=CCCC(C)=CC=CC(C)=CC=CC=C(C)C=CC=C(C)C=CC=C(C)CCCC(C)(C)O',\n",
       " 'CC(CO)=C1CC(C)(C)CC2C(C)CCC12',\n",
       " 'CC(=CCO)CCC1(O)C(C)CCC2C(C)(C)CCCC21C',\n",
       " 'CC(C)=CCCC(C)=CCCC(C)=CCCC1(C)CCc2cc(O)cc(C)c2O1',\n",
       " 'CCC1OC(=O)C(C)C(O)C(C)C(O)C(C)(O)CC(C)C(=O)C(C)C(O)C1C',\n",
       " 'COc1ccc(-c2coc3cc(O)ccc3c2=O)cc1',\n",
       " '*OC(=O)CCCCCCCCCCC',\n",
       " 'CCC=CCC=CCC=CCC=CCC=CCC=CCCC(=O)OC(COC(=O)CCCCCCCC=CCCCCCCCC)COP(=O)(O)O',\n",
       " 'Nc1ncnc2c1ncn2C1OC(COP(=O)(O)OP(=O)(O)OCC2OC(Nc3nc(=O)c4ncn(C5CC(O)C(COP(=O)(O)OP(=O)(O)OP(=O)(O)O)O5)c4[nH]3)C(O)C2O)C(O)C1O',\n",
       " 'CCC1CCC2C3CCC4CCCCC4(C)C3CCC12C',\n",
       " 'O=P(O)(O)OP(=O)(O)OP(=O)(O)OCC1OC(O)CC1O',\n",
       " 'CCC(O)CCCCCCCCC(=O)O',\n",
       " 'CCC=CCC1=C(C)C(O)CC1=O',\n",
       " 'O=P(O)(O)OCC(O)C(O)C(O)C(O)CO',\n",
       " 'CCc1ccc(O)cc1',\n",
       " '*C(=O)NC(COC1OC(CO)C(OC2OC(CO)C(O)C(OC3OC(CO)C(OC4OC(CO)C(O)C(OC5(C(=O)O)CC(O)C(NC(C)=O)C(C(O)C(O)CO)O5)C4O)C(OC4OC(C)C(O)C(O)C4O)C3NC(C)=O)C2O)C(O)C1O)C(*)O',\n",
       " 'Cc1cc2nc3c(=O)[nH]c(=O)nc-3n(CC(O)C(O)C(O)COP(=O)(O)OP(=O)(O)OCC3OC(n4cnc5c(N)ncnc54)C(O)C3O)c2cc1C',\n",
       " 'CC(C)CCCC(C)C1CCC2C3=C(CCC21C)C1(C)CCC(=O)CC1CC3',\n",
       " 'C=C1C(=CC=C2CCCC3(C)C2CCC3C(C)CC=O)CC(O)CC1O',\n",
       " 'O=C(O)C(O)Cc1ccc(O)cc1',\n",
       " 'COc1cc2c(cc1O)C1CCC3(C)C(=O)CCC3C1CC2',\n",
       " '*OC1C(COP(*)(=O)O)OC(c2cn(C)c(=O)n(CCC(N)C(=O)O)c2=O)C1O',\n",
       " 'CC(=O)NC=C(CC(=O)O)C(=O)O',\n",
       " 'CC(C)(O)C=O',\n",
       " 'CC(=O)NC(CC(=O)O)C(=O)O',\n",
       " '[C-]#[N+]C(=Cc1ccc(O)cc1)C(=O)O',\n",
       " 'CCCCCC=CCC=CCC=CCC=CCCCC(=O)OC(COC(=O)CCCCCCCC=CCCCCCCCC)COP(=O)(O)OCC[N+](C)(C)C',\n",
       " 'CC(=CC(=O)OCCCCCCCC(=O)SCCNC(=O)CCNC(=O)C(O)C(C)(C)COP(=O)(O)OP(=O)(O)OCC1OC(n2cnc3c(N)ncnc32)C(O)C1OP(=O)(O)O)CC1OCC(CC=CC(C)C(C)O)C(O)C1O',\n",
       " 'C=CC1(C)CCC2C(=CCC3C(C)(C)C(O)CCC23C)C1',\n",
       " 'CC(C)(COP(=O)(O)OP(=O)(O)OCC1OC(n2cnc3c(N)ncnc32)C(O)C1OP(=O)(O)O)C(O)C(=O)NCCC(=O)NCCSC(=O)CCC(=O)O',\n",
       " 'CC(N)=O',\n",
       " 'CN(CC(=O)O)C(N)=O',\n",
       " 'COc1cc(C=CCO)ccc1O',\n",
       " 'CCCCCOC(C)=O',\n",
       " 'COc1cccc2c1C(=O)c1c(O)c3c(c(O)c1C2=O)CC(O)(C(=O)CO)CC3OC1CC(N)C(O)C(C)O1',\n",
       " 'CCCCCCC=CC(=O)O',\n",
       " 'CC(=O)NC1C(O)OC(COS(=O)(=O)O)C(O)C1OC1OC(C(=O)O)=CC(O)C1O',\n",
       " 'CC1(C)C=C2C3CCC4C5(C)CCC(O)C(C)(C)C5CCC4(C)C3(C)CCC2(C)CC1',\n",
       " '*NC(COC1OC(COC2OC(CO)C(O)C(O)C2NC(C)=O)C(O)C(O)C1OC1OC(CO)C(O)C(O)C1NC(C)=O)C(*)=O',\n",
       " 'CC(C)(COP(=O)(O)OP(=O)(O)OCC1OC(n2cnc3c(N)ncnc32)C(O)C1OP(=O)(O)O)C(O)C(=O)NCCC(=O)NCCSC(=O)CC(=O)CCCCC(=O)O',\n",
       " 'CCCCCC=CCC=CC=CC=CC(SCC(N)C(=O)NCC(=O)O)C(O)CCCC(=O)O',\n",
       " 'CCCCCc1cc(O)cc(O)c1C(=O)O',\n",
       " 'C=CC(C)(O)CCC1(O)C(C)CCC2C(C)(C)CCCC21C',\n",
       " 'CC(=O)C1CCC2C3CC(O)C4=CC(=O)CCC4(C)C3CCC12C',\n",
       " 'Nc1ncnc2c1ncn2C1OC2COP(=O)(O)OC3C(COP(=O)(O)OC4C(COP(=O)(O)OC2C1O)OC(n1cnc2c(N)ncnc21)C4O)OC(n1cnc2c(N)ncnc21)C3O',\n",
       " '*OC1OC(COC2(C(=O)O)CC(O)C(NC(C)=O)C(C(O)C(O)CO)O2)C(O)C(OC2OC(CO)C(O)C(O)C2O)C1NC(C)=O',\n",
       " '*C1CCC2C3CCC4CC(=O)C=CC4(C)C3CCC12C',\n",
       " 'CCCCCC=CCC=CCCCCCCCC(=O)OC(COC(=O)CCCCCCCCCCCCCCC)COP(=O)(O)OCC[N+](C)(C)C',\n",
       " 'CC(C)CC(NC(=O)C(N)Cc1ccccc1)C(=O)O',\n",
       " 'CCCCCCCOS(=O)(=O)O',\n",
       " 'O=C(O)CC(=CC(=O)C(=O)O)C(=O)O',\n",
       " 'CCCCCC(=O)c1c(O)cc(O)cc1O',\n",
       " 'O=C(O)C(=O)C(O)COP(=O)(O)O',\n",
       " 'CCCCCCCC(O)CC(=O)SCCNC(=O)CCNC(=O)C(O)C(C)(C)COP(=O)(O)OP(=O)(O)OCC1OC(n2cnc3c(N)ncnc32)C(O)C1OP(=O)(O)O',\n",
       " 'CCCCCC=CCC=CCC=CCC=CCCCCCCCCCCCCCCCC(=O)SCCNC(=O)CCNC(=O)C(O)C(C)(C)COP(=O)(O)OP(=O)(O)OCC1OC(n2cnc3c(N)ncnc32)C(O)C1OP(=O)(O)O',\n",
       " 'CCCCCC=CCC=CCC=CCC=CCCCCCCCCCCCCCCCCCC(=O)CC(=O)SCCNC(=O)CCNC(=O)C(O)C(C)(C)COP(=O)(O)OP(=O)(O)OCC1OC(n2cnc3c(N)ncnc32)C(O)C1OP(=O)(O)O',\n",
       " 'CC(C)(COP(=O)(O)OP(=O)(O)OCC1OC(n2cnc3c(N)ncnc32)C(O)C1OP(=O)(O)O)C(O)C(=O)NCCC(=O)NCCSC(=O)Cc1cc(O)cc(O)c1',\n",
       " 'CCCCCCCCCCCCCC(=O)OC(CCCCCCCCCCC)CC(=O)OC1C(NC(=O)CC(CCCCCCCCCCC)OC(=O)CCCCCCCCCCC)C(OCC2OC(OP(=O)(O)O)C(NC(=O)CC(O)CCCCCCCCCCC)C(OC(=O)CC(O)CCCCCCCCCCC)C2O)OC(COC2(C(=O)O)CC(OC3(C(=O)O)CC(O)C(O)C(C(O)CO)O3)C(OC3OC(C(O)CO)C(O)C(OC4OC(C(O)CO)C(O)C(O)C4O)C3O)C(C(O)CO)O2)C1OP(=O)(O)O',\n",
       " 'CCCCCCCCC=CCCCCCCCC(=O)NC(O)C(=O)O',\n",
       " 'CCCCCC=CC(O)C=CCC=CCC=CCCCC(=O)O',\n",
       " 'CCCCCCCCCCCC(O)CC(=O)OC1C(N)C(OP(=O)(O)OP(=O)(O)OCC2OC(n3ccc(=O)[nH]c3=O)C(O)C2O)OC(CO)C1O',\n",
       " 'NCCOP(=O)(O)OCC(O)CO',\n",
       " 'CCCCCC(O)C(O)CC=CCC=CCC=CCCCC(=O)O',\n",
       " 'CCCCCCCC=CC(CCCCCCCC(=O)OC(COC(=O)CCCCCCCCCCCCCCC)COP(=O)(O)OCC[N+](C)(C)C)OO',\n",
       " 'COc1cc(O)c2c(=O)c(O)c(-c3cc(OC)c(OC)c(OC)c3)oc2c1',\n",
       " 'CCCCCCCCC=CCCCCCCCC(=O)OC(COC(=O)CCCCCCCCCCCCCCC)COP(=O)(O)OCC(N)C(=O)O',\n",
       " 'CC(C)CC(O)C(O)C(C)C1CCC2C3CC(O)C4CC(=O)CCC4(C)C3CCC12C',\n",
       " '*C1=C(*)C(=O)C(*)=C(*)C1=O',\n",
       " 'COc1ccc2c3c1OC1C(O)CC=C4C(C2)N(C)CCC431',\n",
       " '*C(=O)C(CCC(=O)O)NC(=O)C(N)CCSC',\n",
       " 'CCCCCCCCCCCCCCCCCCCCCC(=O)NCC(=O)O',\n",
       " 'CCCCCCCCCCCCCC(=O)OC(CCCCCCCCCCC)CC(=O)OC1C(NC(=O)CC(CCCCCCCCCCC)OC(=O)CCCCCCCCCCC)C(OCC2OC(OP(=O)(O)O)C(NC(=O)CC(O)CCCCCCCCCCC)C(OC(=O)CC(O)CCCCCCCCCCC)C2O)OC(COC2(C(=O)O)CC(OC3(C(=O)O)CC(O)C(O)C(C(O)CO)O3)C(OC3OC(C(O)CO)C(OP(=O)(O)O)C(OC4OC(C(O)COC5OC(C(O)CO)C(O)C(O)C5O)C(OP(=O)(O)O)C(OC5OC(COC6OC(CO)C(O)C(O)C6O)C(O)C(OC6OC(CO)C(O)C(O)C6OC6OC(CO)C(O)C(O)C6O)C5O)C4O)C3O)C(C(O)CO)O2)C1OP(=O)(O)O',\n",
       " '*OC1OC(CO)C(O)C(OC2OC(CO)C(O)C(O)C2O)C1NC(C)=O',\n",
       " 'CCCCCC(=O)SCCNC(=O)CCNC(=O)C(O)C(C)(C)COP(=O)(O)OP(=O)(O)OCC1OC(n2cnc3c(N)ncnc32)C(O)C1OP(=O)(O)O',\n",
       " 'CC(C)=CCCC(C)=CCCC(C)=CCCC(C)=CCCC(C)=CCCC(C)=CCCC(C)=CCCC(C)=CCCC(C)=CCCC(C)=CCCC(C)=CCOP(=O)(O)OP(=O)(O)OC1OC(CO)C(OC2OC(CO)C(O)C(OC3OC(CO)C(O)C(O)C3O)C2O)C(O)C1O',\n",
       " 'Oc1cc(O)c2c(c1)OC(c1ccc(O)c(O)c1)C(O)C2O',\n",
       " 'CC(=O)NC1C(OC2C(CO)OC(OP(=O)(O)OP(=O)(O)OCC=C(C)CCC=C(C)CCC=C(C)CCC=C(C)CCC=C(C)CCC=C(C)CCC=C(C)CCC=C(C)CCC=C(C)CCC=C(C)CCC=C(C)C)C(NC(C)=O)C2OC(C)C(=O)NC(C)C(=O)NC(CCC(=O)NC(CCCCN)C(=O)NC(C)C(=O)NC(C)C(=O)O)C(N)=O)OC(CO)C(O)C1O',\n",
       " 'O=C1NC(Cc2c[nH]c3ccccc23)C(=O)N2CCCC12',\n",
       " 'CCCCCCC=CCCCCCCCCC(=O)OCC(COP(=O)(O)OCCN)OC(=O)CCCCCCCC=CCCCCCCCC',\n",
       " 'CC(C)CCCC(C)C1CCC2C3CCC4CCCCC4(C)C3CCC12C',\n",
       " 'CCC=CCC=CCC=CCC1OC1CC=CCCCCCC(=O)O',\n",
       " 'O=C(O)CNCC(=O)O',\n",
       " 'CCCCCC=CCC=CCC=CCC=CCCCC(N)=O',\n",
       " 'NCCC1=CC(=O)C(=O)C=C1',\n",
       " '*NC(CC(=O)NC1OC(CO)C(OC2OC(CO)C(OC3OC(CO)C(O)C(OC4OC(CO)C(O)C(O)C4OC4OC(CO)C(O)C(O)C4NC(C)=O)C3O)C(O)C2NC(C)=O)C(O)C1NC(C)=O)C(*)=O',\n",
       " 'CC1CCC2C(C(=O)O)=COC(OC3OC(CO)C(O)C(O)C3O)C12',\n",
       " 'Nc1ncnc2c1ncn2C1OC(COP(=O)(O)O)C(O)C1OP(=O)(O)O',\n",
       " 'CC(CCCCCCC(=O)O)OC1OC(C)C(OC(=O)c2c[nH]c3ccccc23)CC1O',\n",
       " 'CN1Cc2c(ccc3c2OCO3)-c2ccc3cc4c(cc3c21)OCO4',\n",
       " 'CO',\n",
       " '*CC(C)CCCC(C)CCCC(C)CCCC(C)CCCC(C)CCCSCCNC(=O)CCNC(=O)C(O)C(C)(C)COP(=O)(O)OP(=O)(O)OCC1OC(n2cnc3c(N)ncnc32)C(O)C1OP(=O)(O)O',\n",
       " 'C=CC1CN2CCC1CC2C(O)c1ccnc2ccc(OC)cc12',\n",
       " '*NC(CC(=O)N*OC1OC(CO)C(O)C(O)C1OC1OC(CO)C(O)C(O)C1O)C(*)=O',\n",
       " 'CC(C)=CC=CC(C)=CC=CC(C)=CC=CC(C)=CC=CC=C(C)C=CC=C(C)C=CC=C(C)CCC=C(C)C',\n",
       " 'CCCCCCCCCCCCCCCCC(=O)OCC(O)COP(=O)(O)O',\n",
       " 'C[N+](C)(C)CCOP(=O)(O)OCC(CO)OC(=O)CCCCCCCC=O',\n",
       " 'CC1CCC(C(C)C)C(O)C1',\n",
       " 'CNC1C(OC2C(OC3C(O)C(OP(=O)(O)OCC4OC(n5cnc6c(N)ncnc65)C(O)C4O)C(NC(=N)N)C(O)C3NC(=N)N)OC(C)C2(O)C=O)OC(CO)C(O)C1O',\n",
       " '*NC(CSC1OC(COP(=O)(O)OP(=O)(O)OCC2OC(n3cnc4c(N)ncnc43)C(O)C2O)C(O)C1O)C(*)=O',\n",
       " 'CC(=O)OO',\n",
       " '*NC(CC(=O)NC1OC(CO)C(OC2OC(CO)C(OC3OC(COC4OC(COC5OC(CO)C(O)C(O)C5NC(C)=O)C(O)C(O)C4OC4OC(CO)C(O)C(O)C4NC(C)=O)C(O)C(OC4OC(CO)C(OC5OC(CO)C(O)C(O)C5NC(C)=O)C(O)C4OC4OC(CO)C(O)C(O)C4NC(C)=O)C3O)C(O)C2NC(C)=O)C(O)C1NC(C)=O)C(*)=O',\n",
       " 'O=C(O)C1=CC=CC2=Nc3c(cccc3C(=O)O)NC12',\n",
       " 'CCCCCCCCC=CCCCCCCCC(=O)OC(COCCCCCCCCCCCCCCCC)COP(=O)(O)OCC[N+](C)(C)C',\n",
       " '*C(=O)OCC(O)COP(=O)(O)OCC(O)COP(=O)(O)OCC(COC(*)=O)OC(=O)CCCCCCCC=CCCCCCCCC',\n",
       " 'CCCCCC=CCC=CC=CC=CC1OC1CCCC(=O)O',\n",
       " 'CC(C)=CCc1c(O)cc(O)c2c1OC(c1ccc(O)cc1)CC2=O',\n",
       " 'CC1=NC(C(=O)O)CCN1',\n",
       " 'CC(C)CCCC(C)CCC(=O)SCCNC(=O)CCNC(=O)C(O)C(C)(C)COP(=O)(O)OP(=O)(O)OCC1OC(n2cnc3c(N)ncnc32)C(O)C1OP(=O)(O)O',\n",
       " 'CCCCCC=CCC=CCCCCCCCC(=O)OC(COC(=O)CCCCCCCCCCCCCCC)COP(=O)(O)OCCN',\n",
       " 'CCCCCCCCC=CCCCCCCCC(=O)OC(CO)COP(=O)(O)OCC(CO)OC(=O)CCCCCCCC=CCCCCCCCC',\n",
       " 'C=C1CCC2(C(C)CCC=C(C)C)CC12',\n",
       " 'CC=CC(O)C#N',\n",
       " 'O=C1N=C(O)C(=C2C=C(O)C(=O)N=C2O)C=C1O',\n",
       " 'CCCCC=CC(=O)SCCNC(=O)CCNC(=O)C(O)C(C)(C)COP(=O)(O)OP(=O)(O)OCC1OC(n2cnc3c(N)ncnc32)C(O)C1OP(=O)(O)O',\n",
       " 'C=C1CCC23CC1CC2CCC1C(C)(C)CCCC13C',\n",
       " 'CC(C)CC(O)C(O)C(C)C1CCC2C3CCC4CC(O)CCC4(C)C3CCC12C',\n",
       " 'CSCC(NC(=O)CCC(N)C(=O)O)C(=O)NCC(=O)O',\n",
       " 'CC(C)CCCC(C)C1CCC2C3CC(O)C4(O)CC(O)CCC4(C)C3CCC12C',\n",
       " 'O=[N+]([O-])c1ccc(O)cc1',\n",
       " 'CC(C)CC(O)C(O)C(C)C1CCC2C3CC(O)C4CC(O)CCC4(C)C3CCC12C',\n",
       " '*C(=O)NC(COC1OC(CO)C(OC2OC(CO)C(OC3OC(CO)C(O)C(OC4OC(CO)C(O)C(OC5OC(CO)C(O)C(O)C5O)C4NC(C)=O)C3O)C(O)C2O)C(O)C1O)C(*)O',\n",
       " 'CCCCCC=O',\n",
       " 'CC(C)CC(NC(=O)C(C)N)C(=O)NC(C)C(=O)O',\n",
       " 'CC(C)(COP(=O)(O)OP(=O)(O)OCC1OC(n2cnc3c(N)ncnc32)C(O)C1OP(=O)(O)O)C(O)C(=O)NCCC(=O)NCCSC(=O)C=Cc1ccccc1',\n",
       " 'CCCCCCCCC=CCCCCCCCC(=O)NC(COP(=O)(O)O)C(O)C=CCCCCCCCCCCCCC',\n",
       " 'CCCCCC(=O)CC(=O)CC(=O)CC(=O)SCCNC(=O)CCNC(=O)C(O)C(C)(C)COP(=O)(O)OP(=O)(O)OCC1OC(n2cnc3c(N)ncnc32)C(O)C1OP(=O)(O)O',\n",
       " 'CC12CCC(O)CC1=CCC1C2CCC2(C)C(O)CCC12',\n",
       " 'CCCCCCC=CCCCCCCCC(=O)OC(COC(=O)CCCCCCCCCCCCCCC)COP(=O)(O)O',\n",
       " '*CC1=C(C)C2=[N+]3C1=Cc1c(*)c4c5n1[Mg-2]31n3c(c(C(C)O)c(C)c3=C(C)C3=[N+]1C(=C5CC4=O)C(CCC(=O)O)C3C)=C2',\n",
       " 'CCC(=O)c1ccccc1',\n",
       " 'CC(OP(=O)(O)O)C(N)C(=O)O',\n",
       " 'O=CCS(=O)O',\n",
       " 'COc1c(O)ccc2c(=O)cc(-c3ccccc3)oc12',\n",
       " '*NC(COP(=O)(O)OCC(C)(C)C(O)C(=O)NCCC(=O)NCCSC(=O)CC(*)=O)C(*)=O',\n",
       " 'Nc1c2ncn3c2nc[n+]1C1OC(COP(=O)(O)OP(=O)(O)OCC2OC3C(OP(=O)(O)O)C2O)C(O)C1O',\n",
       " 'CC1C2C(CC3C4CC=C5CC(O)CCC5(C)C4CCC32C)OC12CCC(C)(CO)O2',\n",
       " '*OC1CC(*)OC1COP(=O)(O)OC1CC(O)OC1COP(=O)(O)OC1CC(*)OC1COP(*)(=O)O',\n",
       " '*C1CCC2C3CCC4CC(=O)CCC4(C)C3CCC12C',\n",
       " 'CC(C=CC=C(C)C=CC1=C(C)CCCC1(C)C)=CC=CC=C(C)C=CC=C(C)C=CC12OC1(C)CC(O)CC2(C)C',\n",
       " 'CCC(N)C(=O)NCC(=O)O',\n",
       " 'CC(C)(O)C1Cc2c(ccc3ccc(=O)oc23)O1',\n",
       " 'CCCCCCCCCCCCCCCC(=O)OCC(COP(=O)(O)OC1C(O)C(OP(=O)(O)O)C(O)C(OP(=O)(O)O)C1O)OC(=O)CCCCCCCCCCCCCCC',\n",
       " 'O=C1CCN2CCCCC12',\n",
       " 'Oc1cc(O)cc(-c2ccccc2)c1',\n",
       " 'CC1CCC2(C(C)C)OC3(C)CCC1C2C3',\n",
       " 'O=CCc1c[nH]c2ccccc12',\n",
       " 'CC(=O)Nc1ccn(C2CC(O)C(CO)O2)c(=O)n1',\n",
       " 'CC(CC(=O)NCCS(=O)(=O)O)C1CCC2C3C(O)CC4CC(O)CCC4(C)C3CC(O)C12C',\n",
       " 'CCCO',\n",
       " 'CC(C)(COP(=O)(O)OP(=O)(O)OCC1OC(n2cnc3c(N)ncnc32)C(O)C1OP(=O)(O)O)C(O)C(=O)NCCC(=O)NCCSC(=O)C(CC(=O)O)C(=O)c1ccccc1',\n",
       " 'CSCCC(NC(C)=O)C(=O)O',\n",
       " 'O=P(O)(O)OC1C=C(CO)C(O)C(O)C1O',\n",
       " 'COC(=O)C1(Cc2ccc(O)cc2)OC(=O)C(O)=C1c1ccc(O)cc1',\n",
       " '*C(=O)NC(COC1OC(CO)C(OC2OC(CO)C(OC3OC(CO)C(O)C(O)C3NC(C)=O)C(OC3(C(=O)O)CC(O)C(NC(C)=O)C(C(O)C(CO)OC4(C(=O)O)CC(O)C(NC(C)=O)C(C(O)C(O)CO)O4)O3)C2O)C(O)C1O)C(*)O',\n",
       " 'CC=CCCCCC(=O)SCCNC(=O)CCNC(=O)C(O)C(C)(C)COP(=O)(O)O',\n",
       " '*NC(CCS(C)=O)C(*)=O',\n",
       " 'Cn1c(=O)c2c(n(C)c1=O)n(C)c(=O)n2C',\n",
       " 'CC(C)=CCCC(C)C1=CCC(C)=CC1',\n",
       " '*NC(CSC#N)C(=O)O',\n",
       " 'CC(C)=CCc1cc(C(=O)Nc2c(O)c3ccc(OC4OC(C)(C)C(O)C(O)C4O)c(C)c3oc2=O)ccc1O',\n",
       " '*c1cc(-c2oc3c(*)c(O)c(*)c(*)c3c(=O)c2O)c(*)c(*)c1*',\n",
       " 'CCCCCCCCC=CCCCCCCCC(=O)OC(COC(=O)CCCCCCCCCCCCCCC)COC(=O)CCCCCCCCCCCCCCCCC',\n",
       " 'CC(=O)c1cc(C)c(O)c(CO)c1O',\n",
       " '*C1CCC2C3CCC4CC(O)CCC4(C)C3CCC12C',\n",
       " 'CC1CCC(=O)C(C(=O)SCCNC(=O)CCNC(=O)C(O)C(C)(C)COP(=O)(O)OP(=O)(O)OCC2OC(n3cnc4c(N)ncnc43)C(O)C2OP(=O)(O)O)=C1CCC(=O)O',\n",
       " '*C(=O)C(N)CC(C)C',\n",
       " 'CCCCCCCCCCCCCCCCOC(=O)CCCCCCCCCCC',\n",
       " '*OCC1OC(OC2C(CO)OC(O)C(NC(C)=O)C2O)C(O)C(O*)C1O',\n",
       " 'COc1cc2oc(-c3ccc(O)cc3)cc(=O)c2c(O)c1O',\n",
       " 'CC(C)(COP(=O)(O)OP(=O)(O)OCC1OC(n2cnc3c(N)ncnc32)C(O)C1OP(=O)(O)O)C(O)C(=O)NCCC(=O)NCCSC(=O)c1ccccc1O',\n",
       " 'CCCCCCCCCCCCCCCCCCCCCCCCCC(=O)CC(=O)SCCNC(=O)CCNC(=O)C(O)C(C)(C)COP(=O)(O)OP(=O)(O)OCC1OC(n2cnc3c(N)ncnc32)C(O)C1OP(=O)(O)O',\n",
       " '*OC1CC(n2cc(CC(O)C(O)CO)c(N)nc2=O)OC1COP(*)(=O)O',\n",
       " 'CCCCC(=O)O',\n",
       " 'CCCCC=CCCCCCCCC(=O)SCCNC(=O)CCNC(=O)C(O)C(C)(C)COP(=O)(O)O',\n",
       " 'CC1CCC2C(C)C3C(CC4C5CC=C6CC(O)CCC6(C)C5CCC43C)N2C1',\n",
       " 'Nc1ncnc2c1ncn2C1OC(COP(=O)(O)OP(=O)(O)OC2OC(CO)C(O)C2O)C(O)C1OP(=O)(O)O',\n",
       " 'C=C(C)C1CCC(C)=C2CCC(C)C2C1',\n",
       " 'CCCCCC=CCC=CCC=CCC=CCCCC(=O)OCC(CO)OC(=O)CCCCCCCC=CCCCCCCCC',\n",
       " '*NC(COP(=O)(O)OCC(C)(C)C(O)C(=O)NCCC(=O)NCCSC(=O)CCN)C(*)=O',\n",
       " 'CC(C)=CCNc1ncnc2c1ncn2C1OC(COP(=O)(O)OP(=O)(O)O)C(O)C1O',\n",
       " 'CC(O)CCCCCCCCCC(=O)O',\n",
       " 'Nc1nc(=O)c2ncn(C3OC(COP(=O)(O)OP(=O)(O)OC4C=C(CO)C(O)C(O)C4O)C(O)C3O)c2[nH]1',\n",
       " 'CC(C)=CCCC(C)=CCCC(C)=CCCC(C)=CCCC(C)=CCCC(C)=CCOP(=O)(O)OP(=O)(O)O',\n",
       " '[Br-]',\n",
       " 'CCCCCCCCCCCCCCCC(=O)OCC(COP(=O)(O)OCC[N+](C)(C)C)OC(=O)CCCCCCC',\n",
       " 'NC(Cc1cc(I)c(O)c(I)c1)C(=O)O',\n",
       " 'CCCCCCC(C)C(O)C(=O)SCCNC(=O)CCNC(=O)C(O)C(C)(C)COP(=O)(O)OP(=O)(O)OCC1OC(n2cnc3c(N)ncnc32)C(O)C1OP(=O)(O)O',\n",
       " 'O=C1COC(OP(=O)(O)OP(=O)(O)OCC2OC(n3ccc(=O)[nH]c3=O)C(O)C2O)C(O)C1O',\n",
       " 'CCCCCCCCC(C)CC(=O)O',\n",
       " 'COC(=O)C1C(=O)C(C)=C2OC3(CC2(C)C1C)C(C)CCC1C(C)(C)C(=O)CCC13C',\n",
       " 'Nc1ncnc2c1ncn2C1OC2COP(=O)(O)OC3C(COP(=O)(O)OC4C(COP(=O)(O)OC5C(COP(=O)(O)OC2C1O)OC(n1cnc2c(N)ncnc21)C5O)OC(n1cnc2c(N)ncnc21)C4O)OC(n1cnc2c(N)ncnc21)C3O',\n",
       " 'CC12CCC(=O)C(C(=O)SCCNC(=O)CCNC(=O)C(O)C(C)(C)COP(=O)(O)OP(=O)(O)OCC3OC(n4cnc5c(N)ncnc54)C(O)C3OP(=O)(O)O)=C1CCC2=O',\n",
       " 'CCC1(O)CC(OC2CC(N(C)C)C(O)C(C)O2)c2c(cc3c(c2O)C(=O)c2c(O)cccc2C3=O)C1C(=O)OC',\n",
       " '*C(CC(=O)O)NCC(=O)O',\n",
       " 'CCCCCC=CCC=CCC=CCC=CCCCC(=O)OCC(O)COP(=O)(O)OCC[N+](C)(C)C',\n",
       " 'CCCCCC(O)CC(O)CC1Cc2cc3cc(OC)c(-c4c(OC)cc5cc6c(c(O)c5c4O)C(=O)OC(CC(O)CC(O)CCCCC)C6)c(O)c3c(O)c2C(=O)O1',\n",
       " 'CCCCCCCCC=CCCCCCC(=O)CC(=O)SCCNC(=O)CCNC(=O)C(O)C(C)(C)COP(=O)(O)OP(=O)(O)OCC1OC(n2cnc3c(N)ncnc32)C(O)C1OP(=O)(O)O',\n",
       " 'CC(C=O)=CCCC(C)=CCO',\n",
       " 'CC(CCC(=O)NCCS(=O)(=O)O)C1CCC2C3C(O)CC4CC(OS(=O)(=O)O)CCC4(C)C3CCC12C',\n",
       " 'CC(=O)NC1C(OP(=O)(O)OP(=O)(O)OCC=C(C)CCC=C(C)CCC=C(C)CCC=C(C)CCC=C(C)CCC=C(C)CCC=C(C)CCC=C(C)CCC=C(C)CCC=C(C)C)OC(CO)C(O)C1O',\n",
       " 'CCCCCCCCCCCC=CCC=CCCCC(=O)O',\n",
       " 'CC12CCC(=O)CC1CCC1C2CCC2(C)C(OS(=O)(=O)O)CCC12',\n",
       " 'O=C(O)CCCCCC(=O)O',\n",
       " 'CC1CC=NC1C(=O)NCCCCC(N)C(=O)O',\n",
       " 'COC1OC(CO)C(O)C(O)C1O',\n",
       " 'CCCCCCCCCCC(O)C(=O)O',\n",
       " 'O=C1CC(O)(COP(=O)(O)O)C(O)C(O)C1O',\n",
       " 'Oc1cc(O)c2c(c1)OC(c1ccc(O)c(O)c1)C(O)C2',\n",
       " 'NC(CCC(=O)NCCc1ccc(O)cc1)C(=O)O',\n",
       " 'NC(CCC(=O)NCCO)C(=O)O',\n",
       " 'CCC=CCC=CCC=CCCCCCCCC(=O)OC1CCC2(C)C(=CCC3C2CCC2(C)C(C(C)CCCC(C)C)CCC32)C1',\n",
       " 'O=C1CCCC1',\n",
       " 'CC1=CCCC2(C)CCC3=C(C)CCC(CC12)C3(C)C',\n",
       " 'CC(O)c1ccccc1',\n",
       " 'OCC1(O)OCC(O)C1O',\n",
       " 'CCC1=CC2CN3CCc4c([nH]c5ccccc45)C(C(=O)OC)(C2)C13',\n",
       " 'CN1C2CCC1CC(=O)C2',\n",
       " 'CC1=CC2C(=O)C(C)CC2(O)C(=O)C(C)=CC2C(CC1)C2(C)C',\n",
       " 'O=C1C=CC(=O)C(O)=C1',\n",
       " 'CC(=O)Nc1ccn(C2OC(CO)C(O)C2O)c(=O)n1',\n",
       " 'C=C1CC23CCC4C(C)(C)CCCC4(C)C2CCC1C3',\n",
       " 'CC1(CC(N)=O)C2=[N+]3C(CC45NC(=O)CC4(C)C(CCC(=O)O)C4=[N+]5[Ni-2]35N3C(=CC6=[N+]5C(C2)C(CC(=O)O)C6CCC(=O)O)C(CCC(=O)O)C(CC(=O)O)C3=C4)C1CCC(=O)O',\n",
       " 'CCCCCCCCCCCCCCCCCCCCCC(=O)NC(CO)C(O)CCCCCCCCCCCCCCC',\n",
       " 'CC1c2cc(O)c(O)cc2CCN1C',\n",
       " 'CNC1C(OC2C(OC3C(O)C(OP(=O)(O)OCC4OC(n5cnc6c(=O)[nH]c(N)nc65)C(O)C4O)C(NC(=N)N)C(O)C3NC(=N)N)OC(C)C2(O)C=O)OC(CO)C(O)C1O',\n",
       " 'CC(CCC(=O)O)C1CCC2C3C(O)CC4CC(O)CCC4(C)C3CCC12C',\n",
       " 'CSCCC(=O)C(=O)COP(=O)(O)O',\n",
       " 'CC=CC=CC=O',\n",
       " 'CC(=O)NC(CCC(N)=O)C(=O)O',\n",
       " 'CCCCCCC(=O)OCC(COP(=O)(O)OCC[N+](C)(C)C)OC(=O)CCCCC',\n",
       " '*C(=O)OCC=Cc1ccc(O)c(OC)c1',\n",
       " '*C(=O)C(*)C(=O)O',\n",
       " 'Cc1cc(O)cc(O)c1C(=O)OC1CC2(C)C3CC(C)(C)CC3C=C(CO)C12O',\n",
       " '*C(OO)C(=O)O',\n",
       " 'O=C(O)CCC(=O)NC(CCC(=O)O)C(=O)O',\n",
       " '*C(=O)OCC(O)CO',\n",
       " '*C(=O)CCCCC#CCC=CCC=CCC=CCC',\n",
       " 'CCCCCCCCCCCCCCC=COCC(O)COP(=O)(O)OCCN',\n",
       " 'CCCCCC(O)C=CC=CCC=CCC=CCCCC(=O)SCCNC(=O)CCNC(=O)C(O)C(C)(C)COP(=O)(O)OP(=O)(O)OCC1OC(n2cnc3c(N)ncnc32)C(O)C1OP(=O)(O)O',\n",
       " 'NCCCCC(NC(=O)CCCN)C(=O)O',\n",
       " 'COC(=O)CCCC=CCC=CCC=CCC=CCCCCCO',\n",
       " '*NC(COC1OC(CO)C(O)C(OC2OCC(O)C(OC3OCC(O)C(O)C3O)C2O)C1O)C(*)=O',\n",
       " '*C(=O)NC1C(=O)N2C1SC(C)(C)C2C(=O)O',\n",
       " 'CC1=C2[N+]3=C(C=C4[N+]5=C(C(C)=C6N7C8C(CC(N)=O)C6(C)CCC(=O)NCC(C)OP(=O)(O)OC6C(CO)OC(C6O)n6c[n+](c9cc(C)c(C)cc96)[Co-4]753[N+]3=C1C(CCC(N)=O)C(C)(CC(N)=O)C83C)C(CCC(N)=O)C4(C)C)C(CCC(N)=O)C2(C)CC(N)=O',\n",
       " 'O=C1OC(Cc2ccccc2)(C(=O)O)OC1=Cc1ccccc1',\n",
       " 'O=C(C(O)CO)C(O)C(O)COP(=O)(O)O',\n",
       " 'OC1C=Cc2sc3ccccc3c2C1O',\n",
       " 'C=C(C)C1CCC(C)(O)C(=O)C1',\n",
       " 'CCCCCC=CCC=CCCCCCCCC(=O)OC(COC(=O)CCCCCCCCCCCCCCC)COP(=O)(O)OCCNC(=O)CCCCC',\n",
       " 'Oc1ccccc1O',\n",
       " 'COc1ccc(-c2cc(=O)c3ccc(O)c(O)c3o2)cc1',\n",
       " 'NCCCCNCCCCN',\n",
       " 'COc1ccc2c(c1OC)C(O)OC2C1c2c(cc3c(c2OC)OCO3)CCN1C',\n",
       " '*OC1C(COP(*)(=O)O)OC(n2cnc3c(=O)n4cc(C)[nH]c4nc32)C1O',\n",
       " 'CC(C)(COP(=O)(O)O)C(O)C(=O)NCCC(=O)NCCS(=O)(=O)O',\n",
       " 'CCCCCCC=CCCCCCCCC(=O)OC(CCCCCC)CCCCCCCCCCC(=O)O',\n",
       " 'CC(C)=CCCC(C)=CCNC(CCC(=O)O)C(=O)O',\n",
       " 'Cc1cc(OC(=O)c2c(C)cc(O)c(CO)c2O)c(C)c(O)c1C(=O)O',\n",
       " 'C=CC1=C(C)C(=CC2=NC(=Cc3[nH]c(C(=O)c4[nH]c(C=O)c(C)c4C=C)c(C)c3CCC(=O)O)C(CCC(=O)O)=C2C)NC1=O',\n",
       " '*OC1C(COP(*)(=O)O)OC(n2ccc(=O)n(CCC(N)C(=O)O)c2=O)C1O',\n",
       " 'CC(C)C1CCC2(C)CC3C(C)CCC45C(C)CCC4C5(C)C3(O)CC12',\n",
       " '*C1OC(COP(=O)(O)O)C(O)C1*',\n",
       " 'O=C1CCC(C(=O)O)=CN1',\n",
       " 'S=c1[nH]cnc2[nH]cnc12',\n",
       " 'CCCCCCCCC=CCCCCCCCC(=O)OC(CO)COP(=O)(O)OCCN',\n",
       " 'Nc1ncnc2c1[nH]c(=O)n2C1CC(O)C(COP(=O)(O)O)O1',\n",
       " 'Nc1nc(=O)c2c([nH]1)NCC(CO)=N2',\n",
       " 'Cc1c(C(=O)O)c(O)cc2cc3c(c(O)c12)C(=O)c1c(O)cc(O)cc1C3',\n",
       " '*NC(C(*)=O)C(C)OP(=O)(O)OCC1OC(n2ccc(=O)[nH]c2=O)C(O)C1O',\n",
       " 'CCCCCCC=CCCCCCCCC(=O)OCC(COC(=O)CCCCCCCC=CCCCCCC)OC(=O)CCCCCCCC=CCCCCCC',\n",
       " 'CC1=C2CCC(C)C2CCC(C)C2CC3(C)CCC(C(C)C)C3CC12O',\n",
       " '[Cr+3]',\n",
       " 'COc1ccc2c(c1)OCC1(O)c3cc4c(cc3OC21)OCO4',\n",
       " '*C(=O)C(N)CCC(N)=O',\n",
       " 'CCCCCCCCC=CCCCCCCCCOCC(O)COP(=O)(O)OCC[N+](C)(C)C',\n",
       " 'CCCCCC=CCC=CCCCCCCCC(=O)OC(CCCCCCCCC)CCCCCCCC(=O)O',\n",
       " 'COc1ccc2c(c1O)-c1c(O)c(OC)cc3c1C(C2)N(C)CC3',\n",
       " 'CC1(CC(=O)O)c2cc3[nH]c(cc4nc(cc5[nH]c(cc(n2)C1CCC(=O)O)C(C)(CC(=O)O)C5CCC(=O)O)C(CC(=O)O)=C4CCC(=O)O)c(CCC(=O)O)c3CC(=O)O',\n",
       " 'CCCCCCCCCCCCCCCCCCCCC(O)C(=O)O',\n",
       " 'Cc1ccc(O)c(O)c1',\n",
       " 'CCCCCCC=CCCCCCCCC(=O)OC(CCCCCCCCCCC)CC(=O)NC1C(OCC2OC(OP(=O)(O)O)C(NC(=O)CC(O)CCCCCCCCCCC)C(OC(=O)CC(O)CCCCCCCCCCC)C2O)OC(COC2(C(=O)O)CC(OC3(C(=O)O)CC(O)C(O)C(C(O)CO)O3)C(O)C(C(O)CO)O2)C(OP(=O)(O)O)C1OC(=O)CC(O)CCCCCCCCCCC',\n",
       " 'CC(C=CC=C(C)C=CC1=C(C)CC(O)CC1(C)C)=CC=CC=C(C)C=CC=C(C)C=CC12OC1(C)CC(O)CC2(C)C',\n",
       " 'CCCCCCCCOC(=O)c1ccccc1',\n",
       " 'COc1ccc(CC2c3cc(O)c(OC)cc3CCN2C)cc1O',\n",
       " 'CC(C)=CCCC(C)=CCCC(C)=CCc1c(O)cc(O)c2c1CC(C)OC2=O',\n",
       " 'CC(C=O)=CC=CC(C)=CC=CC=C(C)C=CC=C(C)C=CC1=C(C)CCCC1(C)C',\n",
       " 'COc1ccc(CC2NCCc3cc(OC)c(OC)cc32)cc1OC',\n",
       " 'NC(CCC(=O)NC(CSc1ccc([N+](=O)[O-])cc1[N+](=O)[O-])C(=O)NCC(=O)O)C(=O)O',\n",
       " 'CC(C)c1ccc(C(=O)O)c(O)c1O',\n",
       " 'O=C(O)CN(CC(=O)O)CC(=O)O',\n",
       " '*C=COCC(COP(=O)(O)OCC[N+](C)(C)C)OC(*)=O',\n",
       " 'COc1cc2c(cc1O)C(Cc1ccc(OC)c(OC)c1)NCC2',\n",
       " 'CC(=O)NC1C(=O)OC(CO)C(OC2OC(CO)C(OC3OC(CO)C(O)C(O)C3NC(C)=O)C(O)C2NC(C)=O)C1O',\n",
       " 'OCC1OC(OCC2OC(OC3C(CO)OC(OC4C(CO)OC(O)C(O)C4O)C(O)C3O)C(O)C(O)C2O)C(O)C(O)C1O',\n",
       " 'CC(O)C(N)C(=O)O',\n",
       " 'CC(C=CC=C(C)C(=O)O)=CC=CC=C(C)C=CC=C(C)C(=O)O',\n",
       " '*NC(COP(=O)(O)OCC(C)(C)C(O)C(=O)NCCC(=O)NCCSC(=O)C=CCCCCCC=CCCCCCC)C(*)=O',\n",
       " 'Nc1c(NCC(O)C(O)C(O)CO)[nH]c(=O)[nH]c1=O',\n",
       " 'CC(C)CCCC(C)C1CCC2C3CC=C4CC(=O)CCC4(C)C3CCC12C',\n",
       " '*C(=O)OCC(COP(=O)(O)OC1C(O)C(OP(=O)(O)O)C(O)C(OP(=O)(O)O)C1O)OC(*)=O',\n",
       " 'CCCCCCCCCCCCCCCCCCCC(=O)OCC(O)COP(=O)(O)OCC[N+](C)(C)C',\n",
       " 'COc1ccccc1C(=O)O',\n",
       " 'CC12CCC(=O)C=C1CCC1C2C(O)CC2(C=O)C1CCC2(O)C(=O)CO',\n",
       " 'CC1=CC2C=CCC(C)C(=O)C(C)C=COC(=O)OC23C(=O)NC(Cc2ccccc2)C3C1C',\n",
       " 'C=C(OP(=O)(O)C(=O)O)C(=O)O',\n",
       " 'CCCCCC=CCC=CCCCCCCCC(=O)OC(COC(=O)CCCCCCCCCCCCCCC)COP(=O)(O)OCC(O)CO',\n",
       " 'CCC1OC(=O)CC(O)C(C)C(OC2OC(C)C(O)C(N(C)C)C2O)C(CC=O)CC(C)C(=O)C=CC(C)=CC1COC1OC(C)C(O)C(O)C1O',\n",
       " 'CC(C)CCCCCCCCCCC=COCC(COP(=O)(O)OCCN)OC(=O)CCCCCCCCCCCC(C)C',\n",
       " '*NC(COC1OC(C(O)CO)C(O)C(O)C1O)C(*)=O',\n",
       " 'CC(C(CCC(C)(C)O)OP(=O)(O)O)C1CCC2(O)C3=CC(=O)C4CC(O)C(O)CC4(C)C3CCC12C',\n",
       " 'NC(=O)NC=CC(=O)O',\n",
       " '*C(=O)C(CO)NC(=O)C(N)CCSC',\n",
       " '*C(=O)OC(COC(=O)CCCCCCCC=CCCCCCCCC)COP(=O)(O)OCC(O)CO',\n",
       " 'CC(=O)C(C)(C)C',\n",
       " 'CCCCCC(=O)NCCO',\n",
       " 'O=P(O)(O)OCC(O)C(O)c1c[nH]c2ccccc12',\n",
       " 'OCC1OC(O)CC(O)C1O',\n",
       " 'CC(C)C(C)C(O)C(O)C(C)C1CCC2C3CCC4CC(=O)CCC4(C)C3CCC12C',\n",
       " 'CCCCCCCCCCCCCCCC(=O)OCC(COP(=O)(O)OCC[N+](C)(C)C)OC(=O)CCCCCCO',\n",
       " 'O=C(C=Cc1ccc(O)c(O)c1)c1c(O)cc(O)cc1O',\n",
       " 'C=CC1=C(C)C(=CC2=NC(=Cc3[nH]c(C=C4NC(=O)C(C)=C4C=C)c(C)c3CCC(=O)O)C(CCC(=O)O)=C2C)NC1=O',\n",
       " 'CC12CCC3C(CCC4CC(OC5OC(C(=O)O)C(O)C(OS(=O)(=O)O)C5O)CCC43C)C1CCC2=O',\n",
       " 'CCCCCC=CCC=CCCCCCCCCCC(=O)O',\n",
       " 'CCCCCCCCCCCCCCCCCCOCC(O)COP(=O)(O)OCC[N+](C)(C)C',\n",
       " 'CCC(O)(C(C)=O)C(=O)O',\n",
       " 'NC(CSS)C(=O)O',\n",
       " 'CCCCCCCCCCCCCCCC(=O)OCC(O)COP(=O)(O)OCC(N)C(=O)O',\n",
       " 'CC12CCC3C(CCC4CC(=O)CCC43C=O)C1CCC2O',\n",
       " 'O=C(O)c1ccc(O)[nH]1',\n",
       " 'CCCCCCCCCCCCCCCc1oc(=O)cc(O)c1C',\n",
       " 'O=C(O)CC(C(=O)O)C(O)C(=O)O',\n",
       " 'CC(=O)OC1C(C)C(O)C=COC2(C)Oc3c(C)c(O)c4c(O)c(cc(O)c4c3C2=O)NC(=O)C(C)=CC=CC(C)C(O)C(C)C(O)C1C',\n",
       " 'C=CC1=C(C)C(=O)NC1Cc1[nH]c(Cc2[nH]c3c(c2C)C(=O)CC3=C2NC(C(=O)O)C(C)C2CCC(=O)O)c(CC)c1C',\n",
       " '*OP(=O)(O)OCC(COC(=O)CCCCCCCCCCCCCC=CCCCCCCCC)OC(*)=O',\n",
       " 'CCCCCC=CCC1OC1CC=CCC=CCCCC(=O)O',\n",
       " 'CCCCCCCC(=O)OCC(COC1OC(CO)C(O)C(O)C1O)OC(=O)CCCCCCC',\n",
       " '*c1cc(-c2c(*)oc3c(*)c(*)c(*)c(*)c3c2=O)c(*)c(*)c1*',\n",
       " '*C(=O)OCC(O)COP(=O)(O)OCCN',\n",
       " 'CC(=O)NC1C(OC2C(O)C(CO)OC(OC3C(CO)OC(O)C(O)C3O)C2O)OC(CO)C(OC2OC(CO)C(O)C(O)C2O)C1O',\n",
       " 'CCCCCC=CCC=CCCCCCCCC(=O)NCC(=O)O',\n",
       " 'O=P(O)(O)OC1OC(C(O)CO)C(O)C(O)C1O',\n",
       " 'O=C1NC(C(=O)O)COC(=O)C2COC(=O)C(CO)NC(=O)c3cccc4c3O[Fe-3]35(Oc6cc(C7OC(CO)C(O)C(O)C7O)cc1c6O3)(O4)Oc1cc(C3OC(CO)C(O)C(O)C3O)cc(c1O5)C(=O)N2',\n",
       " 'CC(C)(COP(=O)(O)OP(=O)(O)OCC1OC(n2cnc3c(N)ncnc32)C(O)C1OP(=O)(O)O)C(O)C(=O)NCCC(=O)NCCSC(=O)CC(=O)CC=CCC=O',\n",
       " 'CC1(C)CCC2(C)C(O)CC3(C)C(=CCC4C5(C)CCC(O)C(C)(C)C5CCC43C)C2C1',\n",
       " '*CC1=C(C)C2=[N+]3C1=Cc1c(*)c4c5n1[Mg-2]31n3c(c(C)c(C(C)O)c3=C2)=CC2=[N+]1C(=C5CC4=O)C(CCC(=O)O)C2C',\n",
       " 'O=C(O)CCCCC(O)(CC(=O)O)C(=O)O',\n",
       " 'N=C(N)NCCCC(C(=O)O)N1CCC1=O',\n",
       " '*NC(CSC(N)=O)C(=O)O',\n",
       " '*OC1C(COP(=O)(O)OP(=O)(O)OP(=O)(O)OCC2OC(n3c[n+](C)c4c(=O)[nH]c(N)nc43)C(O)C2O)OC(n2cnc3c(NC)ncnc32)C1OC',\n",
       " 'O=C(CCCCCCCCCCCCCCCO)Cc1cc(O)cc(=O)o1',\n",
       " 'COC(=O)C=C(C)CCC=C(C)CCC=C(C)C',\n",
       " 'CC(Nc1ccc(CC(O)C(O)C(O)COC2OC(COP(=O)(O)OC(CCC(=O)O)C(=O)O)C(O)C2O)cc1)C1C(C)Nc2[nH]c(N)nc(=O)c2N1C=O',\n",
       " 'C=C1C2(C)CC3C4(C)CCC(=O)C(C)(C)C4CCC3(C)C1(C(=O)OC)C(=O)C(C)(O)C2=O',\n",
       " 'CSCCC(O)(CC(=O)O)C(=O)O',\n",
       " '*c1cc(*)c(C2(*)Oc3c(*)c(*)c(*)c(*)c3C(=O)C2(*)*)c(*)c1',\n",
       " 'NC(CCC(=O)NC(CSc1cc(O)ccc1O)C(=O)NCC(=O)O)C(=O)O',\n",
       " 'CC(C)CCCC(C)C1CCC2C3=C(CCC21C)C1(C)CCC(O)C(C(=O)O)C1CC3',\n",
       " 'CCCCCCCCC=CCCCCCCCC(=O)OCC(COP(=O)(O)OCCNC(=O)CCCCCCCCCCCCCCC)OC(=O)CCCCCCCC=CCCCCCCCC',\n",
       " 'CNC(=N)NCCCC(N)C(=O)O',\n",
       " 'CCC1OC(=O)CC(O)C(C)C(OC2OC(C)C(O)C(N(C)C)C2O)C(CC=O)CC(C)C(=O)C=CC(C)=CC1CO',\n",
       " 'CCC(=O)C(O)CC',\n",
       " 'CCCCCCCCCCCCCC=CC(O)C(COC1OC(CO)C(O)C(O)C1O)NC(=O)CCCCCCCCCCCCCCCCC',\n",
       " 'CCCC(=O)O',\n",
       " 'CC(N)CC(N)C(=O)O',\n",
       " '*C(=O)C(CC(=O)O)NC(=O)C(N)CCSC',\n",
       " '*C1CCC2C3CCC4C(C(=O)O)C(O)CCC4(C)C3CCC12C',\n",
       " 'CP(=O)(O)OC1OC(COP(=O)(O)O)C(O)C1O',\n",
       " 'O=C1OC(COP(=O)(O)O)C(O)C1O',\n",
       " '*NC(COC1OC(C)C(O)C(OC2OC(CO)C(O)C(O)C2NC(C)=O)C1O)C(*)=O',\n",
       " 'CN(Cc1cnc2nc(N)nc(N)c2n1)c1ccc(C(=O)NC(CCC(=O)O)C(=O)O)cc1',\n",
       " 'C=CC(C)(C)c1[nH]c2ccccc2c1CC1=CN2CCCC2C(=O)N1',\n",
       " 'CCCCCC=CCC=CCCCCCCCC(=O)OCC(NC(C)=O)C(O)C=CCCCCCCCCCCCCC',\n",
       " 'CCCCCCCCCCCCCCCC(=O)NCCc1c[nH]c2ccc(O)cc12',\n",
       " 'C=CC=CCC1=C(C)C(OC(=O)C2C(C=C(C)C)C2(C)C)CC1=O',\n",
       " '*C(=O)NC(COC1OC(CO)C(O)C(OC2(C(=O)O)CC(O)C(NC(C)=O)C(C(O)C(O)CO)O2)C1O)C(O)C=CCCCCCCCCCCCCC',\n",
       " 'O=C1C=CC=CC1=O',\n",
       " 'N=C(N)N',\n",
       " '*C(=O)C(CCCCN)NC(=O)C(N)CC(C)C',\n",
       " 'N#CC(O)c1ccsc1',\n",
       " 'Cc1ccc(CO)cc1',\n",
       " 'CCCCCCCCC=CCCCCCCCC(=O)OCCCCCCCCCCCCCCCCCC',\n",
       " '*OP(=O)(O)OCC(O)CO',\n",
       " 'C=C(OP(=O)(O)OCC(O)C(O)C(O)Cn1c2nc(=O)[nH]c(=O)c-2cc2ccc(O)cc21)C(=O)O',\n",
       " 'Nc1c(NCC(O)C(O)C(O)COP(=O)(O)O)[nH]c(=O)[nH]c1=O',\n",
       " 'CC(CCCCCCCCC=CC(=O)SCCNC(=O)CCNC(=O)C(O)C(C)(C)COP(=O)(O)OP(=O)(O)OCC1OC(n2cnc3c(N)ncnc32)C(O)C1OP(=O)(O)O)OC1OC(C)C(O)CC1O',\n",
       " '*NC(CCCCNCCCCN)C(*)=O',\n",
       " 'CC(C(O)CCC(C)(C)O)C1CCC2(O)C3=CC(=O)C4CC(=O)C(O)CC4(C)C3CCC12C',\n",
       " 'CC(C)CC(NC(=O)CN)C(=O)O',\n",
       " 'C=C1CC23CC1CCC2C1(C=O)CCCC(C)(C(=O)O)C1C3C(=O)O',\n",
       " 'CC=Cc1ccc(OC)cc1',\n",
       " '*OCC(COC(*)=O)OC(=O)CC=CCCCCCCCCCCCC',\n",
       " '*NC(COC1OCC(OC2OC(CO)C(O)C(OC3OC(CO)C(O)C(OC4OC(C(=O)O)C(OC5OC(CO)C(O)C(O)C5NC(C)=O)C(O)C4O)C3O)C2O)C(O)C1O)C(*)=O',\n",
       " 'CCCCCC=CCC(O)C(O)C(O)C=CCC=CCCCC(=O)O',\n",
       " 'CCCCCCCC(=O)OCC(O)CO',\n",
       " 'CC1=CC(OC=C(C=CC2=C(C)CCCC2(C)C)C(=O)OCO)OC1=O',\n",
       " 'CNC(=O)Nc1ccccc1',\n",
       " 'CC(C)=CCCC(C)=CCc1c(O)c(O)cc2ccc(=O)oc12',\n",
       " 'Nc1ccn(C2CC(O)C(COP(=O)(O)OP(=O)(O)OP(=O)(O)O)O2)c(=O)n1',\n",
       " 'CCCCC(CC)COS(=O)(=O)O',\n",
       " 'O=C(NC(CO)C(=O)O)c1cccc2c1O[Fe+]O2',\n",
       " '*NC(COP(=O)(O)OCC(C)(C)C(O)C(=O)NCCC(=O)NCCSC(=O)CC(=O)CC(C)C)C(*)=O',\n",
       " 'O=C1NC(=O)C(c2ccccc2)N1',\n",
       " 'CC1OC(OC2C(O)C(OP(=O)(O)O)C(NC(=N)N)C(O)C2NC(=N)N)C(O)C1(O)CO',\n",
       " 'CSCCC(=O)C(O)=COP(=O)(O)O',\n",
       " 'COC(=O)C1=COC(C)C2CN3CCc4c([nH]c5ccccc45)C3CC12',\n",
       " 'CSCCC(=CC(=O)O)C(=O)O',\n",
       " 'CC(C)C1=C2C3CC(O)C(CO)=CC(O)C3(C)CCC2(C)CC1',\n",
       " 'CC(C)=CCCC(C)=CCCC(C)=CCCC(C)=CCO',\n",
       " 'CCCCCCCCC=CCCCCCCCC(=O)NCCOP(=O)(O)OCC(COC(=O)CCCCCCCC=CCCCCCCCC)OC(=O)CCCCCCCC=CCCCCCCCC',\n",
       " 'CC1OC(OP(=O)(O)O)C(O)C1O',\n",
       " 'CC(C)OP(=O)(O)OC(C)C',\n",
       " 'CCCCCCCCCC(=O)SCCNC(=O)CCNC(=O)C(O)C(C)(C)COP(=O)(O)O',\n",
       " 'CCCCCCCCCC(O)CC(=O)O',\n",
       " 'CC(C)(COP(=O)(O)OP(=O)(O)OCC1OC(n2cnc3c(N)ncnc32)C(O)C1OP(=O)(O)O)C(O)C(=O)NCCC(=O)NCCSC(=O)CCc1cccc(O)c1',\n",
       " 'CC(=CCOP(=O)(O)OP(=O)(O)O)CO',\n",
       " 'C',\n",
       " '*C(=O)C(CCC(=O)O)NC(=O)C(CCCCN)NC(=O)CN',\n",
       " 'O=C(O)C1CC(OC2OC(CO)C(O)C2O)CN1',\n",
       " 'Cc1cn(C2CC(O)C(COP(=O)(O)OP(=O)(O)OC3OC(C)C(O)C(=O)C3O)O2)c(=O)[nH]c1=O',\n",
       " '*OC1C(COP(*)(=O)O)OC(n2ccc(=N)nc2NCCCCNC(=N)N)C1O',\n",
       " '*C(=O)NC(COC1OC(CO)C(OC2OC(CO)C(OC3OC(CO)C(O)C(OC4OC(CO)C(O)C(O)C4O)C3NC(C)=O)C(OC3(C(=O)O)CC(O)C(NC(C)=O)C(C(O)C(CO)OC4(C(=O)O)CC(O)C(NC(C)=O)C(C(O)C(O)CO)O4)O3)C2O)C(O)C1O)C(*)O',\n",
       " 'COc1ccc2[nH]cc(CCN)c2c1',\n",
       " 'CC(O)C(O)C(O)C(=O)CO',\n",
       " 'CCC(O)CCC=CCC=CCC=CCC=CCC=CCCC(=O)O',\n",
       " 'O=[Mo](=O)(O)O',\n",
       " '*OC1C(COP(=O)(O)OC2C(COP(=O)(O)O)OC(*)C2O)OC(*)C1O',\n",
       " 'O=CCCCCC(=O)O',\n",
       " '*NC(CSC(=O)CCCCCCCCCCCCCCC)C(*)=O',\n",
       " 'OC1C2COC(O2)C(O)C1O',\n",
       " '*NC(CCCCNCC(=O)C(O)C(O)C(O)CO)C(*)=O',\n",
       " '*NC(CC(=O)NC1OC(CO)C(OC2OC(CO)C(OC3OC(COC4OC(COC5OC(CO)C(O)C(O)C5O)C(O)C(OC5OC(CO)C(O)C(O)C5O)C4O)C(O)C(OC4OC(CO)C(OC5OC(CO)C(O)C(O)C5NC(C)=O)C(O)C4OC4OC(CO)C(O)C(O)C4NC(C)=O)C3O)C(O)C2NC(C)=O)C(O)C1NC(C)=O)C(*)=O',\n",
       " '*c1c(*)c(*)c(C2Oc3c(*)c(*)c(*)c(*)c3C(=O)C2*)c(*)c1*',\n",
       " 'CCC=CCC=CCC=CCCCCCC(=O)SCCNC(=O)CCNC(=O)C(O)C(C)(C)COP(=O)(O)OP(=O)(O)OCC1OC(n2cnc3c(N)ncnc32)C(O)C1OP(=O)(O)O',\n",
       " 'C=CC(C)(O)CCC1(C)C(C)CCC2(C)C(C)=CCCC21',\n",
       " 'CN1CCCC1c1ccc(O)nc1',\n",
       " 'CC(C)C(O)CCC(C)C1CCC2C3C(O)C=C4CC(O)CCC4(C)C3CCC12C',\n",
       " '*NCC(=O)NCC(=O)S',\n",
       " 'O=C(O)CCCCC1SCC2NC(=O)NC21',\n",
       " 'CC(=O)NCCOCC(N)C(=O)O',\n",
       " '*C(*)N',\n",
       " 'CCCCCCCCCCCCCCCCOCC(COP(=O)(O)OCC[N+](C)(C)C)OC(C)=O',\n",
       " 'O=C(O)c1[nH]c(-c2c[nH]c3ccc(O)cc23)cc1-c1c[nH]c2ccccc12',\n",
       " 'Nc1nc(=O)c2c([nH]1)NCC(CNc1ccc(C(=O)NC(CCC(=O)O)C(=O)O)cc1)=N2',\n",
       " 'O=S(=O)(O)OCC1OC(O)C(O)C(O)C1O',\n",
       " 'O=P(O)(O)OCC1OC(OP(=O)(O)O)C(O)C(O)C1O',\n",
       " '*NC(CCCCNC(=O)CCCCC1SCC2C1NC(=O)N2C(=O)O)C(*)=O',\n",
       " '*NC(COC1OC(COC2OC(CO)C(O)C(O)C2NC(C)=O)C(O)C(OC2OC(CO)C(O)C(O)C2O)C1NC(C)=O)C(*)=O',\n",
       " 'CCCCCC=CCC=CC(O)C(O)CCCCCC(=O)O',\n",
       " 'CC(C(=O)O)C(N)C(=O)O',\n",
       " 'CCCCCCCCCCCCCCCCCC(=O)OCC(COP(=O)(O)OCC[N+](C)(C)C)OC(=O)CCCCCCC',\n",
       " '*C(=O)OCC(COP(=O)(O)OC1C(O)C(O)C(O)C(O)C1O)OC(=O)CCCCCCCCCCCCCCC',\n",
       " 'CC(C)CCCC(C)C1CCC2C3CC=C4CC(OC5OC(CO)C(O)C(O)C5O)CCC4(C)C3CCC12C',\n",
       " 'NCCCC(=O)C(=O)O',\n",
       " 'CC(C)CC(O)C(=O)O',\n",
       " 'CCCCCCCCC=CCCCCCCCC(=O)OCC(COP(=O)(O)OCCNC(=O)CCCCCCCCCCCCC)OC(=O)CCCCCCCC=CCCCCCCCC',\n",
       " 'NC(=O)C(=O)O',\n",
       " 'CC(=CNC(N)=O)C(=O)O',\n",
       " 'CC(CCC(=O)O)C1CCC2C3CCC4CC(=O)CCC4(C)C3CCC12C',\n",
       " 'O=CNCc1ccccc1',\n",
       " 'CC(C)NC(=O)CCC(N)C(=O)O',\n",
       " '*C(=O)NC(COC1OC(CO)C(O)C(O)C1O)C(*)O',\n",
       " '*NC(Cc1ccc(OC2OC(COP(=O)(O)OP(=O)(O)OCC3OC(n4cnc5c(N)ncnc54)C(O)C3O)C(O)C2O)cc1)C(*)=O',\n",
       " 'CC(C)C(O)CCC(C)C1CCC2C3=CC=C4CC(O)CCC4(C)C3CCC21C',\n",
       " 'CCCCCCCCCCCCCC=CC(O)C(CO)NC(=O)CCCCCCCCCCCCCCCCC',\n",
       " 'C=C1CC23CCC4C(C)(C(=O)OC5OC(CO)C(O)C(OC6OC(CO)C(O)C(O)C6O)C5OC5OC(CO)C(O)C(O)C5O)CCCC4(C)C2CCC1(OC1OC(CO)C(O)C(OC2OC(CO)C(O)C(O)C2O)C1OC1OC(CO)C(O)C(O)C1O)C3',\n",
       " 'CCCCCCCCCCCCCCCCCC=CC(=O)SCCNC(=O)CCNC(=O)C(O)C(C)(C)COP(=O)(O)OP(=O)(O)OCC1OC(n2cnc3c(N)ncnc32)C(O)C1OP(=O)(O)O',\n",
       " 'S1[Fe+]S[Fe+]1',\n",
       " '*CC(=O)O',\n",
       " 'CC1OC(OP(=O)(O)OP(=O)(O)OCC2OC(n3cnc4c(=O)[nH]c(N)nc43)C(O)C2O)C(O)C(O)C1NC=O',\n",
       " 'Cc1cc(O)c2c(O)c3c(c(O)c2c1)CC(O)CC3=O',\n",
       " 'N=C(NCCCC(N)C(=O)O)NP(=O)(O)O',\n",
       " 'NC(CCCC(=O)O)C(=O)O',\n",
       " 'NC(CCCC(=O)NC1C(=O)N2C(C(=O)O)=C(CO)CSC12)C(=O)O',\n",
       " 'COc1cc2c(c(O)c1O)C(=O)CC(c1ccc(O)cc1)O2',\n",
       " 'C[N+](C)(C)CC=O',\n",
       " 'CC1CCC(C)C12CCC1C2=CC2(C)CCC(C)(C)C12',\n",
       " '*C(=O)NC(COC1OC(CO)C(OC2OC(CO)C(O)C(OC3OC(CO)C(O)C(OC4OC(CO)C(O)C(O)C4OC4OC(C)C(O)C(O)C4O)C3NC(C)=O)C2O)C(O)C1O)C(O)C=CCCCCCCCCCCCCC',\n",
       " 'CC=C1CC(C)C(C)(O)C(=O)OCC2=CCN3CCC(OC1=O)C23',\n",
       " '*C(*)(O)C(*)(*)O',\n",
       " 'CC1OC(OP(=O)(O)OP(=O)(O)OCC2OC(n3ccc(=O)[nH]c3=O)C(O)C2O)C(O)C(O)C1=O',\n",
       " 'CC(=O)NCC1OC(OC2C(N)CC(N)C(OC3OC(CO)C(O)C(N)C3O)C2O)C(N)C(O)C1O',\n",
       " 'CCC=CCC1C(=O)CCC1CC(=O)NC(C(=O)O)C(C)CC',\n",
       " 'O=CCCl',\n",
       " 'CCCCCCCCCCCC(O)CC(=O)NC1C(OP(=O)(O)O)OC(COC2OC(COC3(C(=O)O)CC(OC4(C(=O)O)CC(OC5(C(=O)O)CC(O)C(O)C(C(O)CO)O5)C(O)C(C(O)COC5(C(=O)O)CC(O)C(O)C(C(O)CO)O5)O4)C(O)C(C(O)CO)O3)C(OP(=O)(O)O)C(OC(=O)CC(O)CCCCCCCCCCC)C2NC(=O)CC(O)CCCCCCCCCCC)C(O)C1OC(=O)CC(O)CCCCCCCCCCC',\n",
       " 'CC(=O)NC1C(OC2C(O)C(CO)OC(OP(=O)(O)OP(=O)(O)OCC=C(C)CCC=C(C)CCC=C(C)CCC=C(C)CCC=C(C)CCC=C(C)CCC=C(C)CCC=C(C)CCC=C(C)CCC=C(C)CCC=C(C)C)C2NC(C)=O)OC(CO)C(O)C1OC1OC(CO)C(O)C(O)C1O',\n",
       " 'CC(C)(COP(=O)(O)OP(=O)(O)OCC1OC(n2cnc3c(N)ncnc32)C(O)C1OP(=O)(O)O)C(O)C(=O)NCCC(=O)NCCS',\n",
       " 'Nc1ccn(C2OC(COP(=O)(O)OP(=O)(O)OP(=O)(O)O)C(O)C2O)c(=O)n1',\n",
       " 'C=C(CCC(C)C1CCC2(C)C3=C(CCC12C)C1(C)CCC(O)C(C)(C)C1CC3)C(C)C',\n",
       " '*OC1CC(*)OC1COP(=O)(O)OP(=O)(O)OCC1OC(n2cnc3c(N)ncnc32)C(O)C1O',\n",
       " 'NCCC(O)CC(N)C(=O)O',\n",
       " 'NC(CCCC=O)C(=O)O',\n",
       " '*NC(CSCC=C(C)CCC=C(C)CCC=C(C)CCC=C(C)C)C(*)=O',\n",
       " 'O=Cc1c[nH]c2ccccc12',\n",
       " 'Cc1ncc(C[n+]2csc(CCOP(=O)(O)OP(=O)(O)O)c2C)c(N)n1',\n",
       " '*OC1OC(CO)C(OC2OC(CO)C(O)C(O)C2NC(C)=O)C(O)C1NC(C)=O',\n",
       " 'CCC(O)C1CC2OC2C1C=CCC=CCC=CCCCC(=O)O',\n",
       " 'C=C1C2(C)CC3=C(C)C4(C=CC(=O)OC4(C)C)CCC3(C)C1(C(=O)OC)C(=O)C(C)(O)C2=O',\n",
       " 'O=C(COP(=O)(O)O)Cc1c[nH]cn1',\n",
       " 'CC(CCCC(C)(C)O)C1CCC2C3=CC=C4CC(O)CCC4(C)C3CCC21C',\n",
       " 'CCC1(O)CC(O)c2c(O)c3c(c(O)c2C1C(=O)OC)C(=O)c1cccc(O)c1C3=O',\n",
       " 'N#CC(SCC(N)C(=O)O)c1c[nH]c2ccccc12',\n",
       " '*C(=O)C1CC(O)CN1*',\n",
       " 'O=C(O)c1ccc2c(c1)OCO2',\n",
       " 'CC(C)(COP(=O)(O)OP(=O)(O)OCC1OC(n2cnc3c(N)ncnc32)C(O)C1OP(=O)(O)O)C(O)C(=O)NCCC(=O)NCCSC(=O)C=CC=Cc1ccc2c(c1)OCO2',\n",
       " 'CCC1OC(=O)CC(O)C(C)C(OC2OC(C)C(OC3CC(C)(O)C(O)C(C)O3)C(N(C)C)C2O)C(CC=O)CC(C)C(=O)C=CC(C)=CC1COC1OC(C)C(O)C(OC)C1OC',\n",
       " '*NC(COP(=O)(O)OCC(C)(C)C(O)C(=O)NCCC(=O)NCCSC(=O)CCCCCCCCCCCCCCCCC)C(*)=O',\n",
       " 'O=C(O)C1COP(=O)(O)OP(=O)(O)O1',\n",
       " 'CCCCCCCCCCCCCCCCCCCCCCCC(=O)NCCS(=O)(=O)O',\n",
       " 'O=c1[nH]cc(C2OC(CO)C(O)C2O)c(=O)[nH]1',\n",
       " 'CCCCCC=CCC=CCC=CCC=CCCCC(=O)SCCNC(=O)CCNC(=O)C(O)C(C)(C)COP(=O)(O)OP(=O)(O)OCC1OC(n2cnc3c(N)ncnc32)C(O)C1OP(=O)(O)O',\n",
       " 'O=S(=O)(O)CC1OC(O)(CO)C(O)C1O',\n",
       " 'CCCCCC(=O)OCCCC',\n",
       " 'CCCC(O)CCCCCCCCCC(=O)O',\n",
       " 'COc1cc(CN)ccc1O',\n",
       " '*C(=O)NC(COC1OC(CO)C(OC2OC(CO)C(O)C(OC3OC(CO)C(OC4OC(CO)C(O)C(OC5OC(CO)C(O)C(O)C5NC(C)=O)C4OC4OC(C)C(O)C(O)C4O)C(O)C3NC(C)=O)C2O)C(O)C1O)C(O)CCCCCCCCCCCCCCC',\n",
       " 'CCCCCCCCC=CCCCCCCCC(=O)OC(COC(=O)CCCCCCCCCCCCC)COP(=O)(O)O',\n",
       " 'CCCCCC=CCC=CCC=CCC=CCCCCCCCCCCCC(=O)SCCNC(=O)CCNC(=O)C(O)C(C)(C)COP(=O)(O)OP(=O)(O)OCC1OC(n2cnc3c(N)ncnc32)C(O)C1OP(=O)(O)O',\n",
       " 'CCCCCC=CCC=CCC=CCCCCC(=O)SCCNC(=O)CCNC(=O)C(O)C(C)(C)COP(=O)(O)OP(=O)(O)OCC1OC(n2cnc3c(N)ncnc32)C(O)C1OP(=O)(O)O',\n",
       " 'CCCC(=O)OCC(C)CC',\n",
       " 'CCC(NC(=O)CCC(N)C(=O)O)C(=O)O',\n",
       " 'Cc1cc(=O)c2c(O)cc(O)cc2o1',\n",
       " 'CC(O)(CCO)CC(=O)O',\n",
       " 'CC(C)C(NC(=O)C(CN)NC(=O)C1OC1C(N)=O)C(=O)O',\n",
       " 'Nc1ncnc2c1ncn2C1CC(O)C(COP(=O)(O)O)O1',\n",
       " 'CCC1OC(=O)C(C)C(=O)C(C)C(OC2OC(C)CC(N(C)C)C2O)C(C)CC(C)C(=O)C=CC1(C)O',\n",
       " 'CC(=O)NC1C(OP(=O)(O)OP(=O)(O)OCC2OC(n3ccc(=O)[nH]c3=O)C(O)C2O)OC(CO)C(O)C1OC(C)C(=O)NC(C)C(=O)O',\n",
       " '*C(=O)OCC(COP(=O)(O)OCC(O)COP(=O)(O)OCC(COC(*)=O)OC(=O)CCCC=CCC=CCC=CCC=CCCCCC)OC(*)=O',\n",
       " 'CC(CCC(=O)SCCNC(=O)CCNC(=O)C(O)C(C)(C)COP(=O)(O)OP(=O)(O)OCC1OC(n2cnc3c(N)ncnc32)C(O)C1OP(=O)(O)O)C1CCC2C3C=CC4=CC(=O)CCC4(C)C3CC(O)C12C',\n",
       " '*NC(CCC(=O)NCC(O)c1ccc(O)c(O)c1)C(*)=O',\n",
       " 'CC=C1CN2CCc3c([nH]c4ccccc34)C(C(=O)OC)C1CC2',\n",
       " 'CCCCCCCCCCCCCCCCCCCCCCC(O)C(=O)O',\n",
       " 'CCC1(O)CC(OC2CC(N)C(O)C(C)O2)c2c(O)c3c(c(O)c2C1C(=O)OC)C(=O)c1cccc(O)c1C3=O',\n",
       " '*OC1OC(C)C(O)C(O)C1O',\n",
       " 'CC(C)=CCC1OC1(C)C1CC(=O)CCC12CO2',\n",
       " '*NC(CCCCNCC(O)CCN)C(*)=O',\n",
       " 'CC=C(C)C1C(C)=CC2(C)CC(C)CCC2C1C(=O)C1=CC(=CC(C)C)NC1=O',\n",
       " 'CCCCCC=CCC=CCC=CCC=CCCCC(=O)OC(CO)CO',\n",
       " 'Cc1cc2c3c(c1C)C(C)(C)CCN3C1C(=O)NC(=O)N=C1N2CC(O)C(O)C(O)COP(=O)(O)O',\n",
       " 'NC(=CC=CC=O)C(=O)O',\n",
       " 'COc1cc(C=CC(=O)OP(=O)(O)OCC2OC(n3cnc4c(N)ncnc43)C(O)C2O)cc(OC)c1O',\n",
       " 'CCCCCCCCCCC(=O)C(=O)O',\n",
       " 'CNC1C(O)C(OC2C(N)CC(N)C(OC3OC(CN)CCC3NC(C)=O)C2O)OCC1(C)O',\n",
       " 'CNC1C(O)C(OC2C(N)CC(N)C(OC3OC(CN)CCC3N)C2O)OCC1(C)O',\n",
       " 'CC12CCC3C(CCC4CC(OC5OC(C(=O)O)C(O)C(O)C5O)CCC43C)C1CCC2=O',\n",
       " 'CC12CCC(=O)C=C1C(O)CC1C2C(=O)CC2(C)C1CCC2(O)C(=O)CO',\n",
       " 'C=C(C(=O)O)C1CC=C(C)CCC=C(C)CC1O',\n",
       " 'O=C1CCCCC1O',\n",
       " 'CC(=O)NC(CCCN)CC(=O)NC1C(N=C2NC3C(=O)NCC(O)C3N2)OC(CO)C(OC(N)=O)C1O',\n",
       " 'COc1cc(CC(CO)c2cc(CCCO)cc(OC)c2O)ccc1O',\n",
       " 'CN(N=O)C(=O)N(O)CCCC(N)C(=O)O',\n",
       " 'CCCCCCCCC=CCCCCCCCC(=O)NC(Cc1ccccc1)C(=O)O',\n",
       " 'O=C(O)C(O)C(O)COP(=O)(O)O',\n",
       " 'Cc1cn(C2CC(O)C(COP(=O)(O)OP(=O)(O)OC3OC(C)CC(N)C3O)O2)c(=O)[nH]c1=O',\n",
       " 'CC(C)CCCC(C)C(=O)SCCNC(=O)CCNC(=O)C(O)C(C)(C)COP(=O)(O)OP(=O)(O)OCC1OC(n2cnc3c(N)ncnc32)C(O)C1OP(=O)(O)O',\n",
       " 'O=C(OC1OC(CO)C(O)C(O)C1O)c1ccc(O)c(O)c1',\n",
       " 'Nc1nc(=O)c2c([nH]1)N1C3OC(COP(=O)(O)OP(=O)(O)OP(=O)(O)O)C(O)(C3O)C1N2',\n",
       " 'CC(C)C1=CCC2=C(CCC3C(C)(C)CCCC23C=O)C1',\n",
       " 'CC(C(O)CC(=O)SCCNC(=O)CCNC(=O)C(O)C(C)(C)COP(=O)(O)OP(=O)(O)OCC1OC(n2cnc3c(N)ncnc32)C(O)C1OP(=O)(O)O)C1CCC2C3CCC4=CC(=O)CCC4(C)C3CCC12C',\n",
       " 'O=C(c1ccccc1)c1c(O)cc(O)cc1O',\n",
       " 'Cc1cc(=O)c2c(O)c3c(O)cc(O)c(-c4c(O)cc(O)c5c(O)c6c(=O)cc(C)oc6cc45)c3cc2o1',\n",
       " 'CC(=O)C(O)COP(=O)(O)O',\n",
       " 'CCCCCCCCC=CCCCCCCCC(=O)OC(CCCCCCCCCCCCC)CCCC(=O)O',\n",
       " 'O=C(O)c1cccc2nc3c(C(=O)O)cccc3nc12',\n",
       " 'CC(C)C1OC(=O)C(Cc2ccccc2)N(C)C(=O)C(C(C)C)OC(=O)C(Cc2ccccc2)N(C)C(=O)C(C(C)C)OC(=O)C(Cc2ccccc2)N(C)C1=O',\n",
       " 'CC(C)CCCC(C)C(=O)OC(CC(=O)O)C[N+](C)(C)C',\n",
       " 'O=c1cc(-c2ccc(O)c(O)c2)oc2cc(O)ccc12',\n",
       " 'N=C(N)NCCCC(N)C(=O)N1CCCC1C(=O)N1CCCC1C(=O)NCC(=O)NC(Cc1ccccc1)C(=O)NC(CO)C(=O)N1CCCC1C(=O)NC(Cc1ccccc1)C(=O)NC(CCCNC(=N)N)C(=O)O',\n",
       " 'O=CC(O)C1OC(O)(C(=O)O)CC(O)C1O',\n",
       " '*NC(COC1OC(COC2OC(CO)C(O)C(O)C2NC(C)=O)C(O)C(O)C1NC(C)=O)C(*)=O',\n",
       " 'O=c1c(OC2OC(CO)C(O)C(O)C2O)c(-c2ccc(O)c(O)c2)oc2cc(O)cc(O)c12',\n",
       " 'CC(C)C(=O)O',\n",
       " 'CCCCCC=CCC=CCC=CCC=CCCCC(=O)NCCOC(=O)CCCCCCCC=CCCCCCCCC',\n",
       " 'O=C1C(O)Oc2ccccc2N1O',\n",
       " 'O=C(O)CCCC=CCC=CC=CC(O)CC=CCCCCCO',\n",
       " 'CC(=O)NC1C(O)OC(CO)C(OC2OC(CO)C(O)C(OC3OC(CO)C(OC4OC(CO)C(O)C(OC5OC(CO)C(OC6OC(CO)C(O)C(OC7(C(=O)O)CC(O)C(NC(C)=O)C(C(O)C(O)CO)O7)C6O)C(OC6OC(C)C(O)C(O)C6O)C5NC(C)=O)C4O)C(O)C3NC(C)=O)C2O)C1O',\n",
       " 'CC(C)=CCCC(C)=CCCC(C)=CCCC(C)=CCCC(C)=CCCC(C)=CCCC(C)=CCCC(C)=CCCC(C)=CCC1=C(C)C(=O)c2ccccc2C1=O',\n",
       " 'NCC(O)c1ccc(O)cc1',\n",
       " 'O=CCO',\n",
       " 'CCCCCCCCC=CCCCCCCCCCCCCCC(=O)NC(CO)C(O)CCCCCCCCCCCCCCC',\n",
       " 'C=C1CCCC2(C)CCC(C(C)(C)O)CC12',\n",
       " 'O=C1OC(COP(=O)(O)O)C(O)C(O)C1O',\n",
       " '*C(=O)CCCCCCC=CC=CC=CCCCCC',\n",
       " 'CC(C)=CCCC(C)=CCCC(C)=CCCC(C)=CCCC(C)=CCCC(C)=CCCC(C)=CCCC(C)=CCCC(C)=CCCC(C)=CCOP(=O)(O)OC1OC(CO)C(O)C1=O',\n",
       " '*OC1C(COP(*)(=O)O)OC(n2ccc(=S)[nH]c2=O)C1O',\n",
       " 'N=C(NCCS(=O)(=O)O)NP(=O)(O)O',\n",
       " 'O=C(O)C=C(CCCC(=O)O)C(=O)O',\n",
       " '*OC1OC(C(=O)O)C(O)C(O)C1O',\n",
       " 'CC=CCCCCC(=O)SCCNC(=O)CCNC(=O)C(O)C(C)(C)COP(=O)(O)OP(=O)(O)OCC1OC(n2cnc3c(N)ncnc32)C(O)C1OP(=O)(O)O',\n",
       " 'NCCCCCNCC(=O)C(O)CO',\n",
       " 'CC(CCC(=O)NCCS(=O)(=O)O)C1CCC2C3CCC4CC(O)CCC4(C)C3CCC12C',\n",
       " 'CC(C)=CCCC(C)=CCCC(C)=CCCC(C)=CCCC(C)=CCCC(C)=CCCC(C)=CCCC(C)CCCC(C)=CCC1=C(C)C(=O)c2ccccc2C1=O',\n",
       " '*NC(C(*)=O)C(C)OC1OC(CO)C(O)C(O)C1NC(C)=O',\n",
       " 'CN1CCC23C4=CCC(=O)C2Oc2c(O)ccc(c23)CC41',\n",
       " 'CCCCCC(O)C=CC=CCC=CC=CC(O)CCCC(=O)O',\n",
       " 'CC(C)=CCCC(C)=CCCC(C)=CCCC(C)=CCc1cc(O)c(C)c(C)c1O',\n",
       " 'COc1cc(OC)c(C(=O)C=Cc2ccc(O)cc2)c(O)c1CC=C(C)C',\n",
       " 'C=C(C)C1CCC(C)(O)OC(=O)C1',\n",
       " 'O=C1C(O)=C(c2ccccc2)C(=O)C(O)=C1c1ccccc1',\n",
       " 'Nc1c(O)cccc1C(=O)O',\n",
       " 'C=C1CCCC2(C)CCC(C(C)C)C(O)C12',\n",
       " '*OC1CC(n2cc(COP(=O)(O)O)c(=O)[nH]c2=O)OC1COP(*)(=O)O',\n",
       " '*OCC(COC(=O)CCCCCCC)O*',\n",
       " 'C=C(C)C1CCC2(C1)C(C)=CCCC2C',\n",
       " '*C(O)C(*)C(*)C(=O)O',\n",
       " 'CC(C=CC1=C(C)CCCC1(C)C)=CC=CC(C)=CCO',\n",
       " '*NC(CC(=O)NC1OC(CO)C(OC2OC(CO)C(OC3OC(COC4OC(CO)C(O)C(O)C4O)C(O)C(OC4OC(CO)C(OC5OC(CO)C(O)C(O)C5NC(C)=O)C(O)C4OC4OC(CO)C(O)C(O)C4NC(C)=O)C3O)C(O)C2NC(C)=O)C(O)C1NC(C)=O)C(*)=O',\n",
       " '*C(=O)C(CO)NC(=O)C(CCSC)NC(C)=O',\n",
       " 'CC(C)CCCC(C)CCCC(C)CCCC(C)CCOCC(COP(=O)(O)OCC(N)C(=O)O)OCCC(C)CCCC(C)CCCC(C)CCCC(C)C',\n",
       " '*C(=O)C(CCCCN)NC(=O)CN',\n",
       " '*C(=O)NC(COC1OC(CO)C(OC2OC(CO)C(O)C(OC3OC(CO)C(OC4OC(CO)C(O)C(O)C4OC4OC(C)C(O)C(O)C4O)C(O)C3NC(C)=O)C2O)C(O)C1O)C(*)O',\n",
       " 'CCCCCCCCCCCCCC(=O)OC1C(O)OC(COP(=O)(O)OP(=O)(O)OCC2OC(n3cnc4c(N)ncnc43)C(O)C2O)C1O',\n",
       " '*NC(CCCCNC(=O)C(C)O)C(*)=O',\n",
       " 'Nc1ccccc1C(=O)O',\n",
       " 'CCC=CCC=CCC=CCC=CCC=CCC=CCCC(=O)OCC(CO)OC(=O)CCC=CCC=CCC=CCC=CCC=CCC=CCC',\n",
       " 'CCCCCCCCC=CCCCCCCCCCCCCCC(N)=O',\n",
       " '*OC1CC(n2cnc3c(NCC(N)=O)ncnc32)OC1COP(*)(=O)O',\n",
       " 'CC(C)CC(NC(=O)C(O)C(O)C(N)CC(N)=O)C1Cc2cccc(O)c2C(=O)O1',\n",
       " 'C=C1CCC2C(C)(C)CCCC2(C)C1CCC(C)=CCO',\n",
       " 'CSCCC(NC(=O)C(CC(C)C)NC(=O)CNC(=O)C(Cc1ccccc1)NC(=O)C(Cc1ccccc1)NC(=O)C(CCC(N)=O)NC(=O)C(CCC(N)=O)NC(=O)C1CCCN1C(=O)C(CCCCN)NC(=O)C1CCCN1C(=O)C(N)CCCNC(=N)N)C(N)=O',\n",
       " 'CCCCCCCCC=CCCCCCCCCCC(=O)NC(CO)C(O)C=CCCCCCCCCCCCCC',\n",
       " 'CC(C)=CCCC(C)=CCCC(C)=CCc1c(O)cc(C)c(C=O)c1O',\n",
       " 'C=C',\n",
       " 'NC(CSC(Cc1c[nH]c2ccccc12)=NO)C(=O)NCC(=O)O',\n",
       " 'CC1CC(O)CC(C)(C)C1=O',\n",
       " 'CCCCCCCCCCCCCCCCCC(=O)OCC(O)COP(=O)(O)OCCN',\n",
       " 'CCCCCC=CCC=CCCCCCCCC(=O)OC(COC(=O)CCCCCCCCCCCCCCCCC)COP(=O)(O)OP(=O)(O)OCC1OC(n2ccc(N)nc2=O)C(O)C1O',\n",
       " 'C[N+]1(C)CCCC1C(=O)O',\n",
       " 'CC1OC(O)C(OC2OC(C(=O)O)=CC(O)C2O)C(O)C1O',\n",
       " 'CC(C)CCCC(C)C1CC=C2C3=C(CCC21C)C1(C)CCC(O)C(C)(C)C1CC3',\n",
       " 'C=C(C(=O)O)C1CC=C(C)CCC=C(C)CC1',\n",
       " 'CC1(C)CCC2(C)CC=C3C(C)(CCC4C3(C)CCC3C(C)(C)C(O)CCC43C)C2C1',\n",
       " 'CCCCCCCCCCCCCCCC(=O)SCCNC(=O)CCNC(=O)C(O)C(C)(C)COP(=O)(O)O',\n",
       " 'CC(=O)C(O)Nc1nc(=O)c2ncn(C3OC(COP(=O)(O)OP(=O)(O)OP(=O)(O)O)C(O)C3O)c2[nH]1',\n",
       " 'COc1c(O)cc(O)c2c(=O)c(O)c(-c3ccc(O)c(O)c3)oc12',\n",
       " 'C=C(C=CC(C)C1CCC2C3=CC=C4CC(O)CCC4(C)C3CCC21C)C(C)C',\n",
       " 'CCC=CCC1C(=O)CCC1CCCCCCCC(=O)O',\n",
       " 'CC(O)(CC(=O)O)CC(=O)O',\n",
       " ...}"
      ]
     },
     "execution_count": 37,
     "metadata": {},
     "output_type": "execute_result"
    }
   ],
   "source": [
    "known_compounds"
   ]
  },
  {
   "cell_type": "code",
   "execution_count": 38,
   "metadata": {},
   "outputs": [
    {
     "name": "stdout",
     "output_type": "stream",
     "text": [
      "Set elements have been saved to '../data/mapping/known_compounds_240310_v2.txt' successfully.\n"
     ]
    }
   ],
   "source": [
    "# Specify the file path where you want to save the set\n",
    "file_path = '../data/mapping/known_compounds_240310_v2.txt'\n",
    "\n",
    "# Open the file in write mode\n",
    "with open(file_path, 'w') as file:\n",
    "    # Iterate over the set\n",
    "    for element in known_compounds:\n",
    "        # Write each element to the file followed by a newline\n",
    "        file.write(element + '\\n')\n",
    "\n",
    "print(f\"Set elements have been saved to '{file_path}' successfully.\")\n"
   ]
  },
  {
   "cell_type": "code",
   "execution_count": 10,
   "metadata": {},
   "outputs": [
    {
     "name": "stderr",
     "output_type": "stream",
     "text": [
      "RDKit ERROR: [09:39:23] Can't kekulize mol.  Unkekulized atoms: 2 4 5 11\n",
      "[09:39:23] Can't kekulize mol.  Unkekulized atoms: 2 4 5 11\n",
      "\n",
      "RDKit ERROR: \n",
      "RDKit ERROR: [09:39:23] Can't kekulize mol.  Unkekulized atoms: 1 5 6 7 8 9\n",
      "RDKit ERROR: \n",
      "[09:39:23] Can't kekulize mol.  Unkekulized atoms: 1 5 6 7 8 9\n",
      "\n",
      "RDKit ERROR: [09:39:23] Can't kekulize mol.  Unkekulized atoms: 1 5 9 10\n",
      "RDKit ERROR: \n",
      "[09:39:23] Can't kekulize mol.  Unkekulized atoms: 1 5 9 10\n",
      "\n",
      "RDKit WARNING: [09:39:23] WARNING: not removing hydrogen atom with dummy atom neighbors\n",
      "[09:39:23] WARNING: not removing hydrogen atom with dummy atom neighbors\n",
      "RDKit WARNING: [09:39:23] WARNING: not removing hydrogen atom with dummy atom neighbors\n",
      "RDKit WARNING: [09:39:23] WARNING: not removing hydrogen atom with dummy atom neighbors\n",
      "[09:39:23] WARNING: not removing hydrogen atom with dummy atom neighbors\n",
      "[09:39:23] WARNING: not removing hydrogen atom with dummy atom neighbors\n",
      "RDKit ERROR: [09:39:23] Can't kekulize mol.  Unkekulized atoms: 28 32 33 34 35 36\n",
      "RDKit ERROR: \n",
      "[09:39:23] Can't kekulize mol.  Unkekulized atoms: 28 32 33 34 35 36\n",
      "\n",
      "RDKit ERROR: [09:39:23] Can't kekulize mol.  Unkekulized atoms: 1 5 6 7 8 9\n",
      "RDKit ERROR: \n",
      "[09:39:23] Can't kekulize mol.  Unkekulized atoms: 1 5 6 7 8 9\n",
      "\n",
      "RDKit ERROR: [09:39:24] Can't kekulize mol.  Unkekulized atoms: 1 5 6 16 17 18\n",
      "RDKit ERROR: \n",
      "[09:39:24] Can't kekulize mol.  Unkekulized atoms: 1 5 6 16 17 18\n",
      "\n",
      "RDKit ERROR: [09:39:24] Can't kekulize mol.  Unkekulized atoms: 1 5 6 10 11 12\n",
      "RDKit ERROR: \n",
      "[09:39:24] Can't kekulize mol.  Unkekulized atoms: 1 5 6 10 11 12\n",
      "\n",
      "RDKit ERROR: [09:39:24] Can't kekulize mol.  Unkekulized atoms: 2 3 4 5 7 12\n",
      "RDKit ERROR: \n",
      "[09:39:24] Can't kekulize mol.  Unkekulized atoms: 2 3 4 5 7 12\n",
      "\n",
      "RDKit ERROR: [09:39:24] Explicit valence for atom # 42 N, 4, is greater than permitted\n",
      "[09:39:24] Explicit valence for atom # 42 N, 4, is greater than permitted\n"
     ]
    }
   ],
   "source": [
    "known_mols = [Chem.MolFromSmiles(smi) for smi in known_compounds]"
   ]
  },
  {
   "cell_type": "code",
   "execution_count": 3,
   "metadata": {},
   "outputs": [
    {
     "data": {
      "image/png": "[encoded data removed]",
      "text/plain": [
       "<rdkit.Chem.rdchem.Mol at 0x7efe9fb59ed0>"
      ]
     },
     "execution_count": 3,
     "metadata": {},
     "output_type": "execute_result"
    }
   ],
   "source": [
    "akg = 'O=C(O)CCC(=O)C(=O)O'\n",
    "m = Chem.MolFromSmiles(akg)\n",
    "\n",
    "# Reaction center only\n",
    "m.__sssAtoms = [1, 2]\n",
    "m.__sssBonds = [0]\n",
    "m"
   ]
  },
  {
   "cell_type": "code",
   "execution_count": 4,
   "metadata": {},
   "outputs": [
    {
     "data": {
      "image/png": "[encoded data removed]",
      "text/plain": [
       "<rdkit.Chem.rdchem.Mol at 0x7efe9fb59ed0>"
      ]
     },
     "execution_count": 4,
     "metadata": {},
     "output_type": "execute_result"
    }
   ],
   "source": [
    "# R=1\n",
    "m.__sssAtoms = [0, 1, 2, 3]\n",
    "m.__sssBonds = [0, 1, 2]\n",
    "m"
   ]
  },
  {
   "cell_type": "code",
   "execution_count": 5,
   "metadata": {},
   "outputs": [
    {
     "data": {
      "image/png": "[encoded data removed]",
      "text/plain": [
       "<rdkit.Chem.rdchem.Mol at 0x7efe9fb59ed0>"
      ]
     },
     "execution_count": 5,
     "metadata": {},
     "output_type": "execute_result"
    }
   ],
   "source": [
    "# R=2\n",
    "m.__sssAtoms = [0, 1, 2, 3, 4]\n",
    "m.__sssBonds = [0, 1, 2, 3]\n",
    "m"
   ]
  },
  {
   "cell_type": "code",
   "execution_count": 22,
   "metadata": {},
   "outputs": [
    {
     "data": {
      "image/png": "[encoded data removed]",
      "text/plain": [
       "<rdkit.Chem.rdchem.Mol at 0x2ad771e12260>"
      ]
     },
     "execution_count": 22,
     "metadata": {},
     "output_type": "execute_result"
    }
   ],
   "source": [
    "# R=3\n",
    "m.__sssAtoms = [0, 1, 2, 3, 4, 5]\n",
    "m"
   ]
  },
  {
   "cell_type": "code",
   "execution_count": 23,
   "metadata": {},
   "outputs": [
    {
     "data": {
      "image/png": "[encoded data removed]",
      "text/plain": [
       "<rdkit.Chem.rdchem.Mol at 0x2ad771e12260>"
      ]
     },
     "execution_count": 23,
     "metadata": {},
     "output_type": "execute_result"
    }
   ],
   "source": [
    "# R=4\n",
    "m.__sssAtoms = [0, 1, 2, 3, 4, 5, 6, 7]\n",
    "m"
   ]
  },
  {
   "cell_type": "code",
   "execution_count": 6,
   "metadata": {},
   "outputs": [],
   "source": [
    "rc_patt = Chem.MolFromSmiles('CO')\n",
    "r1_patt = Chem.MolFromSmiles('O=C(O)C')\n",
    "r2_patt = Chem.MolFromSmiles('O=C(O)CC')\n",
    "rinf_patt = Chem.MolFromSmiles('O=C(O)CCC(=O)C(=O)O')\n",
    "# Count number of molecules matching substructs"
   ]
  },
  {
   "cell_type": "code",
   "execution_count": 7,
   "metadata": {},
   "outputs": [
    {
     "data": {
      "image/png": "[encoded data removed]",
      "text/plain": [
       "<rdkit.Chem.rdchem.Mol at 0x7efe9fb59ed0>"
      ]
     },
     "execution_count": 7,
     "metadata": {},
     "output_type": "execute_result"
    }
   ],
   "source": [
    "m.GetSubstructMatch(rinf_patt)\n",
    "m"
   ]
  },
  {
   "cell_type": "code",
   "execution_count": 61,
   "metadata": {},
   "outputs": [],
   "source": [
    "match_cts = []\n",
    "for ss in (rc_patt, r1_patt, r2_patt, rinf_patt):\n",
    "    ss_match = set() \n",
    "    for mol in known_mols:\n",
    "        if mol:\n",
    "            if mol.GetSubstructMatches(ss):\n",
    "                ss_match.add(Chem.CanonSmiles(Chem.MolToSmiles(mol)))\n",
    "        \n",
    "    match_cts.append(len(ss_match))"
   ]
  },
  {
   "cell_type": "code",
   "execution_count": 62,
   "metadata": {},
   "outputs": [
    {
     "data": {
      "text/plain": [
       "[7759, 3807, 3250, 8]"
      ]
     },
     "execution_count": 62,
     "metadata": {},
     "output_type": "execute_result"
    }
   ],
   "source": [
    "match_cts"
   ]
  },
  {
   "cell_type": "code",
   "execution_count": 63,
   "metadata": {},
   "outputs": [
    {
     "data": {
      "text/plain": [
       "{'CC(O)(CC(=O)C(=O)O)C(=O)O',\n",
       " 'NC1C=CC(CC(=O)C(=O)O)(C(=O)O)C=C1',\n",
       " 'O=C(O)C(=O)CC(O)C(=O)O',\n",
       " 'O=C(O)C(=O)CC1(C(=O)O)C=CC(O)C=C1',\n",
       " 'O=C(O)C=C(CC(=O)C(=O)O)C(=O)O',\n",
       " 'O=C(O)CC(C(=O)O)C(=O)C(=O)O',\n",
       " 'O=C(O)CC(O)(CC(=O)C(=O)O)C(=O)O',\n",
       " 'O=C(O)CCC(=O)C(=O)O'}"
      ]
     },
     "execution_count": 63,
     "metadata": {},
     "output_type": "execute_result"
    }
   ],
   "source": [
    "ss_match"
   ]
  },
  {
   "cell_type": "code",
   "execution_count": 66,
   "metadata": {},
   "outputs": [
    {
     "data": {
      "image/png": "[encoded data removed]",
      "text/plain": [
       "<rdkit.Chem.rdchem.Mol at 0x2ad7721b0170>"
      ]
     },
     "execution_count": 66,
     "metadata": {},
     "output_type": "execute_result"
    }
   ],
   "source": [
    "Chem.MolFromSmiles('O=C(O)C(=O)CC(O)C(=O)O')"
   ]
  },
  {
   "cell_type": "code",
   "execution_count": 69,
   "metadata": {},
   "outputs": [
    {
     "data": {
      "image/png": "[encoded data removed]",
      "text/plain": [
       "<rdkit.Chem.rdchem.Mol at 0x2ad772089120>"
      ]
     },
     "execution_count": 69,
     "metadata": {},
     "output_type": "execute_result"
    }
   ],
   "source": [
    "glutamate = 'C(CC(=O)O)C(C(=O)O)N'\n",
    "IPythonConsole.drawOptions.addAtomIndices=False\n",
    "Chem.MolFromSmiles(glutamate)"
   ]
  },
  {
   "cell_type": "code",
   "execution_count": 75,
   "metadata": {},
   "outputs": [
    {
     "data": {
      "image/png": "[encoded data removed]",
      "text/plain": [
       "<rdkit.Chem.rdchem.Mol at 0x2ad7721bf2b0>"
      ]
     },
     "execution_count": 75,
     "metadata": {},
     "output_type": "execute_result"
    }
   ],
   "source": [
    "butyric_acid = \"CCCC(O)=O\"\n",
    "oxobutyric_acid = \"CCC(=O)C(O)=O\"\n",
    "benzoic_acid = \"C1=CC=C(C=C1)C(=O)O\"\n",
    "\n",
    "Chem.MolFromSmiles(butyric_acid)"
   ]
  },
  {
   "cell_type": "code",
   "execution_count": 73,
   "metadata": {},
   "outputs": [
    {
     "data": {
      "image/png": "[encoded data removed]",
      "text/plain": [
       "<rdkit.Chem.rdchem.Mol at 0x2ad771d08170>"
      ]
     },
     "execution_count": 73,
     "metadata": {},
     "output_type": "execute_result"
    }
   ],
   "source": [
    "Chem.MolFromSmiles(oxobutyric_acid)"
   ]
  },
  {
   "cell_type": "code",
   "execution_count": 76,
   "metadata": {},
   "outputs": [
    {
     "data": {
      "image/png": "[encoded data removed]",
      "text/plain": [
       "<rdkit.Chem.rdchem.Mol at 0x2ad771fc1c10>"
      ]
     },
     "execution_count": 76,
     "metadata": {},
     "output_type": "execute_result"
    }
   ],
   "source": [
    "Chem.MolFromSmiles(benzoic_acid)"
   ]
  },
  {
   "cell_type": "code",
   "execution_count": 1,
   "metadata": {},
   "outputs": [],
   "source": [
    "'''\n",
    "Get representative examples from akg -> hopa 2 step to illustrate rcmcs\n",
    "'''\n",
    "import pickle\n",
    "import pandas as pd\n",
    "from src.rxn_ctr_mcs import *\n",
    "\n",
    "# Params\n",
    "starters = 'alpha_ketoglutarate'\n",
    "targets = 'hopa'\n",
    "generations = 2\n",
    "ts = 0\n",
    "\n",
    "expansion_dir = '../data/processed_expansions/'\n",
    "fn = f\"{starters}_to_{targets}_gen_{generations}_tan_sample_{ts}_n_samples_1000.pkl\" # Expansion file name\n",
    "\n",
    "# Load rules\n",
    "min_rules = pd.read_csv(\"../data/rules/minimal1224_all_uniprot.tsv\", sep='\\t')\n",
    "min_rules.set_index(\"Name\", inplace=True)\n",
    "\n",
    "# Load processed expansions\n",
    "with open(expansion_dir + fn, 'rb') as f:\n",
    "    pe = pickle.load(f)"
   ]
  },
  {
   "cell_type": "code",
   "execution_count": 2,
   "metadata": {},
   "outputs": [],
   "source": [
    "enzyme_validation_threshold = 1.0\n",
    "sort_by = ['prc_mcs']\n",
    "filter_by = {'mdf':0, 'enzyme_validation':enzyme_validation_threshold}\n",
    "path_ids = [15, 5, 1]\n",
    "\n",
    "paths = pe.get_paths_w_id(path_ids,\n",
    "                sort_by=sort_by,\n",
    "                filter_by=filter_by,\n",
    "                reduce_predicted_reactions='min'\n",
    "                )"
   ]
  },
  {
   "cell_type": "code",
   "execution_count": 3,
   "metadata": {},
   "outputs": [],
   "source": [
    "rxn_idxs = [1, 0, 0]\n",
    "paths = pe.get_paths_w_id(path_ids)\n",
    "prids = []\n",
    "for path, rxn_idx in zip(paths, rxn_idxs):\n",
    "    prid = path.reaction_ids[rxn_idx]\n",
    "    # kr_id = pe.predicted_reactions[pr_id].top_analogue()['analogue'].id\n",
    "    prids.append(prid)"
   ]
  },
  {
   "cell_type": "code",
   "execution_count": 41,
   "metadata": {},
   "outputs": [],
   "source": [
    "def get_rc_mcs_atoms(\n",
    "        rxns,\n",
    "        rc_atoms,\n",
    "        min_rule,\n",
    "        norm='max atoms'\n",
    "        ):\n",
    "    '''\n",
    "    Args\n",
    "    ----\n",
    "    rxns:List[str] - SMARTS of two reactant-aligned reactions \n",
    "    rc_atoms:List[Tuple[tuple]] - Idxs of reactant center atoms for each substrate\n",
    "    min_rule:str - Min operator template shared btwn reactions\n",
    "    norm:str - Normalization to get an index out of\n",
    "        prcmcs. 'min atoms' normalizes by smaller\n",
    "        of the two substrates, 'max atoms' by the larger\n",
    "    Returns\n",
    "    -------\n",
    "    rc_mcs:List[float] - rc_mcs values per aligned substrate pair\n",
    "    '''\n",
    "    rxns = [AllChem.ReactionFromSmarts(sma, useSmiles=True) for sma in rxns]\n",
    "    patts = get_lhs_patts_from_operator(min_rule)\n",
    "    rc_fragments = [Chem.MolFromSmarts(patt) for patt in patts]\n",
    "\n",
    "    # Set isotopes to customise FindMCS w/ atom map #\n",
    "    for i, rxn in enumerate(rxns):\n",
    "        for j, sub in enumerate(rxn.GetReactants()):\n",
    "            for atom in sub.GetAtoms():\n",
    "                atom_idx = atom.GetIdx()\n",
    "                if atom_idx in rc_atoms[i][j]:\n",
    "                    atom.SetIsotope(atom.GetAtomMapNum() * atom.GetAtomicNum() * 99) # Rxn ctr atom\n",
    "                else:\n",
    "                    atom.SetIsotope(atom.GetAtomicNum()) # Non rxn ctr atom\n",
    "\n",
    "    # Set isotopes for 1st rxn's rxn ctrs same as rc within substrates\n",
    "    for elt in rc_fragments:\n",
    "        for atom in elt.GetAtoms():\n",
    "            atom.SetIsotope(atom.GetAtomMapNum() * atom.GetAtomicNum() * 99)\n",
    "\n",
    "    # Get prc mcs\n",
    "    output = []\n",
    "    for i in range(rxns[0].GetNumReactantTemplates()):\n",
    "        subs = [rxns[0].GetReactantTemplate(i), rxns[1].GetReactantTemplate(i)]\n",
    "\n",
    "        for elt in subs:\n",
    "            Chem.SanitizeMol(elt)\n",
    "        \n",
    "        frag = rc_fragments[i] # Rxn ctr from rxn1 has right atom map # for FindMCS seed\n",
    "\n",
    "        res = rdFMCS.FindMCS(subs, seedSmarts=Chem.MolToSmarts(frag),\n",
    "                                atomCompare=rdFMCS.AtomCompare.CompareIsotopes,\n",
    "                                bondCompare=rdFMCS.BondCompare.CompareOrderExact,\n",
    "                                matchChiralTag=False,\n",
    "                                ringMatchesRingOnly=True,\n",
    "                                completeRingsOnly=True,\n",
    "                                matchValences=True,\n",
    "                                timeout=10\n",
    "                            )\n",
    "        \n",
    "        val = res.numAtoms / max(subs[0].GetNumAtoms(), subs[1].GetNumAtoms())\n",
    "        \n",
    "        output.append([Chem.MolToSmiles(subs[0]), Chem.MolToSmiles(subs[1]), res.smartsString, val])\n",
    "    return output"
   ]
  },
  {
   "cell_type": "code",
   "execution_count": 42,
   "metadata": {},
   "outputs": [],
   "source": [
    "output = []\n",
    "for prid in prids:\n",
    "    pr = pe.predicted_reactions[prid]\n",
    "    pr_smarts = pr.smarts\n",
    "    imt_rule = pr.imt_rules[0]\n",
    "    min_rule_name = imt_rule.split('_')[0]\n",
    "    min_rule = min_rules.loc[min_rule_name, 'SMARTS']\n",
    "    pr_rc, pr_smarts_perm = get_pred_rxn_ctr(pr_smarts, min_rule)\n",
    "    kr = pe.predicted_reactions[prid].top_analogue()['analogue']\n",
    "    kr_smarts, kr_rc = kr.smarts, kr.rcs[0]\n",
    "    perm_idx = align_reactants(\n",
    "                    known_reaction_smarts=kr_smarts,\n",
    "                    known_reaction_rc=kr_rc,\n",
    "                    min_rule=min_rule\n",
    "                    )\n",
    "    # Permute to align KR smarts and rc w/ op template\n",
    "    kr_rcts = kr_smarts.split('>>')[0].split('.')\n",
    "    kr_rcts_perm = permute_by_idxs(kr_rcts, perm_idx)\n",
    "    kr_smarts_perm = \".\".join(kr_rcts_perm) + '>>' + kr_smarts.split('>>')[1]\n",
    "    kr_rc_perm = permute_by_idxs(kr_rc, perm_idx)\n",
    "\n",
    "    # Compute rc-mcs values\n",
    "    rxns = [pr_smarts_perm, kr_smarts_perm]\n",
    "    rc_atoms = [pr_rc, kr_rc_perm]\n",
    "    res = get_rc_mcs_atoms(\n",
    "                    rxns,\n",
    "                    rc_atoms,\n",
    "                    min_rule,\n",
    "                    )\n",
    "    \n",
    "    output.append(res)\n"
   ]
  },
  {
   "cell_type": "code",
   "execution_count": 21,
   "metadata": {},
   "outputs": [
    {
     "data": {
      "text/plain": [
       "['OC(=[8O])[6CH2][6CH2][6C](=[8O])[6C](=[8O])[8OH]',\n",
       " '[6CH3][6CH2][6CH2][6CH2][6CH2][6CH2][6CH2][6CH2][6CH2][6CH2][6CH2][6CH2][6CH2][6CH2][6CH2]C(O)=[8O]',\n",
       " '[0*&!R](-&!@[0*&!R])(=&!@[8*&!R])-&!@[6*&!R]-&!@[6*&!R]-&!@[6*&!R]-&!@[6*&!R]']"
      ]
     },
     "execution_count": 21,
     "metadata": {},
     "output_type": "execute_result"
    }
   ],
   "source": [
    "sidxs = [1, 2, 1]\n",
    "\n",
    "\n"
   ]
  },
  {
   "cell_type": "code",
   "execution_count": 43,
   "metadata": {},
   "outputs": [
    {
     "name": "stdout",
     "output_type": "stream",
     "text": [
      "0.6363636363636364\n"
     ]
    },
    {
     "data": {
      "image/png": "[encoded data removed]",
      "text/plain": [
       "<rdkit.Chem.rdchem.Mol at 0x7fcc5c6ab3f0>"
      ]
     },
     "execution_count": 43,
     "metadata": {},
     "output_type": "execute_result"
    }
   ],
   "source": [
    "row = output[0][1]\n",
    "mol1 = Chem.MolFromSmiles(row[0])\n",
    "mol2 = Chem.MolFromSmiles(row[1])\n",
    "\n",
    "for mol in [mol1, mol2]:\n",
    "    mol.GetSubstructMatch(Chem.MolFromSmarts(row[2]))\n",
    "\n",
    "for mol in [mol1, mol2]:\n",
    "    for a in mol.GetAtoms():\n",
    "        a.SetIsotope(0)\n",
    "\n",
    "print(row[-1])\n",
    "\n",
    "mol1"
   ]
  },
  {
   "cell_type": "code",
   "execution_count": 38,
   "metadata": {},
   "outputs": [
    {
     "data": {
      "image/png": "[encoded data removed]",
      "text/plain": [
       "<rdkit.Chem.rdchem.Mol at 0x7fcc5c6a9e70>"
      ]
     },
     "execution_count": 38,
     "metadata": {},
     "output_type": "execute_result"
    }
   ],
   "source": [
    "mol2"
   ]
  },
  {
   "cell_type": "code",
   "execution_count": 45,
   "metadata": {},
   "outputs": [
    {
     "name": "stdout",
     "output_type": "stream",
     "text": [
      "0.45454545454545453\n"
     ]
    },
    {
     "data": {
      "image/png": "[encoded data removed]",
      "text/plain": [
       "<rdkit.Chem.rdchem.Mol at 0x7fcc5c6a9ed0>"
      ]
     },
     "execution_count": 45,
     "metadata": {},
     "output_type": "execute_result"
    }
   ],
   "source": [
    "row = output[1][2]\n",
    "mol1 = Chem.MolFromSmiles(row[0])\n",
    "mol2 = Chem.MolFromSmiles(row[1])\n",
    "\n",
    "for mol in [mol1, mol2]:\n",
    "    mol.GetSubstructMatch(Chem.MolFromSmarts(row[2]))\n",
    "\n",
    "for mol in [mol1, mol2]:\n",
    "    for a in mol.GetAtoms():\n",
    "        a.SetIsotope(0)\n",
    "\n",
    "print(row[-1])\n",
    "\n",
    "mol1"
   ]
  },
  {
   "cell_type": "code",
   "execution_count": 46,
   "metadata": {},
   "outputs": [
    {
     "data": {
      "image/png": "[encoded data removed]",
      "text/plain": [
       "<rdkit.Chem.rdchem.Mol at 0x7fcc5c6a99f0>"
      ]
     },
     "execution_count": 46,
     "metadata": {},
     "output_type": "execute_result"
    }
   ],
   "source": [
    "mol2"
   ]
  },
  {
   "cell_type": "code",
   "execution_count": 47,
   "metadata": {},
   "outputs": [
    {
     "name": "stdout",
     "output_type": "stream",
     "text": [
      "0.3888888888888889\n"
     ]
    },
    {
     "data": {
      "image/png": "[encoded data removed]",
      "text/plain": [
       "<rdkit.Chem.rdchem.Mol at 0x7fcc5c6c9390>"
      ]
     },
     "execution_count": 47,
     "metadata": {},
     "output_type": "execute_result"
    }
   ],
   "source": [
    "row = output[2][1]\n",
    "mol1 = Chem.MolFromSmiles(row[0])\n",
    "mol2 = Chem.MolFromSmiles(row[1])\n",
    "\n",
    "for mol in [mol1, mol2]:\n",
    "    mol.GetSubstructMatch(Chem.MolFromSmarts(row[2]))\n",
    "\n",
    "for mol in [mol1, mol2]:\n",
    "    for a in mol.GetAtoms():\n",
    "        a.SetIsotope(0)\n",
    "\n",
    "print(row[-1])\n",
    "\n",
    "mol1"
   ]
  },
  {
   "cell_type": "code",
   "execution_count": 48,
   "metadata": {},
   "outputs": [
    {
     "data": {
      "image/png": "[encoded data removed]",
      "text/plain": [
       "<rdkit.Chem.rdchem.Mol at 0x7fcc5c6c9450>"
      ]
     },
     "execution_count": 48,
     "metadata": {},
     "output_type": "execute_result"
    }
   ],
   "source": [
    "mol2"
   ]
  },
  {
   "cell_type": "code",
   "execution_count": 52,
   "metadata": {},
   "outputs": [
    {
     "data": {
      "text/plain": [
       "0.3888888888888889"
      ]
     },
     "execution_count": 52,
     "metadata": {},
     "output_type": "execute_result"
    }
   ],
   "source": [
    "7/18"
   ]
  },
  {
   "cell_type": "code",
   "execution_count": 31,
   "metadata": {},
   "outputs": [
    {
     "data": {
      "image/png": "[encoded data removed]",
      "text/plain": [
       "<rdkit.Chem.rdchem.Mol at 0x7f2373685c90>"
      ]
     },
     "execution_count": 31,
     "metadata": {},
     "output_type": "execute_result"
    }
   ],
   "source": [
    "akg_smi = 'O=C(O)CCC(=O)C(=O)O'\n",
    "semi_smi = 'O=CCCC(=O)C(=O)O'\n",
    "alc = '[#6:0]-[#8:1]'\n",
    "akg = Chem.MolFromSmiles(akg_smi)\n",
    "semi = Chem.MolFromSmiles(semi_smi)\n",
    "akg.GetSubstructMatch(Chem.MolFromSmarts(alc))\n",
    "akg"
   ]
  },
  {
   "cell_type": "code",
   "execution_count": 21,
   "metadata": {},
   "outputs": [
    {
     "data": {
      "image/png": "[encoded data removed]",
      "text/plain": [
       "<PIL.PngImagePlugin.PngImageFile image mode=RGB size=350x400>"
      ]
     },
     "execution_count": 21,
     "metadata": {},
     "output_type": "execute_result"
    }
   ],
   "source": [
    "mol = Chem.MolFromSmiles('CC1=CC(=CC=C1)NC(=O)CCC2=CC=CC=C2')\n",
    "colors = [(0.0, 0.0, 1.0, 0.1), (1.0, 0.0, 0.0, 0.2)]\n",
    "\n",
    "athighlights = defaultdict(list)\n",
    "arads = {}\n",
    "for a in mol.GetAtoms():\n",
    "    if a.GetIsAromatic():\n",
    "        aid = a.GetIdx()\n",
    "        athighlights[aid].append(colors[0])\n",
    "        arads[aid] = 0.3\n",
    "    else:\n",
    "        aid = a.GetIdx()\n",
    "        athighlights[aid].append(colors[1])\n",
    "        arads[aid] = 0.3\n",
    "\n",
    "# bndhighlights = defaultdict(list)\n",
    "# for bond in mol.GetBonds():\n",
    "#     aid1 = bond.GetBeginAtomIdx()\n",
    "#     aid2 = bond.GetEndAtomIdx()\n",
    "\n",
    "    if bond.GetIsAromatic():\n",
    "        bid = mol.GetBondBetweenAtoms(aid1,aid2).GetIdx()\n",
    "        bndhighlights[bid].append(colors[0])\n",
    "    else:\n",
    "        bid = mol.GetBondBetweenAtoms(aid1,aid2).GetIdx()\n",
    "        bndhighlights[bid].append(colors[1])\n",
    "\n",
    "d2d = rdMolDraw2D.MolDraw2DCairo(350,400)\n",
    "d2d.DrawMoleculeWithHighlights(\n",
    "    mol,\n",
    "    \"\",\n",
    "    dict(athighlights),\n",
    "    dict(bndhighlights),\n",
    "    arads,\n",
    "    {}\n",
    "    )\n",
    "d2d.FinishDrawing()\n",
    "bio = io.BytesIO(d2d.GetDrawingText())\n",
    "Image.open(bio)"
   ]
  },
  {
   "cell_type": "code",
   "execution_count": 27,
   "metadata": {},
   "outputs": [
    {
     "data": {
      "image/png": "[encoded data removed]",
      "text/plain": [
       "<PIL.PngImagePlugin.PngImageFile image mode=RGB size=350x400>"
      ]
     },
     "execution_count": 27,
     "metadata": {},
     "output_type": "execute_result"
    }
   ],
   "source": [
    "ah = {1:[(0.0, 0.0, 1.0, 0.5)]}\n",
    "d2d = rdMolDraw2D.MolDraw2DCairo(350,400)\n",
    "d2d.DrawMoleculeWithHighlights(\n",
    "    semi,\n",
    "    \"\",\n",
    "    ah,\n",
    "    {},\n",
    "    {i:0.3 for i in range(semi.GetNumAtoms())},\n",
    "    {}\n",
    "    )\n",
    "d2d.FinishDrawing()\n",
    "bio = io.BytesIO(d2d.GetDrawingText())\n",
    "Image.open(bio)"
   ]
  },
  {
   "cell_type": "code",
   "execution_count": 29,
   "metadata": {},
   "outputs": [
    {
     "data": {
      "image/png": "[encoded data removed]",
      "text/plain": [
       "<PIL.PngImagePlugin.PngImageFile image mode=RGB size=350x400>"
      ]
     },
     "execution_count": 29,
     "metadata": {},
     "output_type": "execute_result"
    }
   ],
   "source": [
    "water = Chem.MolFromSmiles('O')\n",
    "mol = water\n",
    "ah = {0:[(0.0, 1.0, 0.0, 0.5)]}\n",
    "d2d = rdMolDraw2D.MolDraw2DCairo(350,400)\n",
    "d2d.DrawMoleculeWithHighlights(\n",
    "    mol,\n",
    "    \"\",\n",
    "    ah,\n",
    "    {},\n",
    "    {i:0.3 for i in range(mol.GetNumAtoms())},\n",
    "    {}\n",
    "    )\n",
    "d2d.FinishDrawing()\n",
    "bio = io.BytesIO(d2d.GetDrawingText())\n",
    "Image.open(bio)"
   ]
  },
  {
   "cell_type": "code",
   "execution_count": 17,
   "metadata": {},
   "outputs": [
    {
     "data": {
      "text/plain": [
       "{0: [(1.0, 0.0, 0.0, 0.2)],\n",
       " 1: [(0.0, 0.0, 1.0, 0.1)],\n",
       " 2: [(0.0, 0.0, 1.0, 0.1)],\n",
       " 3: [(0.0, 0.0, 1.0, 0.1)],\n",
       " 4: [(0.0, 0.0, 1.0, 0.1)],\n",
       " 5: [(0.0, 0.0, 1.0, 0.1)],\n",
       " 6: [(0.0, 0.0, 1.0, 0.1)],\n",
       " 7: [(1.0, 0.0, 0.0, 0.2)],\n",
       " 8: [(1.0, 0.0, 0.0, 0.2)],\n",
       " 9: [(1.0, 0.0, 0.0, 0.2)],\n",
       " 10: [(1.0, 0.0, 0.0, 0.2)],\n",
       " 11: [(1.0, 0.0, 0.0, 0.2)],\n",
       " 12: [(0.0, 0.0, 1.0, 0.1)],\n",
       " 13: [(0.0, 0.0, 1.0, 0.1)],\n",
       " 14: [(0.0, 0.0, 1.0, 0.1)],\n",
       " 15: [(0.0, 0.0, 1.0, 0.1)],\n",
       " 16: [(0.0, 0.0, 1.0, 0.1)],\n",
       " 17: [(0.0, 0.0, 1.0, 0.1)]}"
      ]
     },
     "execution_count": 17,
     "metadata": {},
     "output_type": "execute_result"
    }
   ],
   "source": [
    "dict(athighlights)"
   ]
  },
  {
   "cell_type": "code",
   "execution_count": 28,
   "metadata": {},
   "outputs": [],
   "source": [
    "'''\n",
    "Next target mols for bottle\n",
    "'''\n",
    "\n",
    "mvacid = 'C=C(CCCO)C(=O)O'\n",
    "dmmha = 'OC(C)C(C)(C)C(=O)O'\n",
    "hopa = 'O=C(O)C(=O)CCCO'\n",
    "dpha = 'C(C(C(=O)O)(CCC)CCC)(C)O'\n",
    "mvl = 'C=C1CCCOC1=O'"
   ]
  },
  {
   "cell_type": "code",
   "execution_count": 22,
   "metadata": {},
   "outputs": [
    {
     "data": {
      "image/png": "[encoded data removed]",
      "text/plain": [
       "<rdkit.Chem.rdchem.Mol at 0x7f9e3851cf30>"
      ]
     },
     "execution_count": 22,
     "metadata": {},
     "output_type": "execute_result"
    }
   ],
   "source": [
    "Chem.MolFromSmiles(dmmha)"
   ]
  },
  {
   "cell_type": "code",
   "execution_count": 23,
   "metadata": {},
   "outputs": [
    {
     "data": {
      "image/png": "[encoded data removed]",
      "text/plain": [
       "<rdkit.Chem.rdchem.Mol at 0x7f9e38523390>"
      ]
     },
     "execution_count": 23,
     "metadata": {},
     "output_type": "execute_result"
    }
   ],
   "source": [
    "Chem.MolFromSmiles(mvacid)"
   ]
  },
  {
   "cell_type": "code",
   "execution_count": 24,
   "metadata": {},
   "outputs": [
    {
     "data": {
      "image/png": "[encoded data removed]",
      "text/plain": [
       "<rdkit.Chem.rdchem.Mol at 0x7f9e38523570>"
      ]
     },
     "execution_count": 24,
     "metadata": {},
     "output_type": "execute_result"
    }
   ],
   "source": [
    "Chem.MolFromSmiles(hopa)"
   ]
  },
  {
   "cell_type": "code",
   "execution_count": 27,
   "metadata": {},
   "outputs": [
    {
     "data": {
      "image/png": "[encoded data removed]",
      "text/plain": [
       "<rdkit.Chem.rdchem.Mol at 0x7f9e384aab10>"
      ]
     },
     "execution_count": 27,
     "metadata": {},
     "output_type": "execute_result"
    }
   ],
   "source": [
    "Chem.MolFromSmiles(dpha)"
   ]
  },
  {
   "cell_type": "code",
   "execution_count": 29,
   "metadata": {},
   "outputs": [
    {
     "data": {
      "image/png": "[encoded data removed]",
      "text/plain": [
       "<rdkit.Chem.rdchem.Mol at 0x7f9e384aa0f0>"
      ]
     },
     "execution_count": 29,
     "metadata": {},
     "output_type": "execute_result"
    }
   ],
   "source": [
    "Chem.MolFromSmiles(mvl)"
   ]
  },
  {
   "cell_type": "code",
   "execution_count": 28,
   "metadata": {},
   "outputs": [
    {
     "data": {
      "image/png": "[encoded data removed]",
      "text/plain": [
       "<rdkit.Chem.rdchem.Mol at 0x7ff9d0c3d930>"
      ]
     },
     "execution_count": 28,
     "metadata": {},
     "output_type": "execute_result"
    }
   ],
   "source": [
    "pos = 'CC(N)C(O)C(O)=O'\n",
    "neg1 = 'C(=O)(O)CC(O)C(O)=O'\n",
    "neg2 = 'OCCCCO'\n",
    "neg3 = 'CCCCCCCCC(N)C(O)C(O)=O'\n",
    "neg4 = 'CCCC'\n"
   ]
  },
  {
   "cell_type": "code",
   "execution_count": 29,
   "metadata": {},
   "outputs": [
    {
     "data": {
      "image/png": "[encoded data removed]",
      "text/plain": [
       "<rdkit.Chem.rdchem.Mol at 0x7ff9d0bc3390>"
      ]
     },
     "execution_count": 29,
     "metadata": {},
     "output_type": "execute_result"
    }
   ],
   "source": [
    "import src\n",
    "krs = src.utils.load_json(know)"
   ]
  },
  {
   "cell_type": "code",
   "execution_count": null,
   "metadata": {},
   "outputs": [],
   "source": []
  }
 ],
 "metadata": {
  "kernelspec": {
   "display_name": "mine",
   "language": "python",
   "name": "python3"
  },
  "language_info": {
   "codemirror_mode": {
    "name": "ipython",
    "version": 3
   },
   "file_extension": ".py",
   "mimetype": "text/x-python",
   "name": "python",
   "nbconvert_exporter": "python",
   "pygments_lexer": "ipython3",
   "version": "3.7.12"
  }
 },
 "nbformat": 4,
 "nbformat_minor": 2
}
