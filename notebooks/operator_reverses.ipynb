{
 "cells": [
  {
   "cell_type": "code",
   "execution_count": 22,
   "metadata": {},
   "outputs": [],
   "source": [
    "from src.utils import load_json, save_json\n",
    "from src.config import filepaths\n",
    "from collections import defaultdict"
   ]
  },
  {
   "cell_type": "code",
   "execution_count": null,
   "metadata": {},
   "outputs": [],
   "source": [
    "krs = load_json(filepaths['data'] / \"sprhea\" / \"sprhea_240310_v3_mapped_no_subunits.json\")\n",
    "krs = {int(k): v for k, v in krs.items()}"
   ]
  },
  {
   "cell_type": "code",
   "execution_count": null,
   "metadata": {},
   "outputs": [],
   "source": [
    "rev_pairs = defaultdict(set)\n",
    "for k, v in krs.items():\n",
    "    imt_rules = v['imt_rules']\n",
    "    imt_rev = krs[v['reverse']]['imt_rules']\n",
    "    if imt_rules:\n",
    "        for f in imt_rules:\n",
    "            if imt_rev:\n",
    "                for r in imt_rev:\n",
    "                    rev_pairs[f].add(r)\n",
    "                \n",
    "            else:\n",
    "                rev_pairs[f] = set()\n",
    "\n",
    "rev_pairs = {k: list(v) for k, v in rev_pairs.items()}"
   ]
  },
  {
   "cell_type": "code",
   "execution_count": 27,
   "metadata": {},
   "outputs": [],
   "source": [
    "save_json(rev_pairs, filepaths['rules'] / 'jnimt_reverses.json')"
   ]
  },
  {
   "cell_type": "code",
   "execution_count": 28,
   "metadata": {},
   "outputs": [
    {
     "name": "stdout",
     "output_type": "stream",
     "text": [
      "No reverses found:  215\n",
      "1-to-1 reverse found:  1346\n",
      "Total # imt rules mapped to sprhea v3:  2162\n"
     ]
    }
   ],
   "source": [
    "print(\"No reverses found: \", len([k for k, v in rev_pairs.items() if len(v) == 0])),\n",
    "print(\"1-to-1 reverse found: \", len([k for k, v in rev_pairs.items() if len(v) == 1]))\n",
    "print(\"Total # imt rules mapped to sprhea v3: \", len(rev_pairs))"
   ]
  }
 ],
 "metadata": {
  "kernelspec": {
   "display_name": "bottle-bcOlvnza-py3.12",
   "language": "python",
   "name": "python3"
  },
  "language_info": {
   "codemirror_mode": {
    "name": "ipython",
    "version": 3
   },
   "file_extension": ".py",
   "mimetype": "text/x-python",
   "name": "python",
   "nbconvert_exporter": "python",
   "pygments_lexer": "ipython3",
   "version": "3.12.7"
  }
 },
 "nbformat": 4,
 "nbformat_minor": 2
}
