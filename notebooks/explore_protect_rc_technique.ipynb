{
 "cells": [
  {
   "cell_type": "code",
   "execution_count": 1,
   "metadata": {},
   "outputs": [
    {
     "name": "stdout",
     "output_type": "stream",
     "text": [
      "2023.03.2\n"
     ]
    }
   ],
   "source": [
    "import os\n",
    "from rdkit import Chem\n",
    "from rdkit.Chem import AllChem, Draw\n",
    "import rdkit\n",
    "print(rdkit.__version__)\n",
    "\n",
    "from src.utils import save_json, get_compound_hash, get_reaction_hash, postsanitize_smiles, neutralise_charges, smarts_to_sub_smiles, sub_smiles_to_smarts\n",
    "from src.post_processing import Enzyme, DatabaseEntry\n",
    "from collections import Counter, defaultdict\n",
    "import json\n",
    "import pandas as pd\n",
    "import csv\n",
    "\n",
    "def sanitize(reactants, products):\n",
    "    return postsanitize_smiles(reactants)[0], postsanitize_smiles(products)[0]\n",
    "\n",
    "def neutralize(reactants, products):\n",
    "    reactants = [Chem.MolToSmiles(neutralise_charges(Chem.MolFromSmiles(elt, sanitize=False))) for elt in reactants]\n",
    "    products = [Chem.MolToSmiles(neutralise_charges(Chem.MolFromSmiles(elt, sanitize=False))) for elt in products]\n",
    "    return reactants, products\n",
    "\n",
    "def get_rhash(reactants, products):\n",
    "    reactants_hash_stoich = list(Counter([get_compound_hash(elt)[0] for elt in reactants]).items())\n",
    "    products_hash_stoich = list(Counter([get_compound_hash(elt)[0] for elt in products]).items())\n",
    "    rhash = get_reaction_hash(reactants_hash_stoich, products_hash_stoich)\n",
    "    return rhash"
   ]
  },
  {
   "cell_type": "code",
   "execution_count": 64,
   "metadata": {},
   "outputs": [],
   "source": [
    "# Load known reactions\n",
    "with open(\"../data/mapping/known_rxns_swissprot_enzymes_240310.json\", 'r') as f:\n",
    "    known_rxns = json.load(f)"
   ]
  },
  {
   "cell_type": "code",
   "execution_count": 68,
   "metadata": {},
   "outputs": [],
   "source": [
    "# Load min rule mappings\n",
    "\n",
    "min_mappings = {}\n",
    "with open(\"../data/mapping/mapping_swissprot_min_rules_enforce_cof.csv\", 'r') as f:\n",
    "    r = csv.reader(f)\n",
    "\n",
    "    for line in r:\n",
    "        min_mappings[line[0]] = tuple(line[1:])\n",
    "\n"
   ]
  },
  {
   "cell_type": "code",
   "execution_count": 73,
   "metadata": {},
   "outputs": [
    {
     "data": {
      "text/html": [
       "<div>\n",
       "<style scoped>\n",
       "    .dataframe tbody tr th:only-of-type {\n",
       "        vertical-align: middle;\n",
       "    }\n",
       "\n",
       "    .dataframe tbody tr th {\n",
       "        vertical-align: top;\n",
       "    }\n",
       "\n",
       "    .dataframe thead th {\n",
       "        text-align: right;\n",
       "    }\n",
       "</style>\n",
       "<table border=\"1\" class=\"dataframe\">\n",
       "  <thead>\n",
       "    <tr style=\"text-align: right;\">\n",
       "      <th></th>\n",
       "      <th>Reactants</th>\n",
       "      <th>SMARTS</th>\n",
       "      <th>Products</th>\n",
       "      <th>Comments</th>\n",
       "    </tr>\n",
       "    <tr>\n",
       "      <th>Name</th>\n",
       "      <th></th>\n",
       "      <th></th>\n",
       "      <th></th>\n",
       "      <th></th>\n",
       "    </tr>\n",
       "  </thead>\n",
       "  <tbody>\n",
       "    <tr>\n",
       "      <th>rule0001</th>\n",
       "      <td>Any;Any</td>\n",
       "      <td>[#6:1]-[#8:2].[#8:3]&gt;&gt;[#6:1]-[#8:3].[#8:2]</td>\n",
       "      <td>Any;Any</td>\n",
       "      <td>A0A060PLD9;A0A0P0YNP7;A0A0P9RZM9;A1XCQ0;A3E242...</td>\n",
       "    </tr>\n",
       "    <tr>\n",
       "      <th>rule0002</th>\n",
       "      <td>Any;NAD_CoF</td>\n",
       "      <td>[#6:1]-[#8:2].[#6:3]1:[#6:4]:[#6:5]:[#6:6]:[#7...</td>\n",
       "      <td>NADH_CoF;Any</td>\n",
       "      <td>A0A023RBJ1;A0A060KZ16;A0A060TBM3;A0A072UJB3;A0...</td>\n",
       "    </tr>\n",
       "    <tr>\n",
       "      <th>rule0003</th>\n",
       "      <td>NADH_CoF;Any</td>\n",
       "      <td>[#6:1]1=[#6:2]-[#7:3]-[#6:4]=[#6:5]-[#6:6]-1.[...</td>\n",
       "      <td>Any;NAD_CoF</td>\n",
       "      <td>A0A023RBJ1;A0A060KZ16;A0A060TBM3;A0A072UJB3;A0...</td>\n",
       "    </tr>\n",
       "    <tr>\n",
       "      <th>rule0004</th>\n",
       "      <td>Any;NADH_CoF;O2</td>\n",
       "      <td>[#6:1].[#6:2]1=[#6:3]-[#7:4]-[#6:5]=[#6:6]-[#6...</td>\n",
       "      <td>Any;NAD_CoF;WATER</td>\n",
       "      <td>A0A1P8W705;A0A250DUW2;A1Z745;A5HMH6;A5HMH7;A5H...</td>\n",
       "    </tr>\n",
       "    <tr>\n",
       "      <th>rule0005</th>\n",
       "      <td>Any;NAD_CoF;WATER</td>\n",
       "      <td>[#6:1]-[#8:2].[#6:3]1:[#6:4]:[#6:5]:[#6:6]:[#7...</td>\n",
       "      <td>Any;NADH_CoF;O2</td>\n",
       "      <td>A0A1P8W705;A0A250DUW2;A1Z745;A5HMH6;A5HMH7;A5H...</td>\n",
       "    </tr>\n",
       "    <tr>\n",
       "      <th>rule0006</th>\n",
       "      <td>Any;Any</td>\n",
       "      <td>[#6:1]-[#8:2].[#8:3]&gt;&gt;[#6:1]-[#8:3].[#8:2]</td>\n",
       "      <td>Any;WATER</td>\n",
       "      <td>A0A023J5W7;A0A023MIF8;A0A024FS29;A0A024FSF5;A0...</td>\n",
       "    </tr>\n",
       "    <tr>\n",
       "      <th>rule0007</th>\n",
       "      <td>Any;WATER</td>\n",
       "      <td>[#6:1]-[#8:2].[#8:3]&gt;&gt;[#6:1]-[#8:3].[#8:2]</td>\n",
       "      <td>Any;Any</td>\n",
       "      <td>A0A023J5W7;A0A023MIF8;A0A024FS29;A0A024FSF5;A0...</td>\n",
       "    </tr>\n",
       "    <tr>\n",
       "      <th>rule0008</th>\n",
       "      <td>Any;GLUCOSYL_ACCEPTOR_CoF</td>\n",
       "      <td>[#6:1]-[#8:2].[#8:3]&gt;&gt;[#6:1]-[#8:3].[#8:2]</td>\n",
       "      <td>GLUCOSYL_DONOR_CoF;Any</td>\n",
       "      <td>A0A023NFQ4;A0A023NGA8;A0A059ZV61;A0A0B5WYD4;A0...</td>\n",
       "    </tr>\n",
       "    <tr>\n",
       "      <th>rule0009</th>\n",
       "      <td>GLUCOSYL_DONOR_CoF;Any</td>\n",
       "      <td>[#6:1]-[#8:2].[#8:3]&gt;&gt;[#6:1]-[#8:3].[#8:2]</td>\n",
       "      <td>Any;GLUCOSYL_ACCEPTOR_CoF</td>\n",
       "      <td>A0A023NFQ4;A0A023NGA8;A0A059ZV61;A0A0B5WYD4;A0...</td>\n",
       "    </tr>\n",
       "    <tr>\n",
       "      <th>rule0010</th>\n",
       "      <td>METHYL_ACCEPTOR_CoF;Any</td>\n",
       "      <td>[#16:1].[#6:2]-[#8:3]&gt;&gt;[#6:2]-[#16+:1].[#8:3]</td>\n",
       "      <td>METHYL_DONOR_CoF;Any</td>\n",
       "      <td>A0A075W3C7;A0A075W3Z0;A0A088B191;A0A0K1YW34;A3...</td>\n",
       "    </tr>\n",
       "    <tr>\n",
       "      <th>rule0011</th>\n",
       "      <td>METHYL_DONOR_CoF;Any</td>\n",
       "      <td>[#6:1]-[#16+:2].[#8:3]&gt;&gt;[#16+0:2].[#6:1]-[#8:3]</td>\n",
       "      <td>METHYL_ACCEPTOR_CoF;Any</td>\n",
       "      <td>A0A075W3C7;A0A075W3Z0;A0A088B191;A0A0K1YW34;A3...</td>\n",
       "    </tr>\n",
       "    <tr>\n",
       "      <th>rule0012</th>\n",
       "      <td>Any;Any</td>\n",
       "      <td>[#6:1]-[#8:2].[#7:3]&gt;&gt;[#6:1]-[#7:3].[#8:2]</td>\n",
       "      <td>Any;WATER</td>\n",
       "      <td>A0A076N4W8;A0A077JIE7;A0A087D2Y1;A0A088BHP3;A0...</td>\n",
       "    </tr>\n",
       "    <tr>\n",
       "      <th>rule0013</th>\n",
       "      <td>Any;WATER</td>\n",
       "      <td>[#6:1]-[#7:2].[#8:3]&gt;&gt;[#6:1]-[#8:3].[#7:2]</td>\n",
       "      <td>Any;Any</td>\n",
       "      <td>A0A076N4W8;A0A077JIE7;A0A087D2Y1;A0A088BHP3;A0...</td>\n",
       "    </tr>\n",
       "    <tr>\n",
       "      <th>rule0014</th>\n",
       "      <td>PHOSPHATE_ACCEPTOR_CoF;Any</td>\n",
       "      <td>[#8:1].[#8:2]-[#15:3]&gt;&gt;[#8:2].[#8:1]-[#15:3]</td>\n",
       "      <td>Any;PHOSPHATE_DONOR_CoF</td>\n",
       "      <td>A0A068EPY7;A0A0F6PAW6;A0A0F6PN71;A0A0G2K344;A0...</td>\n",
       "    </tr>\n",
       "    <tr>\n",
       "      <th>rule0015</th>\n",
       "      <td>Any;PHOSPHATE_DONOR_CoF</td>\n",
       "      <td>[#8:1].[#8:2]-[#15:3]&gt;&gt;[#8:2].[#8:1]-[#15:3]</td>\n",
       "      <td>PHOSPHATE_ACCEPTOR_CoF;Any</td>\n",
       "      <td>A0A068EPY7;A0A0F6PAW6;A0A0F6PN71;A0A0G2K344;A0...</td>\n",
       "    </tr>\n",
       "    <tr>\n",
       "      <th>rule0016</th>\n",
       "      <td>WATER;Any</td>\n",
       "      <td>[#8:1].[#8:2]-[#15:3]&gt;&gt;[#8:2].[#8:1]-[#15:3]</td>\n",
       "      <td>Any;Pi</td>\n",
       "      <td>A0A096TNX6;A0A0H3PAT6;A0A0H3PES2;A0FHA7;A0FHA8...</td>\n",
       "    </tr>\n",
       "    <tr>\n",
       "      <th>rule0017</th>\n",
       "      <td>Any;Pi</td>\n",
       "      <td>[#8:1].[#8:2]-[#15:3]&gt;&gt;[#8:2].[#8:1]-[#15:3]</td>\n",
       "      <td>WATER;Any</td>\n",
       "      <td>A0A096TNX6;A0A0H3PAT6;A0A0H3PES2;A0FHA7;A0FHA8...</td>\n",
       "    </tr>\n",
       "    <tr>\n",
       "      <th>rule0018</th>\n",
       "      <td>Any;NAD_CoF</td>\n",
       "      <td>[#6:1]-[#6:2].[#6:3]1:[#6:4]:[#6:5]:[#6:6]:[#7...</td>\n",
       "      <td>NADH_CoF;Any</td>\n",
       "      <td>A0A068ERY8;A0A097ZMY7;A0A0H3K7V7;A0A0N9JVF9;A0...</td>\n",
       "    </tr>\n",
       "    <tr>\n",
       "      <th>rule0019</th>\n",
       "      <td>Any</td>\n",
       "      <td>[#6:1]-[#6:2]-[#8:3]&gt;&gt;[#6:1]=[#6:2].[#8:3]</td>\n",
       "      <td>Any;WATER</td>\n",
       "      <td>A0A0F6BKL7;A0A0H3FM50;A0A0X1KHE6;A0A124C1Y7;A0...</td>\n",
       "    </tr>\n",
       "    <tr>\n",
       "      <th>rule0020</th>\n",
       "      <td>Any;WATER</td>\n",
       "      <td>[#6:1]=[#6:2].[#8:3]&gt;&gt;[#6:1]-[#6:2]-[#8:3]</td>\n",
       "      <td>Any</td>\n",
       "      <td>A0A0F6BKL7;A0A0H3FM50;A0A0X1KHE6;A0A124C1Y7;A0...</td>\n",
       "    </tr>\n",
       "  </tbody>\n",
       "</table>\n",
       "</div>"
      ],
      "text/plain": [
       "                           Reactants  \\\n",
       "Name                                   \n",
       "rule0001                     Any;Any   \n",
       "rule0002                 Any;NAD_CoF   \n",
       "rule0003                NADH_CoF;Any   \n",
       "rule0004             Any;NADH_CoF;O2   \n",
       "rule0005           Any;NAD_CoF;WATER   \n",
       "rule0006                     Any;Any   \n",
       "rule0007                   Any;WATER   \n",
       "rule0008   Any;GLUCOSYL_ACCEPTOR_CoF   \n",
       "rule0009      GLUCOSYL_DONOR_CoF;Any   \n",
       "rule0010     METHYL_ACCEPTOR_CoF;Any   \n",
       "rule0011        METHYL_DONOR_CoF;Any   \n",
       "rule0012                     Any;Any   \n",
       "rule0013                   Any;WATER   \n",
       "rule0014  PHOSPHATE_ACCEPTOR_CoF;Any   \n",
       "rule0015     Any;PHOSPHATE_DONOR_CoF   \n",
       "rule0016                   WATER;Any   \n",
       "rule0017                      Any;Pi   \n",
       "rule0018                 Any;NAD_CoF   \n",
       "rule0019                         Any   \n",
       "rule0020                   Any;WATER   \n",
       "\n",
       "                                                     SMARTS  \\\n",
       "Name                                                          \n",
       "rule0001         [#6:1]-[#8:2].[#8:3]>>[#6:1]-[#8:3].[#8:2]   \n",
       "rule0002  [#6:1]-[#8:2].[#6:3]1:[#6:4]:[#6:5]:[#6:6]:[#7...   \n",
       "rule0003  [#6:1]1=[#6:2]-[#7:3]-[#6:4]=[#6:5]-[#6:6]-1.[...   \n",
       "rule0004  [#6:1].[#6:2]1=[#6:3]-[#7:4]-[#6:5]=[#6:6]-[#6...   \n",
       "rule0005  [#6:1]-[#8:2].[#6:3]1:[#6:4]:[#6:5]:[#6:6]:[#7...   \n",
       "rule0006         [#6:1]-[#8:2].[#8:3]>>[#6:1]-[#8:3].[#8:2]   \n",
       "rule0007         [#6:1]-[#8:2].[#8:3]>>[#6:1]-[#8:3].[#8:2]   \n",
       "rule0008         [#6:1]-[#8:2].[#8:3]>>[#6:1]-[#8:3].[#8:2]   \n",
       "rule0009         [#6:1]-[#8:2].[#8:3]>>[#6:1]-[#8:3].[#8:2]   \n",
       "rule0010      [#16:1].[#6:2]-[#8:3]>>[#6:2]-[#16+:1].[#8:3]   \n",
       "rule0011    [#6:1]-[#16+:2].[#8:3]>>[#16+0:2].[#6:1]-[#8:3]   \n",
       "rule0012         [#6:1]-[#8:2].[#7:3]>>[#6:1]-[#7:3].[#8:2]   \n",
       "rule0013         [#6:1]-[#7:2].[#8:3]>>[#6:1]-[#8:3].[#7:2]   \n",
       "rule0014       [#8:1].[#8:2]-[#15:3]>>[#8:2].[#8:1]-[#15:3]   \n",
       "rule0015       [#8:1].[#8:2]-[#15:3]>>[#8:2].[#8:1]-[#15:3]   \n",
       "rule0016       [#8:1].[#8:2]-[#15:3]>>[#8:2].[#8:1]-[#15:3]   \n",
       "rule0017       [#8:1].[#8:2]-[#15:3]>>[#8:2].[#8:1]-[#15:3]   \n",
       "rule0018  [#6:1]-[#6:2].[#6:3]1:[#6:4]:[#6:5]:[#6:6]:[#7...   \n",
       "rule0019         [#6:1]-[#6:2]-[#8:3]>>[#6:1]=[#6:2].[#8:3]   \n",
       "rule0020         [#6:1]=[#6:2].[#8:3]>>[#6:1]-[#6:2]-[#8:3]   \n",
       "\n",
       "                            Products  \\\n",
       "Name                                   \n",
       "rule0001                     Any;Any   \n",
       "rule0002                NADH_CoF;Any   \n",
       "rule0003                 Any;NAD_CoF   \n",
       "rule0004           Any;NAD_CoF;WATER   \n",
       "rule0005             Any;NADH_CoF;O2   \n",
       "rule0006                   Any;WATER   \n",
       "rule0007                     Any;Any   \n",
       "rule0008      GLUCOSYL_DONOR_CoF;Any   \n",
       "rule0009   Any;GLUCOSYL_ACCEPTOR_CoF   \n",
       "rule0010        METHYL_DONOR_CoF;Any   \n",
       "rule0011     METHYL_ACCEPTOR_CoF;Any   \n",
       "rule0012                   Any;WATER   \n",
       "rule0013                     Any;Any   \n",
       "rule0014     Any;PHOSPHATE_DONOR_CoF   \n",
       "rule0015  PHOSPHATE_ACCEPTOR_CoF;Any   \n",
       "rule0016                      Any;Pi   \n",
       "rule0017                   WATER;Any   \n",
       "rule0018                NADH_CoF;Any   \n",
       "rule0019                   Any;WATER   \n",
       "rule0020                         Any   \n",
       "\n",
       "                                                   Comments  \n",
       "Name                                                         \n",
       "rule0001  A0A060PLD9;A0A0P0YNP7;A0A0P9RZM9;A1XCQ0;A3E242...  \n",
       "rule0002  A0A023RBJ1;A0A060KZ16;A0A060TBM3;A0A072UJB3;A0...  \n",
       "rule0003  A0A023RBJ1;A0A060KZ16;A0A060TBM3;A0A072UJB3;A0...  \n",
       "rule0004  A0A1P8W705;A0A250DUW2;A1Z745;A5HMH6;A5HMH7;A5H...  \n",
       "rule0005  A0A1P8W705;A0A250DUW2;A1Z745;A5HMH6;A5HMH7;A5H...  \n",
       "rule0006  A0A023J5W7;A0A023MIF8;A0A024FS29;A0A024FSF5;A0...  \n",
       "rule0007  A0A023J5W7;A0A023MIF8;A0A024FS29;A0A024FSF5;A0...  \n",
       "rule0008  A0A023NFQ4;A0A023NGA8;A0A059ZV61;A0A0B5WYD4;A0...  \n",
       "rule0009  A0A023NFQ4;A0A023NGA8;A0A059ZV61;A0A0B5WYD4;A0...  \n",
       "rule0010  A0A075W3C7;A0A075W3Z0;A0A088B191;A0A0K1YW34;A3...  \n",
       "rule0011  A0A075W3C7;A0A075W3Z0;A0A088B191;A0A0K1YW34;A3...  \n",
       "rule0012  A0A076N4W8;A0A077JIE7;A0A087D2Y1;A0A088BHP3;A0...  \n",
       "rule0013  A0A076N4W8;A0A077JIE7;A0A087D2Y1;A0A088BHP3;A0...  \n",
       "rule0014  A0A068EPY7;A0A0F6PAW6;A0A0F6PN71;A0A0G2K344;A0...  \n",
       "rule0015  A0A068EPY7;A0A0F6PAW6;A0A0F6PN71;A0A0G2K344;A0...  \n",
       "rule0016  A0A096TNX6;A0A0H3PAT6;A0A0H3PES2;A0FHA7;A0FHA8...  \n",
       "rule0017  A0A096TNX6;A0A0H3PAT6;A0A0H3PES2;A0FHA7;A0FHA8...  \n",
       "rule0018  A0A068ERY8;A0A097ZMY7;A0A0H3K7V7;A0A0N9JVF9;A0...  \n",
       "rule0019  A0A0F6BKL7;A0A0H3FM50;A0A0X1KHE6;A0A124C1Y7;A0...  \n",
       "rule0020  A0A0F6BKL7;A0A0H3FM50;A0A0X1KHE6;A0A124C1Y7;A0...  "
      ]
     },
     "execution_count": 73,
     "metadata": {},
     "output_type": "execute_result"
    }
   ],
   "source": [
    "# Load rules\n",
    "\n",
    "min_rules = pd.read_csv('../data/mapping/minimal1224_all_uniprot.tsv', sep='\\t')\n",
    "min_rules.set_index('Name', inplace=True)\n",
    "min_rules.head(20)"
   ]
  },
  {
   "cell_type": "code",
   "execution_count": 87,
   "metadata": {},
   "outputs": [
    {
     "data": {
      "text/plain": [
       "'[#6:1]-[#8:2].[#6:3]1:[#6:4]:[#6:5]:[#6:6]:[#7+:7]:[#6:8]:1>>[#6:3]1=[#6:8]-[#7+0:7]-[#6:6]=[#6:5]-[#6:4]-1.[#6:1]=[#8:2]'"
      ]
     },
     "execution_count": 87,
     "metadata": {},
     "output_type": "execute_result"
    }
   ],
   "source": [
    "min_rules.loc['rule0002', 'SMARTS']"
   ]
  },
  {
   "cell_type": "code",
   "execution_count": 75,
   "metadata": {},
   "outputs": [
    {
     "name": "stdout",
     "output_type": "stream",
     "text": [
      "R74c8e872863878b438386373a6a4bad397738830bd43a509aad498bb50aed971 ('rule0013',)\n"
     ]
    }
   ],
   "source": [
    "for k,v in min_mappings.items():\n",
    "    if 'rule0013' in v:\n",
    "        print(k, v)\n",
    "        break"
   ]
  },
  {
   "cell_type": "code",
   "execution_count": 81,
   "metadata": {},
   "outputs": [
    {
     "data": {
      "text/plain": [
       "((<rdkit.Chem.rdchem.Mol at 0x7f48bde82d50>,\n",
       "  <rdkit.Chem.rdchem.Mol at 0x7f48bde82e70>),\n",
       " (<rdkit.Chem.rdchem.Mol at 0x7f48bde82930>,\n",
       "  <rdkit.Chem.rdchem.Mol at 0x7f48bdd4ec90>))"
      ]
     },
     "execution_count": 81,
     "metadata": {},
     "output_type": "execute_result"
    }
   ],
   "source": [
    "rhash = 'R74c8e872863878b438386373a6a4bad397738830bd43a509aad498bb50aed971'\n",
    "rule = 'rule0013'\n",
    "rxn = Chem.rdChemReactions.ReactionFromSmarts(min_rules.loc[rule, 'SMARTS'])\n",
    "kr = known_rxns[rhash]['smarts']\n",
    "reactants, products = smarts_to_sub_smiles(kr)\n",
    "rmols = [Chem.MolFromSmiles(smi) for smi in reactants]\n",
    "rxn.RunReactants(rmols)"
   ]
  },
  {
   "cell_type": "code",
   "execution_count": 3,
   "metadata": {},
   "outputs": [],
   "source": [
    "keys = list(known_rxns.keys())"
   ]
  },
  {
   "cell_type": "code",
   "execution_count": 17,
   "metadata": {},
   "outputs": [],
   "source": [
    "i = 0"
   ]
  },
  {
   "cell_type": "code",
   "execution_count": 57,
   "metadata": {},
   "outputs": [
    {
     "name": "stdout",
     "output_type": "stream",
     "text": [
      "['*NC(Cc1ccc(O)cc1)C(*)=O', 'Nc1ncnc2c1ncn2C1OC(COP(=O)(O)OP(=O)(O)OP(=O)(O)O)C(O)C1O>>*NC(Cc1ccc(OP(=O)(O)OCC2OC(n3cnc4c(N)ncnc43)C(O)C2O)cc1)C(*)=O', 'O=P(O)(O)OP(=O)(O)O']\n"
     ]
    },
    {
     "data": {
      "image/png": "[encoded data removed]",
      "text/plain": [
       "<rdkit.Chem.rdChemReactions.ChemicalReaction at 0x7f48bc9c39f0>"
      ]
     },
     "execution_count": 57,
     "metadata": {},
     "output_type": "execute_result"
    }
   ],
   "source": [
    "\n",
    "# Does AllChem.ReactionFromSmarts maintain order of molecules\n",
    "# found in smarts string? Yea.\n",
    "\n",
    "smarts = known_rxns[keys[i]]['smarts']\n",
    "print(smarts.split(\".\"))\n",
    "i += 1\n",
    "rxn = AllChem.ReactionFromSmarts(smarts, useSmiles=True)\n",
    "rxn"
   ]
  },
  {
   "cell_type": "code",
   "execution_count": 58,
   "metadata": {},
   "outputs": [
    {
     "data": {
      "image/png": "[encoded data removed]",
      "text/plain": [
       "<IPython.core.display.Image object>"
      ]
     },
     "execution_count": 58,
     "metadata": {},
     "output_type": "execute_result"
    }
   ],
   "source": [
    "mols = [r for r in rxn.GetReactants()]# + [p for p in rxn.GetProducts()]\n",
    "Draw.MolsToGridImage(mols)"
   ]
  },
  {
   "cell_type": "code",
   "execution_count": 32,
   "metadata": {},
   "outputs": [
    {
     "ename": "RuntimeError",
     "evalue": "Pre-condition Violation\n\tgetExplicitValence() called without call to calcExplicitValence()\n\tViolation occurred on line 306 in file Code/GraphMol/Atom.cpp\n\tFailed Expression: d_explicitValence > -1\n\tRDKIT: 2023.03.2\n\tBOOST: 1_78\n",
     "output_type": "error",
     "traceback": [
      "\u001b[0;31m---------------------------------------------------------------------------\u001b[0m",
      "\u001b[0;31mRuntimeError\u001b[0m                              Traceback (most recent call last)",
      "\u001b[0;32m/tmp/ipykernel_977384/2031740927.py\u001b[0m in \u001b[0;36m<module>\u001b[0;34m\u001b[0m\n\u001b[0;32m----> 1\u001b[0;31m \u001b[0mDraw\u001b[0m\u001b[0;34m.\u001b[0m\u001b[0mMolsToGridImage\u001b[0m\u001b[0;34m(\u001b[0m\u001b[0;34m[\u001b[0m\u001b[0mp\u001b[0m \u001b[0;32mfor\u001b[0m \u001b[0mp\u001b[0m \u001b[0;32min\u001b[0m \u001b[0mrxn\u001b[0m\u001b[0;34m.\u001b[0m\u001b[0mGetProducts\u001b[0m\u001b[0;34m(\u001b[0m\u001b[0;34m)\u001b[0m\u001b[0;34m]\u001b[0m\u001b[0;34m)\u001b[0m\u001b[0;34m\u001b[0m\u001b[0;34m\u001b[0m\u001b[0m\n\u001b[0m",
      "\u001b[0;32m~/miniconda3/envs/mine/lib/python3.7/site-packages/rdkit/Chem/Draw/IPythonConsole.py\u001b[0m in \u001b[0;36mShowMols\u001b[0;34m(mols, maxMols, **kwargs)\u001b[0m\n\u001b[1;32m    269\u001b[0m     \u001b[0mkwargs\u001b[0m\u001b[0;34m[\u001b[0m\u001b[0;34m\"drawOptions\"\u001b[0m\u001b[0;34m]\u001b[0m \u001b[0;34m=\u001b[0m \u001b[0mdrawOptions\u001b[0m\u001b[0;34m\u001b[0m\u001b[0;34m\u001b[0m\u001b[0m\n\u001b[1;32m    270\u001b[0m \u001b[0;34m\u001b[0m\u001b[0m\n\u001b[0;32m--> 271\u001b[0;31m   \u001b[0mres\u001b[0m \u001b[0;34m=\u001b[0m \u001b[0mfn\u001b[0m\u001b[0;34m(\u001b[0m\u001b[0mmols\u001b[0m\u001b[0;34m,\u001b[0m \u001b[0;34m**\u001b[0m\u001b[0mkwargs\u001b[0m\u001b[0;34m)\u001b[0m\u001b[0;34m\u001b[0m\u001b[0;34m\u001b[0m\u001b[0m\n\u001b[0m\u001b[1;32m    272\u001b[0m   \u001b[0;32mif\u001b[0m \u001b[0mInteractiveRenderer\u001b[0m\u001b[0;34m.\u001b[0m\u001b[0misEnabled\u001b[0m\u001b[0;34m(\u001b[0m\u001b[0;34m)\u001b[0m\u001b[0;34m:\u001b[0m\u001b[0;34m\u001b[0m\u001b[0;34m\u001b[0m\u001b[0m\n\u001b[1;32m    273\u001b[0m     \u001b[0;32mreturn\u001b[0m \u001b[0mHTML\u001b[0m\u001b[0;34m(\u001b[0m\u001b[0mres\u001b[0m\u001b[0;34m)\u001b[0m\u001b[0;34m\u001b[0m\u001b[0;34m\u001b[0m\u001b[0m\n",
      "\u001b[0;32m~/miniconda3/envs/mine/lib/python3.7/site-packages/rdkit/Chem/Draw/__init__.py\u001b[0m in \u001b[0;36mMolsToGridImage\u001b[0;34m(mols, molsPerRow, subImgSize, legends, highlightAtomLists, highlightBondLists, useSVG, returnPNG, **kwargs)\u001b[0m\n\u001b[1;32m    620\u001b[0m     return _MolsToGridImage(mols, molsPerRow=molsPerRow, subImgSize=subImgSize, legends=legends,\n\u001b[1;32m    621\u001b[0m                             \u001b[0mhighlightAtomLists\u001b[0m\u001b[0;34m=\u001b[0m\u001b[0mhighlightAtomLists\u001b[0m\u001b[0;34m,\u001b[0m\u001b[0;34m\u001b[0m\u001b[0;34m\u001b[0m\u001b[0m\n\u001b[0;32m--> 622\u001b[0;31m                             highlightBondLists=highlightBondLists, returnPNG=returnPNG, **kwargs)\n\u001b[0m\u001b[1;32m    623\u001b[0m \u001b[0;34m\u001b[0m\u001b[0m\n\u001b[1;32m    624\u001b[0m \u001b[0;34m\u001b[0m\u001b[0m\n",
      "\u001b[0;32m~/miniconda3/envs/mine/lib/python3.7/site-packages/rdkit/Chem/Draw/__init__.py\u001b[0m in \u001b[0;36m_MolsToGridImage\u001b[0;34m(mols, molsPerRow, subImgSize, legends, highlightAtomLists, highlightBondLists, drawOptions, returnPNG, **kwargs)\u001b[0m\n\u001b[1;32m    562\u001b[0m           \u001b[0;32mdel\u001b[0m \u001b[0mkwargs\u001b[0m\u001b[0;34m[\u001b[0m\u001b[0mk\u001b[0m\u001b[0;34m]\u001b[0m\u001b[0;34m\u001b[0m\u001b[0;34m\u001b[0m\u001b[0m\n\u001b[1;32m    563\u001b[0m     d2d.DrawMolecules(list(mols), legends=legends or None, highlightAtoms=highlightAtomLists,\n\u001b[0;32m--> 564\u001b[0;31m                       highlightBonds=highlightBondLists, **kwargs)\n\u001b[0m\u001b[1;32m    565\u001b[0m     \u001b[0md2d\u001b[0m\u001b[0;34m.\u001b[0m\u001b[0mFinishDrawing\u001b[0m\u001b[0;34m(\u001b[0m\u001b[0;34m)\u001b[0m\u001b[0;34m\u001b[0m\u001b[0;34m\u001b[0m\u001b[0m\n\u001b[1;32m    566\u001b[0m     \u001b[0;32mif\u001b[0m \u001b[0;32mnot\u001b[0m \u001b[0mreturnPNG\u001b[0m\u001b[0;34m:\u001b[0m\u001b[0;34m\u001b[0m\u001b[0;34m\u001b[0m\u001b[0m\n",
      "\u001b[0;31mRuntimeError\u001b[0m: Pre-condition Violation\n\tgetExplicitValence() called without call to calcExplicitValence()\n\tViolation occurred on line 306 in file Code/GraphMol/Atom.cpp\n\tFailed Expression: d_explicitValence > -1\n\tRDKIT: 2023.03.2\n\tBOOST: 1_78\n"
     ]
    }
   ],
   "source": [
    "Draw.MolsToGridImage([p for p in rxn.GetProducts()])"
   ]
  },
  {
   "cell_type": "code",
   "execution_count": 21,
   "metadata": {},
   "outputs": [
    {
     "data": {
      "text/plain": [
       "[<rdkit.Chem.rdchem.Mol at 0x7f48bc9ad450>,\n",
       " <rdkit.Chem.rdchem.Mol at 0x7f48bc9ad4b0>,\n",
       " <rdkit.Chem.rdchem.Mol at 0x7f48bc9ad510>]"
      ]
     },
     "execution_count": 21,
     "metadata": {},
     "output_type": "execute_result"
    }
   ],
   "source": [
    "mols"
   ]
  },
  {
   "cell_type": "code",
   "execution_count": null,
   "metadata": {},
   "outputs": [],
   "source": [
    "'''\n",
    "- Assign rules to reactions\n",
    "- Split reactions into 0, 1, >1 operator mappings\n",
    "- Take 1 mapped ones, run protected reactions to get indices\n",
    "    of reactions center on lhs\n",
    "- Assign atommapnum 1: to reaction center on lhs\n",
    "- Re-run reaction to produce products with atommapnums on reaction center\n",
    "- Convert into smiles/smarts reaction string\n",
    "'''"
   ]
  },
  {
   "cell_type": "code",
   "execution_count": 86,
   "metadata": {},
   "outputs": [
    {
     "data": {
      "text/plain": [
       "{0, 1, 2, 3, 4}"
      ]
     },
     "execution_count": 86,
     "metadata": {},
     "output_type": "execute_result"
    }
   ],
   "source": [
    "from itertools import chain\n",
    "matches = ((0,1,2), (2,3,4))\n",
    "set(chain(*matches))"
   ]
  },
  {
   "cell_type": "code",
   "execution_count": 3,
   "metadata": {},
   "outputs": [
    {
     "data": {
      "image/png": "[encoded data removed]",
      "text/plain": [
       "<rdkit.Chem.rdChemReactions.ChemicalReaction at 0x7fc9985773f0>"
      ]
     },
     "execution_count": 3,
     "metadata": {},
     "output_type": "execute_result"
    }
   ],
   "source": [
    "akg = 'O=C(O)CCC(=O)C(=O)O'\n",
    "co2 = 'O=C=O'\n",
    "decarb_akg = 'O=C(O)CCC(=O)'\n",
    "rxn_smarts = f\"{akg}>>{decarb_akg}.{co2}\"\n",
    "AllChem.ReactionFromSmarts(rxn_smarts, useSmiles=True)"
   ]
  }
 ],
 "metadata": {
  "kernelspec": {
   "display_name": "mine",
   "language": "python",
   "name": "python3"
  },
  "language_info": {
   "codemirror_mode": {
    "name": "ipython",
    "version": 3
   },
   "file_extension": ".py",
   "mimetype": "text/x-python",
   "name": "python",
   "nbconvert_exporter": "python",
   "pygments_lexer": "ipython3",
   "version": "3.7.12"
  }
 },
 "nbformat": 4,
 "nbformat_minor": 2
}
