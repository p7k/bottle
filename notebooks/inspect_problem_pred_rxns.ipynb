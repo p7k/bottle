{
 "cells": [
  {
   "cell_type": "code",
   "execution_count": 1,
   "metadata": {},
   "outputs": [],
   "source": [
    "from IPython.display import SVG\n",
    "import pandas as pd\n",
    "from src.post_processing import PathWrangler"
   ]
  },
  {
   "cell_type": "code",
   "execution_count": 2,
   "metadata": {},
   "outputs": [],
   "source": [
    "\n",
    "rules = pd.read_csv(\"/home/stef/bottle/data/rules/minimal1224_all_uniprot.tsv\", sep='\\t')\n",
    "rules.set_index(\"Name\", inplace=True)\n",
    "\n",
    "pw = PathWrangler(\n",
    "    path_filepath='../artifacts/processed_expansions/found_paths.json',\n",
    "    pr_filepath='../artifacts/processed_expansions/predicted_reactions.json',\n",
    "    kr_filepath='../artifacts/processed_expansions/known_reactions.json',\n",
    ")\n",
    "\n",
    "def show_problem(pid: str, step: int, pw: PathWrangler = pw, rules: pd.DataFrame = rules):\n",
    "    p = pw.get_path_with_id(pid)\n",
    "    pr = p.reactions[step]\n",
    "    a = pr.top_analogues(k=1)[0]\n",
    "    pr_ops = set([o.split('_')[0] for o in pr.operators])\n",
    "    a_ops = set([o.split('_')[0] for o in a.operators])\n",
    "    inter_rules = pr_ops & a_ops\n",
    "    for rule in inter_rules:\n",
    "        print(f\"{rule}: {rules.loc[rule, 'SMARTS']}\")\n",
    "        \n",
    "    print(\"Predicted reaction\")\n",
    "    display(SVG(pr.image))\n",
    "\n",
    "    print(\"Analogue\")\n",
    "    display(SVG(a.image))\n",
    "\n",
    "    print(a.operators)\n",
    "    print(pr.operators)\n",
    "\n"
   ]
  },
  {
   "cell_type": "code",
   "execution_count": 3,
   "metadata": {},
   "outputs": [
    {
     "name": "stdout",
     "output_type": "stream",
     "text": [
      "rule0028: ([#6:1].[#6:2]-[#6:3])>>([#6:2].[#6:1]-[#6:3])\n",
      "Predicted reaction\n"
     ]
    },
    {
     "data": {
      "image/svg+xml": [
       "<svg xmlns=\"http://www.w3.org/2000/svg\" xmlns:xlink=\"http://www.w3.org/1999/xlink\" version=\"1.1\" width=\"450.0px\" viewBox=\"0 0 450.0 200.0\" height=\"200.0px\">\n",
       "  <g>\n",
       "    <g transform=\"translate(0, 0) scale(1 1) \"><!-- END OF HEADER -->\n",
       "<rect style=\"opacity:1.0;fill:#FFFFFF;stroke:none\" width=\"205.0\" height=\"200.0\" x=\"0.0\" y=\"0.0\"> </rect>\n",
       "<path class=\"bond-0 atom-0 atom-1\" d=\"M 10.2,87.9 L 51.5,111.8\" style=\"fill:none;fill-rule:evenodd;stroke:#000000;stroke-width:2.0px;stroke-linecap:butt;stroke-linejoin:miter;stroke-opacity:1\"/>\n",
       "<path class=\"bond-1 atom-1 atom-2\" d=\"M 51.5,111.8 L 51.5,159.4\" style=\"fill:none;fill-rule:evenodd;stroke:#000000;stroke-width:2.0px;stroke-linecap:butt;stroke-linejoin:miter;stroke-opacity:1\"/>\n",
       "<path class=\"bond-2 atom-1 atom-3\" d=\"M 51.5,111.8 L 92.8,87.9\" style=\"fill:none;fill-rule:evenodd;stroke:#000000;stroke-width:2.0px;stroke-linecap:butt;stroke-linejoin:miter;stroke-opacity:1\"/>\n",
       "<path class=\"bond-3 atom-3 atom-4\" d=\"M 92.8,87.9 L 92.8,68.3\" style=\"fill:none;fill-rule:evenodd;stroke:#000000;stroke-width:2.0px;stroke-linecap:butt;stroke-linejoin:miter;stroke-opacity:1\"/>\n",
       "<path class=\"bond-3 atom-3 atom-4\" d=\"M 92.8,68.3 L 92.8,48.6\" style=\"fill:none;fill-rule:evenodd;stroke:#0000FF;stroke-width:2.0px;stroke-linecap:butt;stroke-linejoin:miter;stroke-opacity:1\"/>\n",
       "<path class=\"bond-4 atom-3 atom-5\" d=\"M 92.8,87.9 L 134.1,111.8\" style=\"fill:none;fill-rule:evenodd;stroke:#000000;stroke-width:2.0px;stroke-linecap:butt;stroke-linejoin:miter;stroke-opacity:1\"/>\n",
       "<path class=\"bond-5 atom-5 atom-6\" d=\"M 130.5,109.7 L 130.5,130.4\" style=\"fill:none;fill-rule:evenodd;stroke:#000000;stroke-width:2.0px;stroke-linecap:butt;stroke-linejoin:miter;stroke-opacity:1\"/>\n",
       "<path class=\"bond-5 atom-5 atom-6\" d=\"M 130.5,130.4 L 130.5,151.0\" style=\"fill:none;fill-rule:evenodd;stroke:#FF0000;stroke-width:2.0px;stroke-linecap:butt;stroke-linejoin:miter;stroke-opacity:1\"/>\n",
       "<path class=\"bond-5 atom-5 atom-6\" d=\"M 137.7,109.7 L 137.7,130.4\" style=\"fill:none;fill-rule:evenodd;stroke:#000000;stroke-width:2.0px;stroke-linecap:butt;stroke-linejoin:miter;stroke-opacity:1\"/>\n",
       "<path class=\"bond-5 atom-5 atom-6\" d=\"M 137.7,130.4 L 137.7,151.0\" style=\"fill:none;fill-rule:evenodd;stroke:#FF0000;stroke-width:2.0px;stroke-linecap:butt;stroke-linejoin:miter;stroke-opacity:1\"/>\n",
       "<path class=\"bond-6 atom-5 atom-7\" d=\"M 134.1,111.8 L 150.9,102.1\" style=\"fill:none;fill-rule:evenodd;stroke:#000000;stroke-width:2.0px;stroke-linecap:butt;stroke-linejoin:miter;stroke-opacity:1\"/>\n",
       "<path class=\"bond-6 atom-5 atom-7\" d=\"M 150.9,102.1 L 167.6,92.4\" style=\"fill:none;fill-rule:evenodd;stroke:#FF0000;stroke-width:2.0px;stroke-linecap:butt;stroke-linejoin:miter;stroke-opacity:1\"/>\n",
       "<path d=\"M 132.0,110.6 L 134.1,111.8 L 134.9,111.3\" style=\"fill:none;stroke:#000000;stroke-width:2.0px;stroke-linecap:butt;stroke-linejoin:miter;stroke-opacity:1;\"/>\n",
       "<path class=\"atom-4\" d=\"M 89.8 33.5 L 94.3 40.7 Q 94.7 41.4, 95.4 42.7 Q 96.1 43.9, 96.1 44.0 L 96.1 33.5 L 97.9 33.5 L 97.9 47.0 L 96.1 47.0 L 91.3 39.2 Q 90.8 38.3, 90.2 37.2 Q 89.6 36.2, 89.5 35.9 L 89.5 47.0 L 87.7 47.0 L 87.7 33.5 L 89.8 33.5 \" fill=\"#0000FF\"/>\n",
       "<path class=\"atom-4\" d=\"M 100.5 33.5 L 102.3 33.5 L 102.3 39.3 L 109.3 39.3 L 109.3 33.5 L 111.1 33.5 L 111.1 47.0 L 109.3 47.0 L 109.3 40.8 L 102.3 40.8 L 102.3 47.0 L 100.5 47.0 L 100.5 33.5 \" fill=\"#0000FF\"/>\n",
       "<path class=\"atom-4\" d=\"M 113.7 46.5 Q 114.1 45.7, 114.8 45.2 Q 115.6 44.8, 116.7 44.8 Q 118.0 44.8, 118.8 45.5 Q 119.6 46.2, 119.6 47.5 Q 119.6 48.8, 118.6 50.1 Q 117.6 51.3, 115.6 52.8 L 119.7 52.8 L 119.7 53.8 L 113.7 53.8 L 113.7 52.9 Q 115.4 51.7, 116.3 50.9 Q 117.3 50.0, 117.8 49.2 Q 118.3 48.4, 118.3 47.6 Q 118.3 46.7, 117.9 46.2 Q 117.4 45.8, 116.7 45.8 Q 116.0 45.8, 115.5 46.1 Q 115.0 46.3, 114.7 47.0 L 113.7 46.5 \" fill=\"#0000FF\"/>\n",
       "<path class=\"atom-6\" d=\"M 127.9 159.5 Q 127.9 156.2, 129.5 154.4 Q 131.1 152.6, 134.1 152.6 Q 137.1 152.6, 138.7 154.4 Q 140.3 156.2, 140.3 159.5 Q 140.3 162.8, 138.7 164.6 Q 137.1 166.5, 134.1 166.5 Q 131.1 166.5, 129.5 164.6 Q 127.9 162.8, 127.9 159.5 M 134.1 165.0 Q 136.2 165.0, 137.3 163.6 Q 138.4 162.2, 138.4 159.5 Q 138.4 156.8, 137.3 155.5 Q 136.2 154.1, 134.1 154.1 Q 132.0 154.1, 130.9 155.5 Q 129.8 156.8, 129.8 159.5 Q 129.8 162.2, 130.9 163.6 Q 132.0 165.0, 134.1 165.0 \" fill=\"#FF0000\"/>\n",
       "<path class=\"atom-7\" d=\"M 169.2 88.0 Q 169.2 84.7, 170.8 82.9 Q 172.4 81.1, 175.4 81.1 Q 178.4 81.1, 180.0 82.9 Q 181.6 84.7, 181.6 88.0 Q 181.6 91.3, 180.0 93.1 Q 178.3 95.0, 175.4 95.0 Q 172.4 95.0, 170.8 93.1 Q 169.2 91.3, 169.2 88.0 M 175.4 93.4 Q 177.4 93.4, 178.6 92.1 Q 179.7 90.7, 179.7 88.0 Q 179.7 85.3, 178.6 84.0 Q 177.4 82.6, 175.4 82.6 Q 173.3 82.6, 172.2 84.0 Q 171.1 85.3, 171.1 88.0 Q 171.1 90.7, 172.2 92.1 Q 173.3 93.4, 175.4 93.4 \" fill=\"#FF0000\"/>\n",
       "<path class=\"atom-7\" d=\"M 183.7 81.3 L 185.5 81.3 L 185.5 87.0 L 192.4 87.0 L 192.4 81.3 L 194.2 81.3 L 194.2 94.8 L 192.4 94.8 L 192.4 88.5 L 185.5 88.5 L 185.5 94.8 L 183.7 94.8 L 183.7 81.3 \" fill=\"#FF0000\"/>\n",
       "</g>\n",
       "    <g transform=\"translate(205.0, 0) scale(1 1) \"><line x1=\"5\" y1=\"100\" x2=\"35\" y2=\"100\" style=\"stroke:rgb(0,0,0);stroke-width:2\"/>\n",
       "  <line x1=\"34\" y1=\"100\" x2=\"29\" y2=\"95\" style=\"stroke:rgb(0,0,0);stroke-width:2\"/>\n",
       "  <line x1=\"34\" y1=\"100\" x2=\"29\" y2=\"105\" style=\"stroke:rgb(0,0,0);stroke-width:2\"/>\n",
       "</g>\n",
       "    <g transform=\"translate(245.0, 0) scale(1 1) \"><!-- END OF HEADER -->\n",
       "<rect style=\"opacity:1.0;fill:#FFFFFF;stroke:none\" width=\"205.0\" height=\"200.0\" x=\"0.0\" y=\"0.0\"> </rect>\n",
       "<path class=\"bond-0 atom-0 atom-1\" d=\"M 125.0,46.2 L 111.7,89.6\" style=\"fill:none;fill-rule:evenodd;stroke:#000000;stroke-width:2.0px;stroke-linecap:butt;stroke-linejoin:miter;stroke-opacity:1\"/>\n",
       "<path class=\"bond-1 atom-1 atom-2\" d=\"M 111.7,89.6 L 98.4,133.0\" style=\"fill:none;fill-rule:evenodd;stroke:#000000;stroke-width:2.0px;stroke-linecap:butt;stroke-linejoin:miter;stroke-opacity:1\"/>\n",
       "<path class=\"bond-2 atom-1 atom-3\" d=\"M 111.7,89.6 L 68.3,76.2\" style=\"fill:none;fill-rule:evenodd;stroke:#000000;stroke-width:2.0px;stroke-linecap:butt;stroke-linejoin:miter;stroke-opacity:1\"/>\n",
       "<path class=\"bond-3 atom-3 atom-4\" d=\"M 68.3,76.2 L 54.9,88.7\" style=\"fill:none;fill-rule:evenodd;stroke:#000000;stroke-width:2.0px;stroke-linecap:butt;stroke-linejoin:miter;stroke-opacity:1\"/>\n",
       "<path class=\"bond-3 atom-3 atom-4\" d=\"M 54.9,88.7 L 41.4,101.2\" style=\"fill:none;fill-rule:evenodd;stroke:#0000FF;stroke-width:2.0px;stroke-linecap:butt;stroke-linejoin:miter;stroke-opacity:1\"/>\n",
       "<path class=\"bond-4 atom-1 atom-5\" d=\"M 111.7,89.6 L 155.1,102.9\" style=\"fill:none;fill-rule:evenodd;stroke:#000000;stroke-width:2.0px;stroke-linecap:butt;stroke-linejoin:miter;stroke-opacity:1\"/>\n",
       "<path class=\"bond-5 atom-5 atom-6\" d=\"M 156.0,106.7 L 169.6,94.0\" style=\"fill:none;fill-rule:evenodd;stroke:#000000;stroke-width:2.0px;stroke-linecap:butt;stroke-linejoin:miter;stroke-opacity:1\"/>\n",
       "<path class=\"bond-5 atom-5 atom-6\" d=\"M 169.6,94.0 L 183.3,81.3\" style=\"fill:none;fill-rule:evenodd;stroke:#FF0000;stroke-width:2.0px;stroke-linecap:butt;stroke-linejoin:miter;stroke-opacity:1\"/>\n",
       "<path class=\"bond-5 atom-5 atom-6\" d=\"M 151.4,101.7 L 165.0,89.0\" style=\"fill:none;fill-rule:evenodd;stroke:#000000;stroke-width:2.0px;stroke-linecap:butt;stroke-linejoin:miter;stroke-opacity:1\"/>\n",
       "<path class=\"bond-5 atom-5 atom-6\" d=\"M 165.0,89.0 L 178.6,76.4\" style=\"fill:none;fill-rule:evenodd;stroke:#FF0000;stroke-width:2.0px;stroke-linecap:butt;stroke-linejoin:miter;stroke-opacity:1\"/>\n",
       "<path class=\"bond-6 atom-5 atom-7\" d=\"M 155.1,102.9 L 159.3,121.0\" style=\"fill:none;fill-rule:evenodd;stroke:#000000;stroke-width:2.0px;stroke-linecap:butt;stroke-linejoin:miter;stroke-opacity:1\"/>\n",
       "<path class=\"bond-6 atom-5 atom-7\" d=\"M 159.3,121.0 L 163.4,139.1\" style=\"fill:none;fill-rule:evenodd;stroke:#FF0000;stroke-width:2.0px;stroke-linecap:butt;stroke-linejoin:miter;stroke-opacity:1\"/>\n",
       "<path d=\"M 70.5,76.9 L 68.3,76.2 L 67.6,76.9\" style=\"fill:none;stroke:#000000;stroke-width:2.0px;stroke-linecap:butt;stroke-linejoin:miter;stroke-opacity:1;\"/>\n",
       "<path d=\"M 152.9,102.2 L 155.1,102.9 L 155.3,103.8\" style=\"fill:none;stroke:#000000;stroke-width:2.0px;stroke-linecap:butt;stroke-linejoin:miter;stroke-opacity:1;\"/>\n",
       "<path class=\"atom-4\" d=\"M 10.3 100.7 L 12.0 100.7 L 12.0 106.2 L 18.6 106.2 L 18.6 100.7 L 20.3 100.7 L 20.3 113.6 L 18.6 113.6 L 18.6 107.7 L 12.0 107.7 L 12.0 113.6 L 10.3 113.6 L 10.3 100.7 \" fill=\"#0000FF\"/>\n",
       "<path class=\"atom-4\" d=\"M 22.8 113.1 Q 23.1 112.3, 23.9 111.9 Q 24.6 111.4, 25.7 111.4 Q 26.9 111.4, 27.7 112.1 Q 28.4 112.8, 28.4 114.1 Q 28.4 115.3, 27.4 116.5 Q 26.5 117.7, 24.6 119.1 L 28.5 119.1 L 28.5 120.0 L 22.8 120.0 L 22.8 119.2 Q 24.4 118.1, 25.3 117.3 Q 26.3 116.4, 26.7 115.7 Q 27.2 114.9, 27.2 114.1 Q 27.2 113.3, 26.8 112.9 Q 26.4 112.4, 25.7 112.4 Q 25.0 112.4, 24.5 112.7 Q 24.1 113.0, 23.7 113.6 L 22.8 113.1 \" fill=\"#0000FF\"/>\n",
       "<path class=\"atom-4\" d=\"M 32.2 100.7 L 36.4 107.6 Q 36.9 108.2, 37.5 109.4 Q 38.2 110.7, 38.2 110.7 L 38.2 100.7 L 39.9 100.7 L 39.9 113.6 L 38.2 113.6 L 33.7 106.2 Q 33.1 105.3, 32.6 104.3 Q 32.0 103.3, 31.9 103.0 L 31.9 113.6 L 30.2 113.6 L 30.2 100.7 L 32.2 100.7 \" fill=\"#0000FF\"/>\n",
       "<path class=\"atom-6\" d=\"M 182.4 72.0 Q 182.4 68.9, 184.0 67.2 Q 185.5 65.5, 188.3 65.5 Q 191.2 65.5, 192.7 67.2 Q 194.2 68.9, 194.2 72.0 Q 194.2 75.1, 192.7 76.9 Q 191.2 78.7, 188.3 78.7 Q 185.5 78.7, 184.0 76.9 Q 182.4 75.1, 182.4 72.0 M 188.3 77.2 Q 190.3 77.2, 191.4 75.9 Q 192.4 74.6, 192.4 72.0 Q 192.4 69.5, 191.4 68.2 Q 190.3 66.9, 188.3 66.9 Q 186.4 66.9, 185.3 68.2 Q 184.3 69.5, 184.3 72.0 Q 184.3 74.6, 185.3 75.9 Q 186.4 77.2, 188.3 77.2 \" fill=\"#FF0000\"/>\n",
       "<path class=\"atom-7\" d=\"M 159.4 147.2 Q 159.4 144.1, 160.9 142.4 Q 162.4 140.6, 165.3 140.6 Q 168.1 140.6, 169.6 142.4 Q 171.2 144.1, 171.2 147.2 Q 171.2 150.3, 169.6 152.1 Q 168.1 153.8, 165.3 153.8 Q 162.4 153.8, 160.9 152.1 Q 159.4 150.3, 159.4 147.2 M 165.3 152.4 Q 167.2 152.4, 168.3 151.1 Q 169.4 149.8, 169.4 147.2 Q 169.4 144.6, 168.3 143.4 Q 167.2 142.1, 165.3 142.1 Q 163.3 142.1, 162.2 143.4 Q 161.2 144.6, 161.2 147.2 Q 161.2 149.8, 162.2 151.1 Q 163.3 152.4, 165.3 152.4 \" fill=\"#FF0000\"/>\n",
       "<path class=\"atom-7\" d=\"M 173.2 140.8 L 174.9 140.8 L 174.9 146.2 L 181.5 146.2 L 181.5 140.8 L 183.2 140.8 L 183.2 153.6 L 181.5 153.6 L 181.5 147.7 L 174.9 147.7 L 174.9 153.6 L 173.2 153.6 L 173.2 140.8 \" fill=\"#FF0000\"/>\n",
       "</g>\n",
       "  </g>\n",
       "</svg>"
      ],
      "text/plain": [
       "<IPython.core.display.SVG object>"
      ]
     },
     "metadata": {},
     "output_type": "display_data"
    },
    {
     "name": "stdout",
     "output_type": "stream",
     "text": [
      "Analogue\n"
     ]
    },
    {
     "data": {
      "image/svg+xml": [
       "<svg xmlns=\"http://www.w3.org/2000/svg\" xmlns:xlink=\"http://www.w3.org/1999/xlink\" version=\"1.1\" width=\"470.0px\" viewBox=\"0 0 470.0 200.0\" height=\"200.0px\">\n",
       "  <g>\n",
       "    <g transform=\"translate(0, 0) scale(1 1) \"><!-- END OF HEADER -->\n",
       "<rect style=\"opacity:1.0;fill:#FFFFFF;stroke:none\" width=\"215.0\" height=\"200.0\" x=\"0.0\" y=\"0.0\"> </rect>\n",
       "<path class=\"bond-0 atom-0 atom-1\" d=\"M 146.7,127.6 L 144.6,113.5\" style=\"fill:none;fill-rule:evenodd;stroke:#0000FF;stroke-width:2.0px;stroke-linecap:butt;stroke-linejoin:miter;stroke-opacity:1\"/>\n",
       "<path class=\"bond-0 atom-0 atom-1\" d=\"M 144.6,113.5 L 142.4,99.4\" style=\"fill:none;fill-rule:evenodd;stroke:#000000;stroke-width:2.0px;stroke-linecap:butt;stroke-linejoin:miter;stroke-opacity:1\"/>\n",
       "<path class=\"bond-1 atom-1 atom-2\" d=\"M 142.4,99.4 L 169.5,77.8\" style=\"fill:none;fill-rule:evenodd;stroke:#000000;stroke-width:2.0px;stroke-linecap:butt;stroke-linejoin:miter;stroke-opacity:1\"/>\n",
       "<path class=\"bond-2 atom-2 atom-3\" d=\"M 169.5,77.8 L 182.8,83.0\" style=\"fill:none;fill-rule:evenodd;stroke:#000000;stroke-width:2.0px;stroke-linecap:butt;stroke-linejoin:miter;stroke-opacity:1\"/>\n",
       "<path class=\"bond-2 atom-2 atom-3\" d=\"M 182.8,83.0 L 196.0,88.2\" style=\"fill:none;fill-rule:evenodd;stroke:#FF0000;stroke-width:2.0px;stroke-linecap:butt;stroke-linejoin:miter;stroke-opacity:1\"/>\n",
       "<path class=\"bond-2 atom-2 atom-3\" d=\"M 170.4,83.7 L 180.9,87.8\" style=\"fill:none;fill-rule:evenodd;stroke:#000000;stroke-width:2.0px;stroke-linecap:butt;stroke-linejoin:miter;stroke-opacity:1\"/>\n",
       "<path class=\"bond-2 atom-2 atom-3\" d=\"M 180.9,87.8 L 194.1,93.1\" style=\"fill:none;fill-rule:evenodd;stroke:#FF0000;stroke-width:2.0px;stroke-linecap:butt;stroke-linejoin:miter;stroke-opacity:1\"/>\n",
       "<path class=\"bond-3 atom-1 atom-4\" d=\"M 142.4,99.4 L 110.2,86.8\" style=\"fill:none;fill-rule:evenodd;stroke:#000000;stroke-width:2.0px;stroke-linecap:butt;stroke-linejoin:miter;stroke-opacity:1\"/>\n",
       "<path class=\"bond-4 atom-4 atom-5\" d=\"M 110.2,86.8 L 83.2,108.4\" style=\"fill:none;fill-rule:evenodd;stroke:#000000;stroke-width:2.0px;stroke-linecap:butt;stroke-linejoin:miter;stroke-opacity:1\"/>\n",
       "<path class=\"bond-5 atom-5 atom-6\" d=\"M 83.2,108.4 L 51.0,95.8\" style=\"fill:none;fill-rule:evenodd;stroke:#000000;stroke-width:2.0px;stroke-linecap:butt;stroke-linejoin:miter;stroke-opacity:1\"/>\n",
       "<path class=\"bond-6 atom-6 atom-7\" d=\"M 53.8,96.8 L 51.5,82.1\" style=\"fill:none;fill-rule:evenodd;stroke:#000000;stroke-width:2.0px;stroke-linecap:butt;stroke-linejoin:miter;stroke-opacity:1\"/>\n",
       "<path class=\"bond-6 atom-6 atom-7\" d=\"M 51.5,82.1 L 49.3,67.4\" style=\"fill:none;fill-rule:evenodd;stroke:#FF0000;stroke-width:2.0px;stroke-linecap:butt;stroke-linejoin:miter;stroke-opacity:1\"/>\n",
       "<path class=\"bond-6 atom-6 atom-7\" d=\"M 48.6,97.6 L 46.4,82.9\" style=\"fill:none;fill-rule:evenodd;stroke:#000000;stroke-width:2.0px;stroke-linecap:butt;stroke-linejoin:miter;stroke-opacity:1\"/>\n",
       "<path class=\"bond-6 atom-6 atom-7\" d=\"M 46.4,82.9 L 44.2,68.2\" style=\"fill:none;fill-rule:evenodd;stroke:#FF0000;stroke-width:2.0px;stroke-linecap:butt;stroke-linejoin:miter;stroke-opacity:1\"/>\n",
       "<path class=\"bond-7 atom-6 atom-8\" d=\"M 51.0,95.8 L 40.3,104.3\" style=\"fill:none;fill-rule:evenodd;stroke:#000000;stroke-width:2.0px;stroke-linecap:butt;stroke-linejoin:miter;stroke-opacity:1\"/>\n",
       "<path class=\"bond-7 atom-6 atom-8\" d=\"M 40.3,104.3 L 29.6,112.8\" style=\"fill:none;fill-rule:evenodd;stroke:#FF0000;stroke-width:2.0px;stroke-linecap:butt;stroke-linejoin:miter;stroke-opacity:1\"/>\n",
       "<path d=\"M 168.1,78.9 L 169.5,77.8 L 170.1,78.1\" style=\"fill:none;stroke:#000000;stroke-width:2.0px;stroke-linecap:butt;stroke-linejoin:miter;stroke-opacity:1;\"/>\n",
       "<path d=\"M 111.8,87.4 L 110.2,86.8 L 108.9,87.9\" style=\"fill:none;stroke:#000000;stroke-width:2.0px;stroke-linecap:butt;stroke-linejoin:miter;stroke-opacity:1;\"/>\n",
       "<path d=\"M 84.5,107.3 L 83.2,108.4 L 81.6,107.7\" style=\"fill:none;stroke:#000000;stroke-width:2.0px;stroke-linecap:butt;stroke-linejoin:miter;stroke-opacity:1;\"/>\n",
       "<path d=\"M 52.6,96.4 L 51.0,95.8 L 50.4,96.2\" style=\"fill:none;stroke:#000000;stroke-width:2.0px;stroke-linecap:butt;stroke-linejoin:miter;stroke-opacity:1;\"/>\n",
       "<path class=\"atom-0\" d=\"M 145.4 128.7 L 148.7 133.9 Q 149.0 134.4, 149.5 135.3 Q 150.0 136.3, 150.0 136.3 L 150.0 128.7 L 151.3 128.7 L 151.3 138.5 L 150.0 138.5 L 146.5 132.8 Q 146.1 132.2, 145.7 131.4 Q 145.3 130.6, 145.2 130.4 L 145.2 138.5 L 143.9 138.5 L 143.9 128.7 L 145.4 128.7 \" fill=\"#0000FF\"/>\n",
       "<path class=\"atom-0\" d=\"M 153.2 128.7 L 154.5 128.7 L 154.5 132.9 L 159.5 132.9 L 159.5 128.7 L 160.9 128.7 L 160.9 138.5 L 159.5 138.5 L 159.5 134.0 L 154.5 134.0 L 154.5 138.5 L 153.2 138.5 L 153.2 128.7 \" fill=\"#0000FF\"/>\n",
       "<path class=\"atom-0\" d=\"M 162.8 138.2 Q 163.0 137.5, 163.6 137.2 Q 164.2 136.9, 164.9 136.9 Q 165.9 136.9, 166.5 137.4 Q 167.0 137.9, 167.0 138.9 Q 167.0 139.8, 166.3 140.7 Q 165.6 141.6, 164.1 142.7 L 167.1 142.7 L 167.1 143.4 L 162.8 143.4 L 162.8 142.8 Q 164.0 141.9, 164.7 141.3 Q 165.4 140.7, 165.8 140.1 Q 166.1 139.5, 166.1 138.9 Q 166.1 138.3, 165.8 137.9 Q 165.5 137.6, 164.9 137.6 Q 164.4 137.6, 164.1 137.8 Q 163.7 138.0, 163.5 138.5 L 162.8 138.2 \" fill=\"#0000FF\"/>\n",
       "<path class=\"atom-3\" d=\"M 196.2 92.9 Q 196.2 90.5, 197.4 89.2 Q 198.6 87.9, 200.7 87.9 Q 202.9 87.9, 204.1 89.2 Q 205.2 90.5, 205.2 92.9 Q 205.2 95.3, 204.1 96.6 Q 202.9 98.0, 200.7 98.0 Q 198.6 98.0, 197.4 96.6 Q 196.2 95.3, 196.2 92.9 M 200.7 96.8 Q 202.2 96.8, 203.0 95.8 Q 203.8 94.8, 203.8 92.9 Q 203.8 91.0, 203.0 90.0 Q 202.2 89.0, 200.7 89.0 Q 199.2 89.0, 198.4 90.0 Q 197.6 90.9, 197.6 92.9 Q 197.6 94.9, 198.4 95.8 Q 199.2 96.8, 200.7 96.8 \" fill=\"#FF0000\"/>\n",
       "<path class=\"atom-7\" d=\"M 41.3 61.6 Q 41.3 59.2, 42.5 57.9 Q 43.6 56.6, 45.8 56.6 Q 48.0 56.6, 49.1 57.9 Q 50.3 59.2, 50.3 61.6 Q 50.3 64.0, 49.1 65.3 Q 47.9 66.7, 45.8 66.7 Q 43.6 66.7, 42.5 65.3 Q 41.3 64.0, 41.3 61.6 M 45.8 65.6 Q 47.3 65.6, 48.1 64.6 Q 48.9 63.5, 48.9 61.6 Q 48.9 59.7, 48.1 58.7 Q 47.3 57.7, 45.8 57.7 Q 44.3 57.7, 43.5 58.7 Q 42.7 59.6, 42.7 61.6 Q 42.7 63.6, 43.5 64.6 Q 44.3 65.6, 45.8 65.6 \" fill=\"#FF0000\"/>\n",
       "<path class=\"atom-8\" d=\"M 9.8 112.5 L 11.1 112.5 L 11.1 116.7 L 16.1 116.7 L 16.1 112.5 L 17.4 112.5 L 17.4 122.3 L 16.1 122.3 L 16.1 117.8 L 11.1 117.8 L 11.1 122.3 L 9.8 122.3 L 9.8 112.5 \" fill=\"#FF0000\"/>\n",
       "<path class=\"atom-8\" d=\"M 19.4 117.4 Q 19.4 115.0, 20.6 113.7 Q 21.8 112.4, 23.9 112.4 Q 26.1 112.4, 27.3 113.7 Q 28.4 115.0, 28.4 117.4 Q 28.4 119.8, 27.3 121.1 Q 26.1 122.4, 23.9 122.4 Q 21.8 122.4, 20.6 121.1 Q 19.4 119.8, 19.4 117.4 M 23.9 121.3 Q 25.4 121.3, 26.2 120.3 Q 27.1 119.3, 27.1 117.4 Q 27.1 115.4, 26.2 114.5 Q 25.4 113.5, 23.9 113.5 Q 22.5 113.5, 21.6 114.5 Q 20.8 115.4, 20.8 117.4 Q 20.8 119.3, 21.6 120.3 Q 22.5 121.3, 23.9 121.3 \" fill=\"#FF0000\"/>\n",
       "</g>\n",
       "    <g transform=\"translate(215.0, 0) scale(1 1) \"><line x1=\"5\" y1=\"100\" x2=\"35\" y2=\"100\" style=\"stroke:rgb(0,0,0);stroke-width:2\"/>\n",
       "  <line x1=\"34\" y1=\"100\" x2=\"29\" y2=\"95\" style=\"stroke:rgb(0,0,0);stroke-width:2\"/>\n",
       "  <line x1=\"34\" y1=\"100\" x2=\"29\" y2=\"105\" style=\"stroke:rgb(0,0,0);stroke-width:2\"/>\n",
       "</g>\n",
       "    <g transform=\"translate(255.0, 0) scale(1 1) \"><!-- END OF HEADER -->\n",
       "<rect style=\"opacity:1.0;fill:#FFFFFF;stroke:none\" width=\"215.0\" height=\"200.0\" x=\"0.0\" y=\"0.0\"> </rect>\n",
       "<path class=\"bond-0 atom-0 atom-1\" d=\"M 182.7,91.6 L 170.1,86.6\" style=\"fill:none;fill-rule:evenodd;stroke:#0000FF;stroke-width:2.0px;stroke-linecap:butt;stroke-linejoin:miter;stroke-opacity:1\"/>\n",
       "<path class=\"bond-0 atom-0 atom-1\" d=\"M 170.1,86.6 L 157.4,81.7\" style=\"fill:none;fill-rule:evenodd;stroke:#000000;stroke-width:2.0px;stroke-linecap:butt;stroke-linejoin:miter;stroke-opacity:1\"/>\n",
       "<path class=\"bond-1 atom-1 atom-2\" d=\"M 157.4,81.7 L 132.4,101.6\" style=\"fill:none;fill-rule:evenodd;stroke:#000000;stroke-width:2.0px;stroke-linecap:butt;stroke-linejoin:miter;stroke-opacity:1\"/>\n",
       "<path class=\"bond-2 atom-2 atom-3\" d=\"M 129.8,100.6 L 131.9,114.3\" style=\"fill:none;fill-rule:evenodd;stroke:#000000;stroke-width:2.0px;stroke-linecap:butt;stroke-linejoin:miter;stroke-opacity:1\"/>\n",
       "<path class=\"bond-2 atom-2 atom-3\" d=\"M 131.9,114.3 L 134.0,128.0\" style=\"fill:none;fill-rule:evenodd;stroke:#FF0000;stroke-width:2.0px;stroke-linecap:butt;stroke-linejoin:miter;stroke-opacity:1\"/>\n",
       "<path class=\"bond-2 atom-2 atom-3\" d=\"M 134.6,99.9 L 136.7,113.6\" style=\"fill:none;fill-rule:evenodd;stroke:#000000;stroke-width:2.0px;stroke-linecap:butt;stroke-linejoin:miter;stroke-opacity:1\"/>\n",
       "<path class=\"bond-2 atom-2 atom-3\" d=\"M 136.7,113.6 L 138.7,127.2\" style=\"fill:none;fill-rule:evenodd;stroke:#FF0000;stroke-width:2.0px;stroke-linecap:butt;stroke-linejoin:miter;stroke-opacity:1\"/>\n",
       "<path class=\"bond-3 atom-2 atom-4\" d=\"M 132.4,101.6 L 102.6,90.0\" style=\"fill:none;fill-rule:evenodd;stroke:#000000;stroke-width:2.0px;stroke-linecap:butt;stroke-linejoin:miter;stroke-opacity:1\"/>\n",
       "<path class=\"bond-4 atom-4 atom-5\" d=\"M 102.6,90.0 L 77.6,109.9\" style=\"fill:none;fill-rule:evenodd;stroke:#000000;stroke-width:2.0px;stroke-linecap:butt;stroke-linejoin:miter;stroke-opacity:1\"/>\n",
       "<path class=\"bond-5 atom-5 atom-6\" d=\"M 77.6,109.9 L 47.9,98.2\" style=\"fill:none;fill-rule:evenodd;stroke:#000000;stroke-width:2.0px;stroke-linecap:butt;stroke-linejoin:miter;stroke-opacity:1\"/>\n",
       "<path class=\"bond-6 atom-6 atom-7\" d=\"M 50.4,99.3 L 48.4,85.6\" style=\"fill:none;fill-rule:evenodd;stroke:#000000;stroke-width:2.0px;stroke-linecap:butt;stroke-linejoin:miter;stroke-opacity:1\"/>\n",
       "<path class=\"bond-6 atom-6 atom-7\" d=\"M 48.4,85.6 L 46.3,72.0\" style=\"fill:none;fill-rule:evenodd;stroke:#FF0000;stroke-width:2.0px;stroke-linecap:butt;stroke-linejoin:miter;stroke-opacity:1\"/>\n",
       "<path class=\"bond-6 atom-6 atom-7\" d=\"M 45.7,100.0 L 43.6,86.4\" style=\"fill:none;fill-rule:evenodd;stroke:#000000;stroke-width:2.0px;stroke-linecap:butt;stroke-linejoin:miter;stroke-opacity:1\"/>\n",
       "<path class=\"bond-6 atom-6 atom-7\" d=\"M 43.6,86.4 L 41.6,72.8\" style=\"fill:none;fill-rule:evenodd;stroke:#FF0000;stroke-width:2.0px;stroke-linecap:butt;stroke-linejoin:miter;stroke-opacity:1\"/>\n",
       "<path class=\"bond-7 atom-6 atom-8\" d=\"M 47.9,98.2 L 38.0,106.1\" style=\"fill:none;fill-rule:evenodd;stroke:#000000;stroke-width:2.0px;stroke-linecap:butt;stroke-linejoin:miter;stroke-opacity:1\"/>\n",
       "<path class=\"bond-7 atom-6 atom-8\" d=\"M 38.0,106.1 L 28.1,114.0\" style=\"fill:none;fill-rule:evenodd;stroke:#FF0000;stroke-width:2.0px;stroke-linecap:butt;stroke-linejoin:miter;stroke-opacity:1\"/>\n",
       "<path d=\"M 158.0,81.9 L 157.4,81.7 L 156.2,82.7\" style=\"fill:none;stroke:#000000;stroke-width:2.0px;stroke-linecap:butt;stroke-linejoin:miter;stroke-opacity:1;\"/>\n",
       "<path d=\"M 133.7,100.6 L 132.4,101.6 L 130.9,101.0\" style=\"fill:none;stroke:#000000;stroke-width:2.0px;stroke-linecap:butt;stroke-linejoin:miter;stroke-opacity:1;\"/>\n",
       "<path d=\"M 104.1,90.5 L 102.6,90.0 L 101.4,90.9\" style=\"fill:none;stroke:#000000;stroke-width:2.0px;stroke-linecap:butt;stroke-linejoin:miter;stroke-opacity:1;\"/>\n",
       "<path d=\"M 78.9,108.9 L 77.6,109.9 L 76.2,109.3\" style=\"fill:none;stroke:#000000;stroke-width:2.0px;stroke-linecap:butt;stroke-linejoin:miter;stroke-opacity:1;\"/>\n",
       "<path d=\"M 49.4,98.8 L 47.9,98.2 L 47.4,98.6\" style=\"fill:none;stroke:#000000;stroke-width:2.0px;stroke-linecap:butt;stroke-linejoin:miter;stroke-opacity:1;\"/>\n",
       "<path class=\"atom-0\" d=\"M 185.2 88.8 L 188.2 93.6 Q 188.5 94.1, 188.9 94.9 Q 189.4 95.8, 189.4 95.8 L 189.4 88.8 L 190.6 88.8 L 190.6 97.9 L 189.4 97.9 L 186.2 92.6 Q 185.8 92.0, 185.4 91.3 Q 185.0 90.6, 184.9 90.4 L 184.9 97.9 L 183.8 97.9 L 183.8 88.8 L 185.2 88.8 \" fill=\"#0000FF\"/>\n",
       "<path class=\"atom-0\" d=\"M 192.4 88.8 L 193.6 88.8 L 193.6 92.6 L 198.2 92.6 L 198.2 88.8 L 199.4 88.8 L 199.4 97.9 L 198.2 97.9 L 198.2 93.7 L 193.6 93.7 L 193.6 97.9 L 192.4 97.9 L 192.4 88.8 \" fill=\"#0000FF\"/>\n",
       "<path class=\"atom-0\" d=\"M 201.2 97.5 Q 201.4 97.0, 202.0 96.7 Q 202.5 96.3, 203.2 96.3 Q 204.1 96.3, 204.6 96.8 Q 205.1 97.3, 205.1 98.2 Q 205.1 99.1, 204.5 99.9 Q 203.8 100.7, 202.5 101.7 L 205.2 101.7 L 205.2 102.4 L 201.2 102.4 L 201.2 101.8 Q 202.3 101.0, 203.0 100.4 Q 203.6 99.8, 204.0 99.3 Q 204.3 98.8, 204.3 98.2 Q 204.3 97.7, 204.0 97.3 Q 203.7 97.0, 203.2 97.0 Q 202.7 97.0, 202.4 97.2 Q 202.1 97.4, 201.9 97.8 L 201.2 97.5 \" fill=\"#0000FF\"/>\n",
       "<path class=\"atom-3\" d=\"M 133.0 133.3 Q 133.0 131.1, 134.1 129.9 Q 135.2 128.7, 137.2 128.7 Q 139.2 128.7, 140.3 129.9 Q 141.4 131.1, 141.4 133.3 Q 141.4 135.5, 140.3 136.7 Q 139.2 138.0, 137.2 138.0 Q 135.2 138.0, 134.1 136.7 Q 133.0 135.5, 133.0 133.3 M 137.2 136.9 Q 138.6 136.9, 139.3 136.0 Q 140.1 135.1, 140.1 133.3 Q 140.1 131.5, 139.3 130.6 Q 138.6 129.7, 137.2 129.7 Q 135.8 129.7, 135.1 130.6 Q 134.3 131.5, 134.3 133.3 Q 134.3 135.1, 135.1 136.0 Q 135.8 136.9, 137.2 136.9 \" fill=\"#FF0000\"/>\n",
       "<path class=\"atom-7\" d=\"M 38.9 66.6 Q 38.9 64.5, 40.0 63.3 Q 41.1 62.0, 43.1 62.0 Q 45.1 62.0, 46.2 63.3 Q 47.2 64.5, 47.2 66.6 Q 47.2 68.8, 46.1 70.1 Q 45.1 71.3, 43.1 71.3 Q 41.1 71.3, 40.0 70.1 Q 38.9 68.9, 38.9 66.6 M 43.1 70.3 Q 44.5 70.3, 45.2 69.4 Q 46.0 68.5, 46.0 66.6 Q 46.0 64.9, 45.2 64.0 Q 44.5 63.1, 43.1 63.1 Q 41.7 63.1, 40.9 64.0 Q 40.2 64.9, 40.2 66.6 Q 40.2 68.5, 40.9 69.4 Q 41.7 70.3, 43.1 70.3 \" fill=\"#FF0000\"/>\n",
       "<path class=\"atom-8\" d=\"M 9.8 113.7 L 11.0 113.7 L 11.0 117.6 L 15.6 117.6 L 15.6 113.7 L 16.9 113.7 L 16.9 122.8 L 15.6 122.8 L 15.6 118.6 L 11.0 118.6 L 11.0 122.8 L 9.8 122.8 L 9.8 113.7 \" fill=\"#FF0000\"/>\n",
       "<path class=\"atom-8\" d=\"M 18.7 118.2 Q 18.7 116.1, 19.8 114.8 Q 20.9 113.6, 22.9 113.6 Q 24.9 113.6, 26.0 114.8 Q 27.0 116.1, 27.0 118.2 Q 27.0 120.4, 25.9 121.7 Q 24.9 122.9, 22.9 122.9 Q 20.9 122.9, 19.8 121.7 Q 18.7 120.4, 18.7 118.2 M 22.9 121.9 Q 24.3 121.9, 25.0 121.0 Q 25.8 120.0, 25.8 118.2 Q 25.8 116.4, 25.0 115.6 Q 24.3 114.6, 22.9 114.6 Q 21.5 114.6, 20.7 115.5 Q 20.0 116.4, 20.0 118.2 Q 20.0 120.1, 20.7 121.0 Q 21.5 121.9, 22.9 121.9 \" fill=\"#FF0000\"/>\n",
       "</g>\n",
       "  </g>\n",
       "</svg>"
      ],
      "text/plain": [
       "<IPython.core.display.SVG object>"
      ]
     },
     "metadata": {},
     "output_type": "display_data"
    },
    {
     "name": "stdout",
     "output_type": "stream",
     "text": [
      "['rule0028', 'rule0028_47']\n",
      "['rule0028_50']\n",
      "\n",
      "\n"
     ]
    }
   ],
   "source": [
    "# Problematic\n",
    "problems = [\n",
    "    # ('P019f0330406c83b4d12823f480e8f68c006ef345', -1),\n",
    "    # ('P4d4cf75ccd62b55a0686f46d6e4b52d860725fe5', 1),\n",
    "    # ('P5b5ed50f979c6bad62a65d71da88a84d4a259348', 0),\n",
    "    # ('P77b28de7590b39ebcf60a7a4f4bdde47767f2ae7', 1),\n",
    "    # ('Pef934dc8b4ba9f348f2d530a575a4467c056459f', 1), # Might be real, but not a good analogue\n",
    "    # ('P2eb5a964bdc1db846cd9496f22d0eda68941ab3d', -1),\n",
    "    ('P105ebcd3f73ba8e8128c306b562a8f7b767f82ac', 0)\n",
    "]\n",
    "\n",
    "for pid, step in problems:\n",
    "    show_problem(pid, step)\n",
    "    print('\\n')"
   ]
  },
  {
   "cell_type": "code",
   "execution_count": 4,
   "metadata": {},
   "outputs": [
    {
     "name": "stdout",
     "output_type": "stream",
     "text": [
      "../artifacts/imgs/rxns/R27fbfe38615dcc7ddaf2ce01b5ad9ee2f9bdd9270123b457204c79969510f20d.svg\n",
      "../artifacts/imgs/rxns/14187.svg\n",
      "../artifacts/imgs/rxns/R050ea8de0b98efbab1c9fc15536f40f11fd57f28e3de0a5a9a69ca6c13e8973b.svg\n",
      "../artifacts/imgs/rxns/3726.svg\n"
     ]
    }
   ],
   "source": [
    "path = pw.get_path_with_id('P7362925724eaa940bf60614682e6db4d9579cbf9')\n",
    "for pr in path.reactions:\n",
    "    print(pr.image)\n",
    "    print(pr.top_analogues(k=2)[0].image)"
   ]
  }
 ],
 "metadata": {
  "kernelspec": {
   "display_name": "casp",
   "language": "python",
   "name": "python3"
  },
  "language_info": {
   "codemirror_mode": {
    "name": "ipython",
    "version": 3
   },
   "file_extension": ".py",
   "mimetype": "text/x-python",
   "name": "python",
   "nbconvert_exporter": "python",
   "pygments_lexer": "ipython3",
   "version": "3.9.18"
  }
 },
 "nbformat": 4,
 "nbformat_minor": 2
}
