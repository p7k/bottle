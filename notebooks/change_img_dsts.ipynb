{
 "cells": [
  {
   "cell_type": "code",
   "execution_count": 34,
   "metadata": {},
   "outputs": [],
   "source": [
    "from src.post_processing import PathWrangler\n",
    "from src.config import filepaths\n",
    "from src.utils import save_json"
   ]
  },
  {
   "cell_type": "code",
   "execution_count": 35,
   "metadata": {},
   "outputs": [],
   "source": [
    "stored_dir = filepaths['processed_expansions'] / \"241118_bottle_checkin\"\n",
    "pw = PathWrangler(\n",
    "    path_filepath= stored_dir / 'found_paths.json',\n",
    "    pr_filepath= stored_dir / 'predicted_reactions.json',\n",
    "    kr_filepath= stored_dir / 'known_reactions.json',\n",
    ")"
   ]
  },
  {
   "cell_type": "code",
   "execution_count": null,
   "metadata": {},
   "outputs": [
    {
     "data": {
      "text/plain": [
       "'../artifacts/imgs/rxns/6615.svg'"
      ]
     },
     "execution_count": 36,
     "metadata": {},
     "output_type": "execute_result"
    }
   ],
   "source": [
    "print(pw.predicted_reactions['Re69b39c63c0593fa41a1cec058394da2e621d3af1d43615aea5f8382dfc37fec']['image'],\n",
    "pw.known_reactions['6615']['image'])"
   ]
  },
  {
   "cell_type": "code",
   "execution_count": 37,
   "metadata": {},
   "outputs": [],
   "source": [
    "prs = pw.predicted_reactions\n",
    "krs = pw.known_reactions\n",
    "\n",
    "def change_img_path(d: dict):\n",
    "    for elt in d.values():\n",
    "        elt['image'] = elt['image'].split('rxns/')[-1]\n",
    "\n",
    "change_img_path(prs)\n",
    "change_img_path(krs)"
   ]
  },
  {
   "cell_type": "code",
   "execution_count": null,
   "metadata": {},
   "outputs": [
    {
     "name": "stdout",
     "output_type": "stream",
     "text": [
      "Re69b39c63c0593fa41a1cec058394da2e621d3af1d43615aea5f8382dfc37fec.svg\n"
     ]
    },
    {
     "data": {
      "text/plain": [
       "'6615.svg'"
      ]
     },
     "execution_count": 38,
     "metadata": {},
     "output_type": "execute_result"
    }
   ],
   "source": [
    "print(pw.predicted_reactions['Re69b39c63c0593fa41a1cec058394da2e621d3af1d43615aea5f8382dfc37fec']['image'])\n",
    "print(pw.known_reactions['6615']['image'])"
   ]
  },
  {
   "cell_type": "code",
   "execution_count": 39,
   "metadata": {},
   "outputs": [],
   "source": [
    "save_json(prs, stored_dir / 'predicted_reactions.json')\n",
    "save_json(krs, stored_dir / 'known_reactions.json')"
   ]
  }
 ],
 "metadata": {
  "kernelspec": {
   "display_name": "bottle-bcOlvnza-py3.12",
   "language": "python",
   "name": "python3"
  },
  "language_info": {
   "codemirror_mode": {
    "name": "ipython",
    "version": 3
   },
   "file_extension": ".py",
   "mimetype": "text/x-python",
   "name": "python",
   "nbconvert_exporter": "python",
   "pygments_lexer": "ipython3",
   "version": "3.12.7"
  }
 },
 "nbformat": 4,
 "nbformat_minor": 2
}
