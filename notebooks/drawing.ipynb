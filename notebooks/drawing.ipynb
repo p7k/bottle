{
 "cells": [
  {
   "cell_type": "code",
   "execution_count": null,
   "metadata": {},
   "outputs": [
    {
     "name": "stdout",
     "output_type": "stream",
     "text": [
      "The autoreload extension is already loaded. To reload it, use:\n",
      "  %reload_ext autoreload\n"
     ]
    }
   ],
   "source": [
    "%load_ext autoreload\n",
    "%autoreload 2\n",
    "\n",
    "\n",
    "from src.chem_draw import make_svg_drawer_non_scaling, mol_to_svg\n",
    "from rdkit import Chem\n",
    "import rdkit\n",
    "from rdkit import Chem\n",
    "from rdkit.Chem import rdFMCS, rdFingerprintGenerator, BRICS, Draw, Mol, AllChem\n",
    "from rdkit.Chem.MolStandardize import rdMolStandardize\n",
    "from rdkit.Chem.rdChemReactions import ChemicalReaction\n",
    "import rdkit.Chem.Draw.IPythonConsole\n",
    "from IPython.display import SVG\n",
    "from rdkit.Chem import Draw\n",
    "import lxml\n",
    "from src.config import filepaths\n",
    "from src.utils import load_json\n",
    "import ipywidgets as widgets"
   ]
  },
  {
   "cell_type": "code",
   "execution_count": 2,
   "metadata": {},
   "outputs": [],
   "source": [
    "def draw_molecule(mol: str | Mol, size: tuple = (200, 200), use_svg: bool = True):\n",
    "    '''\n",
    "    Draw molecule.\n",
    "\n",
    "    Args\n",
    "    ----\n",
    "    mol:str | Mol\n",
    "        Molecule\n",
    "    size:tuple\n",
    "        (width, height)\n",
    "    use_svg:bool\n",
    "    '''\n",
    "    if type(mol) is str:\n",
    "        mol = Chem.MolFromSmiles(mol)\n",
    "\n",
    "    if use_svg:\n",
    "        drawer = Draw.MolDraw2DSVG(*size)\n",
    "        drawer.DrawMolecule(mol)\n",
    "        drawer.FinishDrawing()\n",
    "        img = drawer.GetDrawingText()\n",
    "    else:\n",
    "        img = Draw.MolToImage(mol, size=size)\n",
    "\n",
    "    return img\n",
    "\n",
    "def draw_reaction(rxn: str | ChemicalReaction, sub_img_size: tuple = (200, 200), use_svg: bool = True, use_smiles: bool = True):\n",
    "    '''\n",
    "    Draw reaction.\n",
    "\n",
    "    Args\n",
    "    ----\n",
    "    rxn:str | ChemicalReaction\n",
    "    sub_img_size:tuple\n",
    "        Substrate img size\n",
    "    use_svg:bool\n",
    "    use_smiles:bool\n",
    "    '''\n",
    "    if type(rxn) is str:\n",
    "        rxn = Chem.rdChemReactions.ReactionFromSmarts(rxn, useSmiles=use_smiles)\n",
    "\n",
    "    return Draw.ReactionToImage(rxn, useSVG=use_svg, subImgSize=sub_img_size)"
   ]
  },
  {
   "cell_type": "code",
   "execution_count": null,
   "metadata": {},
   "outputs": [
    {
     "data": {
      "image/png": "[encoded data removed]",
      "text/html": [
       "<table><tr><td colspan=\"2\" style=\"text-align: center;\"><image src=\"data:image/png;base64,iVBORw0KGgoAAAANSUhEUgAAAcIAAACWCAIAAADCEh9HAAAABmJLR0QA/wD/AP+gvaeTAAAS/klEQVR4nO3deXCU5R0H8O/m2gRDTiAXVwBpYEoOAlGOoAiTAgGLHBprxcqx6aigndZZ7Dg4DtOZDDNtnWm1bmRUxCjJCKIjWKSC5SxyhAAJkRyQhARMSMiGXCRk3/7xLkvEPZJ9d/fdfd/v56/X7LO7P4R897fv8zzvqxEEAURE5Cw/uQsgIvJtjFEiIkkYo0REkjBGiYgkYYwSEUnCGCUikiRA7gKIlKWvD99/j/JyNDdDEDBsGH7xC2RkIIC/a4rFv1oiF2ltxZYtePdd3Lx5/0MREVi3Dhs3IipKjsrIvTRcfk/kAqWlWLgQdXXm/4yORnw8NBrU16O52fzD+Hjs3YuUFLlqJDfhuVEiyerq8Mgj5gxdsADHj6OxEefOoaQEjY04dgxZWQDQ0IBHH0V1tbzFksuxGyWS7LHHcPAgAPzhD/jrX6HR3D9AEPDyy/jHPwBg1iwcPmxlDPksxiiRNEeOIDMTAB5+GEePws/GN7y+PsyYgZMnAeA//8G8eZ6rkNyMX+qJpNm61XywcaPNDAXg74/XXzcfv/ee26siD2I3SiRNYiKuXEFICIxGBAbaG3nnDiIj0d6O+HjU13uqPnI7dqNEEjQ348oVAJgyxUGGAggIME/TNzTg2jV3l0YewxglkqCpyXwwcuSAxluG3bjhlnpIDoxRIgna2swHoaEDGh8WZj5obXVLPSQHxiiRBFqt+aCnZ0DjLcOCg91SD8mBMUokQUSE+WCA3aVln6jlieT7GKNEEsTFmfvK8vIBjS8rA4CgIIwa5caqyLMYo0QSBAUhPR0Aampw9aqDwQ0N5p2gqan8Uq8kjFEiabKzAUAQ8NFHDkZu2waTCQCWLHF7VeRBXH5PJE1jI0aPxu3bCA9HaSkSEqwPa2jA5MkwGqHVoqYGMTGerZLciN0okTQjRmDTJgAwGpGVhdpaK2Pq6pCVBaMRADZtYoYqDLtRIsn6+vDrX2PPHgB44AHodMjOxqhR0GhQV4c9e2AwoKMDALKz8cUX8PeXt15yLcYokSv09uLll2EwmM9+/pyfH37/e7z1luM9o+RrGKNErlNSgn/+E/v23bsMPoBRo/CrX2H9eiQny1cZuRFjlMgN2tvx448QBMTEYOhQuash92KMEknT0YFDhzBxIsaPl7sUkgdn6omkuXABixbhqafkroNkwxglkqaiAgAmTLA5YPNmLFqE//7XYxWRhzFGiaSprASABx+0OeDwYXz9tXnBEykRY5RIGofdqMOcJR/HGCWSxn5K9vSgthYBARg71oM1kUcxRomksR+j1dXo68PYsVx1r2CMUSIJmpvR0oKwMAwfbn2Aw6/85PsYo0QSiClp57wnT4yqAGOUSAKHKcluVAUYo0QSsBslxiiRJGJK2mk2HeYs+T7GKJEE9lPy9m3U1SEgAGPGeLIo8jDGKJEE9rtRrnZSB8YokbNu3MDNmwgPt7naiSdG1YExSuSsAU7TM0aVjjFK5KwBTtNztZPSMUaJnMVpegLAGCVynsOU5Np7dWCMEjnLfkrevo2rV7naSQ0Yo0TOqqoCHF3bKTGRq50UjzFK5BRxtVNEBIYNsz6AJ0ZVgzFK5BSeGKW7GKNETuG9Q+guxiiRU3iJPLqLMUrkFHajdBdjlMgp9lNSXO0UGIjRoz1ZFMmCMUrkFPsxWlXF1U7qwRglGrymJrS2IiIC0dHWB/DEqJowRokGj/cOoX4Yo0SD1lddDXCanswYo0SD9ualS2PDwz9KTrY5gt2omjBGiQatoqKixmj0S0iwNeDboUMvz5rVyxhVhwC5CyDyPRUVFQAetJGSt2/fzvryS39//06udlIHdqNEg1ZZWQlggo1Tn5WVlSaTKTExMSCAbYoqMEaJBqexsdFoNEZGRkbbWO0khqytXpWUhzFKNDgOU9L+V35SHsYo0eA4TEn7X/lJeRijRIPjMCXZjaoNY5RocBympDiA3ah6MEaVw2Qy7dy58/z583IXonD2U7K7u7u+vj4oKGg0VzupBmNUCSorK1esWBESErJixYrk5ORHHnmkr69P7qIUq6qqCra70aqqKq52UhvGqA8TBOG77757+umnJ02atHPnzp6eHj8/PwCHDh0aOXJkXV2d3AUqkGW1U1RUlNUBPDGqQoxRn9Ta2pqfn5+cnDx37twdO3aYTKbhw4fr9frOzs68vDw/P7/r169nZmbyC77LiSk5ceJE+wN4YlRVGKM+5vTp07m5uQkJCbm5uRcuXIiLi9Pr9VVVVY2NjXl5eVqtVq/XHz58OCkpqaamZubMmYWFhXKXrCgOU5Jr71WIMeobLO3ntGnT8vPzu7u758+fX1RUVFtbm5eXN3bs2P6DZ86cWVxcvGbNmvb29pycnNzc3N7eXpkKV5oBrr1nN6oqPAvu7U6fPp2fn//xxx93dnYCiIuLW7VqVW5ubmJiop1nBQcHb926NSMjY/369fn5+RcvXiwqKoqNjfVU1YrFbpSsEMgrtba2GgyGKVOmiH9Nfn5+YvvZ09MzqNc5efLkmDFjACQkJBw7dsxN1arH1KlTAZw4ccLqo52dnX5+fkFBQXfu3PFwYSQjxqjXOXXqlE6nGzJkiBigsbGxer2+urra6RdsbGycN28egICAgLy8PBeWqkLh4eEAmpubrT4qzuklJSV5uCqSF2PUW4jtZ/LdC6o73X5a1dvbq9frNRoNgGeeeaajo0P6a6rQ9evXAURHR9sasGvXLgCLFy/2ZFUkO54bld99Zz9jY2Ofe+45nU43btw4V72F2IempqauXbu2oKCgtLR0586dLnx9lRjgRUl4YlRtGKOyMRqNhYWF77zzTklJCe62nzqdbunSpYHuubl5Tk5OamrqsmXLzp49O3369IKCggULFrjjjZRqgBcl4TS92nDBkwz6r/0sKSkRz35WVFTs379/5cqVbspQUVJS0okTJ5YvX97S0rJo0aKNGzeaTCb3vZ3CsBsl6+Q+q6AiRqPRYDCkpKSI/+dde/ZzUEwmU15enr+/P4Ds7OyWlhYPF+CjnnzySQAFBQW2BowcORLA5cuXPVgUyY8x6gni5PsDDzwgBmhMTIxer6+srJS3qgMHDowYMQLAhAkTzp07J28xPiEtLQ3A999/b/VRrnZSLcaoG4ntZ2pqqpieGo1GrvbTltra2oyMDAAhISEffvih3OV4u6FDhwKw1byfO3cOXO2kSoxRt/DO9tOqrq6utWvXinXqdDrviXhvc+3aNQDDhg2zNUBc7bRkyRJPVkXegDP1rtTW1rZjx4533323uLhY/El6erpOp1u1alVwcLC8tdkSHBz83nvvTZ8+3bJttLCwMC4uTu66vI7DWXheIk+1OFPvGv0n34uLiyMjI3U63YULF8S21Gsz1EKn0x07dmzMmDGHDx+eNm3asWPH5K7I6/Sfha+pqVm5cmV8fHx6evoPP/zQfwBXO6mR3O2wb2trazMYDOLMgyg9Pd1gMHR2dspdmjOampq4bdSW1157DUBubu6MGTP6/wZFR0efPHlSEIRHH30UwP79++WulDyNMeoksc0MDQ0Vf5ciIiLE9lPuuqTitlGrjEZjenp6//SMiopas2bN+PHjAWi1WoPBkJCQAK52UiXG6OCI7ad4mR8FtJ+27N69OywsDEBqampVVZXc5cjpvtnC8PDwl1566cCBA+Kj4qeO5R+DVqvlaicVYowOlNX28/z583LX5S7l5eWTJ08GEBYWtnv3brnL8TRxsdoAT9cUFBSEhIQACAkJYTeqQoxRB1TSflrV1ta2fPlyABqNRq/X9/X1yV2RJ9z3eWmZLbT/rLNnz4pf8KOjo7/55hvPlEpegjFqU2lp6YYNG8QV15b2U227fdSzbVT6bKHRaFy6dCkAf3//N954QyWfOiQwRn+uq6urqKho/vz59/06qXmy5eDBgwreNurC2ULxU0e8zfWSJUtaW1tdXi15IcboPaWlpXq9PjIy0jKZoML20xbLttHg4OAPPvhA7nJcwH2na/bs2SP+K5o4caICFm+QQ4xRszNnzlh+nTIzM7dv397V1SV3Ud6lu7tbGdtGPTBbWFFRId7IIDQ0tKioyIWvTF6IMXrPnDlzXnnllbKyMrkL8WoGgyEoKAjA7NmzGxoa5C5nEMT2s//yT7fOFnZ1dT3//PPiBN2GDRt891OHHGKM0qCdOnVKvNtofHz80aNH5S7HMRlnCy2fOnPmzLl+/boH3pE8jzFKzmhqahJn4bx526iXzBYeOXJEvNTLyJEjjx8/7sm3Js9gjJKT7ty547XbRr1ttrCxsXHu3LniNqe33npLrjLITRijJMnu3bvFW7enpKTIvm3US9pPq/pvG3322WfVsH1DPRijJFX/baOff/65LDWUlZXp9fqoqKj+7WdJSYksxdjxySefiNvz09LSqqur5S6HXIMxSi4g17ZRb24/bSkpKbFsG923b5/c5ZALMEbJNfpvG120aJG7t436SvtpVUtLS3Z2trhttODvfxdMJrkrIkkYo+RK/beNuiPUbLWf7e3tLn8vtxI/dRLCwrrHjROWLBFu3pS7InIeY5RczE3bRi9evPjz9vPs2bOuen1Z3Pz3v4XISAEQkpIE7vvwWYxRcj0XbhtVTPtpU02NMG2aAAihoQK3jfomxii5y7Zt28SLGTu3bVRsP6Ojo8X0DAsL0+l0xcXF7ihVZl1dwurVAiAAgk4ncNuor2GMkhudPn1a3DY6YsQIy4037Ovu7hbbT3FhvwLbT1sMBiEoSACEOXOEa9fkroYGgTFK7jXwbaPl5eVqaT9tOXJEiIsTACEhQeC2Ud/BGCW3679tdPHixU1NTf0ftdV+3rp1S66C5dTYKDz2mAAIWq3AbaM+gjFKHmK522hISMjBgwcFQfjqq68eeuih+9rPM2fOyF2p3Hp7Bb3efKr02WcFL95KQCKNIAgg8oi9e/c+8cQTPT09Go1myJAhHR0d4s8zMjJ0Ol1OTo7lPsaETz/FunXo6EBaGnbuRGKi3AWRTYxR8qiGhobp06c3NDQA0Gg0kyZN2rx587Jly+SuyyuVl+OJJ1BejuhofPIJsrLkLoisY4ySp5lMpvfff7+8vPzVV1+NiYmRuxzv1taG3/0On38Of3+8/jo2bYKfn9w10f0Yo0TeTRCwZQv+/GeYTFi8GNu3IyJC7proJxijRL7g66/x29+ipQUPPohdu/DLX8pdEN3DLwhEvmDhQhQXY/p0VFRgxgwUFcldEN3DGCXyEaNH49AhrF6N9nY89RRyc9HbK3dNBPBLPZHvyc/H+vXo6cGcOSgsRGys3AWpHWOUyAcdPYonn0RDAxIS8NlnePhhmyNv3EBzM7RaDBuG0FAPlqgi/FJP5INmzcKpU8jMRH09duywMmDvXqxciagoDB+OpCQkJmLoUIwfjxdfxKVL1l8zKwuhoRg+3MFbL16M0FCEhUn9IygIu1Ein9Xbi7ffxgsvICjo3g9v3EBODr791uazAgLwpz/hL3+5fwnq7Nk4ehTBwejqsvem8+bhwAFoNDCZpFWvHAFyF0BEzgoMxCuv/OQnTU3IzMQPPwBAXBxeeAFz5yIuDj09uHwZu3Zh2zb09iIvD/X1+OgjWapWHsYokYKsW2fO0McfR0HBT06GJiVh4UJs2IAFC9DQgO3bMXs2dDq5KlUSnhslUopvv8UXXwBASgo++8z6hNKUKfjqKwQGAsBrr6Gz06MVKhRjlEgp3nnHfLBlizkorUpLw+rVANDSgk8/9URhSscYJVKEvj7s3w8AcXHodwdA655/3nywb597q1IHxiiRIpSV4dYtAMjIcHwVqKlTERwMAP/7n9sLUwFOMREpwtWr5oOJEx0PDgzEuHEoK0N9PUymn8RuXx+2brX33IYGCVUqE2OUSBFaWswHA1wYHx4OACYT2tp+cuW93l6sW+fq4hSOMUqkCJZ9NAO8rrO/v/ngvlX0Gg0SEuw9sakJt28PtjplY4wSKYKloxTPkDpkNAKARmNuSy20WtTV2XuiuIuJ+uEUE5EiWK7zdOWK48EmE2pqAGDEiHttKTmLMUqkCFOmQKsFgNOnHQ++dAltbQCQkeHeqtSBMUqkCFotZswAgIoKnD3rYHBhoflg7lz3VqUOjFEipbDMsG/ebG9YczPefhsAQkKwapXbq1IBxiiRUqxYYb7V3a5d+NvfrI/p6sJvfoOmJgDYsAHR0Z4rT7kYo0RKERSE7dsREgIAf/wjcnJw7ty9R3t6sGcPMjLwzTcAkJaGN9+Up07F4YInIgVJTcX+/Xj8cbS0oLAQhYWIiUFsLHp7UVuL9nbzsFmz8OWX5ikpkozdKJGyzJqFsjK8+KL5Qnk//oiSEpSVmTN07Fj861/47jtERclbppLwJiJECtXTg+PHUV2NpiYEBmL4cEydismTbY6vrER7O/z8kJxs72WrqnDrFjQapKS4vGQfxRglIpKEX+qJiCRhjBIRScIYJSKShDFKRCQJY5SISBLGKBGRJP8HlmZq4CvefMYAAACmelRYdHJka2l0UEtMIHJka2l0IDIwMjQuMDMuNQAAeJx7v2/tPQYgEABiRgYIYANiViBuYGRjSACJM0NoJiYErQGkmVk4IDQTB0MGiGZk5AYawsjEwMQMlNRgYmZVcAIZKB6EZDoDm8Af8wP/PibsA3FkDu/dfzt6rR2IfUNi9r6TbWL7Qezzed32Rd2f94DY75cts09x3GUPYt8yFXQQulgCViMGAI0ZIWLBGYqhAAAA83pUWHRNT0wgcmRraXQgMjAyNC4wMy41AAB4nH2RXW7DIAyA3zmFL1DkHwz4sUmqqZqaSFvWO/S999fMpoxWi2pA8s9ng02AJh/T++0Of8JTCAD4YpsZXAURwwWaAsPp7TzDuB6HzTMuX/P6CRnUM3w9k8d1uWweghEOHGtJJSMcMDJZLgIY8Ud6LjeSYqqsVDwuUtVoB5QGehzZODVNazFLO2RykiJWE7IGekZx939QYXFQ0N9mriRV4r2rs3McOVcjbgVNs5DugKd5ehrD72CGZZ76YNri3r0bIL1H8pN6I+xH+3PJzfx42WPpZm+/5Xr4Bi66Ypd0cWSVAAAAfnpUWHRTTUlMRVMgcmRraXQgMjAyNC4wMy41AAB4nBWMwQ3EMAgEW7lnImFkFmNAVl4uIA2l+MO/1exo9t77et77/X1XA4cPn9Q6Q3K60mrCI2CgzqphKYVqdiTG8Sw8c9AS7pGKg+pz5DxMu6RTJcwEtMCYUYmS0qaK0f39AcMpGlWSDo3UAAAAAElFTkSuQmCC\"></td></tr>\n",
       "<tr><th style=\"text-align: right\">label</th><td style=\"text-align: left\">butanoic acid</td></tr></table>"
      ],
      "text/plain": [
       "<rdkit.Chem.rdchem.Mol at 0x7feac4f669d0>"
      ]
     },
     "execution_count": 2,
     "metadata": {},
     "output_type": "execute_result"
    }
   ],
   "source": [
    "smi = 'CCCC(=O)O'\n",
    "mol = Chem.MolFromSmiles(smi)\n",
    "mol.SetProp('label', \"butanoic acid\")\n",
    "mol"
   ]
  },
  {
   "cell_type": "code",
   "execution_count": 4,
   "metadata": {},
   "outputs": [
    {
     "name": "stdout",
     "output_type": "stream",
     "text": [
      "1.35 ms ± 59.4 μs per loop (mean ± std. dev. of 7 runs, 1,000 loops each)\n"
     ]
    }
   ],
   "source": [
    "fp = filepaths['imgs'] / \"rxns\" / \"Rffe87c7bee7ad7ce62f14004e96690f1fd89cb69bac3b8baccd054256bcbd972.svg\"\n",
    "%timeit svg = widgets.Image.from_file(fp)"
   ]
  },
  {
   "cell_type": "code",
   "execution_count": null,
   "metadata": {},
   "outputs": [],
   "source": []
  },
  {
   "cell_type": "code",
   "execution_count": 20,
   "metadata": {},
   "outputs": [],
   "source": [
    "sma = 'CCCC(=O)O>>CCCC=O.O'\n",
    "txt = draw_reaction(sma)\n",
    "btxt = txt.encode(encoding='UTF-8')"
   ]
  },
  {
   "cell_type": "code",
   "execution_count": 21,
   "metadata": {},
   "outputs": [
    {
     "data": {
      "text/plain": [
       "<Element {http://www.w3.org/2000/svg}svg at 0x7feac23698c0>"
      ]
     },
     "execution_count": 21,
     "metadata": {},
     "output_type": "execute_result"
    }
   ],
   "source": [
    "root = lxml.etree.fromstring(btxt)\n",
    "root"
   ]
  },
  {
   "cell_type": "code",
   "execution_count": 23,
   "metadata": {},
   "outputs": [
    {
     "ename": "AttributeError",
     "evalue": "'_cython_3_0_11.cython_function_or_method' object has no attribute 'endswith'",
     "output_type": "error",
     "traceback": [
      "\u001b[0;31m---------------------------------------------------------------------------\u001b[0m",
      "\u001b[0;31mAttributeError\u001b[0m                            Traceback (most recent call last)",
      "Cell \u001b[0;32mIn[23], line 2\u001b[0m\n\u001b[1;32m      1\u001b[0m \u001b[38;5;28;01mfor\u001b[39;00m elt \u001b[38;5;129;01min\u001b[39;00m root\u001b[38;5;241m.\u001b[39miter():\n\u001b[0;32m----> 2\u001b[0m     \u001b[38;5;28;01mif\u001b[39;00m \u001b[43melt\u001b[49m\u001b[38;5;241;43m.\u001b[39;49m\u001b[43mtag\u001b[49m\u001b[38;5;241;43m.\u001b[39;49m\u001b[43mendswith\u001b[49m(\u001b[38;5;124m\"\u001b[39m\u001b[38;5;124mtext\u001b[39m\u001b[38;5;124m\"\u001b[39m):\n\u001b[1;32m      3\u001b[0m         \u001b[38;5;28mprint\u001b[39m(elt\u001b[38;5;241m.\u001b[39mtag)\n",
      "\u001b[0;31mAttributeError\u001b[0m: '_cython_3_0_11.cython_function_or_method' object has no attribute 'endswith'"
     ]
    }
   ],
   "source": [
    "for elt in root.iter():\n",
    "    if elt.tag.endswith(\"text\"):\n",
    "        print(elt.tag)"
   ]
  },
  {
   "cell_type": "code",
   "execution_count": 2,
   "metadata": {},
   "outputs": [],
   "source": [
    "drawer = make_svg_drawer_non_scaling(width=300, height=200)\n",
    "\n",
    "name_smi = {\n",
    "    'methyl_dimethyl_ha': 'OC(C)C(C)(C)C(=O)O',\n",
    "    'dipropyl_ha': 'OCC(CCC)(CCC)C(=O)O',\n",
    "    'c4_methyl_diol': 'CC(O)C(C)(O)C',\n",
    "    'hopa': 'O=C(O)C(=O)CCCO',\n",
    "    'mvl_acid_precursor': 'C=C(CCCO)C(=O)O',\n",
    "    'mvl': 'C=C1CCCOC1=O',\n",
    "    '2_methylene_glutarate': 'C=C(CCC(=O)O)C(=O)O',\n",
    "    '4_methylene_glutamate': 'C=C(CC(N)C(=O)O)C(=O)O',\n",
    "    'xylose': 'O=CC(O)C(O)C(O)CO',\n",
    "    'homocitrate': 'C(CC(CC(=O)O)(C(=O)O)O)C(=O)O',\n",
    "    'hydroxypivalic_acid': 'OCC(C)(C)C(=O)O',\n",
    "\n",
    "}\n",
    "\n",
    "mols = [Chem.MolFromSmiles(smi) for smi in name_smi.values()]\n",
    "\n",
    "for name, smi in name_smi.items():\n",
    "    mol = Chem.MolFromSmiles(smi)\n",
    "    txt = mol_to_svg(mol, drawer)\n",
    "\n",
    "    with open(f\"../artifacts/illustrative_imgs/{name}.svg\", 'w') as f:\n",
    "        f.write(txt)"
   ]
  },
  {
   "cell_type": "code",
   "execution_count": 3,
   "metadata": {},
   "outputs": [
    {
     "data": {
      "image/svg+xml": [
       "<svg xmlns=\"http://www.w3.org/2000/svg\" xmlns:rdkit=\"http://www.rdkit.org/xml\" xmlns:xlink=\"http://www.w3.org/1999/xlink\" version=\"1.1\" baseProfile=\"full\" xml:space=\"preserve\" width=\"300px\" height=\"200px\" viewBox=\"0 0 300 200\">\n",
       "<!-- END OF HEADER -->\n",
       "<rect style=\"opacity:1.0;fill:#FFFFFF;stroke:none\" width=\"300.0\" height=\"200.0\" x=\"0.0\" y=\"0.0\"> </rect>\n",
       "<path class=\"bond-0 atom-0 atom-1\" d=\"M 54.5,100.4 L 74.1,82.2\" style=\"fill:none;fill-rule:evenodd;stroke:#FF0000;stroke-width:2.0px;stroke-linecap:butt;stroke-linejoin:miter;stroke-opacity:1\"/>\n",
       "<path class=\"bond-0 atom-0 atom-1\" d=\"M 74.1,82.2 L 93.7,63.9\" style=\"fill:none;fill-rule:evenodd;stroke:#000000;stroke-width:2.0px;stroke-linecap:butt;stroke-linejoin:miter;stroke-opacity:1\"/>\n",
       "<path class=\"bond-1 atom-1 atom-2\" d=\"M 93.7,63.9 L 159.6,84.2\" style=\"fill:none;fill-rule:evenodd;stroke:#000000;stroke-width:2.0px;stroke-linecap:butt;stroke-linejoin:miter;stroke-opacity:1\"/>\n",
       "<path class=\"bond-2 atom-2 atom-3\" d=\"M 159.6,84.2 L 179.9,18.2\" style=\"fill:none;fill-rule:evenodd;stroke:#000000;stroke-width:2.0px;stroke-linecap:butt;stroke-linejoin:miter;stroke-opacity:1\"/>\n",
       "<path class=\"bond-3 atom-2 atom-4\" d=\"M 159.6,84.2 L 139.4,150.1\" style=\"fill:none;fill-rule:evenodd;stroke:#000000;stroke-width:2.0px;stroke-linecap:butt;stroke-linejoin:miter;stroke-opacity:1\"/>\n",
       "<path class=\"bond-4 atom-2 atom-5\" d=\"M 159.6,84.2 L 225.6,104.4\" style=\"fill:none;fill-rule:evenodd;stroke:#000000;stroke-width:2.0px;stroke-linecap:butt;stroke-linejoin:miter;stroke-opacity:1\"/>\n",
       "<path class=\"bond-5 atom-5 atom-6\" d=\"M 226.9,110.2 L 247.6,90.9\" style=\"fill:none;fill-rule:evenodd;stroke:#000000;stroke-width:2.0px;stroke-linecap:butt;stroke-linejoin:miter;stroke-opacity:1\"/>\n",
       "<path class=\"bond-5 atom-5 atom-6\" d=\"M 247.6,90.9 L 268.3,71.7\" style=\"fill:none;fill-rule:evenodd;stroke:#FF0000;stroke-width:2.0px;stroke-linecap:butt;stroke-linejoin:miter;stroke-opacity:1\"/>\n",
       "<path class=\"bond-5 atom-5 atom-6\" d=\"M 219.8,102.6 L 240.6,83.4\" style=\"fill:none;fill-rule:evenodd;stroke:#000000;stroke-width:2.0px;stroke-linecap:butt;stroke-linejoin:miter;stroke-opacity:1\"/>\n",
       "<path class=\"bond-5 atom-5 atom-6\" d=\"M 240.6,83.4 L 261.3,64.1\" style=\"fill:none;fill-rule:evenodd;stroke:#FF0000;stroke-width:2.0px;stroke-linecap:butt;stroke-linejoin:miter;stroke-opacity:1\"/>\n",
       "<path class=\"bond-6 atom-5 atom-7\" d=\"M 225.6,104.4 L 231.9,131.9\" style=\"fill:none;fill-rule:evenodd;stroke:#000000;stroke-width:2.0px;stroke-linecap:butt;stroke-linejoin:miter;stroke-opacity:1\"/>\n",
       "<path class=\"bond-6 atom-5 atom-7\" d=\"M 231.9,131.9 L 238.2,159.4\" style=\"fill:none;fill-rule:evenodd;stroke:#FF0000;stroke-width:2.0px;stroke-linecap:butt;stroke-linejoin:miter;stroke-opacity:1\"/>\n",
       "<path d=\"M 92.7,64.8 L 93.7,63.9 L 97.0,64.9\" style=\"fill:none;stroke:#000000;stroke-width:2.0px;stroke-linecap:butt;stroke-linejoin:miter;stroke-opacity:1;\"/>\n",
       "<path d=\"M 222.3,103.4 L 225.6,104.4 L 225.9,105.8\" style=\"fill:none;stroke:#000000;stroke-width:2.0px;stroke-linecap:butt;stroke-linejoin:miter;stroke-opacity:1;\"/>\n",
       "<path class=\"atom-0\" d=\"M 15.0 101.2 L 17.6 101.2 L 17.6 109.5 L 27.6 109.5 L 27.6 101.2 L 30.3 101.2 L 30.3 120.8 L 27.6 120.8 L 27.6 111.7 L 17.6 111.7 L 17.6 120.8 L 15.0 120.8 L 15.0 101.2 \" fill=\"#FF0000\"/>\n",
       "<path class=\"atom-0\" d=\"M 34.3 110.9 Q 34.3 106.3, 36.6 103.6 Q 38.9 101.0, 43.2 101.0 Q 47.6 101.0, 49.9 103.6 Q 52.2 106.3, 52.2 110.9 Q 52.2 115.7, 49.9 118.4 Q 47.5 121.1, 43.2 121.1 Q 38.9 121.1, 36.6 118.4 Q 34.3 115.7, 34.3 110.9 M 43.2 118.9 Q 46.2 118.9, 47.8 116.9 Q 49.5 114.9, 49.5 110.9 Q 49.5 107.1, 47.8 105.2 Q 46.2 103.2, 43.2 103.2 Q 40.3 103.2, 38.6 105.2 Q 37.0 107.1, 37.0 110.9 Q 37.0 114.9, 38.6 116.9 Q 40.3 118.9, 43.2 118.9 \" fill=\"#FF0000\"/>\n",
       "<path class=\"atom-6\" d=\"M 267.1 57.5 Q 267.1 52.8, 269.4 50.2 Q 271.7 47.5, 276.0 47.5 Q 280.4 47.5, 282.7 50.2 Q 285.0 52.8, 285.0 57.5 Q 285.0 62.2, 282.7 64.9 Q 280.3 67.6, 276.0 67.6 Q 271.7 67.6, 269.4 64.9 Q 267.1 62.2, 267.1 57.5 M 276.0 65.4 Q 279.0 65.4, 280.6 63.4 Q 282.2 61.4, 282.2 57.5 Q 282.2 53.6, 280.6 51.7 Q 279.0 49.8, 276.0 49.8 Q 273.1 49.8, 271.4 51.7 Q 269.8 53.6, 269.8 57.5 Q 269.8 61.4, 271.4 63.4 Q 273.1 65.4, 276.0 65.4 \" fill=\"#FF0000\"/>\n",
       "<path class=\"atom-7\" d=\"M 232.0 171.6 Q 232.0 167.0, 234.3 164.3 Q 236.7 161.7, 241.0 161.7 Q 245.3 161.7, 247.6 164.3 Q 250.0 167.0, 250.0 171.6 Q 250.0 176.4, 247.6 179.1 Q 245.3 181.8, 241.0 181.8 Q 236.7 181.8, 234.3 179.1 Q 232.0 176.4, 232.0 171.6 M 241.0 179.6 Q 244.0 179.6, 245.6 177.6 Q 247.2 175.6, 247.2 171.6 Q 247.2 167.8, 245.6 165.9 Q 244.0 163.9, 241.0 163.9 Q 238.0 163.9, 236.4 165.8 Q 234.8 167.8, 234.8 171.6 Q 234.8 175.6, 236.4 177.6 Q 238.0 179.6, 241.0 179.6 \" fill=\"#FF0000\"/>\n",
       "<path class=\"atom-7\" d=\"M 253.0 161.9 L 255.6 161.9 L 255.6 170.2 L 265.6 170.2 L 265.6 161.9 L 268.3 161.9 L 268.3 181.5 L 265.6 181.5 L 265.6 172.4 L 255.6 172.4 L 255.6 181.5 L 253.0 181.5 L 253.0 161.9 \" fill=\"#FF0000\"/>\n",
       "</svg>"
      ],
      "text/plain": [
       "<IPython.core.display.SVG object>"
      ]
     },
     "metadata": {},
     "output_type": "display_data"
    }
   ],
   "source": [
    "display(SVG(txt))"
   ]
  }
 ],
 "metadata": {
  "kernelspec": {
   "display_name": "bottle-bcOlvnza-py3.12",
   "language": "python",
   "name": "python3"
  },
  "language_info": {
   "codemirror_mode": {
    "name": "ipython",
    "version": 3
   },
   "file_extension": ".py",
   "mimetype": "text/x-python",
   "name": "python",
   "nbconvert_exporter": "python",
   "pygments_lexer": "ipython3",
   "version": "3.12.7"
  }
 },
 "nbformat": 4,
 "nbformat_minor": 2
}
