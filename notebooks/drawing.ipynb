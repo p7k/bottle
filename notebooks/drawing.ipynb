{
 "cells": [
  {
   "cell_type": "code",
   "execution_count": null,
   "metadata": {},
   "outputs": [
    {
     "name": "stdout",
     "output_type": "stream",
     "text": [
      "The autoreload extension is already loaded. To reload it, use:\n",
      "  %reload_ext autoreload\n"
     ]
    }
   ],
   "source": [
    "%load_ext autoreload\n",
    "%autoreload 2\n",
    "\n",
    "import rdkit\n",
    "from rdkit import Chem\n",
    "from rdkit.Chem import Draw\n",
    "import rdkit.Chem.Draw.IPythonConsole\n",
    "from IPython.display import SVG\n",
    "import lxml.etree as ET\n",
    "from src.config import filepaths\n",
    "import svgutils.transform as st"
   ]
  },
  {
   "cell_type": "code",
   "execution_count": 8,
   "metadata": {},
   "outputs": [
    {
     "data": {
      "image/svg+xml": [
       "<svg xmlns=\"http://www.w3.org/2000/svg\" xmlns:xlink=\"http://www.w3.org/1999/xlink\" version=\"1.1\" width=\"578.0px\" viewBox=\"0 0 578.0 200.0\" height=\"200.0px\">\n",
       "  <g>\n",
       "    <g transform=\"translate(0, 0) scale(1 1) \"><!-- END OF HEADER -->\n",
       "<rect style=\"opacity:1.0;fill:#FFFFFF;stroke:none\" width=\"240.0\" height=\"200.0\" x=\"0.0\" y=\"0.0\"> </rect>\n",
       "<path class=\"bond-0 atom-0 atom-1\" d=\"M 12.0,109.6 L 45.5,90.3\" style=\"fill:none;fill-rule:evenodd;stroke:#000000;stroke-width:2.0px;stroke-linecap:butt;stroke-linejoin:miter;stroke-opacity:1\"/>\n",
       "<path class=\"bond-1 atom-1 atom-2\" d=\"M 45.5,90.3 L 45.5,74.4\" style=\"fill:none;fill-rule:evenodd;stroke:#000000;stroke-width:2.0px;stroke-linecap:butt;stroke-linejoin:miter;stroke-opacity:1\"/>\n",
       "<path class=\"bond-1 atom-1 atom-2\" d=\"M 45.5,74.4 L 45.5,58.6\" style=\"fill:none;fill-rule:evenodd;stroke:#FF0000;stroke-width:2.0px;stroke-linecap:butt;stroke-linejoin:miter;stroke-opacity:1\"/>\n",
       "<path class=\"bond-2 atom-1 atom-3\" d=\"M 45.5,90.3 L 78.9,109.6\" style=\"fill:none;fill-rule:evenodd;stroke:#000000;stroke-width:2.0px;stroke-linecap:butt;stroke-linejoin:miter;stroke-opacity:1\"/>\n",
       "<path class=\"bond-3 atom-3 atom-4\" d=\"M 78.9,109.6 L 78.9,125.5\" style=\"fill:none;fill-rule:evenodd;stroke:#000000;stroke-width:2.0px;stroke-linecap:butt;stroke-linejoin:miter;stroke-opacity:1\"/>\n",
       "<path class=\"bond-3 atom-3 atom-4\" d=\"M 78.9,125.5 L 78.9,141.4\" style=\"fill:none;fill-rule:evenodd;stroke:#FF0000;stroke-width:2.0px;stroke-linecap:butt;stroke-linejoin:miter;stroke-opacity:1\"/>\n",
       "<path class=\"bond-4 atom-3 atom-5\" d=\"M 78.9,109.6 L 112.4,90.3\" style=\"fill:none;fill-rule:evenodd;stroke:#000000;stroke-width:2.0px;stroke-linecap:butt;stroke-linejoin:miter;stroke-opacity:1\"/>\n",
       "<path class=\"bond-5 atom-5 atom-6\" d=\"M 112.4,90.3 L 112.4,74.4\" style=\"fill:none;fill-rule:evenodd;stroke:#000000;stroke-width:2.0px;stroke-linecap:butt;stroke-linejoin:miter;stroke-opacity:1\"/>\n",
       "<path class=\"bond-5 atom-5 atom-6\" d=\"M 112.4,74.4 L 112.4,58.6\" style=\"fill:none;fill-rule:evenodd;stroke:#FF0000;stroke-width:2.0px;stroke-linecap:butt;stroke-linejoin:miter;stroke-opacity:1\"/>\n",
       "<path class=\"bond-6 atom-5 atom-7\" d=\"M 112.4,90.3 L 145.8,109.6\" style=\"fill:none;fill-rule:evenodd;stroke:#000000;stroke-width:2.0px;stroke-linecap:butt;stroke-linejoin:miter;stroke-opacity:1\"/>\n",
       "<path class=\"bond-7 atom-7 atom-8\" d=\"M 145.8,109.6 L 145.8,125.5\" style=\"fill:none;fill-rule:evenodd;stroke:#000000;stroke-width:2.0px;stroke-linecap:butt;stroke-linejoin:miter;stroke-opacity:1\"/>\n",
       "<path class=\"bond-7 atom-7 atom-8\" d=\"M 145.8,125.5 L 145.8,141.4\" style=\"fill:none;fill-rule:evenodd;stroke:#FF0000;stroke-width:2.0px;stroke-linecap:butt;stroke-linejoin:miter;stroke-opacity:1\"/>\n",
       "<path class=\"bond-8 atom-7 atom-9\" d=\"M 145.8,109.6 L 179.3,90.3\" style=\"fill:none;fill-rule:evenodd;stroke:#000000;stroke-width:2.0px;stroke-linecap:butt;stroke-linejoin:miter;stroke-opacity:1\"/>\n",
       "<path class=\"bond-9 atom-9 atom-10\" d=\"M 182.2,91.9 L 182.2,75.3\" style=\"fill:none;fill-rule:evenodd;stroke:#000000;stroke-width:2.0px;stroke-linecap:butt;stroke-linejoin:miter;stroke-opacity:1\"/>\n",
       "<path class=\"bond-9 atom-9 atom-10\" d=\"M 182.2,75.3 L 182.2,58.6\" style=\"fill:none;fill-rule:evenodd;stroke:#FF0000;stroke-width:2.0px;stroke-linecap:butt;stroke-linejoin:miter;stroke-opacity:1\"/>\n",
       "<path class=\"bond-9 atom-9 atom-10\" d=\"M 176.4,91.9 L 176.4,75.3\" style=\"fill:none;fill-rule:evenodd;stroke:#000000;stroke-width:2.0px;stroke-linecap:butt;stroke-linejoin:miter;stroke-opacity:1\"/>\n",
       "<path class=\"bond-9 atom-9 atom-10\" d=\"M 176.4,75.3 L 176.4,58.6\" style=\"fill:none;fill-rule:evenodd;stroke:#FF0000;stroke-width:2.0px;stroke-linecap:butt;stroke-linejoin:miter;stroke-opacity:1\"/>\n",
       "<path class=\"bond-10 atom-9 atom-11\" d=\"M 179.3,90.3 L 192.8,98.1\" style=\"fill:none;fill-rule:evenodd;stroke:#000000;stroke-width:2.0px;stroke-linecap:butt;stroke-linejoin:miter;stroke-opacity:1\"/>\n",
       "<path class=\"bond-10 atom-9 atom-11\" d=\"M 192.8,98.1 L 206.4,105.9\" style=\"fill:none;fill-rule:evenodd;stroke:#FF0000;stroke-width:2.0px;stroke-linecap:butt;stroke-linejoin:miter;stroke-opacity:1\"/>\n",
       "<path d=\"M 177.6,91.2 L 179.3,90.3 L 179.9,90.7\" style=\"fill:none;stroke:#000000;stroke-width:2.0px;stroke-linecap:butt;stroke-linejoin:miter;stroke-opacity:1;\"/>\n",
       "<path class=\"atom-2\" d=\"M 40.4 51.7 Q 40.4 49.0, 41.7 47.6 Q 43.0 46.1, 45.5 46.1 Q 47.9 46.1, 49.2 47.6 Q 50.5 49.0, 50.5 51.7 Q 50.5 54.3, 49.2 55.8 Q 47.8 57.3, 45.5 57.3 Q 43.0 57.3, 41.7 55.8 Q 40.4 54.3, 40.4 51.7 M 45.5 56.1 Q 47.1 56.1, 48.0 55.0 Q 48.9 53.9, 48.9 51.7 Q 48.9 49.5, 48.0 48.4 Q 47.1 47.3, 45.5 47.3 Q 43.8 47.3, 42.9 48.4 Q 42.0 49.5, 42.0 51.7 Q 42.0 53.9, 42.9 55.0 Q 43.8 56.1, 45.5 56.1 \" fill=\"#FF0000\"/>\n",
       "<path class=\"atom-2\" d=\"M 52.2 46.2 L 53.7 46.2 L 53.7 50.9 L 59.3 50.9 L 59.3 46.2 L 60.7 46.2 L 60.7 57.2 L 59.3 57.2 L 59.3 52.1 L 53.7 52.1 L 53.7 57.2 L 52.2 57.2 L 52.2 46.2 \" fill=\"#FF0000\"/>\n",
       "<path class=\"atom-4\" d=\"M 73.9 148.2 Q 73.9 145.6, 75.2 144.1 Q 76.5 142.7, 78.9 142.7 Q 81.3 142.7, 82.6 144.1 Q 83.9 145.6, 83.9 148.2 Q 83.9 150.9, 82.6 152.4 Q 81.3 153.9, 78.9 153.9 Q 76.5 153.9, 75.2 152.4 Q 73.9 150.9, 73.9 148.2 M 78.9 152.7 Q 80.6 152.7, 81.5 151.6 Q 82.4 150.4, 82.4 148.2 Q 82.4 146.1, 81.5 145.0 Q 80.6 143.9, 78.9 143.9 Q 77.2 143.9, 76.3 145.0 Q 75.4 146.1, 75.4 148.2 Q 75.4 150.4, 76.3 151.6 Q 77.2 152.7, 78.9 152.7 \" fill=\"#FF0000\"/>\n",
       "<path class=\"atom-4\" d=\"M 85.6 142.8 L 87.1 142.8 L 87.1 147.4 L 92.7 147.4 L 92.7 142.8 L 94.2 142.8 L 94.2 153.7 L 92.7 153.7 L 92.7 148.7 L 87.1 148.7 L 87.1 153.7 L 85.6 153.7 L 85.6 142.8 \" fill=\"#FF0000\"/>\n",
       "<path class=\"atom-6\" d=\"M 107.3 51.7 Q 107.3 49.0, 108.6 47.6 Q 109.9 46.1, 112.4 46.1 Q 114.8 46.1, 116.1 47.6 Q 117.4 49.0, 117.4 51.7 Q 117.4 54.3, 116.1 55.8 Q 114.8 57.3, 112.4 57.3 Q 109.9 57.3, 108.6 55.8 Q 107.3 54.3, 107.3 51.7 M 112.4 56.1 Q 114.0 56.1, 114.9 55.0 Q 115.8 53.9, 115.8 51.7 Q 115.8 49.5, 114.9 48.4 Q 114.0 47.3, 112.4 47.3 Q 110.7 47.3, 109.8 48.4 Q 108.9 49.5, 108.9 51.7 Q 108.9 53.9, 109.8 55.0 Q 110.7 56.1, 112.4 56.1 \" fill=\"#FF0000\"/>\n",
       "<path class=\"atom-6\" d=\"M 119.1 46.2 L 120.6 46.2 L 120.6 50.9 L 126.2 50.9 L 126.2 46.2 L 127.6 46.2 L 127.6 57.2 L 126.2 57.2 L 126.2 52.1 L 120.6 52.1 L 120.6 57.2 L 119.1 57.2 L 119.1 46.2 \" fill=\"#FF0000\"/>\n",
       "<path class=\"atom-8\" d=\"M 140.8 148.2 Q 140.8 145.6, 142.1 144.1 Q 143.4 142.7, 145.8 142.7 Q 148.2 142.7, 149.5 144.1 Q 150.8 145.6, 150.8 148.2 Q 150.8 150.9, 149.5 152.4 Q 148.2 153.9, 145.8 153.9 Q 143.4 153.9, 142.1 152.4 Q 140.8 150.9, 140.8 148.2 M 145.8 152.7 Q 147.5 152.7, 148.4 151.6 Q 149.3 150.4, 149.3 148.2 Q 149.3 146.1, 148.4 145.0 Q 147.5 143.9, 145.8 143.9 Q 144.1 143.9, 143.2 145.0 Q 142.3 146.1, 142.3 148.2 Q 142.3 150.4, 143.2 151.6 Q 144.1 152.7, 145.8 152.7 \" fill=\"#FF0000\"/>\n",
       "<path class=\"atom-8\" d=\"M 152.5 142.8 L 154.0 142.8 L 154.0 147.4 L 159.6 147.4 L 159.6 142.8 L 161.1 142.8 L 161.1 153.7 L 159.6 153.7 L 159.6 148.7 L 154.0 148.7 L 154.0 153.7 L 152.5 153.7 L 152.5 142.8 \" fill=\"#FF0000\"/>\n",
       "<path class=\"atom-10\" d=\"M 174.2 51.7 Q 174.2 49.0, 175.5 47.6 Q 176.8 46.1, 179.3 46.1 Q 181.7 46.1, 183.0 47.6 Q 184.3 49.0, 184.3 51.7 Q 184.3 54.3, 183.0 55.8 Q 181.7 57.3, 179.3 57.3 Q 176.9 57.3, 175.5 55.8 Q 174.2 54.3, 174.2 51.7 M 179.3 56.1 Q 180.9 56.1, 181.8 55.0 Q 182.7 53.9, 182.7 51.7 Q 182.7 49.5, 181.8 48.4 Q 180.9 47.3, 179.3 47.3 Q 177.6 47.3, 176.7 48.4 Q 175.8 49.5, 175.8 51.7 Q 175.8 53.9, 176.7 55.0 Q 177.6 56.1, 179.3 56.1 \" fill=\"#FF0000\"/>\n",
       "<path class=\"atom-11\" d=\"M 207.7 109.6 Q 207.7 107.0, 209.0 105.5 Q 210.3 104.0, 212.7 104.0 Q 215.1 104.0, 216.4 105.5 Q 217.7 107.0, 217.7 109.6 Q 217.7 112.3, 216.4 113.8 Q 215.1 115.3, 212.7 115.3 Q 210.3 115.3, 209.0 113.8 Q 207.7 112.3, 207.7 109.6 M 212.7 114.0 Q 214.4 114.0, 215.3 112.9 Q 216.2 111.8, 216.2 109.6 Q 216.2 107.5, 215.3 106.4 Q 214.4 105.3, 212.7 105.3 Q 211.0 105.3, 210.1 106.4 Q 209.2 107.4, 209.2 109.6 Q 209.2 111.8, 210.1 112.9 Q 211.0 114.0, 212.7 114.0 \" fill=\"#FF0000\"/>\n",
       "<path class=\"atom-11\" d=\"M 219.4 104.2 L 220.9 104.2 L 220.9 108.8 L 226.5 108.8 L 226.5 104.2 L 228.0 104.2 L 228.0 115.1 L 226.5 115.1 L 226.5 110.1 L 220.9 110.1 L 220.9 115.1 L 219.4 115.1 L 219.4 104.2 \" fill=\"#FF0000\"/>\n",
       "</g>\n",
       "    <g transform=\"translate(240.0, 0) scale(1 1) \"><line x1=\"5\" y1=\"100\" x2=\"35\" y2=\"100\" style=\"stroke:rgb(0,0,0);stroke-width:2\"/>\n",
       "  <line x1=\"34\" y1=\"100\" x2=\"29\" y2=\"95\" style=\"stroke:rgb(0,0,0);stroke-width:2\"/>\n",
       "  <line x1=\"34\" y1=\"100\" x2=\"29\" y2=\"105\" style=\"stroke:rgb(0,0,0);stroke-width:2\"/>\n",
       "</g>\n",
       "    <g transform=\"translate(280.0, 0) scale(1 1) \"><!-- END OF HEADER -->\n",
       "<rect style=\"opacity:1.0;fill:#FFFFFF;stroke:none\" width=\"233.0\" height=\"200.0\" x=\"0.0\" y=\"0.0\"> </rect>\n",
       "<path class=\"bond-0 atom-0 atom-1\" d=\"M 11.7,109.3 L 44.0,90.6\" style=\"fill:none;fill-rule:evenodd;stroke:#000000;stroke-width:2.0px;stroke-linecap:butt;stroke-linejoin:miter;stroke-opacity:1\"/>\n",
       "<path class=\"bond-1 atom-1 atom-2\" d=\"M 44.0,90.6 L 44.0,75.3\" style=\"fill:none;fill-rule:evenodd;stroke:#000000;stroke-width:2.0px;stroke-linecap:butt;stroke-linejoin:miter;stroke-opacity:1\"/>\n",
       "<path class=\"bond-1 atom-1 atom-2\" d=\"M 44.0,75.3 L 44.0,59.9\" style=\"fill:none;fill-rule:evenodd;stroke:#FF0000;stroke-width:2.0px;stroke-linecap:butt;stroke-linejoin:miter;stroke-opacity:1\"/>\n",
       "<path class=\"bond-2 atom-1 atom-3\" d=\"M 44.0,90.6 L 76.4,109.3\" style=\"fill:none;fill-rule:evenodd;stroke:#000000;stroke-width:2.0px;stroke-linecap:butt;stroke-linejoin:miter;stroke-opacity:1\"/>\n",
       "<path class=\"bond-3 atom-3 atom-4\" d=\"M 76.4,109.3 L 76.4,124.7\" style=\"fill:none;fill-rule:evenodd;stroke:#000000;stroke-width:2.0px;stroke-linecap:butt;stroke-linejoin:miter;stroke-opacity:1\"/>\n",
       "<path class=\"bond-3 atom-3 atom-4\" d=\"M 76.4,124.7 L 76.4,140.1\" style=\"fill:none;fill-rule:evenodd;stroke:#FF0000;stroke-width:2.0px;stroke-linecap:butt;stroke-linejoin:miter;stroke-opacity:1\"/>\n",
       "<path class=\"bond-4 atom-3 atom-5\" d=\"M 76.4,109.3 L 108.8,90.6\" style=\"fill:none;fill-rule:evenodd;stroke:#000000;stroke-width:2.0px;stroke-linecap:butt;stroke-linejoin:miter;stroke-opacity:1\"/>\n",
       "<path class=\"bond-5 atom-5 atom-6\" d=\"M 108.8,90.6 L 141.1,109.3\" style=\"fill:none;fill-rule:evenodd;stroke:#000000;stroke-width:2.0px;stroke-linecap:butt;stroke-linejoin:miter;stroke-opacity:1\"/>\n",
       "<path class=\"bond-6 atom-6 atom-7\" d=\"M 138.3,107.6 L 138.3,123.8\" style=\"fill:none;fill-rule:evenodd;stroke:#000000;stroke-width:2.0px;stroke-linecap:butt;stroke-linejoin:miter;stroke-opacity:1\"/>\n",
       "<path class=\"bond-6 atom-6 atom-7\" d=\"M 138.3,123.8 L 138.3,140.1\" style=\"fill:none;fill-rule:evenodd;stroke:#FF0000;stroke-width:2.0px;stroke-linecap:butt;stroke-linejoin:miter;stroke-opacity:1\"/>\n",
       "<path class=\"bond-6 atom-6 atom-7\" d=\"M 143.9,107.6 L 143.9,123.8\" style=\"fill:none;fill-rule:evenodd;stroke:#000000;stroke-width:2.0px;stroke-linecap:butt;stroke-linejoin:miter;stroke-opacity:1\"/>\n",
       "<path class=\"bond-6 atom-6 atom-7\" d=\"M 143.9,123.8 L 143.9,140.1\" style=\"fill:none;fill-rule:evenodd;stroke:#FF0000;stroke-width:2.0px;stroke-linecap:butt;stroke-linejoin:miter;stroke-opacity:1\"/>\n",
       "<path class=\"bond-7 atom-6 atom-8\" d=\"M 141.1,109.3 L 173.5,90.6\" style=\"fill:none;fill-rule:evenodd;stroke:#000000;stroke-width:2.0px;stroke-linecap:butt;stroke-linejoin:miter;stroke-opacity:1\"/>\n",
       "<path class=\"bond-8 atom-8 atom-9\" d=\"M 176.3,92.2 L 176.3,76.1\" style=\"fill:none;fill-rule:evenodd;stroke:#000000;stroke-width:2.0px;stroke-linecap:butt;stroke-linejoin:miter;stroke-opacity:1\"/>\n",
       "<path class=\"bond-8 atom-8 atom-9\" d=\"M 176.3,76.1 L 176.3,59.9\" style=\"fill:none;fill-rule:evenodd;stroke:#FF0000;stroke-width:2.0px;stroke-linecap:butt;stroke-linejoin:miter;stroke-opacity:1\"/>\n",
       "<path class=\"bond-8 atom-8 atom-9\" d=\"M 170.7,92.2 L 170.7,76.1\" style=\"fill:none;fill-rule:evenodd;stroke:#000000;stroke-width:2.0px;stroke-linecap:butt;stroke-linejoin:miter;stroke-opacity:1\"/>\n",
       "<path class=\"bond-8 atom-8 atom-9\" d=\"M 170.7,76.1 L 170.7,59.9\" style=\"fill:none;fill-rule:evenodd;stroke:#FF0000;stroke-width:2.0px;stroke-linecap:butt;stroke-linejoin:miter;stroke-opacity:1\"/>\n",
       "<path class=\"bond-9 atom-8 atom-10\" d=\"M 173.5,90.6 L 186.6,98.2\" style=\"fill:none;fill-rule:evenodd;stroke:#000000;stroke-width:2.0px;stroke-linecap:butt;stroke-linejoin:miter;stroke-opacity:1\"/>\n",
       "<path class=\"bond-9 atom-8 atom-10\" d=\"M 186.6,98.2 L 199.8,105.7\" style=\"fill:none;fill-rule:evenodd;stroke:#FF0000;stroke-width:2.0px;stroke-linecap:butt;stroke-linejoin:miter;stroke-opacity:1\"/>\n",
       "<path d=\"M 107.1,91.5 L 108.8,90.6 L 110.4,91.5\" style=\"fill:none;stroke:#000000;stroke-width:2.0px;stroke-linecap:butt;stroke-linejoin:miter;stroke-opacity:1;\"/>\n",
       "<path d=\"M 139.5,108.3 L 141.1,109.3 L 142.7,108.3\" style=\"fill:none;stroke:#000000;stroke-width:2.0px;stroke-linecap:butt;stroke-linejoin:miter;stroke-opacity:1;\"/>\n",
       "<path d=\"M 171.9,91.5 L 173.5,90.6 L 174.1,91.0\" style=\"fill:none;stroke:#000000;stroke-width:2.0px;stroke-linecap:butt;stroke-linejoin:miter;stroke-opacity:1;\"/>\n",
       "<path class=\"atom-2\" d=\"M 39.2 53.2 Q 39.2 50.7, 40.4 49.3 Q 41.7 47.8, 44.0 47.8 Q 46.4 47.8, 47.6 49.3 Q 48.9 50.7, 48.9 53.2 Q 48.9 55.8, 47.6 57.3 Q 46.3 58.7, 44.0 58.7 Q 41.7 58.7, 40.4 57.3 Q 39.2 55.8, 39.2 53.2 M 44.0 57.5 Q 45.6 57.5, 46.5 56.4 Q 47.4 55.4, 47.4 53.2 Q 47.4 51.1, 46.5 50.1 Q 45.6 49.0, 44.0 49.0 Q 42.4 49.0, 41.5 50.1 Q 40.7 51.1, 40.7 53.2 Q 40.7 55.4, 41.5 56.4 Q 42.4 57.5, 44.0 57.5 \" fill=\"#FF0000\"/>\n",
       "<path class=\"atom-2\" d=\"M 50.5 48.0 L 52.0 48.0 L 52.0 52.5 L 57.4 52.5 L 57.4 48.0 L 58.8 48.0 L 58.8 58.6 L 57.4 58.6 L 57.4 53.7 L 52.0 53.7 L 52.0 58.6 L 50.5 58.6 L 50.5 48.0 \" fill=\"#FF0000\"/>\n",
       "<path class=\"atom-4\" d=\"M 71.5 146.7 Q 71.5 144.1, 72.8 142.7 Q 74.0 141.3, 76.4 141.3 Q 78.7 141.3, 80.0 142.7 Q 81.2 144.1, 81.2 146.7 Q 81.2 149.2, 80.0 150.7 Q 78.7 152.2, 76.4 152.2 Q 74.1 152.2, 72.8 150.7 Q 71.5 149.3, 71.5 146.7 M 76.4 151.0 Q 78.0 151.0, 78.9 149.9 Q 79.8 148.8, 79.8 146.7 Q 79.8 144.6, 78.9 143.5 Q 78.0 142.5, 76.4 142.5 Q 74.8 142.5, 73.9 143.5 Q 73.0 144.6, 73.0 146.7 Q 73.0 148.8, 73.9 149.9 Q 74.8 151.0, 76.4 151.0 \" fill=\"#FF0000\"/>\n",
       "<path class=\"atom-4\" d=\"M 82.9 141.4 L 84.3 141.4 L 84.3 145.9 L 89.7 145.9 L 89.7 141.4 L 91.2 141.4 L 91.2 152.0 L 89.7 152.0 L 89.7 147.1 L 84.3 147.1 L 84.3 152.0 L 82.9 152.0 L 82.9 141.4 \" fill=\"#FF0000\"/>\n",
       "<path class=\"atom-7\" d=\"M 136.3 146.7 Q 136.3 144.1, 137.5 142.7 Q 138.8 141.3, 141.1 141.3 Q 143.5 141.3, 144.7 142.7 Q 146.0 144.1, 146.0 146.7 Q 146.0 149.2, 144.7 150.7 Q 143.4 152.2, 141.1 152.2 Q 138.8 152.2, 137.5 150.7 Q 136.3 149.3, 136.3 146.7 M 141.1 151.0 Q 142.7 151.0, 143.6 149.9 Q 144.5 148.8, 144.5 146.7 Q 144.5 144.6, 143.6 143.5 Q 142.7 142.5, 141.1 142.5 Q 139.5 142.5, 138.6 143.5 Q 137.8 144.6, 137.8 146.7 Q 137.8 148.8, 138.6 149.9 Q 139.5 151.0, 141.1 151.0 \" fill=\"#FF0000\"/>\n",
       "<path class=\"atom-9\" d=\"M 168.6 53.2 Q 168.6 50.7, 169.9 49.3 Q 171.1 47.8, 173.5 47.8 Q 175.8 47.8, 177.1 49.3 Q 178.4 50.7, 178.4 53.2 Q 178.4 55.8, 177.1 57.3 Q 175.8 58.7, 173.5 58.7 Q 171.2 58.7, 169.9 57.3 Q 168.6 55.8, 168.6 53.2 M 173.5 57.5 Q 175.1 57.5, 176.0 56.4 Q 176.9 55.4, 176.9 53.2 Q 176.9 51.1, 176.0 50.1 Q 175.1 49.0, 173.5 49.0 Q 171.9 49.0, 171.0 50.1 Q 170.1 51.1, 170.1 53.2 Q 170.1 55.4, 171.0 56.4 Q 171.9 57.5, 173.5 57.5 \" fill=\"#FF0000\"/>\n",
       "<path class=\"atom-10\" d=\"M 201.0 109.3 Q 201.0 106.8, 202.3 105.3 Q 203.5 103.9, 205.9 103.9 Q 208.2 103.9, 209.5 105.3 Q 210.7 106.8, 210.7 109.3 Q 210.7 111.9, 209.4 113.3 Q 208.2 114.8, 205.9 114.8 Q 203.5 114.8, 202.3 113.3 Q 201.0 111.9, 201.0 109.3 M 205.9 113.6 Q 207.5 113.6, 208.3 112.5 Q 209.2 111.4, 209.2 109.3 Q 209.2 107.2, 208.3 106.2 Q 207.5 105.1, 205.9 105.1 Q 204.2 105.1, 203.4 106.2 Q 202.5 107.2, 202.5 109.3 Q 202.5 111.4, 203.4 112.5 Q 204.2 113.6, 205.9 113.6 \" fill=\"#FF0000\"/>\n",
       "<path class=\"atom-10\" d=\"M 212.4 104.0 L 213.8 104.0 L 213.8 108.5 L 219.2 108.5 L 219.2 104.0 L 220.6 104.0 L 220.6 114.6 L 219.2 114.6 L 219.2 109.7 L 213.8 109.7 L 213.8 114.6 L 212.4 114.6 L 212.4 104.0 \" fill=\"#FF0000\"/>\n",
       "</g>\n",
       "    <g transform=\"translate(513.0, 0) scale(1 1) \"><line x1=\"15\" y1=\"100\" x2=\"25\" y2=\"100\" style=\"stroke:rgb(0,0,0);stroke-width:2\"/>\n",
       "  <line x1=\"20\" y1=\"95\" x2=\"20\" y2=\"105\" style=\"stroke:rgb(0,0,0);stroke-width:2\"/>\n",
       "</g>\n",
       "    <g transform=\"translate(553.0, 0) scale(1 1) \"><!-- END OF HEADER -->\n",
       "<rect style=\"opacity:1.0;fill:#FFFFFF;stroke:none\" width=\"25.0\" height=\"200.0\" x=\"0.0\" y=\"0.0\"> </rect>\n",
       "<path class=\"atom-0\" d=\"M 1.2 93.4 L 2.5 93.4 L 2.5 97.2 L 7.0 97.2 L 7.0 93.4 L 8.2 93.4 L 8.2 102.3 L 7.0 102.3 L 7.0 98.2 L 2.5 98.2 L 2.5 102.3 L 1.2 102.3 L 1.2 93.4 \" fill=\"#FF0000\"/>\n",
       "<path class=\"atom-0\" d=\"M 10.0 102.0 Q 10.2 101.4, 10.7 101.1 Q 11.2 100.8, 11.9 100.8 Q 12.8 100.8, 13.3 101.3 Q 13.8 101.7, 13.8 102.6 Q 13.8 103.5, 13.2 104.3 Q 12.5 105.1, 11.2 106.0 L 13.9 106.0 L 13.9 106.7 L 10.0 106.7 L 10.0 106.2 Q 11.1 105.4, 11.7 104.8 Q 12.4 104.2, 12.7 103.7 Q 13.0 103.2, 13.0 102.6 Q 13.0 102.1, 12.7 101.8 Q 12.4 101.4, 11.9 101.4 Q 11.5 101.4, 11.1 101.6 Q 10.8 101.8, 10.6 102.2 L 10.0 102.0 \" fill=\"#FF0000\"/>\n",
       "<path class=\"atom-0\" d=\"M 15.1 97.8 Q 15.1 95.7, 16.2 94.5 Q 17.2 93.3, 19.2 93.3 Q 21.1 93.3, 22.2 94.5 Q 23.2 95.7, 23.2 97.8 Q 23.2 100.0, 22.2 101.2 Q 21.1 102.4, 19.2 102.4 Q 17.2 102.4, 16.2 101.2 Q 15.1 100.0, 15.1 97.8 M 19.2 101.4 Q 20.5 101.4, 21.3 100.5 Q 22.0 99.6, 22.0 97.8 Q 22.0 96.1, 21.3 95.2 Q 20.5 94.3, 19.2 94.3 Q 17.8 94.3, 17.1 95.2 Q 16.4 96.1, 16.4 97.8 Q 16.4 99.6, 17.1 100.5 Q 17.8 101.4, 19.2 101.4 \" fill=\"#FF0000\"/>\n",
       "</g>\n",
       "  </g>\n",
       "</svg>"
      ],
      "text/plain": [
       "<IPython.core.display.SVG object>"
      ]
     },
     "execution_count": 8,
     "metadata": {},
     "output_type": "execute_result"
    }
   ],
   "source": [
    "svg = SVG('/home/stef/quest_data/bottle/results/processed_expansions/241118_bottle_checkin/svgs/1.svg')\n",
    "svg"
   ]
  },
  {
   "cell_type": "code",
   "execution_count": null,
   "metadata": {},
   "outputs": [],
   "source": [
    "'''\n",
    "Draw mol to svg with rdkit\n",
    "Append stoich coefficient below w/ lxml\n",
    "Stitch together mols, pluses and arrow w/ lxml & svgutils if necessary\n",
    "'''"
   ]
  },
  {
   "cell_type": "code",
   "execution_count": null,
   "metadata": {},
   "outputs": [],
   "source": [
    "def draw_mol_svg(smiles, stoich, hilite_atoms=None):\n",
    "    fn = filepaths['artifacts'] / f\"imgs/mols/{hash((smiles, stoich))}.svg\"\n",
    "    if os.path.exists(fn):\n",
    "        pass\n",
    "    else:\n",
    "        mol = Chem.MolFromSmiles(smiles)\n",
    "        \n",
    "        if mol is None: # Catch MolFromSmiles troubles\n",
    "            mol = Chem.MolFromSmiles(smiles, sanitize=False)\n",
    "\n",
    "        nb = mol.GetNumAtoms()\n",
    "        width = int(np.log10(nb) * 200) + 25\n",
    "        d2d = Draw.MolDraw2DSVG(width, 200)\n",
    "\n",
    "        if (stoich > 1) & (hilite_atoms is None):\n",
    "            d2d.DrawMolecule(mol, legend=f\"({stoich})\", highlightAtoms=hilite_atoms)\n",
    "        elif stoich > 1:\n",
    "            d2d.DrawMolecule(mol, legend=f\"({stoich})\")\n",
    "        elif (stoich == 1) & (hilite_atoms is None):\n",
    "            d2d.DrawMolecule(mol)\n",
    "        else:\n",
    "            d2d.DrawMolecule(mol, highlightAtoms=hilite_atoms)\n",
    "        \n",
    "        d2d.FinishDrawing()\n",
    "        fig = st.fromstring(d2d.GetDrawingText())\n",
    "        fig.save(fn)\n",
    "    \n",
    "    return fn"
   ]
  },
  {
   "cell_type": "code",
   "execution_count": null,
   "metadata": {},
   "outputs": [
    {
     "data": {
      "image/svg+xml": [
       "<svg xmlns=\"http://www.w3.org/2000/svg\" xmlns:rdkit=\"http://www.rdkit.org/xml\" xmlns:xlink=\"http://www.w3.org/1999/xlink\" version=\"1.1\" baseProfile=\"full\" xml:space=\"preserve\" width=\"200px\" height=\"200px\" viewBox=\"0 0 200 200\">\n",
       "<!-- END OF HEADER -->\n",
       "<rect style=\"opacity:1.0;fill:#FFFFFF;stroke:none\" width=\"200.0\" height=\"200.0\" x=\"0.0\" y=\"0.0\"> </rect>\n",
       "<path class=\"bond-0 atom-0 atom-1\" d=\"M 10.0,163.3 L 83.3,121.0\" style=\"fill:none;fill-rule:evenodd;stroke:#000000;stroke-width:2.0px;stroke-linecap:butt;stroke-linejoin:miter;stroke-opacity:1\"/>\n",
       "<path class=\"bond-1 atom-1 atom-2\" d=\"M 89.6,124.6 L 89.6,88.1\" style=\"fill:none;fill-rule:evenodd;stroke:#000000;stroke-width:2.0px;stroke-linecap:butt;stroke-linejoin:miter;stroke-opacity:1\"/>\n",
       "<path class=\"bond-1 atom-1 atom-2\" d=\"M 89.6,88.1 L 89.6,51.6\" style=\"fill:none;fill-rule:evenodd;stroke:#FF0000;stroke-width:2.0px;stroke-linecap:butt;stroke-linejoin:miter;stroke-opacity:1\"/>\n",
       "<path class=\"bond-1 atom-1 atom-2\" d=\"M 76.9,124.6 L 76.9,88.1\" style=\"fill:none;fill-rule:evenodd;stroke:#000000;stroke-width:2.0px;stroke-linecap:butt;stroke-linejoin:miter;stroke-opacity:1\"/>\n",
       "<path class=\"bond-1 atom-1 atom-2\" d=\"M 76.9,88.1 L 76.9,51.6\" style=\"fill:none;fill-rule:evenodd;stroke:#FF0000;stroke-width:2.0px;stroke-linecap:butt;stroke-linejoin:miter;stroke-opacity:1\"/>\n",
       "<path class=\"bond-2 atom-1 atom-3\" d=\"M 83.3,121.0 L 113.0,138.1\" style=\"fill:none;fill-rule:evenodd;stroke:#000000;stroke-width:2.0px;stroke-linecap:butt;stroke-linejoin:miter;stroke-opacity:1\"/>\n",
       "<path class=\"bond-2 atom-1 atom-3\" d=\"M 113.0,138.1 L 142.7,155.3\" style=\"fill:none;fill-rule:evenodd;stroke:#FF0000;stroke-width:2.0px;stroke-linecap:butt;stroke-linejoin:miter;stroke-opacity:1\"/>\n",
       "<path d=\"M 79.6,123.1 L 83.3,121.0 L 84.8,121.8\" style=\"fill:none;stroke:#000000;stroke-width:2.0px;stroke-linecap:butt;stroke-linejoin:miter;stroke-opacity:1;\"/>\n",
       "<path class=\"atom-2\" d=\"M 72.3 36.4 Q 72.3 30.7, 75.1 27.5 Q 78.0 24.3, 83.3 24.3 Q 88.6 24.3, 91.4 27.5 Q 94.3 30.7, 94.3 36.4 Q 94.3 42.3, 91.4 45.6 Q 88.5 48.9, 83.3 48.9 Q 78.0 48.9, 75.1 45.6 Q 72.3 42.3, 72.3 36.4 M 83.3 46.1 Q 86.9 46.1, 88.9 43.7 Q 90.9 41.2, 90.9 36.4 Q 90.9 31.7, 88.9 29.4 Q 86.9 27.0, 83.3 27.0 Q 79.6 27.0, 77.6 29.3 Q 75.6 31.7, 75.6 36.4 Q 75.6 41.3, 77.6 43.7 Q 79.6 46.1, 83.3 46.1 \" fill=\"#FF0000\"/>\n",
       "<path class=\"atom-3\" d=\"M 145.5 163.3 Q 145.5 157.6, 148.4 154.4 Q 151.2 151.1, 156.5 151.1 Q 161.8 151.1, 164.7 154.4 Q 167.5 157.6, 167.5 163.3 Q 167.5 169.1, 164.6 172.5 Q 161.8 175.7, 156.5 175.7 Q 151.2 175.7, 148.4 172.5 Q 145.5 169.2, 145.5 163.3 M 156.5 173.0 Q 160.2 173.0, 162.1 170.6 Q 164.1 168.1, 164.1 163.3 Q 164.1 158.6, 162.1 156.3 Q 160.2 153.9, 156.5 153.9 Q 152.9 153.9, 150.9 156.2 Q 148.9 158.6, 148.9 163.3 Q 148.9 168.2, 150.9 170.6 Q 152.9 173.0, 156.5 173.0 \" fill=\"#FF0000\"/>\n",
       "<path class=\"atom-3\" d=\"M 171.3 151.4 L 174.5 151.4 L 174.5 161.6 L 186.8 161.6 L 186.8 151.4 L 190.0 151.4 L 190.0 175.4 L 186.8 175.4 L 186.8 164.3 L 174.5 164.3 L 174.5 175.4 L 171.3 175.4 L 171.3 151.4 \" fill=\"#FF0000\"/>\n",
       "</svg>"
      ],
      "text/plain": [
       "<IPython.core.display.SVG object>"
      ]
     },
     "execution_count": 154,
     "metadata": {},
     "output_type": "execute_result"
    }
   ],
   "source": [
    "def draw_molecule(smiles: str, stoich : int = 1, size: tuple = (200, 200), hilite_atoms : tuple = tuple()):\n",
    "    '''\n",
    "    Draw molecule.\n",
    "\n",
    "    Args\n",
    "    ----\n",
    "    mol:str\n",
    "        Molecule SMILES\n",
    "    stoich:int\n",
    "        Stoichiometric coefficient\n",
    "    size:tuple\n",
    "        (width, height)\n",
    "     hilite_atoms:tuple\n",
    "        Atom indices to highlight\n",
    "    '''\n",
    "    mol = Chem.MolFromSmiles(smiles)\n",
    "    \n",
    "    # Catch failed MolFromSmiles\n",
    "    if mol is None: \n",
    "        mol = Chem.MolFromSmiles(smiles, sanitize=False)\n",
    "\n",
    "    drawer = Draw.MolDraw2DSVG(*size)\n",
    "\n",
    "    if stoich == 1:\n",
    "        drawer.DrawMolecule(mol, highlightAtoms=hilite_atoms)\n",
    "    else:\n",
    "        drawer.DrawMolecule(mol, legend=f\"({stoich})\", highlightAtoms=hilite_atoms)\n",
    "    \n",
    "    drawer.FinishDrawing()\n",
    "    img = drawer.GetDrawingText()\n",
    "\n",
    "    return img\n",
    "\n"
   ]
  },
  {
   "cell_type": "code",
   "execution_count": null,
   "metadata": {},
   "outputs": [
    {
     "data": {
      "image/svg+xml": [
       "<svg xmlns=\"http://www.w3.org/2000/svg\" xmlns:xlink=\"http://www.w3.org/1999/xlink\" version=\"1.1\" width=\"200.0px\" viewBox=\"0 0 200.0 200.0\" height=\"200.0px\">\n",
       "  <g><!-- END OF HEADER -->\n",
       "<rect style=\"opacity:1.0;fill:#FFFFFF;stroke:none\" width=\"200.0\" height=\"200.0\" x=\"0.0\" y=\"0.0\"> </rect>\n",
       "<path class=\"bond-0 atom-0 atom-1\" d=\"M 10.0,163.3 L 83.3,121.0\" style=\"fill:none;fill-rule:evenodd;stroke:#000000;stroke-width:2.0px;stroke-linecap:butt;stroke-linejoin:miter;stroke-opacity:1\"/>\n",
       "<path class=\"bond-1 atom-1 atom-2\" d=\"M 89.6,124.6 L 89.6,88.1\" style=\"fill:none;fill-rule:evenodd;stroke:#000000;stroke-width:2.0px;stroke-linecap:butt;stroke-linejoin:miter;stroke-opacity:1\"/>\n",
       "<path class=\"bond-1 atom-1 atom-2\" d=\"M 89.6,88.1 L 89.6,51.6\" style=\"fill:none;fill-rule:evenodd;stroke:#FF0000;stroke-width:2.0px;stroke-linecap:butt;stroke-linejoin:miter;stroke-opacity:1\"/>\n",
       "<path class=\"bond-1 atom-1 atom-2\" d=\"M 76.9,124.6 L 76.9,88.1\" style=\"fill:none;fill-rule:evenodd;stroke:#000000;stroke-width:2.0px;stroke-linecap:butt;stroke-linejoin:miter;stroke-opacity:1\"/>\n",
       "<path class=\"bond-1 atom-1 atom-2\" d=\"M 76.9,88.1 L 76.9,51.6\" style=\"fill:none;fill-rule:evenodd;stroke:#FF0000;stroke-width:2.0px;stroke-linecap:butt;stroke-linejoin:miter;stroke-opacity:1\"/>\n",
       "<path class=\"bond-2 atom-1 atom-3\" d=\"M 83.3,121.0 L 113.0,138.1\" style=\"fill:none;fill-rule:evenodd;stroke:#000000;stroke-width:2.0px;stroke-linecap:butt;stroke-linejoin:miter;stroke-opacity:1\"/>\n",
       "<path class=\"bond-2 atom-1 atom-3\" d=\"M 113.0,138.1 L 142.7,155.3\" style=\"fill:none;fill-rule:evenodd;stroke:#FF0000;stroke-width:2.0px;stroke-linecap:butt;stroke-linejoin:miter;stroke-opacity:1\"/>\n",
       "<path d=\"M 79.6,123.1 L 83.3,121.0 L 84.8,121.8\" style=\"fill:none;stroke:#000000;stroke-width:2.0px;stroke-linecap:butt;stroke-linejoin:miter;stroke-opacity:1;\"/>\n",
       "<path class=\"atom-2\" d=\"M 72.3 36.4 Q 72.3 30.7, 75.1 27.5 Q 78.0 24.3, 83.3 24.3 Q 88.6 24.3, 91.4 27.5 Q 94.3 30.7, 94.3 36.4 Q 94.3 42.3, 91.4 45.6 Q 88.5 48.9, 83.3 48.9 Q 78.0 48.9, 75.1 45.6 Q 72.3 42.3, 72.3 36.4 M 83.3 46.1 Q 86.9 46.1, 88.9 43.7 Q 90.9 41.2, 90.9 36.4 Q 90.9 31.7, 88.9 29.4 Q 86.9 27.0, 83.3 27.0 Q 79.6 27.0, 77.6 29.3 Q 75.6 31.7, 75.6 36.4 Q 75.6 41.3, 77.6 43.7 Q 79.6 46.1, 83.3 46.1 \" fill=\"#FF0000\"/>\n",
       "<path class=\"atom-3\" d=\"M 145.5 163.3 Q 145.5 157.6, 148.4 154.4 Q 151.2 151.1, 156.5 151.1 Q 161.8 151.1, 164.7 154.4 Q 167.5 157.6, 167.5 163.3 Q 167.5 169.1, 164.6 172.5 Q 161.8 175.7, 156.5 175.7 Q 151.2 175.7, 148.4 172.5 Q 145.5 169.2, 145.5 163.3 M 156.5 173.0 Q 160.2 173.0, 162.1 170.6 Q 164.1 168.1, 164.1 163.3 Q 164.1 158.6, 162.1 156.3 Q 160.2 153.9, 156.5 153.9 Q 152.9 153.9, 150.9 156.2 Q 148.9 158.6, 148.9 163.3 Q 148.9 168.2, 150.9 170.6 Q 152.9 173.0, 156.5 173.0 \" fill=\"#FF0000\"/>\n",
       "<path class=\"atom-3\" d=\"M 171.3 151.4 L 174.5 151.4 L 174.5 161.6 L 186.8 161.6 L 186.8 151.4 L 190.0 151.4 L 190.0 175.4 L 186.8 175.4 L 186.8 164.3 L 174.5 164.3 L 174.5 175.4 L 171.3 175.4 L 171.3 151.4 \" fill=\"#FF0000\"/>\n",
       "</g>\n",
       "</svg>"
      ],
      "text/plain": [
       "<IPython.core.display.SVG object>"
      ]
     },
     "execution_count": 164,
     "metadata": {},
     "output_type": "execute_result"
    }
   ],
   "source": [
    "\n",
    "elt = st.fromstring(mimg)\n",
    "fig = st.SVGFigure(width=Unit(200), height=Unit(200))\n",
    "root = elt.getroot()\n",
    "fig.append(root)\n",
    "fig.save('test.svg')\n",
    "SVG('test.svg')"
   ]
  },
  {
   "cell_type": "code",
   "execution_count": 148,
   "metadata": {},
   "outputs": [
    {
     "data": {
      "text/plain": [
       "'200px'"
      ]
     },
     "execution_count": 148,
     "metadata": {},
     "output_type": "execute_result"
    }
   ],
   "source": [
    "elt.height"
   ]
  },
  {
   "cell_type": "code",
   "execution_count": 149,
   "metadata": {},
   "outputs": [
    {
     "data": {
      "text/plain": [
       "'400.0px'"
      ]
     },
     "execution_count": 149,
     "metadata": {},
     "output_type": "execute_result"
    }
   ],
   "source": [
    "fig.width"
   ]
  },
  {
   "cell_type": "code",
   "execution_count": 159,
   "metadata": {},
   "outputs": [
    {
     "data": {
      "image/svg+xml": [
       "<svg xmlns=\"http://www.w3.org/2000/svg\" xmlns:xlink=\"http://www.w3.org/1999/xlink\" version=\"1.1\" width=\"200.0px\" viewBox=\"0 0 200.0 200.0\" height=\"200.0px\"/>"
      ],
      "text/plain": [
       "<IPython.core.display.SVG object>"
      ]
     },
     "execution_count": 159,
     "metadata": {},
     "output_type": "execute_result"
    }
   ],
   "source": [
    "SVG(fig.to_str())"
   ]
  },
  {
   "cell_type": "code",
   "execution_count": 82,
   "metadata": {},
   "outputs": [],
   "source": [
    "from collections import Counter"
   ]
  },
  {
   "cell_type": "code",
   "execution_count": null,
   "metadata": {},
   "outputs": [
    {
     "data": {
      "image/svg+xml": [
       "<svg xmlns=\"http://www.w3.org/2000/svg\" xmlns:xlink=\"http://www.w3.org/1999/xlink\" version=\"1.1\" width=\"680.0px\" viewBox=\"0 0 680.0 200.0\" height=\"200.0px\">\n",
       "  <g transform=\"translate(0, 0) scale(1 1) \"><!-- END OF HEADER -->\n",
       "<rect style=\"opacity:1.0;fill:#FFFFFF;stroke:none\" width=\"200.0\" height=\"200.0\" x=\"0.0\" y=\"0.0\"> </rect>\n",
       "<path class=\"bond-0 atom-0 atom-1\" d=\"M 10.0,117.0 L 100.0,65.0\" style=\"fill:none;fill-rule:evenodd;stroke:#000000;stroke-width:2.0px;stroke-linecap:butt;stroke-linejoin:miter;stroke-opacity:1\"/>\n",
       "<path class=\"bond-1 atom-1 atom-2\" d=\"M 100.0,65.0 L 190.0,117.0\" style=\"fill:none;fill-rule:evenodd;stroke:#000000;stroke-width:2.0px;stroke-linecap:butt;stroke-linejoin:miter;stroke-opacity:1\"/>\n",
       "<path d=\"M 95.5,67.6 L 100.0,65.0 L 104.5,67.6\" style=\"fill:none;stroke:#000000;stroke-width:2.0px;stroke-linecap:butt;stroke-linejoin:miter;stroke-opacity:1;\"/>\n",
       "<path class=\"legend\" d=\"M 91.5 181.9 Q 91.5 179.6, 92.2 177.7 Q 92.8 175.8, 94.1 173.8 L 95.0 174.4 Q 94.0 176.3, 93.4 178.0 Q 92.9 179.7, 92.9 181.9 Q 92.9 184.0, 93.4 185.8 Q 94.0 187.5, 95.0 189.4 L 94.1 190.0 Q 92.8 188.0, 92.2 186.1 Q 91.5 184.2, 91.5 181.9 \" fill=\"#000000\"/>\n",
       "<path class=\"legend\" d=\"M 95.9 177.3 Q 96.4 176.2, 97.3 175.6 Q 98.3 175.0, 99.7 175.0 Q 101.4 175.0, 102.4 175.9 Q 103.3 176.8, 103.3 178.5 Q 103.3 180.2, 102.1 181.7 Q 100.9 183.3, 98.3 185.2 L 103.5 185.2 L 103.5 186.4 L 95.9 186.4 L 95.9 185.4 Q 98.0 183.9, 99.3 182.8 Q 100.5 181.6, 101.1 180.6 Q 101.7 179.6, 101.7 178.6 Q 101.7 177.5, 101.2 176.9 Q 100.7 176.3, 99.7 176.3 Q 98.8 176.3, 98.2 176.6 Q 97.6 177.0, 97.2 177.8 L 95.9 177.3 \" fill=\"#000000\"/>\n",
       "<path class=\"legend\" d=\"M 108.5 181.9 Q 108.5 184.2, 107.8 186.1 Q 107.2 188.0, 105.9 190.0 L 105.0 189.4 Q 106.0 187.5, 106.5 185.8 Q 107.1 184.0, 107.1 181.9 Q 107.1 179.7, 106.5 178.0 Q 106.0 176.3, 105.0 174.4 L 105.9 173.8 Q 107.2 175.8, 107.8 177.7 Q 108.5 179.6, 108.5 181.9 \" fill=\"#000000\"/>\n",
       "</g>\n",
       "  <g transform=\"translate(200, 0) scale(1 1) \"><line x1=\"15\" y1=\"100\" x2=\"25\" y2=\"100\" style=\"stroke:rgb(0,0,0);stroke-width:2\"/>\n",
       "  <line x1=\"20\" y1=\"95\" x2=\"20\" y2=\"105\" style=\"stroke:rgb(0,0,0);stroke-width:2\"/>\n",
       "</g>\n",
       "  <g transform=\"translate(240, 0) scale(1 1) \"><!-- END OF HEADER -->\n",
       "<rect style=\"opacity:1.0;fill:#FFFFFF;stroke:none\" width=\"200.0\" height=\"200.0\" x=\"0.0\" y=\"0.0\"> </rect>\n",
       "<path class=\"bond-0 atom-0 atom-1\" d=\"M 10.0,114.9 L 83.3,72.6\" style=\"fill:none;fill-rule:evenodd;stroke:#000000;stroke-width:2.0px;stroke-linecap:butt;stroke-linejoin:miter;stroke-opacity:1\"/>\n",
       "<path class=\"bond-1 atom-1 atom-2\" d=\"M 83.3,72.6 L 113.0,89.8\" style=\"fill:none;fill-rule:evenodd;stroke:#000000;stroke-width:2.0px;stroke-linecap:butt;stroke-linejoin:miter;stroke-opacity:1\"/>\n",
       "<path class=\"bond-1 atom-1 atom-2\" d=\"M 113.0,89.8 L 142.7,106.9\" style=\"fill:none;fill-rule:evenodd;stroke:#FF0000;stroke-width:2.0px;stroke-linecap:butt;stroke-linejoin:miter;stroke-opacity:1\"/>\n",
       "<path d=\"M 79.6,74.7 L 83.3,72.6 L 84.8,73.5\" style=\"fill:none;stroke:#000000;stroke-width:2.0px;stroke-linecap:butt;stroke-linejoin:miter;stroke-opacity:1;\"/>\n",
       "<path class=\"atom-2\" d=\"M 145.5 115.0 Q 145.5 109.2, 148.4 106.0 Q 151.2 102.8, 156.5 102.8 Q 161.8 102.8, 164.7 106.0 Q 167.5 109.2, 167.5 115.0 Q 167.5 120.8, 164.6 124.1 Q 161.8 127.4, 156.5 127.4 Q 151.2 127.4, 148.4 124.1 Q 145.5 120.8, 145.5 115.0 M 156.5 124.7 Q 160.2 124.7, 162.1 122.2 Q 164.1 119.8, 164.1 115.0 Q 164.1 110.3, 162.1 107.9 Q 160.2 105.5, 156.5 105.5 Q 152.9 105.5, 150.9 107.9 Q 148.9 110.2, 148.9 115.0 Q 148.9 119.8, 150.9 122.2 Q 152.9 124.7, 156.5 124.7 \" fill=\"#FF0000\"/>\n",
       "<path class=\"atom-2\" d=\"M 171.3 103.1 L 174.5 103.1 L 174.5 113.2 L 186.8 113.2 L 186.8 103.1 L 190.0 103.1 L 190.0 127.0 L 186.8 127.0 L 186.8 116.0 L 174.5 116.0 L 174.5 127.0 L 171.3 127.0 L 171.3 103.1 \" fill=\"#FF0000\"/>\n",
       "</g>\n",
       "  <g transform=\"translate(440, 0) scale(1 1) \"><line x1=\"5\" y1=\"100\" x2=\"35\" y2=\"100\" style=\"stroke:rgb(0,0,0);stroke-width:2\"/>\n",
       "  <line x1=\"34\" y1=\"100\" x2=\"29\" y2=\"95\" style=\"stroke:rgb(0,0,0);stroke-width:2\"/>\n",
       "  <line x1=\"34\" y1=\"100\" x2=\"29\" y2=\"105\" style=\"stroke:rgb(0,0,0);stroke-width:2\"/>\n",
       "</g>\n",
       "  <g transform=\"translate(480, 0) scale(1 1) \"><!-- END OF HEADER -->\n",
       "<rect style=\"opacity:1.0;fill:#FFFFFF;stroke:none\" width=\"200.0\" height=\"200.0\" x=\"0.0\" y=\"0.0\"> </rect>\n",
       "<path class=\"bond-0 atom-0 atom-1\" d=\"M 10.0,104.3 L 31.3,92.0\" style=\"fill:none;fill-rule:evenodd;stroke:#000000;stroke-width:2.0px;stroke-linecap:butt;stroke-linejoin:miter;stroke-opacity:1\"/>\n",
       "<path class=\"bond-1 atom-1 atom-2\" d=\"M 31.3,92.0 L 52.6,104.3\" style=\"fill:none;fill-rule:evenodd;stroke:#000000;stroke-width:2.0px;stroke-linecap:butt;stroke-linejoin:miter;stroke-opacity:1\"/>\n",
       "<path class=\"bond-2 atom-2 atom-3\" d=\"M 52.6,104.3 L 73.9,92.0\" style=\"fill:none;fill-rule:evenodd;stroke:#000000;stroke-width:2.0px;stroke-linecap:butt;stroke-linejoin:miter;stroke-opacity:1\"/>\n",
       "<path class=\"bond-3 atom-3 atom-4\" d=\"M 73.9,92.0 L 95.1,104.3\" style=\"fill:none;fill-rule:evenodd;stroke:#000000;stroke-width:2.0px;stroke-linecap:butt;stroke-linejoin:miter;stroke-opacity:1\"/>\n",
       "<path class=\"bond-4 atom-4 atom-5\" d=\"M 95.1,104.3 L 116.4,92.0\" style=\"fill:none;fill-rule:evenodd;stroke:#000000;stroke-width:2.0px;stroke-linecap:butt;stroke-linejoin:miter;stroke-opacity:1\"/>\n",
       "<path class=\"bond-5 atom-5 atom-6\" d=\"M 116.4,92.0 L 137.7,104.3\" style=\"fill:none;fill-rule:evenodd;stroke:#000000;stroke-width:2.0px;stroke-linecap:butt;stroke-linejoin:miter;stroke-opacity:1\"/>\n",
       "<path class=\"bond-6 atom-6 atom-7\" d=\"M 137.7,104.3 L 159.0,92.0\" style=\"fill:none;fill-rule:evenodd;stroke:#000000;stroke-width:2.0px;stroke-linecap:butt;stroke-linejoin:miter;stroke-opacity:1\"/>\n",
       "<path class=\"bond-7 atom-7 atom-8\" d=\"M 159.0,92.0 L 167.6,97.0\" style=\"fill:none;fill-rule:evenodd;stroke:#000000;stroke-width:2.0px;stroke-linecap:butt;stroke-linejoin:miter;stroke-opacity:1\"/>\n",
       "<path class=\"bond-7 atom-7 atom-8\" d=\"M 167.6,97.0 L 176.3,102.0\" style=\"fill:none;fill-rule:evenodd;stroke:#FF0000;stroke-width:2.0px;stroke-linecap:butt;stroke-linejoin:miter;stroke-opacity:1\"/>\n",
       "<path d=\"M 30.2,92.7 L 31.3,92.0 L 32.3,92.7\" style=\"fill:none;stroke:#000000;stroke-width:2.0px;stroke-linecap:butt;stroke-linejoin:miter;stroke-opacity:1;\"/>\n",
       "<path d=\"M 51.5,103.7 L 52.6,104.3 L 53.6,103.7\" style=\"fill:none;stroke:#000000;stroke-width:2.0px;stroke-linecap:butt;stroke-linejoin:miter;stroke-opacity:1;\"/>\n",
       "<path d=\"M 72.8,92.7 L 73.9,92.0 L 74.9,92.7\" style=\"fill:none;stroke:#000000;stroke-width:2.0px;stroke-linecap:butt;stroke-linejoin:miter;stroke-opacity:1;\"/>\n",
       "<path d=\"M 94.1,103.7 L 95.1,104.3 L 96.2,103.7\" style=\"fill:none;stroke:#000000;stroke-width:2.0px;stroke-linecap:butt;stroke-linejoin:miter;stroke-opacity:1;\"/>\n",
       "<path d=\"M 115.4,92.7 L 116.4,92.0 L 117.5,92.7\" style=\"fill:none;stroke:#000000;stroke-width:2.0px;stroke-linecap:butt;stroke-linejoin:miter;stroke-opacity:1;\"/>\n",
       "<path d=\"M 136.6,103.7 L 137.7,104.3 L 138.8,103.7\" style=\"fill:none;stroke:#000000;stroke-width:2.0px;stroke-linecap:butt;stroke-linejoin:miter;stroke-opacity:1;\"/>\n",
       "<path d=\"M 157.9,92.7 L 159.0,92.0 L 159.4,92.3\" style=\"fill:none;stroke:#000000;stroke-width:2.0px;stroke-linecap:butt;stroke-linejoin:miter;stroke-opacity:1;\"/>\n",
       "<path class=\"atom-8\" d=\"M 177.1 104.4 Q 177.1 102.7, 177.9 101.7 Q 178.7 100.8, 180.3 100.8 Q 181.8 100.8, 182.6 101.7 Q 183.5 102.7, 183.5 104.4 Q 183.5 106.0, 182.6 107.0 Q 181.8 108.0, 180.3 108.0 Q 178.7 108.0, 177.9 107.0 Q 177.1 106.1, 177.1 104.4 M 180.3 107.2 Q 181.3 107.2, 181.9 106.5 Q 182.5 105.7, 182.5 104.4 Q 182.5 103.0, 181.9 102.3 Q 181.3 101.6, 180.3 101.6 Q 179.2 101.6, 178.6 102.3 Q 178.1 103.0, 178.1 104.4 Q 178.1 105.8, 178.6 106.5 Q 179.2 107.2, 180.3 107.2 \" fill=\"#FF0000\"/>\n",
       "<path class=\"atom-8\" d=\"M 184.6 100.9 L 185.5 100.9 L 185.5 103.8 L 189.1 103.8 L 189.1 100.9 L 190.0 100.9 L 190.0 107.8 L 189.1 107.8 L 189.1 104.6 L 185.5 104.6 L 185.5 107.8 L 184.6 107.8 L 184.6 100.9 \" fill=\"#FF0000\"/>\n",
       "</g>\n",
       "</svg>"
      ],
      "text/plain": [
       "<IPython.core.display.SVG object>"
      ]
     },
     "execution_count": 179,
     "metadata": {},
     "output_type": "execute_result"
    }
   ],
   "source": [
    "\n",
    "\n",
    "    \n",
    "\n",
    "\n",
    "def draw_reaction(rxn_sma: str, plus: st.SVGFigure, arrow: st.SVGFigure):\n",
    " \n",
    "    reactants, products = [Counter(elt.split('.')) for elt in rxn_sma.split('>>')]\n",
    "\n",
    "    movex = 0\n",
    "    rxn_img = st.SVGFigure()\n",
    "    def _add_elt(elt, movex, rxn_img):\n",
    "        root = elt.getroot()\n",
    "        root.moveto(movex, 0)\n",
    "        rxn_img.append(root)\n",
    "        movex += int(elt.width.strip('px'))\n",
    "        return rxn_img, movex\n",
    "    \n",
    "    for i, (smi, stoich) in enumerate(reactants.items()):\n",
    "        img = draw_molecule(smi, stoich)\n",
    "        elt = st.fromstring(img)\n",
    "        rxn_img, movex = _add_elt(elt, movex, rxn_img)\n",
    "\n",
    "        if i < len(reactants) - 1:\n",
    "            elt = plus\n",
    "            rxn_img, movex = _add_elt(elt, movex, rxn_img)\n",
    "\n",
    "    elt = arrow\n",
    "    rxn_img, movex = _add_elt(elt, movex, rxn_img)\n",
    "\n",
    "    for i, (smi, stoich) in enumerate(products.items()):\n",
    "        img = draw_molecule(smi, stoich)\n",
    "        elt = st.fromstring(img)\n",
    "        rxn_img, movex = _add_elt(elt, movex, rxn_img)\n",
    "\n",
    "        if i < len(products) - 1:\n",
    "            elt = plus\n",
    "            rxn_img, movex = _add_elt(elt, movex, rxn_img)\n",
    "\n",
    "    height = float(elt.height.strip('px')) # Assumed same for all elements\n",
    "    rxn_img.width = Unit(movex)\n",
    "    rxn_img.height = Unit(height)\n",
    "\n",
    "    rxn_img.save('test.svg')\n",
    "    return rxn_img.to_str()\n",
    "\n",
    "smi = 'CC(=O)O'\n",
    "mimg = draw_molecule(smi)\n",
    "SVG(mimg)\n",
    "plus = st.fromfile(filepaths['artifacts'] / 'plus.svg')\n",
    "arrow = st.fromfile(filepaths['artifacts'] / 'arrow.svg')\n",
    "rxn_sma = 'CCC.CCC.CCO>>CCCCCCCCO'\n",
    "fig = draw_reaction(rxn_sma, plus, arrow)\n",
    "SVG(fig)"
   ]
  },
  {
   "cell_type": "code",
   "execution_count": 180,
   "metadata": {},
   "outputs": [
    {
     "data": {
      "image/svg+xml": [
       "<svg xmlns=\"http://www.w3.org/2000/svg\" xmlns:xlink=\"http://www.w3.org/1999/xlink\" version=\"1.1\" width=\"680.0px\" viewBox=\"0 0 680.0 200.0\" height=\"200.0px\">\n",
       "  <g transform=\"translate(0, 0) scale(1 1) \"><!-- END OF HEADER -->\n",
       "<rect style=\"opacity:1.0;fill:#FFFFFF;stroke:none\" width=\"200.0\" height=\"200.0\" x=\"0.0\" y=\"0.0\"> </rect>\n",
       "<path class=\"bond-0 atom-0 atom-1\" d=\"M 10.0,117.0 L 100.0,65.0\" style=\"fill:none;fill-rule:evenodd;stroke:#000000;stroke-width:2.0px;stroke-linecap:butt;stroke-linejoin:miter;stroke-opacity:1\"/>\n",
       "<path class=\"bond-1 atom-1 atom-2\" d=\"M 100.0,65.0 L 190.0,117.0\" style=\"fill:none;fill-rule:evenodd;stroke:#000000;stroke-width:2.0px;stroke-linecap:butt;stroke-linejoin:miter;stroke-opacity:1\"/>\n",
       "<path d=\"M 95.5,67.6 L 100.0,65.0 L 104.5,67.6\" style=\"fill:none;stroke:#000000;stroke-width:2.0px;stroke-linecap:butt;stroke-linejoin:miter;stroke-opacity:1;\"/>\n",
       "<path class=\"legend\" d=\"M 91.5 181.9 Q 91.5 179.6, 92.2 177.7 Q 92.8 175.8, 94.1 173.8 L 95.0 174.4 Q 94.0 176.3, 93.4 178.0 Q 92.9 179.7, 92.9 181.9 Q 92.9 184.0, 93.4 185.8 Q 94.0 187.5, 95.0 189.4 L 94.1 190.0 Q 92.8 188.0, 92.2 186.1 Q 91.5 184.2, 91.5 181.9 \" fill=\"#000000\"/>\n",
       "<path class=\"legend\" d=\"M 95.9 177.3 Q 96.4 176.2, 97.3 175.6 Q 98.3 175.0, 99.7 175.0 Q 101.4 175.0, 102.4 175.9 Q 103.3 176.8, 103.3 178.5 Q 103.3 180.2, 102.1 181.7 Q 100.9 183.3, 98.3 185.2 L 103.5 185.2 L 103.5 186.4 L 95.9 186.4 L 95.9 185.4 Q 98.0 183.9, 99.3 182.8 Q 100.5 181.6, 101.1 180.6 Q 101.7 179.6, 101.7 178.6 Q 101.7 177.5, 101.2 176.9 Q 100.7 176.3, 99.7 176.3 Q 98.8 176.3, 98.2 176.6 Q 97.6 177.0, 97.2 177.8 L 95.9 177.3 \" fill=\"#000000\"/>\n",
       "<path class=\"legend\" d=\"M 108.5 181.9 Q 108.5 184.2, 107.8 186.1 Q 107.2 188.0, 105.9 190.0 L 105.0 189.4 Q 106.0 187.5, 106.5 185.8 Q 107.1 184.0, 107.1 181.9 Q 107.1 179.7, 106.5 178.0 Q 106.0 176.3, 105.0 174.4 L 105.9 173.8 Q 107.2 175.8, 107.8 177.7 Q 108.5 179.6, 108.5 181.9 \" fill=\"#000000\"/>\n",
       "</g>\n",
       "  <g transform=\"translate(200, 0) scale(1 1) \"><line x1=\"15\" y1=\"100\" x2=\"25\" y2=\"100\" style=\"stroke:rgb(0,0,0);stroke-width:2\"/>\n",
       "  <line x1=\"20\" y1=\"95\" x2=\"20\" y2=\"105\" style=\"stroke:rgb(0,0,0);stroke-width:2\"/>\n",
       "</g>\n",
       "  <g transform=\"translate(240, 0) scale(1 1) \"><!-- END OF HEADER -->\n",
       "<rect style=\"opacity:1.0;fill:#FFFFFF;stroke:none\" width=\"200.0\" height=\"200.0\" x=\"0.0\" y=\"0.0\"> </rect>\n",
       "<path class=\"bond-0 atom-0 atom-1\" d=\"M 10.0,114.9 L 83.3,72.6\" style=\"fill:none;fill-rule:evenodd;stroke:#000000;stroke-width:2.0px;stroke-linecap:butt;stroke-linejoin:miter;stroke-opacity:1\"/>\n",
       "<path class=\"bond-1 atom-1 atom-2\" d=\"M 83.3,72.6 L 113.0,89.8\" style=\"fill:none;fill-rule:evenodd;stroke:#000000;stroke-width:2.0px;stroke-linecap:butt;stroke-linejoin:miter;stroke-opacity:1\"/>\n",
       "<path class=\"bond-1 atom-1 atom-2\" d=\"M 113.0,89.8 L 142.7,106.9\" style=\"fill:none;fill-rule:evenodd;stroke:#FF0000;stroke-width:2.0px;stroke-linecap:butt;stroke-linejoin:miter;stroke-opacity:1\"/>\n",
       "<path d=\"M 79.6,74.7 L 83.3,72.6 L 84.8,73.5\" style=\"fill:none;stroke:#000000;stroke-width:2.0px;stroke-linecap:butt;stroke-linejoin:miter;stroke-opacity:1;\"/>\n",
       "<path class=\"atom-2\" d=\"M 145.5 115.0 Q 145.5 109.2, 148.4 106.0 Q 151.2 102.8, 156.5 102.8 Q 161.8 102.8, 164.7 106.0 Q 167.5 109.2, 167.5 115.0 Q 167.5 120.8, 164.6 124.1 Q 161.8 127.4, 156.5 127.4 Q 151.2 127.4, 148.4 124.1 Q 145.5 120.8, 145.5 115.0 M 156.5 124.7 Q 160.2 124.7, 162.1 122.2 Q 164.1 119.8, 164.1 115.0 Q 164.1 110.3, 162.1 107.9 Q 160.2 105.5, 156.5 105.5 Q 152.9 105.5, 150.9 107.9 Q 148.9 110.2, 148.9 115.0 Q 148.9 119.8, 150.9 122.2 Q 152.9 124.7, 156.5 124.7 \" fill=\"#FF0000\"/>\n",
       "<path class=\"atom-2\" d=\"M 171.3 103.1 L 174.5 103.1 L 174.5 113.2 L 186.8 113.2 L 186.8 103.1 L 190.0 103.1 L 190.0 127.0 L 186.8 127.0 L 186.8 116.0 L 174.5 116.0 L 174.5 127.0 L 171.3 127.0 L 171.3 103.1 \" fill=\"#FF0000\"/>\n",
       "</g>\n",
       "  <g transform=\"translate(440, 0) scale(1 1) \"><line x1=\"5\" y1=\"100\" x2=\"35\" y2=\"100\" style=\"stroke:rgb(0,0,0);stroke-width:2\"/>\n",
       "  <line x1=\"34\" y1=\"100\" x2=\"29\" y2=\"95\" style=\"stroke:rgb(0,0,0);stroke-width:2\"/>\n",
       "  <line x1=\"34\" y1=\"100\" x2=\"29\" y2=\"105\" style=\"stroke:rgb(0,0,0);stroke-width:2\"/>\n",
       "</g>\n",
       "  <g transform=\"translate(480, 0) scale(1 1) \"><!-- END OF HEADER -->\n",
       "<rect style=\"opacity:1.0;fill:#FFFFFF;stroke:none\" width=\"200.0\" height=\"200.0\" x=\"0.0\" y=\"0.0\"> </rect>\n",
       "<path class=\"bond-0 atom-0 atom-1\" d=\"M 10.0,104.3 L 31.3,92.0\" style=\"fill:none;fill-rule:evenodd;stroke:#000000;stroke-width:2.0px;stroke-linecap:butt;stroke-linejoin:miter;stroke-opacity:1\"/>\n",
       "<path class=\"bond-1 atom-1 atom-2\" d=\"M 31.3,92.0 L 52.6,104.3\" style=\"fill:none;fill-rule:evenodd;stroke:#000000;stroke-width:2.0px;stroke-linecap:butt;stroke-linejoin:miter;stroke-opacity:1\"/>\n",
       "<path class=\"bond-2 atom-2 atom-3\" d=\"M 52.6,104.3 L 73.9,92.0\" style=\"fill:none;fill-rule:evenodd;stroke:#000000;stroke-width:2.0px;stroke-linecap:butt;stroke-linejoin:miter;stroke-opacity:1\"/>\n",
       "<path class=\"bond-3 atom-3 atom-4\" d=\"M 73.9,92.0 L 95.1,104.3\" style=\"fill:none;fill-rule:evenodd;stroke:#000000;stroke-width:2.0px;stroke-linecap:butt;stroke-linejoin:miter;stroke-opacity:1\"/>\n",
       "<path class=\"bond-4 atom-4 atom-5\" d=\"M 95.1,104.3 L 116.4,92.0\" style=\"fill:none;fill-rule:evenodd;stroke:#000000;stroke-width:2.0px;stroke-linecap:butt;stroke-linejoin:miter;stroke-opacity:1\"/>\n",
       "<path class=\"bond-5 atom-5 atom-6\" d=\"M 116.4,92.0 L 137.7,104.3\" style=\"fill:none;fill-rule:evenodd;stroke:#000000;stroke-width:2.0px;stroke-linecap:butt;stroke-linejoin:miter;stroke-opacity:1\"/>\n",
       "<path class=\"bond-6 atom-6 atom-7\" d=\"M 137.7,104.3 L 159.0,92.0\" style=\"fill:none;fill-rule:evenodd;stroke:#000000;stroke-width:2.0px;stroke-linecap:butt;stroke-linejoin:miter;stroke-opacity:1\"/>\n",
       "<path class=\"bond-7 atom-7 atom-8\" d=\"M 159.0,92.0 L 167.6,97.0\" style=\"fill:none;fill-rule:evenodd;stroke:#000000;stroke-width:2.0px;stroke-linecap:butt;stroke-linejoin:miter;stroke-opacity:1\"/>\n",
       "<path class=\"bond-7 atom-7 atom-8\" d=\"M 167.6,97.0 L 176.3,102.0\" style=\"fill:none;fill-rule:evenodd;stroke:#FF0000;stroke-width:2.0px;stroke-linecap:butt;stroke-linejoin:miter;stroke-opacity:1\"/>\n",
       "<path d=\"M 30.2,92.7 L 31.3,92.0 L 32.3,92.7\" style=\"fill:none;stroke:#000000;stroke-width:2.0px;stroke-linecap:butt;stroke-linejoin:miter;stroke-opacity:1;\"/>\n",
       "<path d=\"M 51.5,103.7 L 52.6,104.3 L 53.6,103.7\" style=\"fill:none;stroke:#000000;stroke-width:2.0px;stroke-linecap:butt;stroke-linejoin:miter;stroke-opacity:1;\"/>\n",
       "<path d=\"M 72.8,92.7 L 73.9,92.0 L 74.9,92.7\" style=\"fill:none;stroke:#000000;stroke-width:2.0px;stroke-linecap:butt;stroke-linejoin:miter;stroke-opacity:1;\"/>\n",
       "<path d=\"M 94.1,103.7 L 95.1,104.3 L 96.2,103.7\" style=\"fill:none;stroke:#000000;stroke-width:2.0px;stroke-linecap:butt;stroke-linejoin:miter;stroke-opacity:1;\"/>\n",
       "<path d=\"M 115.4,92.7 L 116.4,92.0 L 117.5,92.7\" style=\"fill:none;stroke:#000000;stroke-width:2.0px;stroke-linecap:butt;stroke-linejoin:miter;stroke-opacity:1;\"/>\n",
       "<path d=\"M 136.6,103.7 L 137.7,104.3 L 138.8,103.7\" style=\"fill:none;stroke:#000000;stroke-width:2.0px;stroke-linecap:butt;stroke-linejoin:miter;stroke-opacity:1;\"/>\n",
       "<path d=\"M 157.9,92.7 L 159.0,92.0 L 159.4,92.3\" style=\"fill:none;stroke:#000000;stroke-width:2.0px;stroke-linecap:butt;stroke-linejoin:miter;stroke-opacity:1;\"/>\n",
       "<path class=\"atom-8\" d=\"M 177.1 104.4 Q 177.1 102.7, 177.9 101.7 Q 178.7 100.8, 180.3 100.8 Q 181.8 100.8, 182.6 101.7 Q 183.5 102.7, 183.5 104.4 Q 183.5 106.0, 182.6 107.0 Q 181.8 108.0, 180.3 108.0 Q 178.7 108.0, 177.9 107.0 Q 177.1 106.1, 177.1 104.4 M 180.3 107.2 Q 181.3 107.2, 181.9 106.5 Q 182.5 105.7, 182.5 104.4 Q 182.5 103.0, 181.9 102.3 Q 181.3 101.6, 180.3 101.6 Q 179.2 101.6, 178.6 102.3 Q 178.1 103.0, 178.1 104.4 Q 178.1 105.8, 178.6 106.5 Q 179.2 107.2, 180.3 107.2 \" fill=\"#FF0000\"/>\n",
       "<path class=\"atom-8\" d=\"M 184.6 100.9 L 185.5 100.9 L 185.5 103.8 L 189.1 103.8 L 189.1 100.9 L 190.0 100.9 L 190.0 107.8 L 189.1 107.8 L 189.1 104.6 L 185.5 104.6 L 185.5 107.8 L 184.6 107.8 L 184.6 100.9 \" fill=\"#FF0000\"/>\n",
       "</g>\n",
       "</svg>"
      ],
      "text/plain": [
       "<IPython.core.display.SVG object>"
      ]
     },
     "execution_count": 180,
     "metadata": {},
     "output_type": "execute_result"
    }
   ],
   "source": [
    "SVG('test.svg')"
   ]
  }
 ],
 "metadata": {
  "kernelspec": {
   "display_name": "bottle-bcOlvnza-py3.12",
   "language": "python",
   "name": "python3"
  },
  "language_info": {
   "codemirror_mode": {
    "name": "ipython",
    "version": 3
   },
   "file_extension": ".py",
   "mimetype": "text/x-python",
   "name": "python",
   "nbconvert_exporter": "python",
   "pygments_lexer": "ipython3",
   "version": "3.12.7"
  }
 },
 "nbformat": 4,
 "nbformat_minor": 2
}
