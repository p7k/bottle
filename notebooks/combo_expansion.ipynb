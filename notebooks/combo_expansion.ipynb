{
 "cells": [
  {
   "cell_type": "code",
   "execution_count": 1,
   "metadata": {},
   "outputs": [],
   "source": [
    "%load_ext autoreload\n",
    "%autoreload 2"
   ]
  },
  {
   "cell_type": "code",
   "execution_count": 2,
   "metadata": {},
   "outputs": [],
   "source": [
    "import networkx as nx\n",
    "from src.utils import load_json\n",
    "from src.config import filepaths\n",
    "from src.post_processing import Expansion, find_paths_single_target"
   ]
  },
  {
   "cell_type": "code",
   "execution_count": 3,
   "metadata": {},
   "outputs": [
    {
     "name": "stdout",
     "output_type": "stream",
     "text": [
      "Loading expansion\n"
     ]
    },
    {
     "name": "stderr",
     "output_type": "stream",
     "text": [
      "[14:47:09] WARNING: not removing hydrogen atom without neighbors\n",
      "[14:47:13] WARNING: not removing hydrogen atom without neighbors\n"
     ]
    }
   ],
   "source": [
    "imt_reverses = load_json(filepaths['rules'] / \"jnimt_reverses.json\")\n",
    "# forward = '1_steps_alpha_ketoglutarate_to_None_rules_JN3604IMT_rules_carbonyl_free_co_metacyc_coreactants_carbonyl_free_sampled_False_pruned_False'\n",
    "# reverse = '1_steps_hopa_to_None_rules_JN3604IMT_rules_carbonyl_free_co_metacyc_coreactants_carbonyl_free_sampled_False_pruned_False'\n",
    "\n",
    "# forward = '2_steps_ccm_v0_to_None_rules_JN3604IMT_rules_co_metacyc_coreactants_sampled_False_pruned_False'\n",
    "reverse = '2_steps_bottle_targets_24_to_None_rules_JN3604IMT_rules_co_metacyc_coreactants_sampled_False_pruned_False'\n",
    "\n",
    "forward = '2_steps_pivalic_acid_to_bottle_targets_24_rules_JN3604IMT_rules_co_metacyc_coreactants_sampled_False_pruned_True'\n",
    "\n",
    "print(\"Loading expansion\")\n",
    "pk = Expansion(\n",
    "    forward=filepaths['raw_expansions'] / f\"{forward}.pk\" if forward else forward,\n",
    "    reverse=filepaths['raw_expansions'] / f\"{reverse}.pk\" if reverse else reverse,\n",
    "    operator_reverses=imt_reverses,\n",
    ")"
   ]
  },
  {
   "cell_type": "code",
   "execution_count": 4,
   "metadata": {},
   "outputs": [],
   "source": [
    "# paths = pk.find_paths()"
   ]
  },
  {
   "cell_type": "code",
   "execution_count": 5,
   "metadata": {},
   "outputs": [
    {
     "name": "stderr",
     "output_type": "stream",
     "text": [
      "[14:47:14] WARNING: not removing hydrogen atom without neighbors\n",
      "[14:47:17] WARNING: not removing hydrogen atom without neighbors\n"
     ]
    }
   ],
   "source": [
    "fwd = Expansion(\n",
    "    forward=filepaths['raw_expansions'] / f\"{forward}.pk\"\n",
    ")\n",
    "\n",
    "rev = Expansion(\n",
    "    reverse=filepaths['raw_expansions'] / f\"{reverse}.pk\",\n",
    "    operator_reverses=imt_reverses,\n",
    ")"
   ]
  },
  {
   "cell_type": "code",
   "execution_count": 6,
   "metadata": {},
   "outputs": [
    {
     "data": {
      "text/plain": [
       "(690, 102763)"
      ]
     },
     "execution_count": 6,
     "metadata": {},
     "output_type": "execute_result"
    }
   ],
   "source": [
    "len(fwd.compounds), len(rev.compounds)"
   ]
  },
  {
   "cell_type": "code",
   "execution_count": 7,
   "metadata": {},
   "outputs": [
    {
     "data": {
      "text/plain": [
       "(121, 611, 102449)"
      ]
     },
     "execution_count": 7,
     "metadata": {},
     "output_type": "execute_result"
    }
   ],
   "source": [
    "get_As = lambda x : {k: v for k, v in x.items() if k[0] == 'C'}\n",
    "get_cpds_from_gen = lambda x, gen : {k: v for k, v in x.items() if v['Generation'] == gen}\n",
    "fwd_As = get_As(fwd.compounds)\n",
    "rev_As = get_As(rev.compounds)\n",
    "checkpoints = fwd_As.keys() & rev_As.keys()\n",
    "final_fwd = get_cpds_from_gen(fwd.compounds, fwd.generations)\n",
    "final_rev = get_cpds_from_gen(rev.compounds, rev.generations)\n",
    "len(checkpoints), len(final_fwd), len(final_rev)"
   ]
  },
  {
   "cell_type": "code",
   "execution_count": 8,
   "metadata": {},
   "outputs": [],
   "source": [
    "n=0"
   ]
  },
  {
   "cell_type": "code",
   "execution_count": 9,
   "metadata": {},
   "outputs": [
    {
     "data": {
      "text/plain": [
       "{'ID': 'PYROPHOSPHATE_ACCEPTOR_CoF',\n",
       " '_id': 'X2afb0d1241a06a5b42485c9533e1ee325f9c9c21',\n",
       " 'SMILES': 'Nc1ncnc2c1ncn2C1OC(COP(=O)(O)O)C(O)C1O',\n",
       " 'InChI_key': 'UDMBCSSLTHHNCD',\n",
       " 'Type': 'Coreactant',\n",
       " 'Generation': 0,\n",
       " 'atom_count': Counter({'H': 14, 'C': 10, 'O': 7, 'N': 5, 'P': 1}),\n",
       " 'Expand': False,\n",
       " 'Formula': 'C10H14N5O7P',\n",
       " 'last_tani': 0}"
      ]
     },
     "execution_count": 9,
     "metadata": {},
     "output_type": "execute_result"
    }
   ],
   "source": [
    "n+=1\n",
    "fwd.compounds[list(fwd.compounds.keys())[n]]"
   ]
  },
  {
   "cell_type": "code",
   "execution_count": 10,
   "metadata": {},
   "outputs": [
    {
     "data": {
      "text/plain": [
       "{'_id': 'R349246c13463b5aea2ffcf6da8fb0f82120230015e5a44ed8de20eaa1b604473',\n",
       " 'Reactants': [(1, 'C743d3d3a4a0e2cf0e31d4d7623c0d79884571a95'),\n",
       "  (1, 'X151d45ce062c088336cff9e45bc138b6a63626fe'),\n",
       "  (1, 'X73bc8ef21db580aefe4dbc0af17d4013961d9d17')],\n",
       " 'Products': [(1, 'C884bfe32dd0fc7e192d120e509978b660dff3f79'),\n",
       "  (1, 'X281e38d790b809dc908f7c9749d5274a6d8280c4'),\n",
       "  (1, 'X8dc023d8052d83fb6feadf8541387e57c199cad0')],\n",
       " 'Operators': {'rule0005_60'},\n",
       " 'SMILES_rxn': '(1) CC(C)(C)C(=O)O + (1) NC(=O)c1ccc[n+](C2OC(COP(=O)(O)OP(=O)(O)OCC3OC(n4cnc5c(N)ncnc54)C(OP(=O)(O)O)C3O)C(O)C2O)c1 + (1) O => (1) CC(C)(C)C=O + (1) NC(=O)C1=CN(C2OC(COP(=O)(O)OP(=O)(O)OCC3OC(n4cnc5c(N)ncnc54)C(OP(=O)(O)O)C3O)C(O)C2O)C=CC1 + (1) O=O'}"
      ]
     },
     "execution_count": 10,
     "metadata": {},
     "output_type": "execute_result"
    }
   ],
   "source": [
    "n+=1\n",
    "fwd.reactions[list(fwd.reactions.keys())[n]]"
   ]
  },
  {
   "cell_type": "code",
   "execution_count": 11,
   "metadata": {},
   "outputs": [
    {
     "data": {
      "text/plain": [
       "{'Coreactant', 'Predicted', 'Starting Compound'}"
      ]
     },
     "execution_count": 11,
     "metadata": {},
     "output_type": "execute_result"
    }
   ],
   "source": [
    "cpd_types = {c['Type'] for c in pk.compounds.values()}\n",
    "cpd_types"
   ]
  },
  {
   "cell_type": "code",
   "execution_count": 12,
   "metadata": {},
   "outputs": [],
   "source": [
    "def construct_network(compounds: dict, reactions: dict):\n",
    "        # Generate a directed bipartite graph\n",
    "        # 1. Add Compound Nodes\n",
    "        # 2. Add Reaction Nodes\n",
    "        # 3. Add directed edges\n",
    "        cpd_node_list = []\n",
    "        rxn_node_list = []\n",
    "        edge_list = []\n",
    "\n",
    "        starting_nodes = []\n",
    "        smiles_to_cid = {}\n",
    "\n",
    "        # Get compound information\n",
    "        for i, cpd in compounds.items():\n",
    "            if cpd[\"Type\"] == \"Coreactant\":\n",
    "                 continue\n",
    "\n",
    "            cpd_node_list.append(\n",
    "                (\n",
    "                    i,\n",
    "                    {\n",
    "                        \"SMILES\": cpd[\"SMILES\"],\n",
    "                        \"InChIKey\": cpd[\"InChI_key\"],\n",
    "                        \"Type\": cpd[\"Type\"],\n",
    "                        \"Generation\": cpd[\"Generation\"],\n",
    "                        \"_id\": cpd[\"_id\"]\n",
    "                    }\n",
    "                )\n",
    "            )\n",
    "\n",
    "            if cpd[\"Type\"] == \"Starting Compound\":\n",
    "                starting_nodes.append(i)\n",
    "            \n",
    "            smiles_to_cid[cpd[\"SMILES\"]] = i\n",
    "\n",
    "        # Get reaction information\n",
    "        for i, rxn in reactions.items():\n",
    "            # stoich = get_stoich_pk(rxn[\"SMILES_rxn\"])\n",
    "            rxn_node_list.append(\n",
    "                (\n",
    "                    i,\n",
    "                    {\n",
    "                        \"Rule\": rxn[\"Operators\"],\n",
    "                        # \"Stoich\": stoich,\n",
    "                        \"Type\": \"Reaction\",\n",
    "                        \"feasible\": None,\n",
    "                        \"Reactants\": rxn[\"Reactants\"],\n",
    "                        \"Products\": rxn[\"Products\"]\n",
    "                    }\n",
    "                )\n",
    "            )\n",
    "            \n",
    "            for _, c_id in rxn[\"Reactants\"]:\n",
    "                if c_id[0] == 'X':\n",
    "                     continue\n",
    "                \n",
    "                edge_list.append((c_id, i))\n",
    "            \n",
    "            for _, c_id in rxn[\"Products\"]:\n",
    "                if c_id[0] == 'X':\n",
    "                     continue\n",
    "                \n",
    "                edge_list.append((i, c_id))\n",
    "        \n",
    "        # Create Graph\n",
    "        DG = nx.DiGraph(smiles_to_cid=smiles_to_cid)  \n",
    "        DG.add_nodes_from(cpd_node_list, bipartite=0)\n",
    "        DG.add_nodes_from(rxn_node_list, bipartite=1)\n",
    "        DG.add_edges_from(edge_list)\n",
    "        \n",
    "        return DG\n",
    "\n"
   ]
  },
  {
   "cell_type": "code",
   "execution_count": 13,
   "metadata": {},
   "outputs": [],
   "source": [
    "DG_new = construct_network(fwd.compounds, fwd.reactions)\n",
    "DG_old, _, _ = fwd.construct_network()"
   ]
  },
  {
   "cell_type": "code",
   "execution_count": null,
   "metadata": {},
   "outputs": [],
   "source": []
  },
  {
   "cell_type": "code",
   "execution_count": 14,
   "metadata": {},
   "outputs": [
    {
     "data": {
      "text/plain": [
       "(1573, 2454, 1602, 2713)"
      ]
     },
     "execution_count": 14,
     "metadata": {},
     "output_type": "execute_result"
    }
   ],
   "source": [
    "DG_new.number_of_nodes(), DG_new.number_of_edges(), DG_old.number_of_nodes(), DG_old.number_of_edges()"
   ]
  },
  {
   "cell_type": "code",
   "execution_count": 27,
   "metadata": {},
   "outputs": [
    {
     "data": {
      "text/plain": [
       "{'C743d3d3a4a0e2cf0e31d4d7623c0d79884571a95': 'pivalic_acid'}"
      ]
     },
     "execution_count": 27,
     "metadata": {},
     "output_type": "execute_result"
    }
   ],
   "source": [
    "fwd.starters"
   ]
  },
  {
   "cell_type": "code",
   "execution_count": 28,
   "metadata": {},
   "outputs": [
    {
     "name": "stdout",
     "output_type": "stream",
     "text": [
      "68.5 μs ± 684 ns per loop (mean ± std. dev. of 7 runs, 10,000 loops each)\n"
     ]
    }
   ],
   "source": [
    "%timeit paths_old = find_paths_single_target(DG_old, list(fwd.starters.keys()), list(fwd.targets.keys())[0], fwd.generations)\n",
    "paths_old = find_paths_single_target(DG_old, list(fwd.starters.keys()), list(fwd.targets.keys())[0], fwd.generations)"
   ]
  },
  {
   "cell_type": "code",
   "execution_count": 29,
   "metadata": {},
   "outputs": [
    {
     "name": "stdout",
     "output_type": "stream",
     "text": [
      "65.6 μs ± 1.08 μs per loop (mean ± std. dev. of 7 runs, 10,000 loops each)\n"
     ]
    }
   ],
   "source": [
    "%timeit paths_new = find_paths_single_target(DG_new, list(fwd.starters.keys()), list(fwd.targets.keys())[0], fwd.generations)\n",
    "paths_new = find_paths_single_target(DG_new, list(fwd.starters.keys()), list(fwd.targets.keys())[0], fwd.generations)"
   ]
  },
  {
   "cell_type": "code",
   "execution_count": 30,
   "metadata": {},
   "outputs": [
    {
     "data": {
      "text/plain": [
       "(6, 6)"
      ]
     },
     "execution_count": 30,
     "metadata": {},
     "output_type": "execute_result"
    }
   ],
   "source": [
    "len(paths_old), len(paths_new)"
   ]
  },
  {
   "cell_type": "code",
   "execution_count": 33,
   "metadata": {},
   "outputs": [
    {
     "data": {
      "text/plain": [
       "set()"
      ]
     },
     "execution_count": 33,
     "metadata": {},
     "output_type": "execute_result"
    }
   ],
   "source": [
    "set(paths_old) ^ set(paths_new)"
   ]
  },
  {
   "cell_type": "code",
   "execution_count": 49,
   "metadata": {},
   "outputs": [
    {
     "name": "stdout",
     "output_type": "stream",
     "text": [
      "886 ns ± 7.2 ns per loop (mean ± std. dev. of 7 runs, 1,000,000 loops each)\n"
     ]
    }
   ],
   "source": [
    "%timeit paths = nx.all_simple_paths(DG_new, source=list(fwd.starters.keys())[0], target=list(fwd.targets.keys()), cutoff=fwd.generations*2)\n",
    "paths = nx.all_simple_paths(DG_new, source=list(fwd.starters.keys())[0], target=list(fwd.targets.keys()), cutoff=fwd.generations*2)"
   ]
  },
  {
   "cell_type": "code",
   "execution_count": 50,
   "metadata": {},
   "outputs": [
    {
     "data": {
      "text/plain": [
       "15"
      ]
     },
     "execution_count": 50,
     "metadata": {},
     "output_type": "execute_result"
    }
   ],
   "source": [
    "paths = [tuple([elt[0]] + elt[1::2]) for elt in paths]\n",
    "len(paths)"
   ]
  },
  {
   "cell_type": "code",
   "execution_count": 51,
   "metadata": {},
   "outputs": [
    {
     "data": {
      "text/plain": [
       "[('C743d3d3a4a0e2cf0e31d4d7623c0d79884571a95',\n",
       "  'R022d15344a76dbd79cf46e8c67679ce6aff193011ecd9fd035f0bb52746679bf'),\n",
       " ('C743d3d3a4a0e2cf0e31d4d7623c0d79884571a95',\n",
       "  'R022d15344a76dbd79cf46e8c67679ce6aff193011ecd9fd035f0bb52746679bf',\n",
       "  'Rfa06fdf1de128b497279c2e28639d50e249dd2ba1d6190519fd8cc4ad00c2e1d'),\n",
       " ('C743d3d3a4a0e2cf0e31d4d7623c0d79884571a95',\n",
       "  'R022d15344a76dbd79cf46e8c67679ce6aff193011ecd9fd035f0bb52746679bf',\n",
       "  'R12331e3c0d6b4e7199ec7d9d9bcc4d7cb71792b2bcad1aae82c8c20fbe94dbbb'),\n",
       " ('C743d3d3a4a0e2cf0e31d4d7623c0d79884571a95',\n",
       "  'Ra70122a22903bfb5cde4f132c01565531ee96e8a1ae6a48b48526025b265eba6',\n",
       "  'Rea76132ecc1eedc98147000d6f3bde0cc9885b8d222d9865e6ab6d7ca5399220'),\n",
       " ('C743d3d3a4a0e2cf0e31d4d7623c0d79884571a95',\n",
       "  'Ra70122a22903bfb5cde4f132c01565531ee96e8a1ae6a48b48526025b265eba6',\n",
       "  'Rad907da7aa348bc2c4625531d5f3bb640ca7b9bb6aa19b8e972b62e1e74f49d4'),\n",
       " ('C743d3d3a4a0e2cf0e31d4d7623c0d79884571a95',\n",
       "  'Ra70122a22903bfb5cde4f132c01565531ee96e8a1ae6a48b48526025b265eba6',\n",
       "  'R843498dc2db85769c20b0294be0e34000a9dff990ba0cb7eb8f71c02f11ed9b6'),\n",
       " ('C743d3d3a4a0e2cf0e31d4d7623c0d79884571a95',\n",
       "  'Re8cdf9d184595351a65559b3be92a24cf392a986fda1be9b67c74d085883bebc'),\n",
       " ('C743d3d3a4a0e2cf0e31d4d7623c0d79884571a95',\n",
       "  'Re8cdf9d184595351a65559b3be92a24cf392a986fda1be9b67c74d085883bebc',\n",
       "  'Re69b39c63c0593fa41a1cec058394da2e621d3af1d43615aea5f8382dfc37fec'),\n",
       " ('C743d3d3a4a0e2cf0e31d4d7623c0d79884571a95',\n",
       "  'R17b5116b7d8f16bf7d458ac6b368477df85a3f4374ad6ed67d8953e3a738198f',\n",
       "  'R20d0f82c8e2a0f6b78fe2ce671550d4a93ed831781dc906e941b6520c2a07a2e'),\n",
       " ('C743d3d3a4a0e2cf0e31d4d7623c0d79884571a95',\n",
       "  'R17b5116b7d8f16bf7d458ac6b368477df85a3f4374ad6ed67d8953e3a738198f',\n",
       "  'Rf8130022ba2262dd95c53081ff831c54dbdf4139f177a91886aab0c98e993567'),\n",
       " ('C743d3d3a4a0e2cf0e31d4d7623c0d79884571a95',\n",
       "  'R17b5116b7d8f16bf7d458ac6b368477df85a3f4374ad6ed67d8953e3a738198f',\n",
       "  'R8d6935b7dc7e53b7763a6794f33a0bb67f1a2ac2f0509e2b8d2a03fddce44e4b'),\n",
       " ('C743d3d3a4a0e2cf0e31d4d7623c0d79884571a95',\n",
       "  'R17b5116b7d8f16bf7d458ac6b368477df85a3f4374ad6ed67d8953e3a738198f',\n",
       "  'R1cc75321cc5318b003961a42b8588e4efe27c20b183f720d583771c5fee8ece8'),\n",
       " ('C743d3d3a4a0e2cf0e31d4d7623c0d79884571a95',\n",
       "  'Rcf8601a655ee9d6e7b556f215a6b57dea70935bbb3f9e62fdbe9c6fc89fa57ee'),\n",
       " ('C743d3d3a4a0e2cf0e31d4d7623c0d79884571a95',\n",
       "  'Rcf8601a655ee9d6e7b556f215a6b57dea70935bbb3f9e62fdbe9c6fc89fa57ee',\n",
       "  'Re69b39c63c0593fa41a1cec058394da2e621d3af1d43615aea5f8382dfc37fec'),\n",
       " ('C743d3d3a4a0e2cf0e31d4d7623c0d79884571a95',\n",
       "  'Rc709aee83ea1446071d2f3c49b94cd28f4b8ddb2e10e17b900c76646969dcf6e',\n",
       "  'Rbcc462cd3691798298e9c4ed2eff50659dd1dcc5c23a0ed251135c8bb9acb38d')]"
      ]
     },
     "execution_count": 51,
     "metadata": {},
     "output_type": "execute_result"
    }
   ],
   "source": [
    "paths"
   ]
  },
  {
   "cell_type": "code",
   "execution_count": 53,
   "metadata": {},
   "outputs": [
    {
     "data": {
      "text/plain": [
       "set()"
      ]
     },
     "execution_count": 53,
     "metadata": {},
     "output_type": "execute_result"
    }
   ],
   "source": [
    "set(paths_new) - set(paths)"
   ]
  },
  {
   "cell_type": "code",
   "execution_count": 58,
   "metadata": {},
   "outputs": [],
   "source": [
    "nx_only = list(set(paths) - set(paths_new))"
   ]
  },
  {
   "cell_type": "code",
   "execution_count": 61,
   "metadata": {},
   "outputs": [
    {
     "data": {
      "text/plain": [
       "{'Ca44a84be6f833fe631009a55d05e4807de958fe0': '3hpa',\n",
       " 'Cce065e1e7b273fd0df7f455452f948b30517b232': 'dmb',\n",
       " 'Cc2274a1b151121868789bd03eb37b9c4065ef3d1': 'dmhb'}"
      ]
     },
     "execution_count": 61,
     "metadata": {},
     "output_type": "execute_result"
    }
   ],
   "source": [
    "fwd.targets"
   ]
  },
  {
   "cell_type": "code",
   "execution_count": 65,
   "metadata": {},
   "outputs": [],
   "source": [
    "i = 0\n"
   ]
  },
  {
   "cell_type": "code",
   "execution_count": 72,
   "metadata": {},
   "outputs": [
    {
     "name": "stdout",
     "output_type": "stream",
     "text": [
      "[(1, 'C2d94449d2035580e3a2de661386c29c111c7bf71'), (1, 'Cce065e1e7b273fd0df7f455452f948b30517b232')]\n",
      "[(1, 'Cc2274a1b151121868789bd03eb37b9c4065ef3d1'), (1, 'X151d45ce062c088336cff9e45bc138b6a63626fe'), (1, 'X73bc8ef21db580aefe4dbc0af17d4013961d9d17')]\n"
     ]
    }
   ],
   "source": [
    "\n",
    "for r in nx_only[i][1:]:\n",
    "    print(fwd.reactions[r][\"Products\"])\n",
    "i += 1"
   ]
  },
  {
   "cell_type": "code",
   "execution_count": null,
   "metadata": {},
   "outputs": [],
   "source": []
  }
 ],
 "metadata": {
  "kernelspec": {
   "display_name": "bottle-bcOlvnza-py3.12",
   "language": "python",
   "name": "python3"
  },
  "language_info": {
   "codemirror_mode": {
    "name": "ipython",
    "version": 3
   },
   "file_extension": ".py",
   "mimetype": "text/x-python",
   "name": "python",
   "nbconvert_exporter": "python",
   "pygments_lexer": "ipython3",
   "version": "3.12.7"
  }
 },
 "nbformat": 4,
 "nbformat_minor": 2
}
