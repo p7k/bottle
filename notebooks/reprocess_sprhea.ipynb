{
 "cells": [
  {
   "cell_type": "code",
   "execution_count": 3,
   "metadata": {},
   "outputs": [],
   "source": [
    "import pandas as pd\n",
    "import re\n",
    "from itertools import chain\n",
    "from src.utils import neutralise_charges, postsanitize_smiles\n",
    "from typing import List\n",
    "from rdkit import Chem\n",
    "from rdkit.Chem import AllChem\n",
    "from tqdm import tqdm"
   ]
  },
  {
   "cell_type": "code",
   "execution_count": 2,
   "metadata": {},
   "outputs": [
    {
     "name": "stderr",
     "output_type": "stream",
     "text": [
      "/home/stef/miniconda3/envs/mine/lib/python3.7/site-packages/IPython/core/interactiveshell.py:3552: FutureWarning: In a future version of pandas all arguments of read_csv except for the argument 'filepath_or_buffer' will be keyword-only\n",
      "  exec(code_obj, self.user_global_ns, self.user_ns)\n"
     ]
    }
   ],
   "source": [
    "rhea_directions = pd.read_csv('/home/stef/bottle/data/mapping/rhea-directions.tsv', '\\t')\n",
    "rhea_smarts = pd.read_csv('/home/stef/bottle/data/mapping/rhea-reaction-smiles.tsv', '\\t', header=None)\n",
    "rhea_smarts.columns = [\"rhea_id\", \"smarts\"]\n",
    "rhea_smarts.set_index('rhea_id', inplace=True)"
   ]
  },
  {
   "cell_type": "code",
   "execution_count": 3,
   "metadata": {},
   "outputs": [
    {
     "data": {
      "text/plain": [
       "set()"
      ]
     },
     "execution_count": 3,
     "metadata": {},
     "output_type": "execute_result"
    }
   ],
   "source": [
    "# Rhea IDs w smarts are a subset of all ids in rhea-directions\n",
    "\n",
    "rhea_all = set()\n",
    "for col in rhea_directions.columns:\n",
    "    rhea_all = rhea_all | set(rhea_directions.loc[:, col])\n",
    "w_smarts = set(rhea_smarts.index.values)\n",
    "w_smarts - rhea_all"
   ]
  },
  {
   "cell_type": "code",
   "execution_count": 4,
   "metadata": {},
   "outputs": [
    {
     "name": "stdout",
     "output_type": "stream",
     "text": [
      "{0, 2}\n",
      "Index(['RHEA_ID_MASTER', 'RHEA_ID_LR', 'RHEA_ID_RL', 'RHEA_ID_BI'], dtype='object')\n",
      "{'0110', '0000'}\n"
     ]
    }
   ],
   "source": [
    "# Only rhea IDs in LR / RL have a smarts entry, and if there is one there are both!\n",
    "\n",
    "codes = []\n",
    "counts = []\n",
    "for i, row in rhea_directions.iterrows():\n",
    "    ct = 0\n",
    "    code = ''\n",
    "    for id in row:\n",
    "        if id in w_smarts:\n",
    "            ct += 1\n",
    "            code += '1'\n",
    "        else:\n",
    "            code += '0'\n",
    "    counts.append(ct)\n",
    "    codes.append(code)\n",
    "\n",
    "print(set(counts))\n",
    "print(rhea_directions.columns)\n",
    "print(set(codes))"
   ]
  },
  {
   "cell_type": "code",
   "execution_count": 5,
   "metadata": {},
   "outputs": [],
   "source": [
    "# Create look up of (LR, RL) rhea ids from not LR, RL\n",
    "\n",
    "lookup_directed_ids = {}\n",
    "\n",
    "for i, row in rhea_directions.iterrows():\n",
    "    lookup_directed_ids[row['RHEA_ID_MASTER']] = (row['RHEA_ID_LR'], row['RHEA_ID_RL'])\n",
    "    lookup_directed_ids[row['RHEA_ID_BI']] = (row['RHEA_ID_LR'], row['RHEA_ID_RL'])"
   ]
  },
  {
   "cell_type": "code",
   "execution_count": 6,
   "metadata": {},
   "outputs": [],
   "source": [
    "rhea_uniprot = pd.read_csv('/home/stef/bottle/data/mapping/rhea2uniprot_sprot.tsv', sep='\\t')\n",
    "up_pull = pd.read_csv('/home/stef/bottle/data/mapping/uniprotkb_reviewed_true_AND_proteins_wi_2024_02_29.tsv', sep='\\t')\n",
    "up_pull.set_index(\"Entry\", inplace=True)"
   ]
  },
  {
   "cell_type": "code",
   "execution_count": 7,
   "metadata": {},
   "outputs": [],
   "source": [
    "# Get rhea ids for up entries\n",
    "\n",
    "rhea_up_pairs= set()\n",
    "pattern = r'RHEA:(\\d{1,6})' # Regular expression pattern\n",
    "no_matches = []\n",
    "\n",
    "for entry, row in up_pull.iterrows():\n",
    "    cat_act = row[\"Catalytic activity\"]\n",
    "    if pd.isna(cat_act):\n",
    "        no_matches.append(entry)\n",
    "    else:\n",
    "        matches = re.findall(pattern, cat_act)\n",
    "\n",
    "        for match in matches:\n",
    "            rhea_up_pairs.add((int(match), entry))\n",
    "\n",
    "        if len(matches) == 0:\n",
    "            no_matches.append(entry)"
   ]
  },
  {
   "cell_type": "code",
   "execution_count": 8,
   "metadata": {},
   "outputs": [],
   "source": [
    "# Pull rhea-up pairs from rhea's tsv\n",
    "\n",
    "rhea_up_pairs_alt = set()\n",
    "for i, row in rhea_uniprot.iterrows():\n",
    "    rhea_up_pairs_alt.add((row['RHEA_ID'], row['ID']))"
   ]
  },
  {
   "cell_type": "code",
   "execution_count": 9,
   "metadata": {},
   "outputs": [
    {
     "data": {
      "text/plain": [
       "0.006352646521386967"
      ]
     },
     "execution_count": 9,
     "metadata": {},
     "output_type": "execute_result"
    }
   ],
   "source": [
    "len(rhea_up_pairs_alt ^ rhea_up_pairs) / len(rhea_up_pairs_alt | rhea_up_pairs)"
   ]
  },
  {
   "cell_type": "code",
   "execution_count": 10,
   "metadata": {},
   "outputs": [],
   "source": [
    "# Filter by smarts avail\n",
    "\n",
    "def filter_pairs_by_smarts(pair):\n",
    "    r = pair[0]\n",
    "    if r in lookup_directed_ids:\n",
    "        if lookup_directed_ids[r][0] in w_smarts or lookup_directed_ids[r][1] in w_smarts:\n",
    "            return True\n",
    "        else:\n",
    "            return False\n",
    "    else:\n",
    "        return False\n",
    "\n",
    "rhea_up_pairs_w_smarts = set(filter(filter_pairs_by_smarts, list(rhea_up_pairs)))\n",
    "rhea_up_pairs_alt_w_smarts = set(filter(filter_pairs_by_smarts, list(rhea_up_pairs_alt)))"
   ]
  },
  {
   "cell_type": "code",
   "execution_count": 11,
   "metadata": {},
   "outputs": [
    {
     "data": {
      "text/plain": [
       "0.004448221554483126"
      ]
     },
     "execution_count": 11,
     "metadata": {},
     "output_type": "execute_result"
    }
   ],
   "source": [
    "# After filtering by avail of smarts, the difference in rhea-upid pairs\n",
    "# gotten by the two methods is small\n",
    "\n",
    "len(rhea_up_pairs_w_smarts ^ rhea_up_pairs_alt_w_smarts) / len(rhea_up_pairs_alt_w_smarts | rhea_up_pairs_w_smarts)"
   ]
  },
  {
   "cell_type": "markdown",
   "metadata": {},
   "source": [
    "# Compare molecular standardization"
   ]
  },
  {
   "cell_type": "code",
   "execution_count": 12,
   "metadata": {},
   "outputs": [],
   "source": [
    "smiles = set()\n",
    "for i,row in rhea_smarts.iterrows():\n",
    "    this_smiles = list(chain(*[elt.split('.') for elt in row['smarts'].split('>>')]))\n",
    "    for smi in this_smiles:\n",
    "        smiles.add(smi)\n",
    "\n",
    "smiles = list(smiles)"
   ]
  },
  {
   "cell_type": "code",
   "execution_count": 20,
   "metadata": {},
   "outputs": [],
   "source": [
    "def old_sanitize(smiles:List[str]):\n",
    "    smiles = postsanitize_smiles(smiles)[0]\n",
    "    neutral_mols = [neutralise_charges(Chem.MolFromSmiles(smi, sanitize=False)) for smi in smiles] \n",
    "    return [Chem.MolToSmiles(mol) for mol in neutral_mols]\n",
    "    "
   ]
  },
  {
   "cell_type": "code",
   "execution_count": 30,
   "metadata": {},
   "outputs": [
    {
     "data": {
      "image/png": "[encoded data removed]",
      "text/plain": [
       "<rdkit.Chem.rdChemReactions.ChemicalReaction at 0x7f2d8a8e3db0>"
      ]
     },
     "execution_count": 30,
     "metadata": {},
     "output_type": "execute_result"
    }
   ],
   "source": [
    "from IPython.display import SVG # to use Scalar Vector Graphics (SVG) not bitmaps, for cleaner lines\n",
    "\n",
    "import rdkit\n",
    "from rdkit import Chem\n",
    "from rdkit.Chem import AllChem\n",
    "from rdkit.Chem import Draw # to draw molecules\n",
    "from rdkit.Chem.Draw import IPythonConsole # to draw inline in iPython\n",
    "from rdkit.Chem import rdDepictor  # to generate 2D depictions of molecules\n",
    "from rdkit.Chem.Draw import rdMolDraw2D # to draw 2D molecules using vectors\n",
    "from rdkit.Chem.MolStandardize import rdMolStandardize\n",
    "\n",
    "AllChem.ReactionFromSmarts('[C:1]-[C:2](-[O:3]-[H:4])>>[C:1]-[C:2](=[O:3])(-[H:4])')"
   ]
  },
  {
   "cell_type": "code",
   "execution_count": 38,
   "metadata": {},
   "outputs": [],
   "source": [
    "def standardize_mol(mol, remove_stereo=False):\n",
    "    \"\"\"Standardize the RDKit molecule, select its parent molecule, uncharge it, \n",
    "    then enumerate all the tautomers.\n",
    "    If verbose is true, an explanation of the steps and structures of the molecule\n",
    "    as it is standardized will be output.\"\"\"\n",
    "    # Follows the steps from:\n",
    "    #  https://github.com/greglandrum/RSC_OpenScience_Standardization_202104/blob/main/MolStandardize%20pieces.ipynb\n",
    "    # as described **excellently** (by Greg Landrum) in\n",
    "    # https://www.youtube.com/watch?v=eWTApNX8dJQ -- thanks JP!\n",
    "    \n",
    "    \n",
    "    # removeHs, disconnect metal atoms, normalize the molecule, reionize the molecule\n",
    "    clean_mol = rdMolStandardize.Cleanup(mol) \n",
    "\n",
    "    # if many fragments, get the \"parent\" (the actual mol we are interested in) \n",
    "    parent_clean_mol = rdMolStandardize.FragmentParent(clean_mol)\n",
    "\n",
    "    # try to neutralize molecule\n",
    "    uncharger = rdMolStandardize.Uncharger() # annoying, but necessary as no convenience method exists\n",
    "    uncharged_parent_clean_mol = uncharger.uncharge(parent_clean_mol)\n",
    "\n",
    "    # Note: no attempt is made at reionization at this step\n",
    "    # nor ionization at some pH (RDKit has no pKa caculator);\n",
    "    # the main aim to to represent all molecules from different sources\n",
    "    # in a (single) standard way, for use in ML, catalogues, etc.\n",
    "    te = rdMolStandardize.TautomerEnumerator() # idem\n",
    "    taut_uncharged_parent_clean_mol = te.Canonicalize(uncharged_parent_clean_mol)\n",
    "    assert taut_uncharged_parent_clean_mol != None\n",
    "    \n",
    "    \n",
    "    if remove_stereo:\n",
    "        Chem.rdmolops.RemoveStereochemistry(taut_uncharged_parent_clean_mol)\n",
    "\n",
    "    return taut_uncharged_parent_clean_mol\n",
    "\n",
    "\n",
    "def standardize_smiles(smiles, remove_stereo=False):\n",
    "  \"\"\"Standardize the SMILES string, select its parent molecule, uncharge it, \n",
    "    then enumerate all the tautomers.\"\"\"\n",
    "  std_mol = standardize_mol(Chem.MolFromSmiles(smiles), remove_stereo)\n",
    "  return Chem.MolToSmiles(std_mol)\n"
   ]
  },
  {
   "cell_type": "code",
   "execution_count": 39,
   "metadata": {},
   "outputs": [],
   "source": [
    "def sanitize_smiles(smiles:List[str], remove_stereo=False):\n",
    "    san_smiles = []\n",
    "    for smi in smiles:\n",
    "        san_smiles.append(standardize_smiles(smi, remove_stereo))\n",
    "    return san_smiles\n"
   ]
  },
  {
   "cell_type": "code",
   "execution_count": 40,
   "metadata": {},
   "outputs": [
    {
     "name": "stderr",
     "output_type": "stream",
     "text": [
      "[12:18:58] Initializing MetalDisconnector\n",
      "[12:18:58] Running MetalDisconnector\n",
      "[12:18:58] Initializing Normalizer\n",
      "[12:18:58] Running Normalizer\n",
      "[12:18:58] Initializing MetalDisconnector\n",
      "[12:18:58] Running MetalDisconnector\n",
      "[12:18:58] Initializing Normalizer\n",
      "[12:18:58] Running Normalizer\n",
      "[12:18:58] Running LargestFragmentChooser\n",
      "[12:18:58] Fragment: *P(=O)([O-])OC[C@H]1O[C@@H](n2cnc3c(N)ncnc32)[C@H](O)[C@@H]1OC(=O)[C@@H]1CCC[NH2+]1\n",
      "[12:18:58] New largest fragment: *P(=O)([O-])OC[C@H]1O[C@@H](n2cnc3c(N)ncnc32)[C@H](O)[C@@H]1OC(=O)[C@@H]1CCC[NH2+]1 (50)\n",
      "[12:18:58] Running Uncharger\n",
      "[12:18:58] Removed negative charge.\n",
      "[12:18:58] Removed positive charge.\n",
      "[12:18:58] Initializing MetalDisconnector\n",
      "[12:18:58] Running MetalDisconnector\n",
      "[12:18:58] Initializing Normalizer\n",
      "[12:18:58] Running Normalizer\n",
      "[12:18:58] Initializing MetalDisconnector\n",
      "[12:18:58] Running MetalDisconnector\n",
      "[12:18:58] Initializing Normalizer\n",
      "[12:18:58] Running Normalizer\n",
      "[12:18:58] Running LargestFragmentChooser\n",
      "[12:18:58] Fragment: CCCCCCCC/C=C\\CCCCCCC/C=C/C(=O)SCCNC(=O)CCNC(=O)[C@H](O)C(C)(C)COP(=O)([O-])OP(=O)([O-])OC[C@H]1O[C@@H](n2cnc3c(N)ncnc32)[C@H](O)[C@@H]1OP(=O)([O-])[O-]\n",
      "[12:18:58] New largest fragment: CCCCCCCC/C=C\\CCCCCCC/C=C/C(=O)SCCNC(=O)CCNC(=O)[C@H](O)C(C)(C)COP(=O)([O-])OP(=O)([O-])OC[C@H]1O[C@@H](n2cnc3c(N)ncnc32)[C@H](O)[C@@H]1OP(=O)([O-])[O-] (135)\n",
      "[12:18:58] Running Uncharger\n",
      "[12:18:58] Removed negative charge.\n",
      "[12:18:58] Removed negative charge.\n",
      "[12:18:58] Removed negative charge.\n",
      "[12:18:58] Removed negative charge.\n",
      "[12:18:58] Initializing MetalDisconnector\n",
      "[12:18:58] Running MetalDisconnector\n",
      "[12:18:58] Initializing Normalizer\n",
      "[12:18:58] Running Normalizer\n",
      "[12:18:58] Initializing MetalDisconnector\n",
      "[12:18:58] Running MetalDisconnector\n",
      "[12:18:58] Initializing Normalizer\n",
      "[12:18:58] Running Normalizer\n",
      "[12:18:58] Running LargestFragmentChooser\n",
      "[12:18:58] Fragment: O=C(Cc1ccc(OS(=O)(=O)[O-])cc1)Nc1ncc(-c2ccc(OS(=O)(=O)[O-])cc2)nc1Cc1ccccc1\n",
      "[12:18:58] New largest fragment: O=C(Cc1ccc(OS(=O)(=O)[O-])cc1)Nc1ncc(-c2ccc(OS(=O)(=O)[O-])cc2)nc1Cc1ccccc1 (58)\n",
      "[12:18:58] Running Uncharger\n",
      "[12:18:58] Removed negative charge.\n",
      "[12:18:58] Removed negative charge.\n",
      "[12:18:58] Initializing MetalDisconnector\n",
      "[12:18:58] Running MetalDisconnector\n",
      "[12:18:58] Initializing Normalizer\n",
      "[12:18:58] Running Normalizer\n",
      "[12:18:58] Initializing MetalDisconnector\n",
      "[12:18:58] Running MetalDisconnector\n",
      "[12:18:58] Initializing Normalizer\n",
      "[12:18:58] Running Normalizer\n",
      "[12:18:58] Running LargestFragmentChooser\n",
      "[12:18:58] Fragment: O=C([O-])C(=O)Cc1cccc(O)c1\n",
      "[12:18:58] New largest fragment: O=C([O-])C(=O)Cc1cccc(O)c1 (20)\n",
      "[12:18:58] Running Uncharger\n",
      "[12:18:58] Removed negative charge.\n",
      "[12:18:58] Initializing MetalDisconnector\n",
      "[12:18:58] Running MetalDisconnector\n",
      "[12:18:58] Initializing Normalizer\n",
      "[12:18:58] Running Normalizer\n",
      "[12:18:58] Initializing MetalDisconnector\n",
      "[12:18:58] Running MetalDisconnector\n",
      "[12:18:58] Initializing Normalizer\n",
      "[12:18:58] Running Normalizer\n",
      "[12:18:58] Running LargestFragmentChooser\n",
      "[12:18:58] Fragment: O=C([O-])C/C(=C/[PH](=O)[O-])C(=O)[O-]\n",
      "[12:18:58] New largest fragment: O=C([O-])C/C(=C/[PH](=O)[O-])C(=O)[O-] (16)\n",
      "[12:18:58] Running Uncharger\n",
      "[12:18:58] Removed negative charge.\n",
      "[12:18:58] Removed negative charge.\n",
      "[12:18:58] Removed negative charge.\n",
      "[12:18:58] Initializing MetalDisconnector\n",
      "[12:18:58] Running MetalDisconnector\n",
      "[12:18:58] Initializing Normalizer\n",
      "[12:18:58] Running Normalizer\n",
      "[12:18:58] Initializing MetalDisconnector\n",
      "[12:18:58] Running MetalDisconnector\n",
      "[12:18:58] Initializing Normalizer\n",
      "[12:18:58] Running Normalizer\n",
      "[12:18:58] Running LargestFragmentChooser\n",
      "[12:18:58] Fragment: O=C/C=C/C=C(\\O)C(=O)[O-]\n",
      "[12:18:58] New largest fragment: O=C/C=C/C=C(\\O)C(=O)[O-] (15)\n",
      "[12:18:58] Running Uncharger\n",
      "[12:18:58] Removed negative charge.\n",
      "[12:18:58] Initializing MetalDisconnector\n",
      "[12:18:58] Running MetalDisconnector\n",
      "[12:18:58] Initializing Normalizer\n",
      "[12:18:58] Running Normalizer\n",
      "[12:18:58] Initializing MetalDisconnector\n",
      "[12:18:58] Running MetalDisconnector\n",
      "[12:18:58] Initializing Normalizer\n",
      "[12:18:58] Running Normalizer\n",
      "[12:18:58] Running LargestFragmentChooser\n",
      "[12:18:58] Fragment: CC(C)(O)C=O\n",
      "[12:18:58] New largest fragment: CC(C)(O)C=O (14)\n",
      "[12:18:58] Running Uncharger\n",
      "[12:18:58] Initializing MetalDisconnector\n",
      "[12:18:58] Running MetalDisconnector\n",
      "[12:18:58] Initializing Normalizer\n",
      "[12:18:58] Running Normalizer\n",
      "[12:18:58] Initializing MetalDisconnector\n",
      "[12:18:58] Running MetalDisconnector\n",
      "[12:18:58] Initializing Normalizer\n",
      "[12:18:58] Running Normalizer\n",
      "[12:18:58] Running LargestFragmentChooser\n",
      "[12:18:58] Fragment: O=C([O-])[C@@H](O)[C@H](O)[C@H](O)[C@@H](O)CO\n",
      "[12:18:58] New largest fragment: O=C([O-])[C@@H](O)[C@H](O)[C@H](O)[C@@H](O)CO (24)\n",
      "[12:18:58] Running Uncharger\n",
      "[12:18:58] Removed negative charge.\n",
      "[12:18:58] Initializing MetalDisconnector\n",
      "[12:18:58] Running MetalDisconnector\n",
      "[12:18:58] Initializing Normalizer\n",
      "[12:18:58] Running Normalizer\n",
      "[12:18:58] Initializing MetalDisconnector\n",
      "[12:18:58] Running MetalDisconnector\n",
      "[12:18:58] Initializing Normalizer\n",
      "[12:18:58] Running Normalizer\n",
      "[12:18:58] Running LargestFragmentChooser\n",
      "[12:18:58] Fragment: NC(=O)CCCC[C@@H](S)CCS\n",
      "[12:18:58] New largest fragment: NC(=O)CCCC[C@@H](S)CCS (29)\n",
      "[12:18:58] Running Uncharger\n",
      "[12:18:58] Initializing MetalDisconnector\n",
      "[12:18:58] Running MetalDisconnector\n",
      "[12:18:58] Initializing Normalizer\n",
      "[12:18:58] Running Normalizer\n",
      "[12:18:58] Initializing MetalDisconnector\n",
      "[12:18:58] Running MetalDisconnector\n",
      "[12:18:58] Initializing Normalizer\n",
      "[12:18:58] Running Normalizer\n",
      "[12:18:58] Running LargestFragmentChooser\n",
      "[12:18:58] Fragment: *C1=Nc2c(ncn2[C@@H]2O[C@H](CO)[C@@H](O)[C@H]2O)C(=*)N1\n",
      "[12:18:58] New largest fragment: *C1=Nc2c(ncn2[C@@H]2O[C@H](CO)[C@@H](O)[C@H]2O)C(=*)N1 (31)\n",
      "[12:18:58] Running Uncharger\n"
     ]
    }
   ],
   "source": [
    "n = 10\n",
    "san_smiles = old_sanitize(smiles[:n])\n",
    "san_smiles_alt = sanitize_smiles(smiles[:n], remove_stereo=True)"
   ]
  },
  {
   "cell_type": "code",
   "execution_count": 41,
   "metadata": {},
   "outputs": [
    {
     "name": "stdout",
     "output_type": "stream",
     "text": [
      "*P(=O)(O)OCC1OC(n2cnc3c(N)ncnc32)C(O)C1OC(=O)C1CCCN1 *P(=O)(O)OCC1OC(n2cnc3c(N)ncnc32)C(O)C1OC(=O)C1CCCN1\n",
      "CCCCCCCCC=CCCCCCCCC=CC(=O)SCCNC(=O)CCNC(=O)C(O)C(C)(C)COP(=O)(O)OP(=O)(O)OCC1OC(n2cnc3c(N)ncnc32)C(O)C1OP(=O)(O)O CCCCCCCCC=CCCCCCCCC=CC(=O)SCCNC(=O)CCNC(=O)C(O)C(C)(C)COP(=O)(O)OP(=O)(O)OCC1OC(n2cnc3c(N)ncnc32)C(O)C1OP(=O)(O)O\n",
      "O=C(Cc1ccc(OS(=O)(=O)O)cc1)Nc1ncc(-c2ccc(OS(=O)(=O)O)cc2)nc1Cc1ccccc1 O=C(Cc1ccc(OS(=O)(=O)O)cc1)Nc1ncc(-c2ccc(OS(=O)(=O)O)cc2)nc1Cc1ccccc1\n",
      "O=C(O)C(=O)Cc1cccc(O)c1 O=C(O)C(=O)Cc1cccc(O)c1\n",
      "O=C(O)CC(=C[PH](=O)O)C(=O)O O=C(O)CC(=C[PH](=O)O)C(=O)O\n",
      "O=CC=CC=C(O)C(=O)O O=CC=CCC(=O)C(=O)O\n",
      "CC(C)(O)C=O CC(C)(O)C=O\n",
      "O=C(O)C(O)C(O)C(O)C(O)CO O=C(O)C(O)C(O)C(O)C(O)CO\n",
      "NC(=O)CCCCC(S)CCS NC(=O)CCCCC(S)CCS\n",
      "*C1=Nc2c(ncn2C2OC(CO)C(O)C2O)C(=*)N1 *C1=NC(=*)c2ncn(C3OC(CO)C(O)C3O)c2N1\n"
     ]
    }
   ],
   "source": [
    "for smi, san, san_alt in zip(smiles, san_smiles, san_smiles_alt):\n",
    "    print(san, san_alt)"
   ]
  },
  {
   "cell_type": "code",
   "execution_count": 27,
   "metadata": {},
   "outputs": [
    {
     "data": {
      "text/plain": [
       "12272"
      ]
     },
     "execution_count": 27,
     "metadata": {},
     "output_type": "execute_result"
    }
   ],
   "source": [
    "len(smiles)"
   ]
  }
 ],
 "metadata": {
  "kernelspec": {
   "display_name": "mine",
   "language": "python",
   "name": "python3"
  },
  "language_info": {
   "codemirror_mode": {
    "name": "ipython",
    "version": 3
   },
   "file_extension": ".py",
   "mimetype": "text/x-python",
   "name": "python",
   "nbconvert_exporter": "python",
   "pygments_lexer": "ipython3",
   "version": "3.7.12"
  }
 },
 "nbformat": 4,
 "nbformat_minor": 2
}
