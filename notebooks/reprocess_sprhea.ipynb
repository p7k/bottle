{
 "cells": [
  {
   "cell_type": "code",
   "execution_count": 102,
   "metadata": {},
   "outputs": [
    {
     "name": "stdout",
     "output_type": "stream",
     "text": [
      "The autoreload extension is already loaded. To reload it, use:\n",
      "  %reload_ext autoreload\n"
     ]
    }
   ],
   "source": [
    "%load_ext autoreload\n",
    "%autoreload 2\n",
    "\n",
    "from src.utils import load_json, save_json\n",
    "import pandas as pd\n",
    "import re\n",
    "from itertools import chain\n",
    "from collections import defaultdict\n",
    "import rdkit\n",
    "from rdkit import Chem\n",
    "from rdkit.Chem import AllChem\n"
   ]
  },
  {
   "cell_type": "markdown",
   "metadata": {},
   "source": [
    "# Update 24310 up pull with ec numbers"
   ]
  },
  {
   "cell_type": "code",
   "execution_count": 44,
   "metadata": {},
   "outputs": [],
   "source": [
    "# Add ECs back \n",
    "\n",
    "old = pd.read_csv(\n",
    "    '/home/stef/bottle/data/sprhea/uniprotkb_reviewed_true_AND_proteins_wi_2024_02_29.tsv',\n",
    "    sep='\\t'\n",
    ")\n",
    "\n",
    "old.set_index('Entry', inplace=True)\n",
    "\n",
    "new = pd.read_csv(\n",
    "    '/home/stef/bottle/data/sprhea/uniprotkb_reviewed_true_AND_proteins_wi_2024_07_29.tsv',\n",
    "    sep='\\t'\n",
    ")\n",
    "\n",
    "new.set_index('Entry', inplace=True)"
   ]
  },
  {
   "cell_type": "code",
   "execution_count": 45,
   "metadata": {},
   "outputs": [
    {
     "data": {
      "text/html": [
       "<div>\n",
       "<style scoped>\n",
       "    .dataframe tbody tr th:only-of-type {\n",
       "        vertical-align: middle;\n",
       "    }\n",
       "\n",
       "    .dataframe tbody tr th {\n",
       "        vertical-align: top;\n",
       "    }\n",
       "\n",
       "    .dataframe thead th {\n",
       "        text-align: right;\n",
       "    }\n",
       "</style>\n",
       "<table border=\"1\" class=\"dataframe\">\n",
       "  <thead>\n",
       "    <tr style=\"text-align: right;\">\n",
       "      <th></th>\n",
       "      <th>EC number</th>\n",
       "    </tr>\n",
       "    <tr>\n",
       "      <th>Entry</th>\n",
       "      <th></th>\n",
       "    </tr>\n",
       "  </thead>\n",
       "  <tbody>\n",
       "    <tr>\n",
       "      <th>A0A009IHW8</th>\n",
       "      <td>3.2.2.-; 3.2.2.6</td>\n",
       "    </tr>\n",
       "    <tr>\n",
       "      <th>A0A023I7E1</th>\n",
       "      <td>3.2.1.39</td>\n",
       "    </tr>\n",
       "    <tr>\n",
       "      <th>A0A024B7W1</th>\n",
       "      <td>2.1.1.56; 2.1.1.57; 2.7.7.48; 3.4.21.91; 3.6.1...</td>\n",
       "    </tr>\n",
       "    <tr>\n",
       "      <th>A0A024SC78</th>\n",
       "      <td>3.1.1.74</td>\n",
       "    </tr>\n",
       "    <tr>\n",
       "      <th>A0A024SH76</th>\n",
       "      <td>3.2.1.91</td>\n",
       "    </tr>\n",
       "  </tbody>\n",
       "</table>\n",
       "</div>"
      ],
      "text/plain": [
       "                                                    EC number\n",
       "Entry                                                        \n",
       "A0A009IHW8                                   3.2.2.-; 3.2.2.6\n",
       "A0A023I7E1                                           3.2.1.39\n",
       "A0A024B7W1  2.1.1.56; 2.1.1.57; 2.7.7.48; 3.4.21.91; 3.6.1...\n",
       "A0A024SC78                                           3.1.1.74\n",
       "A0A024SH76                                           3.2.1.91"
      ]
     },
     "execution_count": 45,
     "metadata": {},
     "output_type": "execute_result"
    }
   ],
   "source": [
    "new.head()"
   ]
  },
  {
   "cell_type": "code",
   "execution_count": 46,
   "metadata": {},
   "outputs": [
    {
     "data": {
      "text/html": [
       "<div>\n",
       "<style scoped>\n",
       "    .dataframe tbody tr th:only-of-type {\n",
       "        vertical-align: middle;\n",
       "    }\n",
       "\n",
       "    .dataframe tbody tr th {\n",
       "        vertical-align: top;\n",
       "    }\n",
       "\n",
       "    .dataframe thead th {\n",
       "        text-align: right;\n",
       "    }\n",
       "</style>\n",
       "<table border=\"1\" class=\"dataframe\">\n",
       "  <thead>\n",
       "    <tr style=\"text-align: right;\">\n",
       "      <th></th>\n",
       "      <th>Reviewed</th>\n",
       "      <th>Protein names</th>\n",
       "      <th>Organism</th>\n",
       "      <th>Protein existence</th>\n",
       "      <th>Sequence</th>\n",
       "      <th>Catalytic activity</th>\n",
       "      <th>EC number</th>\n",
       "    </tr>\n",
       "    <tr>\n",
       "      <th>Entry</th>\n",
       "      <th></th>\n",
       "      <th></th>\n",
       "      <th></th>\n",
       "      <th></th>\n",
       "      <th></th>\n",
       "      <th></th>\n",
       "      <th></th>\n",
       "    </tr>\n",
       "  </thead>\n",
       "  <tbody>\n",
       "    <tr>\n",
       "      <th>A0A009IHW8</th>\n",
       "      <td>reviewed</td>\n",
       "      <td>2' cyclic ADP-D-ribose synthase AbTIR (2'cADPR...</td>\n",
       "      <td>Acinetobacter baumannii (strain 1295743)</td>\n",
       "      <td>Evidence at protein level</td>\n",
       "      <td>MSLEQKKGADIISKILQIQNSIGKTTSPSTLKTKLSEISRKEQENA...</td>\n",
       "      <td>CATALYTIC ACTIVITY: Reaction=NAD(+) = 2'cADPR ...</td>\n",
       "      <td>3.2.2.-; 3.2.2.6</td>\n",
       "    </tr>\n",
       "    <tr>\n",
       "      <th>A0A023I7E1</th>\n",
       "      <td>reviewed</td>\n",
       "      <td>Glucan endo-1,3-beta-D-glucosidase 1 (Endo-1,3...</td>\n",
       "      <td>Rhizomucor miehei</td>\n",
       "      <td>Evidence at protein level</td>\n",
       "      <td>MRFQVIVAAATITMITSYIPGVASQSTSDGDDLFVPVSNFDPKSIF...</td>\n",
       "      <td>CATALYTIC ACTIVITY: Reaction=Hydrolysis of (1-...</td>\n",
       "      <td>3.2.1.39</td>\n",
       "    </tr>\n",
       "    <tr>\n",
       "      <th>A0A024B7W1</th>\n",
       "      <td>reviewed</td>\n",
       "      <td>Genome polyprotein [Cleaved into: Capsid prote...</td>\n",
       "      <td>Zika virus (isolate ZIKV/Human/French Polynesi...</td>\n",
       "      <td>Evidence at protein level</td>\n",
       "      <td>MKNPKKKSGGFRIVNMLKRGVARVSPFGGLKRLPAGLLLGHGPIRM...</td>\n",
       "      <td>CATALYTIC ACTIVITY: [RNA-directed RNA polymera...</td>\n",
       "      <td>2.1.1.56; 2.1.1.57; 2.7.7.48; 3.4.21.91; 3.6.1...</td>\n",
       "    </tr>\n",
       "    <tr>\n",
       "      <th>A0A024SC78</th>\n",
       "      <td>reviewed</td>\n",
       "      <td>Cutinase (EC 3.1.1.74)</td>\n",
       "      <td>Hypocrea jecorina (strain ATCC 56765 / BCRC 32...</td>\n",
       "      <td>Evidence at protein level</td>\n",
       "      <td>MRSLAILTTLLAGHAFAYPKPAPQSVNRRDWPSINEFLSELAKVMP...</td>\n",
       "      <td>CATALYTIC ACTIVITY: Reaction=cutin + H2O = cut...</td>\n",
       "      <td>3.1.1.74</td>\n",
       "    </tr>\n",
       "    <tr>\n",
       "      <th>A0A024SH76</th>\n",
       "      <td>reviewed</td>\n",
       "      <td>Exoglucanase 2 (EC 3.2.1.91) (1,4-beta-cellobi...</td>\n",
       "      <td>Hypocrea jecorina (strain ATCC 56765 / BCRC 32...</td>\n",
       "      <td>Evidence at protein level</td>\n",
       "      <td>MIVGILTTLATLATLAASVPLEERQACSSVWGQCGGQNWSGPTCCA...</td>\n",
       "      <td>CATALYTIC ACTIVITY: Reaction=Hydrolysis of (1-...</td>\n",
       "      <td>3.2.1.91</td>\n",
       "    </tr>\n",
       "  </tbody>\n",
       "</table>\n",
       "</div>"
      ],
      "text/plain": [
       "            Reviewed                                      Protein names  \\\n",
       "Entry                                                                     \n",
       "A0A009IHW8  reviewed  2' cyclic ADP-D-ribose synthase AbTIR (2'cADPR...   \n",
       "A0A023I7E1  reviewed  Glucan endo-1,3-beta-D-glucosidase 1 (Endo-1,3...   \n",
       "A0A024B7W1  reviewed  Genome polyprotein [Cleaved into: Capsid prote...   \n",
       "A0A024SC78  reviewed                             Cutinase (EC 3.1.1.74)   \n",
       "A0A024SH76  reviewed  Exoglucanase 2 (EC 3.2.1.91) (1,4-beta-cellobi...   \n",
       "\n",
       "                                                     Organism  \\\n",
       "Entry                                                           \n",
       "A0A009IHW8           Acinetobacter baumannii (strain 1295743)   \n",
       "A0A023I7E1                                  Rhizomucor miehei   \n",
       "A0A024B7W1  Zika virus (isolate ZIKV/Human/French Polynesi...   \n",
       "A0A024SC78  Hypocrea jecorina (strain ATCC 56765 / BCRC 32...   \n",
       "A0A024SH76  Hypocrea jecorina (strain ATCC 56765 / BCRC 32...   \n",
       "\n",
       "                    Protein existence  \\\n",
       "Entry                                   \n",
       "A0A009IHW8  Evidence at protein level   \n",
       "A0A023I7E1  Evidence at protein level   \n",
       "A0A024B7W1  Evidence at protein level   \n",
       "A0A024SC78  Evidence at protein level   \n",
       "A0A024SH76  Evidence at protein level   \n",
       "\n",
       "                                                     Sequence  \\\n",
       "Entry                                                           \n",
       "A0A009IHW8  MSLEQKKGADIISKILQIQNSIGKTTSPSTLKTKLSEISRKEQENA...   \n",
       "A0A023I7E1  MRFQVIVAAATITMITSYIPGVASQSTSDGDDLFVPVSNFDPKSIF...   \n",
       "A0A024B7W1  MKNPKKKSGGFRIVNMLKRGVARVSPFGGLKRLPAGLLLGHGPIRM...   \n",
       "A0A024SC78  MRSLAILTTLLAGHAFAYPKPAPQSVNRRDWPSINEFLSELAKVMP...   \n",
       "A0A024SH76  MIVGILTTLATLATLAASVPLEERQACSSVWGQCGGQNWSGPTCCA...   \n",
       "\n",
       "                                           Catalytic activity  \\\n",
       "Entry                                                           \n",
       "A0A009IHW8  CATALYTIC ACTIVITY: Reaction=NAD(+) = 2'cADPR ...   \n",
       "A0A023I7E1  CATALYTIC ACTIVITY: Reaction=Hydrolysis of (1-...   \n",
       "A0A024B7W1  CATALYTIC ACTIVITY: [RNA-directed RNA polymera...   \n",
       "A0A024SC78  CATALYTIC ACTIVITY: Reaction=cutin + H2O = cut...   \n",
       "A0A024SH76  CATALYTIC ACTIVITY: Reaction=Hydrolysis of (1-...   \n",
       "\n",
       "                                                    EC number  \n",
       "Entry                                                          \n",
       "A0A009IHW8                                   3.2.2.-; 3.2.2.6  \n",
       "A0A023I7E1                                           3.2.1.39  \n",
       "A0A024B7W1  2.1.1.56; 2.1.1.57; 2.7.7.48; 3.4.21.91; 3.6.1...  \n",
       "A0A024SC78                                           3.1.1.74  \n",
       "A0A024SH76                                           3.2.1.91  "
      ]
     },
     "execution_count": 46,
     "metadata": {},
     "output_type": "execute_result"
    }
   ],
   "source": [
    "old.head()"
   ]
  },
  {
   "cell_type": "code",
   "execution_count": 47,
   "metadata": {},
   "outputs": [
    {
     "data": {
      "text/html": [
       "<div>\n",
       "<style scoped>\n",
       "    .dataframe tbody tr th:only-of-type {\n",
       "        vertical-align: middle;\n",
       "    }\n",
       "\n",
       "    .dataframe tbody tr th {\n",
       "        vertical-align: top;\n",
       "    }\n",
       "\n",
       "    .dataframe thead th {\n",
       "        text-align: right;\n",
       "    }\n",
       "</style>\n",
       "<table border=\"1\" class=\"dataframe\">\n",
       "  <thead>\n",
       "    <tr style=\"text-align: right;\">\n",
       "      <th></th>\n",
       "      <th>Reviewed</th>\n",
       "      <th>Protein names</th>\n",
       "      <th>Organism</th>\n",
       "      <th>Protein existence</th>\n",
       "      <th>Sequence</th>\n",
       "      <th>Catalytic activity</th>\n",
       "      <th>EC number</th>\n",
       "    </tr>\n",
       "    <tr>\n",
       "      <th>Entry</th>\n",
       "      <th></th>\n",
       "      <th></th>\n",
       "      <th></th>\n",
       "      <th></th>\n",
       "      <th></th>\n",
       "      <th></th>\n",
       "      <th></th>\n",
       "    </tr>\n",
       "  </thead>\n",
       "  <tbody>\n",
       "    <tr>\n",
       "      <th>A0A009IHW8</th>\n",
       "      <td>reviewed</td>\n",
       "      <td>2' cyclic ADP-D-ribose synthase AbTIR (2'cADPR...</td>\n",
       "      <td>Acinetobacter baumannii (strain 1295743)</td>\n",
       "      <td>Evidence at protein level</td>\n",
       "      <td>MSLEQKKGADIISKILQIQNSIGKTTSPSTLKTKLSEISRKEQENA...</td>\n",
       "      <td>CATALYTIC ACTIVITY: Reaction=NAD(+) = 2'cADPR ...</td>\n",
       "      <td>3.2.2.-; 3.2.2.6</td>\n",
       "    </tr>\n",
       "    <tr>\n",
       "      <th>A0A023I7E1</th>\n",
       "      <td>reviewed</td>\n",
       "      <td>Glucan endo-1,3-beta-D-glucosidase 1 (Endo-1,3...</td>\n",
       "      <td>Rhizomucor miehei</td>\n",
       "      <td>Evidence at protein level</td>\n",
       "      <td>MRFQVIVAAATITMITSYIPGVASQSTSDGDDLFVPVSNFDPKSIF...</td>\n",
       "      <td>CATALYTIC ACTIVITY: Reaction=Hydrolysis of (1-...</td>\n",
       "      <td>3.2.1.39</td>\n",
       "    </tr>\n",
       "    <tr>\n",
       "      <th>A0A024B7W1</th>\n",
       "      <td>reviewed</td>\n",
       "      <td>Genome polyprotein [Cleaved into: Capsid prote...</td>\n",
       "      <td>Zika virus (isolate ZIKV/Human/French Polynesi...</td>\n",
       "      <td>Evidence at protein level</td>\n",
       "      <td>MKNPKKKSGGFRIVNMLKRGVARVSPFGGLKRLPAGLLLGHGPIRM...</td>\n",
       "      <td>CATALYTIC ACTIVITY: [RNA-directed RNA polymera...</td>\n",
       "      <td>2.1.1.56; 2.1.1.57; 2.7.7.48; 3.4.21.91; 3.6.1...</td>\n",
       "    </tr>\n",
       "    <tr>\n",
       "      <th>A0A024SC78</th>\n",
       "      <td>reviewed</td>\n",
       "      <td>Cutinase (EC 3.1.1.74)</td>\n",
       "      <td>Hypocrea jecorina (strain ATCC 56765 / BCRC 32...</td>\n",
       "      <td>Evidence at protein level</td>\n",
       "      <td>MRSLAILTTLLAGHAFAYPKPAPQSVNRRDWPSINEFLSELAKVMP...</td>\n",
       "      <td>CATALYTIC ACTIVITY: Reaction=cutin + H2O = cut...</td>\n",
       "      <td>3.1.1.74</td>\n",
       "    </tr>\n",
       "    <tr>\n",
       "      <th>A0A024SH76</th>\n",
       "      <td>reviewed</td>\n",
       "      <td>Exoglucanase 2 (EC 3.2.1.91) (1,4-beta-cellobi...</td>\n",
       "      <td>Hypocrea jecorina (strain ATCC 56765 / BCRC 32...</td>\n",
       "      <td>Evidence at protein level</td>\n",
       "      <td>MIVGILTTLATLATLAASVPLEERQACSSVWGQCGGQNWSGPTCCA...</td>\n",
       "      <td>CATALYTIC ACTIVITY: Reaction=Hydrolysis of (1-...</td>\n",
       "      <td>3.2.1.91</td>\n",
       "    </tr>\n",
       "  </tbody>\n",
       "</table>\n",
       "</div>"
      ],
      "text/plain": [
       "            Reviewed                                      Protein names  \\\n",
       "Entry                                                                     \n",
       "A0A009IHW8  reviewed  2' cyclic ADP-D-ribose synthase AbTIR (2'cADPR...   \n",
       "A0A023I7E1  reviewed  Glucan endo-1,3-beta-D-glucosidase 1 (Endo-1,3...   \n",
       "A0A024B7W1  reviewed  Genome polyprotein [Cleaved into: Capsid prote...   \n",
       "A0A024SC78  reviewed                             Cutinase (EC 3.1.1.74)   \n",
       "A0A024SH76  reviewed  Exoglucanase 2 (EC 3.2.1.91) (1,4-beta-cellobi...   \n",
       "\n",
       "                                                     Organism  \\\n",
       "Entry                                                           \n",
       "A0A009IHW8           Acinetobacter baumannii (strain 1295743)   \n",
       "A0A023I7E1                                  Rhizomucor miehei   \n",
       "A0A024B7W1  Zika virus (isolate ZIKV/Human/French Polynesi...   \n",
       "A0A024SC78  Hypocrea jecorina (strain ATCC 56765 / BCRC 32...   \n",
       "A0A024SH76  Hypocrea jecorina (strain ATCC 56765 / BCRC 32...   \n",
       "\n",
       "                    Protein existence  \\\n",
       "Entry                                   \n",
       "A0A009IHW8  Evidence at protein level   \n",
       "A0A023I7E1  Evidence at protein level   \n",
       "A0A024B7W1  Evidence at protein level   \n",
       "A0A024SC78  Evidence at protein level   \n",
       "A0A024SH76  Evidence at protein level   \n",
       "\n",
       "                                                     Sequence  \\\n",
       "Entry                                                           \n",
       "A0A009IHW8  MSLEQKKGADIISKILQIQNSIGKTTSPSTLKTKLSEISRKEQENA...   \n",
       "A0A023I7E1  MRFQVIVAAATITMITSYIPGVASQSTSDGDDLFVPVSNFDPKSIF...   \n",
       "A0A024B7W1  MKNPKKKSGGFRIVNMLKRGVARVSPFGGLKRLPAGLLLGHGPIRM...   \n",
       "A0A024SC78  MRSLAILTTLLAGHAFAYPKPAPQSVNRRDWPSINEFLSELAKVMP...   \n",
       "A0A024SH76  MIVGILTTLATLATLAASVPLEERQACSSVWGQCGGQNWSGPTCCA...   \n",
       "\n",
       "                                           Catalytic activity  \\\n",
       "Entry                                                           \n",
       "A0A009IHW8  CATALYTIC ACTIVITY: Reaction=NAD(+) = 2'cADPR ...   \n",
       "A0A023I7E1  CATALYTIC ACTIVITY: Reaction=Hydrolysis of (1-...   \n",
       "A0A024B7W1  CATALYTIC ACTIVITY: [RNA-directed RNA polymera...   \n",
       "A0A024SC78  CATALYTIC ACTIVITY: Reaction=cutin + H2O = cut...   \n",
       "A0A024SH76  CATALYTIC ACTIVITY: Reaction=Hydrolysis of (1-...   \n",
       "\n",
       "                                                    EC number  \n",
       "Entry                                                          \n",
       "A0A009IHW8                                   3.2.2.-; 3.2.2.6  \n",
       "A0A023I7E1                                           3.2.1.39  \n",
       "A0A024B7W1  2.1.1.56; 2.1.1.57; 2.7.7.48; 3.4.21.91; 3.6.1...  \n",
       "A0A024SC78                                           3.1.1.74  \n",
       "A0A024SH76                                           3.2.1.91  "
      ]
     },
     "execution_count": 47,
     "metadata": {},
     "output_type": "execute_result"
    }
   ],
   "source": [
    "select = [elt for elt in old.index if elt in new.index]\n",
    "old.loc[select, \"EC number\"] = new.loc[select, 'EC number']\n",
    "old.head()"
   ]
  },
  {
   "cell_type": "code",
   "execution_count": 34,
   "metadata": {},
   "outputs": [],
   "source": [
    "# old.to_csv(\n",
    "#     '/home/stef/bottle/data/sprhea/uniprotkb_reviewed_true_AND_proteins_wi_2024_02_29.tsv',\n",
    "#     sep='\\t'\n",
    "# )"
   ]
  },
  {
   "cell_type": "code",
   "execution_count": 37,
   "metadata": {},
   "outputs": [
    {
     "data": {
      "text/plain": [
       "(254291, 254456)"
      ]
     },
     "execution_count": 37,
     "metadata": {},
     "output_type": "execute_result"
    }
   ],
   "source": [
    "len(select), len(old)"
   ]
  },
  {
   "cell_type": "markdown",
   "metadata": {},
   "source": [
    "# Get list of rhea ids w/ smarts from combo of UP pull and Rhea flat files"
   ]
  },
  {
   "cell_type": "code",
   "execution_count": 64,
   "metadata": {},
   "outputs": [
    {
     "name": "stderr",
     "output_type": "stream",
     "text": [
      "/home/stef/miniconda3/envs/mine/lib/python3.7/site-packages/IPython/core/interactiveshell.py:3552: FutureWarning: In a future version of pandas all arguments of read_csv except for the argument 'filepath_or_buffer' will be keyword-only\n",
      "  exec(code_obj, self.user_global_ns, self.user_ns)\n"
     ]
    }
   ],
   "source": [
    "# Rhea flat files and UP pull\n",
    "\n",
    "rhea_directions = pd.read_csv('/home/stef/bottle/data/sprhea/rhea-directions.tsv', '\\t')\n",
    "rhea_smarts = pd.read_csv('/home/stef/bottle/data/sprhea/rhea-reaction-smiles.tsv', '\\t', header=None)\n",
    "rhea_smarts.columns = [\"rhea_id\", \"smarts\"]\n",
    "rhea_smarts.set_index('rhea_id', inplace=True)\n",
    "rhea_uniprot = pd.read_csv('/home/stef/bottle/data/sprhea/rhea2uniprot_sprot.tsv', sep='\\t')\n",
    "up_pull = pd.read_csv('/home/stef/bottle/data/sprhea/uniprotkb_reviewed_true_AND_proteins_wi_2024_02_29.tsv', sep='\\t')\n",
    "up_pull.set_index(\"Entry\", inplace=True)"
   ]
  },
  {
   "cell_type": "code",
   "execution_count": 65,
   "metadata": {},
   "outputs": [
    {
     "data": {
      "text/plain": [
       "set()"
      ]
     },
     "execution_count": 65,
     "metadata": {},
     "output_type": "execute_result"
    }
   ],
   "source": [
    "# Rhea IDs w smarts are a subset of all ids in rhea-directions\n",
    "\n",
    "rhea_all = set()\n",
    "for col in rhea_directions.columns:\n",
    "    rhea_all = rhea_all | set(rhea_directions.loc[:, col])\n",
    "w_smarts = set(rhea_smarts.index.values)\n",
    "w_smarts - rhea_all"
   ]
  },
  {
   "cell_type": "code",
   "execution_count": 66,
   "metadata": {},
   "outputs": [
    {
     "name": "stdout",
     "output_type": "stream",
     "text": [
      "{0, 2}\n",
      "Index(['RHEA_ID_MASTER', 'RHEA_ID_LR', 'RHEA_ID_RL', 'RHEA_ID_BI'], dtype='object')\n",
      "{'0000', '0110'}\n"
     ]
    }
   ],
   "source": [
    "# Only rhea IDs in LR & RL columns of rhea directions have a smarts entry, and if there is one there are both!\n",
    "\n",
    "codes = []\n",
    "counts = []\n",
    "for i, row in rhea_directions.iterrows():\n",
    "    ct = 0\n",
    "    code = ''\n",
    "    for id in row:\n",
    "        if id in w_smarts:\n",
    "            ct += 1\n",
    "            code += '1'\n",
    "        else:\n",
    "            code += '0'\n",
    "    counts.append(ct)\n",
    "    codes.append(code)\n",
    "\n",
    "print(set(counts))\n",
    "print(rhea_directions.columns)\n",
    "print(set(codes))"
   ]
  },
  {
   "cell_type": "code",
   "execution_count": 67,
   "metadata": {},
   "outputs": [],
   "source": [
    "# Create look up of (LR, RL) rhea ids from not LR, RL\n",
    "\n",
    "lookup_directed_ids = {}\n",
    "\n",
    "for i, row in rhea_directions.iterrows():\n",
    "    lookup_directed_ids[row['RHEA_ID_MASTER']] = (row['RHEA_ID_LR'], row['RHEA_ID_RL'])\n",
    "    lookup_directed_ids[row['RHEA_ID_BI']] = (row['RHEA_ID_LR'], row['RHEA_ID_RL'])"
   ]
  },
  {
   "cell_type": "code",
   "execution_count": 68,
   "metadata": {},
   "outputs": [],
   "source": [
    "# Get rhea ids UniProt pull\n",
    "\n",
    "rhea_up_pairs_pull= set()\n",
    "pattern = r'RHEA:(\\d{1,6})' # Regular expression pattern\n",
    "no_matches = []\n",
    "\n",
    "for entry, row in up_pull.iterrows():\n",
    "    cat_act = row[\"Catalytic activity\"]\n",
    "    if pd.isna(cat_act):\n",
    "        no_matches.append(entry)\n",
    "    else:\n",
    "        matches = re.findall(pattern, cat_act)\n",
    "\n",
    "        for match in matches:\n",
    "            rhea_up_pairs_pull.add((int(match), entry))\n",
    "\n",
    "        if len(matches) == 0:\n",
    "            no_matches.append(entry)"
   ]
  },
  {
   "cell_type": "code",
   "execution_count": 69,
   "metadata": {},
   "outputs": [],
   "source": [
    "# Pull rhea-up pairs from rhea's tsv\n",
    "\n",
    "rhea_up_pairs_flat = set()\n",
    "for i, row in rhea_uniprot.iterrows():\n",
    "    rhea_up_pairs_flat.add((row['RHEA_ID'], row['ID']))"
   ]
  },
  {
   "cell_type": "code",
   "execution_count": 70,
   "metadata": {},
   "outputs": [
    {
     "data": {
      "text/plain": [
       "0.006352646521386967"
      ]
     },
     "execution_count": 70,
     "metadata": {},
     "output_type": "execute_result"
    }
   ],
   "source": [
    "# Difference between uppull and rhea pairs is small\n",
    "len(rhea_up_pairs_flat ^ rhea_up_pairs_pull) / len(rhea_up_pairs_flat | rhea_up_pairs_pull)"
   ]
  },
  {
   "cell_type": "code",
   "execution_count": 71,
   "metadata": {},
   "outputs": [],
   "source": [
    "# Filter by smarts avail\n",
    "\n",
    "def filter_pairs_by_smarts(pair):\n",
    "    r = pair[0]\n",
    "    if r in w_smarts:\n",
    "        return True\n",
    "    elif r in lookup_directed_ids:\n",
    "        if lookup_directed_ids[r][0] in w_smarts or lookup_directed_ids[r][1] in w_smarts:\n",
    "            return True\n",
    "        else:\n",
    "            return False\n",
    "    else:\n",
    "        return False\n",
    "\n",
    "rhea_up_pairs_pull_w_smarts = set(filter(filter_pairs_by_smarts, list(rhea_up_pairs_pull)))\n",
    "rhea_up_pairs_flat_w_smarts = set(filter(filter_pairs_by_smarts, list(rhea_up_pairs_flat)))"
   ]
  },
  {
   "cell_type": "code",
   "execution_count": 72,
   "metadata": {},
   "outputs": [
    {
     "data": {
      "text/plain": [
       "0.005960904846727906"
      ]
     },
     "execution_count": 72,
     "metadata": {},
     "output_type": "execute_result"
    }
   ],
   "source": [
    "# After filtering by avail of smarts, the difference in rhea-upid pairs\n",
    "# gotten by the two methods is even smaller\n",
    "\n",
    "len(rhea_up_pairs_pull_w_smarts ^ rhea_up_pairs_flat_w_smarts) / len(rhea_up_pairs_flat_w_smarts | rhea_up_pairs_pull_w_smarts)"
   ]
  },
  {
   "cell_type": "code",
   "execution_count": 73,
   "metadata": {},
   "outputs": [],
   "source": [
    "# Translate rhea ids into LR or RL ids since these are the only ones with smarts\n",
    "\n",
    "pairs_w_smarts = rhea_up_pairs_pull_w_smarts | rhea_up_pairs_flat_w_smarts\n",
    "translated_pairs_w_smarts = set()\n",
    "for r, p in pairs_w_smarts:\n",
    "    if r in w_smarts: # Was already in LR / RL\n",
    "        translated_pairs_w_smarts.add((r, p))\n",
    "    elif r not in lookup_directed_ids: # Was not and can't find LR/RL in lookup\n",
    "        continue\n",
    "    else: # Was not but found in lookup\n",
    "        if lookup_directed_ids[r][0] in w_smarts: # Found LR in w smarts\n",
    "            translated_pairs_w_smarts.add((lookup_directed_ids[r][0], p))\n",
    "        if lookup_directed_ids[r][1] in w_smarts: # Found RL in w smarts\n",
    "            translated_pairs_w_smarts.add((lookup_directed_ids[r][1], p))\n"
   ]
  },
  {
   "cell_type": "code",
   "execution_count": 79,
   "metadata": {},
   "outputs": [],
   "source": [
    "_, old_way_upids = list(zip(*rhea_up_pairs_pull_w_smarts))\n",
    "old_way_upids = set(old_way_upids)\n",
    "_, new_way_upids = list(zip(*translated_pairs_w_smarts))\n",
    "new_way_upids = set(new_way_upids)"
   ]
  },
  {
   "cell_type": "code",
   "execution_count": 80,
   "metadata": {},
   "outputs": [
    {
     "name": "stdout",
     "output_type": "stream",
     "text": [
      "514\n"
     ]
    }
   ],
   "source": [
    "net_gain_upids = new_way_upids - old_way_upids\n",
    "print(len(net_gain_upids))"
   ]
  },
  {
   "cell_type": "code",
   "execution_count": 83,
   "metadata": {},
   "outputs": [
    {
     "name": "stdout",
     "output_type": "stream",
     "text": [
      "24044\n"
     ]
    }
   ],
   "source": [
    "# Save to scrape smi-name pairs from website\n",
    "\n",
    "rheas_to_get, _ = list(zip(*translated_pairs_w_smarts))\n",
    "rheas_to_get = list(set(rheas_to_get))\n",
    "\n",
    "with open(\"../data/sprhea/rheas_to_get_names.txt\", 'w') as f:\n",
    "    for elt in rheas_to_get:\n",
    "        f.write(f\"{elt}\\n\")\n",
    "\n",
    "print(len(rheas_to_get))"
   ]
  },
  {
   "cell_type": "code",
   "execution_count": 60,
   "metadata": {},
   "outputs": [
    {
     "data": {
      "text/plain": [
       "593046"
      ]
     },
     "execution_count": 60,
     "metadata": {},
     "output_type": "execute_result"
    }
   ],
   "source": [
    "len(translated_pairs_w_smarts)"
   ]
  },
  {
   "cell_type": "code",
   "execution_count": 84,
   "metadata": {},
   "outputs": [
    {
     "name": "stdout",
     "output_type": "stream",
     "text": [
      "24044\n"
     ]
    }
   ],
   "source": [
    "# Save all rhea-uniprot pairs from pull and flat file \n",
    "# that have smarts\n",
    "\n",
    "rhea2uniprot = defaultdict(set)\n",
    "for r,p in translated_pairs_w_smarts:\n",
    "    rhea2uniprot[int(r)].add(p)\n",
    "\n",
    "for k, v in rhea2uniprot.items():\n",
    "    rhea2uniprot[k] = list(v)\n",
    "\n",
    "print(len(rhea2uniprot))\n",
    "\n",
    "save_json(rhea2uniprot, \"../data/sprhea/rhea2uniprot_all.json\")"
   ]
  },
  {
   "cell_type": "code",
   "execution_count": 118,
   "metadata": {},
   "outputs": [
    {
     "name": "stdout",
     "output_type": "stream",
     "text": [
      "24044\n",
      "24028\n"
     ]
    }
   ],
   "source": [
    "# Found smi-name pairs for most reactions\n",
    "\n",
    "# rhea_smi_name = load_json('/home/stef/bottle/data/sprhea/rhea_smiles_names.json')\n",
    "# print(len(rhea_smi_name))\n",
    "\n",
    "# rhea2smi2name = defaultdict(lambda : defaultdict())\n",
    "# for rid, elt in rhea_smi_name.items():\n",
    "#     if elt is None:\n",
    "#         continue\n",
    "#     for side in ['left', 'right']:\n",
    "#         for pair in elt[side]:\n",
    "#             rhea2smi2name[rid][pair['smiles']] = pair['label']\n",
    "# print(len(rhea2smi2name))"
   ]
  },
  {
   "cell_type": "code",
   "execution_count": 58,
   "metadata": {},
   "outputs": [
    {
     "name": "stdout",
     "output_type": "stream",
     "text": [
      "12272\n"
     ]
    }
   ],
   "source": [
    "# Count number of smiles in rxn smarts\n",
    "\n",
    "smiles_from_smarts = set()\n",
    "for i,row in rhea_smarts.iterrows():\n",
    "    this_smiles = list(chain(*[elt.split('.') for elt in row['smarts'].split('>>')]))\n",
    "    for smi in this_smiles:\n",
    "        smiles_from_smarts.add(smi)\n",
    "\n",
    "smiles_from_smarts = list(smiles_from_smarts)\n",
    "print(len(smiles_from_smarts))"
   ]
  },
  {
   "cell_type": "markdown",
   "metadata": {},
   "source": [
    "# Spot check extracted rhea"
   ]
  },
  {
   "cell_type": "code",
   "execution_count": null,
   "metadata": {},
   "outputs": [],
   "source": [
    "krsv2 = load_json('/home/stef/bottle/data/mapping/known_rxns_swissprot_enzymes_240310_v2.json')\n",
    "len(krsv2)\n"
   ]
  },
  {
   "cell_type": "code",
   "execution_count": 101,
   "metadata": {},
   "outputs": [
    {
     "data": {
      "text/plain": [
       "19602"
      ]
     },
     "execution_count": 101,
     "metadata": {},
     "output_type": "execute_result"
    }
   ],
   "source": [
    "# Similar amount of reactions to v2\n",
    "\n",
    "krsv3 = load_json('/home/stef/bottle/data/sprhea/sprhea_240310_v3.json')\n",
    "krsv3 = {int(k) : v for k,v in krsv3.items()}\n",
    "len(krsv3)"
   ]
  },
  {
   "cell_type": "code",
   "execution_count": 42,
   "metadata": {},
   "outputs": [],
   "source": [
    "rxnid = -1"
   ]
  },
  {
   "cell_type": "code",
   "execution_count": 60,
   "metadata": {},
   "outputs": [
    {
     "name": "stdout",
     "output_type": "stream",
     "text": [
      "15\n"
     ]
    },
    {
     "data": {
      "text/plain": [
       "{'smarts': '*C(=O)OCC(COC1OC(CO)C(O)C(O)C1O)OC(*)=O.O=c1ccn(C2OC(COP(=O)(O)OP(=O)(O)O)C(O)C2O)c(=O)[nH]1>>*C(=O)OCC(CO)OC(*)=O.O=c1ccn(C2OC(COP(=O)(O)OP(=O)(O)OC3OC(CO)C(O)C(O)C3O)C(O)C2O)c(=O)[nH]1',\n",
       " 'min_rule': None,\n",
       " 'imt_rules': None,\n",
       " 'smi2name': {'*C(=O)OCC(COC1OC(CO)C(O)C(O)C1O)OC(*)=O': 'a 1,2-diacyl-3-O-(beta-D-glucopyranosyl)-sn-glycerol;a 1,2-diacyl-3-O-(beta-D-galactosyl)-sn-glycerol;a 1,2-diacyl-3-O-(alpha-D-glucopyranosyl)-sn-glycerol',\n",
       "  'O=c1ccn(C2OC(COP(=O)(O)OP(=O)(O)O)C(O)C2O)c(=O)[nH]1': 'UDP',\n",
       "  '*C(=O)OCC(CO)OC(*)=O': 'a 1,2-diacyl-sn-glycerol',\n",
       "  'O=c1ccn(C2OC(COP(=O)(O)OP(=O)(O)OC3OC(CO)C(O)C(O)C3O)C(O)C2O)c(=O)[nH]1': 'UDP-alpha-D-glucose;UDP-alpha-D-galactose'},\n",
       " 'enzymes': [{'uniprot_id': 'B7H9Q4',\n",
       "   'sequence': 'MIKNPKVLILTAHYGNGHVQVAKTLEQTFRQKGIEDVIVCDLFGESHPFITDITKYLYLKSYTIGKELYRLFYYGVEKIYDKKIASWYANFGRKRLKTLLQVEKPDIVINTFPIIAVPELKKQTGISIPVYNVLTDFCVHKIWIHREVDRYFVATDHVKELMVDIGVPAEQIVETGIPIRSSFELKVNPEIIYTKYQLCKNKKILLIVAGAHGVLGNVKELCQSFMSVPNLQIVVVCGKNEALKQDLLSLQKQNSDALKVFGYVENIDELFRVTSCMITKPGGITLSEAAALQVPVILYKPVPGQENENAMYFERKGAAVVIRDDSEVFAKTEALLQDDVKLLQMKEAMKSIYLPEPAGHIVDAILAENHAEPRHIPIKSPALAQSFT',\n",
       "   'existence': 'Inferred from homology',\n",
       "   'reviewed': 'reviewed',\n",
       "   'ec': '2.4.1.315',\n",
       "   'organism': 'Bacillus cereus (strain B4264)',\n",
       "   'name': 'Processive diacylglycerol beta-glucosyltransferase (EC 2.4.1.315) (Beta-diglucosyldiacylglycerol synthase) (Beta-DGS) (DGlcDAG synthase) (Glc2-DAG synthase) (Beta-gentiobiosyldiacylglycerol synthase) (Beta-monoglucosyldiacylglycerol synthase) (Beta-MGS) (MGlcDAG synthase) (Beta-triglucosyldiacylglycerol synthase) (TGlcDAG synthase) (Diglucosyl diacylglycerol synthase (1,6-linking)) (Glucosyl-beta-1,6-glucosyldiacylglycerol synthase) (UDP glucosyltransferase) (UDP-glucose:1,2-diacylglycerol-3-beta-D-glucosyltransferase)'},\n",
       "  {'uniprot_id': 'Q93P60',\n",
       "   'sequence': 'MRIGIFSEAYLPLISGVVTSVVNLKEGLEALGHEVYVITPIPSKDKFENDPSVIRIPGWVIPRKSLKGFRLVLFVKRYVRKMRKLKLDVVHIHTEFSMGKLGLAVAKKERIPSVYTLHTSYQDYTHYVSKLLTRFAPNAAKKLAGKINNQYTKNCHMTIVPTKKIYDKMIRLKHDGEFTIIPSGINLKPFYKSSYTSEQVQALKDKLGIRNDEFVAILVARIAKEKSIGDLVEAFVEFYKSYPNSRFIIIGDGPDKPVLDKLIDSKKASKYINTLGFVKNAEVGLYYQIADVFLNASTTETQGLTYVEALAASLPIIVRYDDVFDAFVEDGKNGIFFNKNEELVKHLIHIRQNPEILGTLSKNAEISTKPYAKEVYAKSCETLYLDLIDKNNKKLNKK',\n",
       "   'existence': 'Evidence at protein level',\n",
       "   'reviewed': 'reviewed',\n",
       "   'ec': '2.4.1.337',\n",
       "   'organism': 'Acholeplasma laidlawii',\n",
       "   'name': 'Alpha-monoglucosyldiacylglycerol synthase (Alpha-MGS) (MGlcDAG synthase) (EC 2.4.1.337) (1,2-Diacylglycerol 3-glucosyltransferase) (UDP-glucose:1,2-diacylglycerol 3-alpha-D-glucosyltransferase)'},\n",
       "  {'uniprot_id': 'Q6GI67',\n",
       "   'sequence': 'MVTQNKKILIITGSFGNGHMQVTQSIVNQLNDMNLDHLSVIEHDLFMEAHPILTSICKKWYINSFKYFRNMYKGFYYSRPDKLNKCFYKYYGLNKLINLLIKEKPDLILLTFPTPVMSVLTEQFNINIPVATVMTDYRLHKNWITPYSTRYYVATKETKQDFIDVGIDPSTVKVTGIPIDNKFETPINQKQWLIDNNLDPDKQTILMSAGAFGVSKGFDTMITDILAKSANAQVVMICGKSKELKRSLTAKFKSNENVLILGYTKHMNEWMASSQLMITKPGGITITEGFARCIPMIFLNPAPGQELENALYFEEKGFGKIADTPEEAIKIVASLTNGNEQLTNMISTMEQDKIKYATQTICQDLLDLIGHSSQPQEIYGKVPLYARFFVK',\n",
       "   'existence': 'Inferred from homology',\n",
       "   'reviewed': 'reviewed',\n",
       "   'ec': '2.4.1.315',\n",
       "   'organism': 'Staphylococcus aureus (strain MRSA252)',\n",
       "   'name': 'Processive diacylglycerol beta-glucosyltransferase (EC 2.4.1.315) (Beta-diglucosyldiacylglycerol synthase) (Beta-DGS) (DGlcDAG synthase) (Glc2-DAG synthase) (Beta-gentiobiosyldiacylglycerol synthase) (Beta-monoglucosyldiacylglycerol synthase) (Beta-MGS) (MGlcDAG synthase) (Diglucosyl diacylglycerol synthase (1,6-linking)) (Glucosyl-beta-1,6-glucosyldiacylglycerol synthase) (UDP glucosyltransferase) (UDP-glucose:1,2-diacylglycerol-3-beta-D-glucosyltransferase)'},\n",
       "  {'uniprot_id': 'P93115',\n",
       "   'sequence': 'MRNPSTVVQENGSVSDFISQLGYFAFSSRFLNLNSEGCSGSSSHSLYLNGFENYRCVKRPPRSGASLSLSSRGSSSLRRFVNEFNNVIKFHCHKPPLGFASLGGVSDETNGIRDDGFGVSQDGALPLNKIEAENPKRVLILMSDTGGGHRASAEAIKAAFNEEFGNNYQVFITDLWTDHTPWPFNQLPRSYNFLVKHGTLWKMTYYVTAPKVIHQSNFAATSTFIAREVAKGLMKYRPDIIISVHPLMQHVPIRILRSKGLLNKIVFTTVVTDLSTCHPTWFHKLVTRCYCPSTEVAKRALTAGLQPSKLKVFGLPVRPSFVKPIRPKIELRKELGMDENLPAVLLMGGGEGMGPIEATAKALSKALYDENHGEPIGQVLVICGHNKKLAGRLRSIDWKVPVQVKGFVTKMEECMGACDCIITKAGPGTIAEAMIRGLPIILNDYIAGQEAGNVPYVVENGCGKFSKSPKEIANIVAKWFGPKADELLIMSQNALRLARPDAVFKIVHDLHELVKQRSFVPQYSG',\n",
       "   'existence': 'Evidence at protein level',\n",
       "   'reviewed': 'reviewed',\n",
       "   'ec': '2.4.1.46',\n",
       "   'organism': 'Cucumis sativus (Cucumber)',\n",
       "   'name': 'Monogalactosyldiacylglycerol synthase, chloroplastic (CsMGD1) (EC 2.4.1.46)'},\n",
       "  {'uniprot_id': 'A0R9F0',\n",
       "   'sequence': 'MIKNPKVLILTAHYGNGHVQVAKTLEQTFRQKGIKDVIVCDLFGESHPVITDITKYLYLKSYTIGKELYRLFYYGVEKIYDKKIASWYANFGRKRLKLLLQAEKPDIVINTFPIIAVPELKKQTGISIPVYNVLTDFCVHKIWIHREVDRYFVATDHVKKVMVDIGVPAEQIVETGIPIRSSFELKINPDIIYNKYQLCKNKKILLIVAGAHGVLGSVKELCQSFMSVPDLQVVVVCGKNEALKQDLVGVQETNPDALKVFGYVENIDELFRVTSCMITKPGGITLSEAAALQVPVILYKPVPGQENENAMYFERKGAAVVIRDDSEVFAKTEALLQDDMKLLQMKEAMKSIYRPEPADHIVDTILEENHVEPNHIPIKSPALAQSFT',\n",
       "   'existence': 'Inferred from homology',\n",
       "   'reviewed': 'reviewed',\n",
       "   'ec': '2.4.1.315',\n",
       "   'organism': 'Bacillus thuringiensis (strain Al Hakam)',\n",
       "   'name': 'Processive diacylglycerol beta-glucosyltransferase (EC 2.4.1.315) (Beta-diglucosyldiacylglycerol synthase) (Beta-DGS) (DGlcDAG synthase) (Glc2-DAG synthase) (Beta-gentiobiosyldiacylglycerol synthase) (Beta-monoglucosyldiacylglycerol synthase) (Beta-MGS) (MGlcDAG synthase) (Beta-triglucosyldiacylglycerol synthase) (TGlcDAG synthase) (Diglucosyl diacylglycerol synthase (1,6-linking)) (Glucosyl-beta-1,6-glucosyldiacylglycerol synthase) (UDP glucosyltransferase) (UDP-glucose:1,2-diacylglycerol-3-beta-D-glucosyltransferase)'},\n",
       "  {'uniprot_id': 'O82730',\n",
       "   'sequence': 'MATTVMALAEKVLERVYGTSKSAVSVTSGDGEKTHRHTHHHIHRIKSYDDIDEDESSLELIQIGAERTKNVLILMSDTGGGHRASAEAIRDAFKIEFGDKYRVIVKDVWKEYTGWPLNDMERSYKFMVKHVQLWKVAFHSTSPKWIHSCYLAAIAAYYAKEVEAGLMEYKPEIIISVHPLMQHIPLWVLKWQELQKRVLFVTVITDLNTCHPTWFHPGVNRCYCPSQEVAKRALFDGLDESQVRVFGLPVRPSFARAVLVKDDLRKELEMDQDLRAVLLMGGGEGMGPVKETAKALEEFLYDKENRKPIGQMVVICGRNKKLASALEAIDWKIPVKVRGFETQMEKWMGACDCIITKAGPGTIAESLIRSLPIILNDYIPGQEKGNVPYVVENGAGVFTRSPKETARIVGEWFSTKTDELEQTSDNARKLAQPEAVFDIVKDIDELSEQRGPLASVSYNLTSSFASLV',\n",
       "   'existence': 'Evidence at protein level',\n",
       "   'reviewed': 'reviewed',\n",
       "   'ec': '2.4.1.46',\n",
       "   'organism': 'Arabidopsis thaliana (Mouse-ear cress)',\n",
       "   'name': 'Monogalactosyldiacylglycerol synthase 2, chloroplastic (AtMGD2) (EC 2.4.1.46) (MGDG synthase type B)'},\n",
       "  {'uniprot_id': 'Q9FZL3',\n",
       "   'sequence': 'MMQHSSSVTQEPTNPFGFVSQVGSFVFNNSCSRVSKSNFTLDSYSNLLSNYLYFDCNVKKDSLNHKNKPKASPLLSLSISNKSASSFSRVLFQFNKAIRFHCEKIPLGFASVGVNCGESNGVREEGSVVENEGIPDNGVESEPPKKVLILMSDTGGGHRASAEAIRSAFNEEFGDKYQVFITDLWTEHTPWPFNQLPRSYNFLVKHGSLWRMTYYATAPRLVHQTNFAATSTFIAREVAKGLMKYQPDIIISVHPLMQHVPLRILRSKGLLKKIIFTTVITDLSTCHPTWFHKLVTRCYCPSEEVAKRALRAGLKPYQLKVYGLPVRPSFVKPVPPKVELRKELGMEEHLPAVLLMGGGEGMGPIEATARALGDALYDEIHGEPIGQVLVICGRNKKLFNRLTSVQWKIPVQVKGFVTKMEECMGACDCIITKAGPGTIAEAVIRGLPIILNDYIAGQEAGNVPYVIENGCGKFSKSPKKIANIVAQWFGPRQDELRIMSQNALRLARPDAVFKIVHDMHELVRQRNFEPQCCPA',\n",
       "   'existence': 'Evidence at transcript level',\n",
       "   'reviewed': 'reviewed',\n",
       "   'ec': '2.4.1.46',\n",
       "   'organism': 'Nicotiana tabacum (Common tobacco)',\n",
       "   'name': 'Probable monogalactosyldiacylglycerol synthase, chloroplastic (NtMGD1) (EC 2.4.1.46) (MGDG synthase type A)'},\n",
       "  {'uniprot_id': 'A9VSQ8',\n",
       "   'sequence': 'MIKNPKVLILTAHYGNGHVQVAKTLEQTFRQKGIEDVIVCDLFGESHPVITDITKYLYLKSYTVGKELYRLFYYGVEKIYDKKIASWYANFGRKRLKTLLQVEKPDIVINTFPIIAVPELKKQIGISIPVYNVLTDFCVHKIWIHREVDRYFVATDHVKKVMVDIGVPAEQIVETGIPIRSSFELKINPAIIYNKYQLCKDKKMLLIVAGAHGVLGSVKELCQSFMSVPNLQVVVVCGKNEALKQDLMELQEQGSDALKVFGYVENIDELFRVTSCMITKPGGITLSEAAALQVPVILYKPVPGQENENALYFEKKGAAVVIRDDSEVFAKTEALLQDDMKLLQMKEAMKSIYRPEPAGHIVDTILAENHAEPNHIPIKSPVLAESFT',\n",
       "   'existence': 'Inferred from homology',\n",
       "   'reviewed': 'reviewed',\n",
       "   'ec': '2.4.1.315',\n",
       "   'organism': 'Bacillus mycoides (strain KBAB4) (Bacillus weihenstephanensis)',\n",
       "   'name': 'Processive diacylglycerol beta-glucosyltransferase (EC 2.4.1.315) (Beta-diglucosyldiacylglycerol synthase) (Beta-DGS) (DGlcDAG synthase) (Glc2-DAG synthase) (Beta-gentiobiosyldiacylglycerol synthase) (Beta-monoglucosyldiacylglycerol synthase) (Beta-MGS) (MGlcDAG synthase) (Beta-triglucosyldiacylglycerol synthase) (TGlcDAG synthase) (Diglucosyl diacylglycerol synthase (1,6-linking)) (Glucosyl-beta-1,6-glucosyldiacylglycerol synthase) (UDP glucosyltransferase) (UDP-glucose:1,2-diacylglycerol-3-beta-D-glucosyltransferase)'},\n",
       "  {'uniprot_id': 'Q4L524',\n",
       "   'sequence': 'MVTQNKKILIITGSFGNGHLQVTQSVVNQLNEMNLSHLSVIEHDLFMEAHPILTSICKKWYINSFKYFRNMYKNFYYSRPDELDKCFYKYYGLNKLINLLLKEKPDLILLTFPTPVMSVLTEQFNINIPIATVMTDYRLQKNWITPNSHRYYVATDDTKRDFVNAGIPASDIKVTGIPISDKFESDIDKVAWLKKHNLNPDKPTILMSAGAFGVSKGFDYMIDNILQKSPQSQIVMVCGRSKGLKRTLEMQFKSYDNVLILGYTKHMNEWMASSQLMITKPGGITISEGLTRSLPMIFLNPAPGQELENALYFQDKSYGKIANTPEEAIDIVSDLTNHEYRLQAMTNKMTEEKVNHSTYRLCTDLLNILDSSSQQQEIYGKVPLYARFFVK',\n",
       "   'existence': 'Inferred from homology',\n",
       "   'reviewed': 'reviewed',\n",
       "   'ec': '2.4.1.315',\n",
       "   'organism': 'Staphylococcus haemolyticus (strain JCSC1435)',\n",
       "   'name': 'Processive diacylglycerol beta-glucosyltransferase (EC 2.4.1.315) (Beta-diglucosyldiacylglycerol synthase) (Beta-DGS) (DGlcDAG synthase) (Glc2-DAG synthase) (Beta-gentiobiosyldiacylglycerol synthase) (Beta-monoglucosyldiacylglycerol synthase) (Beta-MGS) (MGlcDAG synthase) (Diglucosyl diacylglycerol synthase (1,6-linking)) (Glucosyl-beta-1,6-glucosyldiacylglycerol synthase) (UDP glucosyltransferase) (UDP-glucose:1,2-diacylglycerol-3-beta-D-glucosyltransferase)'},\n",
       "  {'uniprot_id': 'Q8CWR6',\n",
       "   'sequence': 'MRIGLFTDTYFPQVSGVATSIRTLKTELEKQGHAVFIFTTTDKDVNRYEDWQIIRIPSVPFFAFKDRRFAYRGFSKALEIAKQYQLDIIHTQTEFSLGLLGIWIARELKIPVIHTYHTQYEDYVHYIAKGMLIRPSMVKYLVRGFLHDVDGVICPSEIVRDLLSDYKVKVEKRVIPTGIELAKFERPEIKQENLKELRSKLGIQDGEKTLLSLSRISYEKNIQAVLVAFADVLKEEDKVKLVVAGDGPYLNDLKEQAQNLEIQDSVIFTGMIAPSETALYYKAADFFISASTSETQGLTYLESLASGTPVIAHGNPYLNNLISDKMFGALYYGEHDLAGAILEALIATPDMNEHTLSEKLYEISAENFGKRVHEFYLDAIISNNFQKDLAKDDTVSQRIFKTVLYLPQQVVAVPVKGSRRMLKASKTQLISMRDYWKDHEE',\n",
       "   'existence': 'Evidence at protein level',\n",
       "   'reviewed': 'reviewed',\n",
       "   'ec': '2.4.1.337',\n",
       "   'organism': 'Streptococcus pneumoniae (strain ATCC BAA-255 / R6)',\n",
       "   'name': 'Alpha-monoglucosyldiacylglycerol synthase (Alpha-MGS) (MGlcDAG synthase) (EC 2.4.1.337) (1,2-Diacylglycerol 3-glucosyltransferase) (UDP-glucose:1,2-diacylglycerol 3-alpha-D-glucosyltransferase)'},\n",
       "  {'uniprot_id': 'Q65IA4',\n",
       "   'sequence': 'MNTNKNILILTANYGNGHVQVAKTLYQECERLGFKNVTVSNLYQESNPIVSEITQYLYLKSFSIGKQFYRLFYYGVDKIYNKRKFNIYFKMGNKRLDQLVKKHQPDIIINTFPMIVVPEYRRRMGKVIPTFNVMTDFCLHKIWVHEHIDKYYVATDYVKEKLLEIGTHPSNVKITGIPIRRQFEEEMDKDKIYEKYQLSPDKKILLIMAGAHGVLKNVKELCESLVTKEDVQVVVVCGKNTMLKSSLEDIEALYPNKLRTLGYIERIDELFRVADCMITKPGGITLTEATAIGVPVILYKPVPGQEKENALFFEDRGAAIVVNRHEEILESVSSLLADEKKLNEMKKNIKSLHLSNSSEVILTDIIEQSEIIMNKKQTVRALS',\n",
       "   'existence': 'Inferred from homology',\n",
       "   'reviewed': 'reviewed',\n",
       "   'ec': '2.4.1.315',\n",
       "   'organism': 'Bacillus licheniformis (strain ATCC 14580 / DSM 13 / JCM 2505 / CCUG 7422 / NBRC 12200 / NCIMB 9375 / NCTC 10341 / NRRL NRS-1264 / Gibson 46)',\n",
       "   'name': 'Processive diacylglycerol beta-glucosyltransferase (EC 2.4.1.315) (Beta-diglucosyldiacylglycerol synthase) (Beta-DGS) (DGlcDAG synthase) (Glc2-DAG synthase) (Beta-gentiobiosyldiacylglycerol synthase) (Beta-monoglucosyldiacylglycerol synthase) (Beta-MGS) (MGlcDAG synthase) (Beta-triglucosyldiacylglycerol synthase) (TGlcDAG synthase) (Diglucosyl diacylglycerol synthase (1,6-linking)) (Glucosyl-beta-1,6-glucosyldiacylglycerol synthase) (UDP glucosyltransferase) (UDP-glucose:1,2-diacylglycerol-3-beta-D-glucosyltransferase)'},\n",
       "  {'uniprot_id': 'A8FED1',\n",
       "   'sequence': 'MNTNKKILILTANYGNGHMQVAKTLYDECKSQGFEHVVVSNLYQESNPIVSEVTQYLYLKSFSIGKQFYRLFYYGVDKIYNKRKFNIYLKMGNKRLDELIQLHNPDIIIITFPMIVVPEYRNKTGKIIPTFNVMTDFCLHKIWVHENIDRYYVATDYVKQKLVEIGTHPSDVKVTGIPIRPQFEADVPKSKIYKKYGLSSNKKVLLIMAGAHGVLKNVKELCEALLLDSEVQIVVVCGKNAALKQSLSDLEQTHPDQLKALGYVEQIDELFRVTDCMITKPGGITLTEATALGVPVILYKPVPGQEKENAHFFEDYGAAIVINRHEDILESVTNLLQDEEKLESMKQNMKSLHLKHSSQTILEDIVEQSDLITNNKTYARALS',\n",
       "   'existence': 'Inferred from homology',\n",
       "   'reviewed': 'reviewed',\n",
       "   'ec': '2.4.1.315',\n",
       "   'organism': 'Bacillus pumilus (strain SAFR-032)',\n",
       "   'name': 'Processive diacylglycerol beta-glucosyltransferase (EC 2.4.1.315) (Beta-diglucosyldiacylglycerol synthase) (Beta-DGS) (DGlcDAG synthase) (Glc2-DAG synthase) (Beta-gentiobiosyldiacylglycerol synthase) (Beta-monoglucosyldiacylglycerol synthase) (Beta-MGS) (MGlcDAG synthase) (Beta-triglucosyldiacylglycerol synthase) (TGlcDAG synthase) (Diglucosyl diacylglycerol synthase (1,6-linking)) (Glucosyl-beta-1,6-glucosyldiacylglycerol synthase) (UDP glucosyltransferase) (UDP-glucose:1,2-diacylglycerol-3-beta-D-glucosyltransferase)'},\n",
       "  {'uniprot_id': 'Q9ZB73',\n",
       "   'sequence': 'MDKLVSILVPCYKSKPFLKRFFNSLLKQDLNQAKIIFFNDNVADETYEVLQKFKKEHNNLAIEVYCDKQNEGIGKVRDKLVNLVTTPYFYFIDPDDCFNNKNVIKEIVESIKKEDFDLGVLKSMVYLCFLKHDFIIKFLPLKGIFQGRVKLINNNNVNKLNYIKNNDQYIWNIVINTDFFRKLNLTFESRLFEDIPIWYPMFFSSQKIVFIDVIGTNYFIRNDSLSTTISAPRYLNLIQCYEKLYVNLSQNGSLASFIDPNHKIEARFWRRQMFVWFALFSFEYFKKNFSESKKILEKLFVFLEKNGVYERVFQTKNQGIYYIWVQRLKYFKHVLESKSDN',\n",
       "   'existence': 'Evidence at protein level',\n",
       "   'reviewed': 'reviewed',\n",
       "   'ec': '2.4.1.-',\n",
       "   'organism': 'Mycoplasma genitalium (strain ATCC 33530 / DSM 19775 / NCTC 10195 / G37) (Mycoplasmoides genitalium)',\n",
       "   'name': 'Processive diacylglycerol beta-glycosyltransferase (EC 2.4.1.-) (Beta-diglycosyldiacylglycerol synthase) (Beta-DGS) (DGlyDAG synthase) (Beta-monoglycosyldiacylglycerol synthase) (Beta-MGS) (MGlyDAG synthase) (Glycosyl-beta-1,6-glycosyldiacylglycerol synthase) (UDP-galactose:1,2-dioleoylglycerol 3-beta-D-galactosyltransferase) (UDP-glucose:1,2-dioleoylglycerol 3-beta-D-glucosyltransferase)'},\n",
       "  {'uniprot_id': 'Q9SM44',\n",
       "   'sequence': 'MSHPSTVTSEPSNLLDFVPKLGNFVLNSSLHGNNSNGYSSFSSNSVHFGGLATQNRYKFVNSLSFSKEGSNLKRILSDFNRVIRLHCDRIPLGFSSIGLNSGESNGVSDNGHGVLEDVRVPVNAVEPESPKRVLILMSDTGGGHRASAEAIKAAFNEEFGDDYQVFVTDLWSEHTPWPFNQLPRSYNFLVKHGPLWKMMYYGTSPRVIHQSNFAATSVFIAREVARGLMKYQPDIIISVHPLMQHVPLRILRGRGLLEKIVFTTVVTDLSTCHPTWFHKLVTRCYCPSNEVAKRATKAGLQPSQIKVYGLPVRPSFVRSVRPKNELRKELGMDEHLPAVLLMGGGEGMGPIEATARALGNALYDANLGEPTGQLLVICGRNKKLAGKLSSIDWKIPVQVKGFVTKIEECMGACDCIITKAGPGTIAEAMIRGLPIILNDYIAGQEAGNVPYVIENGIGKYLKSPKEIAKTVSQWFGPKANELQIMSQNALKHARPDAVFKIVHDLDELVRQKIFVRQYSCAA',\n",
       "   'existence': 'Evidence at protein level',\n",
       "   'reviewed': 'reviewed',\n",
       "   'ec': '2.4.1.46',\n",
       "   'organism': 'Spinacia oleracea (Spinach)',\n",
       "   'name': 'Monogalactosyldiacylglycerol synthase, chloroplastic (SoMGD1) (EC 2.4.1.46) (MGDG synthase type A)'},\n",
       "  {'uniprot_id': 'Q6GAR0',\n",
       "   'sequence': 'MVTQNKKILIITGSFGNGHMQVTQSIVNQLNDMNLDHLSVIEHDLFMEAHPILTSICKKWYINSFKYFRNMYKGFYYSRPDKLDKCFYKYYGLNKLINLLIKEKPDLILLTFPTPVMSVLTEQFNINIPVATVMTDYRLHKNWITPYSTRYYVATKETKQDFIDVGIDPSTVKVTGIPIDNKFETPINQKQWLIDNNLDPDKQTILMSAGAFGVSKGFDTMITDILAKSANAQVVMICGKSKELKRSLTAKFKSNENVLILGYTKHMNEWMASSQLMITKPGGITITEGFARCIPMIFLNPAPGQELENALYFEEKGFGKIADTPEEAIKIVASLTNGNEQLTNMISTMEQDKIKYATQTICRDLLDLIGHSSQPQEIYGKVPLYARFFVK',\n",
       "   'existence': 'Inferred from homology',\n",
       "   'reviewed': 'reviewed',\n",
       "   'ec': '2.4.1.315',\n",
       "   'organism': 'Staphylococcus aureus (strain MSSA476)',\n",
       "   'name': 'Processive diacylglycerol beta-glucosyltransferase (EC 2.4.1.315) (Beta-diglucosyldiacylglycerol synthase) (Beta-DGS) (DGlcDAG synthase) (Glc2-DAG synthase) (Beta-gentiobiosyldiacylglycerol synthase) (Beta-monoglucosyldiacylglycerol synthase) (Beta-MGS) (MGlcDAG synthase) (Diglucosyl diacylglycerol synthase (1,6-linking)) (Glucosyl-beta-1,6-glucosyldiacylglycerol synthase) (UDP glucosyltransferase) (UDP-glucose:1,2-diacylglycerol-3-beta-D-glucosyltransferase)'},\n",
       "  {'uniprot_id': 'Q8KQL6',\n",
       "   'sequence': 'MKVLLYSQKQSMLKKSGIGRAFYHQKRALEAVGIEYTTDPKDTYDLVHVNIAHSNKIKKFRKKYPVIVHGHSTVQDFRRSFAFWRVIAPFFYKHLQNIYGIADLIITPTRYSKFLIESMHVVKSPVVALSNGIDLDAYEYKQENVDAFRKHFDLEPNQKVVIGVGLLFERKGIHDFIEVARTMPNVTFIWFGNLSKLATTHFIRKRIKNKPKNMIMPGYVDGAVIKGAFSGADCVFFPSYEETEGIVVLEGLASKTPVVLRDIPVYYDWLFHKEHVLKGHNNFEFSKLIEKVLHEDQTEMIENGYKIVQDRSIEKIGEGLKQAYQEVIKIKR',\n",
       "   'existence': 'Evidence at protein level',\n",
       "   'reviewed': 'reviewed',\n",
       "   'ec': '2.4.1.208; 2.4.1.337',\n",
       "   'organism': 'Acholeplasma laidlawii',\n",
       "   'name': 'Processive diacylglycerol alpha-glucosyltransferase (EC 2.4.1.208) (EC 2.4.1.337) (Alpha-diglucosyldiacylglycerol synthase) (Alpha-DGS) (DGlcDAG synthase) (Alpha-monoglucosyldiacylglycerol synthase) (Alpha-MGS) (MGlcDAG synthase) (Glucosyl-alpha-1,2-glucosyldiacylglycerol synthase) (UDP-glucose:1,2-diacylglycerol 3-alpha-D-glucosyltransferase)'},\n",
       "  {'uniprot_id': 'C1EWE6',\n",
       "   'sequence': 'MIKNPKVLILTAHYGNGHVQVAKTLEQTFRQKGIKDVIVCDLFGESHPVITDITKYLYLKSYTIGKELYRLFYYGVEKIYDKKIASWYANFGRKRLKLLLKAEKPDIVINTFPIIAVPELKKQTGISIPVYNVLTDFCVHKIWIHREVDRYFVATDHVKKVMVDIGVPAEQIVETGIPIRSSFELKINPDIIYNKYQLCKNKKILLIVAGAHGVLGSVKELCQSFMSVPDLQVVVVCGKNEALKQDLVGVQDTNPDALKVFGYVENIDELFRVTSCMITKPGGITLSEAAALQVPVILYKPVPGQENENAMYFERKGAAVVIRDDSEVFAKTEALLQDDMKLLQMKEAMKSIYRPEPAGHIVDTILAENHVEPNHIPIKSPALAQSFT',\n",
       "   'existence': 'Inferred from homology',\n",
       "   'reviewed': 'reviewed',\n",
       "   'ec': '2.4.1.315',\n",
       "   'organism': 'Bacillus cereus (strain 03BB102)',\n",
       "   'name': 'Processive diacylglycerol beta-glucosyltransferase (EC 2.4.1.315) (Beta-diglucosyldiacylglycerol synthase) (Beta-DGS) (DGlcDAG synthase) (Glc2-DAG synthase) (Beta-gentiobiosyldiacylglycerol synthase) (Beta-monoglucosyldiacylglycerol synthase) (Beta-MGS) (MGlcDAG synthase) (Beta-triglucosyldiacylglycerol synthase) (TGlcDAG synthase) (Diglucosyl diacylglycerol synthase (1,6-linking)) (Glucosyl-beta-1,6-glucosyldiacylglycerol synthase) (UDP glucosyltransferase) (UDP-glucose:1,2-diacylglycerol-3-beta-D-glucosyltransferase)'},\n",
       "  {'uniprot_id': 'A6U0C2',\n",
       "   'sequence': 'MVTQNKKILIITGSFGNGHMQVTQSIVNQLNDMNLDHLSVIEHDLFMEAHPILTSICKKWYINSFKYFRNMYKGFYYSRPDKLDKCFYKYYGLNKLINLLIKEKPDLILLTFPTPVMSVLTEQFNINIPVATVMTDYRLHKNWITPYSTRYYVATKETKQDFIDVGIDPSTVKVTGIPIDNKFETPINQKQWLIDNNLDPDKQTILMSAGAFGVSKGFDTMITDILAKSANAQVVMICGKSKELKRSLIAKFKSNENVLILGYTKHMNEWMASSQLMITKPGGITITEGFARCIPMIFLNPAPGQELENALYFEEKGFGKIADTPEEAIKIVASLTNGNEQLTNMISTMEQDKIKYATQTICRDLLDLIGHSSQPQEIYGKVPLYARFFVK',\n",
       "   'existence': 'Inferred from homology',\n",
       "   'reviewed': 'reviewed',\n",
       "   'ec': '2.4.1.315',\n",
       "   'organism': 'Staphylococcus aureus (strain JH1)',\n",
       "   'name': 'Processive diacylglycerol beta-glucosyltransferase (EC 2.4.1.315) (Beta-diglucosyldiacylglycerol synthase) (Beta-DGS) (DGlcDAG synthase) (Glc2-DAG synthase) (Beta-gentiobiosyldiacylglycerol synthase) (Beta-monoglucosyldiacylglycerol synthase) (Beta-MGS) (MGlcDAG synthase) (Diglucosyl diacylglycerol synthase (1,6-linking)) (Glucosyl-beta-1,6-glucosyldiacylglycerol synthase) (UDP glucosyltransferase) (UDP-glucose:1,2-diacylglycerol-3-beta-D-glucosyltransferase)'},\n",
       "  {'uniprot_id': 'C3LHC1',\n",
       "   'sequence': 'MIKNPKVLILTAHYGNGHVQVAKTLEQTFRQKGIKDVIVCDLFGESHPVITDITKYLYLKSYTIGKELYRLFYYGVEKIYDKKIASWYANFGRKRLKLLLQAEKPDIVINTFPIIAVPELKKQTGISIPVYNVLTDFCVHKIWIHREVDRYFVATDHVKKVMVDIGVPAEQIVETGIPIRSSFELKINPDIIYNKYQLCKNKKILLIVAGAHGVLGSVKELCQSFMSVPDLQVVVVCGKNEALKQDLVGVQETNPDALKVFGYVENIDELFRVTSCMITKPGGITLSEAAALQVPVILYKPVPGQENENAMYFERKGAAVVIRDDSEVFAKTEALLQDDMKLLQMKEAMKSIYRPEPADHIVDTILAENHVEPNHIPIKSPALAQSFT',\n",
       "   'existence': 'Inferred from homology',\n",
       "   'reviewed': 'reviewed',\n",
       "   'ec': '2.4.1.315',\n",
       "   'organism': 'Bacillus anthracis (strain CDC 684 / NRRL 3495)',\n",
       "   'name': 'Processive diacylglycerol beta-glucosyltransferase (EC 2.4.1.315) (Beta-diglucosyldiacylglycerol synthase) (Beta-DGS) (DGlcDAG synthase) (Glc2-DAG synthase) (Beta-gentiobiosyldiacylglycerol synthase) (Beta-monoglucosyldiacylglycerol synthase) (Beta-MGS) (MGlcDAG synthase) (Beta-triglucosyldiacylglycerol synthase) (TGlcDAG synthase) (Diglucosyl diacylglycerol synthase (1,6-linking)) (Glucosyl-beta-1,6-glucosyldiacylglycerol synthase) (UDP glucosyltransferase) (UDP-glucose:1,2-diacylglycerol-3-beta-D-glucosyltransferase)'},\n",
       "  {'uniprot_id': 'Q6HNU4',\n",
       "   'sequence': 'MIKNPKVLILTAHYGNGHVQVAKTLEQTFRQKGIKDVIVCDLFGESHPVITDITKYLYLKSYTIGKELYRLFYYGVEKIYDKKIASWYANFGRKRLKLLLQAEKPDIVINTFPIIAVPELKKQTGISIPVYNVLTDFCVHKIWIHREVDRYFVATDHVKKVMVDIGVPAEQIVETGIPIRSSFELKINPDIIYNKYQLCKNKKILLIVAGAHGVLGSVKELCQSFMSVPDLQVVVVCGKNEALKQDLVGVQETNPDALKVFGYVENIDELFRVTSCMITKPGGITLSEAAALQVPVILYKPVPGQENENAMYFERKGAAVVIRDDSEVFAKTEALLQDDMKLLQMKEAMKSIYRPEPADHIVDTILAENHVEPNHIPIKSPALAQSFT',\n",
       "   'existence': 'Inferred from homology',\n",
       "   'reviewed': 'reviewed',\n",
       "   'ec': '2.4.1.315',\n",
       "   'organism': 'Bacillus thuringiensis subsp. konkukian (strain 97-27)',\n",
       "   'name': 'Processive diacylglycerol beta-glucosyltransferase (EC 2.4.1.315) (Beta-diglucosyldiacylglycerol synthase) (Beta-DGS) (DGlcDAG synthase) (Glc2-DAG synthase) (Beta-gentiobiosyldiacylglycerol synthase) (Beta-monoglucosyldiacylglycerol synthase) (Beta-MGS) (MGlcDAG synthase) (Beta-triglucosyldiacylglycerol synthase) (TGlcDAG synthase) (Diglucosyl diacylglycerol synthase (1,6-linking)) (Glucosyl-beta-1,6-glucosyldiacylglycerol synthase) (UDP glucosyltransferase) (UDP-glucose:1,2-diacylglycerol-3-beta-D-glucosyltransferase)'},\n",
       "  {'uniprot_id': 'A7GKY0',\n",
       "   'sequence': 'MIKNPKVLILTAHYGNGHVQVAKTLEQAFHQKGIEDVIVCDLFGESHPVITDITKYLYLKSYTIGKELYRLFYYGVEKIYDKKIASWYANFGRKRLKALLHTEKPDIVINTFPIIAVPELKKQTGFSIPVYNVLTDFCLHKIWIHREVDRYFVATDHVKQVMIEIGVPAERIVETGIPIRKNFELTMNSELIYNKYQLSREKKILLIVAGAHGVLGNVKDLCASFMSVPNLQVAVVCGKNDALKQELLKLQEQNSEALKVFGYIENIDELFRVTSCMITKPGGITLSEAAALQVPVILYKPVPGQENENAIYFESKGAAVVIREDAEIFEKTKALLEDDRKLLQMKEAMGSIYRPEPAAHIVDVILEENHAQTNHVPMKSPALAQSFT',\n",
       "   'existence': 'Inferred from homology',\n",
       "   'reviewed': 'reviewed',\n",
       "   'ec': '2.4.1.315',\n",
       "   'organism': 'Bacillus cytotoxicus (strain DSM 22905 / CIP 110041 / 391-98 / NVH 391-98)',\n",
       "   'name': 'Processive diacylglycerol beta-glucosyltransferase (EC 2.4.1.315) (Beta-diglucosyldiacylglycerol synthase) (Beta-DGS) (DGlcDAG synthase) (Glc2-DAG synthase) (Beta-gentiobiosyldiacylglycerol synthase) (Beta-monoglucosyldiacylglycerol synthase) (Beta-MGS) (MGlcDAG synthase) (Beta-triglucosyldiacylglycerol synthase) (TGlcDAG synthase) (Diglucosyl diacylglycerol synthase (1,6-linking)) (Glucosyl-beta-1,6-glucosyldiacylglycerol synthase) (UDP glucosyltransferase) (UDP-glucose:1,2-diacylglycerol-3-beta-D-glucosyltransferase)'},\n",
       "  {'uniprot_id': 'B7IW03',\n",
       "   'sequence': 'MIKNPKVLILTAHYGNGHVQVAKTLEQTFRQKGIEDVIVCDLFGESHPFITDITKYLYLKSYTIGKELYRLFYYGVEKIYDKKIASWYANFGRKRLKTLLQVEKPDIVINTFPIIAVPELKKQTGISIPVYNVLTDFCVHKIWIHREVDRYFVATDHVKELMVDIGVPAEQIVETGIPIRSSFELKVNPDIIYNKYQLCKNKKILLIVAGAHGVLGNVKELCQSFMSVPNLQVVVVCGKNEALKQDLLSLQNQNSDALKVFGYVENIDELFRVTSCMITKPGGITLSEAAALQVPVILYKPVPGQENENAMYFEKKGAAVVIRDDSEVFAKTEALLQDDVKLLQMKEAMKSIYLPEPAGHIVDAILAENHAEPRHIPIKSPALAQSFT',\n",
       "   'existence': 'Inferred from homology',\n",
       "   'reviewed': 'reviewed',\n",
       "   'ec': '2.4.1.315',\n",
       "   'organism': 'Bacillus cereus (strain G9842)',\n",
       "   'name': 'Processive diacylglycerol beta-glucosyltransferase (EC 2.4.1.315) (Beta-diglucosyldiacylglycerol synthase) (Beta-DGS) (DGlcDAG synthase) (Glc2-DAG synthase) (Beta-gentiobiosyldiacylglycerol synthase) (Beta-monoglucosyldiacylglycerol synthase) (Beta-MGS) (MGlcDAG synthase) (Beta-triglucosyldiacylglycerol synthase) (TGlcDAG synthase) (Diglucosyl diacylglycerol synthase (1,6-linking)) (Glucosyl-beta-1,6-glucosyldiacylglycerol synthase) (UDP glucosyltransferase) (UDP-glucose:1,2-diacylglycerol-3-beta-D-glucosyltransferase)'},\n",
       "  {'uniprot_id': 'C3PCX2',\n",
       "   'sequence': 'MIKNPKVLILTAHYGNGHVQVAKTLEQTFRQKGIKDVIVCDLFGESHPVITDITKYLYLKSYTIGKELYRLFYYGVEKIYDKKIASWYANFGRKRLKLLLQAEKPDIVINTFPIIAVPELKKQTGISIPVYNVLTDFCVHKIWIHREVDRYFVATDHVKKVMVDIGVPAEQIVETGIPIRSSFELKINPDIIYNKYQLCKNKKILLIVAGAHGVLGSVKELCQSFMSVPDLQVVVVCGKNEALKQDLVGVQETNPDALKVFGYVENIDELFRVTSCMITKPGGITLSEAAALQVPVILYKPVPGQENENAMYFERKGAAVVIRDDSEVFAKTEALLQDDMKLLQMKEAMKSIYRPEPADHIVDTILAENHVEPNHIPIKSPALAQSFT',\n",
       "   'existence': 'Inferred from homology',\n",
       "   'reviewed': 'reviewed',\n",
       "   'ec': '2.4.1.315',\n",
       "   'organism': 'Bacillus anthracis (strain A0248)',\n",
       "   'name': 'Processive diacylglycerol beta-glucosyltransferase (EC 2.4.1.315) (Beta-diglucosyldiacylglycerol synthase) (Beta-DGS) (DGlcDAG synthase) (Glc2-DAG synthase) (Beta-gentiobiosyldiacylglycerol synthase) (Beta-monoglucosyldiacylglycerol synthase) (Beta-MGS) (MGlcDAG synthase) (Beta-triglucosyldiacylglycerol synthase) (TGlcDAG synthase) (Diglucosyl diacylglycerol synthase (1,6-linking)) (Glucosyl-beta-1,6-glucosyldiacylglycerol synthase) (UDP glucosyltransferase) (UDP-glucose:1,2-diacylglycerol-3-beta-D-glucosyltransferase)'},\n",
       "  {'uniprot_id': 'A5IRJ3',\n",
       "   'sequence': 'MVTQNKKILIITGSFGNGHMQVTQSIVNQLNDMNLDHLSVIEHDLFMEAHPILTSICKKWYINSFKYFRNMYKGFYYSRPDKLDKCFYKYYGLNKLINLLIKEKPDLILLTFPTPVMSVLTEQFNINIPVATVMTDYRLHKNWITPYSTRYYVATKETKQDFIDVGIDPSTVKVTGIPIDNKFETPINQKQWLIDNNLDPDKQTILMSAGAFGVSKGFDTMITDILAKSANAQVVMICGKSKELKRSLIAKFKSNENVLILGYTKHMNEWMASSQLMITKPGGITITEGFARCIPMIFLNPAPGQELENALYFEEKGFGKIADTPEEAIKIVASLTNGNEQLTNMISTMEQDKIKYATQTICRDLLDLIGHSSQPQEIYGKVPLYARFFVK',\n",
       "   'existence': 'Inferred from homology',\n",
       "   'reviewed': 'reviewed',\n",
       "   'ec': '2.4.1.315',\n",
       "   'organism': 'Staphylococcus aureus (strain JH9)',\n",
       "   'name': 'Processive diacylglycerol beta-glucosyltransferase (EC 2.4.1.315) (Beta-diglucosyldiacylglycerol synthase) (Beta-DGS) (DGlcDAG synthase) (Glc2-DAG synthase) (Beta-gentiobiosyldiacylglycerol synthase) (Beta-monoglucosyldiacylglycerol synthase) (Beta-MGS) (MGlcDAG synthase) (Diglucosyl diacylglycerol synthase (1,6-linking)) (Glucosyl-beta-1,6-glucosyldiacylglycerol synthase) (UDP glucosyltransferase) (UDP-glucose:1,2-diacylglycerol-3-beta-D-glucosyltransferase)'},\n",
       "  {'uniprot_id': 'Q8YMK0',\n",
       "   'sequence': 'MPANSWPDNDSYKELDPLNSLLSDVSTTEESVVETRDLSLPSRFQGRRGKAALVLTIVWSGTIALHLVSWGSIFILGLTTVLGIHALGVVFARPRHYQKEIQGSLPFVSILVAAKNEEAVIAKLAKNLCNLEYPNGQYEVWIIDDNSTDKTPHILAELAKEYDKLKVLRRSAQATGGKSGALNQVLPLTQGEIIAVFDADAQVASDMLLHVVPLFQREKVGAVQVRKAIANAKENFWTKGQMAEMSLDIWFQQQRTALGGIGELRGNGQFVRRQALDSCGGWNEETITDDLDLTFRLHLDKWDIECLFYPAVQEEGVTTAIALWHQRNRWAEGGYQRYLDYWDLILKNRMGTRKTWDMLMFMLTMYILPTAAIPDLLMALTRHRPPMLGPVTGLSVTMSVVGMFAGLRRIRQEQKFQVHTPFVLLLQTMRGTLYMLHWLVVMSSTTARMSFRPKRLKWVKTVHTGTGE',\n",
       "   'existence': 'Evidence at protein level',\n",
       "   'reviewed': 'reviewed',\n",
       "   'ec': '2.4.1.336',\n",
       "   'organism': 'Nostoc sp. (strain PCC 7120 / SAG 25.82 / UTEX 2576)',\n",
       "   'name': 'Beta-monoglucosyldiacylglycerol synthase (Beta-MGS) (MGlcDAG synthase) (EC 2.4.1.336) (UDP-glucose:1,2-diacylglycerol 3-beta-D-glucosyltransferase)'},\n",
       "  {'uniprot_id': 'Q69QJ7',\n",
       "   'sequence': 'MPAPTASSLAAAADPALPAAFLSLPSPLLPASPPLPAAPAPSSNAFCVPRGPARAVAVSVSVSAYGAGSTAAASRLHRMWAEFSRFVRLHGNQIAPLGFASLGLGVGGGGGGSGEGAGGGGGGGGGEVDGLVEEEGVARAEAPKKVLILMSDTGGGHRASAEAIKAAFIQEFGDDYQVFVTDLWTDHTPWPFNQLPRSYSFLVKHGPLWKMTYYGTAPRVVHQPHFAATSTFIAREVAKGLMKYQPDVIISVHPLMQHVPLRILRSKGLLDKIPFTTVVTDLSTCHPTWFHKLVTRCYCPSAEVSKRALKAGLQPSQIKVYGLPVRPSFVKPIRPEDELRRELGMDEYLPAVLLMGGGEGMGPIEATARALGDALYDEVLGEPTGQILVICGRNKKLTSRLQSINWKVPVQVKGFVTKMEECMGACDCIITKAGPGTIAEAMIRGLPIILNGYIAGQEAGNVPYVVDNGCGKFSKSPEQIAKIVADWFGPRSDELKMMSQNALKLARPDAVFKIVHDLHELVRQKCFVPQYACAS',\n",
       "   'existence': 'Evidence at transcript level',\n",
       "   'reviewed': 'reviewed',\n",
       "   'ec': '2.4.1.46',\n",
       "   'organism': 'Oryza sativa subsp. japonica (Rice)',\n",
       "   'name': 'Probable monogalactosyldiacylglycerol synthase 1, chloroplastic (OsMGD1) (EC 2.4.1.46)'},\n",
       "  {'uniprot_id': 'Q9FZL4',\n",
       "   'sequence': 'MNNGVSQESSVLLDLASHVNRFAFDSFRSDNNKTLLSNFLHFNGNTRTGAAAAKRGVSLGGKVGGASVRFGNILNDFNRAVRFHCEKIPIGFASLRVGDGGDGADGNGNGEGNGVRVDECGGVENEGFRGNGVEGEKPKKVLILMSDTGGGHRASAEAIKAAFYQEFGDDYQVFVTDLWADHTPWPFNQLPRSYSFLVKHGPLWKMTYYGTAPRVVHQSNFAATGTFIAREVAKGLMKYQPDIIISVHPLMQHVPLRILRSKGLLKKIVFTTVITDLSTCHPTWFHKLVTRCYCPTTDVAQRALKAGLQQSQIKIFGLPVRPSFVKPVQPKDELRRELGMDEDLPAVLLMGGGEGMGPIEATARALGDSLYDENIGAPVGQILVICGRNKKLANKLSSINWKVPVQVKGFVTKMEECMGACDCIITKAGPGTIAEAQIRGLPIILNDYIAGQEAGNVPYVVENGCGKFSKSPKDIAKIVAEWFGPKAYELQQMSQNALRLARPDAVFKIVHDLHELVRQRSYLPEYSCTA',\n",
       "   'existence': 'Evidence at transcript level',\n",
       "   'reviewed': 'reviewed',\n",
       "   'ec': '2.4.1.46',\n",
       "   'organism': 'Glycine max (Soybean) (Glycine hispida)',\n",
       "   'name': 'Probable monogalactosyldiacylglycerol synthase, chloroplastic (GmMGD1) (EC 2.4.1.46) (MGDG synthase type A)'},\n",
       "  {'uniprot_id': 'A6QFM7',\n",
       "   'sequence': 'MVTQNKKILIITGSFGNGHMQVTQSIVNQLNDMNLDHLSVIEHDLFMEAHPILTSICKKWYINSFKYFRNMYKGFYYSRPDKLDKCFYKYYGLNKLINLLIKEKPDLILLTFPTPVMSVLTEQFNINIPVATVMTDYRLHKNWITPYSTRYYVATKETKQDFIDVGIDPSTVKVTGIPIDNKFETPINQKQWLIDNNLDPDKQTILMSAGAFGVSKGFDTMITDILAKSANAQVVMICGKSKELKRSLTAKFKSNENVLILGYTKHMNEWMASSQLMITKPGGITITEGFARCIPMIFLNPAPGQELENALYFEEKGFGKIADTPEEAIKIVASLTNGNEQLTNMISTMEQDKIKYATQTICRDLLDLIGHSSQPQEIYGKVPLYARFFVK',\n",
       "   'existence': 'Inferred from homology',\n",
       "   'reviewed': 'reviewed',\n",
       "   'ec': '2.4.1.315',\n",
       "   'organism': 'Staphylococcus aureus (strain Newman)',\n",
       "   'name': 'Processive diacylglycerol beta-glucosyltransferase (EC 2.4.1.315) (Beta-diglucosyldiacylglycerol synthase) (Beta-DGS) (DGlcDAG synthase) (Glc2-DAG synthase) (Beta-gentiobiosyldiacylglycerol synthase) (Beta-monoglucosyldiacylglycerol synthase) (Beta-MGS) (MGlcDAG synthase) (Diglucosyl diacylglycerol synthase (1,6-linking)) (Glucosyl-beta-1,6-glucosyldiacylglycerol synthase) (UDP glucosyltransferase) (UDP-glucose:1,2-diacylglycerol-3-beta-D-glucosyltransferase)'},\n",
       "  {'uniprot_id': 'Q99V75',\n",
       "   'sequence': 'MVTQNKKILIITGSFGNGHMQVTQSIVNQLNDMNLDHLSVIEHDLFMEAHPILTSICKKWYINSFKYFRNMYKGFYYSRPDKLDKCFYKYYGLNKLINLLIKEKPDLILLTFPTPVMSVLTEQFNINIPVATVMTDYRLHKNWITPYSTRYYVATKETKQDFIDVGIDPSTVKVTGIPIDNKFETPINQKQWLIDNNLDPDKQTILMSAGAFGVSKGFDTMITDILAKSANAQVVMICGKSKELKRSLIAKFKSNENVLILGYTKHMNEWMASSQLMITKPGGITITEGFARCIPMIFLNPAPGQELENALYFEEKGFGKIADTPEEAIKIVASLTNGNEQLTNMISTMEQDKIKYATQTICRDLLDLIGHSSQPQEIYGKVPLYARFFVK',\n",
       "   'existence': 'Inferred from homology',\n",
       "   'reviewed': 'reviewed',\n",
       "   'ec': '2.4.1.315',\n",
       "   'organism': 'Staphylococcus aureus (strain Mu50 / ATCC 700699)',\n",
       "   'name': 'Processive diacylglycerol beta-glucosyltransferase (EC 2.4.1.315) (Beta-diglucosyldiacylglycerol synthase) (Beta-DGS) (DGlcDAG synthase) (Glc2-DAG synthase) (Beta-gentiobiosyldiacylglycerol synthase) (Beta-monoglucosyldiacylglycerol synthase) (Beta-MGS) (MGlcDAG synthase) (Diglucosyl diacylglycerol synthase (1,6-linking)) (Glucosyl-beta-1,6-glucosyldiacylglycerol synthase) (UDP glucosyltransferase) (UDP-glucose:1,2-diacylglycerol-3-beta-D-glucosyltransferase)'},\n",
       "  {'uniprot_id': 'O81770',\n",
       "   'sequence': 'MQNPSTVTQESAAPVFDFFPRLRGLTSRNRSPCSNSDGYALSSSNALYFNGFRTLPSRRMGKTLASLSFNTKSSAGSSLRRFISDFNSFIRFHCDKVVPESFASVGGVGLSSDENGIRENGTGGVLGEEGLPLNGVEADRPKKVLILMSDTGGGHRASAEAIRAAFNQEFGDEYQVFITDLWTDHTPWPFNQLPRSYNFLVKHGTLWKMTYYGTSPRIVHQSNFAATSTFIAREIAQGLMKYQPDIIISVHPLMQHVPLRVLRSKGLLKKIVFTTVITDLSTCHPTWFHKLVTRCYCPSTEVAKRAQKAGLETSQIKVYGLPVRPSFVKPVRPKVELRRELGMDENLPAVLLMGGGEGMGPIEATARALADALYDKNLGEAVGQVLIICGRNKKLQSKLSSLDWKIPVQVKGFITKMEECMGACDCIITKAGPGTIAEAMIRGLPIILNGYIAGQEAGNVPYVVENGCGKFSKSPKEISKIVADWFGPASKELEIMSQNALRLAKPEAVFKIVHDMHELVRKKNSLPQLSCTA',\n",
       "   'existence': 'Evidence at protein level',\n",
       "   'reviewed': 'reviewed',\n",
       "   'ec': '2.4.1.46',\n",
       "   'organism': 'Arabidopsis thaliana (Mouse-ear cress)',\n",
       "   'name': 'Monogalactosyldiacylglycerol synthase 1, chloroplastic (AtMGD1) (EC 2.4.1.46) (MGDG synthase type A) (Protein EMBRYO DEFECTIVE 2797)'},\n",
       "  {'uniprot_id': 'Q0DWQ1',\n",
       "   'sequence': 'MAASSSSSSSMASPRGRSIRETVLETVAAYHQQQRMRRKFRKSLSYAGELSSAGRARGEGGASSSASTTSLCGPDEDDEPFWEEEEGTVELVQLGANRAKNVLILMSDTGGGHRASAQAIKDPFRIEFGDDYRVFVKDLCKDHAGWPLNNMESSYKFMVKHVQLWKVAFHTTSPRWVHCFYLAALASFYAKKVEAGLKKYKPDIIISVHPLMQHIPLWVLKWQGLQNRVVFVTVITDLNTCHPTWFHADVNRCYCPSEEVAKRAALDDLQPSQIRVFGLPIRPSFCRAVLVKDDLRKELELDPELPAVLLMGGGEGMGPVKKTAKALGESLFDKELGKPIGQLIVICGRNKTLSSSLQALEWKIPIKVRGFETQMEKWMGACDCIITKAGPGTIAEALIRGLPIILNDFIPGQEVGNVPYVVDNGAGVFSKSSRETAKLVARWFGPDSDELKRMSEKALKLAQPEAVFDIVRDIHELSREQGVISQISSSLTSSFFIPSPETTPIQLM',\n",
       "   'existence': 'Inferred from homology',\n",
       "   'reviewed': 'reviewed',\n",
       "   'ec': '2.4.1.46',\n",
       "   'organism': 'Oryza sativa subsp. japonica (Rice)',\n",
       "   'name': 'Probable monogalactosyldiacylglycerol synthase 3, chloroplastic (OsMGD3) (EC 2.4.1.46)'},\n",
       "  {'uniprot_id': 'Q73DZ5',\n",
       "   'sequence': 'MIKNPKVLILTAHYGNGHVQVAKTLEQTFRQKGIKDVIVCDLFGESHPVITDITKYLYLKSYTIGKELYRLFYYGVEKIYDKKIASWYANFGRKRLKLLLQAEKPDIVINTFPIIAVPELKKQTGISIPVYNVLTDFCVHKIWIHREVDRYFVATDHVKKVMVDIGVPAEQIVETGIPIRSSFELKINSDIIYNKYQLCKNKKILLIVAGAHGVLGSVKELCQSFMSVPDLQVVVVCGKNEALKQDLLGLQEKNPDALKVFGYVENIDELFRVTSCMITKPGGITLSEAAALQVPVILYKPVPGQENENAMYFERKGAAVVIRDDSEVFAKTEALLQDDMKLLQMKEAMKSIYRPEPADHIVDTILAENHVEPNHIPIKSPALAQSFT',\n",
       "   'existence': 'Inferred from homology',\n",
       "   'reviewed': 'reviewed',\n",
       "   'ec': '2.4.1.315',\n",
       "   'organism': 'Bacillus cereus (strain ATCC 10987 / NRS 248)',\n",
       "   'name': 'Processive diacylglycerol beta-glucosyltransferase (EC 2.4.1.315) (Beta-diglucosyldiacylglycerol synthase) (Beta-DGS) (DGlcDAG synthase) (Glc2-DAG synthase) (Beta-gentiobiosyldiacylglycerol synthase) (Beta-monoglucosyldiacylglycerol synthase) (Beta-MGS) (MGlcDAG synthase) (Beta-triglucosyldiacylglycerol synthase) (TGlcDAG synthase) (Diglucosyl diacylglycerol synthase (1,6-linking)) (Glucosyl-beta-1,6-glucosyldiacylglycerol synthase) (UDP glucosyltransferase) (UDP-glucose:1,2-diacylglycerol-3-beta-D-glucosyltransferase)'},\n",
       "  {'uniprot_id': 'Q7A6D2',\n",
       "   'sequence': 'MVTQNKKILIITGSFGNGHMQVTQSIVNQLNDMNLDHLSVIEHDLFMEAHPILTSICKKWYINSFKYFRNMYKGFYYSRPDKLDKCFYKYYGLNKLINLLIKEKPDLILLTFPTPVMSVLTEQFNINIPVATVMTDYRLHKNWITPYSTRYYVATKETKQDFIDVGIDPSTVKVTGIPIDNKFETPINQKQWLIDNNLDPDKQTILMSAGAFGVSKGFDTMITDILAKSANAQVVMICGKSKELKRSLIAKFKSNENVLILGYTKHMNEWMASSQLMITKPGGITITEGFARCIPMIFLNPAPGQELENALYFEEKGFGKIADTPEEAIKIVASLTNGNEQLTNMISTMEQDKIKYATQTICRDLLDLIGHSSQPQEIYGKVPLYARFFVK',\n",
       "   'existence': 'Inferred from homology',\n",
       "   'reviewed': 'reviewed',\n",
       "   'ec': '2.4.1.315',\n",
       "   'organism': 'Staphylococcus aureus (strain N315)',\n",
       "   'name': 'Processive diacylglycerol beta-glucosyltransferase (EC 2.4.1.315) (Beta-diglucosyldiacylglycerol synthase) (Beta-DGS) (DGlcDAG synthase) (Glc2-DAG synthase) (Beta-gentiobiosyldiacylglycerol synthase) (Beta-monoglucosyldiacylglycerol synthase) (Beta-MGS) (MGlcDAG synthase) (Diglucosyl diacylglycerol synthase (1,6-linking)) (Glucosyl-beta-1,6-glucosyldiacylglycerol synthase) (UDP glucosyltransferase) (UDP-glucose:1,2-diacylglycerol-3-beta-D-glucosyltransferase)'},\n",
       "  {'uniprot_id': 'A2YTP9',\n",
       "   'sequence': 'MVISVATPRRSIRDAVLGGVLGAGGRQLYQPLRCAFYDGAAGGGLTAALSEDGAEGGVPLPCGRKTAAAKNVLILMSDTGGGHRASAEALRDAFRLEFGDAYQVFVRDLGKEYGGWPLNDMERSYKFMIRHVRLWKVAFHGTSPRWVHGMYLAALAYFYANEVVAGIMRYNPDIIISVHPLMQHIPLWVLKWQSLHPKVPFVTVITDLNTCHPTWFHHGVTRCYCPSAEVAKRALLRGLEPSQIRVYGLPIRPSFCRAVLDKDELRKELDMDPDLPAVLLMGGGEGMGPVEETATALSDELYDRRRRRPVGQIVVICGRNQVLRSTLQSSRWNVPVKIRGFEKQMEKWMGACDCIITKAGPGTIAEALIRGLPIILNDFIPGQEVGNVPYVVDNGAGVFSKDPREAARQVARWFTTHTNELRRYSLNALKLAQPEAVFDIVKDIHKLQQQPATVTRIPYSLTSSFSYSI',\n",
       "   'existence': 'Inferred from homology',\n",
       "   'reviewed': 'reviewed',\n",
       "   'ec': '2.4.1.46',\n",
       "   'organism': 'Oryza sativa subsp. indica (Rice)',\n",
       "   'name': 'Probable monogalactosyldiacylglycerol synthase 2, chloroplastic (OsMGD2) (EC 2.4.1.46)'},\n",
       "  {'uniprot_id': 'B7HU46',\n",
       "   'sequence': 'MIKNPKVLILTAHYGNGHVQVAKTLEQTFRQKGIKDVIVCDLFGESHPVITDITKYLYLKSYTIGKELYRLFYYGVEKIYDKKIASWYANFGRKRLKLLLQAEKPDIVINTFPIIAVPELKKQTGISIPVYNVLTDFCVHKIWIHREVDRYFVATDHVKKVMVDIGVPAEQIVETGIPIRSSFELKINSDIIYNKYQLCKNKKILLIVAGAHGVLGSVKELCQSFMSVPDLQVVVVCGKNEALKQDLLGLQEKNPDALKVFGYVENIDELFRVTSCMITKPGGITLSEAAALQVPVILYKPVPGQENENAMYFERKGAAVVIRDDSEVFAKTEALLQDDMRLLQMKEAMKSIYRPEPADHIVDTILAENHVEPNHIPIKSPALAQSFT',\n",
       "   'existence': 'Inferred from homology',\n",
       "   'reviewed': 'reviewed',\n",
       "   'ec': '2.4.1.315',\n",
       "   'organism': 'Bacillus cereus (strain AH187)',\n",
       "   'name': 'Processive diacylglycerol beta-glucosyltransferase (EC 2.4.1.315) (Beta-diglucosyldiacylglycerol synthase) (Beta-DGS) (DGlcDAG synthase) (Glc2-DAG synthase) (Beta-gentiobiosyldiacylglycerol synthase) (Beta-monoglucosyldiacylglycerol synthase) (Beta-MGS) (MGlcDAG synthase) (Beta-triglucosyldiacylglycerol synthase) (TGlcDAG synthase) (Diglucosyl diacylglycerol synthase (1,6-linking)) (Glucosyl-beta-1,6-glucosyldiacylglycerol synthase) (UDP glucosyltransferase) (UDP-glucose:1,2-diacylglycerol-3-beta-D-glucosyltransferase)'},\n",
       "  {'uniprot_id': 'Q63GD0',\n",
       "   'sequence': 'MIKNPKVLILTAHYGNGHVQVAKTLEQTFRQKGIKDVIVCDLFGESHPVITDITKYLYLKSYTIGKELYRLFYYGVEKIYDKKIASWYANFGRKRLKLLLQAEKPDIVINTFPIIAVPELKKQTGISIPVYNVLTDFCVHKIWIHREVDRYFVATDHVKKVMVDIGVPAEQIVETGIPIRSSFELKINPDIIYNKYQLCKNKKILLIVAGAHGVLGSVKELCQSFMSVPDLQVVVVCGKNEALKQDLVGVQETNPDALKVFGYVENIDELFRVTSCMITKPGGITLSEAAALQVPVILYKPVPGQENENAMYFERKGAAVVIRDDSEVFAKTEALLKDDMKLLQMKEAMKSIYRPEPADHIVDTILAENHVEPNHIPIKSPALAQSFT',\n",
       "   'existence': 'Inferred from homology',\n",
       "   'reviewed': 'reviewed',\n",
       "   'ec': '2.4.1.315',\n",
       "   'organism': 'Bacillus cereus (strain ZK / E33L)',\n",
       "   'name': 'Processive diacylglycerol beta-glucosyltransferase (EC 2.4.1.315) (Beta-diglucosyldiacylglycerol synthase) (Beta-DGS) (DGlcDAG synthase) (Glc2-DAG synthase) (Beta-gentiobiosyldiacylglycerol synthase) (Beta-monoglucosyldiacylglycerol synthase) (Beta-MGS) (MGlcDAG synthase) (Beta-triglucosyldiacylglycerol synthase) (TGlcDAG synthase) (Diglucosyl diacylglycerol synthase (1,6-linking)) (Glucosyl-beta-1,6-glucosyldiacylglycerol synthase) (UDP glucosyltransferase) (UDP-glucose:1,2-diacylglycerol-3-beta-D-glucosyltransferase)'},\n",
       "  {'uniprot_id': 'Q6UTZ2',\n",
       "   'sequence': 'MVISVATPRRSIRDAVLGGVLGAGGRQLYQPLRCAFYDGAAGGGLTAALSEDGAEGGVPLPCGRKTAAAKNVLILMSDTGGGHRASAEALRDAFRLEFGDAYQVFVRDLGKEYGGWPLNDMERSYKFMIRHVRLWKVAFHGTSPRWVHGMYLAALAYFYANEVVAGIMRYNPDIIISVHPLMQHIPLWVLKWQSLHPKVPFVTVITDLNTCHPTWFHHGVTRCYCPSAEVAKRALLRGLEPSQIRVYGLPIRPSFCRAVLDKDELRKELDMDPDLPAVLLMGGGEGMGPVEETARALSDELYDRRRRRPVGQIVVICGRNQVLRSTLQSSRWNVPVKIRGFEKQMEKWMGACDCIITKAGPGTIAEALIRGLPIILNDFIPGQEVGNVPYVVDNGAGVFSKDPREAARQVARWFTTHTNELRRYSLNALKLAQPEAVFDIVKDIHKLQQQPATVTRIPYSLTSSFSYSI',\n",
       "   'existence': 'Evidence at transcript level',\n",
       "   'reviewed': 'reviewed',\n",
       "   'ec': '2.4.1.46',\n",
       "   'organism': 'Oryza sativa subsp. japonica (Rice)',\n",
       "   'name': 'Probable monogalactosyldiacylglycerol synthase 2, chloroplastic (OsMGD2) (EC 2.4.1.46)'},\n",
       "  {'uniprot_id': 'Q9SI93',\n",
       "   'sequence': 'MMKVVSPRTRSDSITEKVFRRVYSNFNISTVEDEYIHRQRSSDYEKESRLRKRGLEDKEEVMEMEQMGAERIKTVLILMSDTGGGHRASAEAIRDAFKIEFGDDYRIIIKDVWKEYTGWPLNDMERQYKFMVKHVGLWSVAFHGTSPKWIHKSYLSALAAYYAKEIEAGLMEYKPDIIISVHPLMQHIPLWVMKWQGLHKKVIFVTVITDLNTCHRTWFHHGVSRCYCPSKEVAKRALVDGLDDSQIRVFGLPVRPSFPRTILNKNELRKELEIDLNLPAVLLMGGGEGMGPVQKTALALGDSLYNSKESNPIGQLIVICGRNKVLASTLASHEWKIPVKVRGFETQMEKWMGACDCIITKAGPGTIAEALICGLPIILNDYIPGQEKGNVPYVVDNGAGVFTRSPKETAKIVADWFSNNKEELKKMSENALKLSQPEAVFDIVKDIHHLSQQQQRIPLFNEFSY',\n",
       "   'existence': 'Evidence at protein level',\n",
       "   'reviewed': 'reviewed',\n",
       "   'ec': '2.4.1.46',\n",
       "   'organism': 'Arabidopsis thaliana (Mouse-ear cress)',\n",
       "   'name': 'Monogalactosyldiacylglycerol synthase 3, chloroplastic (AtMGD3) (EC 2.4.1.46) (MGDG synthase type C)'},\n",
       "  {'uniprot_id': 'A7X0P5',\n",
       "   'sequence': 'MVTQNKKILIITGSFGNGHMQVTQSIVNQLNDMNLDHLSVIEHDLFMEAHPILTSICKKWYINSFKYFRNMYKGFYYSRPDKLDKCFYKYYGLNKLINLLIKEKPDLILLTFPTPVMSVLTEQFNINIPVATVMTDYRLHKNWITPYSTRYYVATKETKQDFIDVGIDPSTVKVTGIPIDNKFETPINQKQWLIDNNLDPDKQTILMSAGAFGVSKGFDTMITDILAKSANAQVVMICGKSKELKRSLIAKFKSNENVLILGYTKHMNEWMASSQLMITKPGGITITEGFARCIPMIFLNPAPGQELENALYFEEKGFGKIADTPEEAIKIVASLTNGNEQLTNMISTMEQDKIKYATQTICRDLLDLIGHSSQPQEIYGKVPLYARFFVK',\n",
       "   'existence': 'Inferred from homology',\n",
       "   'reviewed': 'reviewed',\n",
       "   'ec': '2.4.1.315',\n",
       "   'organism': 'Staphylococcus aureus (strain Mu3 / ATCC 700698)',\n",
       "   'name': 'Processive diacylglycerol beta-glucosyltransferase (EC 2.4.1.315) (Beta-diglucosyldiacylglycerol synthase) (Beta-DGS) (DGlcDAG synthase) (Glc2-DAG synthase) (Beta-gentiobiosyldiacylglycerol synthase) (Beta-monoglucosyldiacylglycerol synthase) (Beta-MGS) (MGlcDAG synthase) (Diglucosyl diacylglycerol synthase (1,6-linking)) (Glucosyl-beta-1,6-glucosyldiacylglycerol synthase) (UDP glucosyltransferase) (UDP-glucose:1,2-diacylglycerol-3-beta-D-glucosyltransferase)'},\n",
       "  {'uniprot_id': 'P75302',\n",
       "   'sequence': 'MNKLISILVPCYQSQPFLDRFFKSLLKQDWNGVKVIFFNDNKPDPTYEILKQFQQAHPQLAIEVHCGEKNVGVGGSRDQLINYVDTPYFYFVDPDDEFSDPNCFKAIVETIQGENFDIAVLNSIVYLQMLKNDFLIKHIPLKNIFQGKVKLNPDNTVNHLHYIQNNDQYIWNIVINTAFFKALDLQFVNRFIEDIAVWFPIMFKAQKVLWIDVNGVNYYLRPNSASTQKNSIKLLSFIEAYERLYFHLKKVGKLADFIDPNNKIESRFWRRQAFIWFSFINVSWMKAEFEQTKSVLQKLFDFMEANGIYDRVFTNKHHGIYLLWVNRLKHFKKLVQAQPHL',\n",
       "   'existence': 'Evidence at protein level',\n",
       "   'reviewed': 'reviewed',\n",
       "   'ec': '2.4.1.-',\n",
       "   'organism': 'Mycoplasma pneumoniae (strain ATCC 29342 / M129 / Subtype 1) (Mycoplasmoides pneumoniae)',\n",
       "   'name': 'Processive diacylglycerol beta-glycosyltransferase (EC 2.4.1.-) (Beta-monoglycosyldiacylglycerol synthase) (Beta-MGS) (MGlyDAG synthase) (Diglycosyldiacylglycerol synthase) (Beta-DGS) (DGlyDAG synthase) (Glycosyl-beta-1,6-galactosyldiacylglycerol synthase) (UDP-galactose:1,2-diacylglycerol 3-beta-D-galactosyltransferase) (UDP-glucose:1,2-diacylglycerol 3-beta-D-glucosyltransferase)'},\n",
       "  {'uniprot_id': 'Q49WE6',\n",
       "   'sequence': 'MVTQNKKILIITGSFGNGHLQVTQSVVNQFKEMNLDNLTVIEHDLFLEAHPILTSICKKWYINSFKYFRNMYKAFYYSQPDQLDKCFYKYYGLNKLMNLLLKEKPDLILLTFPTPVMSVLTEQFDMNIPIATVMTDYRMQKNWITPFSQRYYLATEELKDEFASIGIPKDKLKVTGIPISDKFETDIDKTAWLSQNHLDPDKPTILMSAGAFGVSKGFGQMIQEILNRSPHAQVVMICGKNKDLKRSLTSQFKDFNNVLILGYTKHMNEWMASSQLMITKPGGITISEALTRQIPMIFLDPAPGQELENAVYFEEKGYGRIANTPEAAIEQVAALTNAPTKLASMSESMDASRIPYSTYKLCKDLLNLLNHSSHYEEVYGKVPLYAKLFVK',\n",
       "   'existence': 'Inferred from homology',\n",
       "   'reviewed': 'reviewed',\n",
       "   'ec': '2.4.1.315',\n",
       "   'organism': 'Staphylococcus saprophyticus subsp. saprophyticus (strain ATCC 15305 / DSM 20229 / NCIMB 8711 / NCTC 7292 / S-41)',\n",
       "   'name': 'Processive diacylglycerol beta-glucosyltransferase (EC 2.4.1.315) (Beta-diglucosyldiacylglycerol synthase) (Beta-DGS) (DGlcDAG synthase) (Glc2-DAG synthase) (Beta-gentiobiosyldiacylglycerol synthase) (Beta-monoglucosyldiacylglycerol synthase) (Beta-MGS) (MGlcDAG synthase) (Diglucosyl diacylglycerol synthase (1,6-linking)) (Glucosyl-beta-1,6-glucosyldiacylglycerol synthase) (UDP glucosyltransferase) (UDP-glucose:1,2-diacylglycerol-3-beta-D-glucosyltransferase)'},\n",
       "  {'uniprot_id': 'Q5HQE7',\n",
       "   'sequence': 'MVTQNKKILIITGSFGNGHMQVTQSIVNQLNEMNLNHLSVIQHDLFMEAHPIMTSICKKWYINSFKYFRNTYKRFYYSRPNELDKCFYKYYGLNKLINLLIKEKPDLILLTFPTPVMSVLTEQFNINIPIATVMTDYRMHKNWITPYSQRYYVATKDTKDDFIEAGVPASYIKVTGIPIADKFEESIDKEEWLSQQHLDPSKPTILMSAGAFGVSKGFDYMINNILEKSPNSQVVMICGRSKELKRSLKAKFKDNPSVIILGYTNHMNEWMASSQLMITKPGGITISEGLSRCIPMIFLNPAPGQELENAYYFESKGFGKIADTPNEAIDIVSDLTNNEETLKVMSSKMLESKVGYSTRKICKDLLDLIGHSSQPDEIYGKVPLYARFFVK',\n",
       "   'existence': 'Inferred from homology',\n",
       "   'reviewed': 'reviewed',\n",
       "   'ec': '2.4.1.315',\n",
       "   'organism': 'Staphylococcus epidermidis (strain ATCC 35984 / RP62A)',\n",
       "   'name': 'Processive diacylglycerol beta-glucosyltransferase (EC 2.4.1.315) (Beta-diglucosyldiacylglycerol synthase) (Beta-DGS) (DGlcDAG synthase) (Glc2-DAG synthase) (Beta-gentiobiosyldiacylglycerol synthase) (Beta-monoglucosyldiacylglycerol synthase) (Beta-MGS) (MGlcDAG synthase) (Diglucosyl diacylglycerol synthase (1,6-linking)) (Glucosyl-beta-1,6-glucosyldiacylglycerol synthase) (UDP glucosyltransferase) (UDP-glucose:1,2-diacylglycerol-3-beta-D-glucosyltransferase)'},\n",
       "  {'uniprot_id': 'Q2FZP7',\n",
       "   'sequence': 'MVTQNKKILIITGSFGNGHMQVTQSIVNQLNDMNLDHLSVIEHDLFMEAHPILTSICKKWYINSFKYFRNMYKGFYYSRPDKLDKCFYKYYGLNKLINLLIKEKPDLILLTFPTPVMSVLTEQFNINIPVATVMTDYRLHKNWITPYSTRYYVATKETKQDFIDVGIDPSTVKVTGIPIDNKFETPINQKQWLIDNNLDPDKQTILMSAGAFGVSKGFDTMITDILAKSANAQVVMICGKSKELKRSLTAKFKSNENVLILGYTKHMNEWMASSQLMITKPGGITITEGFARCIPMIFLNPAPGQELENALYFEEKGFGKIADTPEEAIKIVASLTNGNEQLTNMISTMEQDKIKYATQTICRDLLDLIGHSSQPQEIYGKVPLYARFFVK',\n",
       "   'existence': 'Evidence at protein level',\n",
       "   'reviewed': 'reviewed',\n",
       "   'ec': '2.4.1.315',\n",
       "   'organism': 'Staphylococcus aureus (strain NCTC 8325 / PS 47)',\n",
       "   'name': 'Processive diacylglycerol beta-glucosyltransferase (EC 2.4.1.315) (Beta-diglucosyldiacylglycerol synthase) (Beta-DGS) (DGlcDAG synthase) (Glc2-DAG synthase) (Beta-gentiobiosyldiacylglycerol synthase) (Beta-monoglucosyldiacylglycerol synthase) (Beta-MGS) (MGlcDAG synthase) (Diglucosyl diacylglycerol synthase (1,6-linking)) (Glucosyl-beta-1,6-glucosyldiacylglycerol synthase) (UDP glucosyltransferase) (UDP-glucose:1,2-diacylglycerol-3-beta-D-glucosyltransferase)'},\n",
       "  {'uniprot_id': 'B9J2U2',\n",
       "   'sequence': 'MIKNPKVLILTAHYGNGHVQVAKTLEQTFRQKGIKDVIVCDLFGESHPVITDITKYLYLKSYTIGKELYRLFYYGVEKIYDKKIASWYANFGRKRLKLLLQAEKPDIVINTFPIIAVPELKKQTGISIPVYNVLTDFCVHKIWIHREVDRYFVATDHVKKVMVDIGVPAEQIVETGIPIRSSFELKINSDIIYNKYQLCKNKKILLIVAGAHGVLGSVKELCQSFMSVPDLQVVVVCGKNEALKQDLLGLQEKNPDALKVFGYVENIDELFRVTSCMITKPGGITLSEAAALQVPVILYKPVPGQENENAMYFERKGAAVVIRDDSEVFAKTEALLQDDMRLLQMKEAMKSIYRPEPADHIVDTILAENHVEPNHIPIKSPALAQSFT',\n",
       "   'existence': 'Inferred from homology',\n",
       "   'reviewed': 'reviewed',\n",
       "   'ec': '2.4.1.315',\n",
       "   'organism': 'Bacillus cereus (strain Q1)',\n",
       "   'name': 'Processive diacylglycerol beta-glucosyltransferase (EC 2.4.1.315) (Beta-diglucosyldiacylglycerol synthase) (Beta-DGS) (DGlcDAG synthase) (Glc2-DAG synthase) (Beta-gentiobiosyldiacylglycerol synthase) (Beta-monoglucosyldiacylglycerol synthase) (Beta-MGS) (MGlcDAG synthase) (Beta-triglucosyldiacylglycerol synthase) (TGlcDAG synthase) (Diglucosyl diacylglycerol synthase (1,6-linking)) (Glucosyl-beta-1,6-glucosyldiacylglycerol synthase) (UDP glucosyltransferase) (UDP-glucose:1,2-diacylglycerol-3-beta-D-glucosyltransferase)'},\n",
       "  {'uniprot_id': 'A8Z0C1',\n",
       "   'sequence': 'MVTQNKKILIITGSFGNGHMQVTQSIVNQLNDMNLDHLSVIEHDLFMEAHPILTSICKKWYINSFKYFRNMYKGFYYSRPDKLDKCFYKYYGLNKLINLLIKEKPDLILLTFPTPVMSVLTEQFNINIPVATVMTDYRLHKNWITPYSTRYYVATKETKQDFIDVGIDPSTVKVTGIPIDNKFETPINQKQWLIDNNLDPDKQTILMSAGAFGVSKGFDTMITDILAKSANAQVVMICGKSKELKRSLTAKFKSNENVLILGYTKHMNEWMASSQLMITKPGGITITEGFARCIPMIFLNPAPGQELENALYFEEKGFGKIADTPEEAIKIVASLTNGNEQLTNMISTMEQDKIKYATQTICRDLLDLIGHSSQPQEIYGKVPLYARFFVK',\n",
       "   'existence': 'Inferred from homology',\n",
       "   'reviewed': 'reviewed',\n",
       "   'ec': '2.4.1.315',\n",
       "   'organism': 'Staphylococcus aureus (strain USA300 / TCH1516)',\n",
       "   'name': 'Processive diacylglycerol beta-glucosyltransferase (EC 2.4.1.315) (Beta-diglucosyldiacylglycerol synthase) (Beta-DGS) (DGlcDAG synthase) (Glc2-DAG synthase) (Beta-gentiobiosyldiacylglycerol synthase) (Beta-monoglucosyldiacylglycerol synthase) (Beta-MGS) (MGlcDAG synthase) (Diglucosyl diacylglycerol synthase (1,6-linking)) (Glucosyl-beta-1,6-glucosyldiacylglycerol synthase) (UDP glucosyltransferase) (UDP-glucose:1,2-diacylglycerol-3-beta-D-glucosyltransferase)'},\n",
       "  {'uniprot_id': 'Q5HH69',\n",
       "   'sequence': 'MVTQNKKILIITGSFGNGHMQVTQSIVNQLNDMNLDHLSVIEHDLFMEAHPILTSICKKWYINSFKYFRNMYKGFYYSRPDKLDKCFYKYYGLNKLINLLIKEKPDLILLTFPTPVMSVLTEQFNINIPVATVMTDYRLHKNWITPYSTRYYVATKETKQDFIDVGIDPSTVKVTGIPIDNKFETPINQKQWLIDNNLDPDKQTILMSAGAFGVSKGFDTMITDILAKSANAQVVMICGKSKELKRSLTAKFKSNENVLILGYTKHMNEWMASSQLMITKPGGITITEGFARCIPMIFLNPAPGQELENALYFEEKGFGKIADTPEEAIKIVASLTNGNEQLTNMISTMEQDKIKYATQTICRDLLDLIGHSSQPQEIYGKVPLYARFFVK',\n",
       "   'existence': 'Evidence at protein level',\n",
       "   'reviewed': 'reviewed',\n",
       "   'ec': '2.4.1.315',\n",
       "   'organism': 'Staphylococcus aureus (strain COL)',\n",
       "   'name': 'Processive diacylglycerol beta-glucosyltransferase (EC 2.4.1.315) (Beta-diglucosyldiacylglycerol synthase) (Beta-DGS) (DGlcDAG synthase) (Glc2-DAG synthase) (Beta-gentiobiosyldiacylglycerol synthase) (Beta-monoglucosyldiacylglycerol synthase) (Beta-MGS) (MGlcDAG synthase) (Diglucosyl diacylglycerol synthase (1,6-linking)) (Glucosyl-beta-1,6-glucosyldiacylglycerol synthase) (UDP glucosyltransferase) (UDP-glucose:1,2-diacylglycerol-3-beta-D-glucosyltransferase)'},\n",
       "  {'uniprot_id': 'P74165',\n",
       "   'sequence': 'MPQFPWKDNDAELSPLEAFLAEWDDPEAEEEDFRNDFFRGSEGRRKKAAVMLMAIWTVVITLHYWVWGSWLVWALTGALSLQALRLMKATPEEAPPLLTGDASTVPYPQVCLMVAAKNEEAVIGKIVQQLCSLDYPGDRHEVWIVDDNSTDRTPAILDQLRQQYPQLKVVRRGAGASGGKSGALNEVLAQTQGDIVGVFDADANVPKDLLRRVVPYFASPTFGALQVRKAIANEAVNFWTRGQGAEMALDAYFQQQRIVTGGIGELRGNGQFVARQALDAVGGWNEQTITDDLDLTIRLHLHQWKVGILVNPPVEEEGVTTAIALWHQRNRWAEGGYQRYLDYWRWICTQPMGWKKKLDLFSFLLMQYLLPTAAVPDLLMALWQRRFPLLTPLSYLAIGFSCWGMYYGLKRLTPSEGESPWQQMPALLARTIGGTIYMFHWLIIMPAVTARMAFRPKRLKWVKTVHGAATEDALELKQS',\n",
       "   'existence': 'Evidence at protein level',\n",
       "   'reviewed': 'reviewed',\n",
       "   'ec': '2.4.1.336',\n",
       "   'organism': 'Synechocystis sp. (strain PCC 6803 / Kazusa)',\n",
       "   'name': 'Beta-monoglucosyldiacylglycerol synthase (Beta-MGS) (MGlcDAG synthase) (EC 2.4.1.336) (UDP-glucose:1,2-diacylglycerol 3-beta-D-glucosyltransferase)'},\n",
       "  {'uniprot_id': 'P54166',\n",
       "   'sequence': 'MNTNKRVLILTANYGNGHVQVAKTLYEQCVRLGFQHVTVSNLYQESNPIVSEVTQYLYLKSFSIGKQFYRLFYYGVDKIYNKRKFNIYFKMGNKRLGELVDEHQPDIIINTFPMIVVPEYRRRTGRVIPTFNVMTDFCLHKIWVHENVDKYYVATDYVKEKLLEIGTHPSNVKITGIPIRPQFEESMPVGPIYKKYNLSPNKKVLLIMAGAHGVLKNVKELCENLVKDDQVQVVVVCGKNTALKESLSALEAENGDKLKVLGYVERIDELFRITDCMITKPGGITLTEATAIGVPVILYKPVPGQEKENANFFEDRGAAIVVNRHEEILESVTSLLADEDTLHRMKKNIKDLHLANSSEVILEDILKESEMMTAKQKAKVLS',\n",
       "   'existence': 'Evidence at protein level',\n",
       "   'reviewed': 'reviewed',\n",
       "   'ec': '2.4.1.315',\n",
       "   'organism': 'Bacillus subtilis (strain 168)',\n",
       "   'name': 'Processive diacylglycerol beta-glucosyltransferase (EC 2.4.1.315) (Beta-diglucosyldiacylglycerol synthase) (Beta-DGS) (DGlcDAG synthase) (Glc2-DAG synthase) (Beta-gentiobiosyldiacylglycerol synthase) (Beta-monoglucosyldiacylglycerol synthase) (Beta-MGS) (MGlcDAG synthase) (Beta-triglucosyldiacylglycerol synthase) (TGlcDAG synthase) (Diglucosyl diacylglycerol synthase (1,6-linking)) (Glucosyl-beta-1,6-glucosyldiacylglycerol synthase) (UDP glucosyltransferase) (UDP-glucose:1,2-diacylglycerol-3-beta-D-glucosyltransferase)'},\n",
       "  {'uniprot_id': 'Q8CPR3',\n",
       "   'sequence': 'MVTQNKKILIITGSFGNGHMQVTQSIVNQLNEMNLNHLSVIQHDLFMEAHPIMTSICKKWYINSFKYFRNTYKRFYYSRPNELDKCFYKYYGLNKLINLLIKEKPDLILLTFPTPVMSVLTEQFNINIPIATVMTDYRMHKNWITPYSQRYYVATKDTKDDFIEAGVPASYIKVTGIPIADKFEESIDKEEWLSQQHLDPSKPTILMSAGAFGVSKGFDYMINNILEKSPNSQVVMICGRSKELKRSLKAKFKDNPSVKILGYTNHMNEWMASSQLMITKPGGITISEGLSRCIPMIFLNPAPGQELENAYYFESKGFGKIADTPNEAIDIVSDLTNNEETLKVMSSKMLESKVGYSTRKICKDLLDLIGHSSQPDEIYGKVPLYARFFVK',\n",
       "   'existence': 'Inferred from homology',\n",
       "   'reviewed': 'reviewed',\n",
       "   'ec': '2.4.1.315',\n",
       "   'organism': 'Staphylococcus epidermidis (strain ATCC 12228 / FDA PCI 1200)',\n",
       "   'name': 'Processive diacylglycerol beta-glucosyltransferase (EC 2.4.1.315) (Beta-diglucosyldiacylglycerol synthase) (Beta-DGS) (DGlcDAG synthase) (Glc2-DAG synthase) (Beta-gentiobiosyldiacylglycerol synthase) (Beta-monoglucosyldiacylglycerol synthase) (Beta-MGS) (MGlcDAG synthase) (Diglucosyl diacylglycerol synthase (1,6-linking)) (Glucosyl-beta-1,6-glucosyldiacylglycerol synthase) (UDP glucosyltransferase) (UDP-glucose:1,2-diacylglycerol-3-beta-D-glucosyltransferase)'},\n",
       "  {'uniprot_id': 'Q2YWW6',\n",
       "   'sequence': 'MVTQNKKILIITGSFGNGHMQVTQSIVNQLNDMNLDHLSVIEHDLFMEAHPILTSICKKWYINSFKYFRNMYKGFYYSRPDKLDKCFYKYYGLNKLINLLIKEKPDLILLTFPTPVMSVLTEQFNINIPVATVMTDYRLHKNWITPYSTRYYVATKETKKDFIDVGIDPSTVKVTGIPIDNKFETPINQKQWLIDNNLDPDKQTILMSAGAFGVSKGFDTMITDILAKSANAQVVMICGKSKELKRSLTAKFKSNENVLILGYTKHMNEWMASSQLMITKPGGITITEGFARCIPMIFLNPAPGQELENALYFEEKGFGKIADTPEEAIKIVASLTNGNEQLTNMISTMEQDKIKYATQTICRDLLDLIGHSSQPQEIYGKVPLYARFFVK',\n",
       "   'existence': 'Inferred from homology',\n",
       "   'reviewed': 'reviewed',\n",
       "   'ec': '2.4.1.315',\n",
       "   'organism': 'Staphylococcus aureus (strain bovine RF122 / ET3-1)',\n",
       "   'name': 'Processive diacylglycerol beta-glucosyltransferase (EC 2.4.1.315) (Beta-diglucosyldiacylglycerol synthase) (Beta-DGS) (DGlcDAG synthase) (Glc2-DAG synthase) (Beta-gentiobiosyldiacylglycerol synthase) (Beta-monoglucosyldiacylglycerol synthase) (Beta-MGS) (MGlcDAG synthase) (Diglucosyl diacylglycerol synthase (1,6-linking)) (Glucosyl-beta-1,6-glucosyldiacylglycerol synthase) (UDP glucosyltransferase) (UDP-glucose:1,2-diacylglycerol-3-beta-D-glucosyltransferase)'},\n",
       "  {'uniprot_id': 'B7JNE4',\n",
       "   'sequence': 'MIKNPKVLILTAHYGNGHVQVAKTLEQTFRQKGIKDVIVCDLFGESHPVITDITKYLYLKSYTIGKELYRLFYYGVEKIYDKKIASWYANFGRKRLKLLLQAEKPDIVINTFPIIAVPELKKQTGISIPVYNVLTDFCVHKIWIHREVDRYFVATDHVKKVMVDIGVPAEQIVETGIPIRSSFELKINPDIIYNKYQLCKNKKILLIVAGAHGVLGSVKELCQSFMSVPDLQVVVVCGKNEALKQDLVGVQETNPDALKVFGYVENIDELFRVTSCMITKPGGITLSEAAALQVPVILYKPVPGQENENAMYFERKGAAVVIRDDSEVFAKTEALLQDDMKLLQMKEAMKSIYRPEPADHIVDTILAENHVEPNHIPIKSPALAQSFT',\n",
       "   'existence': 'Inferred from homology',\n",
       "   'reviewed': 'reviewed',\n",
       "   'ec': '2.4.1.315',\n",
       "   'organism': 'Bacillus cereus (strain AH820)',\n",
       "   'name': 'Processive diacylglycerol beta-glucosyltransferase (EC 2.4.1.315) (Beta-diglucosyldiacylglycerol synthase) (Beta-DGS) (DGlcDAG synthase) (Glc2-DAG synthase) (Beta-gentiobiosyldiacylglycerol synthase) (Beta-monoglucosyldiacylglycerol synthase) (Beta-MGS) (MGlcDAG synthase) (Beta-triglucosyldiacylglycerol synthase) (TGlcDAG synthase) (Diglucosyl diacylglycerol synthase (1,6-linking)) (Glucosyl-beta-1,6-glucosyldiacylglycerol synthase) (UDP glucosyltransferase) (UDP-glucose:1,2-diacylglycerol-3-beta-D-glucosyltransferase)'},\n",
       "  {'uniprot_id': 'B9DQ98',\n",
       "   'sequence': 'MVTQNKKILIITGSFGNGHLQVTNSVVNQLNEMNLKHLSVIEHDLFMEAHPILTSICKKYYINSFKYFRNSYKQFYYSRPEDVNKCFYKYYGLNKLINLLIKEKPDLILLTFPTPVMSVLTEQFNMNIPIATVMTDYRLHKNWVTPHSSRYYVATPDLKQEFVNVGVPEDIIKITGIPISEQFDEDIDTKVWMHKNHLDPNRPTILMSAGAFGVSKGFDVMISDILERSPETQIVMICGRNKELKRALRQQFKEYANVLILGYTHHMNEWMASSHLMVTKPGGITISEALARKIPMIFLDPAPGQELENAHYFQSKGMGKIADTTEEAIQLITELTQDENALAHMAEQMQDLKVKYPTYKLCRDLLHLLDHSSQFEEIYGKVPMYAKLFIK',\n",
       "   'existence': 'Inferred from homology',\n",
       "   'reviewed': 'reviewed',\n",
       "   'ec': '2.4.1.315',\n",
       "   'organism': 'Staphylococcus carnosus (strain TM300)',\n",
       "   'name': 'Processive diacylglycerol beta-glucosyltransferase (EC 2.4.1.315) (Beta-diglucosyldiacylglycerol synthase) (Beta-DGS) (DGlcDAG synthase) (Glc2-DAG synthase) (Beta-gentiobiosyldiacylglycerol synthase) (Beta-monoglucosyldiacylglycerol synthase) (Beta-MGS) (MGlcDAG synthase) (Diglucosyl diacylglycerol synthase (1,6-linking)) (Glucosyl-beta-1,6-glucosyldiacylglycerol synthase) (UDP glucosyltransferase) (UDP-glucose:1,2-diacylglycerol-3-beta-D-glucosyltransferase)'},\n",
       "  {'uniprot_id': 'Q3MB01',\n",
       "   'sequence': 'MPANSWPDNDSYKELDPLNSLLSEVSTTEESVVETRDLSLPSRFQGRRGKAALVLTIVWSGTIALHLVSWGSIFILGLTTVLGIHALGVVFARPRHYQKEMQGSLPFVSILVAAKNEEAVIAKLARNLCNLEYPNGQYEVWIIDDNSSDKTPHILAELAKEYDKLKVLRRSAQATGGKSGALNQVLPLTQGEIIAVFDADAQVASDMLLHVVPLFQREKVGAVQVRKAIANAKENFWTKGQMAEMSLDIWFQQQRTALGGIGELRGNGQFVRRQALDSCGGWNEETITDDLDLTFRLHLDKWDIECLFYPAVQEEGVTTAIALWHQRNRWAEGGYQRYLDYWDLILKNRMGTRKTWDMLMFMLTMYILPTAAIPDLLMAVVRHRPPMLGPVTGLSVTMSVVGMFAGLRRIRQEQKFQVHTPFVLLLQTMRGTLYMLHWLVVMSSTTARMSFRPKRLKWVKTVHTGSGE',\n",
       "   'existence': 'Evidence at protein level',\n",
       "   'reviewed': 'reviewed',\n",
       "   'ec': '2.4.1.336',\n",
       "   'organism': 'Trichormus variabilis (strain ATCC 29413 / PCC 7937) (Anabaena variabilis)',\n",
       "   'name': 'Beta-monoglucosyldiacylglycerol synthase (Beta-MGS) (MGlcDAG synthase) (EC 2.4.1.336) (UDP-glucose:1,2-diacylglycerol 3-beta-D-glucosyltransferase)'},\n",
       "  {'uniprot_id': 'Q81YW9',\n",
       "   'sequence': 'MIKNPKVLILTAHYGNGHVQVAKTLEQTFRQKGIKDVIVCDLFGESHPVITDITKYLYLKSYTIGKELYRLFYYGVEKIYDKKIASWYANFGRKRLKLLLQAEKPDIVINTFPIIAVPELKKQTGISIPVYNVLTDFCVHKIWIHREVDRYFVATDHVKKVMVDIGVPAEQIVETGIPIRSSFELKINPDIIYNKYQLCKNKKILLIVAGAHGVLGSVKELCQSFMSVPDLQVVVVCGKNEALKQDLVGVQETNPDALKVFGYVENIDELFRVTSCMITKPGGITLSEAAALQVPVILYKPVPGQENENAMYFERKGAAVVIRDDSEVFAKTEALLQDDMKLLQMKEAMKSIYRPEPADHIVDTILAENHVEPNHIPIKSPALAQSFT',\n",
       "   'existence': 'Inferred from homology',\n",
       "   'reviewed': 'reviewed',\n",
       "   'ec': '2.4.1.315',\n",
       "   'organism': 'Bacillus anthracis',\n",
       "   'name': 'Processive diacylglycerol beta-glucosyltransferase (EC 2.4.1.315) (Beta-diglucosyldiacylglycerol synthase) (Beta-DGS) (DGlcDAG synthase) (Glc2-DAG synthase) (Beta-gentiobiosyldiacylglycerol synthase) (Beta-monoglucosyldiacylglycerol synthase) (Beta-MGS) (MGlcDAG synthase) (Beta-triglucosyldiacylglycerol synthase) (TGlcDAG synthase) (Diglucosyl diacylglycerol synthase (1,6-linking)) (Glucosyl-beta-1,6-glucosyldiacylglycerol synthase) (UDP glucosyltransferase) (UDP-glucose:1,2-diacylglycerol-3-beta-D-glucosyltransferase)'},\n",
       "  {'uniprot_id': 'Q2FI60',\n",
       "   'sequence': 'MVTQNKKILIITGSFGNGHMQVTQSIVNQLNDMNLDHLSVIEHDLFMEAHPILTSICKKWYINSFKYFRNMYKGFYYSRPDKLDKCFYKYYGLNKLINLLIKEKPDLILLTFPTPVMSVLTEQFNINIPVATVMTDYRLHKNWITPYSTRYYVATKETKQDFIDVGIDPSTVKVTGIPIDNKFETPINQKQWLIDNNLDPDKQTILMSAGAFGVSKGFDTMITDILAKSANAQVVMICGKSKELKRSLTAKFKSNENVLILGYTKHMNEWMASSQLMITKPGGITITEGFARCIPMIFLNPAPGQELENALYFEEKGFGKIADTPEEAIKIVASLTNGNEQLTNMISTMEQDKIKYATQTICRDLLDLIGHSSQPQEIYGKVPLYARFFVK',\n",
       "   'existence': 'Inferred from homology',\n",
       "   'reviewed': 'reviewed',\n",
       "   'ec': '2.4.1.315',\n",
       "   'organism': 'Staphylococcus aureus (strain USA300)',\n",
       "   'name': 'Processive diacylglycerol beta-glucosyltransferase (EC 2.4.1.315) (Beta-diglucosyldiacylglycerol synthase) (Beta-DGS) (DGlcDAG synthase) (Glc2-DAG synthase) (Beta-gentiobiosyldiacylglycerol synthase) (Beta-monoglucosyldiacylglycerol synthase) (Beta-MGS) (MGlcDAG synthase) (Diglucosyl diacylglycerol synthase (1,6-linking)) (Glucosyl-beta-1,6-glucosyldiacylglycerol synthase) (UDP glucosyltransferase) (UDP-glucose:1,2-diacylglycerol-3-beta-D-glucosyltransferase)'},\n",
       "  {'uniprot_id': 'Q8NXC3',\n",
       "   'sequence': 'MVTQNKKILIITGSFGNGHMQVTQSIVNQLNDMNLDHLSVIEHDLFMEAHPILTSICKKWYINSFKYFRNMYKGFYYSRPDKLDKCFYKYYGLNKLINLLIKEKPDLILLTFPTPVMSVLTEQFNINIPVATVMTDYRLHKNWITPYSTRYYVATKETKQDFIDVGIDPSTVKVTGIPIDNKFETPINQKQWLIDNNLDPDKQTILMSAGAFGVSKGFDTMITDILAKSANAQVVMICGKSKELKRSLTAKFKSNENVLILGYTKHMNEWMASSQLMITKPGGITITEGFARCIPMIFLNPAPGQELENALYFEEKGFGKIADTPEEAIKIVASLTNGNEQLTNMISTMEQDKIKYATQTICRDLLDLIGHSSQPQEIYGKVPLYARFFVK',\n",
       "   'existence': 'Inferred from homology',\n",
       "   'reviewed': 'reviewed',\n",
       "   'ec': '2.4.1.315',\n",
       "   'organism': 'Staphylococcus aureus (strain MW2)',\n",
       "   'name': 'Processive diacylglycerol beta-glucosyltransferase (EC 2.4.1.315) (Beta-diglucosyldiacylglycerol synthase) (Beta-DGS) (DGlcDAG synthase) (Glc2-DAG synthase) (Beta-gentiobiosyldiacylglycerol synthase) (Beta-monoglucosyldiacylglycerol synthase) (Beta-MGS) (MGlcDAG synthase) (Diglucosyl diacylglycerol synthase (1,6-linking)) (Glucosyl-beta-1,6-glucosyldiacylglycerol synthase) (UDP glucosyltransferase) (UDP-glucose:1,2-diacylglycerol-3-beta-D-glucosyltransferase)'},\n",
       "  {'uniprot_id': 'Q81IA1',\n",
       "   'sequence': 'MIKNPKVLILTAHYGNGHVQVAKTLEQTFRQKGIEDVIVCDLFGESHPFITDITKYLYLKSYTIGKELYRLFYYGVEKIYDKKIASWYANFGRKRLKTLLQVEKPDIVINTFPIIAVPELKKQTGISIPVYNVLTDFCVHKIWIHREVDRYFVATDHVKELMVDIGVPAEQIVETGIPIRSSFELKVNPEIIYTKYQLCKNKKILLIVAGAHGVLGNVKELCQSFMSVPNLQVVVVCGKNEALKQDLLSLQKQNSDALKVFGYVENIDELFRVTSCMITKPGGITLSEAAALQVPVILYKPVPGQENENAMYFERKGAAVVIRDDSEVFAKTEALLQDDVKLLQMKEAMKSIYLPEPAGHIVDAILAENHAEPRHIPIKSPALAQSFT',\n",
       "   'existence': 'Inferred from homology',\n",
       "   'reviewed': 'reviewed',\n",
       "   'ec': '2.4.1.315',\n",
       "   'organism': 'Bacillus cereus (strain ATCC 14579 / DSM 31 / CCUG 7414 / JCM 2152 / NBRC 15305 / NCIMB 9373 / NCTC 2599 / NRRL B-3711)',\n",
       "   'name': 'Processive diacylglycerol beta-glucosyltransferase (EC 2.4.1.315) (Beta-diglucosyldiacylglycerol synthase) (Beta-DGS) (DGlcDAG synthase) (Glc2-DAG synthase) (Beta-gentiobiosyldiacylglycerol synthase) (Beta-monoglucosyldiacylglycerol synthase) (Beta-MGS) (MGlcDAG synthase) (Beta-triglucosyldiacylglycerol synthase) (TGlcDAG synthase) (Diglucosyl diacylglycerol synthase (1,6-linking)) (Glucosyl-beta-1,6-glucosyldiacylglycerol synthase) (UDP glucosyltransferase) (UDP-glucose:1,2-diacylglycerol-3-beta-D-glucosyltransferase)'}],\n",
       " 'reaction_center': None,\n",
       " 'reverse': 6033,\n",
       " 'rhea_ids': [17287, 14947, 47614]}"
      ]
     },
     "execution_count": 60,
     "metadata": {},
     "output_type": "execute_result"
    }
   ],
   "source": [
    "# Spot checks\n",
    "\n",
    "rxnid += 1\n",
    "print(rxnid)\n",
    "krsv3[rxnid]\n"
   ]
  },
  {
   "cell_type": "code",
   "execution_count": 50,
   "metadata": {},
   "outputs": [
    {
     "data": {
      "image/png": "[encoded data removed]",
      "text/plain": [
       "<rdkit.Chem.rdChemReactions.ChemicalReaction at 0x7fe6f72aab70>"
      ]
     },
     "execution_count": 50,
     "metadata": {},
     "output_type": "execute_result"
    }
   ],
   "source": [
    "\n",
    "AllChem.ReactionFromSmarts(krsv3[rxnid]['smarts'], useSmiles=True)"
   ]
  },
  {
   "cell_type": "code",
   "execution_count": 62,
   "metadata": {},
   "outputs": [
    {
     "name": "stderr",
     "output_type": "stream",
     "text": [
      "[09:26:37] Initializing MetalDisconnector\n",
      "[09:26:37] Running MetalDisconnector\n",
      "[09:26:37] Removed covalent bond between Fe and N\n",
      "[09:26:37] Removed covalent bond between Fe and N\n",
      "[09:26:37] Removed covalent bond between Fe and N\n",
      "[09:26:37] Removed covalent bond between Fe and N\n",
      "[09:26:37] Initializing Normalizer\n",
      "[09:26:37] Running Normalizer\n",
      "[09:26:37] Initializing MetalDisconnector\n",
      "[09:26:37] Running MetalDisconnector\n",
      "[09:26:37] Initializing Normalizer\n",
      "[09:26:37] Running Normalizer\n",
      "[09:26:37] Running LargestFragmentChooser\n",
      "[09:26:37] Fragment: C=CC1=C(C)c2cc3[n-]c(cc4nc(cc5[n-]c(cc1n2)c(C)c5CCC(=O)[O-])C(CCC(=O)[O-])=C4C)c(C)c3C=C\n",
      "[09:26:37] New largest fragment: C=CC1=C(C)c2cc3[n-]c(cc4nc(cc5[n-]c(cc1n2)c(C)c5CCC(=O)[O-])C(CCC(=O)[O-])=C4C)c(C)c3C=C (72)\n",
      "[09:26:37] Fragment: [Fe+2]\n",
      "[09:26:37] Tautomer enumeration stopped at 364 tautomers: max transforms reached\n",
      "[09:26:37] Initializing MetalDisconnector\n",
      "[09:26:37] Running MetalDisconnector\n",
      "[09:26:37] Removed covalent bond between Fe and N\n",
      "[09:26:37] Removed covalent bond between Fe and N\n",
      "[09:26:37] Removed covalent bond between Fe and N\n",
      "[09:26:37] Removed covalent bond between Fe and N\n",
      "[09:26:37] Initializing Normalizer\n",
      "[09:26:37] Running Normalizer\n",
      "[09:26:37] Initializing MetalDisconnector\n",
      "[09:26:37] Running MetalDisconnector\n",
      "[09:26:37] Initializing Normalizer\n",
      "[09:26:37] Running Normalizer\n",
      "[09:26:37] Running LargestFragmentChooser\n",
      "[09:26:37] Fragment: C=CC1=C(C)c2cc3[n-]c(cc4nc(cc5[n-]c(cc1n2)c(C)c5CCC(=O)[O-])C(CCC(=O)[O-])=C4C)c(C)c3C=C\n",
      "[09:26:37] New largest fragment: C=CC1=C(C)c2cc3[n-]c(cc4nc(cc5[n-]c(cc1n2)c(C)c5CCC(=O)[O-])C(CCC(=O)[O-])=C4C)c(C)c3C=C (72)\n",
      "[09:26:37] Fragment: [Fe+2]\n"
     ]
    },
    {
     "name": "stdout",
     "output_type": "stream",
     "text": [
      "C=C1C(=CC)c2cc3[nH]c(cc4[nH]c(cc5nc(cc1n2)C(CC)=C5C)c(C)c4CCC(=O)O)c(C=CC(=O)O)c3C\n",
      "C=CC1=C(C)c2cc3[nH]c(cc4[nH]c(cc5nc(cc1n2)=C(C)C5=CCC(=O)O)c(CCC(=O)O)c4C)c(C)c3=CC\n",
      "C=C1C(=CC)c2cc3[nH]c(cc4[nH]c(cc5nc(cc1n2)C(CC)=C5C)c(C)c4CCC(=O)O)c(C=CC(=O)O)c3C\n"
     ]
    },
    {
     "name": "stderr",
     "output_type": "stream",
     "text": [
      "[09:26:38] Tautomer enumeration stopped at 410 tautomers: max transforms reached\n"
     ]
    }
   ],
   "source": [
    "print(standardize_smiles('C=CC1=C(C)/C2=C/C3=C(C=C)C(C)=C4/C=C5/C(C)=C(CCC(=O)[O-])C6=[N+]5[Fe-2]5(N43)N3C(=C6)C(CCC(=O)[O-])=C(C)/C3=C/C1=[N+]25', True))\n",
    "print(standardize_smiles(\"CC1=C(CCC([O-])=O)C2=[N+]3C1=Cc1c(C)c(C=C)c4C=C5C(C)=C(C=C)C6=[N+]5[Fe--]3(n14)n1c(=C6)c(C)c(CCC([O-])=O)c1=C2\", True))\n",
    "print('C=C1C(=CC)c2cc3[nH]c(cc4[nH]c(cc5nc(cc1n2)C(CC)=C5C)c(C)c4CCC(=O)O)c(C=CC(=O)O)c3C')"
   ]
  },
  {
   "cell_type": "code",
   "execution_count": 51,
   "metadata": {},
   "outputs": [],
   "source": [
    "# Check reverses are correct\n",
    "\n",
    "norev = []\n",
    "for k,v in krsv3.items():\n",
    "    smarts = v['smarts']\n",
    "    rev = v['reverse']\n",
    "    assert rev is not None\n",
    "    rev_smarts = smarts.split('>>')[1] + \">>\" + smarts.split('>>')[0]\n",
    "    assert rev_smarts == krsv3[rev]['smarts']"
   ]
  },
  {
   "cell_type": "code",
   "execution_count": 76,
   "metadata": {},
   "outputs": [],
   "source": [
    "# Check for transport reactions\n",
    "trans = []\n",
    "for k,v in krsv3.items():\n",
    "    if v['reverse'] == k:\n",
    "        trans.append(k)\n",
    "print(len(trans))"
   ]
  },
  {
   "cell_type": "markdown",
   "metadata": {},
   "source": [
    "# Add in operator mappings"
   ]
  },
  {
   "cell_type": "code",
   "execution_count": 108,
   "metadata": {},
   "outputs": [
    {
     "ename": "FileNotFoundError",
     "evalue": "[Errno 2] No such file or directory: '../artifacts/operator_mapping_sprhea_v3_min_ops_part_16.tsv'",
     "output_type": "error",
     "traceback": [
      "\u001b[0;31m---------------------------------------------------------------------------\u001b[0m",
      "\u001b[0;31mFileNotFoundError\u001b[0m                         Traceback (most recent call last)",
      "\u001b[0;32m/tmp/ipykernel_3020/3705396986.py\u001b[0m in \u001b[0;36m<module>\u001b[0;34m\u001b[0m\n\u001b[1;32m      7\u001b[0m         pd.read_csv(\n\u001b[1;32m      8\u001b[0m             \u001b[0mfilepath_or_buffer\u001b[0m\u001b[0;34m=\u001b[0m\u001b[0mpath\u001b[0m\u001b[0;34m,\u001b[0m\u001b[0;34m\u001b[0m\u001b[0;34m\u001b[0m\u001b[0m\n\u001b[0;32m----> 9\u001b[0;31m             \u001b[0msep\u001b[0m\u001b[0;34m=\u001b[0m\u001b[0;34m'\\t'\u001b[0m\u001b[0;34m\u001b[0m\u001b[0;34m\u001b[0m\u001b[0m\n\u001b[0m\u001b[1;32m     10\u001b[0m         ).set_index(\"Reaction ID\")\n\u001b[1;32m     11\u001b[0m     )\n",
      "\u001b[0;32m~/miniconda3/envs/mine/lib/python3.7/site-packages/pandas/util/_decorators.py\u001b[0m in \u001b[0;36mwrapper\u001b[0;34m(*args, **kwargs)\u001b[0m\n\u001b[1;32m    309\u001b[0m                     \u001b[0mstacklevel\u001b[0m\u001b[0;34m=\u001b[0m\u001b[0mstacklevel\u001b[0m\u001b[0;34m,\u001b[0m\u001b[0;34m\u001b[0m\u001b[0;34m\u001b[0m\u001b[0m\n\u001b[1;32m    310\u001b[0m                 )\n\u001b[0;32m--> 311\u001b[0;31m             \u001b[0;32mreturn\u001b[0m \u001b[0mfunc\u001b[0m\u001b[0;34m(\u001b[0m\u001b[0;34m*\u001b[0m\u001b[0margs\u001b[0m\u001b[0;34m,\u001b[0m \u001b[0;34m**\u001b[0m\u001b[0mkwargs\u001b[0m\u001b[0;34m)\u001b[0m\u001b[0;34m\u001b[0m\u001b[0;34m\u001b[0m\u001b[0m\n\u001b[0m\u001b[1;32m    312\u001b[0m \u001b[0;34m\u001b[0m\u001b[0m\n\u001b[1;32m    313\u001b[0m         \u001b[0;32mreturn\u001b[0m \u001b[0mwrapper\u001b[0m\u001b[0;34m\u001b[0m\u001b[0;34m\u001b[0m\u001b[0m\n",
      "\u001b[0;32m~/miniconda3/envs/mine/lib/python3.7/site-packages/pandas/io/parsers/readers.py\u001b[0m in \u001b[0;36mread_csv\u001b[0;34m(filepath_or_buffer, sep, delimiter, header, names, index_col, usecols, squeeze, prefix, mangle_dupe_cols, dtype, engine, converters, true_values, false_values, skipinitialspace, skiprows, skipfooter, nrows, na_values, keep_default_na, na_filter, verbose, skip_blank_lines, parse_dates, infer_datetime_format, keep_date_col, date_parser, dayfirst, cache_dates, iterator, chunksize, compression, thousands, decimal, lineterminator, quotechar, quoting, doublequote, escapechar, comment, encoding, encoding_errors, dialect, error_bad_lines, warn_bad_lines, on_bad_lines, delim_whitespace, low_memory, memory_map, float_precision, storage_options)\u001b[0m\n\u001b[1;32m    584\u001b[0m     \u001b[0mkwds\u001b[0m\u001b[0;34m.\u001b[0m\u001b[0mupdate\u001b[0m\u001b[0;34m(\u001b[0m\u001b[0mkwds_defaults\u001b[0m\u001b[0;34m)\u001b[0m\u001b[0;34m\u001b[0m\u001b[0;34m\u001b[0m\u001b[0m\n\u001b[1;32m    585\u001b[0m \u001b[0;34m\u001b[0m\u001b[0m\n\u001b[0;32m--> 586\u001b[0;31m     \u001b[0;32mreturn\u001b[0m \u001b[0m_read\u001b[0m\u001b[0;34m(\u001b[0m\u001b[0mfilepath_or_buffer\u001b[0m\u001b[0;34m,\u001b[0m \u001b[0mkwds\u001b[0m\u001b[0;34m)\u001b[0m\u001b[0;34m\u001b[0m\u001b[0;34m\u001b[0m\u001b[0m\n\u001b[0m\u001b[1;32m    587\u001b[0m \u001b[0;34m\u001b[0m\u001b[0m\n\u001b[1;32m    588\u001b[0m \u001b[0;34m\u001b[0m\u001b[0m\n",
      "\u001b[0;32m~/miniconda3/envs/mine/lib/python3.7/site-packages/pandas/io/parsers/readers.py\u001b[0m in \u001b[0;36m_read\u001b[0;34m(filepath_or_buffer, kwds)\u001b[0m\n\u001b[1;32m    480\u001b[0m \u001b[0;34m\u001b[0m\u001b[0m\n\u001b[1;32m    481\u001b[0m     \u001b[0;31m# Create the parser.\u001b[0m\u001b[0;34m\u001b[0m\u001b[0;34m\u001b[0m\u001b[0;34m\u001b[0m\u001b[0m\n\u001b[0;32m--> 482\u001b[0;31m     \u001b[0mparser\u001b[0m \u001b[0;34m=\u001b[0m \u001b[0mTextFileReader\u001b[0m\u001b[0;34m(\u001b[0m\u001b[0mfilepath_or_buffer\u001b[0m\u001b[0;34m,\u001b[0m \u001b[0;34m**\u001b[0m\u001b[0mkwds\u001b[0m\u001b[0;34m)\u001b[0m\u001b[0;34m\u001b[0m\u001b[0;34m\u001b[0m\u001b[0m\n\u001b[0m\u001b[1;32m    483\u001b[0m \u001b[0;34m\u001b[0m\u001b[0m\n\u001b[1;32m    484\u001b[0m     \u001b[0;32mif\u001b[0m \u001b[0mchunksize\u001b[0m \u001b[0;32mor\u001b[0m \u001b[0miterator\u001b[0m\u001b[0;34m:\u001b[0m\u001b[0;34m\u001b[0m\u001b[0;34m\u001b[0m\u001b[0m\n",
      "\u001b[0;32m~/miniconda3/envs/mine/lib/python3.7/site-packages/pandas/io/parsers/readers.py\u001b[0m in \u001b[0;36m__init__\u001b[0;34m(self, f, engine, **kwds)\u001b[0m\n\u001b[1;32m    809\u001b[0m             \u001b[0mself\u001b[0m\u001b[0;34m.\u001b[0m\u001b[0moptions\u001b[0m\u001b[0;34m[\u001b[0m\u001b[0;34m\"has_index_names\"\u001b[0m\u001b[0;34m]\u001b[0m \u001b[0;34m=\u001b[0m \u001b[0mkwds\u001b[0m\u001b[0;34m[\u001b[0m\u001b[0;34m\"has_index_names\"\u001b[0m\u001b[0;34m]\u001b[0m\u001b[0;34m\u001b[0m\u001b[0;34m\u001b[0m\u001b[0m\n\u001b[1;32m    810\u001b[0m \u001b[0;34m\u001b[0m\u001b[0m\n\u001b[0;32m--> 811\u001b[0;31m         \u001b[0mself\u001b[0m\u001b[0;34m.\u001b[0m\u001b[0m_engine\u001b[0m \u001b[0;34m=\u001b[0m \u001b[0mself\u001b[0m\u001b[0;34m.\u001b[0m\u001b[0m_make_engine\u001b[0m\u001b[0;34m(\u001b[0m\u001b[0mself\u001b[0m\u001b[0;34m.\u001b[0m\u001b[0mengine\u001b[0m\u001b[0;34m)\u001b[0m\u001b[0;34m\u001b[0m\u001b[0;34m\u001b[0m\u001b[0m\n\u001b[0m\u001b[1;32m    812\u001b[0m \u001b[0;34m\u001b[0m\u001b[0m\n\u001b[1;32m    813\u001b[0m     \u001b[0;32mdef\u001b[0m \u001b[0mclose\u001b[0m\u001b[0;34m(\u001b[0m\u001b[0mself\u001b[0m\u001b[0;34m)\u001b[0m\u001b[0;34m:\u001b[0m\u001b[0;34m\u001b[0m\u001b[0;34m\u001b[0m\u001b[0m\n",
      "\u001b[0;32m~/miniconda3/envs/mine/lib/python3.7/site-packages/pandas/io/parsers/readers.py\u001b[0m in \u001b[0;36m_make_engine\u001b[0;34m(self, engine)\u001b[0m\n\u001b[1;32m   1038\u001b[0m             )\n\u001b[1;32m   1039\u001b[0m         \u001b[0;31m# error: Too many arguments for \"ParserBase\"\u001b[0m\u001b[0;34m\u001b[0m\u001b[0;34m\u001b[0m\u001b[0;34m\u001b[0m\u001b[0m\n\u001b[0;32m-> 1040\u001b[0;31m         \u001b[0;32mreturn\u001b[0m \u001b[0mmapping\u001b[0m\u001b[0;34m[\u001b[0m\u001b[0mengine\u001b[0m\u001b[0;34m]\u001b[0m\u001b[0;34m(\u001b[0m\u001b[0mself\u001b[0m\u001b[0;34m.\u001b[0m\u001b[0mf\u001b[0m\u001b[0;34m,\u001b[0m \u001b[0;34m**\u001b[0m\u001b[0mself\u001b[0m\u001b[0;34m.\u001b[0m\u001b[0moptions\u001b[0m\u001b[0;34m)\u001b[0m  \u001b[0;31m# type: ignore[call-arg]\u001b[0m\u001b[0;34m\u001b[0m\u001b[0;34m\u001b[0m\u001b[0m\n\u001b[0m\u001b[1;32m   1041\u001b[0m \u001b[0;34m\u001b[0m\u001b[0m\n\u001b[1;32m   1042\u001b[0m     \u001b[0;32mdef\u001b[0m \u001b[0m_failover_to_python\u001b[0m\u001b[0;34m(\u001b[0m\u001b[0mself\u001b[0m\u001b[0;34m)\u001b[0m\u001b[0;34m:\u001b[0m\u001b[0;34m\u001b[0m\u001b[0;34m\u001b[0m\u001b[0m\n",
      "\u001b[0;32m~/miniconda3/envs/mine/lib/python3.7/site-packages/pandas/io/parsers/c_parser_wrapper.py\u001b[0m in \u001b[0;36m__init__\u001b[0;34m(self, src, **kwds)\u001b[0m\n\u001b[1;32m     49\u001b[0m \u001b[0;34m\u001b[0m\u001b[0m\n\u001b[1;32m     50\u001b[0m         \u001b[0;31m# open handles\u001b[0m\u001b[0;34m\u001b[0m\u001b[0;34m\u001b[0m\u001b[0;34m\u001b[0m\u001b[0m\n\u001b[0;32m---> 51\u001b[0;31m         \u001b[0mself\u001b[0m\u001b[0;34m.\u001b[0m\u001b[0m_open_handles\u001b[0m\u001b[0;34m(\u001b[0m\u001b[0msrc\u001b[0m\u001b[0;34m,\u001b[0m \u001b[0mkwds\u001b[0m\u001b[0;34m)\u001b[0m\u001b[0;34m\u001b[0m\u001b[0;34m\u001b[0m\u001b[0m\n\u001b[0m\u001b[1;32m     52\u001b[0m         \u001b[0;32massert\u001b[0m \u001b[0mself\u001b[0m\u001b[0;34m.\u001b[0m\u001b[0mhandles\u001b[0m \u001b[0;32mis\u001b[0m \u001b[0;32mnot\u001b[0m \u001b[0;32mNone\u001b[0m\u001b[0;34m\u001b[0m\u001b[0;34m\u001b[0m\u001b[0m\n\u001b[1;32m     53\u001b[0m \u001b[0;34m\u001b[0m\u001b[0m\n",
      "\u001b[0;32m~/miniconda3/envs/mine/lib/python3.7/site-packages/pandas/io/parsers/base_parser.py\u001b[0m in \u001b[0;36m_open_handles\u001b[0;34m(self, src, kwds)\u001b[0m\n\u001b[1;32m    227\u001b[0m             \u001b[0mmemory_map\u001b[0m\u001b[0;34m=\u001b[0m\u001b[0mkwds\u001b[0m\u001b[0;34m.\u001b[0m\u001b[0mget\u001b[0m\u001b[0;34m(\u001b[0m\u001b[0;34m\"memory_map\"\u001b[0m\u001b[0;34m,\u001b[0m \u001b[0;32mFalse\u001b[0m\u001b[0;34m)\u001b[0m\u001b[0;34m,\u001b[0m\u001b[0;34m\u001b[0m\u001b[0;34m\u001b[0m\u001b[0m\n\u001b[1;32m    228\u001b[0m             \u001b[0mstorage_options\u001b[0m\u001b[0;34m=\u001b[0m\u001b[0mkwds\u001b[0m\u001b[0;34m.\u001b[0m\u001b[0mget\u001b[0m\u001b[0;34m(\u001b[0m\u001b[0;34m\"storage_options\"\u001b[0m\u001b[0;34m,\u001b[0m \u001b[0;32mNone\u001b[0m\u001b[0;34m)\u001b[0m\u001b[0;34m,\u001b[0m\u001b[0;34m\u001b[0m\u001b[0;34m\u001b[0m\u001b[0m\n\u001b[0;32m--> 229\u001b[0;31m             \u001b[0merrors\u001b[0m\u001b[0;34m=\u001b[0m\u001b[0mkwds\u001b[0m\u001b[0;34m.\u001b[0m\u001b[0mget\u001b[0m\u001b[0;34m(\u001b[0m\u001b[0;34m\"encoding_errors\"\u001b[0m\u001b[0;34m,\u001b[0m \u001b[0;34m\"strict\"\u001b[0m\u001b[0;34m)\u001b[0m\u001b[0;34m,\u001b[0m\u001b[0;34m\u001b[0m\u001b[0;34m\u001b[0m\u001b[0m\n\u001b[0m\u001b[1;32m    230\u001b[0m         )\n\u001b[1;32m    231\u001b[0m \u001b[0;34m\u001b[0m\u001b[0m\n",
      "\u001b[0;32m~/miniconda3/envs/mine/lib/python3.7/site-packages/pandas/io/common.py\u001b[0m in \u001b[0;36mget_handle\u001b[0;34m(path_or_buf, mode, encoding, compression, memory_map, is_text, errors, storage_options)\u001b[0m\n\u001b[1;32m    705\u001b[0m                 \u001b[0mencoding\u001b[0m\u001b[0;34m=\u001b[0m\u001b[0mioargs\u001b[0m\u001b[0;34m.\u001b[0m\u001b[0mencoding\u001b[0m\u001b[0;34m,\u001b[0m\u001b[0;34m\u001b[0m\u001b[0;34m\u001b[0m\u001b[0m\n\u001b[1;32m    706\u001b[0m                 \u001b[0merrors\u001b[0m\u001b[0;34m=\u001b[0m\u001b[0merrors\u001b[0m\u001b[0;34m,\u001b[0m\u001b[0;34m\u001b[0m\u001b[0;34m\u001b[0m\u001b[0m\n\u001b[0;32m--> 707\u001b[0;31m                 \u001b[0mnewline\u001b[0m\u001b[0;34m=\u001b[0m\u001b[0;34m\"\"\u001b[0m\u001b[0;34m,\u001b[0m\u001b[0;34m\u001b[0m\u001b[0;34m\u001b[0m\u001b[0m\n\u001b[0m\u001b[1;32m    708\u001b[0m             )\n\u001b[1;32m    709\u001b[0m         \u001b[0;32melse\u001b[0m\u001b[0;34m:\u001b[0m\u001b[0;34m\u001b[0m\u001b[0;34m\u001b[0m\u001b[0m\n",
      "\u001b[0;31mFileNotFoundError\u001b[0m: [Errno 2] No such file or directory: '../artifacts/operator_mapping_sprhea_v3_min_ops_part_16.tsv'"
     ]
    }
   ],
   "source": [
    "n_chunks = 20\n",
    "\n",
    "tmp = []\n",
    "for i in range(n_chunks):\n",
    "    path = f\"../artifacts/operator_mapping_sprhea_v3_min_ops_part_{i}.tsv\"\n",
    "    tmp.append(\n",
    "        pd.read_csv(\n",
    "            filepath_or_buffer=path,\n",
    "            sep='\\t'\n",
    "        ).set_index(\"Reaction ID\")\n",
    "    )\n",
    "\n",
    "map_res = pd.concat(tmp)\n",
    "map_res.head()"
   ]
  },
  {
   "cell_type": "markdown",
   "metadata": {},
   "source": [
    "# Handle subunits"
   ]
  },
  {
   "cell_type": "code",
   "execution_count": 2,
   "metadata": {},
   "outputs": [
    {
     "data": {
      "text/html": [
       "<div>\n",
       "<style scoped>\n",
       "    .dataframe tbody tr th:only-of-type {\n",
       "        vertical-align: middle;\n",
       "    }\n",
       "\n",
       "    .dataframe tbody tr th {\n",
       "        vertical-align: top;\n",
       "    }\n",
       "\n",
       "    .dataframe thead th {\n",
       "        text-align: right;\n",
       "    }\n",
       "</style>\n",
       "<table border=\"1\" class=\"dataframe\">\n",
       "  <thead>\n",
       "    <tr style=\"text-align: right;\">\n",
       "      <th></th>\n",
       "      <th>Reviewed</th>\n",
       "      <th>Protein names</th>\n",
       "      <th>Organism</th>\n",
       "      <th>Protein existence</th>\n",
       "      <th>Sequence</th>\n",
       "      <th>Catalytic activity</th>\n",
       "      <th>EC number</th>\n",
       "    </tr>\n",
       "    <tr>\n",
       "      <th>Entry</th>\n",
       "      <th></th>\n",
       "      <th></th>\n",
       "      <th></th>\n",
       "      <th></th>\n",
       "      <th></th>\n",
       "      <th></th>\n",
       "      <th></th>\n",
       "    </tr>\n",
       "  </thead>\n",
       "  <tbody>\n",
       "    <tr>\n",
       "      <th>A0A009IHW8</th>\n",
       "      <td>reviewed</td>\n",
       "      <td>2' cyclic ADP-D-ribose synthase AbTIR (2'cADPR...</td>\n",
       "      <td>Acinetobacter baumannii (strain 1295743)</td>\n",
       "      <td>Evidence at protein level</td>\n",
       "      <td>MSLEQKKGADIISKILQIQNSIGKTTSPSTLKTKLSEISRKEQENA...</td>\n",
       "      <td>CATALYTIC ACTIVITY: Reaction=NAD(+) = 2'cADPR ...</td>\n",
       "      <td>3.2.2.-; 3.2.2.6</td>\n",
       "    </tr>\n",
       "    <tr>\n",
       "      <th>A0A023I7E1</th>\n",
       "      <td>reviewed</td>\n",
       "      <td>Glucan endo-1,3-beta-D-glucosidase 1 (Endo-1,3...</td>\n",
       "      <td>Rhizomucor miehei</td>\n",
       "      <td>Evidence at protein level</td>\n",
       "      <td>MRFQVIVAAATITMITSYIPGVASQSTSDGDDLFVPVSNFDPKSIF...</td>\n",
       "      <td>CATALYTIC ACTIVITY: Reaction=Hydrolysis of (1-...</td>\n",
       "      <td>3.2.1.39</td>\n",
       "    </tr>\n",
       "    <tr>\n",
       "      <th>A0A024B7W1</th>\n",
       "      <td>reviewed</td>\n",
       "      <td>Genome polyprotein [Cleaved into: Capsid prote...</td>\n",
       "      <td>Zika virus (isolate ZIKV/Human/French Polynesi...</td>\n",
       "      <td>Evidence at protein level</td>\n",
       "      <td>MKNPKKKSGGFRIVNMLKRGVARVSPFGGLKRLPAGLLLGHGPIRM...</td>\n",
       "      <td>CATALYTIC ACTIVITY: [RNA-directed RNA polymera...</td>\n",
       "      <td>2.1.1.56; 2.1.1.57; 2.7.7.48; 3.4.21.91; 3.6.1...</td>\n",
       "    </tr>\n",
       "    <tr>\n",
       "      <th>A0A024SC78</th>\n",
       "      <td>reviewed</td>\n",
       "      <td>Cutinase (EC 3.1.1.74)</td>\n",
       "      <td>Hypocrea jecorina (strain ATCC 56765 / BCRC 32...</td>\n",
       "      <td>Evidence at protein level</td>\n",
       "      <td>MRSLAILTTLLAGHAFAYPKPAPQSVNRRDWPSINEFLSELAKVMP...</td>\n",
       "      <td>CATALYTIC ACTIVITY: Reaction=cutin + H2O = cut...</td>\n",
       "      <td>3.1.1.74</td>\n",
       "    </tr>\n",
       "    <tr>\n",
       "      <th>A0A024SH76</th>\n",
       "      <td>reviewed</td>\n",
       "      <td>Exoglucanase 2 (EC 3.2.1.91) (1,4-beta-cellobi...</td>\n",
       "      <td>Hypocrea jecorina (strain ATCC 56765 / BCRC 32...</td>\n",
       "      <td>Evidence at protein level</td>\n",
       "      <td>MIVGILTTLATLATLAASVPLEERQACSSVWGQCGGQNWSGPTCCA...</td>\n",
       "      <td>CATALYTIC ACTIVITY: Reaction=Hydrolysis of (1-...</td>\n",
       "      <td>3.2.1.91</td>\n",
       "    </tr>\n",
       "  </tbody>\n",
       "</table>\n",
       "</div>"
      ],
      "text/plain": [
       "            Reviewed                                      Protein names  \\\n",
       "Entry                                                                     \n",
       "A0A009IHW8  reviewed  2' cyclic ADP-D-ribose synthase AbTIR (2'cADPR...   \n",
       "A0A023I7E1  reviewed  Glucan endo-1,3-beta-D-glucosidase 1 (Endo-1,3...   \n",
       "A0A024B7W1  reviewed  Genome polyprotein [Cleaved into: Capsid prote...   \n",
       "A0A024SC78  reviewed                             Cutinase (EC 3.1.1.74)   \n",
       "A0A024SH76  reviewed  Exoglucanase 2 (EC 3.2.1.91) (1,4-beta-cellobi...   \n",
       "\n",
       "                                                     Organism  \\\n",
       "Entry                                                           \n",
       "A0A009IHW8           Acinetobacter baumannii (strain 1295743)   \n",
       "A0A023I7E1                                  Rhizomucor miehei   \n",
       "A0A024B7W1  Zika virus (isolate ZIKV/Human/French Polynesi...   \n",
       "A0A024SC78  Hypocrea jecorina (strain ATCC 56765 / BCRC 32...   \n",
       "A0A024SH76  Hypocrea jecorina (strain ATCC 56765 / BCRC 32...   \n",
       "\n",
       "                    Protein existence  \\\n",
       "Entry                                   \n",
       "A0A009IHW8  Evidence at protein level   \n",
       "A0A023I7E1  Evidence at protein level   \n",
       "A0A024B7W1  Evidence at protein level   \n",
       "A0A024SC78  Evidence at protein level   \n",
       "A0A024SH76  Evidence at protein level   \n",
       "\n",
       "                                                     Sequence  \\\n",
       "Entry                                                           \n",
       "A0A009IHW8  MSLEQKKGADIISKILQIQNSIGKTTSPSTLKTKLSEISRKEQENA...   \n",
       "A0A023I7E1  MRFQVIVAAATITMITSYIPGVASQSTSDGDDLFVPVSNFDPKSIF...   \n",
       "A0A024B7W1  MKNPKKKSGGFRIVNMLKRGVARVSPFGGLKRLPAGLLLGHGPIRM...   \n",
       "A0A024SC78  MRSLAILTTLLAGHAFAYPKPAPQSVNRRDWPSINEFLSELAKVMP...   \n",
       "A0A024SH76  MIVGILTTLATLATLAASVPLEERQACSSVWGQCGGQNWSGPTCCA...   \n",
       "\n",
       "                                           Catalytic activity  \\\n",
       "Entry                                                           \n",
       "A0A009IHW8  CATALYTIC ACTIVITY: Reaction=NAD(+) = 2'cADPR ...   \n",
       "A0A023I7E1  CATALYTIC ACTIVITY: Reaction=Hydrolysis of (1-...   \n",
       "A0A024B7W1  CATALYTIC ACTIVITY: [RNA-directed RNA polymera...   \n",
       "A0A024SC78  CATALYTIC ACTIVITY: Reaction=cutin + H2O = cut...   \n",
       "A0A024SH76  CATALYTIC ACTIVITY: Reaction=Hydrolysis of (1-...   \n",
       "\n",
       "                                                    EC number  \n",
       "Entry                                                          \n",
       "A0A009IHW8                                   3.2.2.-; 3.2.2.6  \n",
       "A0A023I7E1                                           3.2.1.39  \n",
       "A0A024B7W1  2.1.1.56; 2.1.1.57; 2.7.7.48; 3.4.21.91; 3.6.1...  \n",
       "A0A024SC78                                           3.1.1.74  \n",
       "A0A024SH76                                           3.2.1.91  "
      ]
     },
     "execution_count": 2,
     "metadata": {},
     "output_type": "execute_result"
    }
   ],
   "source": [
    "path = \"../data/sprhea/uniprotkb_reviewed_true_AND_proteins_wi_2024_02_29.tsv\"\n",
    "df = pd.read_csv(path, sep='\\t')\n",
    "df.set_index(\"Entry\", inplace=True)\n",
    "df.head()"
   ]
  },
  {
   "cell_type": "code",
   "execution_count": 3,
   "metadata": {},
   "outputs": [
    {
     "data": {
      "text/plain": [
       "254456"
      ]
     },
     "execution_count": 3,
     "metadata": {},
     "output_type": "execute_result"
    }
   ],
   "source": [
    "len(df)"
   ]
  },
  {
   "cell_type": "code",
   "execution_count": 4,
   "metadata": {},
   "outputs": [],
   "source": [
    "nanless = df.loc[~df['Protein names'].isna()]\n",
    "subunits = nanless.loc[nanless['Protein names'].str.contains('subunit')].sort_values(by='Protein names')"
   ]
  },
  {
   "cell_type": "code",
   "execution_count": 8,
   "metadata": {},
   "outputs": [
    {
     "name": "stdout",
     "output_type": "stream",
     "text": [
      "40097\n"
     ]
    },
    {
     "data": {
      "text/html": [
       "<div>\n",
       "<style scoped>\n",
       "    .dataframe tbody tr th:only-of-type {\n",
       "        vertical-align: middle;\n",
       "    }\n",
       "\n",
       "    .dataframe tbody tr th {\n",
       "        vertical-align: top;\n",
       "    }\n",
       "\n",
       "    .dataframe thead th {\n",
       "        text-align: right;\n",
       "    }\n",
       "</style>\n",
       "<table border=\"1\" class=\"dataframe\">\n",
       "  <thead>\n",
       "    <tr style=\"text-align: right;\">\n",
       "      <th></th>\n",
       "      <th>Reviewed</th>\n",
       "      <th>Protein names</th>\n",
       "      <th>Organism</th>\n",
       "      <th>Protein existence</th>\n",
       "      <th>Sequence</th>\n",
       "      <th>Catalytic activity</th>\n",
       "      <th>EC number</th>\n",
       "    </tr>\n",
       "    <tr>\n",
       "      <th>Entry</th>\n",
       "      <th></th>\n",
       "      <th></th>\n",
       "      <th></th>\n",
       "      <th></th>\n",
       "      <th></th>\n",
       "      <th></th>\n",
       "      <th></th>\n",
       "    </tr>\n",
       "  </thead>\n",
       "  <tbody>\n",
       "    <tr>\n",
       "      <th>Q1QWP1</th>\n",
       "      <td>reviewed</td>\n",
       "      <td>(2R)-sulfolactate sulfo-lyase subunit alpha (E...</td>\n",
       "      <td>Chromohalobacter salexigens (strain ATCC BAA-1...</td>\n",
       "      <td>Evidence at protein level</td>\n",
       "      <td>MSIDFVVHDADDAVGVVVVEGVEAGQMLTGWVMDQDRTLQFEVKDA...</td>\n",
       "      <td>CATALYTIC ACTIVITY: Reaction=(2R)-3-sulfolacta...</td>\n",
       "      <td>4.4.1.24</td>\n",
       "    </tr>\n",
       "    <tr>\n",
       "      <th>Q58Y44</th>\n",
       "      <td>reviewed</td>\n",
       "      <td>(2R)-sulfolactate sulfo-lyase subunit alpha (E...</td>\n",
       "      <td>Paracoccus pantotrophus (Thiosphaera pantotropha)</td>\n",
       "      <td>Evidence at protein level</td>\n",
       "      <td>MLCVVTSDNSDFRLTAKADIPIGHKVALKALKAGDTVIKYHEDIGK...</td>\n",
       "      <td>CATALYTIC ACTIVITY: Reaction=(2R)-3-sulfolacta...</td>\n",
       "      <td>4.4.1.24</td>\n",
       "    </tr>\n",
       "    <tr>\n",
       "      <th>Q58Y43</th>\n",
       "      <td>reviewed</td>\n",
       "      <td>(2R)-sulfolactate sulfo-lyase subunit beta (EC...</td>\n",
       "      <td>Paracoccus pantotrophus (Thiosphaera pantotropha)</td>\n",
       "      <td>Evidence at protein level</td>\n",
       "      <td>MALDFSNATVKAWRRENGRVGVRNHVLILPVDDISNAACEAVANNV...</td>\n",
       "      <td>CATALYTIC ACTIVITY: Reaction=(2R)-3-sulfolacta...</td>\n",
       "      <td>4.4.1.24</td>\n",
       "    </tr>\n",
       "    <tr>\n",
       "      <th>Q1QWP0</th>\n",
       "      <td>reviewed</td>\n",
       "      <td>(2R)-sulfolactate sulfo-lyase subunit beta (EC...</td>\n",
       "      <td>Chromohalobacter salexigens (strain ATCC BAA-1...</td>\n",
       "      <td>Evidence at protein level</td>\n",
       "      <td>MELKGRTFLGYRRDNGRVGIRNHVIVLPVDDISNAAAEAVANNIKG...</td>\n",
       "      <td>CATALYTIC ACTIVITY: Reaction=(2R)-3-sulfolacta...</td>\n",
       "      <td>4.4.1.24</td>\n",
       "    </tr>\n",
       "    <tr>\n",
       "      <th>Q9KJF1</th>\n",
       "      <td>reviewed</td>\n",
       "      <td>(2S)-[(R)-hydroxy(phenyl)methyl]succinyl-CoA d...</td>\n",
       "      <td>Thauera aromatica</td>\n",
       "      <td>Evidence at protein level</td>\n",
       "      <td>MGIQNRVALITGSASGMGKQTALRFAEQGAAVVINDIDAEKVRATV...</td>\n",
       "      <td>CATALYTIC ACTIVITY: Reaction=(2S)-[(R)-hydroxy...</td>\n",
       "      <td>1.1.1.429</td>\n",
       "    </tr>\n",
       "  </tbody>\n",
       "</table>\n",
       "</div>"
      ],
      "text/plain": [
       "        Reviewed                                      Protein names  \\\n",
       "Entry                                                                 \n",
       "Q1QWP1  reviewed  (2R)-sulfolactate sulfo-lyase subunit alpha (E...   \n",
       "Q58Y44  reviewed  (2R)-sulfolactate sulfo-lyase subunit alpha (E...   \n",
       "Q58Y43  reviewed  (2R)-sulfolactate sulfo-lyase subunit beta (EC...   \n",
       "Q1QWP0  reviewed  (2R)-sulfolactate sulfo-lyase subunit beta (EC...   \n",
       "Q9KJF1  reviewed  (2S)-[(R)-hydroxy(phenyl)methyl]succinyl-CoA d...   \n",
       "\n",
       "                                                 Organism  \\\n",
       "Entry                                                       \n",
       "Q1QWP1  Chromohalobacter salexigens (strain ATCC BAA-1...   \n",
       "Q58Y44  Paracoccus pantotrophus (Thiosphaera pantotropha)   \n",
       "Q58Y43  Paracoccus pantotrophus (Thiosphaera pantotropha)   \n",
       "Q1QWP0  Chromohalobacter salexigens (strain ATCC BAA-1...   \n",
       "Q9KJF1                                  Thauera aromatica   \n",
       "\n",
       "                Protein existence  \\\n",
       "Entry                               \n",
       "Q1QWP1  Evidence at protein level   \n",
       "Q58Y44  Evidence at protein level   \n",
       "Q58Y43  Evidence at protein level   \n",
       "Q1QWP0  Evidence at protein level   \n",
       "Q9KJF1  Evidence at protein level   \n",
       "\n",
       "                                                 Sequence  \\\n",
       "Entry                                                       \n",
       "Q1QWP1  MSIDFVVHDADDAVGVVVVEGVEAGQMLTGWVMDQDRTLQFEVKDA...   \n",
       "Q58Y44  MLCVVTSDNSDFRLTAKADIPIGHKVALKALKAGDTVIKYHEDIGK...   \n",
       "Q58Y43  MALDFSNATVKAWRRENGRVGVRNHVLILPVDDISNAACEAVANNV...   \n",
       "Q1QWP0  MELKGRTFLGYRRDNGRVGIRNHVIVLPVDDISNAAAEAVANNIKG...   \n",
       "Q9KJF1  MGIQNRVALITGSASGMGKQTALRFAEQGAAVVINDIDAEKVRATV...   \n",
       "\n",
       "                                       Catalytic activity  EC number  \n",
       "Entry                                                                 \n",
       "Q1QWP1  CATALYTIC ACTIVITY: Reaction=(2R)-3-sulfolacta...   4.4.1.24  \n",
       "Q58Y44  CATALYTIC ACTIVITY: Reaction=(2R)-3-sulfolacta...   4.4.1.24  \n",
       "Q58Y43  CATALYTIC ACTIVITY: Reaction=(2R)-3-sulfolacta...   4.4.1.24  \n",
       "Q1QWP0  CATALYTIC ACTIVITY: Reaction=(2R)-3-sulfolacta...   4.4.1.24  \n",
       "Q9KJF1  CATALYTIC ACTIVITY: Reaction=(2S)-[(R)-hydroxy...  1.1.1.429  "
      ]
     },
     "execution_count": 8,
     "metadata": {},
     "output_type": "execute_result"
    }
   ],
   "source": [
    "print(len(subunits))\n",
    "subunits.head()"
   ]
  },
  {
   "cell_type": "code",
   "execution_count": 6,
   "metadata": {},
   "outputs": [],
   "source": [
    "subunits.to_csv('../data/sprhea/subunits_240310.tsv', sep='\\t')"
   ]
  },
  {
   "cell_type": "code",
   "execution_count": 9,
   "metadata": {},
   "outputs": [
    {
     "data": {
      "text/plain": [
       "4655"
      ]
     },
     "execution_count": 9,
     "metadata": {},
     "output_type": "execute_result"
    }
   ],
   "source": [
    "selector = (subunits['Protein existence'] == 'Evidence at protein level') | (subunits['Protein existence'] == 'Evidence at transcript level')\n",
    "len(subunits.loc[selector])"
   ]
  },
  {
   "cell_type": "code",
   "execution_count": 10,
   "metadata": {},
   "outputs": [
    {
     "name": "stdout",
     "output_type": "stream",
     "text": [
      "Q1QWP1 (2R)-sulfolactate sulfo-lyase subunit alpha (EC 4.4.1.24) (Sulfolactate sulfo-lyase A)\n",
      "Q58Y44 (2R)-sulfolactate sulfo-lyase subunit alpha (EC 4.4.1.24) (Sulfolactate sulfo-lyase A)\n",
      "Q58Y43 (2R)-sulfolactate sulfo-lyase subunit beta (EC 4.4.1.24) (Sulfolactate sulfo-lyase B)\n",
      "Q1QWP0 (2R)-sulfolactate sulfo-lyase subunit beta (EC 4.4.1.24) (Sulfolactate sulfo-lyase B)\n",
      "Q9KJF1 (2S)-[(R)-hydroxy(phenyl)methyl]succinyl-CoA dehydrogenase subunit BbsD (EC 1.1.1.429) ((S,R)-2-(alpha-hydroxybenzyl)succinyl-CoA dehydrogenase subunit BbsD)\n",
      "Q9XT00 (3R)-3-hydroxyacyl-CoA dehydrogenase (EC 1.1.1.n12) (17-beta-hydroxysteroid dehydrogenase 8) (17-beta-HSD 8) (3-ketoacyl-[acyl-carrier-protein] reductase alpha subunit) (KAR alpha subunit) (3-oxoacyl-[acyl-carrier-protein] reductase) (Estradiol 17-beta-dehydrogenase 8) (EC 1.1.1.62) (Protein Ke6) (Ke-6) (Testosterone 17-beta-dehydrogenase 8) (EC 1.1.1.239)\n",
      "P50171 (3R)-3-hydroxyacyl-CoA dehydrogenase (EC 1.1.1.n12) (17-beta-hydroxysteroid dehydrogenase 8) (17-beta-HSD 8) (3-ketoacyl-[acyl-carrier-protein] reductase alpha subunit) (KAR alpha subunit) (3-oxoacyl-[acyl-carrier-protein] reductase) (Estradiol 17-beta-dehydrogenase 8) (EC 1.1.1.62) (Protein Ke6) (Ke-6) (Testosterone 17-beta-dehydrogenase 8) (EC 1.1.1.239)\n",
      "Q6MGB5 (3R)-3-hydroxyacyl-CoA dehydrogenase (EC 1.1.1.n12) (17-beta-hydroxysteroid dehydrogenase 8) (17-beta-HSD 8) (3-ketoacyl-[acyl-carrier-protein] reductase alpha subunit) (KAR alpha subunit) (3-oxoacyl-[acyl-carrier-protein] reductase) (Estradiol 17-beta-dehydrogenase 8) (EC 1.1.1.62) (Testosterone 17-beta-dehydrogenase 8) (EC 1.1.1.239)\n",
      "Q5TJF5 (3R)-3-hydroxyacyl-CoA dehydrogenase (EC 1.1.1.n12) (17-beta-hydroxysteroid dehydrogenase 8) (17-beta-HSD 8) (3-ketoacyl-[acyl-carrier-protein] reductase alpha subunit) (KAR alpha subunit) (3-oxoacyl-[acyl-carrier-protein] reductase) (Estradiol 17-beta-dehydrogenase 8) (EC 1.1.1.62) (Testosterone 17-beta-dehydrogenase 8) (EC 1.1.1.239)\n",
      "Q92506 (3R)-3-hydroxyacyl-CoA dehydrogenase (EC 1.1.1.n12) (17-beta-hydroxysteroid dehydrogenase 8) (17-beta-HSD 8) (HSD17B8) (3-ketoacyl-[acyl-carrier-protein] reductase alpha subunit) (KAR alpha subunit) (3-oxoacyl-[acyl-carrier-protein] reductase) (Estradiol 17-beta-dehydrogenase 8) (EC 1.1.1.62) (Protein Ke6) (Ke6) (Short chain dehydrogenase/reductase family 30C member 1) (Testosterone 17-beta-dehydrogenase 8) (EC 1.1.1.239)\n",
      "P11569 (R)-2-hydroxyglutaryl-CoA dehydratase, subunit alpha (EC 4.2.1.167) ((R)-2-hydroxyglutaryl-CoA dehydratase, component D)\n",
      "P11570 (R)-2-hydroxyglutaryl-CoA dehydratase, subunit beta (EC 4.2.1.167) ((R)-2-hydroxyglutaryl-CoA dehydratase, component D)\n",
      "Q5U924 (R)-2-hydroxyisocaproyl-CoA dehydratase alpha subunit (EC 4.2.1.157)\n",
      "Q5U923 (R)-2-hydroxyisocaproyl-CoA dehydratase beta subunit (EC 4.2.1.157)\n",
      "Q93AL9 (R)-phenyllactyl-CoA dehydratase alpha subunit (EC 4.2.1.175)\n",
      "Q93AL8 (R)-phenyllactyl-CoA dehydratase beta subunit (EC 4.2.1.175)\n",
      "P76077 1,2-phenylacetyl-CoA epoxidase, subunit A (EC 1.14.13.149) (1,2-phenylacetyl-CoA epoxidase, catalytic subunit alpha) (1,2-phenylacetyl-CoA monooxygenase, subunit A)\n",
      "Q936X3 1-carboxybiuret hydrolase subunit AtzE (EC 3.5.1.131)\n",
      "Q0QLE2 2,3-dimethylmalate dehydratase large subunit (EC 4.2.1.85)\n",
      "Q0QLE1 2,3-dimethylmalate dehydratase small subunit (EC 4.2.1.85)\n",
      "A0A096ZEC9 2,4-dinitroanisole O-demethylase subunit alpha (DNAN hydrolase subunit alpha) (DNHA) (EC 3.3.2.14)\n",
      "A0A096ZED0 2,4-dinitroanisole O-demethylase subunit beta (DNAN hydrolase subunit beta) (DNHB) (EC 3.3.2.14)\n",
      "Q45695 2,4-dinitrotoluene dioxygenase system, large oxygenase component (EC 1.14.12.24) (2,4-dinitrotoluene dioxygenase ISP alpha) (2,4-dinitrotoluene dioxygenase subunit alpha)\n",
      "Q6STM1 2,5-diketocamphane 1,2-monooxygenase 1 (2,5-DKCMO 1) (2,5-diketocamphane monooxygenase 1) (EC 1.14.14.108) (2,5-diketocamphane 1,2-monooxygenase oxygenating component) (2,5-diketocamphane 1,2-monooxygenase oxygenating subunit) (Camphor 1,2-monooxygenase) (Type II Baeyer-Villiger monooxygenase) (Type II BVMO)\n",
      "M5AWY0 2,5-diketocamphane 1,2-monooxygenase 2 (2,5-DKCMO 2) (2,5-diketocamphane monooxygenase 2) (EC 1.14.14.108) (2,5-diketocamphane 1,2-monooxygenase oxygenating component) (2,5-diketocamphane 1,2-monooxygenase oxygenating subunit) (Camphor 1,2-monooxygenase) (Type II Baeyer-Villiger monooxygenase) (Type II BVMO)\n",
      "A0A8C2MDK8 2-(3-amino-3-carboxypropyl)histidine synthase subunit 1 (EC 2.5.1.108) (Diphthamide biosynthesis protein 1) (Diphtheria toxin resistance protein 1) (Ovarian cancer-associated gene 1 protein homolog) (S-adenosyl-L-methionine:L-histidine 3-amino-3-carboxypropyltransferase 1)\n",
      "Q5NCQ5 2-(3-amino-3-carboxypropyl)histidine synthase subunit 1 (EC 2.5.1.108) (Diphthamide biosynthesis protein 1) (Diphtheria toxin resistance protein 1) (Ovarian cancer-associated gene 1 protein homolog) (S-adenosyl-L-methionine:L-histidine 3-amino-3-carboxypropyltransferase 1)\n",
      "Q9BZG8 2-(3-amino-3-carboxypropyl)histidine synthase subunit 1 (EC 2.5.1.108) (Diphthamide biosynthesis protein 1) (Diphtheria toxin resistance protein 1) (Ovarian cancer-associated gene 1 protein) (S-adenosyl-L-methionine:L-histidine 3-amino-3-carboxypropyltransferase 1)\n",
      "Q6GPQ5 2-(3-amino-3-carboxypropyl)histidine synthase subunit 1 (EC 2.5.1.108) (Diphthamide biosynthesis protein 1) (Diphtheria toxin resistance protein 1) (S-adenosyl-L-methionine:L-histidine 3-amino-3-carboxypropyltransferase 1)\n",
      "Q5AZJ7 2-(3-amino-3-carboxypropyl)histidine synthase subunit 1 (EC 2.5.1.108) (Diphthamide biosynthesis protein 1) (Diphtheria toxin resistance protein 1) (S-adenosyl-L-methionine:L-histidine 3-amino-3-carboxypropyltransferase 1)\n",
      "A7SLX5 2-(3-amino-3-carboxypropyl)histidine synthase subunit 1 (EC 2.5.1.108) (Diphthamide biosynthesis protein 1) (Diphtheria toxin resistance protein 1) (S-adenosyl-L-methionine:L-histidine 3-amino-3-carboxypropyltransferase 1)\n",
      "Q6FTG1 2-(3-amino-3-carboxypropyl)histidine synthase subunit 1 (EC 2.5.1.108) (Diphthamide biosynthesis protein 1) (Diphtheria toxin resistance protein 1) (S-adenosyl-L-methionine:L-histidine 3-amino-3-carboxypropyltransferase 1)\n",
      "Q75AZ9 2-(3-amino-3-carboxypropyl)histidine synthase subunit 1 (EC 2.5.1.108) (Diphthamide biosynthesis protein 1) (Diphtheria toxin resistance protein 1) (S-adenosyl-L-methionine:L-histidine 3-amino-3-carboxypropyltransferase 1)\n",
      "Q3SYT1 2-(3-amino-3-carboxypropyl)histidine synthase subunit 1 (EC 2.5.1.108) (Diphthamide biosynthesis protein 1) (Diphtheria toxin resistance protein 1) (S-adenosyl-L-methionine:L-histidine 3-amino-3-carboxypropyltransferase 1)\n",
      "Q567W6 2-(3-amino-3-carboxypropyl)histidine synthase subunit 1 (EC 2.5.1.108) (Diphthamide biosynthesis protein 1) (Diphtheria toxin resistance protein 1) (S-adenosyl-L-methionine:L-histidine 3-amino-3-carboxypropyltransferase 1)\n",
      "O59713 2-(3-amino-3-carboxypropyl)histidine synthase subunit 1 (EC 2.5.1.108) (Diphthamide biosynthesis protein 1) (Diphtheria toxin resistance protein 1) (S-adenosyl-L-methionine:L-histidine 3-amino-3-carboxypropyltransferase 1)\n",
      "Q5ZHX9 2-(3-amino-3-carboxypropyl)histidine synthase subunit 1 (EC 2.5.1.108) (Diphthamide biosynthesis protein 1) (Diphtheria toxin resistance protein 1) (S-adenosyl-L-methionine:L-histidine 3-amino-3-carboxypropyltransferase 1)\n",
      "Q54PW5 2-(3-amino-3-carboxypropyl)histidine synthase subunit 1 (EC 2.5.1.108) (Diphthamide biosynthesis protein 1) (Diphtheria toxin resistance protein 1) (S-adenosyl-L-methionine:L-histidine 3-amino-3-carboxypropyltransferase 1)\n",
      "Q4X0S7 2-(3-amino-3-carboxypropyl)histidine synthase subunit 1 (EC 2.5.1.108) (Diphthamide biosynthesis protein 1) (Diphtheria toxin resistance protein 1) (S-adenosyl-L-methionine:L-histidine 3-amino-3-carboxypropyltransferase 1)\n",
      "Q8SUZ5 2-(3-amino-3-carboxypropyl)histidine synthase subunit 1 (EC 2.5.1.108) (Diphthamide biosynthesis protein 1) (Diphtheria toxin resistance protein 1) (S-adenosyl-L-methionine:L-histidine 3-amino-3-carboxypropyltransferase 1)\n",
      "P0CN18 2-(3-amino-3-carboxypropyl)histidine synthase subunit 1 (EC 2.5.1.108) (Diphthamide biosynthesis protein 1) (Diphtheria toxin resistance protein 1) (S-adenosyl-L-methionine:L-histidine 3-amino-3-carboxypropyltransferase 1)\n",
      "P0CN19 2-(3-amino-3-carboxypropyl)histidine synthase subunit 1 (EC 2.5.1.108) (Diphthamide biosynthesis protein 1) (Diphtheria toxin resistance protein 1) (S-adenosyl-L-methionine:L-histidine 3-amino-3-carboxypropyltransferase 1)\n",
      "Q4IQ72 2-(3-amino-3-carboxypropyl)histidine synthase subunit 1 (EC 2.5.1.108) (Diphthamide biosynthesis protein 1) (Diphtheria toxin resistance protein 1) (S-adenosyl-L-methionine:L-histidine 3-amino-3-carboxypropyltransferase 1)\n",
      "Q59MG1 2-(3-amino-3-carboxypropyl)histidine synthase subunit 1 (EC 2.5.1.108) (Diphthamide biosynthesis protein 1) (Diphtheria toxin resistance protein 1) (S-adenosyl-L-methionine:L-histidine 3-amino-3-carboxypropyltransferase 1)\n",
      "P40487 2-(3-amino-3-carboxypropyl)histidine synthase subunit 1 (EC 2.5.1.108) (Diphthamide biosynthesis protein 1) (Diphtheria toxin resistance protein 1) (S-adenosyl-L-methionine:L-histidine 3-amino-3-carboxypropyltransferase 1)\n",
      "Q6CLC9 2-(3-amino-3-carboxypropyl)histidine synthase subunit 1 (EC 2.5.1.108) (Diphthamide biosynthesis protein 1) (Diphtheria toxin resistance protein 1) (S-adenosyl-L-methionine:L-histidine 3-amino-3-carboxypropyltransferase 1)\n",
      "Q6BPU5 2-(3-amino-3-carboxypropyl)histidine synthase subunit 1 (EC 2.5.1.108) (Diphthamide biosynthesis protein 1) (Diphtheria toxin resistance protein 1) (S-adenosyl-L-methionine:L-histidine 3-amino-3-carboxypropyltransferase 1)\n",
      "Q6C0S8 2-(3-amino-3-carboxypropyl)histidine synthase subunit 1 (EC 2.5.1.108) (Diphthamide biosynthesis protein 1) (Diphtheria toxin resistance protein 1) (S-adenosyl-L-methionine:L-histidine 3-amino-3-carboxypropyltransferase 1)\n",
      "Q7SC98 2-(3-amino-3-carboxypropyl)histidine synthase subunit 1 (EC 2.5.1.108) (Diphthamide biosynthesis protein 1) (Diphtheria toxin resistance protein 1) (S-adenosyl-L-methionine:L-histidine 3-amino-3-carboxypropyltransferase 1)\n",
      "P49958 2-(3-amino-3-carboxypropyl)histidine synthase subunit 1 (EC 2.5.1.108) (Diphthamide biosynthesis protein 1) (Diphtheria toxin resistance protein 1) (S-adenosyl-L-methionine:L-histidine 3-amino-3-carboxypropyltransferase 1)\n",
      "Q4PA25 2-(3-amino-3-carboxypropyl)histidine synthase subunit 1 (EC 2.5.1.108) (Diphthamide biosynthesis protein 1) (Diphtheria toxin resistance protein 1) (S-adenosyl-L-methionine:L-histidine 3-amino-3-carboxypropyltransferase 1)\n"
     ]
    }
   ],
   "source": [
    "j = 0\n",
    "for i, row in subunits.iterrows():\n",
    "    print(i, row['Protein names'])\n",
    "    j += 1\n",
    "\n",
    "    if j > 50:\n",
    "        break"
   ]
  },
  {
   "cell_type": "code",
   "execution_count": 35,
   "metadata": {},
   "outputs": [
    {
     "name": "stdout",
     "output_type": "stream",
     "text": [
      "206659\n"
     ]
    }
   ],
   "source": [
    "path = \"../data/sprhea/uniprotkb_reviewed_true_AND_proteins_wi_2024_02_29.tsv\"\n",
    "df = pd.read_csv(path, sep='\\t')\n",
    "df.set_index(\"Entry\", inplace=True)\n",
    "df.head()\n",
    "\n",
    "whitelist = ['Evidence at protein level', 'Evidence at transcript level', 'Inferred from homology']\n",
    "all_v3_upid = set()\n",
    "for k,v in krsv3.items():\n",
    "    for e in v['enzymes']:\n",
    "        if e['existence'] in whitelist:\n",
    "            all_v3_upid.add(e['uniprot_id'])\n",
    "\n",
    "print(len(all_v3_upid))\n",
    "# id_seq = df.loc[all_v3_upid, ['Sequence']]\n",
    "\n",
    "# id_seq.to_csv(\n",
    "#     \"../artifacts/sprhea_v3_all_upids.tsv\",\n",
    "#     sep='\\t'\n",
    "# )\n",
    "\n",
    "# load = pd.read_csv(\n",
    "#     \"../artifacts/sprhea_v3_all_upids.tsv\",\n",
    "#     sep='\\t'\n",
    "# )\n",
    "# load.head()"
   ]
  }
 ],
 "metadata": {
  "kernelspec": {
   "display_name": "mine",
   "language": "python",
   "name": "python3"
  },
  "language_info": {
   "codemirror_mode": {
    "name": "ipython",
    "version": 3
   },
   "file_extension": ".py",
   "mimetype": "text/x-python",
   "name": "python",
   "nbconvert_exporter": "python",
   "pygments_lexer": "ipython3",
   "version": "3.7.12"
  }
 },
 "nbformat": 4,
 "nbformat_minor": 2
}
