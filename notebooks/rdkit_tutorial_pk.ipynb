{
 "cells": [
  {
   "cell_type": "code",
   "id": "8043f9b0-6ef5-4c58-b2a6-f725ec52f9c8",
   "metadata": {
    "ExecuteTime": {
     "end_time": "2024-07-12T15:55:59.342408Z",
     "start_time": "2024-07-12T15:55:58.683074Z"
    }
   },
   "source": [
    "from rdkit import Chem\n",
    "from rdkit.Chem import rdmolops\n",
    "from rdkit.Chem import Draw\n",
    "import more_itertools as mit"
   ],
   "outputs": [],
   "execution_count": 1
  },
  {
   "metadata": {
    "ExecuteTime": {
     "end_time": "2024-07-12T15:55:59.357041Z",
     "start_time": "2024-07-12T15:55:59.343769Z"
    }
   },
   "cell_type": "code",
   "source": [
    "m = Chem.MolFromSmiles('CN1CCC[C@H]1c1cccnc1')\n",
    "m"
   ],
   "id": "b3f21409-cce5-458a-94db-d4f8d8f202d2",
   "outputs": [
    {
     "data": {
      "text/plain": [
       "<rdkit.Chem.rdchem.Mol at 0x12779ace0>"
      ],
      "image/png": "[encoded data removed]"
     },
     "execution_count": 2,
     "metadata": {},
     "output_type": "execute_result"
    }
   ],
   "execution_count": 2
  },
  {
   "metadata": {
    "ExecuteTime": {
     "end_time": "2024-07-12T15:55:59.360355Z",
     "start_time": "2024-07-12T15:55:59.358107Z"
    }
   },
   "cell_type": "code",
   "source": [
    "PTN_CARBON = Chem.MolFromSmarts('[#6]-[#6]')\n",
    "\n",
    "\n",
    "def len_carbon(mol: Chem.Mol, ptn: Chem.Mol = PTN_CARBON) -> int | None:\n",
    "    carbons = mol.GetSubstructMatches(ptn)\n",
    "    return len(carbons) if carbons else None"
   ],
   "id": "2c50373d42eee91b",
   "outputs": [],
   "execution_count": 3
  },
  {
   "metadata": {
    "ExecuteTime": {
     "end_time": "2024-07-12T15:55:59.363347Z",
     "start_time": "2024-07-12T15:55:59.361508Z"
    }
   },
   "cell_type": "code",
   "source": "# rdmolops.FindAllSubgraphsOfLengthMToN(m, 0, 10)",
   "id": "24e31842ad701dfb",
   "outputs": [],
   "execution_count": 4
  },
  {
   "metadata": {
    "ExecuteTime": {
     "end_time": "2024-07-12T15:55:59.368465Z",
     "start_time": "2024-07-12T15:55:59.363798Z"
    }
   },
   "cell_type": "code",
   "source": "(p1 := Chem.MolFromSmiles('CC(N)C(O)C(O)=O'))",
   "id": "fe9002e2d9ea5e23",
   "outputs": [
    {
     "data": {
      "text/plain": [
       "<rdkit.Chem.rdchem.Mol at 0x12779bf40>"
      ],
      "image/png": "[encoded data removed]"
     },
     "execution_count": 5,
     "metadata": {},
     "output_type": "execute_result"
    }
   ],
   "execution_count": 5
  },
  {
   "metadata": {
    "ExecuteTime": {
     "end_time": "2024-07-12T15:55:59.371751Z",
     "start_time": "2024-07-12T15:55:59.369093Z"
    }
   },
   "cell_type": "code",
   "source": [
    "p1.HasSubstructMatch(\n",
    "    Chem.MolFromSmarts(\n",
    "        '[!$([#6]~[#6]~[#6]~[#6]~[#6]);#6;$([#6]~[!#1,!#6])]'\n",
    "        '!@[#6;$([#6]=[!#6]),$([#6]#[!#6]),$([#6]~[#7,#8,#9,#15,#16,#17,#34,#35,#53])]'\n",
    "        '!@[#6;$([#6]=[!#6]),$([#6]#[!#6]),$([#6]~[#7,#8,#9,#15,#16,#17,#34,#35,#53])]'\n",
    "        '!@[#6;$([#6]=[!#6]),$([#6]#[!#6]),$([#6]~[#7,#8,#9,#15,#16,#17,#34,#35,#53])]'\n",
    "    )\n",
    ")"
   ],
   "id": "6e67b0747764a33",
   "execution_count": 6,
   "outputs": [
    {
     "data": {
      "text/plain": [
       "True"
      ]
     },
     "execution_count": 6,
     "metadata": {},
     "output_type": "execute_result"
    }
   ]
  },
  {
   "metadata": {
    "ExecuteTime": {
     "end_time": "2024-07-12T15:55:59.470262Z",
     "start_time": "2024-07-12T15:55:59.372405Z"
    }
   },
   "cell_type": "code",
   "source": "p1.HasSubstructMatch(smarts.MoleculeSmarts.C4_FG123.as_mol())",
   "id": "94b275c760d56167",
   "outputs": [
    {
     "ename": "NameError",
     "evalue": "name 'smarts' is not defined",
     "output_type": "error",
     "traceback": [
      "\u001B[0;31m---------------------------------------------------------------------------\u001B[0m",
      "\u001B[0;31mNameError\u001B[0m                                 Traceback (most recent call last)",
      "Cell \u001B[0;32mIn[7], line 1\u001B[0m\n\u001B[0;32m----> 1\u001B[0m p1\u001B[38;5;241m.\u001B[39mHasSubstructMatch(\u001B[43msmarts\u001B[49m\u001B[38;5;241m.\u001B[39mMoleculeSmarts\u001B[38;5;241m.\u001B[39mC4_FG123\u001B[38;5;241m.\u001B[39mas_mol())\n",
      "\u001B[0;31mNameError\u001B[0m: name 'smarts' is not defined"
     ]
    }
   ],
   "execution_count": 7
  },
  {
   "metadata": {
    "ExecuteTime": {
     "end_time": "2024-07-12T15:55:59.471928Z",
     "start_time": "2024-07-12T15:55:59.471870Z"
    }
   },
   "cell_type": "code",
   "source": "(n1 := Chem.MolFromSmiles('C(=O)(O)CC(O)C(O)=O'))",
   "id": "1a01bfc441d16f97",
   "outputs": [],
   "execution_count": null
  },
  {
   "metadata": {
    "ExecuteTime": {
     "end_time": "2024-07-12T15:55:59.473290Z",
     "start_time": "2024-07-12T15:55:59.472851Z"
    }
   },
   "cell_type": "code",
   "source": [
    "n1.HasSubstructMatch(\n",
    "    Chem.MolFromSmarts(\n",
    "        '[#6;!$([#6]-[#6]-[#6]-[#6]-[#6])]'\n",
    "        '!@[#6;$([#6]=[!#6]),$([#6]#[!#6]),$([#6]-[#7,#8,#9,P,F,Cl,Br,I])]'\n",
    "        '!@[#6;$([#6]=[!#6]),$([#6]#[!#6]),$([#6]-[#7,#8,#9,P,F,Cl,Br,I])]'\n",
    "        '!@[#6;$([#6]=[!#6]),$([#6]#[!#6]),$([#6]-[#7,#8,#9,P,F,Cl,Br,I])]'\n",
    "    )\n",
    ")"
   ],
   "id": "fb898ba6428f69c7",
   "outputs": [],
   "execution_count": null
  },
  {
   "metadata": {},
   "cell_type": "code",
   "source": "n1.HasSubstructMatch(smarts.MoleculeSmarts.C4_FG123.as_mol())",
   "id": "d2707897a8d6792b",
   "outputs": [],
   "execution_count": null
  },
  {
   "metadata": {},
   "cell_type": "code",
   "source": "(n2 := Chem.MolFromSmiles('CCCC'))",
   "id": "307d2ece56a28398",
   "outputs": [],
   "execution_count": null
  },
  {
   "metadata": {},
   "cell_type": "code",
   "source": [
    "n2.HasSubstructMatch(\n",
    "    Chem.MolFromSmarts(\n",
    "        '[#6;!$([#6]-[#6]-[#6]-[#6]-[#6])]'\n",
    "        '!@[#6;$([#6]=[!#6]),$([#6]#[!#6]),$([#6]-[$(N),$(O),$(S),$(P),$(F),$(Cl),$(Br),$(I)])]'\n",
    "        '!@[#6;$([#6]=[!#6]),$([#6]#[!#6]),$([#6]-[$(N),$(O),$(S),$(P),$(F),$(Cl),$(Br),$(I)])]'\n",
    "        '!@[#6;$([#6]=[!#6]),$([#6]#[!#6]),$([#6]-[$(N),$(O),$(S),$(P),$(F),$(Cl),$(Br),$(I)])]'\n",
    "    )\n",
    ")\n",
    "n2.HasSubstructMatch(smarts.MoleculeSmarts.C4_FG123.as_mol())"
   ],
   "id": "95c8e09628fe7c56",
   "outputs": [],
   "execution_count": null
  },
  {
   "metadata": {
    "ExecuteTime": {
     "end_time": "2024-07-12T15:55:59.477150Z",
     "start_time": "2024-07-12T15:55:59.476952Z"
    }
   },
   "cell_type": "code",
   "source": "(n3 := Chem.MolFromSmiles('CCCCCCCCC(N)C(O)C(O)=O'))",
   "id": "3ee28ba3323106d1",
   "outputs": [],
   "execution_count": null
  },
  {
   "metadata": {},
   "cell_type": "code",
   "source": [
    "n3.HasSubstructMatch(\n",
    "    Chem.MolFromSmarts(\n",
    "        '[#6;!$([#6]-[#6]-[#6]-[#6])]'\n",
    "        '!@[#6;$([#6]=[!#6]),$([#6]#[!#6]),$([#6]-[$(N),$(O),$(S),$(P),$(F),$(Cl),$(Br),$(I)])]'\n",
    "        '!@[#6;$([#6]=[!#6]),$([#6]#[!#6]),$([#6]-[$(N),$(O),$(S),$(P),$(F),$(Cl),$(Br),$(I)])]'\n",
    "        '!@[#6;$([#6]=[!#6]),$([#6]#[!#6]),$([#6]-[$(N),$(O),$(S),$(P),$(F),$(Cl),$(Br),$(I)])]'\n",
    "    )\n",
    ")"
   ],
   "id": "f7fc9cf6be3028f5",
   "outputs": [],
   "execution_count": null
  },
  {
   "metadata": {
    "ExecuteTime": {
     "end_time": "2024-07-12T15:55:59.478996Z",
     "start_time": "2024-07-12T15:55:59.478941Z"
    }
   },
   "cell_type": "code",
   "source": [
    "n3.HasSubstructMatch(\n",
    "    Chem.MolFromSmarts(\n",
    "        '[!$([#6]-[#6]-[#6]-[#6]);#6;$([#6]=[!#6]),$([#6]#[!#6]),$([#6]-[$(N),$(O),$(S),$(P),$(F),$(Cl),$(Br),$(I)])]'\n",
    "        '!@[#6;$([#6]=[!#6]),$([#6]#[!#6]),$([#6]-[$(N),$(O),$(S),$(P),$(F),$(Cl),$(Br),$(I)])]'\n",
    "        '!@[#6;$([#6]=[!#6]),$([#6]#[!#6]),$([#6]-[$(N),$(O),$(S),$(P),$(F),$(Cl),$(Br),$(I)])]'\n",
    "        '!@[#6]'\n",
    "    )\n",
    ")"
   ],
   "id": "be47bdb87bbd4647",
   "outputs": [],
   "execution_count": null
  },
  {
   "metadata": {},
   "cell_type": "code",
   "source": "(n4 := Chem.MolFromSmiles('CCC(O)C(=O)C(N)CCCC'))",
   "id": "b9ddceabd73413b2",
   "outputs": [],
   "execution_count": null
  },
  {
   "metadata": {},
   "cell_type": "code",
   "source": [
    "n4.HasSubstructMatch(\n",
    "    Chem.MolFromSmarts(\n",
    "        '[#6;!$([#6]-[#6]-[#6]-[#6]-[#6])]'\n",
    "        '!@[#6;$([#6]=[!#6]),$([#6]#[!#6]),$([#6]-[$(N),$(O),$(S),$(P),$(F),$(Cl),$(Br),$(I)])]'\n",
    "        '!@[#6;$([#6]=[!#6]),$([#6]#[!#6]),$([#6]-[$(N),$(O),$(S),$(P),$(F),$(Cl),$(Br),$(I)])]'\n",
    "        '!@[#6;$([#6]=[!#6]),$([#6]#[!#6]),$([#6]-[$(N),$(O),$(S),$(P),$(F),$(Cl),$(Br),$(I)])]'\n",
    "    )\n",
    ")"
   ],
   "id": "9d6e2d94c684f193",
   "outputs": [],
   "execution_count": null
  },
  {
   "metadata": {
    "ExecuteTime": {
     "end_time": "2024-07-12T15:56:32.247020Z",
     "start_time": "2024-07-12T15:56:32.242241Z"
    }
   },
   "cell_type": "code",
   "source": "from src.smarts import MoleculeSmarts",
   "id": "8123a62125a557dc",
   "outputs": [],
   "execution_count": 8
  },
  {
   "metadata": {},
   "cell_type": "code",
   "source": "[mem.name for mem in MoleculeSmarts]",
   "id": "6326fc758be2dc91",
   "outputs": [],
   "execution_count": null
  },
  {
   "metadata": {
    "ExecuteTime": {
     "end_time": "2024-07-12T15:56:41.631997Z",
     "start_time": "2024-07-12T15:56:41.628897Z"
    }
   },
   "cell_type": "code",
   "source": "from typing import Literal",
   "id": "d1c0b73f3c9c7a2f",
   "outputs": [],
   "execution_count": 10
  },
  {
   "metadata": {
    "ExecuteTime": {
     "end_time": "2024-07-12T15:56:51.940951Z",
     "start_time": "2024-07-12T15:56:51.938518Z"
    }
   },
   "cell_type": "code",
   "source": "Literal[MoleculeSmarts.C5_FG125]",
   "id": "752fd28b43139105",
   "outputs": [
    {
     "data": {
      "text/plain": [
       "typing.Literal[<MoleculeSmarts.C5_FG125: '[!$([#6]!@[#6]!@[#6]!@[#6]!@[#6]!@[#6]);#6;$([#6]=[!#6]),$([#6]#[!#6]),$([#6]-[#7,#8,#9,#15,#16,#17,#34,#35,#53])]!@[#6;$([#6]=[!#6]),$([#6]#[!#6]),$([#6]-[#7,#8,#9,#15,#16,#17,#34,#35,#53])]!@[#6;$([#6]~[#1,#6])]!@[#6;$([#6]~[#1,#6])]!@[#6;$([#6]=[!#6]),$([#6]#[!#6]),$([#6]-[#7,#8,#9,#15,#16,#17,#34,#35,#53])]'>]"
      ]
     },
     "execution_count": 12,
     "metadata": {},
     "output_type": "execute_result"
    }
   ],
   "execution_count": 12
  },
  {
   "metadata": {},
   "cell_type": "code",
   "source": "",
   "id": "91ddcee25e8e1f39",
   "outputs": [],
   "execution_count": null
  }
 ],
 "metadata": {
  "kernelspec": {
   "display_name": "Python 3 (ipykernel)",
   "language": "python",
   "name": "python3"
  },
  "language_info": {
   "codemirror_mode": {
    "name": "ipython",
    "version": 3
   },
   "file_extension": ".py",
   "mimetype": "text/x-python",
   "name": "python",
   "nbconvert_exporter": "python",
   "pygments_lexer": "ipython3",
   "version": "3.12.4"
  }
 },
 "nbformat": 4,
 "nbformat_minor": 5
}
