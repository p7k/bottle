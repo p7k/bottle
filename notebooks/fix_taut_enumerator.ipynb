{
 "cells": [
  {
   "cell_type": "code",
   "execution_count": 20,
   "metadata": {},
   "outputs": [
    {
     "name": "stdout",
     "output_type": "stream",
     "text": [
      "The autoreload extension is already loaded. To reload it, use:\n",
      "  %reload_ext autoreload\n"
     ]
    }
   ],
   "source": [
    "%load_ext autoreload\n",
    "%autoreload 2\n",
    "\n",
    "from src.config import filepaths\n",
    "import rdkit\n",
    "from rdkit import Chem\n",
    "from rdkit.Chem.MolStandardize import rdMolStandardize\n",
    "from src.cheminfo_utils import tautomer_expand"
   ]
  },
  {
   "cell_type": "code",
   "execution_count": 21,
   "metadata": {},
   "outputs": [],
   "source": [
    "smiles = 'C1=NC2=NC=NC(=C2N1)N'\n",
    "molecule = Chem.MolFromSmiles(smiles)"
   ]
  },
  {
   "cell_type": "code",
   "execution_count": 24,
   "metadata": {},
   "outputs": [
    {
     "data": {
      "text/plain": [
       "['Nc1ncnc2[nH]cnc12',\n",
       " 'Nc1ncnc2nc[nH]c12',\n",
       " 'N=c1[nH]cnc2[nH]cnc12',\n",
       " 'N=c1[nH]cnc2nc[nH]c12',\n",
       " 'N=c1nc[nH]c2[nH]cnc12',\n",
       " 'N=c1nc[nH]c2nc[nH]c12',\n",
       " 'Nc1[nH]cnc2ncnc1-2',\n",
       " 'Nc1nc[nH]c2ncnc1-2']"
      ]
     },
     "execution_count": 24,
     "metadata": {},
     "output_type": "execute_result"
    }
   ],
   "source": [
    "# Old way\n",
    "\n",
    "enumerator = rdMolStandardize.TautomerEnumerator()\n",
    "canon_mol = enumerator.Canonicalize(molecule)\n",
    "canon_smi = Chem.MolToSmiles(canon_mol)\n",
    "tauts = enumerator.Enumerate(molecule)\n",
    "smis = []\n",
    "mols = []\n",
    "for mol in tauts:\n",
    "    smi = Chem.MolToSmiles(mol)\n",
    "    if smi != canon_smi:\n",
    "        smis.append(smi)\n",
    "        mols.append(mol)\n",
    "\n",
    "if not smis and not mols:\n",
    "    smis = [canon_smi]\n",
    "    mols = [canon_mol]\n",
    "else:\n",
    "    srt = sorted(list(zip(smis, mols)), key=lambda x : enumerator.ScoreTautomer(x[1]), reverse=True)\n",
    "    smis, mols = [list(elt) for elt in zip(*srt)]\n",
    "    smis = [canon_smi] + smis\n",
    "    mols = [canon_mol] + mols\n",
    "\n",
    "smis"
   ]
  },
  {
   "cell_type": "code",
   "execution_count": 23,
   "metadata": {},
   "outputs": [
    {
     "data": {
      "text/plain": [
       "['Nc1ncnc2[nH]cnc12',\n",
       " 'Nc1ncnc2nc[nH]c12',\n",
       " 'N=c1[nH]cnc2[nH]cnc12',\n",
       " 'N=c1[nH]cnc2nc[nH]c12',\n",
       " 'N=c1nc[nH]c2[nH]cnc12',\n",
       " 'N=c1nc[nH]c2nc[nH]c12',\n",
       " 'Nc1[nH]cnc2ncnc1-2',\n",
       " 'Nc1nc[nH]c2ncnc1-2']"
      ]
     },
     "execution_count": 23,
     "metadata": {},
     "output_type": "execute_result"
    }
   ],
   "source": [
    "# New way\n",
    "tautomer_expand(smiles, 100)"
   ]
  }
 ],
 "metadata": {
  "kernelspec": {
   "display_name": "casp",
   "language": "python",
   "name": "python3"
  },
  "language_info": {
   "codemirror_mode": {
    "name": "ipython",
    "version": 3
   },
   "file_extension": ".py",
   "mimetype": "text/x-python",
   "name": "python",
   "nbconvert_exporter": "python",
   "pygments_lexer": "ipython3",
   "version": "3.9.18"
  }
 },
 "nbformat": 4,
 "nbformat_minor": 2
}
