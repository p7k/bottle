{
 "cells": [
  {
   "cell_type": "code",
   "execution_count": 1,
   "metadata": {},
   "outputs": [],
   "source": [
    "import pandas as pd"
   ]
  },
  {
   "cell_type": "code",
   "execution_count": 2,
   "metadata": {},
   "outputs": [
    {
     "data": {
      "text/plain": [
       "'\\nLoad imt rules\\nLoad metacyc coreactants\\nRemove carbonyl donor coreactant and rules\\ninvolving carbonyl donor\\nSave special files to data\\n'"
      ]
     },
     "execution_count": 2,
     "metadata": {},
     "output_type": "execute_result"
    }
   ],
   "source": [
    "'''\n",
    "Load imt rules\n",
    "Load metacyc coreactants\n",
    "Remove carbonyl donor coreactant and rules\n",
    "involving carbonyl donor\n",
    "Save special files to data\n",
    "'''"
   ]
  },
  {
   "cell_type": "code",
   "execution_count": 3,
   "metadata": {},
   "outputs": [],
   "source": [
    "rules_path = \"./data/rules/JN3604IMT_rules.tsv\"\n",
    "cor_path = \"/home/spn1560/.conda/envs/mine/lib/python3.7/site-packages/minedatabase/data/metacyc_rules/metacyc_coreactants.tsv\"\n",
    "\n",
    "rules_df = pd.read_csv(rules_path, sep='\\t')\n",
    "cor_df = pd.read_csv(cor_path, sep='\\t')"
   ]
  },
  {
   "cell_type": "code",
   "execution_count": 4,
   "metadata": {},
   "outputs": [
    {
     "data": {
      "text/html": [
       "<div>\n",
       "<style scoped>\n",
       "    .dataframe tbody tr th:only-of-type {\n",
       "        vertical-align: middle;\n",
       "    }\n",
       "\n",
       "    .dataframe tbody tr th {\n",
       "        vertical-align: top;\n",
       "    }\n",
       "\n",
       "    .dataframe thead th {\n",
       "        text-align: right;\n",
       "    }\n",
       "</style>\n",
       "<table border=\"1\" class=\"dataframe\">\n",
       "  <thead>\n",
       "    <tr style=\"text-align: right;\">\n",
       "      <th></th>\n",
       "      <th>Name</th>\n",
       "      <th>Reactants</th>\n",
       "      <th>SMARTS</th>\n",
       "      <th>Products</th>\n",
       "      <th>Comments</th>\n",
       "    </tr>\n",
       "  </thead>\n",
       "  <tbody>\n",
       "    <tr>\n",
       "      <th>0</th>\n",
       "      <td>rule0001_01</td>\n",
       "      <td>Any;Any</td>\n",
       "      <td>[#6;$([#6&amp;R]1(-&amp;!@[#8&amp;!R]-&amp;!@[#15&amp;!R](=&amp;!@[#8&amp;...</td>\n",
       "      <td>Any;Any</td>\n",
       "      <td>P97259;P97402;Q08834;Q09328;Q16408;Q3V5L5;Q765...</td>\n",
       "    </tr>\n",
       "    <tr>\n",
       "      <th>1</th>\n",
       "      <td>rule0001_02</td>\n",
       "      <td>Any;Any</td>\n",
       "      <td>[#6;$([#6&amp;R]1(-&amp;!@[#8&amp;!R]-&amp;!@[#15&amp;!R](=&amp;!@[#8&amp;...</td>\n",
       "      <td>Any;Any</td>\n",
       "      <td>A0K8D0;A0KHH6;A0KZ10;A0L8R9;A0Q7X9;A1A7M6;A1K6...</td>\n",
       "    </tr>\n",
       "    <tr>\n",
       "      <th>2</th>\n",
       "      <td>rule0001_03</td>\n",
       "      <td>Any;Any</td>\n",
       "      <td>[#6;$([#6&amp;R]1(-&amp;!@[#8&amp;!R]-&amp;!@[#15&amp;!R](=&amp;!@[#8&amp;...</td>\n",
       "      <td>Any;Any</td>\n",
       "      <td>P0DMP6;P0DMP7;P16442;Q15951;Q1RLK6;Q3USF0;Q5HZ...</td>\n",
       "    </tr>\n",
       "    <tr>\n",
       "      <th>3</th>\n",
       "      <td>rule0001_04</td>\n",
       "      <td>Any;Any</td>\n",
       "      <td>[#6;$([#6&amp;R]1(-&amp;!@[#8&amp;!R]-&amp;!@[#15&amp;!R](=&amp;!@[#8&amp;...</td>\n",
       "      <td>Any;Any</td>\n",
       "      <td>A4IID1;O19071;O77836;P23336;P26572;P27115;P278...</td>\n",
       "    </tr>\n",
       "    <tr>\n",
       "      <th>4</th>\n",
       "      <td>rule0001_05</td>\n",
       "      <td>Any;Any</td>\n",
       "      <td>[#6;$([#6&amp;R]1(-&amp;!@[#8&amp;!R]-&amp;!@[#15&amp;!R](=&amp;!@[#8&amp;...</td>\n",
       "      <td>Any;Any</td>\n",
       "      <td>NaN</td>\n",
       "    </tr>\n",
       "  </tbody>\n",
       "</table>\n",
       "</div>"
      ],
      "text/plain": [
       "          Name Reactants                                             SMARTS  \\\n",
       "0  rule0001_01   Any;Any  [#6;$([#6&R]1(-&!@[#8&!R]-&!@[#15&!R](=&!@[#8&...   \n",
       "1  rule0001_02   Any;Any  [#6;$([#6&R]1(-&!@[#8&!R]-&!@[#15&!R](=&!@[#8&...   \n",
       "2  rule0001_03   Any;Any  [#6;$([#6&R]1(-&!@[#8&!R]-&!@[#15&!R](=&!@[#8&...   \n",
       "3  rule0001_04   Any;Any  [#6;$([#6&R]1(-&!@[#8&!R]-&!@[#15&!R](=&!@[#8&...   \n",
       "4  rule0001_05   Any;Any  [#6;$([#6&R]1(-&!@[#8&!R]-&!@[#15&!R](=&!@[#8&...   \n",
       "\n",
       "  Products                                           Comments  \n",
       "0  Any;Any  P97259;P97402;Q08834;Q09328;Q16408;Q3V5L5;Q765...  \n",
       "1  Any;Any  A0K8D0;A0KHH6;A0KZ10;A0L8R9;A0Q7X9;A1A7M6;A1K6...  \n",
       "2  Any;Any  P0DMP6;P0DMP7;P16442;Q15951;Q1RLK6;Q3USF0;Q5HZ...  \n",
       "3  Any;Any  A4IID1;O19071;O77836;P23336;P26572;P27115;P278...  \n",
       "4  Any;Any                                                NaN  "
      ]
     },
     "execution_count": 4,
     "metadata": {},
     "output_type": "execute_result"
    }
   ],
   "source": [
    "rules_df.head()"
   ]
  },
  {
   "cell_type": "code",
   "execution_count": 5,
   "metadata": {},
   "outputs": [
    {
     "data": {
      "text/plain": [
       "False"
      ]
     },
     "execution_count": 5,
     "metadata": {},
     "output_type": "execute_result"
    }
   ],
   "source": [
    "def has_carbonyl(subs):\n",
    "    if 'CARBONYL_CoF' in set(subs.split(';')):\n",
    "        return True\n",
    "    else:\n",
    "        return False\n",
    "\n",
    "has_carbonyl('Any;Any')"
   ]
  },
  {
   "cell_type": "code",
   "execution_count": 6,
   "metadata": {},
   "outputs": [
    {
     "name": "stdout",
     "output_type": "stream",
     "text": [
      "19\n",
      "26\n"
     ]
    }
   ],
   "source": [
    "print(len(rules_df.loc[rules_df['Reactants'].apply(has_carbonyl)]))\n",
    "print(len(rules_df.loc[(rules_df['Reactants'].apply(has_carbonyl)) | (rules_df['Products'].apply(has_carbonyl))]))"
   ]
  },
  {
   "cell_type": "code",
   "execution_count": 7,
   "metadata": {},
   "outputs": [
    {
     "name": "stdout",
     "output_type": "stream",
     "text": [
      "3604\n",
      "3578\n"
     ]
    }
   ],
   "source": [
    "print(len(rules_df))\n",
    "drop_ind = rules_df[rules_df['Reactants'].apply(has_carbonyl) | (rules_df['Products'].apply(has_carbonyl))].index\n",
    "rules_df.drop(drop_ind, inplace=True)\n",
    "print(len(rules_df))"
   ]
  },
  {
   "cell_type": "code",
   "execution_count": 8,
   "metadata": {},
   "outputs": [
    {
     "name": "stdout",
     "output_type": "stream",
     "text": [
      "45\n",
      "44\n"
     ]
    }
   ],
   "source": [
    "print(len(cor_df))\n",
    "cor_df.drop(18, inplace=True)\n",
    "print(len(cor_df))"
   ]
  },
  {
   "cell_type": "code",
   "execution_count": 9,
   "metadata": {},
   "outputs": [],
   "source": [
    "# Save\n",
    "rules_out = \"./data/rules/JN3604IMT_rules_carbonyl_free.tsv\"\n",
    "cor_out = \"./data/rules/metacyc_coreactants_carbonyl_free.tsv\"\n",
    "rules_df.to_csv(rules_out, sep='\\t', index=False)\n",
    "cor_df.to_csv(cor_out, sep='\\t', index=False)"
   ]
  }
 ],
 "metadata": {
  "kernelspec": {
   "display_name": "mine",
   "language": "python",
   "name": "python3"
  },
  "language_info": {
   "codemirror_mode": {
    "name": "ipython",
    "version": 3
   },
   "file_extension": ".py",
   "mimetype": "text/x-python",
   "name": "python",
   "nbconvert_exporter": "python",
   "pygments_lexer": "ipython3",
   "version": "3.7.13"
  }
 },
 "nbformat": 4,
 "nbformat_minor": 2
}
